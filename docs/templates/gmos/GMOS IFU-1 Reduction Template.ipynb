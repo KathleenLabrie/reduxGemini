{
 "metadata": {
  "name": "",
  "signature": "sha256:5734bdf6ceae771880533eb07da34fb2aa612e7ceeb831e6f7fe4e6ec9a0656f"
 },
 "nbformat": 3,
 "nbformat_minor": 0,
 "worksheets": [
  {
   "cells": [
    {
     "cell_type": "heading",
     "level": 1,
     "metadata": {},
     "source": [
      "GMOS IFU-1 Reduction for Target_Name"
     ]
    },
    {
     "cell_type": "markdown",
     "metadata": {},
     "source": [
      "----\n",
      "Science Dataset:\n",
      "----------------\n",
      "\n",
      "<table>\n",
      "    <tr><td> <strong>Observation UT date(s)</strong> </td> <td>YYYY Mon dd</td></tr>\n",
      "    <tr><td> <strong>Data filename prefix(es)</strong> </td><td>NYYYYMMddS</td></tr>\n",
      "</table>\n",
      "<br>\n",
      "**File numbers:**\n",
      "Adjust the file numbers and ranges, and other observation information.\n",
      "<table>\n",
      "    <tr><td>**Central wavelength = 600nm**</td><tr>\n",
      "    <tr><td>Science</td>           <td>154-155  </td><td>(600nm, binning x=2, y=1, 900s)</td></tr>\n",
      "    <tr><td>Flat </td>             <td>153      </td><td>(600nm, binning x=2, y=1, 90s)</td></tr>\n",
      "    <tr><td>Arc </td>              <td>152      </td><td>(600nm, binning x=2, y=1, 60s)</td></tr>\n",
      "    <tr><td>**Central wavelength = 590nm**</td><tr>\n",
      "    <tr><td>Science</td>           <td>156-157  </td><td>(590nm, binning x=2, y=1, 900s)</td></tr>\n",
      "    <tr><td>Flat </td>             <td>158      </td><td>(590nm, binning x=2, y=1, 90s)</td></tr>\n",
      "    <tr><td>Arc </td>              <td>159      </td><td>(590nm, binning x=2, y=1, 60s)</td></tr>\n",
      "</table>\n",
      "\n",
      "Standard Dataset:\n",
      "-----------------\n",
      "\n",
      "Adjust the information to match your standard star.  See the Standard Star notebook template.\n",
      "\n",
      "<table>\n",
      "<tr><td> Name: </td><td>Feige 6</td></tr>\n",
      "<tr><td> Central Wavelength: </td><td>590nm</td></tr>\n",
      "</table>\n",
      "<table>\n",
      "    <tr><td> <strong>Observation UT date</strong> </td> <td>YYYY Mon dd</td></tr>\n",
      "    <tr><td> <strong>Data filename prefix</strong> </td><td>NYYYYMMddS</td></tr>\n",
      "</table>\n",
      "\n",
      "**Reduced File name:**\n",
      "<table>\n",
      "    <tr><td>Reduced Standard Star (Feige 6) </td>\n",
      "        <td>...NYYYYMMddS####.fits </td>\n",
      "        <td> (590nm, binning x=2, y=1, 30s)</td>\n",
      "    </tr>\n",
      "</table>\n",
      "\n",
      "----"
     ]
    },
    {
     "cell_type": "heading",
     "level": 2,
     "metadata": {},
     "source": [
      "STEP 0: Define variables specific to this target and start parallel PyRAF session."
     ]
    },
    {
     "cell_type": "markdown",
     "metadata": {},
     "source": [
      "The directory paths are assumed to match this structure:\n",
      "\n",
      "    program_rootdir\n",
      "        - calibproducts\n",
      "            - standards\n",
      "                - stdname_long\n",
      "                - stdname_long\n",
      "        - raw\n",
      "        - stdname_long\n",
      "            - README\n",
      "            - redux\n",
      "        - targetname_long\n",
      "            - README\n",
      "            - redux\n",
      "                - night1_YYYYMMdd\n",
      "                - night2_YYYYMMdd\n",
      "                ...\n",
      "            - products\n",
      "                - night1_YYYYMMdd\n",
      "                - night2_YYYYMMdd\n",
      "                ...\n",
      "                - all\n",
      "                - science\n",
      "        - targetname_long\n",
      "        ...\n",
      "                "
     ]
    },
    {
     "cell_type": "code",
     "collapsed": false,
     "input": [
      "import os\n",
      "import os.path\n",
      "\n",
      "#WARNING:  Make sure that the directory structure is already in place.\n",
      "\n",
      "# TODO: Create the directory here, would be more user-friendly.\n",
      "\n",
      "# EDIT HERE - Target and standard names, and observation dates\n",
      "targetname_long = 'SDSSJ134640.79+522836.5'\n",
      "targetname_short = '134640'\n",
      "night1 = 'night1_YYYYMMdd'\n",
      "#night2 = 'night2_YYYYMMdd'\n",
      "stdname_long = 'Feige6'\n",
      "\n",
      "# EDIT HERE - Directories\n",
      "program_rootdir = '/Volumes/Rugged2/GN-2015B-Q-50/\n",
      "\n",
      "# EDIT HERE - File numbers and central wavelengths\n",
      "observations = {\n",
      "    'night1' : {\n",
      "        '600nm' : {\n",
      "            'sciroot' = 'SYYYYMMddS',\n",
      "            'sciframes' : '154-155',\n",
      "            'flatroot' = 'SYYYYMMddS',\n",
      "            'flatframes' : '153',\n",
      "            'arcroot' = 'SYYYYMMddS',\n",
      "            'arcframes' : '152'             \n",
      "            },\n",
      "        '590nm' : {\n",
      "            'sciroot' = 'SYYYYMMddS',\n",
      "            'sciframes' : '156-157',\n",
      "            'flatroot' = 'SYYYYMMddS',\n",
      "            'flatframes' : '158',\n",
      "            'arcroot' = 'SYYYYMMddS',\n",
      "            'arcframes' : '159'\n",
      "            }\n",
      "    },\n",
      "    #'night2' :\n",
      "}\n",
      "logfiles = { '600nm' = targetname_short + '600nm.log',\n",
      "             '590nm' = targetname_short + '590nm.log' }\n",
      "databases = { '600nm' = targetname_short + '600nm_database/',\n",
      "              '590nm' = targetname_short + '590nm_database/' }\n",
      "\n",
      "\n",
      "\n",
      "# Automatically set directories and other variables from info above.\n",
      "raw_dir = os.path.join(program_rootdir,'raw')\n",
      "redux_dir = os.path.join(program_rootdir, targetname_long, 'redux')\n",
      "night_dirs = { 'night1' : os.path.join(redux_dir, night1),\n",
      "               #'night2' : os.path.join(redux_dir, night2)\n",
      "             }"
     ],
     "language": "python",
     "metadata": {},
     "outputs": []
    },
    {
     "cell_type": "heading",
     "level": 4,
     "metadata": {},
     "source": [
      "Now get a PyRAF session ready.  This will be needed for some interactive tasks that don't work well in the notebook. "
     ]
    },
    {
     "cell_type": "markdown",
     "metadata": {},
     "source": [
      "Open an xtern or a Terminal, then:\n",
      "\n",
      "    cd '/Volumes/Rugged2/GS-2013B-Q-73/SDSSJ005918.23+002519.7/test_notebook/reduxHK'\n",
      "    pyraf"
     ]
    },
    {
     "cell_type": "markdown",
     "metadata": {},
     "source": [
      "Then in the PyRAF session:\n",
      "\n",
      "    gemini\n",
      "    f2\n",
      "    unlearn gemini\n",
      "    unlearn f2\n",
      "    unlearn gnirs\n",
      "    unlearn gemtools"
     ]
    },
    {
     "cell_type": "markdown",
     "metadata": {},
     "source": [
      "Get your PyRAF configured.  In the PyRAF session:\n",
      "\n",
      "    iraf.f2.logfile = \"HK005918.log\"\n",
      "    iraf.f2.database = \"HK005918_database/\"\n",
      "    set rawdir = \"../../../raw/\"\n",
      "    set stdimage=imt2048\n",
      "    nsheaders('f2', logfile=iraf.f2.logfile)"
     ]
    },
    {
     "cell_type": "code",
     "collapsed": false,
     "input": [
      "os.chdir(night_dirs['night1'])"
     ],
     "language": "python",
     "metadata": {},
     "outputs": []
    }
   ],
   "metadata": {}
  }
 ]
}