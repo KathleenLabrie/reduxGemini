{
 "metadata": {
  "name": "",
  "signature": "sha256:cdcb81bd6ff632c5cd31c9f606d08f8628eb0bb7ba4e040e306f4ba65d929375"
 },
 "nbformat": 3,
 "nbformat_minor": 0,
 "worksheets": [
  {
   "cells": [
    {
     "cell_type": "heading",
     "level": 1,
     "metadata": {},
     "source": [
      "F2 Longslit HK Reduction of SDSSJ005918-20131026"
     ]
    },
    {
     "cell_type": "markdown",
     "metadata": {},
     "source": [
      "----\n",
      "Science Dataset:\n",
      "----------------\n",
      "\n",
      "<table>\n",
      "    <tr><td> <strong>Observation UT date</strong> </td> <td>2013 Oct 26, \\*2013 Oct 24</td></tr>\n",
      "    <tr><td> <strong>Data filename prefix</strong> </td><td>S20131026S, \\*S20131024S</td></tr>\n",
      "</table>\n",
      "<br>\n",
      "**File numbers:**\n",
      "<table>\n",
      "    <tr><td>Science </td>          <td>681-684 (HK, HK, 2pix-slit, 90s)</td></tr>\n",
      "    <tr><td>Darks for science </td><td>797-803 (90s)</td></tr>\n",
      "    <tr><td>Flat </td>             <td>686     (HK, HK, 2pix-slit, 4s)</td></tr>\n",
      "    <tr><td>Darks for flat </td>   <td>\\*032-037 (4s)</td></tr>\n",
      "    <tr><td>Arc </td>              <td>685     (HK, HK, 2pix-slit, 90s)</td></tr>\n",
      "    <tr><td>Darks for arc </td>    <td>797-803 (90s)</td></tr>\n",
      "</table>\n",
      "\n",
      "Telluric Dataset:\n",
      "-----------------\n",
      "\n",
      "<font color=red>WARNING: This is the wrong telluric.  Do not use for science.  But it is a heck of a good training set for when things go wrong.</font>\n",
      "<br \\>\n",
      "\n",
      "<table>\n",
      "<tr><td> Name: </td><td>HIP 1378</td></tr>\n",
      "<tr><td> Spectral Type: </td><td>B9V</td></tr>\n",
      "<tr><td> Temperature: </td><td>$10700 K$</td></tr>\n",
      "<tr><td> Airmass: </td><td>1.848</td></tr>\n",
      "<tr><td> Airmass Science: </td><td>1.465</td></tr>\n",
      "<tr><td> Delta Time: </td><td>+50 min</td></tr>\n",
      "</table>\n",
      "<table>\n",
      "    <tr><td> <strong>Observation UT date</strong> </td> <td>2013 Oct 26, \\*2013 Oct 24, \\*\\*2013 Oct 25</td></tr>\n",
      "    <tr><td> <strong>Data filename prefix</strong> </td><td>S20131026S, \\*S20131024S, \\*\\*S20131025S</td></tr>\n",
      "</table>\n",
      "\n",
      "**File numbers:**\n",
      "<table>\n",
      "    <tr><td>Telluric (HIP 1378) </td><td>699-702 (HK, HK, 2pix-slit, 30s)</td></tr>\n",
      "    <tr><td>Darks for telluric </td> <td>\\*\\*401-406 (30s)</td></tr>\n",
      "    <tr><td>Flat </td>               <td>686     (HK, HK, 2pix-slit, 4s)</td></tr>\n",
      "    <tr><td>Darks for flat </td>     <td>\\*032-037 (4s)</td></tr>\n",
      "    <tr><td>Arc </td>                <td>685     (HK, HK, 2pix-slit, 90s)</td></tr>\n",
      "    <tr><td>Darks for arc </td>      <td>797-803 (90s)</td></tr>\n",
      "</table>\n",
      "\n",
      "----"
     ]
    },
    {
     "cell_type": "heading",
     "level": 2,
     "metadata": {},
     "source": [
      "STEP 0: Define variables specific to this target and start parallel PyRAF session."
     ]
    },
    {
     "cell_type": "code",
     "collapsed": false,
     "input": [
      "import os\n",
      "redux_dir = '/Volumes/Rugged2/GS-2013B-Q-73/SDSSJ005918.23+002519.7/test_notebook/reduxHK'\n",
      "os.chdir(redux_dir)\n",
      "\n",
      "logfile = \"HK005918.log\"\n",
      "database = \"HK005918_database/\"\n",
      "raw_data_path = \"../../../raw/\"\n",
      "flatroot = \"S20131026S\" ; flats = \"686\"\n",
      "flatdarkroot = \"S20131024S\" ; flatdarks = \"032-037\"\n",
      "arcroot = \"S20131026S\" ; arcs = \"685\"\n",
      "arcdarkroot = \"S20131026S\" ; arcdarks = \"797-803\"\n",
      "objroot = \"S20131026S\" ; objs = \"681-684\"\n",
      "objdarkroot = \"S20131026S\" ; objdarks = \"797-803\"\n",
      "telroot = \"S20131026S\" ; tels = \"699-702\"\n",
      "teldarkroot = \"S20131025S\" ; teldarks = \"401-406\"\n",
      "\n",
      "lxorder=3 ; lyorder=6  # used by nsfitcoords.  \n",
      "                       # Values are determine in Step 8."
     ],
     "language": "python",
     "metadata": {},
     "outputs": []
    },
    {
     "cell_type": "heading",
     "level": 4,
     "metadata": {},
     "source": [
      "Now get a PyRAF session ready.  This will be needed for some interactive tasks that don't work well in the notebook. "
     ]
    },
    {
     "cell_type": "markdown",
     "metadata": {},
     "source": [
      "Open an xtern or a Terminal, then:\n",
      "\n",
      "    cd '/Volumes/Rugged2/GS-2013B-Q-73/SDSSJ005918.23+002519.7/test_notebook/reduxHK'\n",
      "    pyraf"
     ]
    },
    {
     "cell_type": "markdown",
     "metadata": {},
     "source": [
      "Then in the PyRAF session:\n",
      "\n",
      "    gemini\n",
      "    f2\n",
      "    unlearn gemini\n",
      "    unlearn f2\n",
      "    unlearn gnirs\n",
      "    unlearn gemtools"
     ]
    },
    {
     "cell_type": "markdown",
     "metadata": {},
     "source": [
      "Get your PyRAF configured.  In the PyRAF session:\n",
      "\n",
      "    iraf.f2.logfile = \"HK005918.log\"\n",
      "    iraf.f2.database = \"HK005918_database/\"\n",
      "    set rawdir = \"../../../raw/\"\n",
      "    set stdimage=imt2048\n",
      "    nsheaders('f2', logfile=iraf.f2.logfile)"
     ]
    },
    {
     "cell_type": "heading",
     "level": 2,
     "metadata": {},
     "source": [
      "STEP 1: Initialize the required packages"
     ]
    },
    {
     "cell_type": "heading",
     "level": 4,
     "metadata": {},
     "source": [
      "Launch ds9 before proceeding further."
     ]
    },
    {
     "cell_type": "heading",
     "level": 4,
     "metadata": {},
     "source": [
      "Load the packages required for the notebook session."
     ]
    },
    {
     "cell_type": "code",
     "collapsed": false,
     "input": [
      "from pyraf import iraf\n",
      "iraf.gemini()\n",
      "iraf.f2()"
     ],
     "language": "python",
     "metadata": {},
     "outputs": []
    },
    {
     "cell_type": "markdown",
     "metadata": {},
     "source": [
      "Reset tasks to the default parameters.  (Note: this doesn't seem to be working from the Python shell.)"
     ]
    },
    {
     "cell_type": "code",
     "collapsed": false,
     "input": [
      "iraf.unlearn(iraf.gemini, iraf.f2, iraf.gnirs, iraf.gemtools)"
     ],
     "language": "python",
     "metadata": {},
     "outputs": []
    },
    {
     "cell_type": "heading",
     "level": 2,
     "metadata": {},
     "source": [
      "STEP 2: Define various parameters and variables."
     ]
    },
    {
     "cell_type": "code",
     "collapsed": false,
     "input": [
      "iraf.f2.logfile = logfile\n",
      "iraf.f2.database = database\n",
      "rawdir = raw_data_path\n",
      "iraf.set(stdimage='imt2048')\n",
      "\n",
      "iraf.nsheaders('f2', logfile=iraf.f2.logfile)"
     ],
     "language": "python",
     "metadata": {},
     "outputs": []
    },
    {
     "cell_type": "markdown",
     "metadata": {},
     "source": [
      "*If necessary to start from scratch, delete the log file and the database.*"
     ]
    },
    {
     "cell_type": "code",
     "collapsed": false,
     "input": [
      "if (iraf.access(iraf.f2.logfile)):\n",
      "    iraf.delete(iraf.f2.logfile, verify='no')\n",
      "if (iraf.access(iraf.f2.database)):\n",
      "    iraf.delete(iraf.f2.database + '*', verify='no')"
     ],
     "language": "python",
     "metadata": {},
     "outputs": []
    },
    {
     "cell_type": "heading",
     "level": 2,
     "metadata": {},
     "source": [
      "STEP 3: Create the reduction lists"
     ]
    },
    {
     "cell_type": "code",
     "collapsed": false,
     "input": [
      "iraf.delete('flat.lis, flatdark.lis, arc.lis, arcdark.lis, obj.lis, objdark.lis, \\\n",
      "    tel.lis, teldark.lis', verify='no')\n",
      "\n",
      "iraf.gemlist(flatroot, flats, Stdout='flat.lis')\n",
      "iraf.gemlist(flatdarkroot, flatdarks, Stdout='flatdark.lis')\n",
      "iraf.gemlist(arcroot, arcs, Stdout='arc.lis')\n",
      "iraf.gemlist(arcdarkroot, arcdarks, Stdout='arcdark.lis')\n",
      "iraf.gemlist(objroot, objs, Stdout='obj.lis')\n",
      "iraf.gemlist(objdarkroot, objdarks, Stdout='objdark.lis')\n",
      "iraf.gemlist(telroot, tels, Stdout='tel.lis')\n",
      "iraf.gemlist(teldarkroot, teldarks, Stdout='teldark.lis')\n",
      "\n",
      "iraf.concat('flat.lis, flatdark.lis, arc.lis, arcdark.lis, obj.lis, objdark.lis, \\\n",
      "    tel.lis, teldark.lis', 'all.lis')\n",
      "\n",
      "# remove duplicates\n",
      "all_file = open('all.lis', 'r')\n",
      "all_lines = all_file.readlines()\n",
      "all_file.close()\n",
      "lines_seen = list()\n",
      "for line in all_lines:\n",
      "    if line not in lines_seen:\n",
      "        lines_seen.append(line)\n",
      "all_file = open('all.lis', 'w')\n",
      "all_file.writelines(lines_seen)\n",
      "all_file.close()\n"
     ],
     "language": "python",
     "metadata": {},
     "outputs": []
    },
    {
     "cell_type": "heading",
     "level": 2,
     "metadata": {},
     "source": [
      "STEP 4: Visually inspect the data"
     ]
    },
    {
     "cell_type": "code",
     "collapsed": false,
     "input": [
      "all_file = open('all.lis', 'r')\n",
      "for line in all_file:\n",
      "    image = line.strip() + '[1]'\n",
      "    print image\n",
      "    iraf.display(rawdir + image, 1)\n",
      "    iraf.sleep(5)\n",
      "    \n",
      "all_file.close()"
     ],
     "language": "python",
     "metadata": {},
     "outputs": []
    },
    {
     "cell_type": "heading",
     "level": 2,
     "metadata": {},
     "source": [
      "STEP 5: f2prepare all the data"
     ]
    },
    {
     "cell_type": "code",
     "collapsed": false,
     "input": [
      "iraf.imdelete('f@all.lis', verify='no')\n",
      "iraf.f2prepare('@all.lis', rawpath=rawdir, fl_vardq='yes', fl_correct='yes', \\\n",
      "               fl_saturated='yes', fl_nonlinear='yes')"
     ],
     "language": "python",
     "metadata": {},
     "outputs": []
    },
    {
     "cell_type": "heading",
     "level": 2,
     "metadata": {},
     "source": [
      "STEP 6:  Create the necessary dark frames"
     ]
    },
    {
     "cell_type": "code",
     "collapsed": false,
     "input": [
      "iraf.delete('fflatdark.lis', verify='no')\n",
      "iraf.imdelete('flatdark.fits', verify='no')\n",
      "iraf.sections('f@flatdark.lis', Stdout='fflatdark.lis')\n",
      "iraf.gemcombine('@fflatdark.lis', 'flatdark.fits', combine='average', \\\n",
      "    fl_vardq='yes', logfile=iraf.f2.logfile)\n",
      "\n",
      "iraf.delete('farcdark.lis', verify='no')\n",
      "iraf.imdelete('arcdark.fits', verify='no')\n",
      "iraf.sections('f@arcdark.lis', Stdout='farcdark.lis')\n",
      "iraf.gemcombine('@farcdark.lis', 'arcdark.fits', combine='average', \\\n",
      "    fl_vardq='yes', logfile=iraf.f2.logfile)\n",
      "\n",
      "iraf.delete('fobjdark.lis', verify='no')\n",
      "iraf.imdelete('objdark.fits', verify='no')\n",
      "iraf.sections('f@objdark.lis', Stdout='fobjdark.lis')\n",
      "iraf.gemcombine('@fobjdark.lis', 'objdark.fits', combine='average', \\\n",
      "    fl_vardq='yes', logfile=iraf.f2.logfile)\n",
      "\n",
      "iraf.delete('fteldark.lis', verify='no')\n",
      "iraf.imdelete('teldark.fits', verify='no')\n",
      "iraf.sections('f@teldark.lis', Stdout='fteldark.lis')\n",
      "iraf.gemcombine('@fteldark.lis', 'teldark.fits', combine='average', \\\n",
      "    fl_vardq='yes', logfile=iraf.f2.logfile)\n"
     ],
     "language": "python",
     "metadata": {},
     "outputs": []
    },
    {
     "cell_type": "heading",
     "level": 2,
     "metadata": {},
     "source": [
      "STEP 7:  Create the normalized flat field and BPM."
     ]
    },
    {
     "cell_type": "heading",
     "level": 3,
     "metadata": {},
     "source": [
      "Subtract the dark from the flat images then cut"
     ]
    },
    {
     "cell_type": "code",
     "collapsed": false,
     "input": [
      "iraf.imdelete ('df@flat.lis', verify='no')\n",
      "\n",
      "file = open('flat.lis', 'r')\n",
      "for line in file:\n",
      "\timage = line.strip()\n",
      "\tiraf.gemarith ('f' + image, '-', 'flatdark.fits', 'df' + image, \\\n",
      "\t\tfl_vardq='yes', logfile=iraf.f2.logfile)\n",
      "\n",
      "file.close()\n",
      "\n",
      "iraf.imdelete ('cdf@flat.lis', verify='no')\n",
      "iraf.f2cut ('df@flat.lis')"
     ],
     "language": "python",
     "metadata": {},
     "outputs": []
    },
    {
     "cell_type": "heading",
     "level": 3,
     "metadata": {},
     "source": [
      "Construct the normalised flat field.  "
     ]
    },
    {
     "cell_type": "markdown",
     "metadata": {},
     "source": [
      "The flats are derived from images taken with the calibration unit (GCAL) shutter open (\"lamps-on\").  It is recommended to run <code>nsflat</code> interactively to ensure a good fit of the lamp's profile.\n",
      "\n",
      "The fit order must be high enough to fit the lamp's profile but not too high since we do not want to fit the variations due to the pixel to pixel variation.  For the HK filter, the fit should look like in the screenshots below.  Note that in the zoomed plot, the fit matches the overall profile, not the high frequency variations.\n",
      "\n",
      "The overall fit:  \n",
      "\n",
      "![nsflat_fit](screenshots/nsflat_fit.png)\n",
      "\n",
      "<br \\>\n",
      "Zooming in to confirm that the high frequency signal is not being fit:  \n",
      "\n",
      "![nsflat_fit_zoom](screenshots/nsflat_fit_zoom.png)"
     ]
    },
    {
     "cell_type": "markdown",
     "metadata": {},
     "source": [
      "If the order needs to be changed, the <code>:order</code> command will be required and that does not work well in the iPython notebook.  So copy the following to the PyRAF we prepared earlier, and find a good fit.\n",
      "\n",
      "    iraf.imdelete('flat.fits,f2_ls_bpm.pl', verify='no')\n",
      "    iraf.nsflat('cdf@flat.lis', flatfile='flat.fits', \\\n",
      "        bpmfile='f2_ls_bpm.pl', thr_flo=0.35, thr_fup=3.0, \\\n",
      "        fl_inter='yes', order=120)\n",
      "        "
     ]
    },
    {
     "cell_type": "heading",
     "level": 2,
     "metadata": {},
     "source": [
      "STEP 8:  Reduce the arc and determine the wavelength solution"
     ]
    },
    {
     "cell_type": "markdown",
     "metadata": {},
     "source": [
      "The wavelength solution is derived from an arc taken right after the science observation, before anything is moved (eg. grating, slit, etc.)\n",
      "\n",
      "If we are lucky, the arc will also work for the telluric observation.  However, as we will see later for this target, when things in the optical path are moved, the arc might not be work at all.\n",
      "\n",
      "If the optical path moved such that the science arc solution cannot be applied, and no arcs were taken with the telluric, one might be able to use OH sky lines in the telluric.  The exposure would have to be long enough to get good signal on the OH lines.  The coverage of the OH lines is not as complete as the arc, but it might be the only solution.  \n",
      "\n",
      "In any case, we will reduce the arc and calculate the wavelength solution as this is what we surely be using for the science observations.\n",
      "\n",
      "The wavelength solution step really should be done in interactive mode as it is not uncommon to have to reject lines and/or adjust the matches with the line list."
     ]
    },
    {
     "cell_type": "heading",
     "level": 3,
     "metadata": {},
     "source": [
      "Reduce the arc"
     ]
    },
    {
     "cell_type": "code",
     "collapsed": false,
     "input": [
      "# Subtract the dark from the arc images prior to cutting and flat dividing.\n",
      "\n",
      "iraf.imdelete('df@arc.lis', verify='no')\n",
      "iraf.nsreduce('f@arc.lis', outprefix='d', fl_cut='no', fl_process_cut='no', \\\n",
      "    fl_dark='yes', darkimage='arcdark.fits', fl_sky='no', fl_flat='no')\n",
      "\n",
      "# Cut the arc images and divide by the normalised flat field image.\n",
      "\n",
      "iraf.imdelete('rdf@arc.lis', verify='no')\n",
      "iraf.nsreduce('df@arc.lis', fl_cut='yes', fl_dark='no', fl_sky='no', fl_flat='yes', \\\n",
      "    flatimage='flat.fits')\n",
      "\n",
      "# Combine the arc files (if there is more than one arc file)\n",
      "\n",
      "iraf.imdelete('arc.fits', verify='no')\n",
      "iraf.delete('rdfarc.lis', verify='no')\n",
      "iraf.sections('rdf@arc.lis//.fits', Stdout='rdfarc.lis')\n",
      "\n",
      "count = 0\n",
      "file = open('arc.lis', 'r')\n",
      "for line in file:\n",
      "\tcount += 1\n",
      "\n",
      "if count == 1:\n",
      "\tiraf.copy ('@rdfarc.lis', 'arc.fits')\n",
      "else:\n",
      "\tiraf.gemcombine ('@rdfarc.lis', 'arc.fits', fl_vardq='yes')\n",
      "\n",
      "file.close()\n",
      "print 'Done'"
     ],
     "language": "python",
     "metadata": {},
     "outputs": []
    },
    {
     "cell_type": "heading",
     "level": 3,
     "metadata": {},
     "source": [
      "Determine the wavelength solution from the arc"
     ]
    },
    {
     "cell_type": "markdown",
     "metadata": {},
     "source": [
      "Normally, the lines will be identified automatically and this step, while interactive is used to delete a couple outliers and visually confirm that the fit is good.\n",
      "\n",
      "If, for some reason (it can happen), the lines do not get identified automatically and they need to be marked manually, you will need to run the two commands below in the PyRAF sessions since you will need full interactive support.  But most of the time, running this in the notebook works okay."
     ]
    },
    {
     "cell_type": "code",
     "collapsed": false,
     "input": [
      "iraf.imdelete ('warc.fits', verify='no')\n",
      "iraf.nswavelength ('arc.fits', fl_inter='yes')"
     ],
     "language": "python",
     "metadata": {},
     "outputs": []
    },
    {
     "cell_type": "heading",
     "level": 2,
     "metadata": {},
     "source": [
      "Test recovery of a calibrated arc"
     ]
    },
    {
     "cell_type": "markdown",
     "metadata": {},
     "source": [
      "This step is to confirm that if we apply the wavelength solution to the arc itself, we do recover a correctly wavelength-calibrated arc.  The key step is **<code>nsfitcoords</code>**.  The default **<code>lxorder</code>** and **<code>lyorder</code>** are both set to 2 which doesn't seem to be correct.  Running **<code>nsfitcoords</code>** interactively on the arc will allow us to discover the best **<code>lxorder</code>** and **<code>lyorder</code>** for this wavelength solution, and use that as a starting point later when using the arc wavelength solution (**<code>warc.fits</code>**) on the telluric and the science."
     ]
    },
    {
     "cell_type": "markdown",
     "metadata": {},
     "source": [
      "Interactive IRAF tasks don't work very well from the iPython Notebook.  This is a case where we need to use PyRAF directly.  Cut and paste these instructions in the PyRAF session that we prepared in Step 0. \n",
      "\n",
      "    iraf.imdelete('farc.fits', verify='no')\n",
      "    iraf.nsfitcoords('arc.fits', lamptransf='warc.fits', fl_inter='yes')\n",
      "    # Note down the xorder and yorder needed for a good fit.  Use\n",
      "    # that whenever warc.fits is used by nsfitcoords.\n",
      "    # :xorder 3, :yorder 6\n",
      "\n",
      "The default <code>xorder</code> and <code>yorder</code> are 2 and 2.  Below is the residual plot one gets with those defaults: the residuals are large and show a pattern, clearly indicating that the fit is not good at all.\n",
      "![xyorder22](screenshots/xyorder22.png)\n",
      "\n",
      "<br \\>\n",
      "Adjusting the <code>xorder</code> to 3, tightens the x-residuals.\n",
      "![xyorder32](screenshots/xyorder32.png)\n",
      "\n",
      "<br \\>\n",
      "Finally, adjusting the <code>yorder</code> to 6, reduce the y-residuals within acceptable limits and remove the big wave pattern.\n",
      "![xyorder36](screenshots/xyorder36.png)"
     ]
    },
    {
     "cell_type": "markdown",
     "metadata": {},
     "source": [
      "Record the lxorder and lyorder in the notebook session for future use."
     ]
    },
    {
     "cell_type": "code",
     "collapsed": false,
     "input": [
      "lxorder=3 ; lyorder=6"
     ],
     "language": "python",
     "metadata": {},
     "outputs": []
    },
    {
     "cell_type": "markdown",
     "metadata": {},
     "source": [
      "Now continue with the test."
     ]
    },
    {
     "cell_type": "code",
     "collapsed": false,
     "input": [
      "iraf.imdelete('tfarc.fits', verify='no')\n",
      "iraf.nstransform('farc.fits')\n",
      "iraf.display('tfarc.fits[sci,1]', 1)\n",
      "\n",
      "# display the first telluric to identify on which column the spectrum falls in\n",
      "# the A position.\n",
      "first_tel = iraf.head('tel.lis', nlines=1, Stdout=1)[0].strip()\n",
      "iraf.display('f'+first_tel+'[1]', 1)\n",
      "# position of the telluric is column 928\n",
      "tel_position = 928\n",
      "\n",
      "iraf.splot('tfarc.fits[sci,1]', line=iraf.tel_position, options=\"flip\")"
     ],
     "language": "python",
     "metadata": {},
     "outputs": []
    },
    {
     "cell_type": "markdown",
     "metadata": {},
     "source": [
      "Check that the arc lines are at the correct wavelength. Use '<code>k</code>' on each side of the a line to get the centroid. Then compare with the line list and the diagrams.\n",
      "\n",
      "Resource:  \n",
      "    http://www.gemini.edu/sciops/instruments/niri/?q=node/10166\n",
      "\n",
      "The NIRI plots from that webpage work well.\n",
      "\n",
      "*Result: (Kathleen)\n",
      "The arc gets transformed correctly with lxorder=3, lyorder=6.  The lines are within 1-2 Angstroms of the expected values. Note that the shape of the arc lines is not symmetric.  No idea why, but it surely affects centering.  Bottom line is that with the proper lxorder and lyorder, the wavelength solution leads to a good calibration.*"
     ]
    },
    {
     "cell_type": "heading",
     "level": 2,
     "metadata": {},
     "source": [
      "STEP 9: Reduce the telluric standard dataset"
     ]
    },
    {
     "cell_type": "code",
     "collapsed": false,
     "input": [
      "iraf.imdelete('df@tel.lis', verify='no')\n",
      "iraf.nsreduce('f@tel.lis', outprefix='d', fl_cut='no', fl_process_cut='no', \\\n",
      "    fl_dark='yes', darkimage='teldark.fits', fl_sky='no', fl_flat='no')\n",
      "\n",
      "iraf.imdelete('rdf@tel.lis', verify='no')\n",
      "iraf.nsreduce('df@tel.lis', fl_cut='yes', fl_dark='no', fl_sky='yes', \\\n",
      "    fl_flat='yes', flatimage='flat.fits')\n"
     ],
     "language": "python",
     "metadata": {},
     "outputs": []
    },
    {
     "cell_type": "heading",
     "level": 2,
     "metadata": {},
     "source": [
      "STEP 10:  Combine the reduced telluric datasets"
     ]
    },
    {
     "cell_type": "code",
     "collapsed": false,
     "input": [
      "iraf.imdelete('tel_comb.fits', verify='no')\n",
      "iraf.nscombine('rdf@tel.lis', output='tel_comb.fits', fl_shiftint='no', fl_cross='yes')\n",
      "\n",
      "iraf.display('tel_comb.fits[SCI,1]', 1)\n"
     ],
     "language": "python",
     "metadata": {},
     "outputs": []
    },
    {
     "cell_type": "heading",
     "level": 2,
     "metadata": {},
     "source": [
      "STEP 11:  Wavelength calibrate the telluric data"
     ]
    },
    {
     "cell_type": "markdown",
     "metadata": {},
     "source": [
      "As it turns out, this step can be tricky.  Theorically, the arc taken with the science should be fine if the telluric is taken just after the science and the optical path is identical.  Unfortunately, we have found that the optical path can vary, leading to the telluric being offset from the science.  This effect was indeed observed for this target.  Below, we document the whole process that led to the discovery of the problem and to the solution.  Note that from now on (circa Sep 2014), an arc will be observed with the telluric; Ruben Diaz has modified the OT library accordingly.\n",
      "\n",
      "We first (Option 1) use the arc that was taken with the science and inspect the results.  Then (Option 2)we look at the OH sky lines to investigate the problem and measure the offset.  That offset is applied to wavelength solution and that translated solution is applied to the telluric.  We find that the results are good.  Finally (Option 3), since the sky lines are quite strong, we use the sky lines to calculate a new wavelength solution and use that solution on the telluric.  We find that the results are very good, and that will be the solution used for science.\n",
      "\n",
      "The key tasks used for this step are:\n",
      "\n",
      "* (<code>nswavelength</code> - Option 3 only: Used to calculate a wavelength solution from the sky lines.)\n",
      "* <code>nsfitcoords</code>:  Used to determine the final 2-D surface solution, based on a previously calculated wavelength solution, to be applied to the data.\n",
      "* <code>nstransform</code>:  Actually applies the 2-D solution found by nsfitcoords to the data.\n",
      "\n",
      "Note that spatial rectification (s-distortion correction) is not needed with F2 longslit data."
     ]
    },
    {
     "cell_type": "heading",
     "level": 3,
     "metadata": {},
     "source": [
      "Option 1: Use the arc taken with the science."
     ]
    },
    {
     "cell_type": "code",
     "collapsed": false,
     "input": [
      "print 'Using lxorder, lyorder = ', lxorder, lyorder\n",
      "iraf.imdelete('ftel_comb.fits', verify='no')\n",
      "iraf.nsfitcoords('tel_comb.fits', lamptransf='warc.fits', \\\n",
      "                 lxorder=lxorder, lyorder=lyorder)\n",
      "\n",
      "iraf.imdelete ('tftel_comb.fits', verify='no')\n",
      "iraf.nstransform ('ftel_comb.fits')"
     ],
     "language": "python",
     "metadata": {},
     "outputs": []
    },
    {
     "cell_type": "markdown",
     "metadata": {},
     "source": [
      "Check that the spectral features (the hydrogen lines in this case) fall where they are supposed to be.\n",
      "\n",
      "Cut an paste these instructions in the PyRAF session.  (The splot interactive '<code>:</code>'-commands do not work well from the notebook.)\n",
      "\n",
      "    iraf.display ('tftel_comb[sci,1]', 1)\n",
      "    # note on which column the telluric falls\n",
      "    iraf.tel_position = 928\n",
      "    \n",
      "    splot (\"tftel_comb[sci,1]\", line=iraf.tel_position)\n",
      "    # :nsum 30\n",
      "    # Use 'k' on each side of the a line to centroid.\n",
      "    # Compare with atonic line list.\n",
      "\n",
      "In this case, one finds that the measured wavelengths of the hydrogen lines in the corrected telluric do NOT match the wavelengths in atomic line list.  The wavelength solution calculated from the arc taken with the science observation CANNOT be used on the telluric.\n",
      "\n",
      "The investigation of what's going on is found in Option 2, below."
     ]
    },
    {
     "cell_type": "heading",
     "level": 3,
     "metadata": {},
     "source": [
      "Option 2: Use the sky lines to measure any offsets and apply offset to arc solution."
     ]
    },
    {
     "cell_type": "heading",
     "level": 4,
     "metadata": {},
     "source": [
      "Measure the offset."
     ]
    },
    {
     "cell_type": "markdown",
     "metadata": {},
     "source": [
      "One telluric frame has strong enough sky lines.  Therefore, we will reduce that frame on its own, but **without** sky subtraction."
     ]
    },
    {
     "cell_type": "code",
     "collapsed": false,
     "input": [
      "first_tel = iraf.head('tel.lis', nlines=1, Stdout=1)[0].strip()\n",
      "iraf.imdelete('Xdf'+first_tel, verify='no')\n",
      "iraf.nsreduce('df'+first_tel, outprefix='X', fl_cut='yes', fl_dark='no', \\\n",
      "              fl_sky='no', fl_flat='yes', flatimage='flat.fits')\n",
      "iraf.display('Xdf'+first_tel+'[sci,1]', 1)\n",
      "# confirm that the sky lines are strong enough."
     ],
     "language": "python",
     "metadata": {},
     "outputs": []
    },
    {
     "cell_type": "markdown",
     "metadata": {},
     "source": [
      "Apply the science arc solution to the non-sky subtracted telluric frame."
     ]
    },
    {
     "cell_type": "code",
     "collapsed": true,
     "input": [
      "print 'Using lxorder, lyorder = ', lxorder, lyorder\n",
      "iraf.imdelete('fXdf'+first_tel, verify='no')\n",
      "iraf.nsfitcoords ('Xdf'+first_tel, lamptransf='warc.fits', \\\n",
      "                  lxorder=lxorder, lyorder=lyorder)\n",
      "\n",
      "iraf.imdelete('tfXdf'+first_tel, verify='no')\n",
      "iraf.nstransform('fXdf'+first_tel)"
     ],
     "language": "python",
     "metadata": {},
     "outputs": []
    },
    {
     "cell_type": "markdown",
     "metadata": {},
     "source": [
      "Use <code>splot</code> to measure the wavelength of the sky lines in the corrected telluric.  Do this in the PyRAF session, not in the notebook.\n",
      "\n",
      "    iraf.splot ('tfXdf'+first_tel+'[sci,1]', line=750)\n",
      "    # line=750 is just somewhere in the middle.\n",
      "    # :nsum 30\n",
      "    "
     ]
    },
    {
     "cell_type": "markdown",
     "metadata": {},
     "source": [
      "Check that the OH sky lines are at the correct wavelength. Use '<code>k</code>' on each side of the a line to get the centroid. Then compare with the plots and line lists.\n",
      "\n",
      "Resources:  \n",
      "http://www.jach.hawaii.edu/UKIRT/astronomy/calib/spec_cal/oh.html  \t\t http://www.jach.hawaii.edu/UKIRT/astronomy/calib/spec_cal/ohlines.html  "
     ]
    },
    {
     "cell_type": "markdown",
     "metadata": {},
     "source": [
      "What we find here is that there is a **constant** offset in wavelength (through H and K bands) of $+11\\pm0.5\\ \\unicode[serif]{xC5}$ compared to the OH line list.   Something in the optical path moved between the arc and the telluric observation."
     ]
    },
    {
     "cell_type": "heading",
     "level": 4,
     "metadata": {},
     "source": [
      "Offset the arc wavelength solution and apply."
     ]
    },
    {
     "cell_type": "markdown",
     "metadata": {},
     "source": [
      "The idea now is to use the wavelength solution obtained from the arc, but shift it by $11\\ \\unicode[serif]{xC5}$ before applying it to the telluric."
     ]
    },
    {
     "cell_type": "code",
     "collapsed": false,
     "input": [
      "print 'Using lxorder, lyorder = ', lxorder, lyorder\n",
      "iraf.imdelete('ftel_comb.fits', verify='no')\n",
      "iraf.nsfitcoords('tel_comb.fits', lamptransf='warc.fits', \\\n",
      "                 lxorder=lxorder, lyorder=lyorder)\n",
      "\n",
      "iraf.copy(iraf.f2.database+'fcftel_comb_SCI_1_lamp', \\\n",
      "          iraf.f2.database+'fcftel_comb_offset_SCI_1_lamp')\n",
      "iraf.hedit('ftel_comb.fits[sci,1]', 'FCFIT1', \\\n",
      "           'ftel_comb_offset_SCI_1_lamp', \\\n",
      "           update='yes', verify='no')"
     ],
     "language": "python",
     "metadata": {},
     "outputs": []
    },
    {
     "cell_type": "markdown",
     "metadata": {},
     "source": [
      "Edit the fitcoords file to apply the offset to the solution.  \n",
      "1. First go to the very **last solution** in the file.  \n",
      "1. Change the name of the solution, on the <code>begin</code> line to **<code>ftel_comb_offset_SCI_1_lamp</code>**. \n",
      "1. Then, **subtract $11\\ \\unicode[serif]{xC5}$ from the 9th line** of the last solution in the file (start counting after the <code>surface</code> record).  To make sure you got it, see the line identified in this screenshot:\n",
      "\n",
      "![fitcoords_file](screenshots/fitcoords_file.png)"
     ]
    },
    {
     "cell_type": "code",
     "collapsed": false,
     "input": [
      "filename = iraf.f2.database+'fcftel_comb_offset_SCI_1_lamp'\n",
      "!xterm -e \"vi $filename\""
     ],
     "language": "python",
     "metadata": {},
     "outputs": []
    },
    {
     "cell_type": "markdown",
     "metadata": {},
     "source": [
      "Then apply that transformation to the combined telluric."
     ]
    },
    {
     "cell_type": "code",
     "collapsed": false,
     "input": [
      "iraf.imdelete ('tftel_comb.fits', verify='no')\n",
      "iraf.nstransform ('ftel_comb.fits')"
     ],
     "language": "python",
     "metadata": {},
     "outputs": []
    },
    {
     "cell_type": "markdown",
     "metadata": {},
     "source": [
      "Use splot to measure the wavelength of the stellar features in the corrected telluric. Do this in the PyRAF session, not in the notebook.\n",
      "\n",
      "    iraf.splot ('tftel_comb[sci,1]', line=iraf.tel_position)\n",
      "    # line=iraf.tel_position is where the telluric falls. It should \n",
      "    #        still be defined from previous investigation steps.\n",
      "    #        If not, just display the image and identify the column\n",
      "    #        the telluric falls on.\n",
      "    # :nsum 30\n",
      "\n",
      "Option 2 is obviously less then ideal but it gives decent result.  However, in our case, we have nice, strong OH sky lines in our telluric observations and we will use those to calculate the wavelength solution rather than using a translated arc solution.  Moving to Option 3 then."
     ]
    },
    {
     "cell_type": "heading",
     "level": 3,
     "metadata": {},
     "source": [
      "Option 3: Use the sky lines to calculate the wavelength solution."
     ]
    },
    {
     "cell_type": "markdown",
     "metadata": {},
     "source": [
      "Reduce the first telluric, keeping the OH sky lines.  Note that if the OH sky lines were a bit faint, one could stack all the tellurics together, without shifts, and increase the signal-to-noise on the sky lines, then proceed with that image instead.\n",
      "\n",
      "IMPORTANT:  There are no OH sky lines redwards of $22750\\ \\unicode[serif]{xC5}$ and blueward of $15000\\ \\unicode[serif]{xC5}$ which means that the wavelength calibration in those regions will have reduced accuracy.  In our case, that's fine, we don't have features of interest in that part of the spectrum for this source.  If the lack of lines were a problem, one might want to consider Option 2 instead."
     ]
    },
    {
     "cell_type": "code",
     "collapsed": false,
     "input": [
      "first_tel = iraf.head('tel.lis', nlines=1, Stdout=1)[0].strip()\n",
      "iraf.imdelete('Xdf'+first_tel, verify='no')\n",
      "iraf.nsreduce('df'+first_tel, outprefix='X', fl_cut='yes', fl_dark='no', \\\n",
      "              fl_sky='no', fl_flat='yes', flatimage='flat.fits')\n",
      "iraf.display('Xdf'+first_tel+'[sci,1]', 1)\n",
      "# confirm that the sky lines are strong enough."
     ],
     "language": "python",
     "metadata": {},
     "outputs": []
    },
    {
     "cell_type": "heading",
     "level": 4,
     "metadata": {},
     "source": [
      "Determine the wavelength solution for the telluric using the OH sky lines."
     ]
    },
    {
     "cell_type": "markdown",
     "metadata": {},
     "source": [
      "**IMPORTANT**: Run this interactively and **do** delete the bad lines from the fit and re-fit.  There are bad line identifications redward of $22750\\ \\unicode[serif]{xC5}$ and blueward of $15000\\ \\unicode[serif]{xC5}$.  Remove all those bad lines."
     ]
    },
    {
     "cell_type": "code",
     "collapsed": false,
     "input": [
      "iraf.imdelete('wXdf'+first_tel+'.fits\"]', verify='no')\n",
      "iraf.nswavelength('Xdf'+first_tel+'.fits', \n",
      "                  coordlist='gemini$gcal/linelists/ohlines.dat', \n",
      "                  fl_inter='yes')"
     ],
     "language": "python",
     "metadata": {},
     "outputs": []
    },
    {
     "cell_type": "heading",
     "level": 4,
     "metadata": {},
     "source": [
      "Use that new wavelength solution on the telluric."
     ]
    },
    {
     "cell_type": "markdown",
     "metadata": {},
     "source": [
      "Most likely the `lxorder` and `lyorder` should be same as for the arc solution given that this must be a function of the optics.  I (Kathleen) did run `nsfitcoords` interactively in a PyRAF session and I confirm that `lxorder 3` and `lyorder 6` are required even with the OH line solution. No need to run it interactively anymore."
     ]
    },
    {
     "cell_type": "code",
     "collapsed": false,
     "input": [
      "iraf.imdelete('ftel_comb.fits', verify='no')\n",
      "iraf.nsfitcoords('tel_comb.fits', lamptransf='wXdf'+first_tel+'.fits', \\\n",
      "                 fl_inter='no', lxorder=3, lyorder=6)\n",
      "\n",
      "iraf.imdelete('tftel_comb.fits', verify='no')\n",
      "iraf.nstransform('ftel_comb.fits')"
     ],
     "language": "python",
     "metadata": {},
     "outputs": []
    },
    {
     "cell_type": "markdown",
     "metadata": {},
     "source": [
      "Verify that the solution works well before proceeding further.  In the PyRAF session:\n",
      "\n",
      "    iraf.splot('tftel_comb.fits[sci,1]', line=iraf.tel_position)\n",
      "    # :nsum 30\n",
      "    # Use 'k' to centroid the stellar feature, \n",
      "    # ie. the hydrogen lines to make sure\n",
      "    # that they fall where they are supposed to."
     ]
    },
    {
     "cell_type": "heading",
     "level": 2,
     "metadata": {},
     "source": [
      "STEP 12: Extract the telluric spectrum"
     ]
    },
    {
     "cell_type": "markdown",
     "metadata": {},
     "source": [
      "We run <code>nsextract</code> in non-interactive mode since the telluric is quite bright.  (Running it in interactive mode does confirm that the automatic aperture selection is coincident with the telluric spectrum.)"
     ]
    },
    {
     "cell_type": "code",
     "collapsed": false,
     "input": [
      "iraf.imdelete('xtftel_comb.fits', verify='no')\n",
      "iraf.nsextract('tftel_comb.fits', fl_apall='yes', fl_findneg='no', \\\n",
      "    fl_inter='no', fl_trace='yes')\n",
      "\n",
      "iraf.splot ('xtftel_comb.fits[SCI,1]')"
     ],
     "language": "python",
     "metadata": {},
     "outputs": []
    },
    {
     "cell_type": "markdown",
     "metadata": {},
     "source": [
      "This telluric spectrum will be used later.  It will then need to be corrected to remove the stellar features either by fitting Voight profiles on each hydrogen line and removing each feature, or by fitting a stellar model to it."
     ]
    },
    {
     "cell_type": "heading",
     "level": 2,
     "metadata": {},
     "source": [
      "STEP 13: Reduce the science data"
     ]
    },
    {
     "cell_type": "code",
     "collapsed": false,
     "input": [
      "iraf.imdelete('df@obj.lis', verify='no')\n",
      "iraf.nsreduce('f@obj.lis', outprefix='d', fl_cut='no', fl_process_cut='no', \\\n",
      "    fl_dark='yes', darkimage='objdark.fits', fl_sky='no', fl_flat='no')\n",
      "\n",
      "iraf.imdelete('rdf@obj.lis', verify='no')\n",
      "iraf.nsreduce('df@obj.lis', fl_cut='yes', fl_dark='no', fl_sky='yes', \\\n",
      "    fl_flat='yes', flatimage='flat.fits')"
     ],
     "language": "python",
     "metadata": {},
     "outputs": []
    },
    {
     "cell_type": "heading",
     "level": 2,
     "metadata": {},
     "source": [
      "STEP 14: Combine the science data"
     ]
    },
    {
     "cell_type": "markdown",
     "metadata": {},
     "source": [
      "The <code>rejtype</code> is set to <code>minmax</code> in the example included in the Gemini IRAF package.  Kathleen finds that for faint targets, that does not work at all.  Therefore, here we set <code>rejtype</code> to <code>none</code> which seems to work well."
     ]
    },
    {
     "cell_type": "code",
     "collapsed": false,
     "input": [
      "iraf.imdelete('obj_comb.fits', verify='no')\n",
      "iraf.nscombine('rdf@obj.lis', output='obj_comb.fits', fl_shiftint='no', \\\n",
      "    fl_cross='no', rejtype='none')\n",
      "\n",
      "iraf.display('obj_comb.fits[SCI,1]', 1)"
     ],
     "language": "python",
     "metadata": {},
     "outputs": []
    },
    {
     "cell_type": "heading",
     "level": 2,
     "metadata": {},
     "source": [
      "STEP 15: Wavelength calibrate the science data"
     ]
    },
    {
     "cell_type": "markdown",
     "metadata": {},
     "source": [
      "It is assumed that the arc has been taken right after (or before) the science observations, without anything moving in-between, other than getting the arc in the field of view.  \n",
      "\n",
      "While the OH sky lines could be used, the coverage is not always adequate across the dispersion axis and the sky lines tend to be a bit broader than the arc lines.  True, we used the OH sky lines for the telluric above, but that was because we could not use the arc with greater accuracy.\n",
      "\n",
      "Yet, we will nevertheless double-check that the arc works well on the science observation.  To that end, we will use a science frame that has not been sky subtracted yet, and apply the arc solution.  We will measure the OH sky lines to confirm that they fall where they are supposed to fall.  If this test passes, then we will apply the arc solution to the combined science frame from Step 14.\n",
      "\n",
      "(It should pass.  If it doesn't, something is really wrong with the data and one might have to use the OH sky lines for the wavelength calibration after all.)\n",
      "\n",
      "The key tasks used for this step are:\n",
      "\n",
      "* nsfitcoords:  Used to determine the final 2-D surface solution, based on a previously calculated wavelength solution, to be applied to the data.\n",
      "* nstransform:  Actually applies the 2-D solution found by nsfitcoords to the data.\n",
      "\n",
      "Spatial rectification (s-distortion correction) is not usually needed with F2 longslit data."
     ]
    },
    {
     "cell_type": "heading",
     "level": 4,
     "metadata": {},
     "source": [
      "Test accuracy of the wavelength solution the sky lines."
     ]
    },
    {
     "cell_type": "markdown",
     "metadata": {},
     "source": [
      "We reduce the first science frame but without the sky subtraction."
     ]
    },
    {
     "cell_type": "code",
     "collapsed": false,
     "input": [
      "first_obj = iraf.head('obj.lis', nlines=1, Stdout=1)[0].strip()\n",
      "iraf.imdelete('Xdf'+first_obj, verify='no')\n",
      "iraf.nsreduce('df'+first_obj, outprefix='X', fl_cut='yes', fl_dark='no', \\\n",
      "              fl_sky='no', fl_flat='yes', flatimage='flat.fits')\n",
      "iraf.display('Xdf'+first_obj+'[sci,1]', 1)\n",
      "# confirm that the sky lines are strong enough."
     ],
     "language": "python",
     "metadata": {},
     "outputs": []
    },
    {
     "cell_type": "markdown",
     "metadata": {},
     "source": [
      "We apply the arc solution on the frame with the sky lines."
     ]
    },
    {
     "cell_type": "code",
     "collapsed": false,
     "input": [
      "iraf.imdelete('fXdf'+first_obj, verify='no')\n",
      "iraf.nsfitcoords ('Xdf'+first_obj, lamptransf='warc.fits', lxorder=3, lyorder=6)\n",
      "\n",
      "iraf.imdelete('tfXdf'+first_obj, verify='no')\n",
      "iraf.nstransform('fXdf'+first_obj)"
     ],
     "language": "python",
     "metadata": {},
     "outputs": []
    },
    {
     "cell_type": "markdown",
     "metadata": {},
     "source": [
      "Use <code>splot</code> to measure the wavelength of the sky lines in the corrected telluric.  Do this in the pyraf session, not in the notebook."
     ]
    },
    {
     "cell_type": "markdown",
     "metadata": {},
     "source": [
      "    first_obj = iraf.head('obj.lis', nlines=1, Stdout=1)[0].strip()\n",
      "    iraf.splot ('tfXdf'+first_obj+'[sci,1]', line=750)\n",
      "    # line=750 is just somewhere in the middle.\n",
      "    # :nsum 30\n",
      "    # Use 'k' again and sky line plots and lists to check position\n",
      "    #  of the sky lines.\n",
      "    \n",
      "Resources:  \n",
      "[http://www.jach.hawaii.edu/UKIRT/astronomy/calib/spec_cal/oh.html](http://www.jach.hawaii.edu/UKIRT/astronomy/calib/spec_cal/oh.html)  \n",
      "[http://www.jach.hawaii.edu/UKIRT/astronomy/calib/spec_cal/ohlines.html](http://www.jach.hawaii.edu/UKIRT/astronomy/calib/spec_cal/ohlines.html)  \n"
     ]
    },
    {
     "cell_type": "markdown",
     "metadata": {},
     "source": [
      "Verifications of the OH lines in the H-band section and the K-band section show that the lines do show up at the correct wavelength after the transformation.  We can use the arc."
     ]
    },
    {
     "cell_type": "heading",
     "level": 4,
     "metadata": {},
     "source": [
      "Apply the wavelength solution from the arc to the combined science frame."
     ]
    },
    {
     "cell_type": "code",
     "collapsed": false,
     "input": [
      "iraf.imdelete('fobj_comb.fits', verify='no')\n",
      "iraf.nsfitcoords('obj_comb.fits', lamptransf='warc.fits', lxorder=3, lyorder=6)\n",
      "\n",
      "iraf.imdelete('tfobj_comb.fits', verify='no')\n",
      "iraf.nstransform('fobj_comb.fits')"
     ],
     "language": "python",
     "metadata": {},
     "outputs": []
    },
    {
     "cell_type": "heading",
     "level": 2,
     "metadata": {},
     "source": [
      "STEP 16: Extract the science spectrum"
     ]
    },
    {
     "cell_type": "markdown",
     "metadata": {},
     "source": [
      "For faint science spectra, the telluric can be used as a reference when extracting the science spectrum; set <code>trace=tftel_comb.fits</code>.\n",
      "\n",
      "However, in this case, the science spectrum is strong enough to be traced."
     ]
    },
    {
     "cell_type": "code",
     "collapsed": false,
     "input": [
      "iraf.display('tfobj_comb.fits[sci,1]', 1)"
     ],
     "language": "python",
     "metadata": {},
     "outputs": []
    },
    {
     "cell_type": "markdown",
     "metadata": {},
     "source": [
      "For this extraction, one needs to:\n",
      "1. delete, '`d`', the aperture automatically selected.  It selects some random spike at the far left of the cross-section.\n",
      "1. mark, '`m`', the real location of the science spectrum, around column 950.\n",
      "1. adjust with '`u`' and '`l`', the width of the aperture, it seems a bit too wide."
     ]
    },
    {
     "cell_type": "code",
     "collapsed": false,
     "input": [
      "iraf.imdelete('xtfobj_comb.fits', verify='no')\n",
      "iraf.nsextract('tfobj_comb.fits', fl_apall='yes', fl_findneg='no', \\\n",
      "               fl_inter='yes', fl_trace='yes')\n",
      "\n",
      "iraf.splot('xtfobj_comb.fits[SCI,1]')"
     ],
     "language": "python",
     "metadata": {},
     "outputs": []
    },
    {
     "cell_type": "heading",
     "level": 2,
     "metadata": {},
     "source": [
      "STEP 17: Apply the telluric correction to the science spectrum"
     ]
    },
    {
     "cell_type": "markdown",
     "metadata": {},
     "source": [
      "No matter what standard star you observed for the telluric correction, there will be stellar features in the spectrum.  There are two ways to remove the stellar features from the telluric spectrum:  1) fit a line profile to and remove each stellar feature from the telluric spectrum; 2) use a stellar model, resample, scale, and subtract it from the telluric to remove the stellar features.\n",
      "\n",
      "The stellar model option is possibly better, but whether it is necessary is still unclear (circa late-Sep 2014).  The question is whether we need to fit a blackbody to the telluric to properly calibrate the science spectrum.  (Depends a bit on the science, I (KL) think).   <code>nstelluric</code> does fit the continuum of the telluric and of the science to scale the standard.  Is this sufficient?   TBD.\n",
      "\n",
      "**Note**: The telluric star is a B9V star.  (We have not been able to find a B9V model with lines in the near-IR but a A0V model should do just fine.)\n",
      "\n",
      "For now, we use `rmfeature`to fit a Voight profile to each hydrogen feature and remove it from the telluric spectrum.  The procedure is a bit tedious because of the very clunky nature of `rmfeature` but it does work in the end, with a bit of patience."
     ]
    },
    {
     "cell_type": "heading",
     "level": 3,
     "metadata": {},
     "source": [
      "Remove stellar features from telluric spectrum"
     ]
    },
    {
     "cell_type": "markdown",
     "metadata": {},
     "source": [
      "The stellar features we have to deal with are hydrogen absorption lines.  There's only one in the K-band, but there are quite a few in the H-band.  We start from the red-end and make our way to the bluest hydrogen we can identify and fit.\n",
      "\n",
      "There are two approaches to deal with the stellar features:\n",
      "1. manual removal by fitting Voight profiles to the features\n",
      "1. use of a stellar model.\n",
      "\n",
      "Right now, since we do not have a procedure to resample and scale the stellar model, we will remove the features manually with a custom-made python scripts `rmfeature`.  Note that there are tools in IRAF to do that type of removal, and also the deal with the stellar model, but I (Kathleen) have no idea what those are or how to use them. "
     ]
    },
    {
     "cell_type": "heading",
     "level": 4,
     "metadata": {},
     "source": [
      "Manual removal of features with Voight profile"
     ]
    },
    {
     "cell_type": "markdown",
     "metadata": {},
     "source": [
      "The stellar features are (in $\\unicode[serif]{xC5}$) : 21655[1], 17362[2], 16807[3], 16407[4], 16109[5], 15881[6], 15701[7], 15557[clean].\n",
      "\n",
      "We are not correcting for 15192, 15261, 15342, 15439 as they are really lost in the noise/telluric absorption."
     ]
    },
    {
     "cell_type": "code",
     "collapsed": false,
     "input": [
      "!xterm -e 'rmfeature xtftel_comb.fits tel_temp1.fits'\n",
      "# [1] fit 1097 to 1197"
     ],
     "language": "python",
     "metadata": {},
     "outputs": []
    },
    {
     "cell_type": "code",
     "collapsed": false,
     "input": [
      "!xterm -e 'rmfeature tel_temp1.fits tel_temp2.fits'\n",
      "# [2] fit 569 to 625"
     ],
     "language": "python",
     "metadata": {},
     "outputs": []
    },
    {
     "cell_type": "code",
     "collapsed": false,
     "input": [
      "!xterm -e 'rmfeature tel_temp2.fits tel_temp3.fits'\n",
      "# [3] fit 509 to 541"
     ],
     "language": "python",
     "metadata": {},
     "outputs": []
    },
    {
     "cell_type": "code",
     "collapsed": false,
     "input": [
      "!xterm -e 'rmfeature tel_temp3.fits tel_temp4.fits'\n",
      "# [4] fit 462 to 491"
     ],
     "language": "python",
     "metadata": {},
     "outputs": []
    },
    {
     "cell_type": "code",
     "collapsed": false,
     "input": [
      "!xterm -e 'rmfeature tel_temp4.fits tel_temp5.fits'\n",
      "# [5] fit 416 to 473   (not great, but okay.)"
     ],
     "language": "python",
     "metadata": {},
     "outputs": []
    },
    {
     "cell_type": "code",
     "collapsed": false,
     "input": [
      "!xterm -e 'rmfeature tel_temp5.fits tel_temp6.fits'\n",
      "# [6] fit 394 to 412"
     ],
     "language": "python",
     "metadata": {},
     "outputs": []
    },
    {
     "cell_type": "code",
     "collapsed": false,
     "input": [
      "!xterm -e 'rmfeature tel_temp6.fits tel_temp7.fits'\n",
      "# [7] fit 370 to 395"
     ],
     "language": "python",
     "metadata": {},
     "outputs": []
    },
    {
     "cell_type": "code",
     "collapsed": false,
     "input": [
      "!xterm -e 'rmfeature tel_temp7.fits tel_clean.fits'\n",
      "# [clean] fit 349 to 370  (not great, but best fit I can get)"
     ],
     "language": "python",
     "metadata": {},
     "outputs": []
    },
    {
     "cell_type": "heading",
     "level": 4,
     "metadata": {},
     "source": [
      "Creation of a blackbody"
     ]
    },
    {
     "cell_type": "markdown",
     "metadata": {},
     "source": [
      "The telluric star is HIP 1378.  It is a B9V star with an approximate temperature of $10,700 K$.\n",
      "\n",
      "Resource for temperatures:  \n",
      "[http://www.jach.hawaii.edu/UKIRT/astronomy/utils/temp.html](http://www.jach.hawaii.edu/UKIRT/astronomy/utils/temp.html)\n",
      "\n",
      "First, we figure out the start and end wavelength, and the sampling we require to match the science spectrum.  Then we create the blackbody spectrum and convert it into a MEF file.  This will allow us to keep propagating the variance plane."
     ]
    },
    {
     "cell_type": "code",
     "collapsed": false,
     "input": [
      "iraf.wspectext('xtfobj_comb.fits[sci,1]', 'xtfobj_comb.txt', header='no')\n",
      "wstart = int(round(float(iraf.head('xtfobj_comb.txt', nlines=1, Stdout=1)[0].split()[0])))\n",
      "wend = int(round(float(iraf.tail('xtfobj_comb.txt', nlines=1, Stdout=1)[0].split()[0])))\n",
      "nsamples = int(iraf.hselect('xtfobj_comb.fits[sci,1]', 'NAXIS1', 'yes', Stdout=1)[0])\n",
      "\n",
      "print 'Start wavelength: ', wstart\n",
      "print 'End wavelength: ', wend\n",
      "print 'Number of samples: ', nsamples"
     ],
     "language": "python",
     "metadata": {},
     "outputs": []
    },
    {
     "cell_type": "code",
     "collapsed": false,
     "input": [
      "iraf.imdelete('B9V_blackbody_sci.fits', verify='no')\n",
      "iraf.mk1dspec('B9V_blackbody_sci.fits', ncols=nsamples, \\\n",
      "              wstart=wstart, wend=wend, temperature=10700)\n",
      "iraf.splot('B9V_blackbody_sci.fits')\n",
      "\n",
      "iraf.imdelete('B9V_blackbody_var.fits', verify='no')\n",
      "iraf.imdelete('B9V_blackbody_dq.fits', verify='no')\n",
      "from astropy.io import fits\n",
      "import numpy as np\n",
      "bb_sci = fits.open('B9V_blackbody_sci.fits')\n",
      "bb_var = fits.HDUList()\n",
      "bb_var.append(fits.ImageHDU())\n",
      "bb_var[0].header = bb_sci[0].header\n",
      "bb_var[0].data = np.zeros(bb_sci[0].data.size, dtype=np.float32)\n",
      "bb_var.writeto('B9V_blackbody_var.fits')\n",
      "bb_dq = fits.HDUList()\n",
      "bb_dq.append(fits.ImageHDU())\n",
      "bb_dq[0].header = bb_sci[0].header\n",
      "bb_dq[0].data = np.zeros(bb_sci[0].data.size, dtype=np.float32)\n",
      "bb_dq.writeto('B9V_blackbody_dq.fits')\n",
      "bb_sci.close()\n",
      "\n",
      "iraf.imdelete('B9V_blackbody.fits', verify='no')\n",
      "iraf.wmef('B9V_blackbody_sci.fits,B9V_blackbody_var.fits,B9V_blackbody_dq.fits',\\\n",
      "          'B9V_blackbody.fits')\n",
      "\n",
      "iraf.fxhead('B9V_blackbody.fits')"
     ],
     "language": "python",
     "metadata": {},
     "outputs": []
    },
    {
     "cell_type": "heading",
     "level": 3,
     "metadata": {},
     "source": [
      "Use the clean telluric to correct the science spectrum"
     ]
    },
    {
     "cell_type": "markdown",
     "metadata": {},
     "source": [
      "We will try two approaches:\n",
      "1. `nstelluric` approach\n",
      "1. manual approach\n",
      "\n",
      "Spoiler warning: The `nstelluric` approach gives significantly better results (less noisy and more accurate continuum shape).   See the **Discussion** section below, after the **Manual approach** section."
     ]
    },
    {
     "cell_type": "heading",
     "level": 4,
     "metadata": {},
     "source": [
      "The `nstelluric` approach"
     ]
    },
    {
     "cell_type": "markdown",
     "metadata": {},
     "source": [
      "`nstelluric` normalize the telluric and the science, and then cross-correlate the two to find first the shift in pixel between the two, and then the necessary scaling factor.  Part of the scaling factor applied to the telluric is the airmass ratio.  Then, the shifted and scaled normalized telluric is divided from the non-normalized science.\n",
      "\n",
      "**Procedure**  \n",
      "Fit the continuum of the telluric and the science to scale the two to each other.  Use only the H-band and K-band regions, ignore the regions where the atmosphere is opaque.  Use the `s` option in `nstelluric` to define the regions to use (ie. the \"sample\"), or `:sample` to enter the regions precisely.\n",
      "\n",
      "Run this interactive task in a PyRAF session.  See screenshots below to get an idea of what it should look like.\n",
      "\n",
      "    iraf.imdelete('axtfobj_comb.fits', verify='no')\n",
      "    iraf.nstelluric('xtfobj_comb.fits', 'tel_clean', fitorder=12, \\\n",
      "        threshold=0.01, fl_inter='yes')\n",
      "        \n",
      "The order used to fit the telluric is: 4  \n",
      "The order used to fit the science is: 4  # same as for the telluric.  \n",
      "Scale: 1  \n",
      "Shift: -1.94  \n",
      "Sample: 19:62 311:643 1054:1540\n",
      "\n",
      "Given that the arc solution is different from the science and for the telluric, a slight shift is probably expected. \n",
      "\n",
      "Fitting the telluric:  \n",
      "![nstelluric_telfit](screenshots/nstelluric_telfit.png)\n",
      "<br \\>\n",
      "Fitting the science target:  \n",
      "![nstelluric_objfit](screenshots/nstelluric_objfit.png)\n",
      "<br \\>\n",
      "The next window is for adjusting the cross-correlation solution, if needed.  In this case, after a bit of exploration of the parameter space, we find that the automatic solution is the best.  A good area to focus on is the $2\\mu$ region.\n",
      "![nstelluric_cross](screenshots/nstelluric_cross.png)\n",
      "<br \\>\n",
      "Zooming on the $2\\mu$ region.  See how the strong telluric features gets cleanly canceled.\n",
      "![nstelluric_cross_zoom](screenshots/nstelluric_cross_zoom.png)\n",
      "<br \\>\n",
      "<br \\>\n",
      "\n",
      "    iraf.splot('axtfobj_comb.fits[SCI,1]', ymin=-200, ymax=1000)\n",
      "    \n",
      "    iraf.specplot('xtfobj_comb.fits[sci,1],axtfobj_comb.fits[sci,1],\\\n",
      "        tel_clean.fits[sci,1]', fraction=0.05, yscale='yes', ymin=-100,\\\n",
      "        ymax=4000)\n"
     ]
    },
    {
     "cell_type": "markdown",
     "metadata": {},
     "source": [
      "The telluric spectrum, ie. the spectrum of a star, was divided into the science spectrum.  This means that to recover the correct continuum for the science spectrum one needs to multiply the science spectrum with a blackbody (if rmfeature was used), or a stellar model (if rmfeature was not used.)"
     ]
    },
    {
     "cell_type": "code",
     "collapsed": false,
     "input": [
      "iraf.imdelete('axtfobj_bb.fits', verify='no')\n",
      "iraf.gemarith('axtfobj_comb.fits','*', 'B9V_blackbody.fits', \\\n",
      "              'axtfobj_bb.fits', fl_vardq='yes')"
     ],
     "language": "python",
     "metadata": {},
     "outputs": []
    },
    {
     "cell_type": "code",
     "collapsed": false,
     "input": [
      "iraf.splot('axtfobj_bb.fits[sci,1]', ymin=-20000, ymax=300000)"
     ],
     "language": "python",
     "metadata": {},
     "outputs": []
    },
    {
     "cell_type": "markdown",
     "metadata": {},
     "source": [
      "![sci_nstelluric](screenshots/sci_nstelluric.png)"
     ]
    },
    {
     "cell_type": "markdown",
     "metadata": {},
     "source": [
      "During the extraction, some 2D WCS are not being cleaned up correctly.  Here is how to remove the 2D info from what is now a 1D spectrum."
     ]
    },
    {
     "cell_type": "code",
     "collapsed": false,
     "input": [
      "iraf.hedit('axtfobj_bb.fits[sci,1]', 'CD2_2', delete='yes',\\\n",
      "            verify='no',update='yes')\n",
      "iraf.hedit('axtfobj_bb.fits[sci,1]', 'CTYPE2', delete='yes',\\\n",
      "           verify='no',update='yes')\n",
      "iraf.hedit('axtfobj_bb.fits[sci,1]', 'LTM2_2', delete='yes',\\\n",
      "           verify='no',update='yes')\n",
      "iraf.hedit('axtfobj_bb.fits[var,1]', 'CD2_2', delete='yes',\\\n",
      "           verify='no',update='yes')\n",
      "iraf.hedit('axtfobj_bb.fits[var,1]', 'CTYPE2', delete='yes',\\\n",
      "           verify='no',update='yes')\n",
      "iraf.hedit('axtfobj_bb.fits[var,1]', 'LTM2_2', delete='yes',\\\n",
      "           verify='no',update='yes')"
     ],
     "language": "python",
     "metadata": {},
     "outputs": []
    },
    {
     "cell_type": "markdown",
     "metadata": {},
     "source": [
      "Using Kathleen's Python <code>splot</code> in a shell, plot the final spectrum with line identifcation and with an overplot of the error."
     ]
    },
    {
     "cell_type": "code",
     "collapsed": false,
     "input": [
      "!splot axtfobj_bb.fits -l quasar -z 0.6128 -y -25000 250000 --variance 2"
     ],
     "language": "python",
     "metadata": {},
     "outputs": []
    },
    {
     "cell_type": "heading",
     "level": 4,
     "metadata": {},
     "source": [
      "The manual approach"
     ]
    },
    {
     "cell_type": "markdown",
     "metadata": {},
     "source": [
      "Here we do not do any shifting or scaling or airmass correction.  We divide by the telluric standard and multiply by the blackbody."
     ]
    },
    {
     "cell_type": "code",
     "collapsed": false,
     "input": [
      "iraf.imdelete('xtfobj_telrm.fits', verify='no')\n",
      "iraf.gemarith('xtfobj_comb.fits','/','tel_clean.fits', \\\n",
      "              'xtfobj_telrm.fits', fl_vardq='yes')\n"
     ],
     "language": "python",
     "metadata": {},
     "outputs": []
    },
    {
     "cell_type": "code",
     "collapsed": false,
     "input": [
      "iraf.splot('xtfobj_telrm.fits[sci,1]', ymin=-0.01, ymax=0.045)"
     ],
     "language": "python",
     "metadata": {},
     "outputs": []
    },
    {
     "cell_type": "code",
     "collapsed": false,
     "input": [
      "iraf.imdelete('xtfobj_telbb.fits', verify='no')\n",
      "iraf.gemarith('xtfobj_telrm.fits', '*', 'B9V_blackbody.fits', \\\n",
      "              'xtfobj_telbb.fits', fl_vardq='yes')"
     ],
     "language": "python",
     "metadata": {},
     "outputs": []
    },
    {
     "cell_type": "code",
     "collapsed": false,
     "input": [
      "iraf.splot('xtfobj_telbb.fits[sci,1]', ymin=-2.5, ymax=17.5)"
     ],
     "language": "python",
     "metadata": {},
     "outputs": []
    },
    {
     "cell_type": "markdown",
     "metadata": {},
     "source": [
      "![sci_telmanual](screenshots/sci_telmanual.png)"
     ]
    },
    {
     "cell_type": "code",
     "collapsed": false,
     "input": [
      "iraf.hedit('xtfobj_telbb.fits[sci,1]', 'CD2_2', delete='yes',\\\n",
      "            verify='no',update='yes')\n",
      "iraf.hedit('xtfobj_telbb.fits[sci,1]', 'CTYPE2', delete='yes',\\\n",
      "           verify='no',update='yes')\n",
      "iraf.hedit('xtfobj_telbb.fits[sci,1]', 'LTM2_2', delete='yes',\\\n",
      "           verify='no',update='yes')\n",
      "iraf.hedit('xtfobj_telbb.fits[var,1]', 'CD2_2', delete='yes',\\\n",
      "           verify='no',update='yes')\n",
      "iraf.hedit('xtfobj_telbb.fits[var,1]', 'CTYPE2', delete='yes',\\\n",
      "           verify='no',update='yes')\n",
      "iraf.hedit('xtfobj_telbb.fits[var,1]', 'LTM2_2', delete='yes',\\\n",
      "           verify='no',update='yes')"
     ],
     "language": "python",
     "metadata": {},
     "outputs": []
    },
    {
     "cell_type": "code",
     "collapsed": false,
     "input": [
      "!splot xtfobj_telbb.fits -l quasar -z 0.6128 -y -2 15 --variance 2"
     ],
     "language": "python",
     "metadata": {},
     "outputs": []
    },
    {
     "cell_type": "markdown",
     "metadata": {},
     "source": [
      "The final plot in the manual method is a lot more noisy and the slope of the continuum is shallower.  One can make the spectrum less noisy by applying the shift found in nstelluric, and the slope can be made steeper by applying the airmass correction nstelluric used.  This will be left as an exercise...  (I, Kathleen, did all this already to convince myself that the `nstelluric` results were correct.)"
     ]
    },
    {
     "cell_type": "heading",
     "level": 4,
     "metadata": {},
     "source": [
      "Discussion on telluric correction techniques"
     ]
    },
    {
     "cell_type": "markdown",
     "metadata": {},
     "source": [
      "Doing the telluric correction manually is suited for cases where the telluric standard was observed very close in time with the science to avoid time-dependent sky variations and at the same airmass, and obviously where nothing in the optical path moved and flexure is minimal.\n",
      "\n",
      "In the present case, the optics moved, the telluric was observed 50 min after the science target, and at an airmass of 1.848 when the science was observed at airmass 1.465.  Clearly, this is a messy observation.\n",
      "\n",
      "The movements in the optics (or flexure) causes the telluric to be offset from the science spectrum as clearly shown during the wavelength calibration.  This was also picked up by `nstelluric` which found that a shift of -1.94 pixel is necessary.\n",
      "\n",
      "The large airmass difference is corrected for in `nstelluric`.  But in the manual approach, that difference is not taken into account (one could, but we didn't above).  The result was that the non-airmass corrected spectrum showed a much shallower continuum slope.\n",
      "\n",
      "At least, it seems that the atmosphere was fairly stable since even if the data was taken 50 minutes later, `nstelluric` didn't have to apply a scaling factor (other than the airmass correction factor).\n",
      "\n",
      "What was found here is that the `nstelluric` task, when used correctly does produce rather good results that are far less noisy than the results from the manual approach, especially when there are issues with telluric standard observations.  With enough fiddling with shift, airmass correction, scaling, one should be able to reproduce the `nstelluric` result but it seems more straightforward with `nstelluric`.  I (Kathleen) did play around and I got close, close enough to convince myself that the slope was okay, but never got the noise to go down to the `nstelluric` level, then I got bored."
     ]
    },
    {
     "cell_type": "heading",
     "level": 2,
     "metadata": {},
     "source": [
      "FINAL spectrum: axtfobj_bb.fits"
     ]
    }
   ],
   "metadata": {}
  }
 ]
}