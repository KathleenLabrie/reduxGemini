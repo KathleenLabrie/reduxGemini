{
 "metadata": {
  "name": "",
  "signature": "sha256:5a70d9217b36e233c8dfcf1edbc91da9e9cf90aa44323ce5f48a090414d91fa2"
 },
 "nbformat": 3,
 "nbformat_minor": 0,
 "worksheets": [
  {
   "cells": [
    {
     "cell_type": "heading",
     "level": 1,
     "metadata": {},
     "source": [
      "GMOS Imaging Reduction - NGC 6872 - Tutorial and DR Challenge"
     ]
    },
    {
     "cell_type": "heading",
     "level": 2,
     "metadata": {},
     "source": [
      "The Data"
     ]
    },
    {
     "cell_type": "markdown",
     "metadata": {},
     "source": [
      "The data we will be reducting today is of NGC 6872, a pretty spiral observed with GMOS-South.  The observing mode is optical imaging.\n",
      "\n",
      "The data were obtained on November 1st, 2010 (UT).  The **Program ID** is **GS-2010A-Q-7**.  Data in g', r', and i'-band were obtained.\n",
      "\n",
      "If you go to [archive.gemini.edu](archive.gemini.edu) and search on the program number, you will find that observations were also attempted twice in July.  The weather interfered and the sequences were abandoned.  We will ignore those observations and use the full 3-band sequence from November 1st, 2010.  (File name root: 20101101)\n",
      "\n",
      "Back in 2010, GMOS-South was equipped with the old EEV CCDs.  (Now it has Hamamatsu CCDs.)  The old CCDs were read with only one amplifier.  This means that there is one extension per CCD.  (There are 3 CCDs.)  Also, with the old EEV CCDs, the fringing is quite significant in the i'-band.  We will need to correct for that.\n",
      "\n",
      "Because our pretty galaxy is an extended object, we can expect to use observations of a blank sky field to build a fringe frame of the i'-band.  This will be covered during the tutorial.\n",
      "\n",
      "Go to the [Gemini Observatory Archive](archive.gemini.edu) and search for the science data using the Program ID.  You will find the following:\n",
      "\n",
      "    g'-band:  S20101101S0079 to 82\n",
      "    i'-band:  S20101101S0083 to 86\n",
      "    r'-band:  S20101101S0087 to 90\n",
      "\n",
      "At this time, also notice the tab **`Load Associated Calibrations`**.  That's the magic trick to find the calibrations."
     ]
    },
    {
     "cell_type": "heading",
     "level": 2,
     "metadata": {},
     "source": [
      "The Task"
     ]
    },
    {
     "cell_type": "markdown",
     "metadata": {},
     "source": [
      "We will be doing the i' band reduction together.  It is the most quirky.  \n",
      "\n",
      "Then, you will use the \"Exercise Template\" notebook to create the r'-band and the g'-band notebooks and reduce the data.   To use the template, open it, copy it, rename the copy, and start figuring out what data goes with what.  Remember to use the Gemini Observatory Archive ([archive.gemini.edu](archive.gemini.edu) and the information above.  **Suggestion**:  Start with the g'-band, it's a touch easier than the r'-band.\n",
      "\n",
      "Finally, for fun, we will try to create an RGB image from the processed data.\n",
      "\n",
      "** The data discovery and association is done with:  [archive.gemini.edu](archive.gemini.edu) **\n",
      "\n",
      "The notebooks are:\n",
      "1. [The Tutorial - i'-band](GMOS%20Imaging%20Reduction%20-%20NGC%206872%20-%20i-band.ipynb)\n",
      "2. [The Exercise Template](GMOS%20Imaging%20Reduction%20-%20NGC%206872%20-%20Exercise%20Template.ipynb)\n",
      "3. [Help to create an RGB image](Create%20an%20RBG%20image.ipynb)\n",
      "\n",
      "<br><br>\n"
     ]
    },
    {
     "cell_type": "heading",
     "level": 2,
     "metadata": {},
     "source": [
      "Configuring IRAF"
     ]
    },
    {
     "cell_type": "markdown",
     "metadata": {},
     "source": [
      "But before we dig in, let's make sure that IRAF is configured correctly.  I assume here that Ureka has already been installed and activated.   If you haven't already configured IRAF do this:\n",
      "\n",
      "    % cd\n",
      "    % mkdir iraf\n",
      "    % mkiraf\n",
      "        Say 'yes' to \"initialize uparm\"\n",
      "        Set the terminal to 'xterm' or 'xgterm -sb'.  (IRAF prefers xgterm, PyRAF doesn't care)\n",
      "\n",
      "This will create a `login.cl`, IRAF requires this.  PyRAF automatically looks in `$HOME/iraf/` to find the `login.cl`."
     ]
    },
    {
     "cell_type": "code",
     "collapsed": false,
     "input": [],
     "language": "python",
     "metadata": {},
     "outputs": []
    }
   ],
   "metadata": {}
  }
 ]
}