{
 "metadata": {
  "name": "",
  "signature": "sha256:379651e1fb164509dfbddaa94357a91c873b60bb215d51fdaa516fa092cc4640"
 },
 "nbformat": 3,
 "nbformat_minor": 0,
 "worksheets": [
  {
   "cells": [
    {
     "cell_type": "heading",
     "level": 1,
     "metadata": {},
     "source": [
      "Tutorial: GMOS Imaging Reduction - NGC 6872 - r-band"
     ]
    },
    {
     "cell_type": "heading",
     "level": 2,
     "metadata": {},
     "source": [
      "Datasets:"
     ]
    },
    {
     "cell_type": "markdown",
     "metadata": {},
     "source": [
      "<table>\n",
      "  <tr><td><strong>Science observation UT date(s)</strong></td>\n",
      "      <td>2010 Nov 01</td>\n",
      "      </tr>\n",
      "  <tr><td><strong>Data filename prefix(es)</strong></td>\n",
      "      <td>S20101101S</td>\n",
      "      </tr>\n",
      "</table>"
     ]
    },
    {
     "cell_type": "heading",
     "level": 4,
     "metadata": {},
     "source": [
      "Target Frames"
     ]
    },
    {
     "cell_type": "markdown",
     "metadata": {},
     "source": [
      "<table>\n",
      "<tr><td>Science</td><td>S20101101S</td><td>87-90</td><td>binning 2x2</td></tr>\n",
      "<tr><td>Processed Bias</td><td>for 20101101</td><td>S20101101S0169_bias.fits</td><td></td></tr>\n",
      "<tr><td>Processed Twilight Flat</td><td>for 20101101</td><td>S20101107S0201_flat_r.fits</td><td></td></tr>\n",
      "<tr><td>Processed Fringe Frame</td><td>N/A</td><td>N/A</td><td></td></tr>\n",
      "</table>"
     ]
    },
    {
     "cell_type": "heading",
     "level": 4,
     "metadata": {},
     "source": [
      "Fringe Frames"
     ]
    },
    {
     "cell_type": "markdown",
     "metadata": {},
     "source": [
      "N/A"
     ]
    },
    {
     "cell_type": "heading",
     "level": 4,
     "metadata": {},
     "source": [
      "Twilight Flats"
     ]
    },
    {
     "cell_type": "markdown",
     "metadata": {},
     "source": [
      "<table>\n",
      "<tr><td colspan=3>Processed: <strong>S20101107S0201_flat_r.fits</strong></td></tr>\n",
      "<tr><td>Twilight Frames</td><td>S20101107S</td><td>201-212</td><td>binning 2x2</td></tr>\n",
      "<tr><td>Processed Bias</td><td>for 20101107</td><td>S20101107S0228_bias.fits</td><td></td></tr>\n",
      "</table>"
     ]
    },
    {
     "cell_type": "heading",
     "level": 4,
     "metadata": {},
     "source": [
      "Biases"
     ]
    },
    {
     "cell_type": "markdown",
     "metadata": {},
     "source": [
      "<table>\n",
      "<tr><td colspan=3>Processed: <strong>S20101101S0169_bias.fits</strong></td></tr>\n",
      "<tr><td rowspan=2>Biases</td><td>S20101101S</td><td>169-172 (<font color='red'>173 is bad</font>)</td><td>binning 2x2</td></tr>\n",
      "<tr>                         <td>S20101102S</td><td>131-135</td><td>binning 2x2</td></tr>\n",
      "</table>"
     ]
    },
    {
     "cell_type": "markdown",
     "metadata": {},
     "source": [
      "<table>\n",
      "<tr><td colspan=3>Processed: <strong>S20101107S0228_bias.fits</strong></td></tr>\n",
      "<tr><td rowspan=2>Biases</td><td>S20101107S</td><td>228-231 (<font color='red'>232 is bad</font>)</td><td>binning 2x2</td></tr>\n",
      "<tr>                         <td>S20101108S</td><td>26-30</td><td>binning 2x2</td></tr>\n",
      "</table>"
     ]
    },
    {
     "cell_type": "heading",
     "level": 2,
     "metadata": {},
     "source": [
      "STEP 0: Directory structure used by this Notebook"
     ]
    },
    {
     "cell_type": "markdown",
     "metadata": {},
     "source": [
      "The directory paths used in this notebook are assumed to match this structure:\n",
      "\n",
      "    rootdir/\n",
      "        calib/\n",
      "            bias/\n",
      "            flat/\n",
      "            fringe/\n",
      "        raw/\n",
      "        redux/"
     ]
    },
    {
     "cell_type": "heading",
     "level": 2,
     "metadata": {},
     "source": [
      "STEP 1: Set up the Notebook and the PyRAF session"
     ]
    },
    {
     "cell_type": "markdown",
     "metadata": {},
     "source": [
      "The data processing will happen in the Notebook.  It is also convenient to have a PyRAF interactive session ready to use if needed, eg. to imexam.  In this step, we will configure the Notebook and the PyRAF session.  \n",
      "\n",
      "This step needs to be repeated everytime the Notebook and/or the PyRAF session is restarted."
     ]
    },
    {
     "cell_type": "heading",
     "level": 3,
     "metadata": {},
     "source": [
      "STEP 1.1: Set up the Notebook"
     ]
    },
    {
     "cell_type": "heading",
     "level": 4,
     "metadata": {},
     "source": [
      "STEP 1.1.1: Set up the variables."
     ]
    },
    {
     "cell_type": "code",
     "collapsed": false,
     "input": [
      "import os\n",
      "import os.path\n",
      "import shutil\n",
      "\n",
      "# WARNING: Make sure that the directory structure given in Step 0 \n",
      "#          is already in place.\n",
      "\n",
      "# EDIT HERE - Directories\n",
      "rootdir = '/data/workspace/DRWorkshopAAO/NGC6872'\n",
      "\n",
      "# EDIT HERE - File numbers and file names\n",
      "biases = {\n",
      "    'bias_20101101' : {\n",
      "        'procbias' : 'S20101101S0169_bias.fits',\n",
      "        'frames'   : [('S20101101S', '169-172'),\n",
      "                      ('S20101102S', '131-135'),\n",
      "                     ]\n",
      "    },\n",
      "    'bias_20101107' : {\n",
      "        'procbias'   : 'S20101107S0228_bias.fits',\n",
      "        'frames'     : [('S20101107S', '228-231'),\n",
      "                        ('S20101108S', '26-30')],\n",
      "    }\n",
      "}\n",
      "\n",
      "flats = {\n",
      "    'flat_20101107' : {\n",
      "        'procflat'   : 'S20101107S0201_flat_r.fits',\n",
      "        'frames'     : [('S20101107S', '201-212')],\n",
      "        'flatbias'   : biases['bias_20101107']['procbias'],\n",
      "    }\n",
      "}\n",
      "\n",
      "science = {\n",
      "    'procsci'   : 'ngc6872_r.fits',\n",
      "    'sciroot'   : 'S20101101S',\n",
      "    'sciframes' : '87-90',\n",
      "    'scibias'   : biases['bias_20101101']['procbias'],\n",
      "    'sciflat'   : flats['flat_20101107']['procflat'],\n",
      "    #'scifringe' : fringes['fringe_20101111']['procfringe'],\n",
      "}\n",
      "\n",
      "logfile = 'NGC6872_r.log'\n",
      "\n",
      "# Automatically set directories to match structure from Step 0\n",
      "raw_path = os.path.join(rootdir, 'raw') + '/'\n",
      "redux_path = os.path.join(rootdir, 'redux') + '/'\n",
      "procbias_path = os.path.join(rootdir, 'calib', 'bias') + '/'\n",
      "procflat_path = os.path.join(rootdir, 'calib', 'flat') + '/'\n",
      "procfringe_path = os.path.join(rootdir, 'calib', 'fringe') + '/'\n",
      "products_path = os.path.join(rootdir, 'products') + '/'\n",
      "\n",
      "# Change to work directory\n",
      "os.chdir(redux_path)\n"
     ],
     "language": "python",
     "metadata": {},
     "outputs": [],
     "prompt_number": 1
    },
    {
     "cell_type": "heading",
     "level": 4,
     "metadata": {},
     "source": [
      "Step 1.1.2: Load and initialize the package"
     ]
    },
    {
     "cell_type": "markdown",
     "metadata": {},
     "source": [
      "---> <strong>LAUNCH DS9 before proceeding further</strong>\n",
      "\n",
      "Load the package required for the Notebook session and reset tasks to the default parameters."
     ]
    },
    {
     "cell_type": "code",
     "collapsed": false,
     "input": [
      "from pyraf import iraf\n",
      "iraf.gemini()\n",
      "iraf.gmos()\n",
      "\n",
      "iraf.unlearn(iraf.gemini, iraf.gmos, iraf.gemtools)\n",
      "\n",
      "iraf.gmos.logfile = logfile\n",
      "\n",
      "iraf.set(stdimage='imtgmos')"
     ],
     "language": "python",
     "metadata": {},
     "outputs": [
      {
       "output_type": "stream",
       "stream": "stdout",
       "text": [
        "This is the initial release of the IRAF FITSUTIL package\n",
        "to include support for FITS tile compression via 'fpack'.\n",
        "Please send comments and questions to seaman@noao.edu.\n",
        "\n",
        " \n",
        "     +------------------- Gemini IRAF Package -------------------+\n",
        "     |             Version 1.13.1, December 7, 2015              |\n",
        "     |             Requires IRAF v2.14.1 or greater              |\n",
        "     |              Tested with Ureka IRAF v2.16                 |\n",
        "     |             Gemini Observatory, Hilo, Hawaii              |\n",
        "     |    Please use the help desk for submission of questions   |\n",
        "     |  http://www.gemini.edu/sciops/helpdesk/helpdeskIndex.html |\n",
        "     +-----------------------------------------------------------+\n",
        " \n",
        "     Warning setting imtype=fits\n",
        "     Warning setting use_new_imt=no\n",
        " \n",
        "gemini/:\n",
        " f2/            gemtools/       gsaoi/          niri/\n",
        " flamingos/     gmos/           midir/          oscir/\n",
        " gemlocal/      gnirs/          nifs/           quirc/\n",
        "gmos/:"
       ]
      },
      {
       "output_type": "stream",
       "stream": "stdout",
       "text": [
        "\n",
        " gbias          gfquick         gmosaic         gsappwave       gssdist\n",
        " gbpm           gfreduce        gmosexamples    gscalibrate     gsskysub\n",
        " gdark          gfresponse      gmosinfo        gscrmask        gsslitfunction\n",
        " gdisplay       gfscatsub       gmosinfoifu     gscrrej         gsstandard\n",
        " gfapsum        gfskysub        gmosinfoimag    gscut           gstransform\n",
        " gfcombine      gftransform     gmosinfospec    gsdrawslits     gswavelength\n",
        " gfcopy         giflat          gnscombine      gsextract       mostools/\n",
        " gfcube         gifringe        gnsdark         gsflat\n",
        " gfdisplay      giillum         gnsskysub       gsfquick\n",
        " gfextract      gireduce        gprepare        gsreduce\n",
        " gffindblocks   girmfringe      gqecorr         gsscatsub\n"
       ]
      }
     ],
     "prompt_number": 2
    },
    {
     "cell_type": "heading",
     "level": 3,
     "metadata": {},
     "source": [
      "STEP 1.2: Set up the PyRAF session"
     ]
    },
    {
     "cell_type": "markdown",
     "metadata": {},
     "source": [
      "The commands shown here need to be run from the shell.\n",
      "\n",
      "Open an xterm or a Terminal, then:\n",
      "\n",
      "    cd /data/workspace/DRWorkshopAAO/NGC6872/redux\n",
      "    pyraf\n",
      "\n",
      "Then in the PyRAF session:\n",
      "\n",
      "    gemini\n",
      "    gmos\n",
      "    unlearn gemini\n",
      "    unlearn gmos\n",
      "    unlearn gemtools\n",
      "\n",
      "Get your PyRAF configured.  In the PyRAF session:\n",
      "\n",
      "    iraf.gmos.logfile = \"NGC6872_r.log\"\n",
      "    set stdimage=imtgmos\n"
     ]
    },
    {
     "cell_type": "heading",
     "level": 2,
     "metadata": {},
     "source": [
      "STEP 2: Create the file lists"
     ]
    },
    {
     "cell_type": "code",
     "collapsed": false,
     "input": [
      "os.chdir(redux_path)\n",
      "\n",
      "# delete any pre-existing lists\n",
      "iraf.delete('*.lis', verify='no')\n",
      "\n",
      "# biases\n",
      "for (root, frames) in biases['bias_20101101']['frames']:\n",
      "    iraf.gemlist(root, frames, Stdout='tmp_'+root+'.lis')\n",
      "iraf.concat('tmp_*.lis', 'bias_20101101.lis')\n",
      "iraf.delete('tmp_*.lis', verify='no')\n",
      "\n",
      "for (root, frames) in biases['bias_20101107']['frames']:\n",
      "    iraf.gemlist(root, frames, Stdout='tmp_'+root+'.lis')\n",
      "iraf.concat('tmp_*.lis', 'bias_20101107.lis')\n",
      "iraf.delete('tmp_*.lis', verify='no')\n",
      "\n",
      "\n",
      "# flats\n",
      "for (root, frames) in flats['flat_20101107']['frames']:\n",
      "    iraf.gemlist(root, frames, Stdout='tmp_'+root+'.lis')\n",
      "iraf.concat('tmp_*.lis', 'flat_20101107.lis')\n",
      "iraf.delete('tmp_*.lis', verify='no')\n",
      "\n",
      "\n",
      "# science\n",
      "iraf.gemlist(science['sciroot'], science['sciframes'], \\\n",
      "             Stdout='sci.lis')\n",
      "\n",
      "# Get a full list\n",
      "iraf.concat('*.lis', 'all.lis')"
     ],
     "language": "python",
     "metadata": {},
     "outputs": [],
     "prompt_number": 11
    },
    {
     "cell_type": "heading",
     "level": 2,
     "metadata": {},
     "source": [
      "STEP 3: Visually inspect all the data"
     ]
    },
    {
     "cell_type": "code",
     "collapsed": false,
     "input": [
      "all_files = open('all.lis', 'r')\n",
      "for line in all_files:\n",
      "    image = line.strip() + '[1]'\n",
      "    print image\n",
      "    iraf.gdisplay(raw_path + image, 1, fl_paste='no')\n",
      "    iraf.sleep(5)\n",
      "    \n",
      "all_files.close()"
     ],
     "language": "python",
     "metadata": {},
     "outputs": [
      {
       "output_type": "stream",
       "stream": "stdout",
       "text": [
        "S20101101S0169[1]\n",
        "\n",
        "GDISPLAY - Started: 2016-03-23T08:27:14\n",
        "\n"
       ]
      },
      {
       "output_type": "stream",
       "stream": "stdout",
       "text": [
        "GDISPLAY: Temporary image name tmpout92482_394S20101101S0169.fits\n",
        "\n",
        "GMULTIAMP - Started: 2016-03-23T08:27:15\n",
        "\n"
       ]
      },
      {
       "output_type": "stream",
       "stream": "stdout",
       "text": [
        "\n",
        "GMULTIAMP - Finished: 2016-03-23T08:27:15\n",
        "GMULTIAMP - Exit status: GOOD\n",
        "\n"
       ]
      },
      {
       "output_type": "stream",
       "stream": "stdout",
       "text": [
        "GDISPLAY: Displaying image...\n",
        "\n",
        "GDISPLAY - Finished: 2016-03-23T08:27:16\n"
       ]
      },
      {
       "output_type": "stream",
       "stream": "stdout",
       "text": [
        "\n",
        "S20101101S0170[1]"
       ]
      },
      {
       "output_type": "stream",
       "stream": "stdout",
       "text": [
        "\n",
        "\n",
        "GDISPLAY - Started: 2016-03-23T08:27:21\n",
        "\n"
       ]
      },
      {
       "output_type": "stream",
       "stream": "stdout",
       "text": [
        "GDISPLAY: Temporary image name tmpout92482_415S20101101S0170.fits\n",
        "\n",
        "GMULTIAMP - Started: 2016-03-23T08:27:21\n",
        "\n"
       ]
      },
      {
       "output_type": "stream",
       "stream": "stdout",
       "text": [
        "\n",
        "GMULTIAMP - Finished: 2016-03-23T08:27:22\n",
        "GMULTIAMP - Exit status: GOOD\n",
        "\n"
       ]
      },
      {
       "output_type": "stream",
       "stream": "stdout",
       "text": [
        "GDISPLAY: Displaying image...\n",
        "\n",
        "GDISPLAY - Finished: 2016-03-23T08:27:23\n"
       ]
      },
      {
       "output_type": "stream",
       "stream": "stdout",
       "text": [
        "\n",
        "S20101101S0171[1]"
       ]
      },
      {
       "output_type": "stream",
       "stream": "stdout",
       "text": [
        "\n",
        "\n",
        "GDISPLAY - Started: 2016-03-23T08:27:28\n",
        "\n"
       ]
      },
      {
       "output_type": "stream",
       "stream": "stdout",
       "text": [
        "GDISPLAY: Temporary image name tmpout92482_436S20101101S0171.fits\n",
        "\n",
        "GMULTIAMP - Started: 2016-03-23T08:27:28\n",
        "\n"
       ]
      },
      {
       "output_type": "stream",
       "stream": "stdout",
       "text": [
        "\n",
        "GMULTIAMP - Finished: 2016-03-23T08:27:29\n",
        "GMULTIAMP - Exit status: GOOD\n",
        "\n"
       ]
      },
      {
       "output_type": "stream",
       "stream": "stdout",
       "text": [
        "GDISPLAY: Displaying image...\n",
        "\n",
        "GDISPLAY - Finished: 2016-03-23T08:27:30\n"
       ]
      },
      {
       "output_type": "stream",
       "stream": "stdout",
       "text": [
        "\n",
        "S20101101S0172[1]"
       ]
      },
      {
       "output_type": "stream",
       "stream": "stdout",
       "text": [
        "\n",
        "\n",
        "GDISPLAY - Started: 2016-03-23T08:27:35\n",
        "\n"
       ]
      },
      {
       "output_type": "stream",
       "stream": "stdout",
       "text": [
        "GDISPLAY: Temporary image name tmpout92482_457S20101101S0172.fits\n",
        "\n",
        "GMULTIAMP - Started: 2016-03-23T08:27:35\n",
        "\n"
       ]
      },
      {
       "output_type": "stream",
       "stream": "stdout",
       "text": [
        "\n",
        "GMULTIAMP - Finished: 2016-03-23T08:27:36\n",
        "GMULTIAMP - Exit status: GOOD\n",
        "\n"
       ]
      },
      {
       "output_type": "stream",
       "stream": "stdout",
       "text": [
        "GDISPLAY: Displaying image...\n",
        "\n",
        "GDISPLAY - Finished: 2016-03-23T08:27:37\n"
       ]
      },
      {
       "output_type": "stream",
       "stream": "stdout",
       "text": [
        "\n",
        "S20101102S0131[1]"
       ]
      },
      {
       "output_type": "stream",
       "stream": "stdout",
       "text": [
        "\n",
        "\n",
        "GDISPLAY - Started: 2016-03-23T08:27:42\n",
        "\n"
       ]
      },
      {
       "output_type": "stream",
       "stream": "stdout",
       "text": [
        "GDISPLAY: Temporary image name tmpout92482_478S20101102S0131.fits\n",
        "\n",
        "GMULTIAMP - Started: 2016-03-23T08:27:42\n",
        "\n"
       ]
      },
      {
       "output_type": "stream",
       "stream": "stdout",
       "text": [
        "\n",
        "GMULTIAMP - Finished: 2016-03-23T08:27:43\n",
        "GMULTIAMP - Exit status: GOOD\n",
        "\n"
       ]
      },
      {
       "output_type": "stream",
       "stream": "stdout",
       "text": [
        "GDISPLAY: Displaying image...\n",
        "\n",
        "GDISPLAY - Finished: 2016-03-23T08:27:44\n"
       ]
      },
      {
       "output_type": "stream",
       "stream": "stdout",
       "text": [
        "\n",
        "S20101102S0132[1]"
       ]
      },
      {
       "output_type": "stream",
       "stream": "stdout",
       "text": [
        "\n",
        "\n",
        "GDISPLAY - Started: 2016-03-23T08:27:49\n",
        "\n"
       ]
      },
      {
       "output_type": "stream",
       "stream": "stdout",
       "text": [
        "GDISPLAY: Temporary image name tmpout92482_499S20101102S0132.fits\n",
        "\n",
        "GMULTIAMP - Started: 2016-03-23T08:27:49\n",
        "\n"
       ]
      },
      {
       "output_type": "stream",
       "stream": "stdout",
       "text": [
        "\n",
        "GMULTIAMP - Finished: 2016-03-23T08:27:50\n",
        "GMULTIAMP - Exit status: GOOD\n",
        "\n"
       ]
      },
      {
       "output_type": "stream",
       "stream": "stdout",
       "text": [
        "GDISPLAY: Displaying image...\n",
        "\n",
        "GDISPLAY - Finished: 2016-03-23T08:27:51\n"
       ]
      },
      {
       "output_type": "stream",
       "stream": "stdout",
       "text": [
        "\n",
        "S20101102S0133[1]"
       ]
      },
      {
       "output_type": "stream",
       "stream": "stdout",
       "text": [
        "\n",
        "\n",
        "GDISPLAY - Started: 2016-03-23T08:27:56\n",
        "\n"
       ]
      },
      {
       "output_type": "stream",
       "stream": "stdout",
       "text": [
        "GDISPLAY: Temporary image name tmpout92482_520S20101102S0133.fits\n",
        "\n",
        "GMULTIAMP - Started: 2016-03-23T08:27:56\n",
        "\n"
       ]
      },
      {
       "output_type": "stream",
       "stream": "stdout",
       "text": [
        "\n",
        "GMULTIAMP - Finished: 2016-03-23T08:27:57\n",
        "GMULTIAMP - Exit status: GOOD\n",
        "\n"
       ]
      },
      {
       "output_type": "stream",
       "stream": "stdout",
       "text": [
        "GDISPLAY: Displaying image...\n",
        "\n",
        "GDISPLAY - Finished: 2016-03-23T08:27:58\n"
       ]
      },
      {
       "output_type": "stream",
       "stream": "stdout",
       "text": [
        "\n",
        "S20101102S0134[1]"
       ]
      },
      {
       "output_type": "stream",
       "stream": "stdout",
       "text": [
        "\n",
        "\n",
        "GDISPLAY - Started: 2016-03-23T08:28:03\n",
        "\n"
       ]
      },
      {
       "output_type": "stream",
       "stream": "stdout",
       "text": [
        "GDISPLAY: Temporary image name tmpout92482_541S20101102S0134.fits\n",
        "\n",
        "GMULTIAMP - Started: 2016-03-23T08:28:03\n",
        "\n"
       ]
      },
      {
       "output_type": "stream",
       "stream": "stdout",
       "text": [
        "\n",
        "GMULTIAMP - Finished: 2016-03-23T08:28:04\n",
        "GMULTIAMP - Exit status: GOOD\n",
        "\n"
       ]
      },
      {
       "output_type": "stream",
       "stream": "stdout",
       "text": [
        "GDISPLAY: Displaying image...\n",
        "\n",
        "GDISPLAY - Finished: 2016-03-23T08:28:05\n"
       ]
      },
      {
       "output_type": "stream",
       "stream": "stdout",
       "text": [
        "\n",
        "S20101102S0135[1]"
       ]
      },
      {
       "output_type": "stream",
       "stream": "stdout",
       "text": [
        "\n",
        "\n",
        "GDISPLAY - Started: 2016-03-23T08:28:10\n",
        "\n"
       ]
      },
      {
       "output_type": "stream",
       "stream": "stdout",
       "text": [
        "GDISPLAY: Temporary image name tmpout92482_562S20101102S0135.fits\n",
        "\n",
        "GMULTIAMP - Started: 2016-03-23T08:28:10\n",
        "\n"
       ]
      },
      {
       "output_type": "stream",
       "stream": "stdout",
       "text": [
        "\n",
        "GMULTIAMP - Finished: 2016-03-23T08:28:11\n",
        "GMULTIAMP - Exit status: GOOD\n",
        "\n"
       ]
      },
      {
       "output_type": "stream",
       "stream": "stdout",
       "text": [
        "GDISPLAY: Displaying image...\n",
        "\n",
        "GDISPLAY - Finished: 2016-03-23T08:28:12\n"
       ]
      },
      {
       "output_type": "stream",
       "stream": "stdout",
       "text": [
        "\n",
        "S20101107S0228[1]"
       ]
      },
      {
       "output_type": "stream",
       "stream": "stdout",
       "text": [
        "\n",
        "\n",
        "GDISPLAY - Started: 2016-03-23T08:28:17\n",
        "\n"
       ]
      },
      {
       "output_type": "stream",
       "stream": "stdout",
       "text": [
        "GDISPLAY: Temporary image name tmpout92482_583S20101107S0228.fits\n",
        "\n",
        "GMULTIAMP - Started: 2016-03-23T08:28:17\n",
        "\n"
       ]
      },
      {
       "output_type": "stream",
       "stream": "stdout",
       "text": [
        "\n",
        "GMULTIAMP - Finished: 2016-03-23T08:28:18\n",
        "GMULTIAMP - Exit status: GOOD\n",
        "\n"
       ]
      },
      {
       "output_type": "stream",
       "stream": "stdout",
       "text": [
        "GDISPLAY: Displaying image...\n",
        "\n",
        "GDISPLAY - Finished: 2016-03-23T08:28:19\n"
       ]
      },
      {
       "output_type": "stream",
       "stream": "stdout",
       "text": [
        "\n",
        "S20101107S0229[1]"
       ]
      },
      {
       "output_type": "stream",
       "stream": "stdout",
       "text": [
        "\n",
        "\n",
        "GDISPLAY - Started: 2016-03-23T08:28:24\n",
        "\n"
       ]
      },
      {
       "output_type": "stream",
       "stream": "stdout",
       "text": [
        "GDISPLAY: Temporary image name tmpout92482_604S20101107S0229.fits\n",
        "\n",
        "GMULTIAMP - Started: 2016-03-23T08:28:24\n",
        "\n"
       ]
      },
      {
       "output_type": "stream",
       "stream": "stdout",
       "text": [
        "\n",
        "GMULTIAMP - Finished: 2016-03-23T08:28:25\n",
        "GMULTIAMP - Exit status: GOOD\n",
        "\n"
       ]
      },
      {
       "output_type": "stream",
       "stream": "stdout",
       "text": [
        "GDISPLAY: Displaying image...\n",
        "\n",
        "GDISPLAY - Finished: 2016-03-23T08:28:26\n"
       ]
      },
      {
       "output_type": "stream",
       "stream": "stdout",
       "text": [
        "\n",
        "S20101107S0230[1]"
       ]
      },
      {
       "output_type": "stream",
       "stream": "stdout",
       "text": [
        "\n",
        "\n",
        "GDISPLAY - Started: 2016-03-23T08:28:31\n",
        "\n"
       ]
      },
      {
       "output_type": "stream",
       "stream": "stdout",
       "text": [
        "GDISPLAY: Temporary image name tmpout92482_625S20101107S0230.fits\n",
        "\n",
        "GMULTIAMP - Started: 2016-03-23T08:28:31\n",
        "\n"
       ]
      },
      {
       "output_type": "stream",
       "stream": "stdout",
       "text": [
        "\n",
        "GMULTIAMP - Finished: 2016-03-23T08:28:32\n",
        "GMULTIAMP - Exit status: GOOD\n",
        "\n"
       ]
      },
      {
       "output_type": "stream",
       "stream": "stdout",
       "text": [
        "GDISPLAY: Displaying image...\n",
        "\n",
        "GDISPLAY - Finished: 2016-03-23T08:28:33\n"
       ]
      },
      {
       "output_type": "stream",
       "stream": "stdout",
       "text": [
        "\n",
        "S20101107S0231[1]"
       ]
      },
      {
       "output_type": "stream",
       "stream": "stdout",
       "text": [
        "\n",
        "\n",
        "GDISPLAY - Started: 2016-03-23T08:28:38\n",
        "\n"
       ]
      },
      {
       "output_type": "stream",
       "stream": "stdout",
       "text": [
        "GDISPLAY: Temporary image name tmpout92482_646S20101107S0231.fits\n",
        "\n",
        "GMULTIAMP - Started: 2016-03-23T08:28:38\n",
        "\n"
       ]
      },
      {
       "output_type": "stream",
       "stream": "stdout",
       "text": [
        "\n",
        "GMULTIAMP - Finished: 2016-03-23T08:28:38\n",
        "GMULTIAMP - Exit status: GOOD\n",
        "\n"
       ]
      },
      {
       "output_type": "stream",
       "stream": "stdout",
       "text": [
        "GDISPLAY: Displaying image...\n",
        "\n",
        "GDISPLAY - Finished: 2016-03-23T08:28:40\n"
       ]
      },
      {
       "output_type": "stream",
       "stream": "stdout",
       "text": [
        "\n",
        "S20101107S0232[1]"
       ]
      },
      {
       "output_type": "stream",
       "stream": "stdout",
       "text": [
        "\n",
        "\n",
        "GDISPLAY - Started: 2016-03-23T08:28:45\n",
        "\n"
       ]
      },
      {
       "output_type": "stream",
       "stream": "stdout",
       "text": [
        "GDISPLAY: Temporary image name tmpout92482_667S20101107S0232.fits\n",
        "\n",
        "GMULTIAMP - Started: 2016-03-23T08:28:45\n",
        "\n"
       ]
      },
      {
       "output_type": "stream",
       "stream": "stdout",
       "text": [
        "\n",
        "GMULTIAMP - Finished: 2016-03-23T08:28:45\n",
        "GMULTIAMP - Exit status: GOOD\n",
        "\n"
       ]
      },
      {
       "output_type": "stream",
       "stream": "stdout",
       "text": [
        "GDISPLAY: Displaying image...\n",
        "\n",
        "GDISPLAY - Finished: 2016-03-23T08:28:46\n"
       ]
      },
      {
       "output_type": "stream",
       "stream": "stdout",
       "text": [
        "\n",
        "S20101107S0201[1]"
       ]
      },
      {
       "output_type": "stream",
       "stream": "stdout",
       "text": [
        "\n",
        "\n",
        "GDISPLAY - Started: 2016-03-23T08:28:51\n",
        "\n"
       ]
      },
      {
       "output_type": "stream",
       "stream": "stdout",
       "text": [
        "GDISPLAY: Temporary image name tmpout92482_688S20101107S0201.fits\n",
        "\n",
        "GMULTIAMP - Started: 2016-03-23T08:28:52\n",
        "\n"
       ]
      },
      {
       "output_type": "stream",
       "stream": "stdout",
       "text": [
        "\n",
        "GMULTIAMP - Finished: 2016-03-23T08:28:52\n",
        "GMULTIAMP - Exit status: GOOD\n",
        "\n"
       ]
      },
      {
       "output_type": "stream",
       "stream": "stdout",
       "text": [
        "GDISPLAY: Displaying image...\n",
        "\n",
        "GDISPLAY - Finished: 2016-03-23T08:28:53\n"
       ]
      },
      {
       "output_type": "stream",
       "stream": "stdout",
       "text": [
        "\n",
        "S20101107S0202[1]"
       ]
      },
      {
       "output_type": "stream",
       "stream": "stdout",
       "text": [
        "\n",
        "\n",
        "GDISPLAY - Started: 2016-03-23T08:28:58\n",
        "\n"
       ]
      },
      {
       "output_type": "stream",
       "stream": "stdout",
       "text": [
        "GDISPLAY: Temporary image name tmpout92482_709S20101107S0202.fits\n",
        "\n",
        "GMULTIAMP - Started: 2016-03-23T08:28:59\n",
        "\n"
       ]
      },
      {
       "output_type": "stream",
       "stream": "stdout",
       "text": [
        "\n",
        "GMULTIAMP - Finished: 2016-03-23T08:28:59\n",
        "GMULTIAMP - Exit status: GOOD\n",
        "\n"
       ]
      },
      {
       "output_type": "stream",
       "stream": "stdout",
       "text": [
        "GDISPLAY: Displaying image...\n",
        "\n",
        "GDISPLAY - Finished: 2016-03-23T08:29:00\n"
       ]
      },
      {
       "output_type": "stream",
       "stream": "stdout",
       "text": [
        "\n",
        "S20101107S0203[1]"
       ]
      },
      {
       "output_type": "stream",
       "stream": "stdout",
       "text": [
        "\n",
        "\n",
        "GDISPLAY - Started: 2016-03-23T08:29:05\n",
        "\n"
       ]
      },
      {
       "output_type": "stream",
       "stream": "stdout",
       "text": [
        "GDISPLAY: Temporary image name tmpout92482_730S20101107S0203.fits\n",
        "\n",
        "GMULTIAMP - Started: 2016-03-23T08:29:05\n",
        "\n"
       ]
      },
      {
       "output_type": "stream",
       "stream": "stdout",
       "text": [
        "\n",
        "GMULTIAMP - Finished: 2016-03-23T08:29:06\n",
        "GMULTIAMP - Exit status: GOOD\n",
        "\n"
       ]
      },
      {
       "output_type": "stream",
       "stream": "stdout",
       "text": [
        "GDISPLAY: Displaying image...\n",
        "\n",
        "GDISPLAY - Finished: 2016-03-23T08:29:07\n"
       ]
      },
      {
       "output_type": "stream",
       "stream": "stdout",
       "text": [
        "\n",
        "S20101107S0204[1]"
       ]
      },
      {
       "output_type": "stream",
       "stream": "stdout",
       "text": [
        "\n",
        "\n",
        "GDISPLAY - Started: 2016-03-23T08:29:12\n",
        "\n"
       ]
      },
      {
       "output_type": "stream",
       "stream": "stdout",
       "text": [
        "GDISPLAY: Temporary image name tmpout92482_751S20101107S0204.fits\n",
        "\n",
        "GMULTIAMP - Started: 2016-03-23T08:29:12\n",
        "\n"
       ]
      },
      {
       "output_type": "stream",
       "stream": "stdout",
       "text": [
        "\n",
        "GMULTIAMP - Finished: 2016-03-23T08:29:13\n",
        "GMULTIAMP - Exit status: GOOD\n",
        "\n"
       ]
      },
      {
       "output_type": "stream",
       "stream": "stdout",
       "text": [
        "GDISPLAY: Displaying image...\n",
        "\n",
        "GDISPLAY - Finished: 2016-03-23T08:29:14\n"
       ]
      },
      {
       "output_type": "stream",
       "stream": "stdout",
       "text": [
        "\n",
        "S20101107S0205[1]"
       ]
      },
      {
       "output_type": "stream",
       "stream": "stdout",
       "text": [
        "\n",
        "\n",
        "GDISPLAY - Started: 2016-03-23T08:29:19\n",
        "\n"
       ]
      },
      {
       "output_type": "stream",
       "stream": "stdout",
       "text": [
        "GDISPLAY: Temporary image name tmpout92482_772S20101107S0205.fits\n",
        "\n",
        "GMULTIAMP - Started: 2016-03-23T08:29:19\n",
        "\n"
       ]
      },
      {
       "output_type": "stream",
       "stream": "stdout",
       "text": [
        "\n",
        "GMULTIAMP - Finished: 2016-03-23T08:29:20\n",
        "GMULTIAMP - Exit status: GOOD\n",
        "\n"
       ]
      },
      {
       "output_type": "stream",
       "stream": "stdout",
       "text": [
        "GDISPLAY: Displaying image...\n",
        "\n",
        "GDISPLAY - Finished: 2016-03-23T08:29:21\n"
       ]
      },
      {
       "output_type": "stream",
       "stream": "stdout",
       "text": [
        "\n",
        "S20101107S0206[1]"
       ]
      },
      {
       "output_type": "stream",
       "stream": "stdout",
       "text": [
        "\n",
        "\n",
        "GDISPLAY - Started: 2016-03-23T08:29:26\n",
        "\n"
       ]
      },
      {
       "output_type": "stream",
       "stream": "stdout",
       "text": [
        "GDISPLAY: Temporary image name tmpout92482_793S20101107S0206.fits\n",
        "\n",
        "GMULTIAMP - Started: 2016-03-23T08:29:26\n",
        "\n"
       ]
      },
      {
       "output_type": "stream",
       "stream": "stdout",
       "text": [
        "\n",
        "GMULTIAMP - Finished: 2016-03-23T08:29:27\n",
        "GMULTIAMP - Exit status: GOOD\n",
        "\n"
       ]
      },
      {
       "output_type": "stream",
       "stream": "stdout",
       "text": [
        "GDISPLAY: Displaying image...\n",
        "\n",
        "GDISPLAY - Finished: 2016-03-23T08:29:28\n"
       ]
      },
      {
       "output_type": "stream",
       "stream": "stdout",
       "text": [
        "\n",
        "S20101107S0207[1]"
       ]
      },
      {
       "output_type": "stream",
       "stream": "stdout",
       "text": [
        "\n",
        "\n",
        "GDISPLAY - Started: 2016-03-23T08:29:33\n",
        "\n"
       ]
      },
      {
       "output_type": "stream",
       "stream": "stdout",
       "text": [
        "GDISPLAY: Temporary image name tmpout92482_814S20101107S0207.fits\n",
        "\n",
        "GMULTIAMP - Started: 2016-03-23T08:29:33\n",
        "\n"
       ]
      },
      {
       "output_type": "stream",
       "stream": "stdout",
       "text": [
        "\n",
        "GMULTIAMP - Finished: 2016-03-23T08:29:34\n",
        "GMULTIAMP - Exit status: GOOD\n",
        "\n"
       ]
      },
      {
       "output_type": "stream",
       "stream": "stdout",
       "text": [
        "GDISPLAY: Displaying image...\n",
        "\n",
        "GDISPLAY - Finished: 2016-03-23T08:29:35\n"
       ]
      },
      {
       "output_type": "stream",
       "stream": "stdout",
       "text": [
        "\n",
        "S20101107S0208[1]"
       ]
      },
      {
       "output_type": "stream",
       "stream": "stdout",
       "text": [
        "\n",
        "\n",
        "GDISPLAY - Started: 2016-03-23T08:29:40\n",
        "\n"
       ]
      },
      {
       "output_type": "stream",
       "stream": "stdout",
       "text": [
        "GDISPLAY: Temporary image name tmpout92482_835S20101107S0208.fits\n",
        "\n",
        "GMULTIAMP - Started: 2016-03-23T08:29:40\n",
        "\n"
       ]
      },
      {
       "output_type": "stream",
       "stream": "stdout",
       "text": [
        "\n",
        "GMULTIAMP - Finished: 2016-03-23T08:29:41\n",
        "GMULTIAMP - Exit status: GOOD\n",
        "\n"
       ]
      },
      {
       "output_type": "stream",
       "stream": "stdout",
       "text": [
        "GDISPLAY: Displaying image...\n",
        "\n",
        "GDISPLAY - Finished: 2016-03-23T08:29:42\n"
       ]
      },
      {
       "output_type": "stream",
       "stream": "stdout",
       "text": [
        "\n",
        "S20101107S0209[1]"
       ]
      },
      {
       "output_type": "stream",
       "stream": "stdout",
       "text": [
        "\n",
        "\n",
        "GDISPLAY - Started: 2016-03-23T08:29:47\n",
        "\n"
       ]
      },
      {
       "output_type": "stream",
       "stream": "stdout",
       "text": [
        "GDISPLAY: Temporary image name tmpout92482_856S20101107S0209.fits\n",
        "\n",
        "GMULTIAMP - Started: 2016-03-23T08:29:47\n",
        "\n"
       ]
      },
      {
       "output_type": "stream",
       "stream": "stdout",
       "text": [
        "\n",
        "GMULTIAMP - Finished: 2016-03-23T08:29:48\n",
        "GMULTIAMP - Exit status: GOOD\n",
        "\n"
       ]
      },
      {
       "output_type": "stream",
       "stream": "stdout",
       "text": [
        "GDISPLAY: Displaying image...\n",
        "\n",
        "GDISPLAY - Finished: 2016-03-23T08:29:49\n"
       ]
      },
      {
       "output_type": "stream",
       "stream": "stdout",
       "text": [
        "\n",
        "S20101107S0210[1]"
       ]
      },
      {
       "output_type": "stream",
       "stream": "stdout",
       "text": [
        "\n",
        "\n",
        "GDISPLAY - Started: 2016-03-23T08:29:54\n",
        "\n"
       ]
      },
      {
       "output_type": "stream",
       "stream": "stdout",
       "text": [
        "GDISPLAY: Temporary image name tmpout92482_877S20101107S0210.fits\n",
        "\n",
        "GMULTIAMP - Started: 2016-03-23T08:29:54\n",
        "\n"
       ]
      },
      {
       "output_type": "stream",
       "stream": "stdout",
       "text": [
        "\n",
        "GMULTIAMP - Finished: 2016-03-23T08:29:55\n",
        "GMULTIAMP - Exit status: GOOD\n",
        "\n"
       ]
      },
      {
       "output_type": "stream",
       "stream": "stdout",
       "text": [
        "GDISPLAY: Displaying image...\n",
        "\n",
        "GDISPLAY - Finished: 2016-03-23T08:29:56\n"
       ]
      },
      {
       "output_type": "stream",
       "stream": "stdout",
       "text": [
        "\n",
        "S20101107S0211[1]"
       ]
      },
      {
       "output_type": "stream",
       "stream": "stdout",
       "text": [
        "\n",
        "\n",
        "GDISPLAY - Started: 2016-03-23T08:30:01\n",
        "\n"
       ]
      },
      {
       "output_type": "stream",
       "stream": "stdout",
       "text": [
        "GDISPLAY: Temporary image name tmpout92482_898S20101107S0211.fits\n",
        "\n",
        "GMULTIAMP - Started: 2016-03-23T08:30:01\n",
        "\n"
       ]
      },
      {
       "output_type": "stream",
       "stream": "stdout",
       "text": [
        "\n",
        "GMULTIAMP - Finished: 2016-03-23T08:30:02\n",
        "GMULTIAMP - Exit status: GOOD\n",
        "\n"
       ]
      },
      {
       "output_type": "stream",
       "stream": "stdout",
       "text": [
        "GDISPLAY: Displaying image...\n",
        "\n",
        "GDISPLAY - Finished: 2016-03-23T08:30:03\n"
       ]
      },
      {
       "output_type": "stream",
       "stream": "stdout",
       "text": [
        "\n",
        "S20101107S0212[1]"
       ]
      },
      {
       "output_type": "stream",
       "stream": "stdout",
       "text": [
        "\n",
        "\n",
        "GDISPLAY - Started: 2016-03-23T08:30:08\n",
        "\n"
       ]
      },
      {
       "output_type": "stream",
       "stream": "stdout",
       "text": [
        "GDISPLAY: Temporary image name tmpout92482_919S20101107S0212.fits\n",
        "\n",
        "GMULTIAMP - Started: 2016-03-23T08:30:08\n",
        "\n"
       ]
      },
      {
       "output_type": "stream",
       "stream": "stdout",
       "text": [
        "\n",
        "GMULTIAMP - Finished: 2016-03-23T08:30:09\n",
        "GMULTIAMP - Exit status: GOOD\n",
        "\n"
       ]
      },
      {
       "output_type": "stream",
       "stream": "stdout",
       "text": [
        "GDISPLAY: Displaying image...\n",
        "\n",
        "GDISPLAY - Finished: 2016-03-23T08:30:10\n"
       ]
      },
      {
       "output_type": "stream",
       "stream": "stdout",
       "text": [
        "\n",
        "S20101101S0087[1]"
       ]
      },
      {
       "output_type": "stream",
       "stream": "stdout",
       "text": [
        "\n",
        "\n",
        "GDISPLAY - Started: 2016-03-23T08:30:15\n",
        "\n"
       ]
      },
      {
       "output_type": "stream",
       "stream": "stdout",
       "text": [
        "GDISPLAY: Temporary image name tmpout92482_940S20101101S0087.fits\n",
        "\n",
        "GMULTIAMP - Started: 2016-03-23T08:30:15\n",
        "\n"
       ]
      },
      {
       "output_type": "stream",
       "stream": "stdout",
       "text": [
        "\n",
        "GMULTIAMP - Finished: 2016-03-23T08:30:16\n",
        "GMULTIAMP - Exit status: GOOD\n",
        "\n"
       ]
      },
      {
       "output_type": "stream",
       "stream": "stdout",
       "text": [
        "GDISPLAY: Displaying image...\n",
        "\n",
        "GDISPLAY - Finished: 2016-03-23T08:30:17\n"
       ]
      },
      {
       "output_type": "stream",
       "stream": "stdout",
       "text": [
        "\n",
        "S20101101S0088[1]"
       ]
      },
      {
       "output_type": "stream",
       "stream": "stdout",
       "text": [
        "\n",
        "\n",
        "GDISPLAY - Started: 2016-03-23T08:30:22\n",
        "\n"
       ]
      },
      {
       "output_type": "stream",
       "stream": "stdout",
       "text": [
        "GDISPLAY: Temporary image name tmpout92482_961S20101101S0088.fits\n",
        "\n",
        "GMULTIAMP - Started: 2016-03-23T08:30:22\n",
        "\n"
       ]
      },
      {
       "output_type": "stream",
       "stream": "stdout",
       "text": [
        "\n",
        "GMULTIAMP - Finished: 2016-03-23T08:30:23\n",
        "GMULTIAMP - Exit status: GOOD\n",
        "\n"
       ]
      },
      {
       "output_type": "stream",
       "stream": "stdout",
       "text": [
        "GDISPLAY: Displaying image...\n",
        "\n",
        "GDISPLAY - Finished: 2016-03-23T08:30:24\n"
       ]
      },
      {
       "output_type": "stream",
       "stream": "stdout",
       "text": [
        "\n",
        "S20101101S0089[1]"
       ]
      },
      {
       "output_type": "stream",
       "stream": "stdout",
       "text": [
        "\n",
        "\n",
        "GDISPLAY - Started: 2016-03-23T08:30:29\n",
        "\n"
       ]
      },
      {
       "output_type": "stream",
       "stream": "stdout",
       "text": [
        "GDISPLAY: Temporary image name tmpout92482_982S20101101S0089.fits\n",
        "\n",
        "GMULTIAMP - Started: 2016-03-23T08:30:29\n",
        "\n"
       ]
      },
      {
       "output_type": "stream",
       "stream": "stdout",
       "text": [
        "\n",
        "GMULTIAMP - Finished: 2016-03-23T08:30:30\n",
        "GMULTIAMP - Exit status: GOOD\n",
        "\n"
       ]
      },
      {
       "output_type": "stream",
       "stream": "stdout",
       "text": [
        "GDISPLAY: Displaying image...\n",
        "\n",
        "GDISPLAY - Finished: 2016-03-23T08:30:31\n"
       ]
      },
      {
       "output_type": "stream",
       "stream": "stdout",
       "text": [
        "\n",
        "S20101101S0090[1]"
       ]
      },
      {
       "output_type": "stream",
       "stream": "stdout",
       "text": [
        "\n",
        "\n",
        "GDISPLAY - Started: 2016-03-23T08:30:36\n",
        "\n"
       ]
      },
      {
       "output_type": "stream",
       "stream": "stdout",
       "text": [
        "GDISPLAY: Temporary image name tmpout92482_1003S20101101S0090.fits\n",
        "\n",
        "GMULTIAMP - Started: 2016-03-23T08:30:36\n",
        "\n"
       ]
      },
      {
       "output_type": "stream",
       "stream": "stdout",
       "text": [
        "\n",
        "GMULTIAMP - Finished: 2016-03-23T08:30:36\n",
        "GMULTIAMP - Exit status: GOOD\n",
        "\n"
       ]
      },
      {
       "output_type": "stream",
       "stream": "stdout",
       "text": [
        "GDISPLAY: Displaying image...\n",
        "\n",
        "GDISPLAY - Finished: 2016-03-23T08:30:37\n"
       ]
      },
      {
       "output_type": "stream",
       "stream": "stdout",
       "text": [
        "\n"
       ]
      }
     ],
     "prompt_number": 5
    },
    {
     "cell_type": "heading",
     "level": 2,
     "metadata": {},
     "source": [
      "STEP 4: Process the biases"
     ]
    },
    {
     "cell_type": "markdown",
     "metadata": {},
     "source": [
      "This will produce the two biases defined above.  Those two biases will be used later to process the science frames, the twilight flats, and the fringe frames."
     ]
    },
    {
     "cell_type": "code",
     "collapsed": false,
     "input": [
      "os.chdir(redux_path)\n",
      "\n",
      "for biaskey in biases.keys():\n",
      "    iraf.imdelete(biases[biaskey]['procbias'], verify='no')\n",
      "    iraf.imdelete('g//@'+biaskey+'.lis', verify='no')\n",
      "\n",
      "    print 'Creating bias ', biases[biaskey]['procbias']\n",
      "    iraf.gbias('@'+biaskey+'.lis', outbias=biases[biaskey]['procbias'], \\\n",
      "               rawpath=raw_path, fl_over='yes', fl_trim='yes', \\\n",
      "               fl_vardq='yes')\n",
      "    shutil.copy(biases[biaskey]['procbias'], procbias_path)\n",
      "\n",
      "# The processed biases are:\n",
      "os.listdir(procbias_path)"
     ],
     "language": "python",
     "metadata": {},
     "outputs": [
      {
       "output_type": "stream",
       "stream": "stdout",
       "text": [
        "Creating bias  S20101101S0169_bias.fits\n",
        "----------------------------------------------------------------------------\n",
        "GBIAS -- Wed Mar 23 08:33:17 HST 2016\n",
        "\n",
        "Input images:\n",
        "  S20101101S0169\n",
        "  S20101101S0170\n",
        "  S20101101S0171\n",
        "  S20101101S0172\n",
        "  S20101102S0131\n",
        "  S20101102S0132"
       ]
      },
      {
       "output_type": "stream",
       "stream": "stdout",
       "text": [
        "\n",
        "  S20101102S0133\n",
        "  S20101102S0134\n",
        "  S20101102S0135\n",
        "\n",
        "Output bias image: S20101101S0169_bias.fits\n",
        " \n"
       ]
      },
      {
       "output_type": "stream",
       "stream": "stdout",
       "text": [
        "\n",
        "----------------------------------------------------------------------------"
       ]
      },
      {
       "output_type": "stream",
       "stream": "stdout",
       "text": [
        "\n",
        "GIREDUCE -- Wed Mar 23 08:33:17 HST 2016\n",
        "\n"
       ]
      },
      {
       "output_type": "stream",
       "stream": "stdout",
       "text": [
        "----------------------------------------------------------------------------\n",
        "GPREPARE -- Wed Mar 23 08:33:17 HST 2016\n",
        "\n",
        "Input list    = /data/workspace/DRWorkshopAAO/raw/S20101101S0169\n",
        "Output list   = \n",
        "Output prefix = g\n",
        "Raw path      = \n",
        "MDF dir       = gmos$data/\n",
        "Add MDF       = no\n",
        "\n"
       ]
      },
      {
       "output_type": "stream",
       "stream": "stdout",
       "text": [
        "Input  /data/workspace/DRWorkshopAAO/raw/S20101101S0169.fits   Output  gS20101101S0169.fits\n"
       ]
      },
      {
       "output_type": "stream",
       "stream": "stdout",
       "text": [
        "\n",
        "GPREPARE exit status: good.\n",
        "----------------------------------------------------------------------------\n"
       ]
      },
      {
       "output_type": "stream",
       "stream": "stdout",
       "text": [
        "----------------------------------------------------------------------------\n",
        "GPREPARE -- Wed Mar 23 08:33:18 HST 2016\n",
        "\n",
        "Input list    = /data/workspace/DRWorkshopAAO/raw/S20101101S0170\n",
        "Output list   = \n",
        "Output prefix = g\n",
        "Raw path      = \n",
        "MDF dir       = gmos$data/\n",
        "Add MDF       = no\n",
        "\n"
       ]
      },
      {
       "output_type": "stream",
       "stream": "stdout",
       "text": [
        "Input  /data/workspace/DRWorkshopAAO/raw/S20101101S0170.fits   Output  gS20101101S0170.fits\n"
       ]
      },
      {
       "output_type": "stream",
       "stream": "stdout",
       "text": [
        "\n",
        "GPREPARE exit status: good.\n",
        "----------------------------------------------------------------------------\n"
       ]
      },
      {
       "output_type": "stream",
       "stream": "stdout",
       "text": [
        "----------------------------------------------------------------------------\n",
        "GPREPARE -- Wed Mar 23 08:33:19 HST 2016\n",
        "\n",
        "Input list    = /data/workspace/DRWorkshopAAO/raw/S20101101S0171\n",
        "Output list   = \n",
        "Output prefix = g\n",
        "Raw path      = \n",
        "MDF dir       = gmos$data/\n",
        "Add MDF       = no\n",
        "\n"
       ]
      },
      {
       "output_type": "stream",
       "stream": "stdout",
       "text": [
        "Input  /data/workspace/DRWorkshopAAO/raw/S20101101S0171.fits   Output  gS20101101S0171.fits\n"
       ]
      },
      {
       "output_type": "stream",
       "stream": "stdout",
       "text": [
        "\n",
        "GPREPARE exit status: good.\n",
        "----------------------------------------------------------------------------\n"
       ]
      },
      {
       "output_type": "stream",
       "stream": "stdout",
       "text": [
        "----------------------------------------------------------------------------\n",
        "GPREPARE -- Wed Mar 23 08:33:20 HST 2016\n",
        "\n",
        "Input list    = /data/workspace/DRWorkshopAAO/raw/S20101101S0172\n",
        "Output list   = \n",
        "Output prefix = g\n",
        "Raw path      = \n",
        "MDF dir       = gmos$data/\n",
        "Add MDF       = no\n",
        "\n"
       ]
      },
      {
       "output_type": "stream",
       "stream": "stdout",
       "text": [
        "Input  /data/workspace/DRWorkshopAAO/raw/S20101101S0172.fits   Output  gS20101101S0172.fits\n"
       ]
      },
      {
       "output_type": "stream",
       "stream": "stdout",
       "text": [
        "\n",
        "GPREPARE exit status: good.\n",
        "----------------------------------------------------------------------------\n"
       ]
      },
      {
       "output_type": "stream",
       "stream": "stdout",
       "text": [
        "----------------------------------------------------------------------------\n",
        "GPREPARE -- Wed Mar 23 08:33:21 HST 2016\n",
        "\n",
        "Input list    = /data/workspace/DRWorkshopAAO/raw/S20101102S0131\n",
        "Output list   = \n",
        "Output prefix = g\n",
        "Raw path      = \n",
        "MDF dir       = gmos$data/\n",
        "Add MDF       = no\n",
        "\n"
       ]
      },
      {
       "output_type": "stream",
       "stream": "stdout",
       "text": [
        "Input  /data/workspace/DRWorkshopAAO/raw/S20101102S0131.fits   Output  gS20101102S0131.fits\n"
       ]
      },
      {
       "output_type": "stream",
       "stream": "stdout",
       "text": [
        "\n",
        "GPREPARE exit status: good.\n",
        "----------------------------------------------------------------------------\n"
       ]
      },
      {
       "output_type": "stream",
       "stream": "stdout",
       "text": [
        "----------------------------------------------------------------------------\n",
        "GPREPARE -- Wed Mar 23 08:33:22 HST 2016\n",
        "\n",
        "Input list    = /data/workspace/DRWorkshopAAO/raw/S20101102S0132\n",
        "Output list   = \n",
        "Output prefix = g\n",
        "Raw path      = \n",
        "MDF dir       = gmos$data/\n",
        "Add MDF       = no\n",
        "\n"
       ]
      },
      {
       "output_type": "stream",
       "stream": "stdout",
       "text": [
        "Input  /data/workspace/DRWorkshopAAO/raw/S20101102S0132.fits   Output  gS20101102S0132.fits\n"
       ]
      },
      {
       "output_type": "stream",
       "stream": "stdout",
       "text": [
        "\n",
        "GPREPARE exit status: good.\n",
        "----------------------------------------------------------------------------\n"
       ]
      },
      {
       "output_type": "stream",
       "stream": "stdout",
       "text": [
        "----------------------------------------------------------------------------\n",
        "GPREPARE -- Wed Mar 23 08:33:23 HST 2016\n",
        "\n",
        "Input list    = /data/workspace/DRWorkshopAAO/raw/S20101102S0133\n",
        "Output list   = \n",
        "Output prefix = g\n",
        "Raw path      = \n",
        "MDF dir       = gmos$data/\n",
        "Add MDF       = no\n",
        "\n"
       ]
      },
      {
       "output_type": "stream",
       "stream": "stdout",
       "text": [
        "Input  /data/workspace/DRWorkshopAAO/raw/S20101102S0133.fits   Output  gS20101102S0133.fits\n"
       ]
      },
      {
       "output_type": "stream",
       "stream": "stdout",
       "text": [
        "\n",
        "GPREPARE exit status: good.\n",
        "----------------------------------------------------------------------------\n"
       ]
      },
      {
       "output_type": "stream",
       "stream": "stdout",
       "text": [
        "----------------------------------------------------------------------------\n",
        "GPREPARE -- Wed Mar 23 08:33:24 HST 2016\n",
        "\n",
        "Input list    = /data/workspace/DRWorkshopAAO/raw/S20101102S0134\n",
        "Output list   = \n",
        "Output prefix = g\n",
        "Raw path      = \n",
        "MDF dir       = gmos$data/\n",
        "Add MDF       = no\n",
        "\n"
       ]
      },
      {
       "output_type": "stream",
       "stream": "stdout",
       "text": [
        "Input  /data/workspace/DRWorkshopAAO/raw/S20101102S0134.fits   Output  gS20101102S0134.fits\n"
       ]
      },
      {
       "output_type": "stream",
       "stream": "stdout",
       "text": [
        "\n",
        "GPREPARE exit status: good.\n",
        "----------------------------------------------------------------------------\n"
       ]
      },
      {
       "output_type": "stream",
       "stream": "stdout",
       "text": [
        "----------------------------------------------------------------------------\n",
        "GPREPARE -- Wed Mar 23 08:33:25 HST 2016\n",
        "\n",
        "Input list    = /data/workspace/DRWorkshopAAO/raw/S20101102S0135\n",
        "Output list   = \n",
        "Output prefix = g\n",
        "Raw path      = \n",
        "MDF dir       = gmos$data/\n",
        "Add MDF       = no\n",
        "\n"
       ]
      },
      {
       "output_type": "stream",
       "stream": "stdout",
       "text": [
        "Input  /data/workspace/DRWorkshopAAO/raw/S20101102S0135.fits   Output  gS20101102S0135.fits\n"
       ]
      },
      {
       "output_type": "stream",
       "stream": "stdout",
       "text": [
        "\n",
        "GPREPARE exit status: good.\n",
        "----------------------------------------------------------------------------\n"
       ]
      },
      {
       "output_type": "stream",
       "stream": "stdout",
       "text": [
        "\n",
        "Input files:\n",
        "gS20101101S0169\n",
        "gS20101101S0170\n",
        "gS20101101S0171\n",
        "gS20101101S0172\n",
        "gS20101102S0131\n",
        "gS20101102S0132\n",
        "gS20101102S0133\n",
        "gS20101102S0134\n",
        "gS20101102S0135\n"
       ]
      },
      {
       "output_type": "stream",
       "stream": "stdout",
       "text": [
        "\n"
       ]
      },
      {
       "output_type": "stream",
       "stream": "stdout",
       "text": [
        "Output files:\n",
        "tmpfile92482_1139S20101101S0169\n",
        "tmpfile92482_1139S20101101S0170\n",
        "tmpfile92482_1139S20101101S0171\n",
        "tmpfile92482_1139S20101101S0172\n",
        "tmpfile92482_1139S20101102S0131\n",
        "tmpfile92482_1139S20101102S0132\n",
        "tmpfile92482_1139S20101102S0133\n",
        "tmpfile92482_1139S20101102S0134\n",
        "tmpfile92482_1139S20101102S0135\n"
       ]
      },
      {
       "output_type": "stream",
       "stream": "stdout",
       "text": [
        "\n",
        "GIREDUCE: Image tmpfile92482_1139S20101101S0169 overscan subtracted"
       ]
      },
      {
       "output_type": "stream",
       "stream": "stdout",
       "text": [
        "\n",
        "GIREDUCE: Image tmpfile92482_1139S20101101S0170 overscan subtracted"
       ]
      },
      {
       "output_type": "stream",
       "stream": "stdout",
       "text": [
        "\n",
        "GIREDUCE: Image tmpfile92482_1139S20101101S0171 overscan subtracted"
       ]
      },
      {
       "output_type": "stream",
       "stream": "stdout",
       "text": [
        "\n",
        "GIREDUCE: Image tmpfile92482_1139S20101101S0172 overscan subtracted"
       ]
      },
      {
       "output_type": "stream",
       "stream": "stdout",
       "text": [
        "\n",
        "GIREDUCE: Image tmpfile92482_1139S20101102S0131 overscan subtracted"
       ]
      },
      {
       "output_type": "stream",
       "stream": "stdout",
       "text": [
        "\n",
        "GIREDUCE: Image tmpfile92482_1139S20101102S0132 overscan subtracted"
       ]
      },
      {
       "output_type": "stream",
       "stream": "stdout",
       "text": [
        "\n",
        "GIREDUCE: Image tmpfile92482_1139S20101102S0133 overscan subtracted"
       ]
      },
      {
       "output_type": "stream",
       "stream": "stdout",
       "text": [
        "\n",
        "GIREDUCE: Image tmpfile92482_1139S20101102S0134 overscan subtracted"
       ]
      },
      {
       "output_type": "stream",
       "stream": "stdout",
       "text": [
        "\n",
        "GIREDUCE: Image tmpfile92482_1139S20101102S0135 overscan subtracted"
       ]
      },
      {
       "output_type": "stream",
       "stream": "stdout",
       "text": [
        "\n"
       ]
      },
      {
       "output_type": "stream",
       "stream": "stdout",
       "text": [
        "GIREDUCE: Image tmpfile92482_1139S20101101S0169 trimmed\n"
       ]
      },
      {
       "output_type": "stream",
       "stream": "stdout",
       "text": [
        "GIREDUCE: Image tmpfile92482_1139S20101101S0170 trimmed\n"
       ]
      },
      {
       "output_type": "stream",
       "stream": "stdout",
       "text": [
        "GIREDUCE: Image tmpfile92482_1139S20101101S0171 trimmed\n"
       ]
      },
      {
       "output_type": "stream",
       "stream": "stdout",
       "text": [
        "GIREDUCE: Image tmpfile92482_1139S20101101S0172 trimmed\n"
       ]
      },
      {
       "output_type": "stream",
       "stream": "stdout",
       "text": [
        "GIREDUCE: Image tmpfile92482_1139S20101102S0131 trimmed\n"
       ]
      },
      {
       "output_type": "stream",
       "stream": "stdout",
       "text": [
        "GIREDUCE: Image tmpfile92482_1139S20101102S0132 trimmed\n"
       ]
      },
      {
       "output_type": "stream",
       "stream": "stdout",
       "text": [
        "GIREDUCE: Image tmpfile92482_1139S20101102S0133 trimmed\n"
       ]
      },
      {
       "output_type": "stream",
       "stream": "stdout",
       "text": [
        "GIREDUCE: Image tmpfile92482_1139S20101102S0134 trimmed\n"
       ]
      },
      {
       "output_type": "stream",
       "stream": "stdout",
       "text": [
        "GIREDUCE: Image tmpfile92482_1139S20101102S0135 trimmed\n",
        "\n"
       ]
      },
      {
       "output_type": "stream",
       "stream": "stdout",
       "text": [
        "\n",
        "GIREDUCE - Cleaning up -- Wed Mar 23 08:34:16 HST 2016\n"
       ]
      },
      {
       "output_type": "stream",
       "stream": "stdout",
       "text": [
        "\n",
        "GIREDUCE -- Wed Mar 23 08:34:16 HST 2016\n",
        "GIREDUCE exit status:  good.\n",
        "----------------------------------------------------------------------------\n",
        "--------------------------------------------------------------------------------"
       ]
      },
      {
       "output_type": "stream",
       "stream": "stdout",
       "text": [
        "\n",
        "GEMCOMBINE -- Wed Mar 23 08:34:16 HST 2016\n",
        " \n",
        "GEMCOMBINE: input = @tmpcombin92482_1136\n",
        "GEMCOMBINE: output = S20101101S0169_bias.fits\n",
        "GEMCOMBINE: title = Bias\n",
        "GEMCOMBINE: bpmfile = \n",
        "GEMCOMBINE: sci_ext = SCI\n",
        "GEMCOMBINE: var_ext = VAR\n",
        "GEMCOMBINE: dq_ext = DQ\n",
        " \n"
       ]
      },
      {
       "output_type": "stream",
       "stream": "stdout",
       "text": [
        "\n",
        "Mar 23  8:34: IMCOMBINE\n",
        "  combine = average, scale = none, zero = none, weight = none\n",
        "  reject = avsigclip, mclip = yes, nkeep = 1\n",
        "  lsigma = 3., hsigma = 3.\n",
        "  blank = 0.\n",
        "  statsec = Mar 23  8:34\n",
        "                Images     Exp\n",
        "  tmpfile92482_1139S20101101S0169.fits[SCI,1]    0.0\n",
        "  tmpfile92482_1139S20101101S0170.fits[SCI,1]    0.0\n",
        "  tmpfile92482_1139S20101101S0171.fits[SCI,1]    0.0\n",
        "  tmpfile92482_1139S20101101S0172.fits[SCI,1]    0.0\n",
        "  tmpfile92482_1139S20101102S0131.fits[SCI,1]    0.0\n",
        "  tmpfile92482_1139S20101102S0132.fits[SCI,1]    0.0\n",
        "  tmpfile92482_1139S20101102S0133.fits[SCI,1]    0.0\n",
        "  tmpfile92482_1139S20101102S0134.fits[SCI,1]    0.0\n",
        "  tmpfile92482_1139S20101102S0135.fits[SCI,1]    0.0\n",
        "\n",
        "  Output image = tmpcombout92482_1213, ncombine = 9\n",
        "  Number rejected mask = tmpcombdq92482_1214.pl\n",
        "  Sigma image = tmpcombsig92482_1215\n"
       ]
      },
      {
       "output_type": "stream",
       "stream": "stdout",
       "text": [
        "\n",
        "Mar 23  8:34: IMCOMBINE\n",
        "  combine = average, scale = none, zero = none, weight = none\n",
        "  reject = avsigclip, mclip = yes, nkeep = 1\n",
        "  lsigma = 3., hsigma = 3.\n",
        "  blank = 0.\n",
        "  statsec = Mar 23  8:34\n",
        "                Images     Exp\n",
        "  tmpfile92482_1139S20101101S0169.fits[SCI,2]    0.0\n",
        "  tmpfile92482_1139S20101101S0170.fits[SCI,2]    0.0\n",
        "  tmpfile92482_1139S20101101S0171.fits[SCI,2]    0.0\n",
        "  tmpfile92482_1139S20101101S0172.fits[SCI,2]    0.0\n",
        "  tmpfile92482_1139S20101102S0131.fits[SCI,2]    0.0\n",
        "  tmpfile92482_1139S20101102S0132.fits[SCI,2]    0.0\n",
        "  tmpfile92482_1139S20101102S0133.fits[SCI,2]    0.0\n",
        "  tmpfile92482_1139S20101102S0134.fits[SCI,2]    0.0\n",
        "  tmpfile92482_1139S20101102S0135.fits[SCI,2]    0.0\n",
        "\n",
        "  Output image = tmpcombout92482_1220, ncombine = 9\n",
        "  Number rejected mask = tmpcombdq92482_1221.pl\n",
        "  Sigma image = tmpcombsig92482_1222\n"
       ]
      },
      {
       "output_type": "stream",
       "stream": "stdout",
       "text": [
        "\n",
        "Mar 23  8:34: IMCOMBINE\n",
        "  combine = average, scale = none, zero = none, weight = none\n",
        "  reject = avsigclip, mclip = yes, nkeep = 1\n",
        "  lsigma = 3., hsigma = 3.\n",
        "  blank = 0.\n",
        "  statsec = Mar 23  8:34\n",
        "                Images     Exp\n",
        "  tmpfile92482_1139S20101101S0169.fits[SCI,3]    0.0\n",
        "  tmpfile92482_1139S20101101S0170.fits[SCI,3]    0.0\n",
        "  tmpfile92482_1139S20101101S0171.fits[SCI,3]    0.0\n",
        "  tmpfile92482_1139S20101101S0172.fits[SCI,3]    0.0\n",
        "  tmpfile92482_1139S20101102S0131.fits[SCI,3]    0.0\n",
        "  tmpfile92482_1139S20101102S0132.fits[SCI,3]    0.0\n",
        "  tmpfile92482_1139S20101102S0133.fits[SCI,3]    0.0\n",
        "  tmpfile92482_1139S20101102S0134.fits[SCI,3]    0.0\n",
        "  tmpfile92482_1139S20101102S0135.fits[SCI,3]    0.0\n",
        "\n",
        "  Output image = tmpcombout92482_1224, ncombine = 9\n",
        "  Number rejected mask = tmpcombdq92482_1225.pl\n",
        "  Sigma image = tmpcombsig92482_1226\n"
       ]
      },
      {
       "output_type": "stream",
       "stream": "stdout",
       "text": [
        " \n",
        "GEMCOMBINE -- Finished: Wed Mar 23 08:34:28 HST 2016\n",
        " \n",
        "GEMCOMBINE -- Exit status: GOOD\n",
        "--------------------------------------------------------------------------------\n"
       ]
      },
      {
       "output_type": "stream",
       "stream": "stdout",
       "text": [
        "\n",
        "GBIAS: Exit status: GOOD.\n",
        "----------------------------------------------------------------------------\n",
        "Creating bias "
       ]
      },
      {
       "output_type": "stream",
       "stream": "stdout",
       "text": [
        " S20101107S0228_bias.fits\n",
        "----------------------------------------------------------------------------\n",
        "GBIAS -- Wed Mar 23 08:34:29 HST 2016\n",
        "\n",
        "Input images:\n",
        "  S20101107S0228\n",
        "  S20101107S0229"
       ]
      },
      {
       "output_type": "stream",
       "stream": "stdout",
       "text": [
        "\n",
        "  S20101107S0230\n",
        "  S20101107S0231\n",
        "  S20101107S0232\n",
        "\n",
        "Output bias image: S20101107S0228_bias.fits\n",
        " \n"
       ]
      },
      {
       "output_type": "stream",
       "stream": "stdout",
       "text": [
        "\n",
        "----------------------------------------------------------------------------"
       ]
      },
      {
       "output_type": "stream",
       "stream": "stdout",
       "text": [
        "\n",
        "GIREDUCE -- Wed Mar 23 08:34:29 HST 2016\n",
        "\n"
       ]
      },
      {
       "output_type": "stream",
       "stream": "stdout",
       "text": [
        "----------------------------------------------------------------------------\n",
        "GPREPARE -- Wed Mar 23 08:34:29 HST 2016\n",
        "\n",
        "Input list    = /data/workspace/DRWorkshopAAO/raw/S20101107S0228\n",
        "Output list   = \n",
        "Output prefix = g\n",
        "Raw path      = \n",
        "MDF dir       = gmos$data/\n",
        "Add MDF       = no\n",
        "\n"
       ]
      },
      {
       "output_type": "stream",
       "stream": "stdout",
       "text": [
        "Input  /data/workspace/DRWorkshopAAO/raw/S20101107S0228.fits   Output  gS20101107S0228.fits\n"
       ]
      },
      {
       "output_type": "stream",
       "stream": "stdout",
       "text": [
        "\n",
        "GPREPARE exit status: good.\n",
        "----------------------------------------------------------------------------\n"
       ]
      },
      {
       "output_type": "stream",
       "stream": "stdout",
       "text": [
        "----------------------------------------------------------------------------\n",
        "GPREPARE -- Wed Mar 23 08:34:30 HST 2016\n",
        "\n",
        "Input list    = /data/workspace/DRWorkshopAAO/raw/S20101107S0229\n",
        "Output list   = \n",
        "Output prefix = g\n",
        "Raw path      = \n",
        "MDF dir       = gmos$data/\n",
        "Add MDF       = no\n",
        "\n"
       ]
      },
      {
       "output_type": "stream",
       "stream": "stdout",
       "text": [
        "Input  /data/workspace/DRWorkshopAAO/raw/S20101107S0229.fits   Output  gS20101107S0229.fits\n"
       ]
      },
      {
       "output_type": "stream",
       "stream": "stdout",
       "text": [
        "\n",
        "GPREPARE exit status: good.\n",
        "----------------------------------------------------------------------------\n"
       ]
      },
      {
       "output_type": "stream",
       "stream": "stdout",
       "text": [
        "----------------------------------------------------------------------------\n",
        "GPREPARE -- Wed Mar 23 08:34:31 HST 2016\n",
        "\n",
        "Input list    = /data/workspace/DRWorkshopAAO/raw/S20101107S0230\n",
        "Output list   = \n",
        "Output prefix = g\n",
        "Raw path      = \n",
        "MDF dir       = gmos$data/\n",
        "Add MDF       = no\n",
        "\n"
       ]
      },
      {
       "output_type": "stream",
       "stream": "stdout",
       "text": [
        "Input  /data/workspace/DRWorkshopAAO/raw/S20101107S0230.fits   Output  gS20101107S0230.fits\n"
       ]
      },
      {
       "output_type": "stream",
       "stream": "stdout",
       "text": [
        "\n",
        "GPREPARE exit status: good.\n",
        "----------------------------------------------------------------------------\n"
       ]
      },
      {
       "output_type": "stream",
       "stream": "stdout",
       "text": [
        "----------------------------------------------------------------------------\n",
        "GPREPARE -- Wed Mar 23 08:34:32 HST 2016\n",
        "\n",
        "Input list    = /data/workspace/DRWorkshopAAO/raw/S20101107S0231\n",
        "Output list   = \n",
        "Output prefix = g\n",
        "Raw path      = \n",
        "MDF dir       = gmos$data/\n",
        "Add MDF       = no\n",
        "\n"
       ]
      },
      {
       "output_type": "stream",
       "stream": "stdout",
       "text": [
        "Input  /data/workspace/DRWorkshopAAO/raw/S20101107S0231.fits   Output  gS20101107S0231.fits\n"
       ]
      },
      {
       "output_type": "stream",
       "stream": "stdout",
       "text": [
        "\n",
        "GPREPARE exit status: good.\n",
        "----------------------------------------------------------------------------\n"
       ]
      },
      {
       "output_type": "stream",
       "stream": "stdout",
       "text": [
        "----------------------------------------------------------------------------\n",
        "GPREPARE -- Wed Mar 23 08:34:33 HST 2016\n",
        "\n",
        "Input list    = /data/workspace/DRWorkshopAAO/raw/S20101107S0232\n",
        "Output list   = \n",
        "Output prefix = g\n",
        "Raw path      = \n",
        "MDF dir       = gmos$data/\n",
        "Add MDF       = no\n",
        "\n"
       ]
      },
      {
       "output_type": "stream",
       "stream": "stdout",
       "text": [
        "Input  /data/workspace/DRWorkshopAAO/raw/S20101107S0232.fits   Output  gS20101107S0232.fits\n"
       ]
      },
      {
       "output_type": "stream",
       "stream": "stdout",
       "text": [
        "\n",
        "GPREPARE exit status: good.\n",
        "----------------------------------------------------------------------------\n"
       ]
      },
      {
       "output_type": "stream",
       "stream": "stdout",
       "text": [
        "\n",
        "Input files:\n",
        "gS20101107S0228\n",
        "gS20101107S0229\n",
        "gS20101107S0230\n",
        "gS20101107S0231\n",
        "gS20101107S0232\n"
       ]
      },
      {
       "output_type": "stream",
       "stream": "stdout",
       "text": [
        "\n"
       ]
      },
      {
       "output_type": "stream",
       "stream": "stdout",
       "text": [
        "Output files:\n",
        "tmpfile92482_1234S20101107S0228\n",
        "tmpfile92482_1234S20101107S0229\n",
        "tmpfile92482_1234S20101107S0230\n",
        "tmpfile92482_1234S20101107S0231\n",
        "tmpfile92482_1234S20101107S0232\n"
       ]
      },
      {
       "output_type": "stream",
       "stream": "stdout",
       "text": [
        "\n",
        "GIREDUCE: Image tmpfile92482_1234S20101107S0228 overscan subtracted"
       ]
      },
      {
       "output_type": "stream",
       "stream": "stdout",
       "text": [
        "\n",
        "GIREDUCE: Image tmpfile92482_1234S20101107S0229 overscan subtracted"
       ]
      },
      {
       "output_type": "stream",
       "stream": "stdout",
       "text": [
        "\n",
        "GIREDUCE: Image tmpfile92482_1234S20101107S0230 overscan subtracted"
       ]
      },
      {
       "output_type": "stream",
       "stream": "stdout",
       "text": [
        "\n",
        "GIREDUCE: Image tmpfile92482_1234S20101107S0231 overscan subtracted"
       ]
      },
      {
       "output_type": "stream",
       "stream": "stdout",
       "text": [
        "\n",
        "GIREDUCE: Image tmpfile92482_1234S20101107S0232 overscan subtracted"
       ]
      },
      {
       "output_type": "stream",
       "stream": "stdout",
       "text": [
        "\n"
       ]
      },
      {
       "output_type": "stream",
       "stream": "stdout",
       "text": [
        "GIREDUCE: Image tmpfile92482_1234S20101107S0228 trimmed\n"
       ]
      },
      {
       "output_type": "stream",
       "stream": "stdout",
       "text": [
        "GIREDUCE: Image tmpfile92482_1234S20101107S0229 trimmed\n"
       ]
      },
      {
       "output_type": "stream",
       "stream": "stdout",
       "text": [
        "GIREDUCE: Image tmpfile92482_1234S20101107S0230 trimmed\n"
       ]
      },
      {
       "output_type": "stream",
       "stream": "stdout",
       "text": [
        "GIREDUCE: Image tmpfile92482_1234S20101107S0231 trimmed\n"
       ]
      },
      {
       "output_type": "stream",
       "stream": "stdout",
       "text": [
        "GIREDUCE: Image tmpfile92482_1234S20101107S0232 trimmed\n",
        "\n"
       ]
      },
      {
       "output_type": "stream",
       "stream": "stdout",
       "text": [
        "\n",
        "GIREDUCE - Cleaning up -- Wed Mar 23 08:35:02 HST 2016\n"
       ]
      },
      {
       "output_type": "stream",
       "stream": "stdout",
       "text": [
        "\n",
        "GIREDUCE -- Wed Mar 23 08:35:02 HST 2016\n",
        "GIREDUCE exit status:  good.\n",
        "----------------------------------------------------------------------------\n",
        "--------------------------------------------------------------------------------"
       ]
      },
      {
       "output_type": "stream",
       "stream": "stdout",
       "text": [
        "\n",
        "GEMCOMBINE -- Wed Mar 23 08:35:02 HST 2016\n",
        " \n",
        "GEMCOMBINE: input = @tmpcombin92482_1231\n",
        "GEMCOMBINE: output = S20101107S0228_bias.fits\n",
        "GEMCOMBINE: title = Bias\n",
        "GEMCOMBINE: bpmfile = \n",
        "GEMCOMBINE: sci_ext = SCI\n",
        "GEMCOMBINE: var_ext = VAR\n",
        "GEMCOMBINE: dq_ext = DQ\n",
        " \n"
       ]
      },
      {
       "output_type": "stream",
       "stream": "stdout",
       "text": [
        "WARNING - GEMCOMBINE: five or less images to combine.\n",
        "\n",
        "Mar 23  8:35: IMCOMBINE\n",
        "  combine = average, scale = none, zero = none, weight = none\n",
        "  reject = avsigclip, mclip = yes, nkeep = 1\n",
        "  lsigma = 3., hsigma = 3.\n",
        "  blank = 0.\n",
        "  statsec = Mar 23  8:35\n",
        "                Images     Exp\n",
        "  tmpfile92482_1234S20101107S0228.fits[SCI,1]    0.0\n",
        "  tmpfile92482_1234S20101107S0229.fits[SCI,1]    0.0\n",
        "  tmpfile92482_1234S20101107S0230.fits[SCI,1]    0.0\n",
        "  tmpfile92482_1234S20101107S0231.fits[SCI,1]    0.0\n",
        "  tmpfile92482_1234S20101107S0232.fits[SCI,1]    5.2\n",
        "\n",
        "  Output image = tmpcombout92482_1284, ncombine = 5\n",
        "  Number rejected mask = tmpcombdq92482_1285.pl\n",
        "  Sigma image = tmpcombsig92482_1286\n"
       ]
      },
      {
       "output_type": "stream",
       "stream": "stdout",
       "text": [
        "WARNING - GEMCOMBINE: five or less images to combine.\n",
        "\n",
        "Mar 23  8:35: IMCOMBINE\n",
        "  combine = average, scale = none, zero = none, weight = none\n",
        "  reject = avsigclip, mclip = yes, nkeep = 1\n",
        "  lsigma = 3., hsigma = 3.\n",
        "  blank = 0.\n",
        "  statsec = Mar 23  8:35\n",
        "                Images     Exp\n",
        "  tmpfile92482_1234S20101107S0228.fits[SCI,2]    0.0\n",
        "  tmpfile92482_1234S20101107S0229.fits[SCI,2]    0.0\n",
        "  tmpfile92482_1234S20101107S0230.fits[SCI,2]    0.0\n",
        "  tmpfile92482_1234S20101107S0231.fits[SCI,2]    0.0\n",
        "  tmpfile92482_1234S20101107S0232.fits[SCI,2]    5.2\n",
        "\n",
        "  Output image = tmpcombout92482_1291, ncombine = 5\n",
        "  Number rejected mask = tmpcombdq92482_1292.pl\n",
        "  Sigma image = tmpcombsig92482_1293\n"
       ]
      },
      {
       "output_type": "stream",
       "stream": "stdout",
       "text": [
        "WARNING - GEMCOMBINE: five or less images to combine.\n",
        "\n",
        "Mar 23  8:35: IMCOMBINE\n",
        "  combine = average, scale = none, zero = none, weight = none\n",
        "  reject = avsigclip, mclip = yes, nkeep = 1\n",
        "  lsigma = 3., hsigma = 3.\n",
        "  blank = 0.\n",
        "  statsec = Mar 23  8:35\n",
        "                Images     Exp\n",
        "  tmpfile92482_1234S20101107S0228.fits[SCI,3]    0.0\n",
        "  tmpfile92482_1234S20101107S0229.fits[SCI,3]    0.0\n",
        "  tmpfile92482_1234S20101107S0230.fits[SCI,3]    0.0\n",
        "  tmpfile92482_1234S20101107S0231.fits[SCI,3]    0.0\n",
        "  tmpfile92482_1234S20101107S0232.fits[SCI,3]    5.2\n",
        "\n",
        "  Output image = tmpcombout92482_1295, ncombine = 5\n",
        "  Number rejected mask = tmpcombdq92482_1296.pl\n",
        "  Sigma image = tmpcombsig92482_1297\n"
       ]
      },
      {
       "output_type": "stream",
       "stream": "stdout",
       "text": [
        " \n",
        "GEMCOMBINE -- Finished: Wed Mar 23 08:35:11 HST 2016\n",
        " \n",
        "GEMCOMBINE -- Exit status: GOOD\n",
        "--------------------------------------------------------------------------------\n"
       ]
      },
      {
       "output_type": "stream",
       "stream": "stdout",
       "text": [
        "\n",
        "GBIAS: Exit status: GOOD.\n",
        "----------------------------------------------------------------------------\n"
       ]
      },
      {
       "metadata": {},
       "output_type": "pyout",
       "prompt_number": 8,
       "text": [
        "['S20101101S0169_bias.fits',\n",
        " 'S20101107S0228_bias.fits',\n",
        " 'S20101111S0061_bias.fits']"
       ]
      }
     ],
     "prompt_number": 8
    },
    {
     "cell_type": "heading",
     "level": 4,
     "metadata": {},
     "source": [
      "Visually inspect the processed biases"
     ]
    },
    {
     "cell_type": "code",
     "collapsed": false,
     "input": [
      "# WARNING: interactive.  It launches imexam.  Type 'q' to quit.\n",
      "for biaskey in biases.keys():\n",
      "    iraf.gdisplay(biases[biaskey]['procbias'], 1, fl_paste='yes')"
     ],
     "language": "python",
     "metadata": {},
     "outputs": [
      {
       "output_type": "stream",
       "stream": "stdout",
       "text": [
        "\n",
        "GDISPLAY - Started: 2016-03-23T08:35:32\n",
        "\n"
       ]
      },
      {
       "output_type": "stream",
       "stream": "stdout",
       "text": [
        "GDISPLAY: Temporary image name tmpout92482_1300S20101101S0169_bias.fits\n",
        "\n",
        "GMULTIAMP - Started: 2016-03-23T08:35:32\n",
        "\n"
       ]
      },
      {
       "output_type": "stream",
       "stream": "stdout",
       "text": [
        "GMULTIAMP: Tiling image...\n"
       ]
      },
      {
       "output_type": "stream",
       "stream": "stdout",
       "text": [
        "               Image tiled.\n"
       ]
      },
      {
       "output_type": "stream",
       "stream": "stdout",
       "text": [
        "\n",
        "GMULTIAMP - Finished: 2016-03-23T08:35:34\n",
        "GMULTIAMP - Exit status: GOOD\n",
        "\n"
       ]
      },
      {
       "output_type": "stream",
       "stream": "stdout",
       "text": [
        "GDISPLAY: Displaying image...\n",
        "\n",
        "GDISPLAY: Starting imexamine - quit with q"
       ]
      },
      {
       "output_type": "stream",
       "stream": "stdout",
       "text": [
        "\n",
        "\n",
        "GDISPLAY - Finished: 2016-03-23T08:35:39\n"
       ]
      },
      {
       "output_type": "stream",
       "stream": "stdout",
       "text": [
        "\n",
        "\n",
        "GDISPLAY - Started: 2016-03-23T08:35:39\n",
        "\n"
       ]
      },
      {
       "output_type": "stream",
       "stream": "stdout",
       "text": [
        "GDISPLAY: Temporary image name tmpout92482_1334S20101107S0228_bias.fits\n",
        "\n",
        "GMULTIAMP - Started: 2016-03-23T08:35:40\n",
        "\n"
       ]
      },
      {
       "output_type": "stream",
       "stream": "stdout",
       "text": [
        "GMULTIAMP: Tiling image...\n"
       ]
      },
      {
       "output_type": "stream",
       "stream": "stdout",
       "text": [
        "               Image tiled.\n"
       ]
      },
      {
       "output_type": "stream",
       "stream": "stdout",
       "text": [
        "\n",
        "GMULTIAMP - Finished: 2016-03-23T08:35:41\n",
        "GMULTIAMP - Exit status: GOOD\n",
        "\n"
       ]
      },
      {
       "output_type": "stream",
       "stream": "stdout",
       "text": [
        "GDISPLAY: Displaying image...\n",
        "\n",
        "GDISPLAY: Starting imexamine - quit with q"
       ]
      },
      {
       "output_type": "stream",
       "stream": "stdout",
       "text": [
        "\n",
        "\n",
        "GDISPLAY - Finished: 2016-03-23T08:35:43\n"
       ]
      },
      {
       "output_type": "stream",
       "stream": "stdout",
       "text": [
        "\n"
       ]
      }
     ],
     "prompt_number": 9
    },
    {
     "cell_type": "heading",
     "level": 2,
     "metadata": {},
     "source": [
      "STEP 5: Process the twilight flats"
     ]
    },
    {
     "cell_type": "markdown",
     "metadata": {},
     "source": [
      "This will produce the one twilight flat defined above.  That flat will be used later to process the science frames and the fringe frames."
     ]
    },
    {
     "cell_type": "code",
     "collapsed": false,
     "input": [
      "os.chdir(redux_path)\n",
      "\n",
      "for flatkey in flats.keys():\n",
      "    iraf.imdelete('g//@'+flatkey+'.lis', verify='no')\n",
      "    iraf.imdelete('rg//@'+flatkey+'.lis', verify='no')\n",
      "    \n",
      "    flatlist = flatkey+'.lis'\n",
      "    procbias = os.path.join(procbias_path, flats[flatkey]['flatbias'])\n",
      "    \n",
      "    print 'Processing raw twilight flats'\n",
      "    \n",
      "    # gprepare and bias correct the raw flats\n",
      "    iraf.gireduce('@'+flatlist, rawpath=raw_path, \\\n",
      "                  fl_over='yes', fl_trim='yes', \\\n",
      "                  fl_bias='yes', bias=procbias, fl_flat='no', \\\n",
      "                  fl_vardq='yes')"
     ],
     "language": "python",
     "metadata": {},
     "outputs": [
      {
       "output_type": "stream",
       "stream": "stdout",
       "text": [
        "Processing raw twilight flats\n",
        "----------------------------------------------------------------------------"
       ]
      },
      {
       "output_type": "stream",
       "stream": "stdout",
       "text": [
        "\n",
        "GIREDUCE -- Wed Mar 23 08:36:32 HST 2016\n",
        "\n"
       ]
      },
      {
       "output_type": "stream",
       "stream": "stdout",
       "text": [
        "----------------------------------------------------------------------------\n",
        "GPREPARE -- Wed Mar 23 08:36:32 HST 2016\n",
        "\n",
        "Input list    = S20101107S0201\n",
        "Output list   = \n",
        "Output prefix = g\n",
        "Raw path      = /data/workspace/DRWorkshopAAO/raw/\n",
        "MDF dir       = gmos$data/\n",
        "Add MDF       = no\n",
        "\n"
       ]
      },
      {
       "output_type": "stream",
       "stream": "stdout",
       "text": [
        "Input  /data/workspace/DRWorkshopAAO/raw/S20101107S0201.fits   Output  gS20101107S0201.fits\n"
       ]
      },
      {
       "output_type": "stream",
       "stream": "stdout",
       "text": [
        "\n",
        "GPREPARE exit status: good.\n",
        "----------------------------------------------------------------------------\n"
       ]
      },
      {
       "output_type": "stream",
       "stream": "stdout",
       "text": [
        "----------------------------------------------------------------------------\n",
        "GPREPARE -- Wed Mar 23 08:36:33 HST 2016\n",
        "\n",
        "Input list    = S20101107S0202\n",
        "Output list   = \n",
        "Output prefix = g\n",
        "Raw path      = /data/workspace/DRWorkshopAAO/raw/\n",
        "MDF dir       = gmos$data/\n",
        "Add MDF       = no\n",
        "\n"
       ]
      },
      {
       "output_type": "stream",
       "stream": "stdout",
       "text": [
        "Input  /data/workspace/DRWorkshopAAO/raw/S20101107S0202.fits   Output  gS20101107S0202.fits\n"
       ]
      },
      {
       "output_type": "stream",
       "stream": "stdout",
       "text": [
        "\n",
        "GPREPARE exit status: good.\n",
        "----------------------------------------------------------------------------\n"
       ]
      },
      {
       "output_type": "stream",
       "stream": "stdout",
       "text": [
        "----------------------------------------------------------------------------\n",
        "GPREPARE -- Wed Mar 23 08:36:34 HST 2016\n",
        "\n",
        "Input list    = S20101107S0203\n",
        "Output list   = \n",
        "Output prefix = g\n",
        "Raw path      = /data/workspace/DRWorkshopAAO/raw/\n",
        "MDF dir       = gmos$data/\n",
        "Add MDF       = no\n",
        "\n"
       ]
      },
      {
       "output_type": "stream",
       "stream": "stdout",
       "text": [
        "Input  /data/workspace/DRWorkshopAAO/raw/S20101107S0203.fits   Output  gS20101107S0203.fits\n"
       ]
      },
      {
       "output_type": "stream",
       "stream": "stdout",
       "text": [
        "\n",
        "GPREPARE exit status: good.\n",
        "----------------------------------------------------------------------------\n"
       ]
      },
      {
       "output_type": "stream",
       "stream": "stdout",
       "text": [
        "----------------------------------------------------------------------------\n",
        "GPREPARE -- Wed Mar 23 08:36:35 HST 2016\n",
        "\n",
        "Input list    = S20101107S0204\n",
        "Output list   = \n",
        "Output prefix = g\n",
        "Raw path      = /data/workspace/DRWorkshopAAO/raw/\n",
        "MDF dir       = gmos$data/\n",
        "Add MDF       = no\n",
        "\n"
       ]
      },
      {
       "output_type": "stream",
       "stream": "stdout",
       "text": [
        "Input  /data/workspace/DRWorkshopAAO/raw/S20101107S0204.fits   Output  gS20101107S0204.fits\n"
       ]
      },
      {
       "output_type": "stream",
       "stream": "stdout",
       "text": [
        "\n",
        "GPREPARE exit status: good.\n",
        "----------------------------------------------------------------------------\n"
       ]
      },
      {
       "output_type": "stream",
       "stream": "stdout",
       "text": [
        "----------------------------------------------------------------------------\n",
        "GPREPARE -- Wed Mar 23 08:36:36 HST 2016\n",
        "\n",
        "Input list    = S20101107S0205\n",
        "Output list   = \n",
        "Output prefix = g\n",
        "Raw path      = /data/workspace/DRWorkshopAAO/raw/\n",
        "MDF dir       = gmos$data/\n",
        "Add MDF       = no\n",
        "\n"
       ]
      },
      {
       "output_type": "stream",
       "stream": "stdout",
       "text": [
        "Input  /data/workspace/DRWorkshopAAO/raw/S20101107S0205.fits   Output  gS20101107S0205.fits\n"
       ]
      },
      {
       "output_type": "stream",
       "stream": "stdout",
       "text": [
        "\n",
        "GPREPARE exit status: good.\n",
        "----------------------------------------------------------------------------\n"
       ]
      },
      {
       "output_type": "stream",
       "stream": "stdout",
       "text": [
        "----------------------------------------------------------------------------\n",
        "GPREPARE -- Wed Mar 23 08:36:37 HST 2016\n",
        "\n",
        "Input list    = S20101107S0206\n",
        "Output list   = \n",
        "Output prefix = g\n",
        "Raw path      = /data/workspace/DRWorkshopAAO/raw/\n",
        "MDF dir       = gmos$data/\n",
        "Add MDF       = no\n",
        "\n"
       ]
      },
      {
       "output_type": "stream",
       "stream": "stdout",
       "text": [
        "Input  /data/workspace/DRWorkshopAAO/raw/S20101107S0206.fits   Output  gS20101107S0206.fits\n"
       ]
      },
      {
       "output_type": "stream",
       "stream": "stdout",
       "text": [
        "\n",
        "GPREPARE exit status: good.\n",
        "----------------------------------------------------------------------------\n"
       ]
      },
      {
       "output_type": "stream",
       "stream": "stdout",
       "text": [
        "----------------------------------------------------------------------------\n",
        "GPREPARE -- Wed Mar 23 08:36:38 HST 2016\n",
        "\n",
        "Input list    = S20101107S0207\n",
        "Output list   = \n",
        "Output prefix = g\n",
        "Raw path      = /data/workspace/DRWorkshopAAO/raw/\n",
        "MDF dir       = gmos$data/\n",
        "Add MDF       = no\n",
        "\n"
       ]
      },
      {
       "output_type": "stream",
       "stream": "stdout",
       "text": [
        "Input  /data/workspace/DRWorkshopAAO/raw/S20101107S0207.fits   Output  gS20101107S0207.fits\n"
       ]
      },
      {
       "output_type": "stream",
       "stream": "stdout",
       "text": [
        "\n",
        "GPREPARE exit status: good.\n",
        "----------------------------------------------------------------------------\n"
       ]
      },
      {
       "output_type": "stream",
       "stream": "stdout",
       "text": [
        "----------------------------------------------------------------------------\n",
        "GPREPARE -- Wed Mar 23 08:36:39 HST 2016\n",
        "\n",
        "Input list    = S20101107S0208\n",
        "Output list   = \n",
        "Output prefix = g\n",
        "Raw path      = /data/workspace/DRWorkshopAAO/raw/\n",
        "MDF dir       = gmos$data/\n",
        "Add MDF       = no\n",
        "\n"
       ]
      },
      {
       "output_type": "stream",
       "stream": "stdout",
       "text": [
        "Input  /data/workspace/DRWorkshopAAO/raw/S20101107S0208.fits   Output  gS20101107S0208.fits\n"
       ]
      },
      {
       "output_type": "stream",
       "stream": "stdout",
       "text": [
        "\n",
        "GPREPARE exit status: good.\n",
        "----------------------------------------------------------------------------\n"
       ]
      },
      {
       "output_type": "stream",
       "stream": "stdout",
       "text": [
        "----------------------------------------------------------------------------\n",
        "GPREPARE -- Wed Mar 23 08:36:40 HST 2016\n",
        "\n",
        "Input list    = S20101107S0209\n",
        "Output list   = \n",
        "Output prefix = g\n",
        "Raw path      = /data/workspace/DRWorkshopAAO/raw/\n",
        "MDF dir       = gmos$data/\n",
        "Add MDF       = no\n",
        "\n"
       ]
      },
      {
       "output_type": "stream",
       "stream": "stdout",
       "text": [
        "Input  /data/workspace/DRWorkshopAAO/raw/S20101107S0209.fits   Output  gS20101107S0209.fits\n"
       ]
      },
      {
       "output_type": "stream",
       "stream": "stdout",
       "text": [
        "\n",
        "GPREPARE exit status: good.\n",
        "----------------------------------------------------------------------------\n"
       ]
      },
      {
       "output_type": "stream",
       "stream": "stdout",
       "text": [
        "----------------------------------------------------------------------------\n",
        "GPREPARE -- Wed Mar 23 08:36:41 HST 2016\n",
        "\n",
        "Input list    = S20101107S0210\n",
        "Output list   = \n",
        "Output prefix = g\n",
        "Raw path      = /data/workspace/DRWorkshopAAO/raw/\n",
        "MDF dir       = gmos$data/\n",
        "Add MDF       = no\n",
        "\n"
       ]
      },
      {
       "output_type": "stream",
       "stream": "stdout",
       "text": [
        "Input  /data/workspace/DRWorkshopAAO/raw/S20101107S0210.fits   Output  gS20101107S0210.fits\n"
       ]
      },
      {
       "output_type": "stream",
       "stream": "stdout",
       "text": [
        "\n",
        "GPREPARE exit status: good.\n",
        "----------------------------------------------------------------------------\n"
       ]
      },
      {
       "output_type": "stream",
       "stream": "stdout",
       "text": [
        "----------------------------------------------------------------------------\n",
        "GPREPARE -- Wed Mar 23 08:36:42 HST 2016\n",
        "\n",
        "Input list    = S20101107S0211\n",
        "Output list   = \n",
        "Output prefix = g\n",
        "Raw path      = /data/workspace/DRWorkshopAAO/raw/\n",
        "MDF dir       = gmos$data/\n",
        "Add MDF       = no\n",
        "\n"
       ]
      },
      {
       "output_type": "stream",
       "stream": "stdout",
       "text": [
        "Input  /data/workspace/DRWorkshopAAO/raw/S20101107S0211.fits   Output  gS20101107S0211.fits\n"
       ]
      },
      {
       "output_type": "stream",
       "stream": "stdout",
       "text": [
        "\n",
        "GPREPARE exit status: good.\n",
        "----------------------------------------------------------------------------\n"
       ]
      },
      {
       "output_type": "stream",
       "stream": "stdout",
       "text": [
        "----------------------------------------------------------------------------\n",
        "GPREPARE -- Wed Mar 23 08:36:43 HST 2016\n",
        "\n",
        "Input list    = S20101107S0212\n",
        "Output list   = \n",
        "Output prefix = g\n",
        "Raw path      = /data/workspace/DRWorkshopAAO/raw/\n",
        "MDF dir       = gmos$data/\n",
        "Add MDF       = no\n",
        "\n"
       ]
      },
      {
       "output_type": "stream",
       "stream": "stdout",
       "text": [
        "Input  /data/workspace/DRWorkshopAAO/raw/S20101107S0212.fits   Output  gS20101107S0212.fits\n"
       ]
      },
      {
       "output_type": "stream",
       "stream": "stdout",
       "text": [
        "\n",
        "GPREPARE exit status: good.\n",
        "----------------------------------------------------------------------------\n"
       ]
      },
      {
       "output_type": "stream",
       "stream": "stdout",
       "text": [
        "\n",
        "Input files:\n",
        "gS20101107S0201\n",
        "gS20101107S0202\n",
        "gS20101107S0203\n",
        "gS20101107S0204\n",
        "gS20101107S0205\n",
        "gS20101107S0206\n",
        "gS20101107S0207\n",
        "gS20101107S0208\n",
        "gS20101107S0209\n",
        "gS20101107S0210\n",
        "gS20101107S0211\n",
        "gS20101107S0212\n"
       ]
      },
      {
       "output_type": "stream",
       "stream": "stdout",
       "text": [
        "\n"
       ]
      },
      {
       "output_type": "stream",
       "stream": "stdout",
       "text": [
        "Output files:\n",
        "rgS20101107S0201\n",
        "rgS20101107S0202\n",
        "rgS20101107S0203\n",
        "rgS20101107S0204\n",
        "rgS20101107S0205\n",
        "rgS20101107S0206\n",
        "rgS20101107S0207\n",
        "rgS20101107S0208\n",
        "rgS20101107S0209\n",
        "rgS20101107S0210\n",
        "rgS20101107S0211\n",
        "rgS20101107S0212\n"
       ]
      },
      {
       "output_type": "stream",
       "stream": "stdout",
       "text": [
        "\n"
       ]
      },
      {
       "output_type": "stream",
       "stream": "stdout",
       "text": [
        "WARNING - GIREDUCE: Bad Pixel Mask filename is an empty string\n",
        "                    Only saturated pixels will be flagged\n",
        "GIREDUCE: Image rgS20101107S0201 overscan subtracted"
       ]
      },
      {
       "output_type": "stream",
       "stream": "stdout",
       "text": [
        "\n",
        "GIREDUCE: Image rgS20101107S0202 overscan subtracted"
       ]
      },
      {
       "output_type": "stream",
       "stream": "stdout",
       "text": [
        "\n",
        "GIREDUCE: Image rgS20101107S0203 overscan subtracted"
       ]
      },
      {
       "output_type": "stream",
       "stream": "stdout",
       "text": [
        "\n",
        "GIREDUCE: Image rgS20101107S0204 overscan subtracted"
       ]
      },
      {
       "output_type": "stream",
       "stream": "stdout",
       "text": [
        "\n",
        "GIREDUCE: Image rgS20101107S0205 overscan subtracted"
       ]
      },
      {
       "output_type": "stream",
       "stream": "stdout",
       "text": [
        "\n",
        "GIREDUCE: Image rgS20101107S0206 overscan subtracted"
       ]
      },
      {
       "output_type": "stream",
       "stream": "stdout",
       "text": [
        "\n",
        "GIREDUCE: Image rgS20101107S0207 overscan subtracted"
       ]
      },
      {
       "output_type": "stream",
       "stream": "stdout",
       "text": [
        "\n",
        "GIREDUCE: Image rgS20101107S0208 overscan subtracted"
       ]
      },
      {
       "output_type": "stream",
       "stream": "stdout",
       "text": [
        "\n",
        "GIREDUCE: Image rgS20101107S0209 overscan subtracted"
       ]
      },
      {
       "output_type": "stream",
       "stream": "stdout",
       "text": [
        "\n",
        "GIREDUCE: Image rgS20101107S0210 overscan subtracted"
       ]
      },
      {
       "output_type": "stream",
       "stream": "stdout",
       "text": [
        "\n",
        "GIREDUCE: Image rgS20101107S0211 overscan subtracted"
       ]
      },
      {
       "output_type": "stream",
       "stream": "stdout",
       "text": [
        "\n",
        "GIREDUCE: Image rgS20101107S0212 overscan subtracted"
       ]
      },
      {
       "output_type": "stream",
       "stream": "stdout",
       "text": [
        "\n"
       ]
      },
      {
       "output_type": "stream",
       "stream": "stdout",
       "text": [
        "GIREDUCE: Image rgS20101107S0201 trimmed\n"
       ]
      },
      {
       "output_type": "stream",
       "stream": "stdout",
       "text": [
        "GIREDUCE: Image rgS20101107S0202 trimmed\n"
       ]
      },
      {
       "output_type": "stream",
       "stream": "stdout",
       "text": [
        "GIREDUCE: Image rgS20101107S0203 trimmed\n"
       ]
      },
      {
       "output_type": "stream",
       "stream": "stdout",
       "text": [
        "GIREDUCE: Image rgS20101107S0204 trimmed\n"
       ]
      },
      {
       "output_type": "stream",
       "stream": "stdout",
       "text": [
        "GIREDUCE: Image rgS20101107S0205 trimmed\n"
       ]
      },
      {
       "output_type": "stream",
       "stream": "stdout",
       "text": [
        "GIREDUCE: Image rgS20101107S0206 trimmed\n"
       ]
      },
      {
       "output_type": "stream",
       "stream": "stdout",
       "text": [
        "GIREDUCE: Image rgS20101107S0207 trimmed\n"
       ]
      },
      {
       "output_type": "stream",
       "stream": "stdout",
       "text": [
        "GIREDUCE: Image rgS20101107S0208 trimmed\n"
       ]
      },
      {
       "output_type": "stream",
       "stream": "stdout",
       "text": [
        "GIREDUCE: Image rgS20101107S0209 trimmed\n"
       ]
      },
      {
       "output_type": "stream",
       "stream": "stdout",
       "text": [
        "GIREDUCE: Image rgS20101107S0210 trimmed\n"
       ]
      },
      {
       "output_type": "stream",
       "stream": "stdout",
       "text": [
        "GIREDUCE: Image rgS20101107S0211 trimmed\n"
       ]
      },
      {
       "output_type": "stream",
       "stream": "stdout",
       "text": [
        "GIREDUCE: Image rgS20101107S0212 trimmed\n",
        "\n",
        "Output image       Bias                 Flat               Dark       Scale \n",
        "rgS20101107S0201   /data/workspace/DRWorkshopAAO/calib/bias/S20101107S0228_bias INDEF              INDEF       0.00\n"
       ]
      },
      {
       "output_type": "stream",
       "stream": "stdout",
       "text": [
        "GIREDUCE: Subtracted bias /data/workspace/DRWorkshopAAO/calib/bias/S20101107S0228_bias from rgS20101107S0201\n"
       ]
      },
      {
       "output_type": "stream",
       "stream": "stdout",
       "text": [
        "GIREDUCE: multiplying image rgS20101107S0201 by gain\n"
       ]
      },
      {
       "output_type": "stream",
       "stream": "stdout",
       "text": [
        "GIREDUCE: output counts in electrons\n",
        "Output image       Bias                 Flat               Dark       Scale "
       ]
      },
      {
       "output_type": "stream",
       "stream": "stdout",
       "text": [
        "\n",
        "rgS20101107S0202   /data/workspace/DRWorkshopAAO/calib/bias/S20101107S0228_bias INDEF              INDEF       0.00\n"
       ]
      },
      {
       "output_type": "stream",
       "stream": "stdout",
       "text": [
        "GIREDUCE: Subtracted bias /data/workspace/DRWorkshopAAO/calib/bias/S20101107S0228_bias from rgS20101107S0202\n"
       ]
      },
      {
       "output_type": "stream",
       "stream": "stdout",
       "text": [
        "GIREDUCE: multiplying image rgS20101107S0202 by gain\n"
       ]
      },
      {
       "output_type": "stream",
       "stream": "stdout",
       "text": [
        "GIREDUCE: output counts in electrons\n",
        "Output image       Bias                 Flat               Dark       Scale \n",
        "rgS20101107S0203   /data/workspace/DRWorkshopAAO/calib/bias/S20101107S0228_bias INDEF              INDEF       0.00"
       ]
      },
      {
       "output_type": "stream",
       "stream": "stdout",
       "text": [
        "\n"
       ]
      },
      {
       "output_type": "stream",
       "stream": "stdout",
       "text": [
        "GIREDUCE: Subtracted bias /data/workspace/DRWorkshopAAO/calib/bias/S20101107S0228_bias from rgS20101107S0203\n"
       ]
      },
      {
       "output_type": "stream",
       "stream": "stdout",
       "text": [
        "GIREDUCE: multiplying image rgS20101107S0203 by gain\n"
       ]
      },
      {
       "output_type": "stream",
       "stream": "stdout",
       "text": [
        "GIREDUCE: output counts in electrons\n",
        "Output image       Bias                 Flat               Dark       Scale "
       ]
      },
      {
       "output_type": "stream",
       "stream": "stdout",
       "text": [
        "\n",
        "rgS20101107S0204   /data/workspace/DRWorkshopAAO/calib/bias/S20101107S0228_bias INDEF              INDEF       0.00\n"
       ]
      },
      {
       "output_type": "stream",
       "stream": "stdout",
       "text": [
        "GIREDUCE: Subtracted bias /data/workspace/DRWorkshopAAO/calib/bias/S20101107S0228_bias from rgS20101107S0204\n"
       ]
      },
      {
       "output_type": "stream",
       "stream": "stdout",
       "text": [
        "GIREDUCE: multiplying image rgS20101107S0204 by gain\n"
       ]
      },
      {
       "output_type": "stream",
       "stream": "stdout",
       "text": [
        "GIREDUCE: output counts in electrons\n",
        "Output image       Bias                 Flat               Dark       Scale \n",
        "rgS20101107S0205   /data/workspace/DRWorkshopAAO/calib/bias/S20101107S0228_bias INDEF              INDEF       0.00"
       ]
      },
      {
       "output_type": "stream",
       "stream": "stdout",
       "text": [
        "\n"
       ]
      },
      {
       "output_type": "stream",
       "stream": "stdout",
       "text": [
        "GIREDUCE: Subtracted bias /data/workspace/DRWorkshopAAO/calib/bias/S20101107S0228_bias from rgS20101107S0205\n"
       ]
      },
      {
       "output_type": "stream",
       "stream": "stdout",
       "text": [
        "GIREDUCE: multiplying image rgS20101107S0205 by gain\n"
       ]
      },
      {
       "output_type": "stream",
       "stream": "stdout",
       "text": [
        "GIREDUCE: output counts in electrons\n",
        "Output image       Bias                 Flat               Dark       Scale "
       ]
      },
      {
       "output_type": "stream",
       "stream": "stdout",
       "text": [
        "\n",
        "rgS20101107S0206   /data/workspace/DRWorkshopAAO/calib/bias/S20101107S0228_bias INDEF              INDEF       0.00\n"
       ]
      },
      {
       "output_type": "stream",
       "stream": "stdout",
       "text": [
        "GIREDUCE: Subtracted bias /data/workspace/DRWorkshopAAO/calib/bias/S20101107S0228_bias from rgS20101107S0206\n"
       ]
      },
      {
       "output_type": "stream",
       "stream": "stdout",
       "text": [
        "GIREDUCE: multiplying image rgS20101107S0206 by gain\n"
       ]
      },
      {
       "output_type": "stream",
       "stream": "stdout",
       "text": [
        "GIREDUCE: output counts in electrons\n",
        "Output image       Bias                 Flat               Dark       Scale "
       ]
      },
      {
       "output_type": "stream",
       "stream": "stdout",
       "text": [
        "\n",
        "rgS20101107S0207   /data/workspace/DRWorkshopAAO/calib/bias/S20101107S0228_bias INDEF              INDEF       0.00\n"
       ]
      },
      {
       "output_type": "stream",
       "stream": "stdout",
       "text": [
        "GIREDUCE: Subtracted bias /data/workspace/DRWorkshopAAO/calib/bias/S20101107S0228_bias from rgS20101107S0207\n"
       ]
      },
      {
       "output_type": "stream",
       "stream": "stdout",
       "text": [
        "GIREDUCE: multiplying image rgS20101107S0207 by gain\n"
       ]
      },
      {
       "output_type": "stream",
       "stream": "stdout",
       "text": [
        "GIREDUCE: output counts in electrons\n",
        "Output image       Bias                 Flat               Dark       Scale "
       ]
      },
      {
       "output_type": "stream",
       "stream": "stdout",
       "text": [
        "\n",
        "rgS20101107S0208   /data/workspace/DRWorkshopAAO/calib/bias/S20101107S0228_bias INDEF              INDEF       0.00\n"
       ]
      },
      {
       "output_type": "stream",
       "stream": "stdout",
       "text": [
        "GIREDUCE: Subtracted bias /data/workspace/DRWorkshopAAO/calib/bias/S20101107S0228_bias from rgS20101107S0208\n"
       ]
      },
      {
       "output_type": "stream",
       "stream": "stdout",
       "text": [
        "GIREDUCE: multiplying image rgS20101107S0208 by gain\n"
       ]
      },
      {
       "output_type": "stream",
       "stream": "stdout",
       "text": [
        "GIREDUCE: output counts in electrons\n",
        "Output image       Bias                 Flat               Dark       Scale "
       ]
      },
      {
       "output_type": "stream",
       "stream": "stdout",
       "text": [
        "\n",
        "rgS20101107S0209   /data/workspace/DRWorkshopAAO/calib/bias/S20101107S0228_bias INDEF              INDEF       0.00\n"
       ]
      },
      {
       "output_type": "stream",
       "stream": "stdout",
       "text": [
        "GIREDUCE: Subtracted bias /data/workspace/DRWorkshopAAO/calib/bias/S20101107S0228_bias from rgS20101107S0209\n"
       ]
      },
      {
       "output_type": "stream",
       "stream": "stdout",
       "text": [
        "GIREDUCE: multiplying image rgS20101107S0209 by gain\n"
       ]
      },
      {
       "output_type": "stream",
       "stream": "stdout",
       "text": [
        "GIREDUCE: output counts in electrons\n",
        "Output image       Bias                 Flat               Dark       Scale "
       ]
      },
      {
       "output_type": "stream",
       "stream": "stdout",
       "text": [
        "\n",
        "rgS20101107S0210   /data/workspace/DRWorkshopAAO/calib/bias/S20101107S0228_bias INDEF              INDEF       0.00\n"
       ]
      },
      {
       "output_type": "stream",
       "stream": "stdout",
       "text": [
        "GIREDUCE: Subtracted bias /data/workspace/DRWorkshopAAO/calib/bias/S20101107S0228_bias from rgS20101107S0210\n"
       ]
      },
      {
       "output_type": "stream",
       "stream": "stdout",
       "text": [
        "GIREDUCE: multiplying image rgS20101107S0210 by gain\n"
       ]
      },
      {
       "output_type": "stream",
       "stream": "stdout",
       "text": [
        "GIREDUCE: output counts in electrons\n",
        "Output image       Bias                 Flat               Dark       Scale \n",
        "rgS20101107S0211   /data/workspace/DRWorkshopAAO/calib/bias/S20101107S0228_bias INDEF              INDEF       0.00"
       ]
      },
      {
       "output_type": "stream",
       "stream": "stdout",
       "text": [
        "\n"
       ]
      },
      {
       "output_type": "stream",
       "stream": "stdout",
       "text": [
        "GIREDUCE: Subtracted bias /data/workspace/DRWorkshopAAO/calib/bias/S20101107S0228_bias from rgS20101107S0211\n"
       ]
      },
      {
       "output_type": "stream",
       "stream": "stdout",
       "text": [
        "GIREDUCE: multiplying image rgS20101107S0211 by gain\n"
       ]
      },
      {
       "output_type": "stream",
       "stream": "stdout",
       "text": [
        "GIREDUCE: output counts in electrons\n",
        "Output image       Bias                 Flat               Dark       Scale "
       ]
      },
      {
       "output_type": "stream",
       "stream": "stdout",
       "text": [
        "\n",
        "rgS20101107S0212   /data/workspace/DRWorkshopAAO/calib/bias/S20101107S0228_bias INDEF              INDEF       0.00\n"
       ]
      },
      {
       "output_type": "stream",
       "stream": "stdout",
       "text": [
        "GIREDUCE: Subtracted bias /data/workspace/DRWorkshopAAO/calib/bias/S20101107S0228_bias from rgS20101107S0212\n"
       ]
      },
      {
       "output_type": "stream",
       "stream": "stdout",
       "text": [
        "GIREDUCE: multiplying image rgS20101107S0212 by gain\n"
       ]
      },
      {
       "output_type": "stream",
       "stream": "stdout",
       "text": [
        "GIREDUCE: output counts in electrons\n"
       ]
      },
      {
       "output_type": "stream",
       "stream": "stdout",
       "text": [
        "\n",
        "GIREDUCE - Cleaning up -- Wed Mar 23 08:39:24 HST 2016\n"
       ]
      },
      {
       "output_type": "stream",
       "stream": "stdout",
       "text": [
        "\n",
        "GIREDUCE -- Wed Mar 23 08:39:24 HST 2016\n",
        "GIREDUCE exit status:  good.\n",
        "----------------------------------------------------------------------------\n"
       ]
      }
     ],
     "prompt_number": 12
    },
    {
     "cell_type": "code",
     "collapsed": false,
     "input": [
      "os.chdir(redux_path)\n",
      "\n",
      "for flatkey in flats.keys():\n",
      "    iraf.imdelete(flats[flatkey]['procflat'], verify='no')\n",
      "    \n",
      "    flatlist = flatkey+'.lis'\n",
      "    procflat = flats[flatkey]['procflat']\n",
      "    \n",
      "    print 'Creating twilight flat ', procflat\n",
      "    \n",
      "    # Create the processed flat\n",
      "    iraf.giflat('rg//@'+flatlist, outflat=procflat, fl_vardq='yes')\n",
      "    \n",
      "    # Copy the processed flat to the calibration directory\n",
      "    shutil.copy(procflat, procflat_path)\n",
      "\n",
      "# The processed flats are:\n",
      "os.listdir(procflat_path)"
     ],
     "language": "python",
     "metadata": {},
     "outputs": [
      {
       "output_type": "stream",
       "stream": "stdout",
       "text": [
        "Creating twilight flat  S20101107S0201_flat_r.fits\n",
        "----------------------------------------------------------------------------\n",
        "GIFLAT -- Wed Mar 23 08:56:45 HST 2016\n",
        " \n",
        "Flat field images = rg//@flat_20101107.lis\n",
        "Output flat field image = S20101107S0201_flat_r.fits"
       ]
      },
      {
       "output_type": "stream",
       "stream": "stdout",
       "text": [
        "\n",
        " \n"
       ]
      },
      {
       "output_type": "stream",
       "stream": "stdout",
       "text": [
        "WARNING - GIFLAT: using previously gireduce'd image: rgS20101107S0201\n"
       ]
      },
      {
       "output_type": "stream",
       "stream": "stdout",
       "text": [
        "WARNING - GIFLAT: using previously gireduce'd image: rgS20101107S0202\n"
       ]
      },
      {
       "output_type": "stream",
       "stream": "stdout",
       "text": [
        "WARNING - GIFLAT: using previously gireduce'd image: rgS20101107S0203\n"
       ]
      },
      {
       "output_type": "stream",
       "stream": "stdout",
       "text": [
        "WARNING - GIFLAT: using previously gireduce'd image: rgS20101107S0204\n"
       ]
      },
      {
       "output_type": "stream",
       "stream": "stdout",
       "text": [
        "WARNING - GIFLAT: using previously gireduce'd image: rgS20101107S0205\n"
       ]
      },
      {
       "output_type": "stream",
       "stream": "stdout",
       "text": [
        "WARNING - GIFLAT: using previously gireduce'd image: rgS20101107S0206\n"
       ]
      },
      {
       "output_type": "stream",
       "stream": "stdout",
       "text": [
        "WARNING - GIFLAT: using previously gireduce'd image: rgS20101107S0207\n"
       ]
      },
      {
       "output_type": "stream",
       "stream": "stdout",
       "text": [
        "WARNING - GIFLAT: using previously gireduce'd image: rgS20101107S0208\n"
       ]
      },
      {
       "output_type": "stream",
       "stream": "stdout",
       "text": [
        "WARNING - GIFLAT: using previously gireduce'd image: rgS20101107S0209\n"
       ]
      },
      {
       "output_type": "stream",
       "stream": "stdout",
       "text": [
        "WARNING - GIFLAT: using previously gireduce'd image: rgS20101107S0210\n"
       ]
      },
      {
       "output_type": "stream",
       "stream": "stdout",
       "text": [
        "WARNING - GIFLAT: using previously gireduce'd image: rgS20101107S0211\n"
       ]
      },
      {
       "output_type": "stream",
       "stream": "stdout",
       "text": [
        "WARNING - GIFLAT: using previously gireduce'd image: rgS20101107S0212\n"
       ]
      },
      {
       "output_type": "stream",
       "stream": "stdout",
       "text": [
        "Using input files:\n",
        "rgS20101107S0201\n",
        "rgS20101107S0202\n",
        "rgS20101107S0203\n",
        "rgS20101107S0204\n",
        "rgS20101107S0205\n",
        "rgS20101107S0206\n",
        "rgS20101107S0207\n",
        "rgS20101107S0208\n",
        "rgS20101107S0209\n",
        "rgS20101107S0210\n",
        "rgS20101107S0211\n",
        "rgS20101107S0212\n"
       ]
      },
      {
       "output_type": "stream",
       "stream": "stdout",
       "text": [
        "Using STATSEC: [50:900,50:2250] from CCD2\n",
        "Using NORMSEC: [50:900,50:2250] from CCD2\n"
       ]
      },
      {
       "output_type": "stream",
       "stream": "stdout",
       "text": [
        "GIFLAT: Normalization factor 60768.7\n"
       ]
      },
      {
       "output_type": "stream",
       "stream": "stdout",
       "text": [
        "\n",
        "GIFLAT exit status: good.\n",
        "----------------------------------------------------------------------------\n"
       ]
      },
      {
       "metadata": {},
       "output_type": "pyout",
       "prompt_number": 13,
       "text": [
        "['S20101102S0100_flat_i.fits', 'S20101107S0201_flat_r.fits']"
       ]
      }
     ],
     "prompt_number": 13
    },
    {
     "cell_type": "heading",
     "level": 4,
     "metadata": {},
     "source": [
      "Visually inspect the processed twilight flats"
     ]
    },
    {
     "cell_type": "code",
     "collapsed": false,
     "input": [
      "for flatkey in flats.keys():\n",
      "    iraf.gdisplay(flats[flatkey]['procflat'], 1, fl_paste='yes')"
     ],
     "language": "python",
     "metadata": {},
     "outputs": [
      {
       "output_type": "stream",
       "stream": "stdout",
       "text": [
        "\n",
        "GDISPLAY - Started: 2016-03-23T08:57:37\n",
        "\n"
       ]
      },
      {
       "output_type": "stream",
       "stream": "stdout",
       "text": [
        "GDISPLAY: Temporary image name tmpout92482_1783S20101107S0201_flat_r.fits\n",
        "\n",
        "GMULTIAMP - Started: 2016-03-23T08:57:37\n",
        "\n"
       ]
      },
      {
       "output_type": "stream",
       "stream": "stdout",
       "text": [
        "GMULTIAMP: Tiling image...\n"
       ]
      },
      {
       "output_type": "stream",
       "stream": "stdout",
       "text": [
        "               Image tiled.\n"
       ]
      },
      {
       "output_type": "stream",
       "stream": "stdout",
       "text": [
        "\n",
        "GMULTIAMP - Finished: 2016-03-23T08:57:39\n",
        "GMULTIAMP - Exit status: GOOD\n",
        "\n"
       ]
      },
      {
       "output_type": "stream",
       "stream": "stdout",
       "text": [
        "GDISPLAY: Displaying image...\n",
        "\n",
        "GDISPLAY: Starting imexamine - quit with q"
       ]
      },
      {
       "output_type": "stream",
       "stream": "stdout",
       "text": [
        "\n",
        "\n",
        "GDISPLAY - Finished: 2016-03-23T08:57:48\n"
       ]
      },
      {
       "output_type": "stream",
       "stream": "stdout",
       "text": [
        "\n"
       ]
      }
     ],
     "prompt_number": 14
    },
    {
     "cell_type": "heading",
     "level": 2,
     "metadata": {},
     "source": [
      "<strike>STEP 6: Process the fringe frame</strike>"
     ]
    },
    {
     "cell_type": "heading",
     "level": 2,
     "metadata": {},
     "source": [
      "STEP 7: Process the target"
     ]
    },
    {
     "cell_type": "markdown",
     "metadata": {},
     "source": [
      "There is no significant fringing in the r-band.  No extra fringing correction will be necessary.  If you do want to learn about how to correct for fringing, see the i-band notebook.\n",
      "\n",
      "All we need to do here is the straighforward processing, i.e. the bias and flat correction.  (And overscan and trim.)"
     ]
    },
    {
     "cell_type": "heading",
     "level": 3,
     "metadata": {},
     "source": [
      "STEP 7.1: Bias and flat fielding of the target"
     ]
    },
    {
     "cell_type": "code",
     "collapsed": false,
     "input": [
      "os.chdir(redux_path)\n",
      "\n",
      "iraf.imdelete('g//@sci.lis', verify='no')\n",
      "iraf.imdelete('rg//@sci.lis', verify='no')\n",
      "\n",
      "iraf.gireduce('@sci.lis', rawpath=raw_path, fl_over='yes', fl_trim='yes', \\\n",
      "              fl_bias='yes', bias=science['scibias'], \\\n",
      "              fl_flat='yes', flat1=science['sciflat'], \\\n",
      "              fl_vardq='yes')"
     ],
     "language": "python",
     "metadata": {},
     "outputs": [
      {
       "output_type": "stream",
       "stream": "stdout",
       "text": [
        "----------------------------------------------------------------------------\n",
        "GIREDUCE -- Wed Mar 23 08:58:01 HST 2016\n",
        "\n"
       ]
      },
      {
       "output_type": "stream",
       "stream": "stdout",
       "text": [
        "----------------------------------------------------------------------------\n",
        "GPREPARE -- Wed Mar 23 08:58:01 HST 2016\n",
        "\n",
        "Input list    = S20101101S0087\n",
        "Output list   = \n",
        "Output prefix = g\n",
        "Raw path      = /data/workspace/DRWorkshopAAO/raw/\n",
        "MDF dir       = gmos$data/\n",
        "Add MDF       = no\n",
        "\n"
       ]
      },
      {
       "output_type": "stream",
       "stream": "stdout",
       "text": [
        "Input  /data/workspace/DRWorkshopAAO/raw/S20101101S0087.fits   Output  gS20101101S0087.fits\n"
       ]
      },
      {
       "output_type": "stream",
       "stream": "stdout",
       "text": [
        "\n",
        "GPREPARE exit status: good.\n",
        "----------------------------------------------------------------------------\n"
       ]
      },
      {
       "output_type": "stream",
       "stream": "stdout",
       "text": [
        "----------------------------------------------------------------------------\n",
        "GPREPARE -- Wed Mar 23 08:58:02 HST 2016\n",
        "\n",
        "Input list    = S20101101S0088\n",
        "Output list   = \n",
        "Output prefix = g\n",
        "Raw path      = /data/workspace/DRWorkshopAAO/raw/\n",
        "MDF dir       = gmos$data/\n",
        "Add MDF       = no\n",
        "\n"
       ]
      },
      {
       "output_type": "stream",
       "stream": "stdout",
       "text": [
        "Input  /data/workspace/DRWorkshopAAO/raw/S20101101S0088.fits   Output  gS20101101S0088.fits\n"
       ]
      },
      {
       "output_type": "stream",
       "stream": "stdout",
       "text": [
        "\n",
        "GPREPARE exit status: good.\n",
        "----------------------------------------------------------------------------\n"
       ]
      },
      {
       "output_type": "stream",
       "stream": "stdout",
       "text": [
        "----------------------------------------------------------------------------\n",
        "GPREPARE -- Wed Mar 23 08:58:03 HST 2016\n",
        "\n",
        "Input list    = S20101101S0089\n",
        "Output list   = \n",
        "Output prefix = g\n",
        "Raw path      = /data/workspace/DRWorkshopAAO/raw/\n",
        "MDF dir       = gmos$data/\n",
        "Add MDF       = no\n",
        "\n"
       ]
      },
      {
       "output_type": "stream",
       "stream": "stdout",
       "text": [
        "Input  /data/workspace/DRWorkshopAAO/raw/S20101101S0089.fits   Output  gS20101101S0089.fits\n"
       ]
      },
      {
       "output_type": "stream",
       "stream": "stdout",
       "text": [
        "\n",
        "GPREPARE exit status: good.\n",
        "----------------------------------------------------------------------------\n"
       ]
      },
      {
       "output_type": "stream",
       "stream": "stdout",
       "text": [
        "----------------------------------------------------------------------------\n",
        "GPREPARE -- Wed Mar 23 08:58:04 HST 2016\n",
        "\n",
        "Input list    = S20101101S0090\n",
        "Output list   = \n",
        "Output prefix = g\n",
        "Raw path      = /data/workspace/DRWorkshopAAO/raw/\n",
        "MDF dir       = gmos$data/\n",
        "Add MDF       = no\n",
        "\n"
       ]
      },
      {
       "output_type": "stream",
       "stream": "stdout",
       "text": [
        "Input  /data/workspace/DRWorkshopAAO/raw/S20101101S0090.fits   Output  gS20101101S0090.fits\n"
       ]
      },
      {
       "output_type": "stream",
       "stream": "stdout",
       "text": [
        "\n",
        "GPREPARE exit status: good.\n",
        "----------------------------------------------------------------------------\n",
        "\n",
        "Input files:\n",
        "gS20101101S0087\n",
        "gS20101101S0088\n",
        "gS20101101S0089\n",
        "gS20101101S0090\n"
       ]
      },
      {
       "output_type": "stream",
       "stream": "stdout",
       "text": [
        "\n"
       ]
      },
      {
       "output_type": "stream",
       "stream": "stdout",
       "text": [
        "Output files:\n",
        "rgS20101101S0087\n",
        "rgS20101101S0088\n",
        "rgS20101101S0089\n",
        "rgS20101101S0090\n"
       ]
      },
      {
       "output_type": "stream",
       "stream": "stdout",
       "text": [
        "\n"
       ]
      },
      {
       "output_type": "stream",
       "stream": "stdout",
       "text": [
        "WARNING - GIREDUCE: Bad Pixel Mask filename is an empty string\n",
        "                    Only saturated pixels will be flagged\n",
        "GIREDUCE: Image rgS20101101S0087 overscan subtracted"
       ]
      },
      {
       "output_type": "stream",
       "stream": "stdout",
       "text": [
        "\n",
        "GIREDUCE: Image rgS20101101S0088 overscan subtracted"
       ]
      },
      {
       "output_type": "stream",
       "stream": "stdout",
       "text": [
        "\n",
        "GIREDUCE: Image rgS20101101S0089 overscan subtracted"
       ]
      },
      {
       "output_type": "stream",
       "stream": "stdout",
       "text": [
        "\n",
        "GIREDUCE: Image rgS20101101S0090 overscan subtracted"
       ]
      },
      {
       "output_type": "stream",
       "stream": "stdout",
       "text": [
        "\n"
       ]
      },
      {
       "output_type": "stream",
       "stream": "stdout",
       "text": [
        "GIREDUCE: Image rgS20101101S0087 trimmed\n"
       ]
      },
      {
       "output_type": "stream",
       "stream": "stdout",
       "text": [
        "GIREDUCE: Image rgS20101101S0088 trimmed\n"
       ]
      },
      {
       "output_type": "stream",
       "stream": "stdout",
       "text": [
        "GIREDUCE: Image rgS20101101S0089 trimmed\n"
       ]
      },
      {
       "output_type": "stream",
       "stream": "stdout",
       "text": [
        "GIREDUCE: Image rgS20101101S0090 trimmed\n",
        "\n",
        "Output image       Bias                 Flat               Dark       Scale \n",
        "rgS20101101S0087   S20101101S0169_bias  S20101107S0201_flat_r INDEF       0.00\n"
       ]
      },
      {
       "output_type": "stream",
       "stream": "stdout",
       "text": [
        "GIREDUCE: Subtracted bias S20101101S0169_bias from rgS20101101S0087\n",
        "GIREDUCE: Divided image rgS20101101S0087 by flatfield S20101107S0201_flat_r\n"
       ]
      },
      {
       "output_type": "stream",
       "stream": "stdout",
       "text": [
        "GIREDUCE: multiplying image rgS20101101S0087 by gain\n"
       ]
      },
      {
       "output_type": "stream",
       "stream": "stdout",
       "text": [
        "GIREDUCE: output counts in electrons\n",
        "Output image       Bias                 Flat               Dark       Scale "
       ]
      },
      {
       "output_type": "stream",
       "stream": "stdout",
       "text": [
        "\n",
        "rgS20101101S0088   S20101101S0169_bias  S20101107S0201_flat_r INDEF       0.00\n"
       ]
      },
      {
       "output_type": "stream",
       "stream": "stdout",
       "text": [
        "GIREDUCE: Subtracted bias S20101101S0169_bias from rgS20101101S0088\n",
        "GIREDUCE: Divided image rgS20101101S0088 by flatfield S20101107S0201_flat_r\n"
       ]
      },
      {
       "output_type": "stream",
       "stream": "stdout",
       "text": [
        "GIREDUCE: multiplying image rgS20101101S0088 by gain\n"
       ]
      },
      {
       "output_type": "stream",
       "stream": "stdout",
       "text": [
        "GIREDUCE: output counts in electrons\n",
        "Output image       Bias                 Flat               Dark       Scale "
       ]
      },
      {
       "output_type": "stream",
       "stream": "stdout",
       "text": [
        "\n",
        "rgS20101101S0089   S20101101S0169_bias  S20101107S0201_flat_r INDEF       0.00\n"
       ]
      },
      {
       "output_type": "stream",
       "stream": "stdout",
       "text": [
        "GIREDUCE: Subtracted bias S20101101S0169_bias from rgS20101101S0089\n",
        "GIREDUCE: Divided image rgS20101101S0089 by flatfield S20101107S0201_flat_r\n"
       ]
      },
      {
       "output_type": "stream",
       "stream": "stdout",
       "text": [
        "GIREDUCE: multiplying image rgS20101101S0089 by gain\n"
       ]
      },
      {
       "output_type": "stream",
       "stream": "stdout",
       "text": [
        "GIREDUCE: output counts in electrons\n",
        "Output image       Bias                 Flat               Dark       Scale "
       ]
      },
      {
       "output_type": "stream",
       "stream": "stdout",
       "text": [
        "\n",
        "rgS20101101S0090   S20101101S0169_bias  S20101107S0201_flat_r INDEF       0.00\n"
       ]
      },
      {
       "output_type": "stream",
       "stream": "stdout",
       "text": [
        "GIREDUCE: Subtracted bias S20101101S0169_bias from rgS20101101S0090\n",
        "GIREDUCE: Divided image rgS20101101S0090 by flatfield S20101107S0201_flat_r\n"
       ]
      },
      {
       "output_type": "stream",
       "stream": "stdout",
       "text": [
        "GIREDUCE: multiplying image rgS20101101S0090 by gain\n"
       ]
      },
      {
       "output_type": "stream",
       "stream": "stdout",
       "text": [
        "GIREDUCE: output counts in electrons\n"
       ]
      },
      {
       "output_type": "stream",
       "stream": "stdout",
       "text": [
        "\n",
        "GIREDUCE - Cleaning up -- Wed Mar 23 08:59:05 HST 2016\n"
       ]
      },
      {
       "output_type": "stream",
       "stream": "stdout",
       "text": [
        "\n",
        "GIREDUCE -- Wed Mar 23 08:59:05 HST 2016\n",
        "GIREDUCE exit status:  good.\n",
        "----------------------------------------------------------------------------\n"
       ]
      }
     ],
     "prompt_number": 15
    },
    {
     "cell_type": "heading",
     "level": 4,
     "metadata": {},
     "source": [
      "Visually inspect the reduce science frames"
     ]
    },
    {
     "cell_type": "code",
     "collapsed": false,
     "input": [
      "sciframes = open('sci.lis', 'r')\n",
      "for line in sciframes:\n",
      "    frame = line.strip()\n",
      "    iraf.gdisplay('rg'+frame, 1, fl_paste='yes')\n",
      "sciframes.close()"
     ],
     "language": "python",
     "metadata": {},
     "outputs": [
      {
       "output_type": "stream",
       "stream": "stdout",
       "text": [
        "\n",
        "GDISPLAY - Started: 2016-03-23T09:00:38\n",
        "\n"
       ]
      },
      {
       "output_type": "stream",
       "stream": "stdout",
       "text": [
        "GDISPLAY: Temporary image name tmpout92482_1875rgS20101101S0087.fits\n",
        "\n",
        "GMULTIAMP - Started: 2016-03-23T09:00:39\n",
        "\n"
       ]
      },
      {
       "output_type": "stream",
       "stream": "stdout",
       "text": [
        "GMULTIAMP: Tiling image...\n"
       ]
      },
      {
       "output_type": "stream",
       "stream": "stdout",
       "text": [
        "               Image tiled.\n"
       ]
      },
      {
       "output_type": "stream",
       "stream": "stdout",
       "text": [
        "\n",
        "GMULTIAMP - Finished: 2016-03-23T09:00:41\n",
        "GMULTIAMP - Exit status: GOOD\n",
        "\n"
       ]
      },
      {
       "output_type": "stream",
       "stream": "stdout",
       "text": [
        "GDISPLAY: Displaying image...\n",
        "\n",
        "GDISPLAY: Starting imexamine - quit with q"
       ]
      },
      {
       "output_type": "stream",
       "stream": "stdout",
       "text": [
        "\n",
        "\n",
        "GDISPLAY - Finished: 2016-03-23T09:00:50\n"
       ]
      },
      {
       "output_type": "stream",
       "stream": "stdout",
       "text": [
        "\n",
        "\n",
        "GDISPLAY - Started: 2016-03-23T09:00:50\n",
        "\n"
       ]
      },
      {
       "output_type": "stream",
       "stream": "stdout",
       "text": [
        "GDISPLAY: Temporary image name tmpout92482_1909rgS20101101S0088.fits\n",
        "\n",
        "GMULTIAMP - Started: 2016-03-23T09:00:50\n",
        "\n"
       ]
      },
      {
       "output_type": "stream",
       "stream": "stdout",
       "text": [
        "GMULTIAMP: Tiling image...\n"
       ]
      },
      {
       "output_type": "stream",
       "stream": "stdout",
       "text": [
        "               Image tiled.\n"
       ]
      },
      {
       "output_type": "stream",
       "stream": "stdout",
       "text": [
        "\n",
        "GMULTIAMP - Finished: 2016-03-23T09:00:52\n",
        "GMULTIAMP - Exit status: GOOD\n",
        "\n"
       ]
      },
      {
       "output_type": "stream",
       "stream": "stdout",
       "text": [
        "GDISPLAY: Displaying image...\n",
        "\n",
        "GDISPLAY: Starting imexamine - quit with q"
       ]
      },
      {
       "output_type": "stream",
       "stream": "stdout",
       "text": [
        "\n",
        "\n",
        "GDISPLAY - Finished: 2016-03-23T09:00:53\n"
       ]
      },
      {
       "output_type": "stream",
       "stream": "stdout",
       "text": [
        "\n",
        "\n",
        "GDISPLAY - Started: 2016-03-23T09:00:53\n",
        "\n"
       ]
      },
      {
       "output_type": "stream",
       "stream": "stdout",
       "text": [
        "GDISPLAY: Temporary image name tmpout92482_1943rgS20101101S0089.fits\n",
        "\n",
        "GMULTIAMP - Started: 2016-03-23T09:00:54\n",
        "\n"
       ]
      },
      {
       "output_type": "stream",
       "stream": "stdout",
       "text": [
        "GMULTIAMP: Tiling image...\n"
       ]
      },
      {
       "output_type": "stream",
       "stream": "stdout",
       "text": [
        "               Image tiled.\n"
       ]
      },
      {
       "output_type": "stream",
       "stream": "stdout",
       "text": [
        "\n",
        "GMULTIAMP - Finished: 2016-03-23T09:00:56\n",
        "GMULTIAMP - Exit status: GOOD\n",
        "\n"
       ]
      },
      {
       "output_type": "stream",
       "stream": "stdout",
       "text": [
        "GDISPLAY: Displaying image...\n",
        "\n",
        "GDISPLAY: Starting imexamine - quit with q"
       ]
      },
      {
       "output_type": "stream",
       "stream": "stdout",
       "text": [
        "\n",
        "\n",
        "GDISPLAY - Finished: 2016-03-23T09:00:58\n"
       ]
      },
      {
       "output_type": "stream",
       "stream": "stdout",
       "text": [
        "\n",
        "\n",
        "GDISPLAY - Started: 2016-03-23T09:00:58\n",
        "\n"
       ]
      },
      {
       "output_type": "stream",
       "stream": "stdout",
       "text": [
        "GDISPLAY: Temporary image name tmpout92482_1977rgS20101101S0090.fits\n",
        "\n",
        "GMULTIAMP - Started: 2016-03-23T09:00:58\n",
        "\n"
       ]
      },
      {
       "output_type": "stream",
       "stream": "stdout",
       "text": [
        "GMULTIAMP: Tiling image...\n"
       ]
      },
      {
       "output_type": "stream",
       "stream": "stdout",
       "text": [
        "               Image tiled.\n"
       ]
      },
      {
       "output_type": "stream",
       "stream": "stdout",
       "text": [
        "\n",
        "GMULTIAMP - Finished: 2016-03-23T09:01:00\n",
        "GMULTIAMP - Exit status: GOOD\n",
        "\n"
       ]
      },
      {
       "output_type": "stream",
       "stream": "stdout",
       "text": [
        "GDISPLAY: Displaying image...\n",
        "\n",
        "GDISPLAY: Starting imexamine - quit with q"
       ]
      },
      {
       "output_type": "stream",
       "stream": "stdout",
       "text": [
        "\n",
        "\n",
        "GDISPLAY - Finished: 2016-03-23T09:01:03\n"
       ]
      },
      {
       "output_type": "stream",
       "stream": "stdout",
       "text": [
        "\n"
       ]
      }
     ],
     "prompt_number": 16
    },
    {
     "cell_type": "heading",
     "level": 3,
     "metadata": {},
     "source": [
      "<strike>STEP 7.2: Fringe removal</strike>"
     ]
    },
    {
     "cell_type": "heading",
     "level": 2,
     "metadata": {},
     "source": [
      "STEP 8: Mosaic the reduced target frames"
     ]
    },
    {
     "cell_type": "code",
     "collapsed": false,
     "input": [
      "iraf.imdelete('mrg//@sci.lis', verify='no')\n",
      "\n",
      "iraf.gmosaic('rg//@sci.lis', fl_vardq='yes')"
     ],
     "language": "python",
     "metadata": {},
     "outputs": [
      {
       "output_type": "stream",
       "stream": "stdout",
       "text": [
        "GMOSAIC \n",
        "GMOSAIC -------------------------------------------------------------------\n",
        "GMOSAIC Log opened at [Wed 09:01:09 23-Mar-2016]\n",
        "GMOSAIC \n",
        "GMOSAIC --------------------\n",
        "GMOSAIC Input Parameters:\n",
        "GMOSAIC      inimages       = rg//@sci.lis\n",
        "GMOSAIC      outimages      = \n",
        "GMOSAIC      outpref        = m\n",
        "GMOSAIC      fl_paste       = no\n",
        "GMOSAIC      fl_vardq       = yes\n",
        "GMOSAIC      fl_fixpix      = no\n",
        "GMOSAIC      fl_clean       = yes\n",
        "GMOSAIC      fl_fulldq      = no\n",
        "GMOSAIC      bitflags       = all\n",
        "GMOSAIC      dqthresh       = 0.1\n",
        "GMOSAIC      geointer       = linear\n",
        "GMOSAIC      gap            = default\n",
        "GMOSAIC      bpmfile        = gmos$data/chipgaps.dat\n",
        "GMOSAIC      statsec        = default\n",
        "GMOSAIC      obsmode        = IMAGE\n",
        "GMOSAIC      sci_ext        = SCI\n",
        "GMOSAIC      var_ext        = VAR\n",
        "GMOSAIC      dq_ext         = DQ\n",
        "GMOSAIC      key_detsec     = DETSEC\n",
        "GMOSAIC      key_ccdsec     = CCDSEC\n",
        "GMOSAIC      key_datsec     = DATASEC\n",
        "GMOSAIC      key_ccdsum     = CCDSUM\n",
        "GMOSAIC      key_obsmode    = OBSMODE\n",
        "GMOSAIC      logfile        = \n",
        "GMOSAIC      verbose        = yes\n",
        "GMOSAIC      fl_real        = no\n",
        "GMOSAIC --------------------\n"
       ]
      },
      {
       "output_type": "stream",
       "stream": "stdout",
       "text": [
        "GMOSAIC Input: rgS20101101S0087  Output: mrgS20101101S0087.fits\n"
       ]
      },
      {
       "output_type": "stream",
       "stream": "stdout",
       "text": [
        "GMOSAIC Setting rotation Xrot[1]= 0.011000, Yrot[1]= 0.011000\n"
       ]
      },
      {
       "output_type": "stream",
       "stream": "stdout",
       "text": [
        "GMOSAIC Setting rotation Xrot[2]= 0.000000, Yrot[2]= 0.000000\n"
       ]
      },
      {
       "output_type": "stream",
       "stream": "stdout",
       "text": [
        "GMOSAIC Setting rotation Xrot[3]= 0.012000, Yrot[3]= 0.012000\n"
       ]
      },
      {
       "output_type": "stream",
       "stream": "stdout",
       "text": [
        "GMOSAIC \n",
        "GMOSAIC Transforming image tmpimg92482_2022[SCI,1][1:1024,1:2304] to image tmpchipsci92482_2029\n",
        "GMOSAIC     xshift: 1.02 yshift: 0.21 xmag: 1.00 ymag: 1.00 xrot: 0.01 yrot: 0.01\n",
        "GMOSAIC \n",
        "GMOSAIC Transforming image tmpimg92482_2022[VAR,1][1:1024,1:2304] to image tmpchipvar92482_2030\n",
        "GMOSAIC     xshift: 1.02 yshift: 0.21 xmag: 1.00 ymag: 1.00 xrot: 0.01 yrot: 0.01\n",
        "GMOSAIC \n",
        "GMOSAIC Transforming image tmpimg92482_2022[DQ,1][1:1024,1:2304] to image tmpdq_transimg92482_2018.fits\n",
        "GMOSAIC     xshift: 1.02 yshift: 0.21 xmag: 1.00 ymag: 1.00 xrot: 0.01 yrot: 0.01\n"
       ]
      },
      {
       "output_type": "stream",
       "stream": "stdout",
       "text": [
        "GMOSAIC \n",
        "GMOSAIC Transforming image tmpimg92482_2022[SCI,2][1:1024,1:2304] to image tmpchipsci92482_2032\n",
        "GMOSAIC     xshift: 0.00 yshift: 0.00 xmag: 1.00 ymag: 1.00 xrot: 0.00 yrot: 0.00\n",
        "GMOSAIC \n",
        "GMOSAIC Transforming image tmpimg92482_2022[VAR,2][1:1024,1:2304] to image tmpchipvar92482_2033\n",
        "GMOSAIC     xshift: 0.00 yshift: 0.00 xmag: 1.00 ymag: 1.00 xrot: 0.00 yrot: 0.00\n"
       ]
      },
      {
       "output_type": "stream",
       "stream": "stdout",
       "text": [
        "GMOSAIC \n",
        "GMOSAIC Transforming image tmpimg92482_2022[SCI,3][1:1024,1:2304] to image tmpchipsci92482_2035\n",
        "GMOSAIC     xshift: -2.90 yshift: -0.91 xmag: 1.00 ymag: 1.00 xrot: 0.01 yrot: 0.01\n",
        "GMOSAIC \n",
        "GMOSAIC Transforming image tmpimg92482_2022[VAR,3][1:1024,1:2304] to image tmpchipvar92482_2036\n",
        "GMOSAIC     xshift: -2.90 yshift: -0.91 xmag: 1.00 ymag: 1.00 xrot: 0.01 yrot: 0.01\n",
        "GMOSAIC \n",
        "GMOSAIC Transforming image tmpimg92482_2022[DQ,3][1:1024,1:2304] to image tmpdq_transimg92482_2018.fits\n",
        "GMOSAIC     xshift: -2.90 yshift: -0.91 xmag: 1.00 ymag: 1.00 xrot: 0.01 yrot: 0.01\n"
       ]
      },
      {
       "output_type": "stream",
       "stream": "stdout",
       "text": [
        "GMOSAIC imcopy  tmpchipsci92482_2029  mrgS20101101S0087.fits[1,append][1:1024,1:2304]  INDEF  0.\n",
        "GMOSAIC imcopy  tmpchipsci92482_2032  mrgS20101101S0087.fits[1,append][1043:2066,1:2304]  INDEF  0.\n",
        "GMOSAIC imcopy  tmpchipsci92482_2035  mrgS20101101S0087.fits[1,append][2085:3108,1:2304]  INDEF  0.\n",
        "GMOSAIC imcopy  tmpchipvar92482_2030  mrgS20101101S0087.fits[2,append][1:1024,1:2304]  INDEF  0.\n",
        "GMOSAIC imcopy  tmpchipvar92482_2033  mrgS20101101S0087.fits[2,append][1043:2066,1:2304]  INDEF  0.\n",
        "GMOSAIC imcopy  tmpchipvar92482_2036  mrgS20101101S0087.fits[2,append][2085:3108,1:2304]  INDEF  0.\n",
        "GMOSAIC imcopy  tmpchipdq92482_2031  mrgS20101101S0087.fits[3,append][1:1024,1:2304]  INDEF  0.\n",
        "GMOSAIC imcopy  tmpchipdq92482_2034  mrgS20101101S0087.fits[3,append][1043:2066,1:2304]  INDEF  0.\n",
        "GMOSAIC imcopy  tmpchipdq92482_2037  mrgS20101101S0087.fits[3,append][2085:3108,1:2304]  INDEF  0.\n"
       ]
      },
      {
       "output_type": "stream",
       "stream": "stdout",
       "text": [
        "gmos$data/gmos-s_bpm_EEV_22_3amp_v2_mosaic.pl\n",
        "GMOSAIC Cleaning areas outside imaging field, cleaning value = 3828.553\n"
       ]
      },
      {
       "output_type": "stream",
       "stream": "stdout",
       "text": [
        "GMOSAIC Input: rgS20101101S0088  Output: mrgS20101101S0088.fits\n"
       ]
      },
      {
       "output_type": "stream",
       "stream": "stdout",
       "text": [
        "GMOSAIC Setting rotation Xrot[1]= 0.011000, Yrot[1]= 0.011000\n"
       ]
      },
      {
       "output_type": "stream",
       "stream": "stdout",
       "text": [
        "GMOSAIC Setting rotation Xrot[2]= 0.000000, Yrot[2]= 0.000000\n"
       ]
      },
      {
       "output_type": "stream",
       "stream": "stdout",
       "text": [
        "GMOSAIC Setting rotation Xrot[3]= 0.012000, Yrot[3]= 0.012000\n"
       ]
      },
      {
       "output_type": "stream",
       "stream": "stdout",
       "text": [
        "GMOSAIC \n",
        "GMOSAIC Transforming image tmpimg92482_2038[SCI,1][1:1024,1:2304] to image tmpchipsci92482_2045\n",
        "GMOSAIC     xshift: 1.02 yshift: 0.21 xmag: 1.00 ymag: 1.00 xrot: 0.01 yrot: 0.01\n",
        "GMOSAIC \n",
        "GMOSAIC Transforming image tmpimg92482_2038[VAR,1][1:1024,1:2304] to image tmpchipvar92482_2046\n",
        "GMOSAIC     xshift: 1.02 yshift: 0.21 xmag: 1.00 ymag: 1.00 xrot: 0.01 yrot: 0.01\n",
        "GMOSAIC \n",
        "GMOSAIC Transforming image tmpimg92482_2038[DQ,1][1:1024,1:2304] to image tmpdq_transimg92482_2018.fits\n",
        "GMOSAIC     xshift: 1.02 yshift: 0.21 xmag: 1.00 ymag: 1.00 xrot: 0.01 yrot: 0.01\n"
       ]
      },
      {
       "output_type": "stream",
       "stream": "stdout",
       "text": [
        "GMOSAIC \n",
        "GMOSAIC Transforming image tmpimg92482_2038[SCI,2][1:1024,1:2304] to image tmpchipsci92482_2048\n",
        "GMOSAIC     xshift: 0.00 yshift: 0.00 xmag: 1.00 ymag: 1.00 xrot: 0.00 yrot: 0.00\n",
        "GMOSAIC \n",
        "GMOSAIC Transforming image tmpimg92482_2038[VAR,2][1:1024,1:2304] to image tmpchipvar92482_2049\n",
        "GMOSAIC     xshift: 0.00 yshift: 0.00 xmag: 1.00 ymag: 1.00 xrot: 0.00 yrot: 0.00\n"
       ]
      },
      {
       "output_type": "stream",
       "stream": "stdout",
       "text": [
        "GMOSAIC \n",
        "GMOSAIC Transforming image tmpimg92482_2038[SCI,3][1:1024,1:2304] to image tmpchipsci92482_2051\n",
        "GMOSAIC     xshift: -2.90 yshift: -0.91 xmag: 1.00 ymag: 1.00 xrot: 0.01 yrot: 0.01\n",
        "GMOSAIC \n",
        "GMOSAIC Transforming image tmpimg92482_2038[VAR,3][1:1024,1:2304] to image tmpchipvar92482_2052\n",
        "GMOSAIC     xshift: -2.90 yshift: -0.91 xmag: 1.00 ymag: 1.00 xrot: 0.01 yrot: 0.01\n",
        "GMOSAIC \n",
        "GMOSAIC Transforming image tmpimg92482_2038[DQ,3][1:1024,1:2304] to image tmpdq_transimg92482_2018.fits\n",
        "GMOSAIC     xshift: -2.90 yshift: -0.91 xmag: 1.00 ymag: 1.00 xrot: 0.01 yrot: 0.01\n"
       ]
      },
      {
       "output_type": "stream",
       "stream": "stdout",
       "text": [
        "GMOSAIC imcopy  tmpchipsci92482_2045  mrgS20101101S0088.fits[1,append][1:1024,1:2304]  INDEF  0.\n",
        "GMOSAIC imcopy  tmpchipsci92482_2048  mrgS20101101S0088.fits[1,append][1043:2066,1:2304]  INDEF  0.\n",
        "GMOSAIC imcopy  tmpchipsci92482_2051  mrgS20101101S0088.fits[1,append][2085:3108,1:2304]  INDEF  0.\n",
        "GMOSAIC imcopy  tmpchipvar92482_2046  mrgS20101101S0088.fits[2,append][1:1024,1:2304]  INDEF  0.\n",
        "GMOSAIC imcopy  tmpchipvar92482_2049  mrgS20101101S0088.fits[2,append][1043:2066,1:2304]  INDEF  0.\n",
        "GMOSAIC imcopy  tmpchipvar92482_2052  mrgS20101101S0088.fits[2,append][2085:3108,1:2304]  INDEF  0.\n",
        "GMOSAIC imcopy  tmpchipdq92482_2047  mrgS20101101S0088.fits[3,append][1:1024,1:2304]  INDEF  0.\n",
        "GMOSAIC imcopy  tmpchipdq92482_2050  mrgS20101101S0088.fits[3,append][1043:2066,1:2304]  INDEF  0.\n",
        "GMOSAIC imcopy  tmpchipdq92482_2053  mrgS20101101S0088.fits[3,append][2085:3108,1:2304]  INDEF  0.\n"
       ]
      },
      {
       "output_type": "stream",
       "stream": "stdout",
       "text": [
        "gmos$data/gmos-s_bpm_EEV_22_3amp_v2_mosaic.pl\n",
        "GMOSAIC Cleaning areas outside imaging field, cleaning value = 3784.769\n"
       ]
      },
      {
       "output_type": "stream",
       "stream": "stdout",
       "text": [
        "GMOSAIC Input: rgS20101101S0089  Output: mrgS20101101S0089.fits\n"
       ]
      },
      {
       "output_type": "stream",
       "stream": "stdout",
       "text": [
        "GMOSAIC Setting rotation Xrot[1]= 0.011000, Yrot[1]= 0.011000\n"
       ]
      },
      {
       "output_type": "stream",
       "stream": "stdout",
       "text": [
        "GMOSAIC Setting rotation Xrot[2]= 0.000000, Yrot[2]= 0.000000\n"
       ]
      },
      {
       "output_type": "stream",
       "stream": "stdout",
       "text": [
        "GMOSAIC Setting rotation Xrot[3]= 0.012000, Yrot[3]= 0.012000\n"
       ]
      },
      {
       "output_type": "stream",
       "stream": "stdout",
       "text": [
        "GMOSAIC \n",
        "GMOSAIC Transforming image tmpimg92482_2054[SCI,1][1:1024,1:2304] to image tmpchipsci92482_2061\n",
        "GMOSAIC     xshift: 1.02 yshift: 0.21 xmag: 1.00 ymag: 1.00 xrot: 0.01 yrot: 0.01\n",
        "GMOSAIC \n",
        "GMOSAIC Transforming image tmpimg92482_2054[VAR,1][1:1024,1:2304] to image tmpchipvar92482_2062\n",
        "GMOSAIC     xshift: 1.02 yshift: 0.21 xmag: 1.00 ymag: 1.00 xrot: 0.01 yrot: 0.01\n",
        "GMOSAIC \n",
        "GMOSAIC Transforming image tmpimg92482_2054[DQ,1][1:1024,1:2304] to image tmpdq_transimg92482_2018.fits\n",
        "GMOSAIC     xshift: 1.02 yshift: 0.21 xmag: 1.00 ymag: 1.00 xrot: 0.01 yrot: 0.01\n"
       ]
      },
      {
       "output_type": "stream",
       "stream": "stdout",
       "text": [
        "GMOSAIC \n",
        "GMOSAIC Transforming image tmpimg92482_2054[SCI,2][1:1024,1:2304] to image tmpchipsci92482_2064\n",
        "GMOSAIC     xshift: 0.00 yshift: 0.00 xmag: 1.00 ymag: 1.00 xrot: 0.00 yrot: 0.00\n",
        "GMOSAIC \n",
        "GMOSAIC Transforming image tmpimg92482_2054[VAR,2][1:1024,1:2304] to image tmpchipvar92482_2065\n",
        "GMOSAIC     xshift: 0.00 yshift: 0.00 xmag: 1.00 ymag: 1.00 xrot: 0.00 yrot: 0.00\n"
       ]
      },
      {
       "output_type": "stream",
       "stream": "stdout",
       "text": [
        "GMOSAIC \n",
        "GMOSAIC Transforming image tmpimg92482_2054[SCI,3][1:1024,1:2304] to image tmpchipsci92482_2067\n",
        "GMOSAIC     xshift: -2.90 yshift: -0.91 xmag: 1.00 ymag: 1.00 xrot: 0.01 yrot: 0.01\n",
        "GMOSAIC \n",
        "GMOSAIC Transforming image tmpimg92482_2054[VAR,3][1:1024,1:2304] to image tmpchipvar92482_2068\n",
        "GMOSAIC     xshift: -2.90 yshift: -0.91 xmag: 1.00 ymag: 1.00 xrot: 0.01 yrot: 0.01\n",
        "GMOSAIC \n",
        "GMOSAIC Transforming image tmpimg92482_2054[DQ,3][1:1024,1:2304] to image tmpdq_transimg92482_2018.fits\n",
        "GMOSAIC     xshift: -2.90 yshift: -0.91 xmag: 1.00 ymag: 1.00 xrot: 0.01 yrot: 0.01\n"
       ]
      },
      {
       "output_type": "stream",
       "stream": "stdout",
       "text": [
        "GMOSAIC imcopy  tmpchipsci92482_2061  mrgS20101101S0089.fits[1,append][1:1024,1:2304]  INDEF  0.\n",
        "GMOSAIC imcopy  tmpchipsci92482_2064  mrgS20101101S0089.fits[1,append][1043:2066,1:2304]  INDEF  0.\n",
        "GMOSAIC imcopy  tmpchipsci92482_2067  mrgS20101101S0089.fits[1,append][2085:3108,1:2304]  INDEF  0.\n",
        "GMOSAIC imcopy  tmpchipvar92482_2062  mrgS20101101S0089.fits[2,append][1:1024,1:2304]  INDEF  0.\n",
        "GMOSAIC imcopy  tmpchipvar92482_2065  mrgS20101101S0089.fits[2,append][1043:2066,1:2304]  INDEF  0.\n",
        "GMOSAIC imcopy  tmpchipvar92482_2068  mrgS20101101S0089.fits[2,append][2085:3108,1:2304]  INDEF  0.\n",
        "GMOSAIC imcopy  tmpchipdq92482_2063  mrgS20101101S0089.fits[3,append][1:1024,1:2304]  INDEF  0.\n",
        "GMOSAIC imcopy  tmpchipdq92482_2066  mrgS20101101S0089.fits[3,append][1043:2066,1:2304]  INDEF  0.\n",
        "GMOSAIC imcopy  tmpchipdq92482_2069  mrgS20101101S0089.fits[3,append][2085:3108,1:2304]  INDEF  0.\n"
       ]
      },
      {
       "output_type": "stream",
       "stream": "stdout",
       "text": [
        "gmos$data/gmos-s_bpm_EEV_22_3amp_v2_mosaic.pl\n",
        "GMOSAIC Cleaning areas outside imaging field, cleaning value = 3802.435\n"
       ]
      },
      {
       "output_type": "stream",
       "stream": "stdout",
       "text": [
        "GMOSAIC Input: rgS20101101S0090  Output: mrgS20101101S0090.fits\n"
       ]
      },
      {
       "output_type": "stream",
       "stream": "stdout",
       "text": [
        "GMOSAIC Setting rotation Xrot[1]= 0.011000, Yrot[1]= 0.011000\n"
       ]
      },
      {
       "output_type": "stream",
       "stream": "stdout",
       "text": [
        "GMOSAIC Setting rotation Xrot[2]= 0.000000, Yrot[2]= 0.000000\n"
       ]
      },
      {
       "output_type": "stream",
       "stream": "stdout",
       "text": [
        "GMOSAIC Setting rotation Xrot[3]= 0.012000, Yrot[3]= 0.012000\n"
       ]
      },
      {
       "output_type": "stream",
       "stream": "stdout",
       "text": [
        "GMOSAIC \n",
        "GMOSAIC Transforming image tmpimg92482_2070[SCI,1][1:1024,1:2304] to image tmpchipsci92482_2077\n",
        "GMOSAIC     xshift: 1.02 yshift: 0.21 xmag: 1.00 ymag: 1.00 xrot: 0.01 yrot: 0.01\n",
        "GMOSAIC \n",
        "GMOSAIC Transforming image tmpimg92482_2070[VAR,1][1:1024,1:2304] to image tmpchipvar92482_2078\n",
        "GMOSAIC     xshift: 1.02 yshift: 0.21 xmag: 1.00 ymag: 1.00 xrot: 0.01 yrot: 0.01\n",
        "GMOSAIC \n",
        "GMOSAIC Transforming image tmpimg92482_2070[DQ,1][1:1024,1:2304] to image tmpdq_transimg92482_2018.fits\n",
        "GMOSAIC     xshift: 1.02 yshift: 0.21 xmag: 1.00 ymag: 1.00 xrot: 0.01 yrot: 0.01\n"
       ]
      },
      {
       "output_type": "stream",
       "stream": "stdout",
       "text": [
        "GMOSAIC \n",
        "GMOSAIC Transforming image tmpimg92482_2070[SCI,2][1:1024,1:2304] to image tmpchipsci92482_2080\n",
        "GMOSAIC     xshift: 0.00 yshift: 0.00 xmag: 1.00 ymag: 1.00 xrot: 0.00 yrot: 0.00\n",
        "GMOSAIC \n",
        "GMOSAIC Transforming image tmpimg92482_2070[VAR,2][1:1024,1:2304] to image tmpchipvar92482_2081\n",
        "GMOSAIC     xshift: 0.00 yshift: 0.00 xmag: 1.00 ymag: 1.00 xrot: 0.00 yrot: 0.00\n"
       ]
      },
      {
       "output_type": "stream",
       "stream": "stdout",
       "text": [
        "GMOSAIC \n",
        "GMOSAIC Transforming image tmpimg92482_2070[SCI,3][1:1024,1:2304] to image tmpchipsci92482_2083\n",
        "GMOSAIC     xshift: -2.90 yshift: -0.91 xmag: 1.00 ymag: 1.00 xrot: 0.01 yrot: 0.01\n",
        "GMOSAIC \n",
        "GMOSAIC Transforming image tmpimg92482_2070[VAR,3][1:1024,1:2304] to image tmpchipvar92482_2084\n",
        "GMOSAIC     xshift: -2.90 yshift: -0.91 xmag: 1.00 ymag: 1.00 xrot: 0.01 yrot: 0.01\n",
        "GMOSAIC \n",
        "GMOSAIC Transforming image tmpimg92482_2070[DQ,3][1:1024,1:2304] to image tmpdq_transimg92482_2018.fits\n",
        "GMOSAIC     xshift: -2.90 yshift: -0.91 xmag: 1.00 ymag: 1.00 xrot: 0.01 yrot: 0.01\n"
       ]
      },
      {
       "output_type": "stream",
       "stream": "stdout",
       "text": [
        "GMOSAIC imcopy  tmpchipsci92482_2077  mrgS20101101S0090.fits[1,append][1:1024,1:2304]  INDEF  0.\n",
        "GMOSAIC imcopy  tmpchipsci92482_2080  mrgS20101101S0090.fits[1,append][1043:2066,1:2304]  INDEF  0.\n",
        "GMOSAIC imcopy  tmpchipsci92482_2083  mrgS20101101S0090.fits[1,append][2085:3108,1:2304]  INDEF  0.\n",
        "GMOSAIC imcopy  tmpchipvar92482_2078  mrgS20101101S0090.fits[2,append][1:1024,1:2304]  INDEF  0.\n",
        "GMOSAIC imcopy  tmpchipvar92482_2081  mrgS20101101S0090.fits[2,append][1043:2066,1:2304]  INDEF  0.\n",
        "GMOSAIC imcopy  tmpchipvar92482_2084  mrgS20101101S0090.fits[2,append][2085:3108,1:2304]  INDEF  0.\n",
        "GMOSAIC imcopy  tmpchipdq92482_2079  mrgS20101101S0090.fits[3,append][1:1024,1:2304]  INDEF  0.\n",
        "GMOSAIC imcopy  tmpchipdq92482_2082  mrgS20101101S0090.fits[3,append][1043:2066,1:2304]  INDEF  0.\n",
        "GMOSAIC imcopy  tmpchipdq92482_2085  mrgS20101101S0090.fits[3,append][2085:3108,1:2304]  INDEF  0.\n"
       ]
      },
      {
       "output_type": "stream",
       "stream": "stdout",
       "text": [
        "gmos$data/gmos-s_bpm_EEV_22_3amp_v2_mosaic.pl\n",
        "GMOSAIC Cleaning areas outside imaging field, cleaning value = 3737.172\n"
       ]
      },
      {
       "output_type": "stream",
       "stream": "stdout",
       "text": [
        "GMOSAIC All 4 images successfully mosaiced.\n"
       ]
      },
      {
       "output_type": "stream",
       "stream": "stdout",
       "text": [
        "GMOSAIC --------------------\n",
        "GMOSAIC Exit status: SUCCESS\n",
        "GMOSAIC Log closed at [Wed 09:01:49 23-Mar-2016]\n",
        "GMOSAIC -------------------------------------------------------------------\n",
        "GMOSAIC \n"
       ]
      }
     ],
     "prompt_number": 17
    },
    {
     "cell_type": "heading",
     "level": 4,
     "metadata": {},
     "source": [
      "Visually inspect the mosaiced frames"
     ]
    },
    {
     "cell_type": "code",
     "collapsed": false,
     "input": [
      "sciframes = open('sci.lis', 'r')\n",
      "for line in sciframes:\n",
      "    frame = line.strip()\n",
      "    iraf.gdisplay('mrg'+frame, 1, z2=20000, fl_paste='yes')\n",
      "sciframes.close()"
     ],
     "language": "python",
     "metadata": {},
     "outputs": [
      {
       "output_type": "stream",
       "stream": "stdout",
       "text": [
        "\n",
        "GDISPLAY - Started: 2016-03-23T09:02:03\n",
        "\n"
       ]
      },
      {
       "output_type": "stream",
       "stream": "stdout",
       "text": [
        "WARNING - GDISPLAY: only one science extension found, turning paste off\n",
        "\n",
        "WARNING - GDISPLAY: Input image has been processed by GMOSAIC.\n",
        "                    Switching off the following flags:\n",
        "                          ret_roi=no\n",
        "\n",
        "GDISPLAY: Displaying image...\n",
        "\n",
        "GDISPLAY: Starting imexamine - quit with q"
       ]
      },
      {
       "output_type": "stream",
       "stream": "stdout",
       "text": [
        "\n",
        "\n",
        "GDISPLAY - Finished: 2016-03-23T09:02:11\n"
       ]
      },
      {
       "output_type": "stream",
       "stream": "stdout",
       "text": [
        "\n",
        "\n",
        "GDISPLAY - Started: 2016-03-23T09:02:11\n",
        "\n"
       ]
      },
      {
       "output_type": "stream",
       "stream": "stdout",
       "text": [
        "WARNING - GDISPLAY: only one science extension found, turning paste off\n",
        "\n",
        "WARNING - GDISPLAY: Input image has been processed by GMOSAIC.\n",
        "                    Switching off the following flags:\n",
        "                          ret_roi=no\n",
        "\n",
        "GDISPLAY: Displaying image...\n",
        "\n",
        "GDISPLAY: Starting imexamine - quit with q"
       ]
      },
      {
       "output_type": "stream",
       "stream": "stdout",
       "text": [
        "\n",
        "\n",
        "GDISPLAY - Finished: 2016-03-23T09:02:13\n"
       ]
      },
      {
       "output_type": "stream",
       "stream": "stdout",
       "text": [
        "\n",
        "\n",
        "GDISPLAY - Started: 2016-03-23T09:02:13\n",
        "\n"
       ]
      },
      {
       "output_type": "stream",
       "stream": "stdout",
       "text": [
        "WARNING - GDISPLAY: only one science extension found, turning paste off\n",
        "\n",
        "WARNING - GDISPLAY: Input image has been processed by GMOSAIC.\n",
        "                    Switching off the following flags:\n",
        "                          ret_roi=no\n",
        "\n",
        "GDISPLAY: Displaying image...\n",
        "\n",
        "GDISPLAY: Starting imexamine - quit with q"
       ]
      },
      {
       "output_type": "stream",
       "stream": "stdout",
       "text": [
        "\n",
        "\n",
        "GDISPLAY - Finished: 2016-03-23T09:02:14\n"
       ]
      },
      {
       "output_type": "stream",
       "stream": "stdout",
       "text": [
        "\n",
        "\n",
        "GDISPLAY - Started: 2016-03-23T09:02:14\n",
        "\n"
       ]
      },
      {
       "output_type": "stream",
       "stream": "stdout",
       "text": [
        "WARNING - GDISPLAY: only one science extension found, turning paste off\n",
        "\n",
        "WARNING - GDISPLAY: Input image has been processed by GMOSAIC.\n",
        "                    Switching off the following flags:\n",
        "                          ret_roi=no\n",
        "\n",
        "GDISPLAY: Displaying image...\n",
        "\n",
        "GDISPLAY: Starting imexamine - quit with q"
       ]
      },
      {
       "output_type": "stream",
       "stream": "stdout",
       "text": [
        "\n",
        "\n",
        "GDISPLAY - Finished: 2016-03-23T09:02:16\n"
       ]
      },
      {
       "output_type": "stream",
       "stream": "stdout",
       "text": [
        "\n"
       ]
      }
     ],
     "prompt_number": 18
    },
    {
     "cell_type": "heading",
     "level": 2,
     "metadata": {},
     "source": [
      "STEP 9: Align and stack the mosaic target frames"
     ]
    },
    {
     "cell_type": "code",
     "collapsed": false,
     "input": [
      "iraf.imdelete(science['procsci'], verify='no')\n",
      "\n",
      "iraf.imcoadd('mrg//@sci.lis', outimage=science['procsci'], logfile=logfile)"
     ],
     "language": "python",
     "metadata": {},
     "outputs": [
      {
       "output_type": "stream",
       "stream": "stdout",
       "text": [
        "-----------------------------------------------------------------------------\n",
        "IMCOADD -- Wed Mar 23 09:02:21 HST 2016\n",
        "\n",
        "Images (and masks) in list\n",
        "mrgS20101101S0087\n",
        "mrgS20101101S0088\n",
        "mrgS20101101S0089\n",
        "mrgS20101101S0090\n"
       ]
      },
      {
       "output_type": "stream",
       "stream": "stdout",
       "text": [
        "Alignment method: wcs\n"
       ]
      },
      {
       "output_type": "stream",
       "stream": "stdout",
       "text": [
        "Making individual masks from DQ\n",
        "Fixpix input images using DQ"
       ]
      },
      {
       "output_type": "stream",
       "stream": "stdout",
       "text": [
        "\n"
       ]
      },
      {
       "output_type": "stream",
       "stream": "stdout",
       "text": [
        "Instrument + camera      : GMOS-S  \n",
        "Telescope ISS port number: 3\n",
        "Bad pixel file gmos$data/gmos-s_bpm_EEV_22_3amp_v2_mosaic.pl\n",
        "Read noise:   3.85 e-   Gain:   1.00 e-/ADU\n"
       ]
      },
      {
       "output_type": "stream",
       "stream": "stdout",
       "text": [
        "Co-added cleaned output image: ngc6872_r\n",
        "Pixel scale: 0.1461\n",
        "Statistics section: [100:3008,100:2204]\n",
        "Finding objects in mrgS20101101S0087"
       ]
      },
      {
       "output_type": "stream",
       "stream": "stdout",
       "text": [
        "\n",
        "Sampling for geotran  : 20  20"
       ]
      },
      {
       "output_type": "stream",
       "stream": "stdout",
       "text": [
        "\n",
        "Block size for geotran: 2048  2048\n",
        "Centering objects in mrgS20101101S0087\n",
        "Number of objects successfully centered in reference image 485"
       ]
      },
      {
       "output_type": "stream",
       "stream": "stdout",
       "text": [
        "\n",
        "Alignment method: wcs\n",
        "\n"
       ]
      },
      {
       "output_type": "stream",
       "stream": "stdout",
       "text": [
        "Coordinate list: imxymatch.1  Transform: mrgS20101101S0088_trn\n"
       ]
      },
      {
       "output_type": "stream",
       "stream": "stdout",
       "text": [
        "    Results file: \n"
       ]
      },
      {
       "output_type": "stream",
       "stream": "stdout",
       "text": [
        "Coordinate mapping status\n"
       ]
      },
      {
       "output_type": "stream",
       "stream": "stdout",
       "text": [
        "    "
       ]
      },
      {
       "output_type": "stream",
       "stream": "stdout",
       "text": [
        "X fit ok.  Y fit ok.\n"
       ]
      },
      {
       "output_type": "stream",
       "stream": "stdout",
       "text": [
        "    Xin and Yin fit rms: 0.005628878  0.006281923\n"
       ]
      },
      {
       "output_type": "stream",
       "stream": "stdout",
       "text": [
        "Coordinate mapping parameters\n"
       ]
      },
      {
       "output_type": "stream",
       "stream": "stdout",
       "text": [
        "    Mean Xref and Yref: 1554.5  1152.5\n"
       ]
      },
      {
       "output_type": "stream",
       "stream": "stdout",
       "text": [
        "    Mean Xin and Yin: 1520.273  1152.509\n"
       ]
      },
      {
       "output_type": "stream",
       "stream": "stdout",
       "text": [
        "    X and Y shift: -34.21567  4.210953E-4  (xin  yin)\n"
       ]
      },
      {
       "output_type": "stream",
       "stream": "stdout",
       "text": [
        "    X and Y scale: 0.9999979  0.9999979  (xin / xref  yin / yref)\n"
       ]
      },
      {
       "output_type": "stream",
       "stream": "stdout",
       "text": [
        "    X and Y axis rotation: 359.99960  359.99960  (degrees  degrees)\n"
       ]
      },
      {
       "output_type": "stream",
       "stream": "stdout",
       "text": [
        "Centering objects in mrgS20101101S0088\n",
        "\n"
       ]
      },
      {
       "output_type": "stream",
       "stream": "stdout",
       "text": [
        "Xmax =  3108   Ymax = 2304\n",
        "Entering geomap\n",
        "Fitting geometry rscale\n",
        "Iterating a maximum of 5 times\n",
        "\n"
       ]
      },
      {
       "output_type": "stream",
       "stream": "stdout",
       "text": [
        "Coordinate list: mrgS20101101S0088_trn  Transform: mrgS20101101S0088_trn\n"
       ]
      },
      {
       "output_type": "stream",
       "stream": "stdout",
       "text": [
        "    Results file: tmpres92482_2107\n"
       ]
      },
      {
       "output_type": "stream",
       "stream": "stdout",
       "text": [
        "Coordinate mapping status\n"
       ]
      },
      {
       "output_type": "stream",
       "stream": "stdout",
       "text": [
        "    "
       ]
      },
      {
       "output_type": "stream",
       "stream": "stdout",
       "text": [
        "X fit ok.  Y fit ok.\n"
       ]
      },
      {
       "output_type": "stream",
       "stream": "stdout",
       "text": [
        "    Xin and Yin fit rms: 12.51114  11.03705\n"
       ]
      },
      {
       "output_type": "stream",
       "stream": "stdout",
       "text": [
        "Coordinate mapping parameters\n"
       ]
      },
      {
       "output_type": "stream",
       "stream": "stdout",
       "text": [
        "    Mean Xref and Yref: 1598.206  1147.867\n"
       ]
      },
      {
       "output_type": "stream",
       "stream": "stdout",
       "text": [
        "    Mean Xin and Yin: 1560.464  1148.434\n"
       ]
      },
      {
       "output_type": "stream",
       "stream": "stdout",
       "text": [
        "    X and Y shift: -34.61303  2.331055  (xin  yin)\n"
       ]
      },
      {
       "output_type": "stream",
       "stream": "stdout",
       "text": [
        "    X and Y scale: 0.999429  0.999429  (xin / xref  yin / yref)\n"
       ]
      },
      {
       "output_type": "stream",
       "stream": "stdout",
       "text": [
        "    X and Y axis rotation: 0.03191  0.03191  (degrees  degrees)\n"
       ]
      },
      {
       "output_type": "stream",
       "stream": "stdout",
       "text": [
        "\n"
       ]
      },
      {
       "output_type": "stream",
       "stream": "stdout",
       "text": [
        "Coordinate list: mrgS20101101S0088_trn  Transform: mrgS20101101S0088_trn\n"
       ]
      },
      {
       "output_type": "stream",
       "stream": "stdout",
       "text": [
        "    Results file: tmpres92482_2107\n"
       ]
      },
      {
       "output_type": "stream",
       "stream": "stdout",
       "text": [
        "Coordinate mapping status\n"
       ]
      },
      {
       "output_type": "stream",
       "stream": "stdout",
       "text": [
        "    "
       ]
      },
      {
       "output_type": "stream",
       "stream": "stdout",
       "text": [
        "X fit ok.  Y fit ok.\n"
       ]
      },
      {
       "output_type": "stream",
       "stream": "stdout",
       "text": [
        "    Xin and Yin fit rms: 1.950519  1.863659\n"
       ]
      },
      {
       "output_type": "stream",
       "stream": "stdout",
       "text": [
        "Coordinate mapping parameters\n"
       ]
      },
      {
       "output_type": "stream",
       "stream": "stdout",
       "text": [
        "    Mean Xref and Yref: 1606.994  1129.748\n"
       ]
      },
      {
       "output_type": "stream",
       "stream": "stdout",
       "text": [
        "    Mean Xin and Yin: 1572.842  1130.485\n"
       ]
      },
      {
       "output_type": "stream",
       "stream": "stdout",
       "text": [
        "    X and Y shift: -34.46964  0.02893066  (xin  yin)\n"
       ]
      },
      {
       "output_type": "stream",
       "stream": "stdout",
       "text": [
        "    X and Y scale: 1.000062  1.000062  (xin / xref  yin / yref)\n"
       ]
      },
      {
       "output_type": "stream",
       "stream": "stdout",
       "text": [
        "    X and Y axis rotation: 359.99524  359.99524  (degrees  degrees)\n"
       ]
      },
      {
       "output_type": "stream",
       "stream": "stdout",
       "text": [
        "\n"
       ]
      },
      {
       "output_type": "stream",
       "stream": "stdout",
       "text": [
        "Coordinate list: mrgS20101101S0088_trn  Transform: mrgS20101101S0088_trn\n"
       ]
      },
      {
       "output_type": "stream",
       "stream": "stdout",
       "text": [
        "    Results file: tmpres92482_2107\n"
       ]
      },
      {
       "output_type": "stream",
       "stream": "stdout",
       "text": [
        "Coordinate mapping status\n"
       ]
      },
      {
       "output_type": "stream",
       "stream": "stdout",
       "text": [
        "    "
       ]
      },
      {
       "output_type": "stream",
       "stream": "stdout",
       "text": [
        "X fit ok.  Y fit ok.\n"
       ]
      },
      {
       "output_type": "stream",
       "stream": "stdout",
       "text": [
        "    Xin and Yin fit rms: 0.2339694  0.1931138\n"
       ]
      },
      {
       "output_type": "stream",
       "stream": "stdout",
       "text": [
        "Coordinate mapping parameters\n"
       ]
      },
      {
       "output_type": "stream",
       "stream": "stdout",
       "text": [
        "    Mean Xref and Yref: 1634.163  1125.485\n"
       ]
      },
      {
       "output_type": "stream",
       "stream": "stdout",
       "text": [
        "    Mean Xin and Yin: 1599.887  1125.839\n"
       ]
      },
      {
       "output_type": "stream",
       "stream": "stdout",
       "text": [
        "    X and Y shift: -34.18585  0.3146973  (xin  yin)\n"
       ]
      },
      {
       "output_type": "stream",
       "stream": "stdout",
       "text": [
        "    X and Y scale: 0.9999579  0.9999579  (xin / xref  yin / yref)\n"
       ]
      },
      {
       "output_type": "stream",
       "stream": "stdout",
       "text": [
        "    X and Y axis rotation: 359.99829  359.99829  (degrees  degrees)\n"
       ]
      },
      {
       "output_type": "stream",
       "stream": "stdout",
       "text": [
        "\n"
       ]
      },
      {
       "output_type": "stream",
       "stream": "stdout",
       "text": [
        "Coordinate list: mrgS20101101S0088_trn  Transform: mrgS20101101S0088_trn\n"
       ]
      },
      {
       "output_type": "stream",
       "stream": "stdout",
       "text": [
        "    Results file: tmpres92482_2107\n"
       ]
      },
      {
       "output_type": "stream",
       "stream": "stdout",
       "text": [
        "Coordinate mapping status\n"
       ]
      },
      {
       "output_type": "stream",
       "stream": "stdout",
       "text": [
        "    "
       ]
      },
      {
       "output_type": "stream",
       "stream": "stdout",
       "text": [
        "X fit ok.  Y fit ok.\n"
       ]
      },
      {
       "output_type": "stream",
       "stream": "stdout",
       "text": [
        "    Xin and Yin fit rms: 0.1612063  0.1291615\n"
       ]
      },
      {
       "output_type": "stream",
       "stream": "stdout",
       "text": [
        "Coordinate mapping parameters\n"
       ]
      },
      {
       "output_type": "stream",
       "stream": "stdout",
       "text": [
        "    Mean Xref and Yref: 1636.073  1098.907\n"
       ]
      },
      {
       "output_type": "stream",
       "stream": "stdout",
       "text": [
        "    Mean Xin and Yin: 1601.792  1099.232\n"
       ]
      },
      {
       "output_type": "stream",
       "stream": "stdout",
       "text": [
        "    X and Y shift: -34.16214  0.3497314  (xin  yin)\n"
       ]
      },
      {
       "output_type": "stream",
       "stream": "stdout",
       "text": [
        "    X and Y scale: 0.999943  0.999943  (xin / xref  yin / yref)\n"
       ]
      },
      {
       "output_type": "stream",
       "stream": "stdout",
       "text": [
        "    X and Y axis rotation: 359.99863  359.99863  (degrees  degrees)\n"
       ]
      },
      {
       "output_type": "stream",
       "stream": "stdout",
       "text": [
        "\n"
       ]
      },
      {
       "output_type": "stream",
       "stream": "stdout",
       "text": [
        "Coordinate list: imxymatch.1  Transform: mrgS20101101S0089_trn\n"
       ]
      },
      {
       "output_type": "stream",
       "stream": "stdout",
       "text": [
        "    Results file: \n"
       ]
      },
      {
       "output_type": "stream",
       "stream": "stdout",
       "text": [
        "Coordinate mapping status\n"
       ]
      },
      {
       "output_type": "stream",
       "stream": "stdout",
       "text": [
        "    "
       ]
      },
      {
       "output_type": "stream",
       "stream": "stdout",
       "text": [
        "X fit ok.  Y fit ok.\n"
       ]
      },
      {
       "output_type": "stream",
       "stream": "stdout",
       "text": [
        "    Xin and Yin fit rms: 0.005875335  0.006372866\n"
       ]
      },
      {
       "output_type": "stream",
       "stream": "stdout",
       "text": [
        "Coordinate mapping parameters\n"
       ]
      },
      {
       "output_type": "stream",
       "stream": "stdout",
       "text": [
        "    Mean Xref and Yref: 1554.5  1152.5\n"
       ]
      },
      {
       "output_type": "stream",
       "stream": "stdout",
       "text": [
        "    Mean Xin and Yin: 1554.475  1118.263\n"
       ]
      },
      {
       "output_type": "stream",
       "stream": "stdout",
       "text": [
        "    X and Y shift: -0.02503858  -34.23117  (xin  yin)\n"
       ]
      },
      {
       "output_type": "stream",
       "stream": "stdout",
       "text": [
        "    X and Y scale: 0.9999979  0.9999979  (xin / xref  yin / yref)\n"
       ]
      },
      {
       "output_type": "stream",
       "stream": "stdout",
       "text": [
        "    X and Y axis rotation: 0.00014  0.00014  (degrees  degrees)\n"
       ]
      },
      {
       "output_type": "stream",
       "stream": "stdout",
       "text": [
        "Centering objects in mrgS20101101S0089\n",
        "\n"
       ]
      },
      {
       "output_type": "stream",
       "stream": "stdout",
       "text": [
        "Xmax =  3108   Ymax = 2304\n",
        "Entering geomap\n",
        "Fitting geometry rscale\n",
        "Iterating a maximum of 5 times\n",
        "\n"
       ]
      },
      {
       "output_type": "stream",
       "stream": "stdout",
       "text": [
        "Coordinate list: mrgS20101101S0089_trn  Transform: mrgS20101101S0089_trn\n"
       ]
      },
      {
       "output_type": "stream",
       "stream": "stdout",
       "text": [
        "    Results file: tmpres92482_2107\n"
       ]
      },
      {
       "output_type": "stream",
       "stream": "stdout",
       "text": [
        "Coordinate mapping status\n"
       ]
      },
      {
       "output_type": "stream",
       "stream": "stdout",
       "text": [
        "    "
       ]
      },
      {
       "output_type": "stream",
       "stream": "stdout",
       "text": [
        "X fit ok.  Y fit ok.\n"
       ]
      },
      {
       "output_type": "stream",
       "stream": "stdout",
       "text": [
        "    Xin and Yin fit rms: 13.30814  11.71999\n"
       ]
      },
      {
       "output_type": "stream",
       "stream": "stdout",
       "text": [
        "Coordinate mapping parameters\n"
       ]
      },
      {
       "output_type": "stream",
       "stream": "stdout",
       "text": [
        "    Mean Xref and Yref: 1593.81  1151.595\n"
       ]
      },
      {
       "output_type": "stream",
       "stream": "stdout",
       "text": [
        "    Mean Xin and Yin: 1554.707  1118.522\n"
       ]
      },
      {
       "output_type": "stream",
       "stream": "stdout",
       "text": [
        "    X and Y shift: -35.34849  -32.28162  (xin  yin)\n"
       ]
      },
      {
       "output_type": "stream",
       "stream": "stdout",
       "text": [
        "    X and Y scale: 0.9997742  0.9997742  (xin / xref  yin / yref)\n"
       ]
      },
      {
       "output_type": "stream",
       "stream": "stdout",
       "text": [
        "    X and Y axis rotation: 0.01718  0.01718  (degrees  degrees)\n"
       ]
      },
      {
       "output_type": "stream",
       "stream": "stdout",
       "text": [
        "\n"
       ]
      },
      {
       "output_type": "stream",
       "stream": "stdout",
       "text": [
        "Coordinate list: mrgS20101101S0089_trn  Transform: mrgS20101101S0089_trn\n"
       ]
      },
      {
       "output_type": "stream",
       "stream": "stdout",
       "text": [
        "    Results file: tmpres92482_2107\n"
       ]
      },
      {
       "output_type": "stream",
       "stream": "stdout",
       "text": [
        "Coordinate mapping status\n"
       ]
      },
      {
       "output_type": "stream",
       "stream": "stdout",
       "text": [
        "    "
       ]
      },
      {
       "output_type": "stream",
       "stream": "stdout",
       "text": [
        "X fit ok.  Y fit ok.\n"
       ]
      },
      {
       "output_type": "stream",
       "stream": "stdout",
       "text": [
        "    Xin and Yin fit rms: 2.767917  2.361728\n"
       ]
      },
      {
       "output_type": "stream",
       "stream": "stdout",
       "text": [
        "Coordinate mapping parameters\n"
       ]
      },
      {
       "output_type": "stream",
       "stream": "stdout",
       "text": [
        "    Mean Xref and Yref: 1598.868  1147.175\n"
       ]
      },
      {
       "output_type": "stream",
       "stream": "stdout",
       "text": [
        "    Mean Xin and Yin: 1564.513  1113.621\n"
       ]
      },
      {
       "output_type": "stream",
       "stream": "stdout",
       "text": [
        "    X and Y shift: -34.93499  -34.30554  (xin  yin)\n"
       ]
      },
      {
       "output_type": "stream",
       "stream": "stdout",
       "text": [
        "    X and Y scale: 1.000112  1.000112  (xin / xref  yin / yref)\n"
       ]
      },
      {
       "output_type": "stream",
       "stream": "stdout",
       "text": [
        "    X and Y axis rotation: 0.00377  0.00377  (degrees  degrees)\n"
       ]
      },
      {
       "output_type": "stream",
       "stream": "stdout",
       "text": [
        "\n"
       ]
      },
      {
       "output_type": "stream",
       "stream": "stdout",
       "text": [
        "Coordinate list: mrgS20101101S0089_trn  Transform: mrgS20101101S0089_trn\n"
       ]
      },
      {
       "output_type": "stream",
       "stream": "stdout",
       "text": [
        "    Results file: tmpres92482_2107\n"
       ]
      },
      {
       "output_type": "stream",
       "stream": "stdout",
       "text": [
        "Coordinate mapping status\n"
       ]
      },
      {
       "output_type": "stream",
       "stream": "stdout",
       "text": [
        "    "
       ]
      },
      {
       "output_type": "stream",
       "stream": "stdout",
       "text": [
        "X fit ok.  Y fit ok.\n"
       ]
      },
      {
       "output_type": "stream",
       "stream": "stdout",
       "text": [
        "    Xin and Yin fit rms: 0.2402036  0.1860939\n"
       ]
      },
      {
       "output_type": "stream",
       "stream": "stdout",
       "text": [
        "Coordinate mapping parameters\n"
       ]
      },
      {
       "output_type": "stream",
       "stream": "stdout",
       "text": [
        "    Mean Xref and Yref: 1625.268  1142.746\n"
       ]
      },
      {
       "output_type": "stream",
       "stream": "stdout",
       "text": [
        "    Mean Xin and Yin: 1590.811  1108.582\n"
       ]
      },
      {
       "output_type": "stream",
       "stream": "stdout",
       "text": [
        "    X and Y shift: -34.34774  -34.17566  (xin  yin)\n"
       ]
      },
      {
       "output_type": "stream",
       "stream": "stdout",
       "text": [
        "    X and Y scale: 0.9999845  0.9999845  (xin / xref  yin / yref)\n"
       ]
      },
      {
       "output_type": "stream",
       "stream": "stdout",
       "text": [
        "    X and Y axis rotation: 359.99796  359.99796  (degrees  degrees)\n"
       ]
      },
      {
       "output_type": "stream",
       "stream": "stdout",
       "text": [
        "\n"
       ]
      },
      {
       "output_type": "stream",
       "stream": "stdout",
       "text": [
        "Coordinate list: mrgS20101101S0089_trn  Transform: mrgS20101101S0089_trn\n"
       ]
      },
      {
       "output_type": "stream",
       "stream": "stdout",
       "text": [
        "    Results file: tmpres92482_2107\n"
       ]
      },
      {
       "output_type": "stream",
       "stream": "stdout",
       "text": [
        "Coordinate mapping status\n"
       ]
      },
      {
       "output_type": "stream",
       "stream": "stdout",
       "text": [
        "    "
       ]
      },
      {
       "output_type": "stream",
       "stream": "stdout",
       "text": [
        "X fit ok.  Y fit ok.\n"
       ]
      },
      {
       "output_type": "stream",
       "stream": "stdout",
       "text": [
        "    Xin and Yin fit rms: 0.146128  0.1150479\n"
       ]
      },
      {
       "output_type": "stream",
       "stream": "stdout",
       "text": [
        "Coordinate mapping parameters\n"
       ]
      },
      {
       "output_type": "stream",
       "stream": "stdout",
       "text": [
        "    Mean Xref and Yref: 1632.61  1149.365\n"
       ]
      },
      {
       "output_type": "stream",
       "stream": "stdout",
       "text": [
        "    Mean Xin and Yin: 1598.217  1115.231\n"
       ]
      },
      {
       "output_type": "stream",
       "stream": "stdout",
       "text": [
        "    X and Y shift: -34.34995  -34.16431  (xin  yin)\n"
       ]
      },
      {
       "output_type": "stream",
       "stream": "stdout",
       "text": [
        "    X and Y scale: 0.9999904  0.9999905  (xin / xref  yin / yref)\n"
       ]
      },
      {
       "output_type": "stream",
       "stream": "stdout",
       "text": [
        "    X and Y axis rotation: 359.99838  359.99838  (degrees  degrees)\n"
       ]
      },
      {
       "output_type": "stream",
       "stream": "stdout",
       "text": [
        "\n"
       ]
      },
      {
       "output_type": "stream",
       "stream": "stdout",
       "text": [
        "Coordinate list: imxymatch.1  Transform: mrgS20101101S0090_trn\n"
       ]
      },
      {
       "output_type": "stream",
       "stream": "stdout",
       "text": [
        "    Results file: \n"
       ]
      },
      {
       "output_type": "stream",
       "stream": "stdout",
       "text": [
        "Coordinate mapping status\n"
       ]
      },
      {
       "output_type": "stream",
       "stream": "stdout",
       "text": [
        "    "
       ]
      },
      {
       "output_type": "stream",
       "stream": "stdout",
       "text": [
        "X fit ok.  Y fit ok.\n"
       ]
      },
      {
       "output_type": "stream",
       "stream": "stdout",
       "text": [
        "    Xin and Yin fit rms: 0.005748001  0.006625012\n"
       ]
      },
      {
       "output_type": "stream",
       "stream": "stdout",
       "text": [
        "Coordinate mapping parameters\n"
       ]
      },
      {
       "output_type": "stream",
       "stream": "stdout",
       "text": [
        "    Mean Xref and Yref: 1554.5  1152.5\n"
       ]
      },
      {
       "output_type": "stream",
       "stream": "stdout",
       "text": [
        "    Mean Xin and Yin: 1588.731  1152.488\n"
       ]
      },
      {
       "output_type": "stream",
       "stream": "stdout",
       "text": [
        "    X and Y shift: 34.24295  -0.02277369  (xin  yin)\n"
       ]
      },
      {
       "output_type": "stream",
       "stream": "stdout",
       "text": [
        "    X and Y scale: 0.999998  0.999998  (xin / xref  yin / yref)\n"
       ]
      },
      {
       "output_type": "stream",
       "stream": "stdout",
       "text": [
        "    X and Y axis rotation: 359.99954  359.99954  (degrees  degrees)\n"
       ]
      },
      {
       "output_type": "stream",
       "stream": "stdout",
       "text": [
        "Centering objects in mrgS20101101S0090\n",
        "\n"
       ]
      },
      {
       "output_type": "stream",
       "stream": "stdout",
       "text": [
        "Xmax =  3108   Ymax = 2304\n",
        "Entering geomap\n",
        "Fitting geometry rscale\n",
        "Iterating a maximum of 5 times\n",
        "\n"
       ]
      },
      {
       "output_type": "stream",
       "stream": "stdout",
       "text": [
        "Coordinate list: mrgS20101101S0090_trn  Transform: mrgS20101101S0090_trn\n"
       ]
      },
      {
       "output_type": "stream",
       "stream": "stdout",
       "text": [
        "    Results file: tmpres92482_2107\n"
       ]
      },
      {
       "output_type": "stream",
       "stream": "stdout",
       "text": [
        "Coordinate mapping status\n"
       ]
      },
      {
       "output_type": "stream",
       "stream": "stdout",
       "text": [
        "    "
       ]
      },
      {
       "output_type": "stream",
       "stream": "stdout",
       "text": [
        "X fit ok.  Y fit ok.\n"
       ]
      },
      {
       "output_type": "stream",
       "stream": "stdout",
       "text": [
        "    Xin and Yin fit rms: 12.83797  10.97163\n"
       ]
      },
      {
       "output_type": "stream",
       "stream": "stdout",
       "text": [
        "Coordinate mapping parameters\n"
       ]
      },
      {
       "output_type": "stream",
       "stream": "stdout",
       "text": [
        "    Mean Xref and Yref: 1597.235  1147.954\n"
       ]
      },
      {
       "output_type": "stream",
       "stream": "stdout",
       "text": [
        "    Mean Xin and Yin: 1593.364  1114.441\n"
       ]
      },
      {
       "output_type": "stream",
       "stream": "stdout",
       "text": [
        "    X and Y shift: -0.9705968  -33.3031  (xin  yin)\n"
       ]
      },
      {
       "output_type": "stream",
       "stream": "stdout",
       "text": [
        "    X and Y scale: 0.9999892  0.9999892  (xin / xref  yin / yref)\n"
       ]
      },
      {
       "output_type": "stream",
       "stream": "stdout",
       "text": [
        "    X and Y axis rotation: 0.00946  0.00946  (degrees  degrees)\n"
       ]
      },
      {
       "output_type": "stream",
       "stream": "stdout",
       "text": [
        "\n"
       ]
      },
      {
       "output_type": "stream",
       "stream": "stdout",
       "text": [
        "Coordinate list: mrgS20101101S0090_trn  Transform: mrgS20101101S0090_trn\n"
       ]
      },
      {
       "output_type": "stream",
       "stream": "stdout",
       "text": [
        "    Results file: tmpres92482_2107\n"
       ]
      },
      {
       "output_type": "stream",
       "stream": "stdout",
       "text": [
        "Coordinate mapping status\n"
       ]
      },
      {
       "output_type": "stream",
       "stream": "stdout",
       "text": [
        "    "
       ]
      },
      {
       "output_type": "stream",
       "stream": "stdout",
       "text": [
        "X fit ok.  Y fit ok.\n"
       ]
      },
      {
       "output_type": "stream",
       "stream": "stdout",
       "text": [
        "    Xin and Yin fit rms: 2.47633  1.576959\n"
       ]
      },
      {
       "output_type": "stream",
       "stream": "stdout",
       "text": [
        "Coordinate mapping parameters\n"
       ]
      },
      {
       "output_type": "stream",
       "stream": "stdout",
       "text": [
        "    Mean Xref and Yref: 1599.015  1131.845\n"
       ]
      },
      {
       "output_type": "stream",
       "stream": "stdout",
       "text": [
        "    Mean Xin and Yin: 1599.307  1097.966\n"
       ]
      },
      {
       "output_type": "stream",
       "stream": "stdout",
       "text": [
        "    X and Y shift: -0.4821177  -34.57532  (xin  yin)\n"
       ]
      },
      {
       "output_type": "stream",
       "stream": "stdout",
       "text": [
        "    X and Y scale: 1.000154  1.000154  (xin / xref  yin / yref)\n"
       ]
      },
      {
       "output_type": "stream",
       "stream": "stdout",
       "text": [
        "    X and Y axis rotation: 359.99533  359.99533  (degrees  degrees)\n"
       ]
      },
      {
       "output_type": "stream",
       "stream": "stdout",
       "text": [
        "\n"
       ]
      },
      {
       "output_type": "stream",
       "stream": "stdout",
       "text": [
        "Coordinate list: mrgS20101101S0090_trn  Transform: mrgS20101101S0090_trn\n"
       ]
      },
      {
       "output_type": "stream",
       "stream": "stdout",
       "text": [
        "    Results file: tmpres92482_2107\n"
       ]
      },
      {
       "output_type": "stream",
       "stream": "stdout",
       "text": [
        "Coordinate mapping status\n"
       ]
      },
      {
       "output_type": "stream",
       "stream": "stdout",
       "text": [
        "    "
       ]
      },
      {
       "output_type": "stream",
       "stream": "stdout",
       "text": [
        "X fit ok.  Y fit ok.\n"
       ]
      },
      {
       "output_type": "stream",
       "stream": "stdout",
       "text": [
        "    Xin and Yin fit rms: 0.1917848  0.157337\n"
       ]
      },
      {
       "output_type": "stream",
       "stream": "stdout",
       "text": [
        "Coordinate mapping parameters\n"
       ]
      },
      {
       "output_type": "stream",
       "stream": "stdout",
       "text": [
        "    Mean Xref and Yref: 1622.835  1124.102\n"
       ]
      },
      {
       "output_type": "stream",
       "stream": "stdout",
       "text": [
        "    Mean Xin and Yin: 1622.594  1089.803\n"
       ]
      },
      {
       "output_type": "stream",
       "stream": "stdout",
       "text": [
        "    X and Y shift: -0.2125957  -34.31775  (xin  yin)\n"
       ]
      },
      {
       "output_type": "stream",
       "stream": "stdout",
       "text": [
        "    X and Y scale: 1.000015  1.000015  (xin / xref  yin / yref)\n"
       ]
      },
      {
       "output_type": "stream",
       "stream": "stdout",
       "text": [
        "    X and Y axis rotation: 359.99908  359.99908  (degrees  degrees)\n"
       ]
      },
      {
       "output_type": "stream",
       "stream": "stdout",
       "text": [
        "\n"
       ]
      },
      {
       "output_type": "stream",
       "stream": "stdout",
       "text": [
        "Coordinate list: mrgS20101101S0090_trn  Transform: mrgS20101101S0090_trn\n"
       ]
      },
      {
       "output_type": "stream",
       "stream": "stdout",
       "text": [
        "    Results file: tmpres92482_2107\n"
       ]
      },
      {
       "output_type": "stream",
       "stream": "stdout",
       "text": [
        "Coordinate mapping status\n"
       ]
      },
      {
       "output_type": "stream",
       "stream": "stdout",
       "text": [
        "    "
       ]
      },
      {
       "output_type": "stream",
       "stream": "stdout",
       "text": [
        "X fit ok.  Y fit ok.\n"
       ]
      },
      {
       "output_type": "stream",
       "stream": "stdout",
       "text": [
        "    Xin and Yin fit rms: 0.1321171  0.1152363\n"
       ]
      },
      {
       "output_type": "stream",
       "stream": "stdout",
       "text": [
        "Coordinate mapping parameters\n"
       ]
      },
      {
       "output_type": "stream",
       "stream": "stdout",
       "text": [
        "    Mean Xref and Yref: 1635.988  1120.243\n"
       ]
      },
      {
       "output_type": "stream",
       "stream": "stdout",
       "text": [
        "    Mean Xin and Yin: 1635.788  1085.969\n"
       ]
      },
      {
       "output_type": "stream",
       "stream": "stdout",
       "text": [
        "    X and Y shift: -0.2193163  -34.31055  (xin  yin)\n"
       ]
      },
      {
       "output_type": "stream",
       "stream": "stdout",
       "text": [
        "    X and Y scale: 1.000019  1.000019  (xin / xref  yin / yref)\n"
       ]
      },
      {
       "output_type": "stream",
       "stream": "stdout",
       "text": [
        "    X and Y axis rotation: 359.99954  359.99954  (degrees  degrees)\n"
       ]
      },
      {
       "output_type": "stream",
       "stream": "stdout",
       "text": [
        "\n",
        "Median sky level for mrgS20101101S0087:   3725.7\n",
        "Transforming mrgS20101101S0088 to mrgS20101101S0088_trn"
       ]
      },
      {
       "output_type": "stream",
       "stream": "stdout",
       "text": [
        "\n",
        "\n",
        "Transforming image mrgS20101101S0088[SCI] to image mrgS20101101S0088_trn\n"
       ]
      },
      {
       "output_type": "stream",
       "stream": "stdout",
       "text": [
        "    Using transform mrgS20101101S0088_trn in database imcoadd.dat\n"
       ]
      },
      {
       "output_type": "stream",
       "stream": "stdout",
       "text": [
        "Median sky level for mrgS20101101S0088:   3673.0\n",
        "Transforming mrgS20101101S0089 to mrgS20101101S0089_trn"
       ]
      },
      {
       "output_type": "stream",
       "stream": "stdout",
       "text": [
        "\n",
        "\n",
        "Transforming image mrgS20101101S0089[SCI] to image mrgS20101101S0089_trn\n"
       ]
      },
      {
       "output_type": "stream",
       "stream": "stdout",
       "text": [
        "    Using transform mrgS20101101S0089_trn in database imcoadd.dat\n"
       ]
      },
      {
       "output_type": "stream",
       "stream": "stdout",
       "text": [
        "Median sky level for mrgS20101101S0089:   3722.6\n",
        "Transforming mrgS20101101S0090 to mrgS20101101S0090_trn"
       ]
      },
      {
       "output_type": "stream",
       "stream": "stdout",
       "text": [
        "\n",
        "\n",
        "Transforming image mrgS20101101S0090[SCI] to image mrgS20101101S0090_trn\n"
       ]
      },
      {
       "output_type": "stream",
       "stream": "stdout",
       "text": [
        "    Using transform mrgS20101101S0090_trn in database imcoadd.dat\n"
       ]
      },
      {
       "output_type": "stream",
       "stream": "stdout",
       "text": [
        "Median sky level for mrgS20101101S0090:   3675.0\n",
        "Median sky level for mrgS20101101S0087:   3725.7"
       ]
      },
      {
       "output_type": "stream",
       "stream": "stdout",
       "text": [
        "\n",
        "Median sky level for mrgS20101101S0088:   3673.0"
       ]
      },
      {
       "output_type": "stream",
       "stream": "stdout",
       "text": [
        "\n",
        "Transforming mrgS20101101S0087badpix +mask to mrgS20101101S0088badpix"
       ]
      },
      {
       "output_type": "stream",
       "stream": "stdout",
       "text": [
        "\n",
        "\n",
        "Transforming image tmpmsk92482_2101 to image mrgS20101101S0088badpix\n"
       ]
      },
      {
       "output_type": "stream",
       "stream": "stdout",
       "text": [
        "    Using transform mrgS20101101S0088_trn in database imcoadd.dat\n"
       ]
      },
      {
       "output_type": "stream",
       "stream": "stdout",
       "text": [
        "Median sky level for mrgS20101101S0089:   3722.6\n",
        "Transforming mrgS20101101S0087badpix +mask to mrgS20101101S0089badpix"
       ]
      },
      {
       "output_type": "stream",
       "stream": "stdout",
       "text": [
        "\n",
        "\n",
        "Transforming image tmpmsk92482_2138 to image mrgS20101101S0089badpix\n"
       ]
      },
      {
       "output_type": "stream",
       "stream": "stdout",
       "text": [
        "    Using transform mrgS20101101S0089_trn in database imcoadd.dat\n"
       ]
      },
      {
       "output_type": "stream",
       "stream": "stdout",
       "text": [
        "Median sky level for mrgS20101101S0090:   3675.0\n",
        "Transforming mrgS20101101S0087badpix +mask to mrgS20101101S0090badpix"
       ]
      },
      {
       "output_type": "stream",
       "stream": "stdout",
       "text": [
        "\n",
        "\n",
        "Transforming image tmpmsk92482_2142 to image mrgS20101101S0090badpix\n"
       ]
      },
      {
       "output_type": "stream",
       "stream": "stdout",
       "text": [
        "    Using transform mrgS20101101S0090_trn in database imcoadd.dat\n"
       ]
      },
      {
       "output_type": "stream",
       "stream": "stdout",
       "text": [
        "\n",
        "Mean intensity for   mrgS20101101S0087_trn:  (N,absolute,relative)=  172  1950178  1.000\n",
        "Mean intensity for   mrgS20101101S0088_trn:  (N,absolute,relative)=  172  1949907  1.000\n",
        "Mean intensity for   mrgS20101101S0089_trn:  (N,absolute,relative)=  172  1948036  0.999"
       ]
      },
      {
       "output_type": "stream",
       "stream": "stdout",
       "text": [
        "\n",
        "Mean intensity for   mrgS20101101S0090_trn:  (N,absolute,relative)=  172  1957529  1.004\n"
       ]
      },
      {
       "output_type": "stream",
       "stream": "stdout",
       "text": [
        "\n",
        "Masking cosmic ray events in mrgS20101101S0087_trn\n"
       ]
      },
      {
       "output_type": "stream",
       "stream": "stdout",
       "text": [
        "Applying growth radius 1\n",
        "Masking cosmic ray events in mrgS20101101S0088_trn"
       ]
      },
      {
       "output_type": "stream",
       "stream": "stdout",
       "text": [
        "\n"
       ]
      },
      {
       "output_type": "stream",
       "stream": "stdout",
       "text": [
        "Applying growth radius 1\n",
        "Masking cosmic ray events in mrgS20101101S0089_trn"
       ]
      },
      {
       "output_type": "stream",
       "stream": "stdout",
       "text": [
        "\n"
       ]
      },
      {
       "output_type": "stream",
       "stream": "stdout",
       "text": [
        "Applying growth radius 1\n",
        "Masking cosmic ray events in mrgS20101101S0090_trn"
       ]
      },
      {
       "output_type": "stream",
       "stream": "stdout",
       "text": [
        "\n"
       ]
      },
      {
       "output_type": "stream",
       "stream": "stdout",
       "text": [
        "Applying growth radius 1\n"
       ]
      },
      {
       "output_type": "stream",
       "stream": "stdout",
       "text": [
        "IMCOADD exit status: good\n",
        "-----------------------------------------------------------------------------\n"
       ]
      }
     ],
     "prompt_number": 19
    },
    {
     "cell_type": "heading",
     "level": 2,
     "metadata": {},
     "source": [
      "STEP 10: Inspect and save product"
     ]
    },
    {
     "cell_type": "code",
     "collapsed": false,
     "input": [
      "iraf.display(science['procsci']+'[sci,1]', 1, \\\n",
      "             zrange='no', zscale='no', z1=1000, z2=20000)\n",
      "\n",
      "shutil.copy(science['procsci'], products_path)\n",
      "\n",
      "# Final reduced image\n",
      "os.listdir(products_path)"
     ],
     "language": "python",
     "metadata": {},
     "outputs": [
      {
       "output_type": "stream",
       "stream": "stdout",
       "text": [
        "z1=1000. z2=20000.\n"
       ]
      },
      {
       "metadata": {},
       "output_type": "pyout",
       "prompt_number": 22,
       "text": [
        "['ngc6872_i.fits', 'ngc6872_r.fits']"
       ]
      }
     ],
     "prompt_number": 22
    },
    {
     "cell_type": "code",
     "collapsed": false,
     "input": [],
     "language": "python",
     "metadata": {},
     "outputs": []
    }
   ],
   "metadata": {}
  }
 ]
}