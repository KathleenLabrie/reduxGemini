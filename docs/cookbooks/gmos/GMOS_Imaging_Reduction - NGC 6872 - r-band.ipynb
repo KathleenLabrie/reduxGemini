{
 "metadata": {
  "name": "",
  "signature": "sha256:c3f7738392cb2236984d72793bc8047085de1dcb29caa042a2be41d346cf5e93"
 },
 "nbformat": 3,
 "nbformat_minor": 0,
 "worksheets": []
}