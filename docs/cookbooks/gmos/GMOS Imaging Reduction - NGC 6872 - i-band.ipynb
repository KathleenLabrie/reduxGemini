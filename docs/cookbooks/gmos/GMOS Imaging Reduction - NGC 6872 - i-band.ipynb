{
 "metadata": {
  "name": "",
  "signature": "sha256:819f531d8e2e2c81415825cc9fa98b5ff1b7d87b28573436232ae4f828a189b1"
 },
 "nbformat": 3,
 "nbformat_minor": 0,
 "worksheets": [
  {
   "cells": [
    {
     "cell_type": "heading",
     "level": 1,
     "metadata": {},
     "source": [
      "Tutorial: GMOS Imaging Reduction - NGC 6872 - i-band"
     ]
    },
    {
     "cell_type": "heading",
     "level": 4,
     "metadata": {},
     "source": [
      "IMPORTANT: Edits are required for the tables below, and in STEP 1 and 2. After that, it should just work."
     ]
    },
    {
     "cell_type": "heading",
     "level": 2,
     "metadata": {},
     "source": [
      "Datasets:"
     ]
    },
    {
     "cell_type": "markdown",
     "metadata": {},
     "source": [
      "<table>\n",
      "  <tr><td><strong>Science observation UT date(s)</strong></td>\n",
      "      <td>2010 Nov 01</td>\n",
      "      </tr>\n",
      "  <tr><td><strong>Data filename prefix(es)</strong></td>\n",
      "      <td>S20101101S</td>\n",
      "      </tr>\n",
      "</table>"
     ]
    },
    {
     "cell_type": "heading",
     "level": 4,
     "metadata": {},
     "source": [
      "Target Frames"
     ]
    },
    {
     "cell_type": "markdown",
     "metadata": {},
     "source": [
      "<table>\n",
      "<tr><td>Science</td><td>S20101101S</td><td>83-86</td><td>binning 2x2</td></tr>\n",
      "<tr><td>Processed Bias</td><td>for 20101101</td><td>S20101101S0169_bias.fits</td><td></td></tr>\n",
      "<tr><td>Processed Twilight Flat</td><td>for 20101101</td><td>S20101102S0100_flat_i.fits</td><td></td></tr>\n",
      "<tr><td>Processed Fringe Frame</td><td>for 20101101</td><td>S20101111S0028_fringe_i.fits</td><td></td></tr>\n",
      "</table>"
     ]
    },
    {
     "cell_type": "heading",
     "level": 4,
     "metadata": {},
     "source": [
      "Fringe Frames"
     ]
    },
    {
     "cell_type": "markdown",
     "metadata": {},
     "source": [
      "The fringe frame that matches the science target observations."
     ]
    },
    {
     "cell_type": "markdown",
     "metadata": {},
     "source": [
      "<table>\n",
      "<tr><td colspan=3>Processed: <strong>S20101111S0028_fringe_i.fits</strong></td></tr>\n",
      "<tr><td>Fringe Frames</td><td>S20101111S</td><td>28-30,40-43</td><td>binning 2x2</td></tr>\n",
      "<tr><td>Processed Bias</td><td>for 20101111</td><td>S20101111S0061_bias.fits</td><td></td></tr>\n",
      "<tr><td>Processed Twilight Flat</td><td>for 20101111</td><td>S20101102S0100_flat_i.fits</td><td></td></tr>\n",
      "</table>"
     ]
    },
    {
     "cell_type": "heading",
     "level": 4,
     "metadata": {},
     "source": [
      "Twilight Flats"
     ]
    },
    {
     "cell_type": "markdown",
     "metadata": {},
     "source": [
      "The twilight flat that matches the science target observations and the fringe frames."
     ]
    },
    {
     "cell_type": "markdown",
     "metadata": {},
     "source": [
      "<table>\n",
      "<tr><td colspan=3>Processed: <strong>S20101102S0100_flat_i.fits</strong></td></tr>\n",
      "<tr><td>Twilight Frames</td><td>S20101102S</td><td>100-103,106-115</td><td>binning 2x2</td></tr>\n",
      "<tr><td>Processed Bias</td><td>for 20101102</td><td>S20101101S0169_bias.fits</td><td></td></tr>\n",
      "</table>"
     ]
    },
    {
     "cell_type": "heading",
     "level": 4,
     "metadata": {},
     "source": [
      "Biases"
     ]
    },
    {
     "cell_type": "markdown",
     "metadata": {},
     "source": [
      "The biases that match the science target observations, the twilight flats, and the fringe frames."
     ]
    },
    {
     "cell_type": "markdown",
     "metadata": {},
     "source": [
      "<table>\n",
      "<tr><td colspan=3>Processed: <strong>S20101101S0169_bias.fits</strong></td></tr>\n",
      "<tr><td rowspan=2>Biases</td><td>S20101101S</td><td>169-172</td><td>binning 2x2</td></tr>\n",
      "<tr>                         <td>S20101102S</td><td>131-135</td><td>binning 2x2</td></tr>\n",
      "</table>"
     ]
    },
    {
     "cell_type": "markdown",
     "metadata": {},
     "source": [
      "<table>\n",
      "<tr><td colspan=3>Processed: <strong>S20101111S0061_bias.fits</strong></td></tr>\n",
      "<tr><td>Biases</td><td>S20101111S</td><td>61-65</td><td>binning 2x2</td></tr>\n",
      "</table>"
     ]
    },
    {
     "cell_type": "heading",
     "level": 2,
     "metadata": {},
     "source": [
      "STEP 0: Directory structure used by this Notebook"
     ]
    },
    {
     "cell_type": "markdown",
     "metadata": {},
     "source": [
      "The directory paths used in this notebook are assumed to match this structure:\n",
      "\n",
      "    rootdir/\n",
      "        calib/\n",
      "            bias/\n",
      "            flat/\n",
      "            fringe/\n",
      "        raw/\n",
      "        redux/"
     ]
    },
    {
     "cell_type": "heading",
     "level": 2,
     "metadata": {},
     "source": [
      "STEP 1: Set up the Notebook and the PyRAF session"
     ]
    },
    {
     "cell_type": "markdown",
     "metadata": {},
     "source": [
      "The data processing will happen in the Notebook.  It is also convenient to have a PyRAF interactive session ready to use if needed, eg. to imexam.  In this step, we will configure the Notebook and the PyRAF session.  \n",
      "\n",
      "This step needs to be repeated everytime the Notebook and/or the PyRAF session is restarted."
     ]
    },
    {
     "cell_type": "heading",
     "level": 3,
     "metadata": {},
     "source": [
      "STEP 1.1: Set up the Notebook"
     ]
    },
    {
     "cell_type": "heading",
     "level": 4,
     "metadata": {},
     "source": [
      "STEP 1.1.1: Set up the variables."
     ]
    },
    {
     "cell_type": "code",
     "collapsed": false,
     "input": [
      "import os\n",
      "import os.path\n",
      "import shutil\n",
      "\n",
      "# WARNING: Make sure that the directory structure given in Step 0 \n",
      "#          is already in place.\n",
      "\n",
      "# EDIT HERE - Directories\n",
      "rootdir = '/data/workspace/DRWorkshopAAO/NGC6872'\n",
      "\n",
      "# EDIT HERE - File numbers and file names\n",
      "biases = {\n",
      "    'bias_20101101' : {\n",
      "        'procbias' : 'S20101101S0169_bias.fits',\n",
      "        'frames'   : [('S20101101S', '169-172'),\n",
      "                      ('S20101102S', '131-135'),\n",
      "                     ]\n",
      "    },\n",
      "    'bias_20101111' : {\n",
      "        'procbias'   : 'S20101111S0061_bias.fits',\n",
      "        'frames'     : [('S20101111S', '61-65')],\n",
      "    }\n",
      "}\n",
      "\n",
      "flats = {\n",
      "    'flat_20101102' : {\n",
      "        'procflat'   : 'S20101102S0100_flat_i.fits',\n",
      "        'frames'     : [('S20101102S', '100-103,106-115')],\n",
      "        'flatbias'   : biases['bias_20101101']['procbias'],\n",
      "    }\n",
      "}\n",
      "\n",
      "fringes = {\n",
      "    'fringe_20101111' : {\n",
      "        'procfringe'   : 'S20101111S0028_fringe_i.fits',\n",
      "        'frames'   : [('S20101111S', '28-30,40-43')],\n",
      "        'fringebias'   : biases['bias_20101111']['procbias'],\n",
      "        'fringeflat'   : flats['flat_20101102']['procflat'],\n",
      "    }\n",
      "}\n",
      "\n",
      "science = {\n",
      "    'procsci'   : 'ngc6872_i.fits',\n",
      "    'sciroot'   : 'S20101101S',\n",
      "    'sciframes' : '83-86',\n",
      "    'scibias'   : biases['bias_20101101']['procbias'],\n",
      "    'sciflat'   : flats['flat_20101102']['procflat'],\n",
      "    'scifringe' : fringes['fringe_20101111']['procfringe'],\n",
      "}\n",
      "\n",
      "logfile = 'NGC6872_i.log'\n",
      "\n",
      "# Automatically set directories to match structure from Step 0\n",
      "raw_path = os.path.join(rootdir, 'raw') + '/'\n",
      "redux_path = os.path.join(rootdir, 'redux') + '/'\n",
      "procbias_path = os.path.join(rootdir, 'calib', 'bias') + '/'\n",
      "procflat_path = os.path.join(rootdir, 'calib', 'flat') + '/'\n",
      "procfringe_path = os.path.join(rootdir, 'calib', 'fringe') + '/'\n",
      "products_path = os.path.join(rootdir, 'products') + '/'\n",
      "\n",
      "# Change to work directory\n",
      "os.chdir(redux_path)\n"
     ],
     "language": "python",
     "metadata": {},
     "outputs": [],
     "prompt_number": 39
    },
    {
     "cell_type": "heading",
     "level": 4,
     "metadata": {},
     "source": [
      "Step 1.1.2: Load and initialize the package"
     ]
    },
    {
     "cell_type": "markdown",
     "metadata": {},
     "source": [
      "---> <strong>LAUNCH DS9 before proceeding further</strong>\n",
      "\n",
      "Load the package required for the Notebook session and reset tasks to the default parameters."
     ]
    },
    {
     "cell_type": "code",
     "collapsed": false,
     "input": [
      "from pyraf import iraf\n",
      "iraf.gemini()\n",
      "iraf.gmos()\n",
      "\n",
      "iraf.unlearn(iraf.gemini, iraf.gmos, iraf.gemtools)\n",
      "\n",
      "iraf.gmos.logfile = logfile\n",
      "\n",
      "iraf.set(stdimage='imtgmos')"
     ],
     "language": "python",
     "metadata": {},
     "outputs": [
      {
       "output_type": "stream",
       "stream": "stdout",
       "text": [
        "This is the initial release of the IRAF FITSUTIL package\n",
        "to include support for FITS tile compression via 'fpack'.\n",
        "Please send comments and questions to seaman@noao.edu.\n",
        "\n",
        " \n",
        "     +------------------- Gemini IRAF Package -------------------+\n",
        "     |             Version 1.13.1, December 7, 2015              |\n",
        "     |             Requires IRAF v2.14.1 or greater              |\n",
        "     |              Tested with Ureka IRAF v2.16                 |\n",
        "     |             Gemini Observatory, Hilo, Hawaii              |\n",
        "     |    Please use the help desk for submission of questions   |\n",
        "     |  http://www.gemini.edu/sciops/helpdesk/helpdeskIndex.html |\n",
        "     +-----------------------------------------------------------+\n",
        " \n",
        "     Warning setting imtype=fits\n",
        "     Warning setting use_new_imt=no\n",
        " \n",
        "gemini/:\n",
        " f2/            gemtools/       gsaoi/          niri/\n",
        " flamingos/     gmos/           midir/          oscir/\n",
        " gemlocal/      gnirs/          nifs/           quirc/\n",
        "gmos/:"
       ]
      },
      {
       "output_type": "stream",
       "stream": "stdout",
       "text": [
        "\n",
        " gbias          gfquick         gmosaic         gsappwave       gssdist\n",
        " gbpm           gfreduce        gmosexamples    gscalibrate     gsskysub\n",
        " gdark          gfresponse      gmosinfo        gscrmask        gsslitfunction\n",
        " gdisplay       gfscatsub       gmosinfoifu     gscrrej         gsstandard\n",
        " gfapsum        gfskysub        gmosinfoimag    gscut           gstransform\n",
        " gfcombine      gftransform     gmosinfospec    gsdrawslits     gswavelength\n",
        " gfcopy         giflat          gnscombine      gsextract       mostools/\n",
        " gfcube         gifringe        gnsdark         gsflat\n",
        " gfdisplay      giillum         gnsskysub       gsfquick\n",
        " gfextract      gireduce        gprepare        gsreduce\n",
        " gffindblocks   girmfringe      gqecorr         gsscatsub\n"
       ]
      }
     ],
     "prompt_number": 2
    },
    {
     "cell_type": "heading",
     "level": 3,
     "metadata": {},
     "source": [
      "STEP 1.2: Set up the PyRAF session"
     ]
    },
    {
     "cell_type": "markdown",
     "metadata": {},
     "source": [
      "The commands shown here need to be run from the shell.\n",
      "\n",
      "Open an xterm or a Terminal, then:\n",
      "\n",
      "    cd /data/workspace/DRWorkshopAAO/NGC6872/redux\n",
      "    pyraf\n",
      "\n",
      "Then in the PyRAF session:\n",
      "\n",
      "    gemini\n",
      "    gmos\n",
      "    unlearn gemini\n",
      "    unlearn gmos\n",
      "    unlearn gemtools\n",
      "\n",
      "Get your PyRAF configured.  In the PyRAF session:\n",
      "\n",
      "    iraf.gmos.logfile = \"NGC6872_i.log\"\n",
      "    set stdimage=imtgmos\n"
     ]
    },
    {
     "cell_type": "heading",
     "level": 2,
     "metadata": {},
     "source": [
      "STEP 2: Create the file lists"
     ]
    },
    {
     "cell_type": "code",
     "collapsed": false,
     "input": [
      "os.chdir(redux_path)\n",
      "\n",
      "# delete any pre-existing lists\n",
      "iraf.delete('*.lis', verify='no')\n",
      "\n",
      "# biases\n",
      "for (root, frames) in biases['bias_20101101']['frames']:\n",
      "    iraf.gemlist(root, frames, Stdout='tmp_'+root+'.lis')\n",
      "iraf.concat('tmp_*.lis', 'bias_20101101.lis')\n",
      "iraf.delete('tmp_*.lis', verify='no')\n",
      "\n",
      "for (root, frames) in biases['bias_20101111']['frames']:\n",
      "    iraf.gemlist(root, frames, Stdout='tmp_'+root+'.lis')\n",
      "iraf.concat('tmp_*.lis', 'bias_20101111.lis')\n",
      "iraf.delete('tmp_*.lis', verify='no')\n",
      "\n",
      "\n",
      "# flats\n",
      "for (root, frames) in flats['flat_20101102']['frames']:\n",
      "    iraf.gemlist(root, frames, Stdout='tmp_'+root+'.lis')\n",
      "iraf.concat('tmp_*.lis', 'flat_20101102.lis')\n",
      "iraf.delete('tmp_*.lis', verify='no')\n",
      "\n",
      "\n",
      "# fringes\n",
      "for (root, frames) in fringes['fringe_20101111']['frames']:\n",
      "    iraf.gemlist(root, frames, Stdout='tmp_'+root+'.lis')\n",
      "iraf.concat('tmp_*.lis', 'fringe_20101111.lis')\n",
      "iraf.delete('tmp_*.lis', verify='no')\n",
      "\n",
      "\n",
      "# science\n",
      "iraf.gemlist(science['sciroot'], science['sciframes'], \\\n",
      "             Stdout='sci.lis')\n",
      "\n",
      "# Get a full list\n",
      "iraf.concat('*.lis', 'all.lis')"
     ],
     "language": "python",
     "metadata": {},
     "outputs": [],
     "prompt_number": 6
    },
    {
     "cell_type": "heading",
     "level": 2,
     "metadata": {},
     "source": [
      "STEP 3: Visually inspect all the data"
     ]
    },
    {
     "cell_type": "code",
     "collapsed": false,
     "input": [
      "all_files = open('all.lis', 'r')\n",
      "for line in all_files:\n",
      "    image = line.strip() + '[1]'\n",
      "    print image\n",
      "    iraf.gdisplay(raw_path + image, 1, fl_paste='no')\n",
      "    iraf.sleep(5)\n",
      "    \n",
      "all_files.close()"
     ],
     "language": "python",
     "metadata": {},
     "outputs": [
      {
       "output_type": "stream",
       "stream": "stdout",
       "text": [
        "S20101101S0169[1]\n",
        "\n",
        "GDISPLAY - Started: 2016-03-22T15:27:38\n",
        "\n"
       ]
      },
      {
       "output_type": "stream",
       "stream": "stdout",
       "text": [
        "GDISPLAY: Temporary image name tmpout85758_661S20101101S0169.fits\n",
        "\n",
        "GMULTIAMP - Started: 2016-03-22T15:27:38\n",
        "\n"
       ]
      },
      {
       "output_type": "stream",
       "stream": "stdout",
       "text": [
        "\n",
        "GMULTIAMP - Finished: 2016-03-22T15:27:39\n",
        "GMULTIAMP - Exit status: GOOD\n",
        "\n"
       ]
      },
      {
       "output_type": "stream",
       "stream": "stdout",
       "text": [
        "GDISPLAY: Displaying image...\n",
        "\n",
        "GDISPLAY - Finished: 2016-03-22T15:27:40\n"
       ]
      },
      {
       "output_type": "stream",
       "stream": "stdout",
       "text": [
        "\n",
        "S20101101S0170[1]"
       ]
      },
      {
       "output_type": "stream",
       "stream": "stdout",
       "text": [
        "\n",
        "\n",
        "GDISPLAY - Started: 2016-03-22T15:27:45\n",
        "\n"
       ]
      },
      {
       "output_type": "stream",
       "stream": "stdout",
       "text": [
        "GDISPLAY: Temporary image name tmpout85758_682S20101101S0170.fits\n",
        "\n",
        "GMULTIAMP - Started: 2016-03-22T15:27:45\n",
        "\n"
       ]
      },
      {
       "output_type": "stream",
       "stream": "stdout",
       "text": [
        "\n",
        "GMULTIAMP - Finished: 2016-03-22T15:27:46\n",
        "GMULTIAMP - Exit status: GOOD\n",
        "\n"
       ]
      },
      {
       "output_type": "stream",
       "stream": "stdout",
       "text": [
        "GDISPLAY: Displaying image...\n",
        "\n",
        "GDISPLAY - Finished: 2016-03-22T15:27:47\n"
       ]
      },
      {
       "output_type": "stream",
       "stream": "stdout",
       "text": [
        "\n",
        "S20101101S0171[1]"
       ]
      },
      {
       "output_type": "stream",
       "stream": "stdout",
       "text": [
        "\n",
        "\n",
        "GDISPLAY - Started: 2016-03-22T15:27:52\n",
        "\n"
       ]
      },
      {
       "output_type": "stream",
       "stream": "stdout",
       "text": [
        "GDISPLAY: Temporary image name tmpout85758_703S20101101S0171.fits\n",
        "\n",
        "GMULTIAMP - Started: 2016-03-22T15:27:52\n",
        "\n"
       ]
      },
      {
       "output_type": "stream",
       "stream": "stdout",
       "text": [
        "\n",
        "GMULTIAMP - Finished: 2016-03-22T15:27:53\n",
        "GMULTIAMP - Exit status: GOOD\n",
        "\n"
       ]
      },
      {
       "output_type": "stream",
       "stream": "stdout",
       "text": [
        "GDISPLAY: Displaying image...\n",
        "\n",
        "GDISPLAY - Finished: 2016-03-22T15:27:54\n"
       ]
      },
      {
       "output_type": "stream",
       "stream": "stdout",
       "text": [
        "\n",
        "S20101101S0172[1]"
       ]
      },
      {
       "output_type": "stream",
       "stream": "stdout",
       "text": [
        "\n",
        "\n",
        "GDISPLAY - Started: 2016-03-22T15:27:59\n",
        "\n"
       ]
      },
      {
       "output_type": "stream",
       "stream": "stdout",
       "text": [
        "GDISPLAY: Temporary image name tmpout85758_724S20101101S0172.fits\n",
        "\n",
        "GMULTIAMP - Started: 2016-03-22T15:27:59\n",
        "\n"
       ]
      },
      {
       "output_type": "stream",
       "stream": "stdout",
       "text": [
        "\n",
        "GMULTIAMP - Finished: 2016-03-22T15:28:00\n",
        "GMULTIAMP - Exit status: GOOD\n",
        "\n"
       ]
      },
      {
       "output_type": "stream",
       "stream": "stdout",
       "text": [
        "GDISPLAY: Displaying image...\n",
        "\n",
        "GDISPLAY - Finished: 2016-03-22T15:28:01\n"
       ]
      },
      {
       "output_type": "stream",
       "stream": "stdout",
       "text": [
        "\n",
        "S20101102S0131[1]"
       ]
      },
      {
       "output_type": "stream",
       "stream": "stdout",
       "text": [
        "\n",
        "\n",
        "GDISPLAY - Started: 2016-03-22T15:28:06\n",
        "\n"
       ]
      },
      {
       "output_type": "stream",
       "stream": "stdout",
       "text": [
        "GDISPLAY: Temporary image name tmpout85758_745S20101102S0131.fits\n",
        "\n",
        "GMULTIAMP - Started: 2016-03-22T15:28:06\n",
        "\n"
       ]
      },
      {
       "output_type": "stream",
       "stream": "stdout",
       "text": [
        "\n",
        "GMULTIAMP - Finished: 2016-03-22T15:28:07\n",
        "GMULTIAMP - Exit status: GOOD\n",
        "\n"
       ]
      },
      {
       "output_type": "stream",
       "stream": "stdout",
       "text": [
        "GDISPLAY: Displaying image...\n",
        "\n",
        "GDISPLAY - Finished: 2016-03-22T15:28:08\n"
       ]
      },
      {
       "output_type": "stream",
       "stream": "stdout",
       "text": [
        "\n",
        "S20101102S0132[1]"
       ]
      },
      {
       "output_type": "stream",
       "stream": "stdout",
       "text": [
        "\n",
        "\n",
        "GDISPLAY - Started: 2016-03-22T15:28:13\n",
        "\n"
       ]
      },
      {
       "output_type": "stream",
       "stream": "stdout",
       "text": [
        "GDISPLAY: Temporary image name tmpout85758_766S20101102S0132.fits\n",
        "\n",
        "GMULTIAMP - Started: 2016-03-22T15:28:13\n",
        "\n"
       ]
      },
      {
       "output_type": "stream",
       "stream": "stdout",
       "text": [
        "\n",
        "GMULTIAMP - Finished: 2016-03-22T15:28:14\n",
        "GMULTIAMP - Exit status: GOOD\n",
        "\n"
       ]
      },
      {
       "output_type": "stream",
       "stream": "stdout",
       "text": [
        "GDISPLAY: Displaying image...\n",
        "\n",
        "GDISPLAY - Finished: 2016-03-22T15:28:15\n"
       ]
      },
      {
       "output_type": "stream",
       "stream": "stdout",
       "text": [
        "\n",
        "S20101102S0133[1]"
       ]
      },
      {
       "output_type": "stream",
       "stream": "stdout",
       "text": [
        "\n",
        "\n",
        "GDISPLAY - Started: 2016-03-22T15:28:20\n",
        "\n"
       ]
      },
      {
       "output_type": "stream",
       "stream": "stdout",
       "text": [
        "GDISPLAY: Temporary image name tmpout85758_787S20101102S0133.fits\n",
        "\n",
        "GMULTIAMP - Started: 2016-03-22T15:28:20\n",
        "\n"
       ]
      },
      {
       "output_type": "stream",
       "stream": "stdout",
       "text": [
        "\n",
        "GMULTIAMP - Finished: 2016-03-22T15:28:21\n",
        "GMULTIAMP - Exit status: GOOD\n",
        "\n"
       ]
      },
      {
       "output_type": "stream",
       "stream": "stdout",
       "text": [
        "GDISPLAY: Displaying image...\n",
        "\n",
        "GDISPLAY - Finished: 2016-03-22T15:28:22\n"
       ]
      },
      {
       "output_type": "stream",
       "stream": "stdout",
       "text": [
        "\n",
        "S20101102S0134[1]"
       ]
      },
      {
       "output_type": "stream",
       "stream": "stdout",
       "text": [
        "\n",
        "\n",
        "GDISPLAY - Started: 2016-03-22T15:28:27\n",
        "\n"
       ]
      },
      {
       "output_type": "stream",
       "stream": "stdout",
       "text": [
        "GDISPLAY: Temporary image name tmpout85758_808S20101102S0134.fits\n",
        "\n",
        "GMULTIAMP - Started: 2016-03-22T15:28:27\n",
        "\n"
       ]
      },
      {
       "output_type": "stream",
       "stream": "stdout",
       "text": [
        "\n",
        "GMULTIAMP - Finished: 2016-03-22T15:28:28\n",
        "GMULTIAMP - Exit status: GOOD\n",
        "\n"
       ]
      },
      {
       "output_type": "stream",
       "stream": "stdout",
       "text": [
        "GDISPLAY: Displaying image...\n",
        "\n",
        "GDISPLAY - Finished: 2016-03-22T15:28:29\n"
       ]
      },
      {
       "output_type": "stream",
       "stream": "stdout",
       "text": [
        "\n",
        "S20101102S0135[1]"
       ]
      },
      {
       "output_type": "stream",
       "stream": "stdout",
       "text": [
        "\n",
        "\n",
        "GDISPLAY - Started: 2016-03-22T15:28:34\n",
        "\n"
       ]
      },
      {
       "output_type": "stream",
       "stream": "stdout",
       "text": [
        "GDISPLAY: Temporary image name tmpout85758_829S20101102S0135.fits\n",
        "\n",
        "GMULTIAMP - Started: 2016-03-22T15:28:34\n",
        "\n"
       ]
      },
      {
       "output_type": "stream",
       "stream": "stdout",
       "text": [
        "\n",
        "GMULTIAMP - Finished: 2016-03-22T15:28:35\n",
        "GMULTIAMP - Exit status: GOOD\n",
        "\n"
       ]
      },
      {
       "output_type": "stream",
       "stream": "stdout",
       "text": [
        "GDISPLAY: Displaying image...\n",
        "\n",
        "GDISPLAY - Finished: 2016-03-22T15:28:36\n"
       ]
      },
      {
       "output_type": "stream",
       "stream": "stdout",
       "text": [
        "\n",
        "S20101111S0061[1]"
       ]
      },
      {
       "output_type": "stream",
       "stream": "stdout",
       "text": [
        "\n",
        "\n",
        "GDISPLAY - Started: 2016-03-22T15:28:41\n",
        "\n"
       ]
      },
      {
       "output_type": "stream",
       "stream": "stdout",
       "text": [
        "GDISPLAY: Temporary image name tmpout85758_850S20101111S0061.fits\n",
        "\n",
        "GMULTIAMP - Started: 2016-03-22T15:28:42\n",
        "\n"
       ]
      },
      {
       "output_type": "stream",
       "stream": "stdout",
       "text": [
        "\n",
        "GMULTIAMP - Finished: 2016-03-22T15:28:42\n",
        "GMULTIAMP - Exit status: GOOD\n",
        "\n"
       ]
      },
      {
       "output_type": "stream",
       "stream": "stdout",
       "text": [
        "GDISPLAY: Displaying image...\n",
        "\n",
        "GDISPLAY - Finished: 2016-03-22T15:28:43\n"
       ]
      },
      {
       "output_type": "stream",
       "stream": "stdout",
       "text": [
        "\n",
        "S20101111S0062[1]"
       ]
      },
      {
       "output_type": "stream",
       "stream": "stdout",
       "text": [
        "\n",
        "\n",
        "GDISPLAY - Started: 2016-03-22T15:28:48\n",
        "\n"
       ]
      },
      {
       "output_type": "stream",
       "stream": "stdout",
       "text": [
        "GDISPLAY: Temporary image name tmpout85758_871S20101111S0062.fits\n",
        "\n",
        "GMULTIAMP - Started: 2016-03-22T15:28:49\n",
        "\n"
       ]
      },
      {
       "output_type": "stream",
       "stream": "stdout",
       "text": [
        "\n",
        "GMULTIAMP - Finished: 2016-03-22T15:28:49\n",
        "GMULTIAMP - Exit status: GOOD\n",
        "\n"
       ]
      },
      {
       "output_type": "stream",
       "stream": "stdout",
       "text": [
        "GDISPLAY: Displaying image...\n",
        "\n",
        "GDISPLAY - Finished: 2016-03-22T15:28:50\n"
       ]
      },
      {
       "output_type": "stream",
       "stream": "stdout",
       "text": [
        "\n",
        "S20101111S0063[1]"
       ]
      },
      {
       "output_type": "stream",
       "stream": "stdout",
       "text": [
        "\n",
        "\n",
        "GDISPLAY - Started: 2016-03-22T15:28:56\n",
        "\n"
       ]
      },
      {
       "output_type": "stream",
       "stream": "stdout",
       "text": [
        "GDISPLAY: Temporary image name tmpout85758_892S20101111S0063.fits\n",
        "\n",
        "GMULTIAMP - Started: 2016-03-22T15:28:56\n",
        "\n"
       ]
      },
      {
       "output_type": "stream",
       "stream": "stdout",
       "text": [
        "\n",
        "GMULTIAMP - Finished: 2016-03-22T15:28:56\n",
        "GMULTIAMP - Exit status: GOOD\n",
        "\n"
       ]
      },
      {
       "output_type": "stream",
       "stream": "stdout",
       "text": [
        "GDISPLAY: Displaying image...\n",
        "\n",
        "GDISPLAY - Finished: 2016-03-22T15:28:58\n"
       ]
      },
      {
       "output_type": "stream",
       "stream": "stdout",
       "text": [
        "\n",
        "S20101111S0064[1]"
       ]
      },
      {
       "output_type": "stream",
       "stream": "stdout",
       "text": [
        "\n",
        "\n",
        "GDISPLAY - Started: 2016-03-22T15:29:03\n",
        "\n"
       ]
      },
      {
       "output_type": "stream",
       "stream": "stdout",
       "text": [
        "GDISPLAY: Temporary image name tmpout85758_913S20101111S0064.fits\n",
        "\n",
        "GMULTIAMP - Started: 2016-03-22T15:29:03\n",
        "\n"
       ]
      },
      {
       "output_type": "stream",
       "stream": "stdout",
       "text": [
        "\n",
        "GMULTIAMP - Finished: 2016-03-22T15:29:03\n",
        "GMULTIAMP - Exit status: GOOD\n",
        "\n"
       ]
      },
      {
       "output_type": "stream",
       "stream": "stdout",
       "text": [
        "GDISPLAY: Displaying image...\n",
        "\n",
        "GDISPLAY - Finished: 2016-03-22T15:29:05\n"
       ]
      },
      {
       "output_type": "stream",
       "stream": "stdout",
       "text": [
        "\n",
        "S20101111S0065[1]"
       ]
      },
      {
       "output_type": "stream",
       "stream": "stdout",
       "text": [
        "\n",
        "\n",
        "GDISPLAY - Started: 2016-03-22T15:29:10\n",
        "\n"
       ]
      },
      {
       "output_type": "stream",
       "stream": "stdout",
       "text": [
        "GDISPLAY: Temporary image name tmpout85758_934S20101111S0065.fits\n",
        "\n",
        "GMULTIAMP - Started: 2016-03-22T15:29:10\n",
        "\n"
       ]
      },
      {
       "output_type": "stream",
       "stream": "stdout",
       "text": [
        "\n",
        "GMULTIAMP - Finished: 2016-03-22T15:29:11\n",
        "GMULTIAMP - Exit status: GOOD\n",
        "\n"
       ]
      },
      {
       "output_type": "stream",
       "stream": "stdout",
       "text": [
        "GDISPLAY: Displaying image...\n",
        "\n",
        "GDISPLAY - Finished: 2016-03-22T15:29:12\n"
       ]
      },
      {
       "output_type": "stream",
       "stream": "stdout",
       "text": [
        "\n",
        "S20101102S0100[1]"
       ]
      },
      {
       "output_type": "stream",
       "stream": "stdout",
       "text": [
        "\n",
        "\n",
        "GDISPLAY - Started: 2016-03-22T15:29:17\n",
        "\n"
       ]
      },
      {
       "output_type": "stream",
       "stream": "stdout",
       "text": [
        "GDISPLAY: Temporary image name tmpout85758_955S20101102S0100.fits\n",
        "\n",
        "GMULTIAMP - Started: 2016-03-22T15:29:17\n",
        "\n"
       ]
      },
      {
       "output_type": "stream",
       "stream": "stdout",
       "text": [
        "\n",
        "GMULTIAMP - Finished: 2016-03-22T15:29:18\n",
        "GMULTIAMP - Exit status: GOOD\n",
        "\n"
       ]
      },
      {
       "output_type": "stream",
       "stream": "stdout",
       "text": [
        "GDISPLAY: Displaying image...\n",
        "\n",
        "GDISPLAY - Finished: 2016-03-22T15:29:19\n"
       ]
      },
      {
       "output_type": "stream",
       "stream": "stdout",
       "text": [
        "\n",
        "S20101102S0101[1]"
       ]
      },
      {
       "output_type": "stream",
       "stream": "stdout",
       "text": [
        "\n",
        "\n",
        "GDISPLAY - Started: 2016-03-22T15:29:24\n",
        "\n"
       ]
      },
      {
       "output_type": "stream",
       "stream": "stdout",
       "text": [
        "GDISPLAY: Temporary image name tmpout85758_976S20101102S0101.fits\n",
        "\n",
        "GMULTIAMP - Started: 2016-03-22T15:29:24\n",
        "\n"
       ]
      },
      {
       "output_type": "stream",
       "stream": "stdout",
       "text": [
        "\n",
        "GMULTIAMP - Finished: 2016-03-22T15:29:25\n",
        "GMULTIAMP - Exit status: GOOD\n",
        "\n"
       ]
      },
      {
       "output_type": "stream",
       "stream": "stdout",
       "text": [
        "GDISPLAY: Displaying image...\n",
        "\n",
        "GDISPLAY - Finished: 2016-03-22T15:29:26\n"
       ]
      },
      {
       "output_type": "stream",
       "stream": "stdout",
       "text": [
        "\n",
        "S20101102S0102[1]"
       ]
      },
      {
       "output_type": "stream",
       "stream": "stdout",
       "text": [
        "\n",
        "\n",
        "GDISPLAY - Started: 2016-03-22T15:29:31\n",
        "\n"
       ]
      },
      {
       "output_type": "stream",
       "stream": "stdout",
       "text": [
        "GDISPLAY: Temporary image name tmpout85758_997S20101102S0102.fits\n",
        "\n",
        "GMULTIAMP - Started: 2016-03-22T15:29:31\n",
        "\n"
       ]
      },
      {
       "output_type": "stream",
       "stream": "stdout",
       "text": [
        "\n",
        "GMULTIAMP - Finished: 2016-03-22T15:29:32\n",
        "GMULTIAMP - Exit status: GOOD\n",
        "\n"
       ]
      },
      {
       "output_type": "stream",
       "stream": "stdout",
       "text": [
        "GDISPLAY: Displaying image...\n",
        "\n",
        "GDISPLAY - Finished: 2016-03-22T15:29:33\n"
       ]
      },
      {
       "output_type": "stream",
       "stream": "stdout",
       "text": [
        "\n",
        "S20101102S0103[1]"
       ]
      },
      {
       "output_type": "stream",
       "stream": "stdout",
       "text": [
        "\n",
        "\n",
        "GDISPLAY - Started: 2016-03-22T15:29:38\n",
        "\n"
       ]
      },
      {
       "output_type": "stream",
       "stream": "stdout",
       "text": [
        "GDISPLAY: Temporary image name tmpout85758_1018S20101102S0103.fits\n",
        "\n",
        "GMULTIAMP - Started: 2016-03-22T15:29:38\n",
        "\n"
       ]
      },
      {
       "output_type": "stream",
       "stream": "stdout",
       "text": [
        "\n",
        "GMULTIAMP - Finished: 2016-03-22T15:29:39\n",
        "GMULTIAMP - Exit status: GOOD\n",
        "\n"
       ]
      },
      {
       "output_type": "stream",
       "stream": "stdout",
       "text": [
        "GDISPLAY: Displaying image...\n",
        "\n",
        "GDISPLAY - Finished: 2016-03-22T15:29:40\n"
       ]
      },
      {
       "output_type": "stream",
       "stream": "stdout",
       "text": [
        "\n",
        "S20101102S0106[1]"
       ]
      },
      {
       "output_type": "stream",
       "stream": "stdout",
       "text": [
        "\n",
        "\n",
        "GDISPLAY - Started: 2016-03-22T15:29:45\n",
        "\n"
       ]
      },
      {
       "output_type": "stream",
       "stream": "stdout",
       "text": [
        "GDISPLAY: Temporary image name tmpout85758_1039S20101102S0106.fits\n",
        "\n",
        "GMULTIAMP - Started: 2016-03-22T15:29:45\n",
        "\n"
       ]
      },
      {
       "output_type": "stream",
       "stream": "stdout",
       "text": [
        "\n",
        "GMULTIAMP - Finished: 2016-03-22T15:29:46\n",
        "GMULTIAMP - Exit status: GOOD\n",
        "\n"
       ]
      },
      {
       "output_type": "stream",
       "stream": "stdout",
       "text": [
        "GDISPLAY: Displaying image...\n",
        "\n",
        "GDISPLAY - Finished: 2016-03-22T15:29:47\n"
       ]
      },
      {
       "output_type": "stream",
       "stream": "stdout",
       "text": [
        "\n",
        "S20101102S0107[1]"
       ]
      },
      {
       "output_type": "stream",
       "stream": "stdout",
       "text": [
        "\n",
        "\n",
        "GDISPLAY - Started: 2016-03-22T15:29:52\n",
        "\n"
       ]
      },
      {
       "output_type": "stream",
       "stream": "stdout",
       "text": [
        "GDISPLAY: Temporary image name tmpout85758_1060S20101102S0107.fits\n",
        "\n",
        "GMULTIAMP - Started: 2016-03-22T15:29:52\n",
        "\n"
       ]
      },
      {
       "output_type": "stream",
       "stream": "stdout",
       "text": [
        "\n",
        "GMULTIAMP - Finished: 2016-03-22T15:29:53\n",
        "GMULTIAMP - Exit status: GOOD\n",
        "\n"
       ]
      },
      {
       "output_type": "stream",
       "stream": "stdout",
       "text": [
        "GDISPLAY: Displaying image...\n",
        "\n",
        "GDISPLAY - Finished: 2016-03-22T15:29:54\n"
       ]
      },
      {
       "output_type": "stream",
       "stream": "stdout",
       "text": [
        "\n",
        "S20101102S0108[1]"
       ]
      },
      {
       "output_type": "stream",
       "stream": "stdout",
       "text": [
        "\n",
        "\n",
        "GDISPLAY - Started: 2016-03-22T15:29:59\n",
        "\n"
       ]
      },
      {
       "output_type": "stream",
       "stream": "stdout",
       "text": [
        "GDISPLAY: Temporary image name tmpout85758_1081S20101102S0108.fits\n",
        "\n",
        "GMULTIAMP - Started: 2016-03-22T15:29:59\n",
        "\n"
       ]
      },
      {
       "output_type": "stream",
       "stream": "stdout",
       "text": [
        "\n",
        "GMULTIAMP - Finished: 2016-03-22T15:30:00\n",
        "GMULTIAMP - Exit status: GOOD\n",
        "\n"
       ]
      },
      {
       "output_type": "stream",
       "stream": "stdout",
       "text": [
        "GDISPLAY: Displaying image...\n",
        "\n",
        "GDISPLAY - Finished: 2016-03-22T15:30:01\n"
       ]
      },
      {
       "output_type": "stream",
       "stream": "stdout",
       "text": [
        "\n",
        "S20101102S0109[1]"
       ]
      },
      {
       "output_type": "stream",
       "stream": "stdout",
       "text": [
        "\n",
        "\n",
        "GDISPLAY - Started: 2016-03-22T15:30:06\n",
        "\n"
       ]
      },
      {
       "output_type": "stream",
       "stream": "stdout",
       "text": [
        "GDISPLAY: Temporary image name tmpout85758_1102S20101102S0109.fits\n",
        "\n",
        "GMULTIAMP - Started: 2016-03-22T15:30:07\n",
        "\n"
       ]
      },
      {
       "output_type": "stream",
       "stream": "stdout",
       "text": [
        "\n",
        "GMULTIAMP - Finished: 2016-03-22T15:30:07\n",
        "GMULTIAMP - Exit status: GOOD\n",
        "\n"
       ]
      },
      {
       "output_type": "stream",
       "stream": "stdout",
       "text": [
        "GDISPLAY: Displaying image...\n",
        "\n",
        "GDISPLAY - Finished: 2016-03-22T15:30:08\n"
       ]
      },
      {
       "output_type": "stream",
       "stream": "stdout",
       "text": [
        "\n",
        "S20101102S0110[1]"
       ]
      },
      {
       "output_type": "stream",
       "stream": "stdout",
       "text": [
        "\n",
        "\n",
        "GDISPLAY - Started: 2016-03-22T15:30:13\n",
        "\n"
       ]
      },
      {
       "output_type": "stream",
       "stream": "stdout",
       "text": [
        "GDISPLAY: Temporary image name tmpout85758_1123S20101102S0110.fits\n",
        "\n",
        "GMULTIAMP - Started: 2016-03-22T15:30:14\n",
        "\n"
       ]
      },
      {
       "output_type": "stream",
       "stream": "stdout",
       "text": [
        "\n",
        "GMULTIAMP - Finished: 2016-03-22T15:30:14\n",
        "GMULTIAMP - Exit status: GOOD\n",
        "\n"
       ]
      },
      {
       "output_type": "stream",
       "stream": "stdout",
       "text": [
        "GDISPLAY: Displaying image...\n",
        "\n",
        "GDISPLAY - Finished: 2016-03-22T15:30:16\n"
       ]
      },
      {
       "output_type": "stream",
       "stream": "stdout",
       "text": [
        "\n",
        "S20101102S0111[1]"
       ]
      },
      {
       "output_type": "stream",
       "stream": "stdout",
       "text": [
        "\n",
        "\n",
        "GDISPLAY - Started: 2016-03-22T15:30:21\n",
        "\n"
       ]
      },
      {
       "output_type": "stream",
       "stream": "stdout",
       "text": [
        "GDISPLAY: Temporary image name tmpout85758_1144S20101102S0111.fits\n",
        "\n",
        "GMULTIAMP - Started: 2016-03-22T15:30:21\n",
        "\n"
       ]
      },
      {
       "output_type": "stream",
       "stream": "stdout",
       "text": [
        "\n",
        "GMULTIAMP - Finished: 2016-03-22T15:30:21\n",
        "GMULTIAMP - Exit status: GOOD\n",
        "\n"
       ]
      },
      {
       "output_type": "stream",
       "stream": "stdout",
       "text": [
        "GDISPLAY: Displaying image...\n",
        "\n",
        "GDISPLAY - Finished: 2016-03-22T15:30:23\n"
       ]
      },
      {
       "output_type": "stream",
       "stream": "stdout",
       "text": [
        "\n",
        "S20101102S0112[1]"
       ]
      },
      {
       "output_type": "stream",
       "stream": "stdout",
       "text": [
        "\n",
        "\n",
        "GDISPLAY - Started: 2016-03-22T15:30:28\n",
        "\n"
       ]
      },
      {
       "output_type": "stream",
       "stream": "stdout",
       "text": [
        "GDISPLAY: Temporary image name tmpout85758_1165S20101102S0112.fits\n",
        "\n",
        "GMULTIAMP - Started: 2016-03-22T15:30:28\n",
        "\n"
       ]
      },
      {
       "output_type": "stream",
       "stream": "stdout",
       "text": [
        "\n",
        "GMULTIAMP - Finished: 2016-03-22T15:30:28\n",
        "GMULTIAMP - Exit status: GOOD\n",
        "\n"
       ]
      },
      {
       "output_type": "stream",
       "stream": "stdout",
       "text": [
        "GDISPLAY: Displaying image...\n",
        "\n",
        "GDISPLAY - Finished: 2016-03-22T15:30:30\n"
       ]
      },
      {
       "output_type": "stream",
       "stream": "stdout",
       "text": [
        "\n",
        "S20101102S0113[1]"
       ]
      },
      {
       "output_type": "stream",
       "stream": "stdout",
       "text": [
        "\n",
        "\n",
        "GDISPLAY - Started: 2016-03-22T15:30:35\n",
        "\n"
       ]
      },
      {
       "output_type": "stream",
       "stream": "stdout",
       "text": [
        "GDISPLAY: Temporary image name tmpout85758_1186S20101102S0113.fits\n",
        "\n",
        "GMULTIAMP - Started: 2016-03-22T15:30:35\n",
        "\n"
       ]
      },
      {
       "output_type": "stream",
       "stream": "stdout",
       "text": [
        "\n",
        "GMULTIAMP - Finished: 2016-03-22T15:30:36\n",
        "GMULTIAMP - Exit status: GOOD\n",
        "\n"
       ]
      },
      {
       "output_type": "stream",
       "stream": "stdout",
       "text": [
        "GDISPLAY: Displaying image...\n",
        "\n",
        "GDISPLAY - Finished: 2016-03-22T15:30:37\n"
       ]
      },
      {
       "output_type": "stream",
       "stream": "stdout",
       "text": [
        "\n",
        "S20101102S0114[1]"
       ]
      },
      {
       "output_type": "stream",
       "stream": "stdout",
       "text": [
        "\n",
        "\n",
        "GDISPLAY - Started: 2016-03-22T15:30:42\n",
        "\n"
       ]
      },
      {
       "output_type": "stream",
       "stream": "stdout",
       "text": [
        "GDISPLAY: Temporary image name tmpout85758_1207S20101102S0114.fits\n",
        "\n",
        "GMULTIAMP - Started: 2016-03-22T15:30:42\n",
        "\n"
       ]
      },
      {
       "output_type": "stream",
       "stream": "stdout",
       "text": [
        "\n",
        "GMULTIAMP - Finished: 2016-03-22T15:30:43\n",
        "GMULTIAMP - Exit status: GOOD\n",
        "\n"
       ]
      },
      {
       "output_type": "stream",
       "stream": "stdout",
       "text": [
        "GDISPLAY: Displaying image...\n",
        "\n",
        "GDISPLAY - Finished: 2016-03-22T15:30:44\n"
       ]
      },
      {
       "output_type": "stream",
       "stream": "stdout",
       "text": [
        "\n",
        "S20101102S0115[1]"
       ]
      },
      {
       "output_type": "stream",
       "stream": "stdout",
       "text": [
        "\n",
        "\n",
        "GDISPLAY - Started: 2016-03-22T15:30:49\n",
        "\n"
       ]
      },
      {
       "output_type": "stream",
       "stream": "stdout",
       "text": [
        "GDISPLAY: Temporary image name tmpout85758_1228S20101102S0115.fits\n",
        "\n",
        "GMULTIAMP - Started: 2016-03-22T15:30:49\n",
        "\n"
       ]
      },
      {
       "output_type": "stream",
       "stream": "stdout",
       "text": [
        "\n",
        "GMULTIAMP - Finished: 2016-03-22T15:30:50\n",
        "GMULTIAMP - Exit status: GOOD\n",
        "\n"
       ]
      },
      {
       "output_type": "stream",
       "stream": "stdout",
       "text": [
        "GDISPLAY: Displaying image...\n",
        "\n",
        "GDISPLAY - Finished: 2016-03-22T15:30:51\n"
       ]
      },
      {
       "output_type": "stream",
       "stream": "stdout",
       "text": [
        "\n",
        "S20101111S0028[1]"
       ]
      },
      {
       "output_type": "stream",
       "stream": "stdout",
       "text": [
        "\n",
        "\n",
        "GDISPLAY - Started: 2016-03-22T15:30:56\n",
        "\n"
       ]
      },
      {
       "output_type": "stream",
       "stream": "stdout",
       "text": [
        "GDISPLAY: Temporary image name tmpout85758_1249S20101111S0028.fits\n",
        "\n",
        "GMULTIAMP - Started: 2016-03-22T15:30:56\n",
        "\n"
       ]
      },
      {
       "output_type": "stream",
       "stream": "stdout",
       "text": [
        "\n",
        "GMULTIAMP - Finished: 2016-03-22T15:30:57\n",
        "GMULTIAMP - Exit status: GOOD\n",
        "\n"
       ]
      },
      {
       "output_type": "stream",
       "stream": "stdout",
       "text": [
        "GDISPLAY: Displaying image...\n",
        "\n",
        "GDISPLAY - Finished: 2016-03-22T15:30:58\n"
       ]
      },
      {
       "output_type": "stream",
       "stream": "stdout",
       "text": [
        "\n",
        "S20101111S0029[1]"
       ]
      },
      {
       "output_type": "stream",
       "stream": "stdout",
       "text": [
        "\n",
        "\n",
        "GDISPLAY - Started: 2016-03-22T15:31:03\n",
        "\n"
       ]
      },
      {
       "output_type": "stream",
       "stream": "stdout",
       "text": [
        "GDISPLAY: Temporary image name tmpout85758_1270S20101111S0029.fits\n",
        "\n",
        "GMULTIAMP - Started: 2016-03-22T15:31:03\n",
        "\n"
       ]
      },
      {
       "output_type": "stream",
       "stream": "stdout",
       "text": [
        "\n",
        "GMULTIAMP - Finished: 2016-03-22T15:31:04\n",
        "GMULTIAMP - Exit status: GOOD\n",
        "\n"
       ]
      },
      {
       "output_type": "stream",
       "stream": "stdout",
       "text": [
        "GDISPLAY: Displaying image...\n",
        "\n",
        "GDISPLAY - Finished: 2016-03-22T15:31:05\n"
       ]
      },
      {
       "output_type": "stream",
       "stream": "stdout",
       "text": [
        "\n",
        "S20101111S0030[1]"
       ]
      },
      {
       "output_type": "stream",
       "stream": "stdout",
       "text": [
        "\n",
        "\n",
        "GDISPLAY - Started: 2016-03-22T15:31:10\n",
        "\n"
       ]
      },
      {
       "output_type": "stream",
       "stream": "stdout",
       "text": [
        "GDISPLAY: Temporary image name tmpout85758_1291S20101111S0030.fits\n",
        "\n",
        "GMULTIAMP - Started: 2016-03-22T15:31:10\n",
        "\n"
       ]
      },
      {
       "output_type": "stream",
       "stream": "stdout",
       "text": [
        "\n",
        "GMULTIAMP - Finished: 2016-03-22T15:31:11\n",
        "GMULTIAMP - Exit status: GOOD\n",
        "\n"
       ]
      },
      {
       "output_type": "stream",
       "stream": "stdout",
       "text": [
        "GDISPLAY: Displaying image...\n",
        "\n",
        "GDISPLAY - Finished: 2016-03-22T15:31:12\n"
       ]
      },
      {
       "output_type": "stream",
       "stream": "stdout",
       "text": [
        "\n",
        "S20101111S0040[1]"
       ]
      },
      {
       "output_type": "stream",
       "stream": "stdout",
       "text": [
        "\n",
        "\n",
        "GDISPLAY - Started: 2016-03-22T15:31:17\n",
        "\n"
       ]
      },
      {
       "output_type": "stream",
       "stream": "stdout",
       "text": [
        "GDISPLAY: Temporary image name tmpout85758_1312S20101111S0040.fits\n",
        "\n",
        "GMULTIAMP - Started: 2016-03-22T15:31:17\n",
        "\n"
       ]
      },
      {
       "output_type": "stream",
       "stream": "stdout",
       "text": [
        "\n",
        "GMULTIAMP - Finished: 2016-03-22T15:31:18\n",
        "GMULTIAMP - Exit status: GOOD\n",
        "\n"
       ]
      },
      {
       "output_type": "stream",
       "stream": "stdout",
       "text": [
        "GDISPLAY: Displaying image...\n",
        "\n",
        "GDISPLAY - Finished: 2016-03-22T15:31:19\n"
       ]
      },
      {
       "output_type": "stream",
       "stream": "stdout",
       "text": [
        "\n",
        "S20101111S0041[1]"
       ]
      },
      {
       "output_type": "stream",
       "stream": "stdout",
       "text": [
        "\n",
        "\n",
        "GDISPLAY - Started: 2016-03-22T15:31:24\n",
        "\n"
       ]
      },
      {
       "output_type": "stream",
       "stream": "stdout",
       "text": [
        "GDISPLAY: Temporary image name tmpout85758_1333S20101111S0041.fits\n",
        "\n",
        "GMULTIAMP - Started: 2016-03-22T15:31:24\n",
        "\n"
       ]
      },
      {
       "output_type": "stream",
       "stream": "stdout",
       "text": [
        "\n",
        "GMULTIAMP - Finished: 2016-03-22T15:31:25\n",
        "GMULTIAMP - Exit status: GOOD\n",
        "\n"
       ]
      },
      {
       "output_type": "stream",
       "stream": "stdout",
       "text": [
        "GDISPLAY: Displaying image...\n",
        "\n",
        "GDISPLAY - Finished: 2016-03-22T15:31:26\n"
       ]
      },
      {
       "output_type": "stream",
       "stream": "stdout",
       "text": [
        "\n",
        "S20101111S0042[1]"
       ]
      },
      {
       "output_type": "stream",
       "stream": "stdout",
       "text": [
        "\n",
        "\n",
        "GDISPLAY - Started: 2016-03-22T15:31:31\n",
        "\n"
       ]
      },
      {
       "output_type": "stream",
       "stream": "stdout",
       "text": [
        "GDISPLAY: Temporary image name tmpout85758_1354S20101111S0042.fits\n",
        "\n",
        "GMULTIAMP - Started: 2016-03-22T15:31:31\n",
        "\n"
       ]
      },
      {
       "output_type": "stream",
       "stream": "stdout",
       "text": [
        "\n",
        "GMULTIAMP - Finished: 2016-03-22T15:31:32\n",
        "GMULTIAMP - Exit status: GOOD\n",
        "\n"
       ]
      },
      {
       "output_type": "stream",
       "stream": "stdout",
       "text": [
        "GDISPLAY: Displaying image...\n",
        "\n",
        "GDISPLAY - Finished: 2016-03-22T15:31:33\n"
       ]
      },
      {
       "output_type": "stream",
       "stream": "stdout",
       "text": [
        "\n",
        "S20101111S0043[1]"
       ]
      },
      {
       "output_type": "stream",
       "stream": "stdout",
       "text": [
        "\n",
        "\n",
        "GDISPLAY - Started: 2016-03-22T15:31:38\n",
        "\n"
       ]
      },
      {
       "output_type": "stream",
       "stream": "stdout",
       "text": [
        "GDISPLAY: Temporary image name tmpout85758_1375S20101111S0043.fits\n",
        "\n",
        "GMULTIAMP - Started: 2016-03-22T15:31:39\n",
        "\n"
       ]
      },
      {
       "output_type": "stream",
       "stream": "stdout",
       "text": [
        "\n",
        "GMULTIAMP - Finished: 2016-03-22T15:31:39\n",
        "GMULTIAMP - Exit status: GOOD\n",
        "\n"
       ]
      },
      {
       "output_type": "stream",
       "stream": "stdout",
       "text": [
        "GDISPLAY: Displaying image...\n",
        "\n",
        "GDISPLAY - Finished: 2016-03-22T15:31:40\n"
       ]
      },
      {
       "output_type": "stream",
       "stream": "stdout",
       "text": [
        "\n",
        "S20101101S0083[1]"
       ]
      },
      {
       "output_type": "stream",
       "stream": "stdout",
       "text": [
        "\n",
        "\n",
        "GDISPLAY - Started: 2016-03-22T15:31:46\n",
        "\n"
       ]
      },
      {
       "output_type": "stream",
       "stream": "stdout",
       "text": [
        "GDISPLAY: Temporary image name tmpout85758_1396S20101101S0083.fits\n",
        "\n",
        "GMULTIAMP - Started: 2016-03-22T15:31:46\n",
        "\n"
       ]
      },
      {
       "output_type": "stream",
       "stream": "stdout",
       "text": [
        "\n",
        "GMULTIAMP - Finished: 2016-03-22T15:31:46\n",
        "GMULTIAMP - Exit status: GOOD\n",
        "\n"
       ]
      },
      {
       "output_type": "stream",
       "stream": "stdout",
       "text": [
        "GDISPLAY: Displaying image...\n",
        "\n",
        "GDISPLAY - Finished: 2016-03-22T15:31:48\n"
       ]
      },
      {
       "output_type": "stream",
       "stream": "stdout",
       "text": [
        "\n",
        "S20101101S0084[1]"
       ]
      },
      {
       "output_type": "stream",
       "stream": "stdout",
       "text": [
        "\n",
        "\n",
        "GDISPLAY - Started: 2016-03-22T15:31:53\n",
        "\n"
       ]
      },
      {
       "output_type": "stream",
       "stream": "stdout",
       "text": [
        "GDISPLAY: Temporary image name tmpout85758_1417S20101101S0084.fits\n",
        "\n",
        "GMULTIAMP - Started: 2016-03-22T15:31:53\n",
        "\n"
       ]
      },
      {
       "output_type": "stream",
       "stream": "stdout",
       "text": [
        "\n",
        "GMULTIAMP - Finished: 2016-03-22T15:31:54\n",
        "GMULTIAMP - Exit status: GOOD\n",
        "\n"
       ]
      },
      {
       "output_type": "stream",
       "stream": "stdout",
       "text": [
        "GDISPLAY: Displaying image...\n",
        "\n",
        "GDISPLAY - Finished: 2016-03-22T15:31:55\n"
       ]
      },
      {
       "output_type": "stream",
       "stream": "stdout",
       "text": [
        "\n",
        "S20101101S0085[1]"
       ]
      },
      {
       "output_type": "stream",
       "stream": "stdout",
       "text": [
        "\n",
        "\n",
        "GDISPLAY - Started: 2016-03-22T15:32:00\n",
        "\n"
       ]
      },
      {
       "output_type": "stream",
       "stream": "stdout",
       "text": [
        "GDISPLAY: Temporary image name tmpout85758_1438S20101101S0085.fits\n",
        "\n",
        "GMULTIAMP - Started: 2016-03-22T15:32:00\n",
        "\n"
       ]
      },
      {
       "output_type": "stream",
       "stream": "stdout",
       "text": [
        "\n",
        "GMULTIAMP - Finished: 2016-03-22T15:32:01\n",
        "GMULTIAMP - Exit status: GOOD\n",
        "\n"
       ]
      },
      {
       "output_type": "stream",
       "stream": "stdout",
       "text": [
        "GDISPLAY: Displaying image...\n",
        "\n",
        "GDISPLAY - Finished: 2016-03-22T15:32:02\n"
       ]
      },
      {
       "output_type": "stream",
       "stream": "stdout",
       "text": [
        "\n",
        "S20101101S0086[1]"
       ]
      },
      {
       "output_type": "stream",
       "stream": "stdout",
       "text": [
        "\n",
        "\n",
        "GDISPLAY - Started: 2016-03-22T15:32:07\n",
        "\n"
       ]
      },
      {
       "output_type": "stream",
       "stream": "stdout",
       "text": [
        "GDISPLAY: Temporary image name tmpout85758_1459S20101101S0086.fits\n",
        "\n",
        "GMULTIAMP - Started: 2016-03-22T15:32:07\n",
        "\n"
       ]
      },
      {
       "output_type": "stream",
       "stream": "stdout",
       "text": [
        "\n",
        "GMULTIAMP - Finished: 2016-03-22T15:32:08\n",
        "GMULTIAMP - Exit status: GOOD\n",
        "\n"
       ]
      },
      {
       "output_type": "stream",
       "stream": "stdout",
       "text": [
        "GDISPLAY: Displaying image...\n",
        "\n",
        "GDISPLAY - Finished: 2016-03-22T15:32:09\n"
       ]
      },
      {
       "output_type": "stream",
       "stream": "stdout",
       "text": [
        "\n"
       ]
      },
      {
       "ename": "NameError",
       "evalue": "name 'all_file' is not defined",
       "output_type": "pyerr",
       "traceback": [
        "\u001b[0;31m---------------------------------------------------------------------------\u001b[0m\n\u001b[0;31mNameError\u001b[0m                                 Traceback (most recent call last)",
        "\u001b[0;32m<ipython-input-9-fccc1dea0948>\u001b[0m in \u001b[0;36m<module>\u001b[0;34m()\u001b[0m\n\u001b[1;32m      6\u001b[0m     \u001b[0miraf\u001b[0m\u001b[0;34m.\u001b[0m\u001b[0msleep\u001b[0m\u001b[0;34m(\u001b[0m\u001b[0;36m5\u001b[0m\u001b[0;34m)\u001b[0m\u001b[0;34m\u001b[0m\u001b[0m\n\u001b[1;32m      7\u001b[0m \u001b[0;34m\u001b[0m\u001b[0m\n\u001b[0;32m----> 8\u001b[0;31m \u001b[0mall_file\u001b[0m\u001b[0;34m.\u001b[0m\u001b[0mclose\u001b[0m\u001b[0;34m(\u001b[0m\u001b[0;34m)\u001b[0m\u001b[0;34m\u001b[0m\u001b[0m\n\u001b[0m",
        "\u001b[0;31mNameError\u001b[0m: name 'all_file' is not defined"
       ]
      }
     ],
     "prompt_number": 9
    },
    {
     "cell_type": "heading",
     "level": 2,
     "metadata": {},
     "source": [
      "STEP 4: Process the biases"
     ]
    },
    {
     "cell_type": "markdown",
     "metadata": {},
     "source": [
      "This will produce the two biases defined above.  Those two biases will be used later to process the science frames, the twilight flats, and the fringe frames."
     ]
    },
    {
     "cell_type": "code",
     "collapsed": false,
     "input": [
      "os.chdir(redux_path)\n",
      "\n",
      "for biaskey in biases.keys():\n",
      "    iraf.imdelete(biases[biaskey]['procbias'], verify='no')\n",
      "    iraf.imdelete('g//@'+biaskey+'.lis', verify='no')\n",
      "\n",
      "    print 'Creating bias ', biases[biaskey]['procbias']\n",
      "    iraf.gbias('@'+biaskey+'.lis', outbias=biases[biaskey]['procbias'], \\\n",
      "               rawpath=raw_path, fl_over='yes', fl_trim='yes', \\\n",
      "               fl_vardq='yes')\n",
      "    shutil.copy(biases[biaskey]['procbias'], procbias_path)\n",
      "\n",
      "# The processed biases are:\n",
      "os.listdir(procbias_path)"
     ],
     "language": "python",
     "metadata": {},
     "outputs": [
      {
       "output_type": "stream",
       "stream": "stdout",
       "text": [
        "Creating bias  S20101101S0169_bias.fits\n",
        "----------------------------------------------------------------------------\n",
        "GBIAS -- Tue Mar 22 15:49:45 HST 2016\n",
        "\n",
        "Input images:\n",
        "  S20101101S0169\n",
        "  S20101101S0170\n",
        "  S20101101S0171\n",
        "  S20101101S0172\n",
        "  S20101102S0131\n",
        "  S20101102S0132"
       ]
      },
      {
       "output_type": "stream",
       "stream": "stdout",
       "text": [
        "\n",
        "  S20101102S0133\n",
        "  S20101102S0134\n",
        "  S20101102S0135\n",
        "\n",
        "Output bias image: S20101101S0169_bias.fits\n",
        " \n"
       ]
      },
      {
       "output_type": "stream",
       "stream": "stdout",
       "text": [
        "\n",
        "----------------------------------------------------------------------------"
       ]
      },
      {
       "output_type": "stream",
       "stream": "stdout",
       "text": [
        "\n",
        "GIREDUCE -- Tue Mar 22 15:49:46 HST 2016\n",
        "\n"
       ]
      },
      {
       "output_type": "stream",
       "stream": "stdout",
       "text": [
        "----------------------------------------------------------------------------\n",
        "GPREPARE -- Tue Mar 22 15:49:46 HST 2016\n",
        "\n",
        "Input list    = /data/workspace/DRWorkshopAAO/raw/S20101101S0169\n",
        "Output list   = \n",
        "Output prefix = g\n",
        "Raw path      = \n",
        "MDF dir       = gmos$data/\n",
        "Add MDF       = no\n",
        "\n"
       ]
      },
      {
       "output_type": "stream",
       "stream": "stdout",
       "text": [
        "Input  /data/workspace/DRWorkshopAAO/raw/S20101101S0169.fits   Output  gS20101101S0169.fits\n"
       ]
      },
      {
       "output_type": "stream",
       "stream": "stdout",
       "text": [
        "\n",
        "GPREPARE exit status: good.\n",
        "----------------------------------------------------------------------------\n"
       ]
      },
      {
       "output_type": "stream",
       "stream": "stdout",
       "text": [
        "----------------------------------------------------------------------------\n",
        "GPREPARE -- Tue Mar 22 15:49:47 HST 2016\n",
        "\n",
        "Input list    = /data/workspace/DRWorkshopAAO/raw/S20101101S0170\n",
        "Output list   = \n",
        "Output prefix = g\n",
        "Raw path      = \n",
        "MDF dir       = gmos$data/\n",
        "Add MDF       = no\n",
        "\n"
       ]
      },
      {
       "output_type": "stream",
       "stream": "stdout",
       "text": [
        "Input  /data/workspace/DRWorkshopAAO/raw/S20101101S0170.fits   Output  gS20101101S0170.fits\n"
       ]
      },
      {
       "output_type": "stream",
       "stream": "stdout",
       "text": [
        "\n",
        "GPREPARE exit status: good.\n",
        "----------------------------------------------------------------------------\n"
       ]
      },
      {
       "output_type": "stream",
       "stream": "stdout",
       "text": [
        "----------------------------------------------------------------------------\n",
        "GPREPARE -- Tue Mar 22 15:49:48 HST 2016\n",
        "\n",
        "Input list    = /data/workspace/DRWorkshopAAO/raw/S20101101S0171\n",
        "Output list   = \n",
        "Output prefix = g\n",
        "Raw path      = \n",
        "MDF dir       = gmos$data/\n",
        "Add MDF       = no\n",
        "\n"
       ]
      },
      {
       "output_type": "stream",
       "stream": "stdout",
       "text": [
        "Input  /data/workspace/DRWorkshopAAO/raw/S20101101S0171.fits   Output  gS20101101S0171.fits\n"
       ]
      },
      {
       "output_type": "stream",
       "stream": "stdout",
       "text": [
        "\n",
        "GPREPARE exit status: good.\n",
        "----------------------------------------------------------------------------\n"
       ]
      },
      {
       "output_type": "stream",
       "stream": "stdout",
       "text": [
        "----------------------------------------------------------------------------\n",
        "GPREPARE -- Tue Mar 22 15:49:49 HST 2016\n",
        "\n",
        "Input list    = /data/workspace/DRWorkshopAAO/raw/S20101101S0172\n",
        "Output list   = \n",
        "Output prefix = g\n",
        "Raw path      = \n",
        "MDF dir       = gmos$data/\n",
        "Add MDF       = no\n",
        "\n"
       ]
      },
      {
       "output_type": "stream",
       "stream": "stdout",
       "text": [
        "Input  /data/workspace/DRWorkshopAAO/raw/S20101101S0172.fits   Output  gS20101101S0172.fits\n"
       ]
      },
      {
       "output_type": "stream",
       "stream": "stdout",
       "text": [
        "\n",
        "GPREPARE exit status: good.\n",
        "----------------------------------------------------------------------------\n"
       ]
      },
      {
       "output_type": "stream",
       "stream": "stdout",
       "text": [
        "----------------------------------------------------------------------------\n",
        "GPREPARE -- Tue Mar 22 15:49:50 HST 2016\n",
        "\n",
        "Input list    = /data/workspace/DRWorkshopAAO/raw/S20101102S0131\n",
        "Output list   = \n",
        "Output prefix = g\n",
        "Raw path      = \n",
        "MDF dir       = gmos$data/\n",
        "Add MDF       = no\n",
        "\n"
       ]
      },
      {
       "output_type": "stream",
       "stream": "stdout",
       "text": [
        "Input  /data/workspace/DRWorkshopAAO/raw/S20101102S0131.fits   Output  gS20101102S0131.fits\n"
       ]
      },
      {
       "output_type": "stream",
       "stream": "stdout",
       "text": [
        "\n",
        "GPREPARE exit status: good.\n",
        "----------------------------------------------------------------------------\n"
       ]
      },
      {
       "output_type": "stream",
       "stream": "stdout",
       "text": [
        "----------------------------------------------------------------------------\n",
        "GPREPARE -- Tue Mar 22 15:49:51 HST 2016\n",
        "\n",
        "Input list    = /data/workspace/DRWorkshopAAO/raw/S20101102S0132\n",
        "Output list   = \n",
        "Output prefix = g\n",
        "Raw path      = \n",
        "MDF dir       = gmos$data/\n",
        "Add MDF       = no\n",
        "\n"
       ]
      },
      {
       "output_type": "stream",
       "stream": "stdout",
       "text": [
        "Input  /data/workspace/DRWorkshopAAO/raw/S20101102S0132.fits   Output  gS20101102S0132.fits\n"
       ]
      },
      {
       "output_type": "stream",
       "stream": "stdout",
       "text": [
        "\n",
        "GPREPARE exit status: good.\n",
        "----------------------------------------------------------------------------\n"
       ]
      },
      {
       "output_type": "stream",
       "stream": "stdout",
       "text": [
        "----------------------------------------------------------------------------\n",
        "GPREPARE -- Tue Mar 22 15:49:52 HST 2016\n",
        "\n",
        "Input list    = /data/workspace/DRWorkshopAAO/raw/S20101102S0133\n",
        "Output list   = \n",
        "Output prefix = g\n",
        "Raw path      = \n",
        "MDF dir       = gmos$data/\n",
        "Add MDF       = no\n",
        "\n"
       ]
      },
      {
       "output_type": "stream",
       "stream": "stdout",
       "text": [
        "Input  /data/workspace/DRWorkshopAAO/raw/S20101102S0133.fits   Output  gS20101102S0133.fits\n"
       ]
      },
      {
       "output_type": "stream",
       "stream": "stdout",
       "text": [
        "\n",
        "GPREPARE exit status: good.\n",
        "----------------------------------------------------------------------------\n"
       ]
      },
      {
       "output_type": "stream",
       "stream": "stdout",
       "text": [
        "----------------------------------------------------------------------------\n",
        "GPREPARE -- Tue Mar 22 15:49:53 HST 2016\n",
        "\n",
        "Input list    = /data/workspace/DRWorkshopAAO/raw/S20101102S0134\n",
        "Output list   = \n",
        "Output prefix = g\n",
        "Raw path      = \n",
        "MDF dir       = gmos$data/\n",
        "Add MDF       = no\n",
        "\n"
       ]
      },
      {
       "output_type": "stream",
       "stream": "stdout",
       "text": [
        "Input  /data/workspace/DRWorkshopAAO/raw/S20101102S0134.fits   Output  gS20101102S0134.fits\n"
       ]
      },
      {
       "output_type": "stream",
       "stream": "stdout",
       "text": [
        "\n",
        "GPREPARE exit status: good.\n",
        "----------------------------------------------------------------------------\n"
       ]
      },
      {
       "output_type": "stream",
       "stream": "stdout",
       "text": [
        "----------------------------------------------------------------------------\n",
        "GPREPARE -- Tue Mar 22 15:49:54 HST 2016\n",
        "\n",
        "Input list    = /data/workspace/DRWorkshopAAO/raw/S20101102S0135\n",
        "Output list   = \n",
        "Output prefix = g\n",
        "Raw path      = \n",
        "MDF dir       = gmos$data/\n",
        "Add MDF       = no\n",
        "\n"
       ]
      },
      {
       "output_type": "stream",
       "stream": "stdout",
       "text": [
        "Input  /data/workspace/DRWorkshopAAO/raw/S20101102S0135.fits   Output  gS20101102S0135.fits\n"
       ]
      },
      {
       "output_type": "stream",
       "stream": "stdout",
       "text": [
        "\n",
        "GPREPARE exit status: good.\n",
        "----------------------------------------------------------------------------\n"
       ]
      },
      {
       "output_type": "stream",
       "stream": "stdout",
       "text": [
        "\n",
        "Input files:\n",
        "gS20101101S0169\n",
        "gS20101101S0170\n",
        "gS20101101S0171\n",
        "gS20101101S0172\n",
        "gS20101102S0131\n",
        "gS20101102S0132\n",
        "gS20101102S0133\n",
        "gS20101102S0134\n",
        "gS20101102S0135\n"
       ]
      },
      {
       "output_type": "stream",
       "stream": "stdout",
       "text": [
        "\n"
       ]
      },
      {
       "output_type": "stream",
       "stream": "stdout",
       "text": [
        "Output files:\n",
        "tmpfile85758_1907S20101101S0169\n",
        "tmpfile85758_1907S20101101S0170\n",
        "tmpfile85758_1907S20101101S0171\n",
        "tmpfile85758_1907S20101101S0172\n",
        "tmpfile85758_1907S20101102S0131\n",
        "tmpfile85758_1907S20101102S0132\n",
        "tmpfile85758_1907S20101102S0133\n",
        "tmpfile85758_1907S20101102S0134\n",
        "tmpfile85758_1907S20101102S0135\n"
       ]
      },
      {
       "output_type": "stream",
       "stream": "stdout",
       "text": [
        "\n",
        "GIREDUCE: Image tmpfile85758_1907S20101101S0169 overscan subtracted"
       ]
      },
      {
       "output_type": "stream",
       "stream": "stdout",
       "text": [
        "\n",
        "GIREDUCE: Image tmpfile85758_1907S20101101S0170 overscan subtracted"
       ]
      },
      {
       "output_type": "stream",
       "stream": "stdout",
       "text": [
        "\n",
        "GIREDUCE: Image tmpfile85758_1907S20101101S0171 overscan subtracted"
       ]
      },
      {
       "output_type": "stream",
       "stream": "stdout",
       "text": [
        "\n",
        "GIREDUCE: Image tmpfile85758_1907S20101101S0172 overscan subtracted"
       ]
      },
      {
       "output_type": "stream",
       "stream": "stdout",
       "text": [
        "\n",
        "GIREDUCE: Image tmpfile85758_1907S20101102S0131 overscan subtracted"
       ]
      },
      {
       "output_type": "stream",
       "stream": "stdout",
       "text": [
        "\n",
        "GIREDUCE: Image tmpfile85758_1907S20101102S0132 overscan subtracted"
       ]
      },
      {
       "output_type": "stream",
       "stream": "stdout",
       "text": [
        "\n",
        "GIREDUCE: Image tmpfile85758_1907S20101102S0133 overscan subtracted"
       ]
      },
      {
       "output_type": "stream",
       "stream": "stdout",
       "text": [
        "\n",
        "GIREDUCE: Image tmpfile85758_1907S20101102S0134 overscan subtracted"
       ]
      },
      {
       "output_type": "stream",
       "stream": "stdout",
       "text": [
        "\n",
        "GIREDUCE: Image tmpfile85758_1907S20101102S0135 overscan subtracted"
       ]
      },
      {
       "output_type": "stream",
       "stream": "stdout",
       "text": [
        "\n"
       ]
      },
      {
       "output_type": "stream",
       "stream": "stdout",
       "text": [
        "GIREDUCE: Image tmpfile85758_1907S20101101S0169 trimmed\n"
       ]
      },
      {
       "output_type": "stream",
       "stream": "stdout",
       "text": [
        "GIREDUCE: Image tmpfile85758_1907S20101101S0170 trimmed\n"
       ]
      },
      {
       "output_type": "stream",
       "stream": "stdout",
       "text": [
        "GIREDUCE: Image tmpfile85758_1907S20101101S0171 trimmed\n"
       ]
      },
      {
       "output_type": "stream",
       "stream": "stdout",
       "text": [
        "GIREDUCE: Image tmpfile85758_1907S20101101S0172 trimmed\n"
       ]
      },
      {
       "output_type": "stream",
       "stream": "stdout",
       "text": [
        "GIREDUCE: Image tmpfile85758_1907S20101102S0131 trimmed\n"
       ]
      },
      {
       "output_type": "stream",
       "stream": "stdout",
       "text": [
        "GIREDUCE: Image tmpfile85758_1907S20101102S0132 trimmed\n"
       ]
      },
      {
       "output_type": "stream",
       "stream": "stdout",
       "text": [
        "GIREDUCE: Image tmpfile85758_1907S20101102S0133 trimmed\n"
       ]
      },
      {
       "output_type": "stream",
       "stream": "stdout",
       "text": [
        "GIREDUCE: Image tmpfile85758_1907S20101102S0134 trimmed\n"
       ]
      },
      {
       "output_type": "stream",
       "stream": "stdout",
       "text": [
        "GIREDUCE: Image tmpfile85758_1907S20101102S0135 trimmed\n",
        "\n"
       ]
      },
      {
       "output_type": "stream",
       "stream": "stdout",
       "text": [
        "\n",
        "GIREDUCE - Cleaning up -- Tue Mar 22 15:50:46 HST 2016\n"
       ]
      },
      {
       "output_type": "stream",
       "stream": "stdout",
       "text": [
        "\n",
        "GIREDUCE -- Tue Mar 22 15:50:46 HST 2016\n",
        "GIREDUCE exit status:  good.\n",
        "----------------------------------------------------------------------------\n",
        "--------------------------------------------------------------------------------"
       ]
      },
      {
       "output_type": "stream",
       "stream": "stdout",
       "text": [
        "\n",
        "GEMCOMBINE -- Tue Mar 22 15:50:46 HST 2016\n",
        " \n",
        "GEMCOMBINE: input = @tmpcombin85758_1904\n",
        "GEMCOMBINE: output = S20101101S0169_bias.fits\n",
        "GEMCOMBINE: title = Bias\n",
        "GEMCOMBINE: bpmfile = \n",
        "GEMCOMBINE: sci_ext = SCI\n",
        "GEMCOMBINE: var_ext = VAR\n",
        "GEMCOMBINE: dq_ext = DQ\n",
        " \n"
       ]
      },
      {
       "output_type": "stream",
       "stream": "stdout",
       "text": [
        "\n",
        "Mar 22 15:50: IMCOMBINE\n",
        "  combine = average, scale = none, zero = none, weight = none\n",
        "  reject = avsigclip, mclip = yes, nkeep = 1\n",
        "  lsigma = 3., hsigma = 3.\n",
        "  blank = 0.\n",
        "  statsec = Mar 22 15:50\n",
        "                Images     Exp\n",
        "  tmpfile85758_1907S20101101S0169.fits[SCI,1]    0.0\n",
        "  tmpfile85758_1907S20101101S0170.fits[SCI,1]    0.0\n",
        "  tmpfile85758_1907S20101101S0171.fits[SCI,1]    0.0\n",
        "  tmpfile85758_1907S20101101S0172.fits[SCI,1]    0.0\n",
        "  tmpfile85758_1907S20101102S0131.fits[SCI,1]    0.0\n",
        "  tmpfile85758_1907S20101102S0132.fits[SCI,1]    0.0\n",
        "  tmpfile85758_1907S20101102S0133.fits[SCI,1]    0.0\n",
        "  tmpfile85758_1907S20101102S0134.fits[SCI,1]    0.0\n",
        "  tmpfile85758_1907S20101102S0135.fits[SCI,1]    0.0\n",
        "\n",
        "  Output image = tmpcombout85758_1981, ncombine = 9\n",
        "  Number rejected mask = tmpcombdq85758_1982.pl\n",
        "  Sigma image = tmpcombsig85758_1983\n"
       ]
      },
      {
       "output_type": "stream",
       "stream": "stdout",
       "text": [
        "\n",
        "Mar 22 15:50: IMCOMBINE\n",
        "  combine = average, scale = none, zero = none, weight = none\n",
        "  reject = avsigclip, mclip = yes, nkeep = 1\n",
        "  lsigma = 3., hsigma = 3.\n",
        "  blank = 0.\n",
        "  statsec = Mar 22 15:50\n",
        "                Images     Exp\n",
        "  tmpfile85758_1907S20101101S0169.fits[SCI,2]    0.0\n",
        "  tmpfile85758_1907S20101101S0170.fits[SCI,2]    0.0\n",
        "  tmpfile85758_1907S20101101S0171.fits[SCI,2]    0.0\n",
        "  tmpfile85758_1907S20101101S0172.fits[SCI,2]    0.0\n",
        "  tmpfile85758_1907S20101102S0131.fits[SCI,2]    0.0\n",
        "  tmpfile85758_1907S20101102S0132.fits[SCI,2]    0.0\n",
        "  tmpfile85758_1907S20101102S0133.fits[SCI,2]    0.0\n",
        "  tmpfile85758_1907S20101102S0134.fits[SCI,2]    0.0\n",
        "  tmpfile85758_1907S20101102S0135.fits[SCI,2]    0.0\n",
        "\n",
        "  Output image = tmpcombout85758_1988, ncombine = 9\n",
        "  Number rejected mask = tmpcombdq85758_1989.pl\n",
        "  Sigma image = tmpcombsig85758_1990\n"
       ]
      },
      {
       "output_type": "stream",
       "stream": "stdout",
       "text": [
        "\n",
        "Mar 22 15:50: IMCOMBINE\n",
        "  combine = average, scale = none, zero = none, weight = none\n",
        "  reject = avsigclip, mclip = yes, nkeep = 1\n",
        "  lsigma = 3., hsigma = 3.\n",
        "  blank = 0.\n",
        "  statsec = Mar 22 15:50\n",
        "                Images     Exp\n",
        "  tmpfile85758_1907S20101101S0169.fits[SCI,3]    0.0\n",
        "  tmpfile85758_1907S20101101S0170.fits[SCI,3]    0.0\n",
        "  tmpfile85758_1907S20101101S0171.fits[SCI,3]    0.0\n",
        "  tmpfile85758_1907S20101101S0172.fits[SCI,3]    0.0\n",
        "  tmpfile85758_1907S20101102S0131.fits[SCI,3]    0.0\n",
        "  tmpfile85758_1907S20101102S0132.fits[SCI,3]    0.0\n",
        "  tmpfile85758_1907S20101102S0133.fits[SCI,3]    0.0\n",
        "  tmpfile85758_1907S20101102S0134.fits[SCI,3]    0.0\n",
        "  tmpfile85758_1907S20101102S0135.fits[SCI,3]    0.0\n",
        "\n",
        "  Output image = tmpcombout85758_1992, ncombine = 9\n",
        "  Number rejected mask = tmpcombdq85758_1993.pl\n",
        "  Sigma image = tmpcombsig85758_1994\n"
       ]
      },
      {
       "output_type": "stream",
       "stream": "stdout",
       "text": [
        " \n",
        "GEMCOMBINE -- Finished: Tue Mar 22 15:50:59 HST 2016\n",
        " \n",
        "GEMCOMBINE -- Exit status: GOOD\n",
        "--------------------------------------------------------------------------------\n"
       ]
      },
      {
       "output_type": "stream",
       "stream": "stdout",
       "text": [
        "\n",
        "GBIAS: Exit status: GOOD.\n",
        "----------------------------------------------------------------------------\n",
        "Creating bias "
       ]
      },
      {
       "output_type": "stream",
       "stream": "stdout",
       "text": [
        " S20101111S0061_bias.fits\n",
        "----------------------------------------------------------------------------\n",
        "GBIAS -- Tue Mar 22 15:51:00 HST 2016\n",
        "\n",
        "Input images:\n",
        "  S20101111S0061\n",
        "  S20101111S0062\n",
        "  S20101111S0063\n",
        "  S20101111S0064\n",
        "  S20101111S0065"
       ]
      },
      {
       "output_type": "stream",
       "stream": "stdout",
       "text": [
        "\n",
        "\n",
        "Output bias image: S20101111S0061_bias.fits\n",
        " \n"
       ]
      },
      {
       "output_type": "stream",
       "stream": "stdout",
       "text": [
        "\n",
        "----------------------------------------------------------------------------"
       ]
      },
      {
       "output_type": "stream",
       "stream": "stdout",
       "text": [
        "\n",
        "GIREDUCE -- Tue Mar 22 15:51:00 HST 2016\n",
        "\n"
       ]
      },
      {
       "output_type": "stream",
       "stream": "stdout",
       "text": [
        "----------------------------------------------------------------------------\n",
        "GPREPARE -- Tue Mar 22 15:51:00 HST 2016\n",
        "\n",
        "Input list    = /data/workspace/DRWorkshopAAO/raw/S20101111S0061\n",
        "Output list   = \n",
        "Output prefix = g\n",
        "Raw path      = \n",
        "MDF dir       = gmos$data/\n",
        "Add MDF       = no\n",
        "\n"
       ]
      },
      {
       "output_type": "stream",
       "stream": "stdout",
       "text": [
        "Input  /data/workspace/DRWorkshopAAO/raw/S20101111S0061.fits   Output  gS20101111S0061.fits\n"
       ]
      },
      {
       "output_type": "stream",
       "stream": "stdout",
       "text": [
        "\n",
        "GPREPARE exit status: good.\n",
        "----------------------------------------------------------------------------\n"
       ]
      },
      {
       "output_type": "stream",
       "stream": "stdout",
       "text": [
        "----------------------------------------------------------------------------\n",
        "GPREPARE -- Tue Mar 22 15:51:01 HST 2016\n",
        "\n",
        "Input list    = /data/workspace/DRWorkshopAAO/raw/S20101111S0062\n",
        "Output list   = \n",
        "Output prefix = g\n",
        "Raw path      = \n",
        "MDF dir       = gmos$data/\n",
        "Add MDF       = no\n",
        "\n"
       ]
      },
      {
       "output_type": "stream",
       "stream": "stdout",
       "text": [
        "Input  /data/workspace/DRWorkshopAAO/raw/S20101111S0062.fits   Output  gS20101111S0062.fits\n"
       ]
      },
      {
       "output_type": "stream",
       "stream": "stdout",
       "text": [
        "\n",
        "GPREPARE exit status: good.\n",
        "----------------------------------------------------------------------------\n"
       ]
      },
      {
       "output_type": "stream",
       "stream": "stdout",
       "text": [
        "----------------------------------------------------------------------------\n",
        "GPREPARE -- Tue Mar 22 15:51:02 HST 2016\n",
        "\n",
        "Input list    = /data/workspace/DRWorkshopAAO/raw/S20101111S0063\n",
        "Output list   = \n",
        "Output prefix = g\n",
        "Raw path      = \n",
        "MDF dir       = gmos$data/\n",
        "Add MDF       = no\n",
        "\n"
       ]
      },
      {
       "output_type": "stream",
       "stream": "stdout",
       "text": [
        "Input  /data/workspace/DRWorkshopAAO/raw/S20101111S0063.fits   Output  gS20101111S0063.fits\n"
       ]
      },
      {
       "output_type": "stream",
       "stream": "stdout",
       "text": [
        "\n",
        "GPREPARE exit status: good.\n",
        "----------------------------------------------------------------------------\n"
       ]
      },
      {
       "output_type": "stream",
       "stream": "stdout",
       "text": [
        "----------------------------------------------------------------------------\n",
        "GPREPARE -- Tue Mar 22 15:51:03 HST 2016\n",
        "\n",
        "Input list    = /data/workspace/DRWorkshopAAO/raw/S20101111S0064\n",
        "Output list   = \n",
        "Output prefix = g\n",
        "Raw path      = \n",
        "MDF dir       = gmos$data/\n",
        "Add MDF       = no\n",
        "\n"
       ]
      },
      {
       "output_type": "stream",
       "stream": "stdout",
       "text": [
        "Input  /data/workspace/DRWorkshopAAO/raw/S20101111S0064.fits   Output  gS20101111S0064.fits\n"
       ]
      },
      {
       "output_type": "stream",
       "stream": "stdout",
       "text": [
        "\n",
        "GPREPARE exit status: good.\n",
        "----------------------------------------------------------------------------\n"
       ]
      },
      {
       "output_type": "stream",
       "stream": "stdout",
       "text": [
        "----------------------------------------------------------------------------\n",
        "GPREPARE -- Tue Mar 22 15:51:04 HST 2016\n",
        "\n",
        "Input list    = /data/workspace/DRWorkshopAAO/raw/S20101111S0065\n",
        "Output list   = \n",
        "Output prefix = g\n",
        "Raw path      = \n",
        "MDF dir       = gmos$data/\n",
        "Add MDF       = no\n",
        "\n"
       ]
      },
      {
       "output_type": "stream",
       "stream": "stdout",
       "text": [
        "Input  /data/workspace/DRWorkshopAAO/raw/S20101111S0065.fits   Output  gS20101111S0065.fits\n"
       ]
      },
      {
       "output_type": "stream",
       "stream": "stdout",
       "text": [
        "\n",
        "GPREPARE exit status: good.\n",
        "----------------------------------------------------------------------------\n"
       ]
      },
      {
       "output_type": "stream",
       "stream": "stdout",
       "text": [
        "\n",
        "Input files:\n",
        "gS20101111S0061\n",
        "gS20101111S0062\n",
        "gS20101111S0063\n",
        "gS20101111S0064\n",
        "gS20101111S0065\n"
       ]
      },
      {
       "output_type": "stream",
       "stream": "stdout",
       "text": [
        "\n"
       ]
      },
      {
       "output_type": "stream",
       "stream": "stdout",
       "text": [
        "Output files:\n",
        "tmpfile85758_2002S20101111S0061\n",
        "tmpfile85758_2002S20101111S0062\n",
        "tmpfile85758_2002S20101111S0063\n",
        "tmpfile85758_2002S20101111S0064\n",
        "tmpfile85758_2002S20101111S0065\n"
       ]
      },
      {
       "output_type": "stream",
       "stream": "stdout",
       "text": [
        "\n",
        "GIREDUCE: Image tmpfile85758_2002S20101111S0061 overscan subtracted"
       ]
      },
      {
       "output_type": "stream",
       "stream": "stdout",
       "text": [
        "\n",
        "GIREDUCE: Image tmpfile85758_2002S20101111S0062 overscan subtracted"
       ]
      },
      {
       "output_type": "stream",
       "stream": "stdout",
       "text": [
        "\n",
        "GIREDUCE: Image tmpfile85758_2002S20101111S0063 overscan subtracted"
       ]
      },
      {
       "output_type": "stream",
       "stream": "stdout",
       "text": [
        "\n",
        "GIREDUCE: Image tmpfile85758_2002S20101111S0064 overscan subtracted"
       ]
      },
      {
       "output_type": "stream",
       "stream": "stdout",
       "text": [
        "\n",
        "GIREDUCE: Image tmpfile85758_2002S20101111S0065 overscan subtracted"
       ]
      },
      {
       "output_type": "stream",
       "stream": "stdout",
       "text": [
        "\n"
       ]
      },
      {
       "output_type": "stream",
       "stream": "stdout",
       "text": [
        "GIREDUCE: Image tmpfile85758_2002S20101111S0061 trimmed\n"
       ]
      },
      {
       "output_type": "stream",
       "stream": "stdout",
       "text": [
        "GIREDUCE: Image tmpfile85758_2002S20101111S0062 trimmed\n"
       ]
      },
      {
       "output_type": "stream",
       "stream": "stdout",
       "text": [
        "GIREDUCE: Image tmpfile85758_2002S20101111S0063 trimmed\n"
       ]
      },
      {
       "output_type": "stream",
       "stream": "stdout",
       "text": [
        "GIREDUCE: Image tmpfile85758_2002S20101111S0064 trimmed\n"
       ]
      },
      {
       "output_type": "stream",
       "stream": "stdout",
       "text": [
        "GIREDUCE: Image tmpfile85758_2002S20101111S0065 trimmed\n",
        "\n"
       ]
      },
      {
       "output_type": "stream",
       "stream": "stdout",
       "text": [
        "\n",
        "GIREDUCE - Cleaning up -- Tue Mar 22 15:51:34 HST 2016\n"
       ]
      },
      {
       "output_type": "stream",
       "stream": "stdout",
       "text": [
        "\n",
        "GIREDUCE -- Tue Mar 22 15:51:34 HST 2016\n",
        "GIREDUCE exit status:  good.\n",
        "----------------------------------------------------------------------------\n",
        "--------------------------------------------------------------------------------"
       ]
      },
      {
       "output_type": "stream",
       "stream": "stdout",
       "text": [
        "\n",
        "GEMCOMBINE -- Tue Mar 22 15:51:34 HST 2016\n",
        " \n",
        "GEMCOMBINE: input = @tmpcombin85758_1999\n",
        "GEMCOMBINE: output = S20101111S0061_bias.fits\n",
        "GEMCOMBINE: title = Bias\n",
        "GEMCOMBINE: bpmfile = \n",
        "GEMCOMBINE: sci_ext = SCI\n",
        "GEMCOMBINE: var_ext = VAR\n",
        "GEMCOMBINE: dq_ext = DQ\n",
        " \n"
       ]
      },
      {
       "output_type": "stream",
       "stream": "stdout",
       "text": [
        "WARNING - GEMCOMBINE: five or less images to combine.\n",
        "\n",
        "Mar 22 15:51: IMCOMBINE\n",
        "  combine = average, scale = none, zero = none, weight = none\n",
        "  reject = avsigclip, mclip = yes, nkeep = 1\n",
        "  lsigma = 3., hsigma = 3.\n",
        "  blank = 0.\n",
        "  statsec = Mar 22 15:51\n",
        "                Images     Exp\n",
        "  tmpfile85758_2002S20101111S0061.fits[SCI,1]    0.0\n",
        "  tmpfile85758_2002S20101111S0062.fits[SCI,1]    0.0\n",
        "  tmpfile85758_2002S20101111S0063.fits[SCI,1]    0.0\n",
        "  tmpfile85758_2002S20101111S0064.fits[SCI,1]    0.0\n",
        "  tmpfile85758_2002S20101111S0065.fits[SCI,1]    0.0\n",
        "\n",
        "  Output image = tmpcombout85758_2052, ncombine = 5\n",
        "  Number rejected mask = tmpcombdq85758_2053.pl\n",
        "  Sigma image = tmpcombsig85758_2054\n"
       ]
      },
      {
       "output_type": "stream",
       "stream": "stdout",
       "text": [
        "WARNING - GEMCOMBINE: five or less images to combine.\n",
        "\n",
        "Mar 22 15:51: IMCOMBINE\n",
        "  combine = average, scale = none, zero = none, weight = none\n",
        "  reject = avsigclip, mclip = yes, nkeep = 1\n",
        "  lsigma = 3., hsigma = 3.\n",
        "  blank = 0.\n",
        "  statsec = Mar 22 15:51\n",
        "                Images     Exp\n",
        "  tmpfile85758_2002S20101111S0061.fits[SCI,2]    0.0\n",
        "  tmpfile85758_2002S20101111S0062.fits[SCI,2]    0.0\n",
        "  tmpfile85758_2002S20101111S0063.fits[SCI,2]    0.0\n",
        "  tmpfile85758_2002S20101111S0064.fits[SCI,2]    0.0\n",
        "  tmpfile85758_2002S20101111S0065.fits[SCI,2]    0.0\n",
        "\n",
        "  Output image = tmpcombout85758_2059, ncombine = 5\n",
        "  Number rejected mask = tmpcombdq85758_2060.pl\n",
        "  Sigma image = tmpcombsig85758_2061\n"
       ]
      },
      {
       "output_type": "stream",
       "stream": "stdout",
       "text": [
        "WARNING - GEMCOMBINE: five or less images to combine.\n",
        "\n",
        "Mar 22 15:51: IMCOMBINE\n",
        "  combine = average, scale = none, zero = none, weight = none\n",
        "  reject = avsigclip, mclip = yes, nkeep = 1\n",
        "  lsigma = 3., hsigma = 3.\n",
        "  blank = 0.\n",
        "  statsec = Mar 22 15:51\n",
        "                Images     Exp\n",
        "  tmpfile85758_2002S20101111S0061.fits[SCI,3]    0.0\n",
        "  tmpfile85758_2002S20101111S0062.fits[SCI,3]    0.0\n",
        "  tmpfile85758_2002S20101111S0063.fits[SCI,3]    0.0\n",
        "  tmpfile85758_2002S20101111S0064.fits[SCI,3]    0.0\n",
        "  tmpfile85758_2002S20101111S0065.fits[SCI,3]    0.0\n",
        "\n",
        "  Output image = tmpcombout85758_2063, ncombine = 5\n",
        "  Number rejected mask = tmpcombdq85758_2064.pl\n",
        "  Sigma image = tmpcombsig85758_2065\n"
       ]
      },
      {
       "output_type": "stream",
       "stream": "stdout",
       "text": [
        " \n",
        "GEMCOMBINE -- Finished: Tue Mar 22 15:51:44 HST 2016\n",
        " \n",
        "GEMCOMBINE -- Exit status: GOOD\n",
        "--------------------------------------------------------------------------------\n"
       ]
      },
      {
       "output_type": "stream",
       "stream": "stdout",
       "text": [
        "\n",
        "GBIAS: Exit status: GOOD.\n",
        "----------------------------------------------------------------------------\n"
       ]
      },
      {
       "metadata": {},
       "output_type": "pyout",
       "prompt_number": 15,
       "text": [
        "['S20101101S0169_bias.fits', 'S20101111S0061_bias.fits']"
       ]
      }
     ],
     "prompt_number": 15
    },
    {
     "cell_type": "heading",
     "level": 4,
     "metadata": {},
     "source": [
      "Visually inspect the processed biases"
     ]
    },
    {
     "cell_type": "code",
     "collapsed": false,
     "input": [
      "# WARNING: interactive.  It launches imexam.  Type 'q' to quit.\n",
      "for biaskey in biases.keys():\n",
      "    iraf.gdisplay(biases[biaskey]['procbias'], 1, fl_paste='yes')"
     ],
     "language": "python",
     "metadata": {},
     "outputs": [
      {
       "output_type": "stream",
       "stream": "stdout",
       "text": [
        "\n",
        "GDISPLAY - Started: 2016-03-22T15:44:16\n",
        "\n"
       ]
      },
      {
       "output_type": "stream",
       "stream": "stdout",
       "text": [
        "GDISPLAY: Temporary image name tmpout85758_1646S20101101S0169_bias.fits\n",
        "\n",
        "GMULTIAMP - Started: 2016-03-22T15:44:16\n",
        "\n"
       ]
      },
      {
       "output_type": "stream",
       "stream": "stdout",
       "text": [
        "GMULTIAMP: Tiling image...\n"
       ]
      },
      {
       "output_type": "stream",
       "stream": "stdout",
       "text": [
        "               Image tiled.\n"
       ]
      },
      {
       "output_type": "stream",
       "stream": "stdout",
       "text": [
        "\n",
        "GMULTIAMP - Finished: 2016-03-22T15:44:18\n",
        "GMULTIAMP - Exit status: GOOD\n",
        "\n"
       ]
      },
      {
       "output_type": "stream",
       "stream": "stdout",
       "text": [
        "GDISPLAY: Displaying image...\n",
        "\n",
        "GDISPLAY: Starting imexamine - quit with q"
       ]
      },
      {
       "output_type": "stream",
       "stream": "stdout",
       "text": [
        "\n",
        "\n",
        "GDISPLAY - Finished: 2016-03-22T15:44:35\n"
       ]
      },
      {
       "output_type": "stream",
       "stream": "stdout",
       "text": [
        "\n",
        "\n",
        "GDISPLAY - Started: 2016-03-22T15:44:35\n",
        "\n"
       ]
      },
      {
       "output_type": "stream",
       "stream": "stdout",
       "text": [
        "GDISPLAY: Temporary image name tmpout85758_1680S20101111S0061_bias.fits\n",
        "\n",
        "GMULTIAMP - Started: 2016-03-22T15:44:35\n",
        "\n"
       ]
      },
      {
       "output_type": "stream",
       "stream": "stdout",
       "text": [
        "GMULTIAMP: Tiling image...\n"
       ]
      },
      {
       "output_type": "stream",
       "stream": "stdout",
       "text": [
        "               Image tiled.\n"
       ]
      },
      {
       "output_type": "stream",
       "stream": "stdout",
       "text": [
        "\n",
        "GMULTIAMP - Finished: 2016-03-22T15:44:37\n",
        "GMULTIAMP - Exit status: GOOD\n",
        "\n"
       ]
      },
      {
       "output_type": "stream",
       "stream": "stdout",
       "text": [
        "GDISPLAY: Displaying image...\n",
        "\n",
        "GDISPLAY: Starting imexamine - quit with q"
       ]
      },
      {
       "output_type": "stream",
       "stream": "stdout",
       "text": [
        "\n",
        "\n",
        "GDISPLAY - Finished: 2016-03-22T15:44:40\n"
       ]
      },
      {
       "output_type": "stream",
       "stream": "stdout",
       "text": [
        "\n"
       ]
      }
     ],
     "prompt_number": 12
    },
    {
     "cell_type": "heading",
     "level": 2,
     "metadata": {},
     "source": [
      "STEP 5: Process the twilight flats"
     ]
    },
    {
     "cell_type": "markdown",
     "metadata": {},
     "source": [
      "This will produce the one twilight flat defined above.  That flat will be used later to process the science frames and the fringe frames."
     ]
    },
    {
     "cell_type": "code",
     "collapsed": false,
     "input": [
      "os.chdir(redux_path)\n",
      "\n",
      "for flatkey in flats.keys():\n",
      "    iraf.imdelete('g//@'+flatkey+'.lis', verify='no')\n",
      "    iraf.imdelete('rg//@'+flatkey+'.lis', verify='no')\n",
      "    \n",
      "    flatlist = flatkey+'.lis'\n",
      "    procbias = os.path.join(procbias_path, flats[flatkey]['flatbias'])\n",
      "    \n",
      "    print 'Processing raw twilight flats'\n",
      "    \n",
      "    # gprepare and bias correct the raw flats\n",
      "    # The output files have the 'rg' prefix.\n",
      "    iraf.gireduce('@'+flatlist, rawpath=raw_path, \\\n",
      "                  fl_over='yes', fl_trim='yes', \\\n",
      "                  fl_bias='yes', bias=procbias, fl_flat='no', \\\n",
      "                  fl_vardq='yes')"
     ],
     "language": "python",
     "metadata": {},
     "outputs": [
      {
       "output_type": "stream",
       "stream": "stdout",
       "text": [
        "Processing raw twilight flats\n",
        "----------------------------------------------------------------------------"
       ]
      },
      {
       "output_type": "stream",
       "stream": "stdout",
       "text": [
        "\n",
        "GIREDUCE -- Tue Mar 22 16:30:13 HST 2016\n",
        "\n"
       ]
      },
      {
       "output_type": "stream",
       "stream": "stdout",
       "text": [
        "----------------------------------------------------------------------------\n",
        "GPREPARE -- Tue Mar 22 16:30:14 HST 2016\n",
        "\n",
        "Input list    = S20101102S0100\n",
        "Output list   = \n",
        "Output prefix = g\n",
        "Raw path      = /data/workspace/DRWorkshopAAO/raw/\n",
        "MDF dir       = gmos$data/\n",
        "Add MDF       = no\n",
        "\n"
       ]
      },
      {
       "output_type": "stream",
       "stream": "stdout",
       "text": [
        "Input  /data/workspace/DRWorkshopAAO/raw/S20101102S0100.fits   Output  gS20101102S0100.fits\n"
       ]
      },
      {
       "output_type": "stream",
       "stream": "stdout",
       "text": [
        "\n",
        "GPREPARE exit status: good.\n",
        "----------------------------------------------------------------------------\n"
       ]
      },
      {
       "output_type": "stream",
       "stream": "stdout",
       "text": [
        "----------------------------------------------------------------------------\n",
        "GPREPARE -- Tue Mar 22 16:30:15 HST 2016\n",
        "\n",
        "Input list    = S20101102S0101\n",
        "Output list   = \n",
        "Output prefix = g\n",
        "Raw path      = /data/workspace/DRWorkshopAAO/raw/\n",
        "MDF dir       = gmos$data/\n",
        "Add MDF       = no\n",
        "\n"
       ]
      },
      {
       "output_type": "stream",
       "stream": "stdout",
       "text": [
        "Input  /data/workspace/DRWorkshopAAO/raw/S20101102S0101.fits   Output  gS20101102S0101.fits\n"
       ]
      },
      {
       "output_type": "stream",
       "stream": "stdout",
       "text": [
        "\n",
        "GPREPARE exit status: good.\n",
        "----------------------------------------------------------------------------\n"
       ]
      },
      {
       "output_type": "stream",
       "stream": "stdout",
       "text": [
        "----------------------------------------------------------------------------\n",
        "GPREPARE -- Tue Mar 22 16:30:16 HST 2016\n",
        "\n",
        "Input list    = S20101102S0102\n",
        "Output list   = \n",
        "Output prefix = g\n",
        "Raw path      = /data/workspace/DRWorkshopAAO/raw/\n",
        "MDF dir       = gmos$data/\n",
        "Add MDF       = no\n",
        "\n"
       ]
      },
      {
       "output_type": "stream",
       "stream": "stdout",
       "text": [
        "Input  /data/workspace/DRWorkshopAAO/raw/S20101102S0102.fits   Output  gS20101102S0102.fits\n"
       ]
      },
      {
       "output_type": "stream",
       "stream": "stdout",
       "text": [
        "\n",
        "GPREPARE exit status: good.\n",
        "----------------------------------------------------------------------------\n"
       ]
      },
      {
       "output_type": "stream",
       "stream": "stdout",
       "text": [
        "----------------------------------------------------------------------------\n",
        "GPREPARE -- Tue Mar 22 16:30:17 HST 2016\n",
        "\n",
        "Input list    = S20101102S0103\n",
        "Output list   = \n",
        "Output prefix = g\n",
        "Raw path      = /data/workspace/DRWorkshopAAO/raw/\n",
        "MDF dir       = gmos$data/\n",
        "Add MDF       = no\n",
        "\n"
       ]
      },
      {
       "output_type": "stream",
       "stream": "stdout",
       "text": [
        "Input  /data/workspace/DRWorkshopAAO/raw/S20101102S0103.fits   Output  gS20101102S0103.fits\n"
       ]
      },
      {
       "output_type": "stream",
       "stream": "stdout",
       "text": [
        "\n",
        "GPREPARE exit status: good.\n",
        "----------------------------------------------------------------------------\n"
       ]
      },
      {
       "output_type": "stream",
       "stream": "stdout",
       "text": [
        "----------------------------------------------------------------------------\n",
        "GPREPARE -- Tue Mar 22 16:30:18 HST 2016\n",
        "\n",
        "Input list    = S20101102S0106\n",
        "Output list   = \n",
        "Output prefix = g\n",
        "Raw path      = /data/workspace/DRWorkshopAAO/raw/\n",
        "MDF dir       = gmos$data/\n",
        "Add MDF       = no\n",
        "\n"
       ]
      },
      {
       "output_type": "stream",
       "stream": "stdout",
       "text": [
        "Input  /data/workspace/DRWorkshopAAO/raw/S20101102S0106.fits   Output  gS20101102S0106.fits\n"
       ]
      },
      {
       "output_type": "stream",
       "stream": "stdout",
       "text": [
        "\n",
        "GPREPARE exit status: good.\n",
        "----------------------------------------------------------------------------\n"
       ]
      },
      {
       "output_type": "stream",
       "stream": "stdout",
       "text": [
        "----------------------------------------------------------------------------\n",
        "GPREPARE -- Tue Mar 22 16:30:19 HST 2016\n",
        "\n",
        "Input list    = S20101102S0107\n",
        "Output list   = \n",
        "Output prefix = g\n",
        "Raw path      = /data/workspace/DRWorkshopAAO/raw/\n",
        "MDF dir       = gmos$data/\n",
        "Add MDF       = no\n",
        "\n"
       ]
      },
      {
       "output_type": "stream",
       "stream": "stdout",
       "text": [
        "Input  /data/workspace/DRWorkshopAAO/raw/S20101102S0107.fits   Output  gS20101102S0107.fits\n"
       ]
      },
      {
       "output_type": "stream",
       "stream": "stdout",
       "text": [
        "\n",
        "GPREPARE exit status: good.\n",
        "----------------------------------------------------------------------------\n"
       ]
      },
      {
       "output_type": "stream",
       "stream": "stdout",
       "text": [
        "----------------------------------------------------------------------------\n",
        "GPREPARE -- Tue Mar 22 16:30:20 HST 2016\n",
        "\n",
        "Input list    = S20101102S0108\n",
        "Output list   = \n",
        "Output prefix = g\n",
        "Raw path      = /data/workspace/DRWorkshopAAO/raw/\n",
        "MDF dir       = gmos$data/\n",
        "Add MDF       = no\n",
        "\n"
       ]
      },
      {
       "output_type": "stream",
       "stream": "stdout",
       "text": [
        "Input  /data/workspace/DRWorkshopAAO/raw/S20101102S0108.fits   Output  gS20101102S0108.fits\n"
       ]
      },
      {
       "output_type": "stream",
       "stream": "stdout",
       "text": [
        "\n",
        "GPREPARE exit status: good.\n",
        "----------------------------------------------------------------------------\n"
       ]
      },
      {
       "output_type": "stream",
       "stream": "stdout",
       "text": [
        "----------------------------------------------------------------------------\n",
        "GPREPARE -- Tue Mar 22 16:30:21 HST 2016\n",
        "\n",
        "Input list    = S20101102S0109\n",
        "Output list   = \n",
        "Output prefix = g\n",
        "Raw path      = /data/workspace/DRWorkshopAAO/raw/\n",
        "MDF dir       = gmos$data/\n",
        "Add MDF       = no\n",
        "\n"
       ]
      },
      {
       "output_type": "stream",
       "stream": "stdout",
       "text": [
        "Input  /data/workspace/DRWorkshopAAO/raw/S20101102S0109.fits   Output  gS20101102S0109.fits\n"
       ]
      },
      {
       "output_type": "stream",
       "stream": "stdout",
       "text": [
        "\n",
        "GPREPARE exit status: good.\n",
        "----------------------------------------------------------------------------\n"
       ]
      },
      {
       "output_type": "stream",
       "stream": "stdout",
       "text": [
        "----------------------------------------------------------------------------\n",
        "GPREPARE -- Tue Mar 22 16:30:22 HST 2016\n",
        "\n",
        "Input list    = S20101102S0110\n",
        "Output list   = \n",
        "Output prefix = g\n",
        "Raw path      = /data/workspace/DRWorkshopAAO/raw/\n",
        "MDF dir       = gmos$data/\n",
        "Add MDF       = no\n",
        "\n"
       ]
      },
      {
       "output_type": "stream",
       "stream": "stdout",
       "text": [
        "Input  /data/workspace/DRWorkshopAAO/raw/S20101102S0110.fits   Output  gS20101102S0110.fits\n"
       ]
      },
      {
       "output_type": "stream",
       "stream": "stdout",
       "text": [
        "\n",
        "GPREPARE exit status: good.\n",
        "----------------------------------------------------------------------------\n"
       ]
      },
      {
       "output_type": "stream",
       "stream": "stdout",
       "text": [
        "----------------------------------------------------------------------------\n",
        "GPREPARE -- Tue Mar 22 16:30:23 HST 2016\n",
        "\n",
        "Input list    = S20101102S0111\n",
        "Output list   = \n",
        "Output prefix = g\n",
        "Raw path      = /data/workspace/DRWorkshopAAO/raw/\n",
        "MDF dir       = gmos$data/\n",
        "Add MDF       = no\n",
        "\n"
       ]
      },
      {
       "output_type": "stream",
       "stream": "stdout",
       "text": [
        "Input  /data/workspace/DRWorkshopAAO/raw/S20101102S0111.fits   Output  gS20101102S0111.fits\n"
       ]
      },
      {
       "output_type": "stream",
       "stream": "stdout",
       "text": [
        "\n",
        "GPREPARE exit status: good.\n",
        "----------------------------------------------------------------------------\n"
       ]
      },
      {
       "output_type": "stream",
       "stream": "stdout",
       "text": [
        "----------------------------------------------------------------------------\n",
        "GPREPARE -- Tue Mar 22 16:30:24 HST 2016\n",
        "\n",
        "Input list    = S20101102S0112\n",
        "Output list   = \n",
        "Output prefix = g\n",
        "Raw path      = /data/workspace/DRWorkshopAAO/raw/\n",
        "MDF dir       = gmos$data/\n",
        "Add MDF       = no\n",
        "\n"
       ]
      },
      {
       "output_type": "stream",
       "stream": "stdout",
       "text": [
        "Input  /data/workspace/DRWorkshopAAO/raw/S20101102S0112.fits   Output  gS20101102S0112.fits\n"
       ]
      },
      {
       "output_type": "stream",
       "stream": "stdout",
       "text": [
        "\n",
        "GPREPARE exit status: good.\n",
        "----------------------------------------------------------------------------\n"
       ]
      },
      {
       "output_type": "stream",
       "stream": "stdout",
       "text": [
        "----------------------------------------------------------------------------\n",
        "GPREPARE -- Tue Mar 22 16:30:25 HST 2016\n",
        "\n",
        "Input list    = S20101102S0113\n",
        "Output list   = \n",
        "Output prefix = g\n",
        "Raw path      = /data/workspace/DRWorkshopAAO/raw/\n",
        "MDF dir       = gmos$data/\n",
        "Add MDF       = no\n",
        "\n"
       ]
      },
      {
       "output_type": "stream",
       "stream": "stdout",
       "text": [
        "Input  /data/workspace/DRWorkshopAAO/raw/S20101102S0113.fits   Output  gS20101102S0113.fits\n"
       ]
      },
      {
       "output_type": "stream",
       "stream": "stdout",
       "text": [
        "\n",
        "GPREPARE exit status: good.\n",
        "----------------------------------------------------------------------------\n"
       ]
      },
      {
       "output_type": "stream",
       "stream": "stdout",
       "text": [
        "----------------------------------------------------------------------------\n",
        "GPREPARE -- Tue Mar 22 16:30:26 HST 2016\n",
        "\n",
        "Input list    = S20101102S0114\n",
        "Output list   = \n",
        "Output prefix = g\n",
        "Raw path      = /data/workspace/DRWorkshopAAO/raw/\n",
        "MDF dir       = gmos$data/\n",
        "Add MDF       = no\n",
        "\n"
       ]
      },
      {
       "output_type": "stream",
       "stream": "stdout",
       "text": [
        "Input  /data/workspace/DRWorkshopAAO/raw/S20101102S0114.fits   Output  gS20101102S0114.fits\n"
       ]
      },
      {
       "output_type": "stream",
       "stream": "stdout",
       "text": [
        "\n",
        "GPREPARE exit status: good.\n",
        "----------------------------------------------------------------------------\n"
       ]
      },
      {
       "output_type": "stream",
       "stream": "stdout",
       "text": [
        "----------------------------------------------------------------------------\n",
        "GPREPARE -- Tue Mar 22 16:30:27 HST 2016\n",
        "\n",
        "Input list    = S20101102S0115\n",
        "Output list   = \n",
        "Output prefix = g\n",
        "Raw path      = /data/workspace/DRWorkshopAAO/raw/\n",
        "MDF dir       = gmos$data/\n",
        "Add MDF       = no\n",
        "\n"
       ]
      },
      {
       "output_type": "stream",
       "stream": "stdout",
       "text": [
        "Input  /data/workspace/DRWorkshopAAO/raw/S20101102S0115.fits   Output  gS20101102S0115.fits\n"
       ]
      },
      {
       "output_type": "stream",
       "stream": "stdout",
       "text": [
        "\n",
        "GPREPARE exit status: good.\n",
        "----------------------------------------------------------------------------\n"
       ]
      },
      {
       "output_type": "stream",
       "stream": "stdout",
       "text": [
        "\n",
        "Input files:\n",
        "gS20101102S0100\n",
        "gS20101102S0101\n",
        "gS20101102S0102\n",
        "gS20101102S0103\n",
        "gS20101102S0106\n",
        "gS20101102S0107\n",
        "gS20101102S0108\n",
        "gS20101102S0109\n",
        "gS20101102S0110\n",
        "gS20101102S0111\n",
        "gS20101102S0112\n",
        "gS20101102S0113\n",
        "gS20101102S0114\n",
        "gS20101102S0115\n"
       ]
      },
      {
       "output_type": "stream",
       "stream": "stdout",
       "text": [
        "\n"
       ]
      },
      {
       "output_type": "stream",
       "stream": "stdout",
       "text": [
        "Output files:\n",
        "rgS20101102S0100\n",
        "rgS20101102S0101\n",
        "rgS20101102S0102\n",
        "rgS20101102S0103\n",
        "rgS20101102S0106\n",
        "rgS20101102S0107\n",
        "rgS20101102S0108\n",
        "rgS20101102S0109\n",
        "rgS20101102S0110\n",
        "rgS20101102S0111\n",
        "rgS20101102S0112\n",
        "rgS20101102S0113\n",
        "rgS20101102S0114\n",
        "rgS20101102S0115\n"
       ]
      },
      {
       "output_type": "stream",
       "stream": "stdout",
       "text": [
        "\n"
       ]
      },
      {
       "output_type": "stream",
       "stream": "stdout",
       "text": [
        "WARNING - GIREDUCE: Bad Pixel Mask filename is an empty string\n",
        "                    Only saturated pixels will be flagged\n",
        "GIREDUCE: Image rgS20101102S0100 overscan subtracted"
       ]
      },
      {
       "output_type": "stream",
       "stream": "stdout",
       "text": [
        "\n",
        "GIREDUCE: Image rgS20101102S0101 overscan subtracted"
       ]
      },
      {
       "output_type": "stream",
       "stream": "stdout",
       "text": [
        "\n",
        "GIREDUCE: Image rgS20101102S0102 overscan subtracted"
       ]
      },
      {
       "output_type": "stream",
       "stream": "stdout",
       "text": [
        "\n",
        "GIREDUCE: Image rgS20101102S0103 overscan subtracted"
       ]
      },
      {
       "output_type": "stream",
       "stream": "stdout",
       "text": [
        "\n",
        "GIREDUCE: Image rgS20101102S0106 overscan subtracted"
       ]
      },
      {
       "output_type": "stream",
       "stream": "stdout",
       "text": [
        "\n",
        "GIREDUCE: Image rgS20101102S0107 overscan subtracted"
       ]
      },
      {
       "output_type": "stream",
       "stream": "stdout",
       "text": [
        "\n",
        "GIREDUCE: Image rgS20101102S0108 overscan subtracted"
       ]
      },
      {
       "output_type": "stream",
       "stream": "stdout",
       "text": [
        "\n",
        "GIREDUCE: Image rgS20101102S0109 overscan subtracted"
       ]
      },
      {
       "output_type": "stream",
       "stream": "stdout",
       "text": [
        "\n",
        "GIREDUCE: Image rgS20101102S0110 overscan subtracted"
       ]
      },
      {
       "output_type": "stream",
       "stream": "stdout",
       "text": [
        "\n",
        "GIREDUCE: Image rgS20101102S0111 overscan subtracted"
       ]
      },
      {
       "output_type": "stream",
       "stream": "stdout",
       "text": [
        "\n",
        "GIREDUCE: Image rgS20101102S0112 overscan subtracted"
       ]
      },
      {
       "output_type": "stream",
       "stream": "stdout",
       "text": [
        "\n",
        "GIREDUCE: Image rgS20101102S0113 overscan subtracted"
       ]
      },
      {
       "output_type": "stream",
       "stream": "stdout",
       "text": [
        "\n",
        "GIREDUCE: Image rgS20101102S0114 overscan subtracted"
       ]
      },
      {
       "output_type": "stream",
       "stream": "stdout",
       "text": [
        "\n",
        "GIREDUCE: Image rgS20101102S0115 overscan subtracted"
       ]
      },
      {
       "output_type": "stream",
       "stream": "stdout",
       "text": [
        "\n"
       ]
      },
      {
       "output_type": "stream",
       "stream": "stdout",
       "text": [
        "GIREDUCE: Image rgS20101102S0100 trimmed\n"
       ]
      },
      {
       "output_type": "stream",
       "stream": "stdout",
       "text": [
        "GIREDUCE: Image rgS20101102S0101 trimmed\n"
       ]
      },
      {
       "output_type": "stream",
       "stream": "stdout",
       "text": [
        "GIREDUCE: Image rgS20101102S0102 trimmed\n"
       ]
      },
      {
       "output_type": "stream",
       "stream": "stdout",
       "text": [
        "GIREDUCE: Image rgS20101102S0103 trimmed\n"
       ]
      },
      {
       "output_type": "stream",
       "stream": "stdout",
       "text": [
        "GIREDUCE: Image rgS20101102S0106 trimmed\n"
       ]
      },
      {
       "output_type": "stream",
       "stream": "stdout",
       "text": [
        "GIREDUCE: Image rgS20101102S0107 trimmed\n"
       ]
      },
      {
       "output_type": "stream",
       "stream": "stdout",
       "text": [
        "GIREDUCE: Image rgS20101102S0108 trimmed\n"
       ]
      },
      {
       "output_type": "stream",
       "stream": "stdout",
       "text": [
        "GIREDUCE: Image rgS20101102S0109 trimmed\n"
       ]
      },
      {
       "output_type": "stream",
       "stream": "stdout",
       "text": [
        "GIREDUCE: Image rgS20101102S0110 trimmed\n"
       ]
      },
      {
       "output_type": "stream",
       "stream": "stdout",
       "text": [
        "GIREDUCE: Image rgS20101102S0111 trimmed\n"
       ]
      },
      {
       "output_type": "stream",
       "stream": "stdout",
       "text": [
        "GIREDUCE: Image rgS20101102S0112 trimmed\n"
       ]
      },
      {
       "output_type": "stream",
       "stream": "stdout",
       "text": [
        "GIREDUCE: Image rgS20101102S0113 trimmed\n"
       ]
      },
      {
       "output_type": "stream",
       "stream": "stdout",
       "text": [
        "GIREDUCE: Image rgS20101102S0114 trimmed\n"
       ]
      },
      {
       "output_type": "stream",
       "stream": "stdout",
       "text": [
        "GIREDUCE: Image rgS20101102S0115 trimmed\n",
        "\n",
        "Output image       Bias                 Flat               Dark       Scale \n",
        "rgS20101102S0100   /data/workspace/DRWorkshopAAO/calib/bias/S20101101S0169_bias INDEF              INDEF       0.00\n"
       ]
      },
      {
       "output_type": "stream",
       "stream": "stdout",
       "text": [
        "GIREDUCE: Subtracted bias /data/workspace/DRWorkshopAAO/calib/bias/S20101101S0169_bias from rgS20101102S0100\n"
       ]
      },
      {
       "output_type": "stream",
       "stream": "stdout",
       "text": [
        "GIREDUCE: multiplying image rgS20101102S0100 by gain\n"
       ]
      },
      {
       "output_type": "stream",
       "stream": "stdout",
       "text": [
        "GIREDUCE: output counts in electrons\n",
        "Output image       Bias                 Flat               Dark       Scale "
       ]
      },
      {
       "output_type": "stream",
       "stream": "stdout",
       "text": [
        "\n",
        "rgS20101102S0101   /data/workspace/DRWorkshopAAO/calib/bias/S20101101S0169_bias INDEF              INDEF       0.00\n"
       ]
      },
      {
       "output_type": "stream",
       "stream": "stdout",
       "text": [
        "GIREDUCE: Subtracted bias /data/workspace/DRWorkshopAAO/calib/bias/S20101101S0169_bias from rgS20101102S0101\n"
       ]
      },
      {
       "output_type": "stream",
       "stream": "stdout",
       "text": [
        "GIREDUCE: multiplying image rgS20101102S0101 by gain\n"
       ]
      },
      {
       "output_type": "stream",
       "stream": "stdout",
       "text": [
        "GIREDUCE: output counts in electrons\n",
        "Output image       Bias                 Flat               Dark       Scale "
       ]
      },
      {
       "output_type": "stream",
       "stream": "stdout",
       "text": [
        "\n",
        "rgS20101102S0102   /data/workspace/DRWorkshopAAO/calib/bias/S20101101S0169_bias INDEF              INDEF       0.00\n"
       ]
      },
      {
       "output_type": "stream",
       "stream": "stdout",
       "text": [
        "GIREDUCE: Subtracted bias /data/workspace/DRWorkshopAAO/calib/bias/S20101101S0169_bias from rgS20101102S0102\n"
       ]
      },
      {
       "output_type": "stream",
       "stream": "stdout",
       "text": [
        "GIREDUCE: multiplying image rgS20101102S0102 by gain\n"
       ]
      },
      {
       "output_type": "stream",
       "stream": "stdout",
       "text": [
        "GIREDUCE: output counts in electrons\n",
        "Output image       Bias                 Flat               Dark       Scale "
       ]
      },
      {
       "output_type": "stream",
       "stream": "stdout",
       "text": [
        "\n",
        "rgS20101102S0103   /data/workspace/DRWorkshopAAO/calib/bias/S20101101S0169_bias INDEF              INDEF       0.00\n"
       ]
      },
      {
       "output_type": "stream",
       "stream": "stdout",
       "text": [
        "GIREDUCE: Subtracted bias /data/workspace/DRWorkshopAAO/calib/bias/S20101101S0169_bias from rgS20101102S0103\n"
       ]
      },
      {
       "output_type": "stream",
       "stream": "stdout",
       "text": [
        "GIREDUCE: multiplying image rgS20101102S0103 by gain\n"
       ]
      },
      {
       "output_type": "stream",
       "stream": "stdout",
       "text": [
        "GIREDUCE: output counts in electrons\n",
        "Output image       Bias                 Flat               Dark       Scale "
       ]
      },
      {
       "output_type": "stream",
       "stream": "stdout",
       "text": [
        "\n",
        "rgS20101102S0106   /data/workspace/DRWorkshopAAO/calib/bias/S20101101S0169_bias INDEF              INDEF       0.00\n"
       ]
      },
      {
       "output_type": "stream",
       "stream": "stdout",
       "text": [
        "GIREDUCE: Subtracted bias /data/workspace/DRWorkshopAAO/calib/bias/S20101101S0169_bias from rgS20101102S0106\n"
       ]
      },
      {
       "output_type": "stream",
       "stream": "stdout",
       "text": [
        "GIREDUCE: multiplying image rgS20101102S0106 by gain\n"
       ]
      },
      {
       "output_type": "stream",
       "stream": "stdout",
       "text": [
        "GIREDUCE: output counts in electrons\n",
        "Output image       Bias                 Flat               Dark       Scale "
       ]
      },
      {
       "output_type": "stream",
       "stream": "stdout",
       "text": [
        "\n",
        "rgS20101102S0107   /data/workspace/DRWorkshopAAO/calib/bias/S20101101S0169_bias INDEF              INDEF       0.00\n"
       ]
      },
      {
       "output_type": "stream",
       "stream": "stdout",
       "text": [
        "GIREDUCE: Subtracted bias /data/workspace/DRWorkshopAAO/calib/bias/S20101101S0169_bias from rgS20101102S0107\n"
       ]
      },
      {
       "output_type": "stream",
       "stream": "stdout",
       "text": [
        "GIREDUCE: multiplying image rgS20101102S0107 by gain\n"
       ]
      },
      {
       "output_type": "stream",
       "stream": "stdout",
       "text": [
        "GIREDUCE: output counts in electrons\n",
        "Output image       Bias                 Flat               Dark       Scale "
       ]
      },
      {
       "output_type": "stream",
       "stream": "stdout",
       "text": [
        "\n",
        "rgS20101102S0108   /data/workspace/DRWorkshopAAO/calib/bias/S20101101S0169_bias INDEF              INDEF       0.00\n"
       ]
      },
      {
       "output_type": "stream",
       "stream": "stdout",
       "text": [
        "GIREDUCE: Subtracted bias /data/workspace/DRWorkshopAAO/calib/bias/S20101101S0169_bias from rgS20101102S0108\n"
       ]
      },
      {
       "output_type": "stream",
       "stream": "stdout",
       "text": [
        "GIREDUCE: multiplying image rgS20101102S0108 by gain\n"
       ]
      },
      {
       "output_type": "stream",
       "stream": "stdout",
       "text": [
        "GIREDUCE: output counts in electrons\n",
        "Output image       Bias                 Flat               Dark       Scale "
       ]
      },
      {
       "output_type": "stream",
       "stream": "stdout",
       "text": [
        "\n",
        "rgS20101102S0109   /data/workspace/DRWorkshopAAO/calib/bias/S20101101S0169_bias INDEF              INDEF       0.00\n"
       ]
      },
      {
       "output_type": "stream",
       "stream": "stdout",
       "text": [
        "GIREDUCE: Subtracted bias /data/workspace/DRWorkshopAAO/calib/bias/S20101101S0169_bias from rgS20101102S0109\n"
       ]
      },
      {
       "output_type": "stream",
       "stream": "stdout",
       "text": [
        "GIREDUCE: multiplying image rgS20101102S0109 by gain\n"
       ]
      },
      {
       "output_type": "stream",
       "stream": "stdout",
       "text": [
        "GIREDUCE: output counts in electrons\n",
        "Output image       Bias                 Flat               Dark       Scale "
       ]
      },
      {
       "output_type": "stream",
       "stream": "stdout",
       "text": [
        "\n",
        "rgS20101102S0110   /data/workspace/DRWorkshopAAO/calib/bias/S20101101S0169_bias INDEF              INDEF       0.00\n"
       ]
      },
      {
       "output_type": "stream",
       "stream": "stdout",
       "text": [
        "GIREDUCE: Subtracted bias /data/workspace/DRWorkshopAAO/calib/bias/S20101101S0169_bias from rgS20101102S0110\n"
       ]
      },
      {
       "output_type": "stream",
       "stream": "stdout",
       "text": [
        "GIREDUCE: multiplying image rgS20101102S0110 by gain\n"
       ]
      },
      {
       "output_type": "stream",
       "stream": "stdout",
       "text": [
        "GIREDUCE: output counts in electrons\n",
        "Output image       Bias                 Flat               Dark       Scale "
       ]
      },
      {
       "output_type": "stream",
       "stream": "stdout",
       "text": [
        "\n",
        "rgS20101102S0111   /data/workspace/DRWorkshopAAO/calib/bias/S20101101S0169_bias INDEF              INDEF       0.00\n"
       ]
      },
      {
       "output_type": "stream",
       "stream": "stdout",
       "text": [
        "GIREDUCE: Subtracted bias /data/workspace/DRWorkshopAAO/calib/bias/S20101101S0169_bias from rgS20101102S0111\n"
       ]
      },
      {
       "output_type": "stream",
       "stream": "stdout",
       "text": [
        "GIREDUCE: multiplying image rgS20101102S0111 by gain\n"
       ]
      },
      {
       "output_type": "stream",
       "stream": "stdout",
       "text": [
        "GIREDUCE: output counts in electrons\n",
        "Output image       Bias                 Flat               Dark       Scale "
       ]
      },
      {
       "output_type": "stream",
       "stream": "stdout",
       "text": [
        "\n",
        "rgS20101102S0112   /data/workspace/DRWorkshopAAO/calib/bias/S20101101S0169_bias INDEF              INDEF       0.00\n"
       ]
      },
      {
       "output_type": "stream",
       "stream": "stdout",
       "text": [
        "GIREDUCE: Subtracted bias /data/workspace/DRWorkshopAAO/calib/bias/S20101101S0169_bias from rgS20101102S0112\n"
       ]
      },
      {
       "output_type": "stream",
       "stream": "stdout",
       "text": [
        "GIREDUCE: multiplying image rgS20101102S0112 by gain\n"
       ]
      },
      {
       "output_type": "stream",
       "stream": "stdout",
       "text": [
        "GIREDUCE: output counts in electrons\n",
        "Output image       Bias                 Flat               Dark       Scale "
       ]
      },
      {
       "output_type": "stream",
       "stream": "stdout",
       "text": [
        "\n",
        "rgS20101102S0113   /data/workspace/DRWorkshopAAO/calib/bias/S20101101S0169_bias INDEF              INDEF       0.00\n"
       ]
      },
      {
       "output_type": "stream",
       "stream": "stdout",
       "text": [
        "GIREDUCE: Subtracted bias /data/workspace/DRWorkshopAAO/calib/bias/S20101101S0169_bias from rgS20101102S0113\n"
       ]
      },
      {
       "output_type": "stream",
       "stream": "stdout",
       "text": [
        "GIREDUCE: multiplying image rgS20101102S0113 by gain\n"
       ]
      },
      {
       "output_type": "stream",
       "stream": "stdout",
       "text": [
        "GIREDUCE: output counts in electrons\n",
        "Output image       Bias                 Flat               Dark       Scale "
       ]
      },
      {
       "output_type": "stream",
       "stream": "stdout",
       "text": [
        "\n",
        "rgS20101102S0114   /data/workspace/DRWorkshopAAO/calib/bias/S20101101S0169_bias INDEF              INDEF       0.00\n"
       ]
      },
      {
       "output_type": "stream",
       "stream": "stdout",
       "text": [
        "GIREDUCE: Subtracted bias /data/workspace/DRWorkshopAAO/calib/bias/S20101101S0169_bias from rgS20101102S0114\n"
       ]
      },
      {
       "output_type": "stream",
       "stream": "stdout",
       "text": [
        "GIREDUCE: multiplying image rgS20101102S0114 by gain\n"
       ]
      },
      {
       "output_type": "stream",
       "stream": "stdout",
       "text": [
        "GIREDUCE: output counts in electrons\n",
        "Output image       Bias                 Flat               Dark       Scale "
       ]
      },
      {
       "output_type": "stream",
       "stream": "stdout",
       "text": [
        "\n",
        "rgS20101102S0115   /data/workspace/DRWorkshopAAO/calib/bias/S20101101S0169_bias INDEF              INDEF       0.00\n"
       ]
      },
      {
       "output_type": "stream",
       "stream": "stdout",
       "text": [
        "GIREDUCE: Subtracted bias /data/workspace/DRWorkshopAAO/calib/bias/S20101101S0169_bias from rgS20101102S0115\n"
       ]
      },
      {
       "output_type": "stream",
       "stream": "stdout",
       "text": [
        "GIREDUCE: multiplying image rgS20101102S0115 by gain\n"
       ]
      },
      {
       "output_type": "stream",
       "stream": "stdout",
       "text": [
        "GIREDUCE: output counts in electrons\n"
       ]
      },
      {
       "output_type": "stream",
       "stream": "stdout",
       "text": [
        "\n",
        "GIREDUCE - Cleaning up -- Tue Mar 22 16:33:37 HST 2016\n"
       ]
      },
      {
       "output_type": "stream",
       "stream": "stdout",
       "text": [
        "\n",
        "GIREDUCE -- Tue Mar 22 16:33:37 HST 2016\n",
        "GIREDUCE exit status:  good.\n",
        "----------------------------------------------------------------------------\n"
       ]
      }
     ],
     "prompt_number": 3
    },
    {
     "cell_type": "code",
     "collapsed": false,
     "input": [
      "os.chdir(redux_path)\n",
      "\n",
      "for flatkey in flats.keys():\n",
      "    iraf.imdelete(flats[flatkey]['procflat'], verify='no')\n",
      "    \n",
      "    flatlist = flatkey+'.lis'\n",
      "    procflat = flats[flatkey]['procflat']\n",
      "    \n",
      "    print 'Creating twilight flat ', procflat\n",
      "    \n",
      "    # Create the processed flat\n",
      "    iraf.giflat('rg//@'+flatlist, outflat=procflat, fl_vardq='yes')\n",
      "    \n",
      "    # Copy the processed flat to the calibration directory\n",
      "    shutil.copy(procflat, procflat_path)\n",
      "\n",
      "# The processed flats are:\n",
      "os.listdir(procflat_path)"
     ],
     "language": "python",
     "metadata": {},
     "outputs": [
      {
       "output_type": "stream",
       "stream": "stdout",
       "text": [
        "Creating twilight flat  S20101102S0100_flat_i.fits\n",
        "----------------------------------------------------------------------------\n",
        "GIFLAT -- Tue Mar 22 16:35:12 HST 2016\n",
        " \n",
        "Flat field images = rg//@flat_20101102.lis\n",
        "Output flat field image = S20101102S0100_flat_i.fits\n",
        " \n"
       ]
      },
      {
       "output_type": "stream",
       "stream": "stdout",
       "text": [
        "WARNING - GIFLAT: using previously gireduce'd image: rgS20101102S0100\n"
       ]
      },
      {
       "output_type": "stream",
       "stream": "stdout",
       "text": [
        "WARNING - GIFLAT: using previously gireduce'd image: rgS20101102S0101\n"
       ]
      },
      {
       "output_type": "stream",
       "stream": "stdout",
       "text": [
        "WARNING - GIFLAT: using previously gireduce'd image: rgS20101102S0102\n"
       ]
      },
      {
       "output_type": "stream",
       "stream": "stdout",
       "text": [
        "WARNING - GIFLAT: using previously gireduce'd image: rgS20101102S0103\n"
       ]
      },
      {
       "output_type": "stream",
       "stream": "stdout",
       "text": [
        "WARNING - GIFLAT: using previously gireduce'd image: rgS20101102S0106\n"
       ]
      },
      {
       "output_type": "stream",
       "stream": "stdout",
       "text": [
        "WARNING - GIFLAT: using previously gireduce'd image: rgS20101102S0107\n"
       ]
      },
      {
       "output_type": "stream",
       "stream": "stdout",
       "text": [
        "WARNING - GIFLAT: using previously gireduce'd image: rgS20101102S0108\n"
       ]
      },
      {
       "output_type": "stream",
       "stream": "stdout",
       "text": [
        "WARNING - GIFLAT: using previously gireduce'd image: rgS20101102S0109\n"
       ]
      },
      {
       "output_type": "stream",
       "stream": "stdout",
       "text": [
        "WARNING - GIFLAT: using previously gireduce'd image: rgS20101102S0110\n"
       ]
      },
      {
       "output_type": "stream",
       "stream": "stdout",
       "text": [
        "WARNING - GIFLAT: using previously gireduce'd image: rgS20101102S0111\n"
       ]
      },
      {
       "output_type": "stream",
       "stream": "stdout",
       "text": [
        "WARNING - GIFLAT: using previously gireduce'd image: rgS20101102S0112\n"
       ]
      },
      {
       "output_type": "stream",
       "stream": "stdout",
       "text": [
        "WARNING - GIFLAT: using previously gireduce'd image: rgS20101102S0113\n"
       ]
      },
      {
       "output_type": "stream",
       "stream": "stdout",
       "text": [
        "WARNING - GIFLAT: using previously gireduce'd image: rgS20101102S0114\n"
       ]
      },
      {
       "output_type": "stream",
       "stream": "stdout",
       "text": [
        "WARNING - GIFLAT: using previously gireduce'd image: rgS20101102S0115\n"
       ]
      },
      {
       "output_type": "stream",
       "stream": "stdout",
       "text": [
        "Using input files:\n",
        "rgS20101102S0100\n",
        "rgS20101102S0101\n",
        "rgS20101102S0102\n",
        "rgS20101102S0103\n",
        "rgS20101102S0106\n",
        "rgS20101102S0107\n",
        "rgS20101102S0108\n",
        "rgS20101102S0109\n",
        "rgS20101102S0110\n",
        "rgS20101102S0111\n",
        "rgS20101102S0112\n",
        "rgS20101102S0113\n",
        "rgS20101102S0114\n",
        "rgS20101102S0115\n"
       ]
      },
      {
       "output_type": "stream",
       "stream": "stdout",
       "text": [
        "Using STATSEC: [50:900,50:2250] from CCD2\n",
        "Using NORMSEC: [50:900,50:2250] from CCD2\n"
       ]
      },
      {
       "output_type": "stream",
       "stream": "stdout",
       "text": [
        "GIFLAT: Normalization factor 37394.81\n"
       ]
      },
      {
       "output_type": "stream",
       "stream": "stdout",
       "text": [
        "\n",
        "GIFLAT exit status: good.\n",
        "----------------------------------------------------------------------------\n"
       ]
      },
      {
       "metadata": {},
       "output_type": "pyout",
       "prompt_number": 4,
       "text": [
        "['S20101102S0100_flat_i.fits']"
       ]
      }
     ],
     "prompt_number": 4
    },
    {
     "cell_type": "heading",
     "level": 4,
     "metadata": {},
     "source": [
      "Visually inspect the processed twilight flats"
     ]
    },
    {
     "cell_type": "code",
     "collapsed": false,
     "input": [
      "for flatkey in flats.keys():\n",
      "    iraf.gdisplay(flats[flatkey]['procflat'], 1, fl_paste='yes')"
     ],
     "language": "python",
     "metadata": {},
     "outputs": [
      {
       "output_type": "stream",
       "stream": "stdout",
       "text": [
        "\n",
        "GDISPLAY - Started: 2016-03-22T16:45:02\n",
        "\n"
       ]
      },
      {
       "output_type": "stream",
       "stream": "stdout",
       "text": [
        "GDISPLAY: Temporary image name tmpout89231_503S20101102S0100_flat_i.fits\n",
        "\n",
        "GMULTIAMP - Started: 2016-03-22T16:45:02\n",
        "\n"
       ]
      },
      {
       "output_type": "stream",
       "stream": "stdout",
       "text": [
        "GMULTIAMP: Tiling image...\n"
       ]
      },
      {
       "output_type": "stream",
       "stream": "stdout",
       "text": [
        "               Image tiled.\n"
       ]
      },
      {
       "output_type": "stream",
       "stream": "stdout",
       "text": [
        "\n",
        "GMULTIAMP - Finished: 2016-03-22T16:45:04\n",
        "GMULTIAMP - Exit status: GOOD\n",
        "\n"
       ]
      },
      {
       "output_type": "stream",
       "stream": "stdout",
       "text": [
        "GDISPLAY: Displaying image...\n",
        "\n",
        "GDISPLAY: Starting imexamine - quit with q"
       ]
      },
      {
       "output_type": "stream",
       "stream": "stdout",
       "text": [
        "\n",
        "\n",
        "GDISPLAY - Finished: 2016-03-22T16:45:32\n"
       ]
      },
      {
       "output_type": "stream",
       "stream": "stdout",
       "text": [
        "\n"
       ]
      }
     ],
     "prompt_number": 7
    },
    {
     "cell_type": "heading",
     "level": 2,
     "metadata": {},
     "source": [
      "STEP 6: Process the fringe frame"
     ]
    },
    {
     "cell_type": "code",
     "collapsed": false,
     "input": [
      "os.chdir(redux_path)\n",
      "\n",
      "for fringekey in fringes.keys():\n",
      "    iraf.imdelete('g//@'+fringekey+'.lis', verify='no')\n",
      "    iraf.imdelete('rg//@'+fringekey+'.lis', verify='no')\n",
      "    \n",
      "    fringelist = fringekey+'.lis'\n",
      "    procflat = os.path.join(procflat_path, fringes[fringekey]['fringeflat'])\n",
      "    procbias = os.path.join(procbias_path, fringes[fringekey]['fringebias'])\n",
      "    \n",
      "    print 'Processing raw fringe frames'\n",
      "    \n",
      "    # gprepare, bias correct, and flat field the raw fringe frames\n",
      "    iraf.gireduce('@'+fringelist, rawpath=raw_path, \\\n",
      "                  fl_over='yes', fl_trim='yes', \\\n",
      "                  fl_bias='yes', bias=procbias, \\\n",
      "                  fl_flat='yes', flat1=procflat, \\\n",
      "                  fl_vardq='yes')\n"
     ],
     "language": "python",
     "metadata": {},
     "outputs": [
      {
       "output_type": "stream",
       "stream": "stdout",
       "text": [
        "Processing raw fringe frames\n",
        "----------------------------------------------------------------------------"
       ]
      },
      {
       "output_type": "stream",
       "stream": "stdout",
       "text": [
        "\n",
        "GIREDUCE -- Tue Mar 22 16:54:37 HST 2016\n",
        "\n"
       ]
      },
      {
       "output_type": "stream",
       "stream": "stdout",
       "text": [
        "----------------------------------------------------------------------------\n",
        "GPREPARE -- Tue Mar 22 16:54:37 HST 2016\n",
        "\n",
        "Input list    = S20101111S0028\n",
        "Output list   = \n",
        "Output prefix = g\n",
        "Raw path      = /data/workspace/DRWorkshopAAO/raw/\n",
        "MDF dir       = gmos$data/\n",
        "Add MDF       = no\n",
        "\n"
       ]
      },
      {
       "output_type": "stream",
       "stream": "stdout",
       "text": [
        "Input  /data/workspace/DRWorkshopAAO/raw/S20101111S0028.fits   Output  gS20101111S0028.fits\n"
       ]
      },
      {
       "output_type": "stream",
       "stream": "stdout",
       "text": [
        "\n",
        "GPREPARE exit status: good.\n",
        "----------------------------------------------------------------------------\n"
       ]
      },
      {
       "output_type": "stream",
       "stream": "stdout",
       "text": [
        "----------------------------------------------------------------------------\n",
        "GPREPARE -- Tue Mar 22 16:54:39 HST 2016\n",
        "\n",
        "Input list    = S20101111S0029\n",
        "Output list   = \n",
        "Output prefix = g\n",
        "Raw path      = /data/workspace/DRWorkshopAAO/raw/\n",
        "MDF dir       = gmos$data/\n",
        "Add MDF       = no\n",
        "\n"
       ]
      },
      {
       "output_type": "stream",
       "stream": "stdout",
       "text": [
        "Input  /data/workspace/DRWorkshopAAO/raw/S20101111S0029.fits   Output  gS20101111S0029.fits\n"
       ]
      },
      {
       "output_type": "stream",
       "stream": "stdout",
       "text": [
        "\n",
        "GPREPARE exit status: good.\n",
        "----------------------------------------------------------------------------\n"
       ]
      },
      {
       "output_type": "stream",
       "stream": "stdout",
       "text": [
        "----------------------------------------------------------------------------\n",
        "GPREPARE -- Tue Mar 22 16:54:40 HST 2016\n",
        "\n",
        "Input list    = S20101111S0030\n",
        "Output list   = \n",
        "Output prefix = g\n",
        "Raw path      = /data/workspace/DRWorkshopAAO/raw/\n",
        "MDF dir       = gmos$data/\n",
        "Add MDF       = no\n",
        "\n"
       ]
      },
      {
       "output_type": "stream",
       "stream": "stdout",
       "text": [
        "Input  /data/workspace/DRWorkshopAAO/raw/S20101111S0030.fits   Output  gS20101111S0030.fits\n"
       ]
      },
      {
       "output_type": "stream",
       "stream": "stdout",
       "text": [
        "\n",
        "GPREPARE exit status: good.\n",
        "----------------------------------------------------------------------------\n"
       ]
      },
      {
       "output_type": "stream",
       "stream": "stdout",
       "text": [
        "----------------------------------------------------------------------------\n",
        "GPREPARE -- Tue Mar 22 16:54:41 HST 2016\n",
        "\n",
        "Input list    = S20101111S0040\n",
        "Output list   = \n",
        "Output prefix = g\n",
        "Raw path      = /data/workspace/DRWorkshopAAO/raw/\n",
        "MDF dir       = gmos$data/\n",
        "Add MDF       = no\n",
        "\n"
       ]
      },
      {
       "output_type": "stream",
       "stream": "stdout",
       "text": [
        "Input  /data/workspace/DRWorkshopAAO/raw/S20101111S0040.fits   Output  gS20101111S0040.fits\n"
       ]
      },
      {
       "output_type": "stream",
       "stream": "stdout",
       "text": [
        "\n",
        "GPREPARE exit status: good.\n",
        "----------------------------------------------------------------------------\n"
       ]
      },
      {
       "output_type": "stream",
       "stream": "stdout",
       "text": [
        "----------------------------------------------------------------------------\n",
        "GPREPARE -- Tue Mar 22 16:54:42 HST 2016\n",
        "\n",
        "Input list    = S20101111S0041\n",
        "Output list   = \n",
        "Output prefix = g\n",
        "Raw path      = /data/workspace/DRWorkshopAAO/raw/\n",
        "MDF dir       = gmos$data/\n",
        "Add MDF       = no\n",
        "\n"
       ]
      },
      {
       "output_type": "stream",
       "stream": "stdout",
       "text": [
        "Input  /data/workspace/DRWorkshopAAO/raw/S20101111S0041.fits   Output  gS20101111S0041.fits\n"
       ]
      },
      {
       "output_type": "stream",
       "stream": "stdout",
       "text": [
        "\n",
        "GPREPARE exit status: good.\n",
        "----------------------------------------------------------------------------\n"
       ]
      },
      {
       "output_type": "stream",
       "stream": "stdout",
       "text": [
        "----------------------------------------------------------------------------\n",
        "GPREPARE -- Tue Mar 22 16:54:43 HST 2016\n",
        "\n",
        "Input list    = S20101111S0042\n",
        "Output list   = \n",
        "Output prefix = g\n",
        "Raw path      = /data/workspace/DRWorkshopAAO/raw/\n",
        "MDF dir       = gmos$data/\n",
        "Add MDF       = no\n",
        "\n"
       ]
      },
      {
       "output_type": "stream",
       "stream": "stdout",
       "text": [
        "Input  /data/workspace/DRWorkshopAAO/raw/S20101111S0042.fits   Output  gS20101111S0042.fits\n"
       ]
      },
      {
       "output_type": "stream",
       "stream": "stdout",
       "text": [
        "\n",
        "GPREPARE exit status: good.\n",
        "----------------------------------------------------------------------------\n"
       ]
      },
      {
       "output_type": "stream",
       "stream": "stdout",
       "text": [
        "----------------------------------------------------------------------------\n",
        "GPREPARE -- Tue Mar 22 16:54:44 HST 2016\n",
        "\n",
        "Input list    = S20101111S0043\n",
        "Output list   = \n",
        "Output prefix = g\n",
        "Raw path      = /data/workspace/DRWorkshopAAO/raw/\n",
        "MDF dir       = gmos$data/\n",
        "Add MDF       = no\n",
        "\n"
       ]
      },
      {
       "output_type": "stream",
       "stream": "stdout",
       "text": [
        "Input  /data/workspace/DRWorkshopAAO/raw/S20101111S0043.fits   Output  gS20101111S0043.fits\n"
       ]
      },
      {
       "output_type": "stream",
       "stream": "stdout",
       "text": [
        "\n",
        "GPREPARE exit status: good.\n",
        "----------------------------------------------------------------------------\n"
       ]
      },
      {
       "output_type": "stream",
       "stream": "stdout",
       "text": [
        "\n",
        "Input files:\n",
        "gS20101111S0028\n",
        "gS20101111S0029\n",
        "gS20101111S0030\n",
        "gS20101111S0040\n",
        "gS20101111S0041\n",
        "gS20101111S0042\n",
        "gS20101111S0043\n"
       ]
      },
      {
       "output_type": "stream",
       "stream": "stdout",
       "text": [
        "\n"
       ]
      },
      {
       "output_type": "stream",
       "stream": "stdout",
       "text": [
        "Output files:\n",
        "rgS20101111S0028\n",
        "rgS20101111S0029\n",
        "rgS20101111S0030\n",
        "rgS20101111S0040\n",
        "rgS20101111S0041\n",
        "rgS20101111S0042\n",
        "rgS20101111S0043\n"
       ]
      },
      {
       "output_type": "stream",
       "stream": "stdout",
       "text": [
        "\n"
       ]
      },
      {
       "output_type": "stream",
       "stream": "stdout",
       "text": [
        "WARNING - GIREDUCE: Bad Pixel Mask filename is an empty string\n",
        "                    Only saturated pixels will be flagged\n",
        "GIREDUCE: Image rgS20101111S0028 overscan subtracted"
       ]
      },
      {
       "output_type": "stream",
       "stream": "stdout",
       "text": [
        "\n",
        "GIREDUCE: Image rgS20101111S0029 overscan subtracted"
       ]
      },
      {
       "output_type": "stream",
       "stream": "stdout",
       "text": [
        "\n",
        "GIREDUCE: Image rgS20101111S0030 overscan subtracted"
       ]
      },
      {
       "output_type": "stream",
       "stream": "stdout",
       "text": [
        "\n",
        "GIREDUCE: Image rgS20101111S0040 overscan subtracted"
       ]
      },
      {
       "output_type": "stream",
       "stream": "stdout",
       "text": [
        "\n",
        "GIREDUCE: Image rgS20101111S0041 overscan subtracted"
       ]
      },
      {
       "output_type": "stream",
       "stream": "stdout",
       "text": [
        "\n",
        "GIREDUCE: Image rgS20101111S0042 overscan subtracted"
       ]
      },
      {
       "output_type": "stream",
       "stream": "stdout",
       "text": [
        "\n",
        "GIREDUCE: Image rgS20101111S0043 overscan subtracted"
       ]
      },
      {
       "output_type": "stream",
       "stream": "stdout",
       "text": [
        "\n"
       ]
      },
      {
       "output_type": "stream",
       "stream": "stdout",
       "text": [
        "GIREDUCE: Image rgS20101111S0028 trimmed\n"
       ]
      },
      {
       "output_type": "stream",
       "stream": "stdout",
       "text": [
        "GIREDUCE: Image rgS20101111S0029 trimmed\n"
       ]
      },
      {
       "output_type": "stream",
       "stream": "stdout",
       "text": [
        "GIREDUCE: Image rgS20101111S0030 trimmed\n"
       ]
      },
      {
       "output_type": "stream",
       "stream": "stdout",
       "text": [
        "GIREDUCE: Image rgS20101111S0040 trimmed\n"
       ]
      },
      {
       "output_type": "stream",
       "stream": "stdout",
       "text": [
        "GIREDUCE: Image rgS20101111S0041 trimmed\n"
       ]
      },
      {
       "output_type": "stream",
       "stream": "stdout",
       "text": [
        "GIREDUCE: Image rgS20101111S0042 trimmed\n"
       ]
      },
      {
       "output_type": "stream",
       "stream": "stdout",
       "text": [
        "GIREDUCE: Image rgS20101111S0043 trimmed\n",
        "\n",
        "Output image       Bias                 Flat               Dark       Scale \n",
        "rgS20101111S0028   /data/workspace/DRWorkshopAAO/calib/bias/S20101111S0061_bias /data/workspace/DRWorkshopAAO/calib/flat/S20101102S0100_flat_i INDEF       0.00\n"
       ]
      },
      {
       "output_type": "stream",
       "stream": "stdout",
       "text": [
        "GIREDUCE: Subtracted bias /data/workspace/DRWorkshopAAO/calib/bias/S20101111S0061_bias from rgS20101111S0028\n",
        "GIREDUCE: Divided image rgS20101111S0028 by flatfield /data/workspace/DRWorkshopAAO/calib/flat/S20101102S0100_flat_i\n"
       ]
      },
      {
       "output_type": "stream",
       "stream": "stdout",
       "text": [
        "GIREDUCE: multiplying image rgS20101111S0028 by gain\n"
       ]
      },
      {
       "output_type": "stream",
       "stream": "stdout",
       "text": [
        "GIREDUCE: output counts in electrons\n",
        "Output image       Bias                 Flat               Dark       Scale "
       ]
      },
      {
       "output_type": "stream",
       "stream": "stdout",
       "text": [
        "\n",
        "rgS20101111S0029   /data/workspace/DRWorkshopAAO/calib/bias/S20101111S0061_bias /data/workspace/DRWorkshopAAO/calib/flat/S20101102S0100_flat_i INDEF       0.00\n"
       ]
      },
      {
       "output_type": "stream",
       "stream": "stdout",
       "text": [
        "GIREDUCE: Subtracted bias /data/workspace/DRWorkshopAAO/calib/bias/S20101111S0061_bias from rgS20101111S0029\n",
        "GIREDUCE: Divided image rgS20101111S0029 by flatfield /data/workspace/DRWorkshopAAO/calib/flat/S20101102S0100_flat_i\n"
       ]
      },
      {
       "output_type": "stream",
       "stream": "stdout",
       "text": [
        "GIREDUCE: multiplying image rgS20101111S0029 by gain\n"
       ]
      },
      {
       "output_type": "stream",
       "stream": "stdout",
       "text": [
        "GIREDUCE: output counts in electrons\n",
        "Output image       Bias                 Flat               Dark       Scale "
       ]
      },
      {
       "output_type": "stream",
       "stream": "stdout",
       "text": [
        "\n",
        "rgS20101111S0030   /data/workspace/DRWorkshopAAO/calib/bias/S20101111S0061_bias /data/workspace/DRWorkshopAAO/calib/flat/S20101102S0100_flat_i INDEF       0.00\n"
       ]
      },
      {
       "output_type": "stream",
       "stream": "stdout",
       "text": [
        "GIREDUCE: Subtracted bias /data/workspace/DRWorkshopAAO/calib/bias/S20101111S0061_bias from rgS20101111S0030\n",
        "GIREDUCE: Divided image rgS20101111S0030 by flatfield /data/workspace/DRWorkshopAAO/calib/flat/S20101102S0100_flat_i\n"
       ]
      },
      {
       "output_type": "stream",
       "stream": "stdout",
       "text": [
        "GIREDUCE: multiplying image rgS20101111S0030 by gain\n"
       ]
      },
      {
       "output_type": "stream",
       "stream": "stdout",
       "text": [
        "GIREDUCE: output counts in electrons\n",
        "Output image       Bias                 Flat               Dark       Scale "
       ]
      },
      {
       "output_type": "stream",
       "stream": "stdout",
       "text": [
        "\n",
        "rgS20101111S0040   /data/workspace/DRWorkshopAAO/calib/bias/S20101111S0061_bias /data/workspace/DRWorkshopAAO/calib/flat/S20101102S0100_flat_i INDEF       0.00\n"
       ]
      },
      {
       "output_type": "stream",
       "stream": "stdout",
       "text": [
        "GIREDUCE: Subtracted bias /data/workspace/DRWorkshopAAO/calib/bias/S20101111S0061_bias from rgS20101111S0040\n",
        "GIREDUCE: Divided image rgS20101111S0040 by flatfield /data/workspace/DRWorkshopAAO/calib/flat/S20101102S0100_flat_i\n"
       ]
      },
      {
       "output_type": "stream",
       "stream": "stdout",
       "text": [
        "GIREDUCE: multiplying image rgS20101111S0040 by gain\n"
       ]
      },
      {
       "output_type": "stream",
       "stream": "stdout",
       "text": [
        "GIREDUCE: output counts in electrons\n",
        "Output image       Bias                 Flat               Dark       Scale "
       ]
      },
      {
       "output_type": "stream",
       "stream": "stdout",
       "text": [
        "\n",
        "rgS20101111S0041   /data/workspace/DRWorkshopAAO/calib/bias/S20101111S0061_bias /data/workspace/DRWorkshopAAO/calib/flat/S20101102S0100_flat_i INDEF       0.00\n"
       ]
      },
      {
       "output_type": "stream",
       "stream": "stdout",
       "text": [
        "GIREDUCE: Subtracted bias /data/workspace/DRWorkshopAAO/calib/bias/S20101111S0061_bias from rgS20101111S0041\n",
        "GIREDUCE: Divided image rgS20101111S0041 by flatfield /data/workspace/DRWorkshopAAO/calib/flat/S20101102S0100_flat_i\n"
       ]
      },
      {
       "output_type": "stream",
       "stream": "stdout",
       "text": [
        "GIREDUCE: multiplying image rgS20101111S0041 by gain\n"
       ]
      },
      {
       "output_type": "stream",
       "stream": "stdout",
       "text": [
        "GIREDUCE: output counts in electrons\n",
        "Output image       Bias                 Flat               Dark       Scale "
       ]
      },
      {
       "output_type": "stream",
       "stream": "stdout",
       "text": [
        "\n",
        "rgS20101111S0042   /data/workspace/DRWorkshopAAO/calib/bias/S20101111S0061_bias /data/workspace/DRWorkshopAAO/calib/flat/S20101102S0100_flat_i INDEF       0.00\n"
       ]
      },
      {
       "output_type": "stream",
       "stream": "stdout",
       "text": [
        "GIREDUCE: Subtracted bias /data/workspace/DRWorkshopAAO/calib/bias/S20101111S0061_bias from rgS20101111S0042\n",
        "GIREDUCE: Divided image rgS20101111S0042 by flatfield /data/workspace/DRWorkshopAAO/calib/flat/S20101102S0100_flat_i\n"
       ]
      },
      {
       "output_type": "stream",
       "stream": "stdout",
       "text": [
        "GIREDUCE: multiplying image rgS20101111S0042 by gain\n"
       ]
      },
      {
       "output_type": "stream",
       "stream": "stdout",
       "text": [
        "GIREDUCE: output counts in electrons\n",
        "Output image       Bias                 Flat               Dark       Scale "
       ]
      },
      {
       "output_type": "stream",
       "stream": "stdout",
       "text": [
        "\n",
        "rgS20101111S0043   /data/workspace/DRWorkshopAAO/calib/bias/S20101111S0061_bias /data/workspace/DRWorkshopAAO/calib/flat/S20101102S0100_flat_i INDEF       0.00\n"
       ]
      },
      {
       "output_type": "stream",
       "stream": "stdout",
       "text": [
        "GIREDUCE: Subtracted bias /data/workspace/DRWorkshopAAO/calib/bias/S20101111S0061_bias from rgS20101111S0043\n",
        "GIREDUCE: Divided image rgS20101111S0043 by flatfield /data/workspace/DRWorkshopAAO/calib/flat/S20101102S0100_flat_i\n"
       ]
      },
      {
       "output_type": "stream",
       "stream": "stdout",
       "text": [
        "GIREDUCE: multiplying image rgS20101111S0043 by gain\n"
       ]
      },
      {
       "output_type": "stream",
       "stream": "stdout",
       "text": [
        "GIREDUCE: output counts in electrons\n"
       ]
      },
      {
       "output_type": "stream",
       "stream": "stdout",
       "text": [
        "\n",
        "GIREDUCE - Cleaning up -- Tue Mar 22 16:56:34 HST 2016\n"
       ]
      },
      {
       "output_type": "stream",
       "stream": "stdout",
       "text": [
        "\n",
        "GIREDUCE -- Tue Mar 22 16:56:35 HST 2016\n",
        "GIREDUCE exit status:  good.\n",
        "----------------------------------------------------------------------------\n"
       ]
      }
     ],
     "prompt_number": 12
    },
    {
     "cell_type": "code",
     "collapsed": false,
     "input": [
      "os.chdir(redux_path)\n",
      "\n",
      "for fringekey in fringes.keys():\n",
      "    iraf.imdelete(fringes[fringekey]['procfringe'], verify='no')\n",
      "    \n",
      "    fringelist = fringekey+'.lis'\n",
      "    procfringe = fringes[fringekey]['procfringe']\n",
      "    \n",
      "    print 'Creating fringe frame ', procfringe\n",
      "    \n",
      "    # Create the processed fringe\n",
      "    iraf.gifringe('rg@'+fringelist, outimage=procfringe, fl_vardq='yes')\n",
      "    \n",
      "    # Copy the processed fringe to the calibration directory\n",
      "    shutil.copy(procfringe, procfringe_path)\n",
      "\n",
      "# The processed fringes are:\n",
      "os.listdir(procfringe_path)"
     ],
     "language": "python",
     "metadata": {},
     "outputs": [
      {
       "output_type": "stream",
       "stream": "stdout",
       "text": [
        "Creating fringe frame  S20101111S0028_fringe_i.fits\n",
        "GIFRINGE \n",
        "GIFRINGE ------------------------------------------------------------------\n",
        "GIFRINGE Log opened at [Tue 16:58:00 22-Mar-2016]\n",
        "GIFRINGE \n",
        "GIFRINGE --------------------\n",
        "GIFRINGE Input Parameters:\n",
        "GIFRINGE      inimages       = rg@fringe_20101111.lis\n",
        "GIFRINGE      outimage       = S20101111S0028_fringe_i.fits\n",
        "GIFRINGE      typezero       = mean\n",
        "GIFRINGE      key_zero       = OFFINT\n",
        "GIFRINGE      skyfile        = \n",
        "GIFRINGE      skysec         = default\n",
        "GIFRINGE      msigma         = 4.0\n",
        "GIFRINGE      combine        = median\n",
        "GIFRINGE      bpm            = \n",
        "GIFRINGE      sci_ext        = SCI\n",
        "GIFRINGE      var_ext        = VAR\n",
        "GIFRINGE      dq_ext         = DQ\n",
        "GIFRINGE      fl_vardq       = yes\n",
        "GIFRINGE      logfile        = \n",
        "GIFRINGE      glogpars       = glogpars\n",
        "GIFRINGE      verbose        = yes\n",
        "GIFRINGE      \n",
        "GIFRINGE --------------------\n"
       ]
      },
      {
       "output_type": "stream",
       "stream": "stdout",
       "text": [
        "GIFRINGE Using image section default for zero level statistics\n"
       ]
      },
      {
       "output_type": "stream",
       "stream": "stdout",
       "text": [
        "GIFRINGE: Calculating statistics for tmprgS20101111S002889231_831.fitsdefault\n",
        "GIFRINGE using zero level 8800.967 for image rgS20101111S0028\n"
       ]
      },
      {
       "output_type": "stream",
       "stream": "stdout",
       "text": [
        "GIFRINGE Using image section default for zero level statistics\n"
       ]
      },
      {
       "output_type": "stream",
       "stream": "stdout",
       "text": [
        "GIFRINGE: Calculating statistics for tmprgS20101111S002989231_832.fitsdefault\n",
        "GIFRINGE using zero level 8222.778 for image rgS20101111S0029\n"
       ]
      },
      {
       "output_type": "stream",
       "stream": "stdout",
       "text": [
        "GIFRINGE Using image section default for zero level statistics\n"
       ]
      },
      {
       "output_type": "stream",
       "stream": "stdout",
       "text": [
        "GIFRINGE: Calculating statistics for tmprgS20101111S003089231_833.fitsdefault\n",
        "GIFRINGE using zero level 8031.668 for image rgS20101111S0030\n"
       ]
      },
      {
       "output_type": "stream",
       "stream": "stdout",
       "text": [
        "GIFRINGE Using image section default for zero level statistics\n"
       ]
      },
      {
       "output_type": "stream",
       "stream": "stdout",
       "text": [
        "GIFRINGE: Calculating statistics for tmprgS20101111S004089231_834.fitsdefault\n",
        "GIFRINGE using zero level 7035.189 for image rgS20101111S0040\n"
       ]
      },
      {
       "output_type": "stream",
       "stream": "stdout",
       "text": [
        "GIFRINGE Using image section default for zero level statistics\n"
       ]
      },
      {
       "output_type": "stream",
       "stream": "stdout",
       "text": [
        "GIFRINGE: Calculating statistics for tmprgS20101111S004189231_835.fitsdefault\n",
        "GIFRINGE using zero level 6911.827 for image rgS20101111S0041\n"
       ]
      },
      {
       "output_type": "stream",
       "stream": "stdout",
       "text": [
        "GIFRINGE Using image section default for zero level statistics\n"
       ]
      },
      {
       "output_type": "stream",
       "stream": "stdout",
       "text": [
        "GIFRINGE: Calculating statistics for tmprgS20101111S004289231_836.fitsdefault\n",
        "GIFRINGE using zero level 6795.56 for image rgS20101111S0042\n"
       ]
      },
      {
       "output_type": "stream",
       "stream": "stdout",
       "text": [
        "GIFRINGE Using image section default for zero level statistics\n"
       ]
      },
      {
       "output_type": "stream",
       "stream": "stdout",
       "text": [
        "GIFRINGE: Calculating statistics for tmprgS20101111S004389231_837.fitsdefault\n",
        "GIFRINGE using zero level 6762.747 for image rgS20101111S0043\n"
       ]
      },
      {
       "output_type": "stream",
       "stream": "stdout",
       "text": [
        "GIFRINGE FORK -- Forking to GEMCOMBINE ...\n"
       ]
      },
      {
       "output_type": "stream",
       "stream": "stdout",
       "text": [
        "--------------------------------------------------------------------------------\n",
        "GEMCOMBINE -- Tue Mar 22 16:58:11 HST 2016\n",
        " \n",
        "GEMCOMBINE: input = @tmpcomblist89231_827\n",
        "GEMCOMBINE: output = tmpfringe89231_950\n",
        "GEMCOMBINE: title = \n",
        "GEMCOMBINE: bpmfile = \n",
        "GEMCOMBINE: sci_ext = SCI\n",
        "GEMCOMBINE: var_ext = VAR\n",
        "GEMCOMBINE: dq_ext = DQ\n",
        " \n"
       ]
      },
      {
       "output_type": "stream",
       "stream": "stdout",
       "text": [
        "\n",
        "Mar 22 16:58: IMCOMBINE\n",
        "  combine = median, scale = none, zero = !OFFINT, weight = none\n",
        "  reject = avsigclip, mclip = yes, nkeep = 0\n",
        "  lsigma = 3., hsigma = 3.\n",
        "  blank = 0.\n",
        "  statsec = Mar 22 16:58\n",
        "                Images     Exp    Zero\n",
        "  tmprgS20101111S002889231_831.fits[SCI,1]  300.5  -8801.\n",
        "  tmprgS20101111S002989231_832.fits[SCI,1]  300.5 -8222.8\n",
        "  tmprgS20101111S003089231_833.fits[SCI,1]  300.5 -8031.7\n",
        "  tmprgS20101111S004089231_834.fits[SCI,1]  300.5 -7035.2\n",
        "  tmprgS20101111S004189231_835.fits[SCI,1]  300.5 -6911.8\n",
        "  tmprgS20101111S004289231_836.fits[SCI,1]  300.5 -6795.6\n",
        "  tmprgS20101111S004389231_837.fits[SCI,1]  300.5 -6762.7\n",
        "\n",
        "  Output image = tmpcombout89231_964, ncombine = 7\n"
       ]
      },
      {
       "output_type": "stream",
       "stream": "stdout",
       "text": [
        "\n",
        "Mar 22 16:58: IMCOMBINE\n",
        "  combine = median, scale = none, zero = !OFFINT, weight = none\n",
        "  reject = avsigclip, mclip = yes, nkeep = 0\n",
        "  lsigma = 3., hsigma = 3.\n",
        "  blank = 0.\n",
        "  statsec = Mar 22 16:58\n",
        "                Images     Exp    Zero\n",
        "  tmprgS20101111S002889231_831.fits[SCI,2]  300.5  -8801.\n",
        "  tmprgS20101111S002989231_832.fits[SCI,2]  300.5 -8222.8\n",
        "  tmprgS20101111S003089231_833.fits[SCI,2]  300.5 -8031.7\n",
        "  tmprgS20101111S004089231_834.fits[SCI,2]  300.5 -7035.2\n",
        "  tmprgS20101111S004189231_835.fits[SCI,2]  300.5 -6911.8\n",
        "  tmprgS20101111S004289231_836.fits[SCI,2]  300.5 -6795.6\n",
        "  tmprgS20101111S004389231_837.fits[SCI,2]  300.5 -6762.7\n",
        "\n",
        "  Output image = tmpcombout89231_971, ncombine = 7\n"
       ]
      },
      {
       "output_type": "stream",
       "stream": "stdout",
       "text": [
        "\n",
        "Mar 22 16:58: IMCOMBINE\n",
        "  combine = median, scale = none, zero = !OFFINT, weight = none\n",
        "  reject = avsigclip, mclip = yes, nkeep = 0\n",
        "  lsigma = 3., hsigma = 3.\n",
        "  blank = 0.\n",
        "  statsec = Mar 22 16:58\n",
        "                Images     Exp    Zero\n",
        "  tmprgS20101111S002889231_831.fits[SCI,3]  300.5  -8801.\n",
        "  tmprgS20101111S002989231_832.fits[SCI,3]  300.5 -8222.8\n",
        "  tmprgS20101111S003089231_833.fits[SCI,3]  300.5 -8031.7\n",
        "  tmprgS20101111S004089231_834.fits[SCI,3]  300.5 -7035.2\n",
        "  tmprgS20101111S004189231_835.fits[SCI,3]  300.5 -6911.8\n",
        "  tmprgS20101111S004289231_836.fits[SCI,3]  300.5 -6795.6\n",
        "  tmprgS20101111S004389231_837.fits[SCI,3]  300.5 -6762.7\n",
        "\n",
        "  Output image = tmpcombout89231_975, ncombine = 7\n"
       ]
      },
      {
       "output_type": "stream",
       "stream": "stdout",
       "text": [
        " \n",
        "GEMCOMBINE -- Finished: Tue Mar 22 16:58:18 HST 2016\n",
        " \n",
        "GEMCOMBINE -- Exit status: GOOD\n",
        "--------------------------------------------------------------------------------\n",
        "GIFRINGE FORK -- Returning to GIFRINGE ...\n"
       ]
      },
      {
       "output_type": "stream",
       "stream": "stdout",
       "text": [
        "GIFRINGE FORK -- Forking to GEMARITH ...\n"
       ]
      },
      {
       "output_type": "stream",
       "stream": "stdout",
       "text": [
        "GEMARITH begin (this task relies on gemexpr)\n"
       ]
      },
      {
       "output_type": "stream",
       "stream": "stdout",
       "text": [
        "GEMARITH PHU copy: tmprgS20101111S002889231_831.fits[0] --> tmpsub89231_979[0,APPEND])\n"
       ]
      },
      {
       "output_type": "stream",
       "stream": "stdout",
       "text": [
        "GEMARITH WARNING: 1 at [Tue 16:58:18 22-Mar-2016]\n",
        "GEMARITH WARNING: 1 No work for EXTNAME=VAR, not present in some image operands\n"
       ]
      },
      {
       "output_type": "stream",
       "stream": "stdout",
       "text": [
        "GEMARITH WARNING: 1 at [Tue 16:58:18 22-Mar-2016]\n",
        "GEMARITH WARNING: 1 No work for EXTNAME=DQ, not present in some image operands\n"
       ]
      },
      {
       "output_type": "stream",
       "stream": "stdout",
       "text": [
        "GEMARITH No MDF present in source\n"
       ]
      },
      {
       "output_type": "stream",
       "stream": "stdout",
       "text": [
        "GEMARITH gemarith: done\n"
       ]
      },
      {
       "output_type": "stream",
       "stream": "stdout",
       "text": [
        "GIFRINGE FORK -- Returning to GIFRINGE ...\n"
       ]
      },
      {
       "output_type": "stream",
       "stream": "stdout",
       "text": [
        "GIFRINGE FORK -- Forking to OBJMASKS ...\n"
       ]
      },
      {
       "output_type": "stream",
       "stream": "stdout",
       "text": [
        "GIFRINGE ACE: NOAO/IRAF V2.16 klabrie@rana.local Tue 16:58:19 22-Mar-2016\n",
        "GIFRINGE   Image: tmpsub89231_979.fits[SCI,1][1:1024,1:2304] - Blank Field\n",
        "GIFRINGE   Set sky and sigma:\n",
        "GIFRINGE     Determine sky and sigma by surface fits:\n",
        "GIFRINGE       start line = 51, end line = 2254, step = 100.1\n",
        "GIFRINGE       xorder = 2, yorder = 2, xterms = half\n",
        "GIFRINGE       hclip = 2., lclip = 3.\n",
        "GIFRINGE     Determine sky and sigma by block statistics:\n",
        "GIFRINGE       Number of blocks: 10 23\n",
        "GIFRINGE       Number of pixels per block: 102 102\n",
        "GIFRINGE       Number of subblocks: 20 45\n",
        "GIFRINGE       Number of pixels per subblock: 51 51\n",
        "GIFRINGE   Detect objects:\n",
        "GIFRINGE     Convolution:\n",
        "GIFRINGE            1.      1.      1.\n",
        "GIFRINGE            1.      1.      1.\n",
        "GIFRINGE            1.      1.      1.\n",
        "GIFRINGE     3363 objects detected\n",
        "GIFRINGE   Grow objects: ngrow = 2, agrow = 2.\n",
        "GIFRINGE   Write object mask: tmpmask89231_980.fits[pl]\n"
       ]
      },
      {
       "output_type": "stream",
       "stream": "stdout",
       "text": [
        "GIFRINGE FORK -- Returning to GIFRINGE ...\n"
       ]
      },
      {
       "output_type": "stream",
       "stream": "stdout",
       "text": [
        "GIFRINGE FORK -- Forking to OBJMASKS ...\n"
       ]
      },
      {
       "output_type": "stream",
       "stream": "stdout",
       "text": [
        "GIFRINGE ACE: NOAO/IRAF V2.16 klabrie@rana.local Tue 16:58:20 22-Mar-2016\n",
        "GIFRINGE   Image: tmpsub89231_979.fits[SCI,2][1:1024,1:2304] - Blank Field\n",
        "GIFRINGE   Set sky and sigma:\n",
        "GIFRINGE     Determine sky and sigma by surface fits:\n",
        "GIFRINGE       start line = 51, end line = 2254, step = 100.1\n",
        "GIFRINGE       xorder = 2, yorder = 2, xterms = half\n",
        "GIFRINGE       hclip = 2., lclip = 3.\n",
        "GIFRINGE     Determine sky and sigma by block statistics:\n",
        "GIFRINGE       Number of blocks: 10 23\n",
        "GIFRINGE       Number of pixels per block: 102 102\n",
        "GIFRINGE       Number of subblocks: 20 45\n",
        "GIFRINGE       Number of pixels per subblock: 51 51\n",
        "GIFRINGE   Detect objects:\n",
        "GIFRINGE     Convolution:\n",
        "GIFRINGE            1.      1.      1.\n",
        "GIFRINGE            1.      1.      1.\n",
        "GIFRINGE            1.      1.      1.\n",
        "GIFRINGE     292 objects detected\n",
        "GIFRINGE   Grow objects: ngrow = 2, agrow = 2.\n",
        "GIFRINGE   Write object mask: tmpmask89231_982.fits[pl]\n"
       ]
      },
      {
       "output_type": "stream",
       "stream": "stdout",
       "text": [
        "GIFRINGE FORK -- Returning to GIFRINGE ...\n"
       ]
      },
      {
       "output_type": "stream",
       "stream": "stdout",
       "text": [
        "GIFRINGE FORK -- Forking to OBJMASKS ...\n"
       ]
      },
      {
       "output_type": "stream",
       "stream": "stdout",
       "text": [
        "GIFRINGE ACE: NOAO/IRAF V2.16 klabrie@rana.local Tue 16:58:21 22-Mar-2016\n",
        "GIFRINGE   Image: tmpsub89231_979.fits[SCI,3][1:1024,1:2304] - Blank Field\n",
        "GIFRINGE   Set sky and sigma:\n",
        "GIFRINGE     Determine sky and sigma by surface fits:\n",
        "GIFRINGE       start line = 51, end line = 2254, step = 100.1\n",
        "GIFRINGE       xorder = 2, yorder = 2, xterms = half\n",
        "GIFRINGE       hclip = 2., lclip = 3.\n",
        "GIFRINGE     Determine sky and sigma by block statistics:\n",
        "GIFRINGE       Number of blocks: 10 23\n",
        "GIFRINGE       Number of pixels per block: 102 102\n",
        "GIFRINGE       Number of subblocks: 20 45\n",
        "GIFRINGE       Number of pixels per subblock: 51 51\n",
        "GIFRINGE   Detect objects:\n",
        "GIFRINGE     Convolution:\n",
        "GIFRINGE            1.      1.      1.\n",
        "GIFRINGE            1.      1.      1.\n",
        "GIFRINGE            1.      1.      1.\n",
        "GIFRINGE     6551 objects detected\n",
        "GIFRINGE   Grow objects: ngrow = 2, agrow = 2.\n",
        "GIFRINGE   Write object mask: tmpmask89231_984.fits[pl]\n"
       ]
      },
      {
       "output_type": "stream",
       "stream": "stdout",
       "text": [
        "GIFRINGE FORK -- Returning to GIFRINGE ...\n"
       ]
      },
      {
       "output_type": "stream",
       "stream": "stdout",
       "text": [
        "GIFRINGE FORK -- Forking to GEMARITH ...\n"
       ]
      },
      {
       "output_type": "stream",
       "stream": "stdout",
       "text": [
        "GEMARITH begin (this task relies on gemexpr)\n"
       ]
      },
      {
       "output_type": "stream",
       "stream": "stdout",
       "text": [
        "GEMARITH PHU copy: tmprgS20101111S002989231_832.fits[0] --> tmpsub89231_986[0,APPEND])\n"
       ]
      },
      {
       "output_type": "stream",
       "stream": "stdout",
       "text": [
        "GEMARITH WARNING: 1 at [Tue 16:58:22 22-Mar-2016]\n",
        "GEMARITH WARNING: 1 No work for EXTNAME=VAR, not present in some image operands\n"
       ]
      },
      {
       "output_type": "stream",
       "stream": "stdout",
       "text": [
        "GEMARITH WARNING: 1 at [Tue 16:58:22 22-Mar-2016]\n",
        "GEMARITH WARNING: 1 No work for EXTNAME=DQ, not present in some image operands\n"
       ]
      },
      {
       "output_type": "stream",
       "stream": "stdout",
       "text": [
        "GEMARITH No MDF present in source\n"
       ]
      },
      {
       "output_type": "stream",
       "stream": "stdout",
       "text": [
        "GEMARITH gemarith: done\n"
       ]
      },
      {
       "output_type": "stream",
       "stream": "stdout",
       "text": [
        "GIFRINGE FORK -- Returning to GIFRINGE ...\n"
       ]
      },
      {
       "output_type": "stream",
       "stream": "stdout",
       "text": [
        "GIFRINGE FORK -- Forking to OBJMASKS ...\n"
       ]
      },
      {
       "output_type": "stream",
       "stream": "stdout",
       "text": [
        "GIFRINGE ACE: NOAO/IRAF V2.16 klabrie@rana.local Tue 16:58:22 22-Mar-2016\n",
        "GIFRINGE   Image: tmpsub89231_986.fits[SCI,1][1:1024,1:2304] - Blank Field\n",
        "GIFRINGE   Set sky and sigma:\n",
        "GIFRINGE     Determine sky and sigma by surface fits:\n",
        "GIFRINGE       start line = 51, end line = 2254, step = 100.1\n",
        "GIFRINGE       xorder = 2, yorder = 2, xterms = half\n",
        "GIFRINGE       hclip = 2., lclip = 3.\n",
        "GIFRINGE     Determine sky and sigma by block statistics:\n",
        "GIFRINGE       Number of blocks: 10 23\n",
        "GIFRINGE       Number of pixels per block: 102 102\n",
        "GIFRINGE       Number of subblocks: 20 45\n",
        "GIFRINGE       Number of pixels per subblock: 51 51\n",
        "GIFRINGE   Detect objects:\n",
        "GIFRINGE     Convolution:\n",
        "GIFRINGE            1.      1.      1.\n",
        "GIFRINGE            1.      1.      1.\n",
        "GIFRINGE            1.      1.      1.\n",
        "GIFRINGE     4919 objects detected\n",
        "GIFRINGE   Grow objects: ngrow = 2, agrow = 2.\n",
        "GIFRINGE   Write object mask: tmpmask89231_987.fits[pl]\n"
       ]
      },
      {
       "output_type": "stream",
       "stream": "stdout",
       "text": [
        "GIFRINGE FORK -- Returning to GIFRINGE ...\n"
       ]
      },
      {
       "output_type": "stream",
       "stream": "stdout",
       "text": [
        "GIFRINGE FORK -- Forking to OBJMASKS ...\n"
       ]
      },
      {
       "output_type": "stream",
       "stream": "stdout",
       "text": [
        "GIFRINGE ACE: NOAO/IRAF V2.16 klabrie@rana.local Tue 16:58:23 22-Mar-2016\n",
        "GIFRINGE   Image: tmpsub89231_986.fits[SCI,2][1:1024,1:2304] - Blank Field\n",
        "GIFRINGE   Set sky and sigma:\n",
        "GIFRINGE     Determine sky and sigma by surface fits:\n",
        "GIFRINGE       start line = 51, end line = 2254, step = 100.1\n",
        "GIFRINGE       xorder = 2, yorder = 2, xterms = half\n",
        "GIFRINGE       hclip = 2., lclip = 3.\n",
        "GIFRINGE     Determine sky and sigma by block statistics:\n",
        "GIFRINGE       Number of blocks: 10 23\n",
        "GIFRINGE       Number of pixels per block: 102 102\n",
        "GIFRINGE       Number of subblocks: 20 45\n",
        "GIFRINGE       Number of pixels per subblock: 51 51\n",
        "GIFRINGE   Detect objects:\n",
        "GIFRINGE     Convolution:\n",
        "GIFRINGE            1.      1.      1.\n",
        "GIFRINGE            1.      1.      1.\n",
        "GIFRINGE            1.      1.      1.\n",
        "GIFRINGE     295 objects detected\n",
        "GIFRINGE   Grow objects: ngrow = 2, agrow = 2.\n",
        "GIFRINGE   Write object mask: tmpmask89231_989.fits[pl]\n"
       ]
      },
      {
       "output_type": "stream",
       "stream": "stdout",
       "text": [
        "GIFRINGE FORK -- Returning to GIFRINGE ...\n"
       ]
      },
      {
       "output_type": "stream",
       "stream": "stdout",
       "text": [
        "GIFRINGE FORK -- Forking to OBJMASKS ...\n"
       ]
      },
      {
       "output_type": "stream",
       "stream": "stdout",
       "text": [
        "GIFRINGE ACE: NOAO/IRAF V2.16 klabrie@rana.local Tue 16:58:24 22-Mar-2016\n",
        "GIFRINGE   Image: tmpsub89231_986.fits[SCI,3][1:1024,1:2304] - Blank Field\n",
        "GIFRINGE   Set sky and sigma:\n",
        "GIFRINGE     Determine sky and sigma by surface fits:\n",
        "GIFRINGE       start line = 51, end line = 2254, step = 100.1\n",
        "GIFRINGE       xorder = 2, yorder = 2, xterms = half\n",
        "GIFRINGE       hclip = 2., lclip = 3.\n",
        "GIFRINGE     Determine sky and sigma by block statistics:\n",
        "GIFRINGE       Number of blocks: 10 23\n",
        "GIFRINGE       Number of pixels per block: 102 102\n",
        "GIFRINGE       Number of subblocks: 20 45\n",
        "GIFRINGE       Number of pixels per subblock: 51 51\n",
        "GIFRINGE   Detect objects:\n",
        "GIFRINGE     Convolution:\n",
        "GIFRINGE            1.      1.      1.\n",
        "GIFRINGE            1.      1.      1.\n",
        "GIFRINGE            1.      1.      1.\n",
        "GIFRINGE     7292 objects detected\n",
        "GIFRINGE   Grow objects: ngrow = 2, agrow = 2.\n",
        "GIFRINGE   Write object mask: tmpmask89231_991.fits[pl]\n"
       ]
      },
      {
       "output_type": "stream",
       "stream": "stdout",
       "text": [
        "GIFRINGE FORK -- Returning to GIFRINGE ...\n"
       ]
      },
      {
       "output_type": "stream",
       "stream": "stdout",
       "text": [
        "GIFRINGE FORK -- Forking to GEMARITH ...\n"
       ]
      },
      {
       "output_type": "stream",
       "stream": "stdout",
       "text": [
        "GEMARITH begin (this task relies on gemexpr)\n"
       ]
      },
      {
       "output_type": "stream",
       "stream": "stdout",
       "text": [
        "GEMARITH PHU copy: tmprgS20101111S003089231_833.fits[0] --> tmpsub89231_993[0,APPEND])\n"
       ]
      },
      {
       "output_type": "stream",
       "stream": "stdout",
       "text": [
        "GEMARITH WARNING: 1 at [Tue 16:58:26 22-Mar-2016]\n",
        "GEMARITH WARNING: 1 No work for EXTNAME=VAR, not present in some image operands\n"
       ]
      },
      {
       "output_type": "stream",
       "stream": "stdout",
       "text": [
        "GEMARITH WARNING: 1 at [Tue 16:58:26 22-Mar-2016]\n",
        "GEMARITH WARNING: 1 No work for EXTNAME=DQ, not present in some image operands\n"
       ]
      },
      {
       "output_type": "stream",
       "stream": "stdout",
       "text": [
        "GEMARITH No MDF present in source\n"
       ]
      },
      {
       "output_type": "stream",
       "stream": "stdout",
       "text": [
        "GEMARITH gemarith: done\n"
       ]
      },
      {
       "output_type": "stream",
       "stream": "stdout",
       "text": [
        "GIFRINGE FORK -- Returning to GIFRINGE ...\n"
       ]
      },
      {
       "output_type": "stream",
       "stream": "stdout",
       "text": [
        "GIFRINGE FORK -- Forking to OBJMASKS ...\n"
       ]
      },
      {
       "output_type": "stream",
       "stream": "stdout",
       "text": [
        "GIFRINGE ACE: NOAO/IRAF V2.16 klabrie@rana.local Tue 16:58:26 22-Mar-2016\n",
        "GIFRINGE   Image: tmpsub89231_993.fits[SCI,1][1:1024,1:2304] - Blank Field\n",
        "GIFRINGE   Set sky and sigma:\n",
        "GIFRINGE     Determine sky and sigma by surface fits:\n",
        "GIFRINGE       start line = 51, end line = 2254, step = 100.1\n",
        "GIFRINGE       xorder = 2, yorder = 2, xterms = half\n",
        "GIFRINGE       hclip = 2., lclip = 3.\n",
        "GIFRINGE     Determine sky and sigma by block statistics:\n",
        "GIFRINGE       Number of blocks: 10 23\n",
        "GIFRINGE       Number of pixels per block: 102 102\n",
        "GIFRINGE       Number of subblocks: 20 45\n",
        "GIFRINGE       Number of pixels per subblock: 51 51\n",
        "GIFRINGE   Detect objects:\n",
        "GIFRINGE     Convolution:\n",
        "GIFRINGE            1.      1.      1.\n",
        "GIFRINGE            1.      1.      1.\n",
        "GIFRINGE            1.      1.      1.\n",
        "GIFRINGE     5413 objects detected\n",
        "GIFRINGE   Grow objects: ngrow = 2, agrow = 2.\n",
        "GIFRINGE   Write object mask: tmpmask89231_994.fits[pl]\n"
       ]
      },
      {
       "output_type": "stream",
       "stream": "stdout",
       "text": [
        "GIFRINGE FORK -- Returning to GIFRINGE ...\n"
       ]
      },
      {
       "output_type": "stream",
       "stream": "stdout",
       "text": [
        "GIFRINGE FORK -- Forking to OBJMASKS ...\n"
       ]
      },
      {
       "output_type": "stream",
       "stream": "stdout",
       "text": [
        "GIFRINGE ACE: NOAO/IRAF V2.16 klabrie@rana.local Tue 16:58:27 22-Mar-2016\n",
        "GIFRINGE   Image: tmpsub89231_993.fits[SCI,2][1:1024,1:2304] - Blank Field\n",
        "GIFRINGE   Set sky and sigma:\n",
        "GIFRINGE     Determine sky and sigma by surface fits:\n",
        "GIFRINGE       start line = 51, end line = 2254, step = 100.1\n",
        "GIFRINGE       xorder = 2, yorder = 2, xterms = half\n",
        "GIFRINGE       hclip = 2., lclip = 3.\n",
        "GIFRINGE     Determine sky and sigma by block statistics:\n",
        "GIFRINGE       Number of blocks: 10 23\n",
        "GIFRINGE       Number of pixels per block: 102 102\n",
        "GIFRINGE       Number of subblocks: 20 45\n",
        "GIFRINGE       Number of pixels per subblock: 51 51\n",
        "GIFRINGE   Detect objects:\n",
        "GIFRINGE     Convolution:\n",
        "GIFRINGE            1.      1.      1.\n",
        "GIFRINGE            1.      1.      1.\n",
        "GIFRINGE            1.      1.      1.\n",
        "GIFRINGE     326 objects detected\n",
        "GIFRINGE   Grow objects: ngrow = 2, agrow = 2.\n",
        "GIFRINGE   Write object mask: tmpmask89231_996.fits[pl]\n"
       ]
      },
      {
       "output_type": "stream",
       "stream": "stdout",
       "text": [
        "GIFRINGE FORK -- Returning to GIFRINGE ...\n"
       ]
      },
      {
       "output_type": "stream",
       "stream": "stdout",
       "text": [
        "GIFRINGE FORK -- Forking to OBJMASKS ...\n"
       ]
      },
      {
       "output_type": "stream",
       "stream": "stdout",
       "text": [
        "GIFRINGE ACE: NOAO/IRAF V2.16 klabrie@rana.local Tue 16:58:28 22-Mar-2016\n",
        "GIFRINGE   Image: tmpsub89231_993.fits[SCI,3][1:1024,1:2304] - Blank Field\n",
        "GIFRINGE   Set sky and sigma:\n",
        "GIFRINGE     Determine sky and sigma by surface fits:\n",
        "GIFRINGE       start line = 51, end line = 2254, step = 100.1\n",
        "GIFRINGE       xorder = 2, yorder = 2, xterms = half\n",
        "GIFRINGE       hclip = 2., lclip = 3.\n",
        "GIFRINGE     Determine sky and sigma by block statistics:\n",
        "GIFRINGE       Number of blocks: 10 23\n",
        "GIFRINGE       Number of pixels per block: 102 102\n",
        "GIFRINGE       Number of subblocks: 20 45\n",
        "GIFRINGE       Number of pixels per subblock: 51 51\n",
        "GIFRINGE   Detect objects:\n",
        "GIFRINGE     Convolution:\n",
        "GIFRINGE            1.      1.      1.\n",
        "GIFRINGE            1.      1.      1.\n",
        "GIFRINGE            1.      1.      1.\n",
        "GIFRINGE     7062 objects detected\n",
        "GIFRINGE   Grow objects: ngrow = 2, agrow = 2.\n",
        "GIFRINGE   Write object mask: tmpmask89231_998.fits[pl]\n"
       ]
      },
      {
       "output_type": "stream",
       "stream": "stdout",
       "text": [
        "GIFRINGE FORK -- Returning to GIFRINGE ...\n"
       ]
      },
      {
       "output_type": "stream",
       "stream": "stdout",
       "text": [
        "GIFRINGE FORK -- Forking to GEMARITH ...\n"
       ]
      },
      {
       "output_type": "stream",
       "stream": "stdout",
       "text": [
        "GEMARITH begin (this task relies on gemexpr)\n"
       ]
      },
      {
       "output_type": "stream",
       "stream": "stdout",
       "text": [
        "GEMARITH PHU copy: tmprgS20101111S004089231_834.fits[0] --> tmpsub89231_1000[0,APPEND])\n"
       ]
      },
      {
       "output_type": "stream",
       "stream": "stdout",
       "text": [
        "GEMARITH WARNING: 1 at [Tue 16:58:30 22-Mar-2016]\n",
        "GEMARITH WARNING: 1 No work for EXTNAME=VAR, not present in some image operands\n"
       ]
      },
      {
       "output_type": "stream",
       "stream": "stdout",
       "text": [
        "GEMARITH WARNING: 1 at [Tue 16:58:30 22-Mar-2016]\n",
        "GEMARITH WARNING: 1 No work for EXTNAME=DQ, not present in some image operands\n"
       ]
      },
      {
       "output_type": "stream",
       "stream": "stdout",
       "text": [
        "GEMARITH No MDF present in source\n"
       ]
      },
      {
       "output_type": "stream",
       "stream": "stdout",
       "text": [
        "GEMARITH gemarith: done\n"
       ]
      },
      {
       "output_type": "stream",
       "stream": "stdout",
       "text": [
        "GIFRINGE FORK -- Returning to GIFRINGE ...\n"
       ]
      },
      {
       "output_type": "stream",
       "stream": "stdout",
       "text": [
        "GIFRINGE FORK -- Forking to OBJMASKS ...\n"
       ]
      },
      {
       "output_type": "stream",
       "stream": "stdout",
       "text": [
        "GIFRINGE ACE: NOAO/IRAF V2.16 klabrie@rana.local Tue 16:58:30 22-Mar-2016\n",
        "GIFRINGE   Image: tmpsub89231_1000.fits[SCI,1][1:1024,1:2304] - Blank Field\n",
        "GIFRINGE   Set sky and sigma:\n",
        "GIFRINGE     Determine sky and sigma by surface fits:\n",
        "GIFRINGE       start line = 51, end line = 2254, step = 100.1\n",
        "GIFRINGE       xorder = 2, yorder = 2, xterms = half\n",
        "GIFRINGE       hclip = 2., lclip = 3.\n",
        "GIFRINGE     Determine sky and sigma by block statistics:\n",
        "GIFRINGE       Number of blocks: 10 23\n",
        "GIFRINGE       Number of pixels per block: 102 102\n",
        "GIFRINGE       Number of subblocks: 20 45\n",
        "GIFRINGE       Number of pixels per subblock: 51 51\n",
        "GIFRINGE   Detect objects:\n",
        "GIFRINGE     Convolution:\n",
        "GIFRINGE            1.      1.      1.\n",
        "GIFRINGE            1.      1.      1.\n",
        "GIFRINGE            1.      1.      1.\n",
        "GIFRINGE     8122 objects detected\n",
        "GIFRINGE   Grow objects: ngrow = 2, agrow = 2.\n",
        "GIFRINGE   Write object mask: tmpmask89231_1001.fits[pl]\n"
       ]
      },
      {
       "output_type": "stream",
       "stream": "stdout",
       "text": [
        "GIFRINGE FORK -- Returning to GIFRINGE ...\n"
       ]
      },
      {
       "output_type": "stream",
       "stream": "stdout",
       "text": [
        "GIFRINGE FORK -- Forking to OBJMASKS ...\n"
       ]
      },
      {
       "output_type": "stream",
       "stream": "stdout",
       "text": [
        "GIFRINGE ACE: NOAO/IRAF V2.16 klabrie@rana.local Tue 16:58:31 22-Mar-2016\n",
        "GIFRINGE   Image: tmpsub89231_1000.fits[SCI,2][1:1024,1:2304] - Blank Field\n",
        "GIFRINGE   Set sky and sigma:\n",
        "GIFRINGE     Determine sky and sigma by surface fits:\n",
        "GIFRINGE       start line = 51, end line = 2254, step = 100.1\n",
        "GIFRINGE       xorder = 2, yorder = 2, xterms = half\n",
        "GIFRINGE       hclip = 2., lclip = 3.\n",
        "GIFRINGE     Determine sky and sigma by block statistics:\n",
        "GIFRINGE       Number of blocks: 10 23\n",
        "GIFRINGE       Number of pixels per block: 102 102\n",
        "GIFRINGE       Number of subblocks: 20 45\n",
        "GIFRINGE       Number of pixels per subblock: 51 51\n",
        "GIFRINGE   Detect objects:\n",
        "GIFRINGE     Convolution:\n",
        "GIFRINGE            1.      1.      1.\n",
        "GIFRINGE            1.      1.      1.\n",
        "GIFRINGE            1.      1.      1.\n",
        "GIFRINGE     305 objects detected\n",
        "GIFRINGE   Grow objects: ngrow = 2, agrow = 2.\n",
        "GIFRINGE   Write object mask: tmpmask89231_1003.fits[pl]\n"
       ]
      },
      {
       "output_type": "stream",
       "stream": "stdout",
       "text": [
        "GIFRINGE FORK -- Returning to GIFRINGE ...\n"
       ]
      },
      {
       "output_type": "stream",
       "stream": "stdout",
       "text": [
        "GIFRINGE FORK -- Forking to OBJMASKS ...\n"
       ]
      },
      {
       "output_type": "stream",
       "stream": "stdout",
       "text": [
        "GIFRINGE ACE: NOAO/IRAF V2.16 klabrie@rana.local Tue 16:58:32 22-Mar-2016\n",
        "GIFRINGE   Image: tmpsub89231_1000.fits[SCI,3][1:1024,1:2304] - Blank Field\n",
        "GIFRINGE   Set sky and sigma:\n",
        "GIFRINGE     Determine sky and sigma by surface fits:\n",
        "GIFRINGE       start line = 51, end line = 2254, step = 100.1\n",
        "GIFRINGE       xorder = 2, yorder = 2, xterms = half\n",
        "GIFRINGE       hclip = 2., lclip = 3.\n",
        "GIFRINGE     Determine sky and sigma by block statistics:\n",
        "GIFRINGE       Number of blocks: 10 23\n",
        "GIFRINGE       Number of pixels per block: 102 102\n",
        "GIFRINGE       Number of subblocks: 20 45\n",
        "GIFRINGE       Number of pixels per subblock: 51 51\n",
        "GIFRINGE   Detect objects:\n",
        "GIFRINGE     Convolution:\n",
        "GIFRINGE            1.      1.      1.\n",
        "GIFRINGE            1.      1.      1.\n",
        "GIFRINGE            1.      1.      1.\n",
        "GIFRINGE     5522 objects detected\n",
        "GIFRINGE   Grow objects: ngrow = 2, agrow = 2.\n",
        "GIFRINGE   Write object mask: tmpmask89231_1005.fits[pl]\n"
       ]
      },
      {
       "output_type": "stream",
       "stream": "stdout",
       "text": [
        "GIFRINGE FORK -- Returning to GIFRINGE ...\n"
       ]
      },
      {
       "output_type": "stream",
       "stream": "stdout",
       "text": [
        "GIFRINGE FORK -- Forking to GEMARITH ...\n"
       ]
      },
      {
       "output_type": "stream",
       "stream": "stdout",
       "text": [
        "GEMARITH begin (this task relies on gemexpr)\n"
       ]
      },
      {
       "output_type": "stream",
       "stream": "stdout",
       "text": [
        "GEMARITH PHU copy: tmprgS20101111S004189231_835.fits[0] --> tmpsub89231_1007[0,APPEND])\n"
       ]
      },
      {
       "output_type": "stream",
       "stream": "stdout",
       "text": [
        "GEMARITH WARNING: 1 at [Tue 16:58:34 22-Mar-2016]\n",
        "GEMARITH WARNING: 1 No work for EXTNAME=VAR, not present in some image operands\n"
       ]
      },
      {
       "output_type": "stream",
       "stream": "stdout",
       "text": [
        "GEMARITH WARNING: 1 at [Tue 16:58:34 22-Mar-2016]\n",
        "GEMARITH WARNING: 1 No work for EXTNAME=DQ, not present in some image operands\n"
       ]
      },
      {
       "output_type": "stream",
       "stream": "stdout",
       "text": [
        "GEMARITH No MDF present in source\n"
       ]
      },
      {
       "output_type": "stream",
       "stream": "stdout",
       "text": [
        "GEMARITH gemarith: done\n"
       ]
      },
      {
       "output_type": "stream",
       "stream": "stdout",
       "text": [
        "GIFRINGE FORK -- Returning to GIFRINGE ...\n"
       ]
      },
      {
       "output_type": "stream",
       "stream": "stdout",
       "text": [
        "GIFRINGE FORK -- Forking to OBJMASKS ...\n"
       ]
      },
      {
       "output_type": "stream",
       "stream": "stdout",
       "text": [
        "GIFRINGE ACE: NOAO/IRAF V2.16 klabrie@rana.local Tue 16:58:34 22-Mar-2016\n",
        "GIFRINGE   Image: tmpsub89231_1007.fits[SCI,1][1:1024,1:2304] - Blank Field\n",
        "GIFRINGE   Set sky and sigma:\n",
        "GIFRINGE     Determine sky and sigma by surface fits:\n",
        "GIFRINGE       start line = 51, end line = 2254, step = 100.1\n",
        "GIFRINGE       xorder = 2, yorder = 2, xterms = half\n",
        "GIFRINGE       hclip = 2., lclip = 3.\n",
        "GIFRINGE     Determine sky and sigma by block statistics:\n",
        "GIFRINGE       Number of blocks: 10 23\n",
        "GIFRINGE       Number of pixels per block: 102 102\n",
        "GIFRINGE       Number of subblocks: 20 45\n",
        "GIFRINGE       Number of pixels per subblock: 51 51\n",
        "GIFRINGE   Detect objects:\n",
        "GIFRINGE     Convolution:\n",
        "GIFRINGE            1.      1.      1.\n",
        "GIFRINGE            1.      1.      1.\n",
        "GIFRINGE            1.      1.      1.\n",
        "GIFRINGE     8070 objects detected\n",
        "GIFRINGE   Grow objects: ngrow = 2, agrow = 2.\n",
        "GIFRINGE   Write object mask: tmpmask89231_1008.fits[pl]\n"
       ]
      },
      {
       "output_type": "stream",
       "stream": "stdout",
       "text": [
        "GIFRINGE FORK -- Returning to GIFRINGE ...\n"
       ]
      },
      {
       "output_type": "stream",
       "stream": "stdout",
       "text": [
        "GIFRINGE FORK -- Forking to OBJMASKS ...\n"
       ]
      },
      {
       "output_type": "stream",
       "stream": "stdout",
       "text": [
        "GIFRINGE ACE: NOAO/IRAF V2.16 klabrie@rana.local Tue 16:58:35 22-Mar-2016\n",
        "GIFRINGE   Image: tmpsub89231_1007.fits[SCI,2][1:1024,1:2304] - Blank Field\n",
        "GIFRINGE   Set sky and sigma:\n",
        "GIFRINGE     Determine sky and sigma by surface fits:\n",
        "GIFRINGE       start line = 51, end line = 2254, step = 100.1\n",
        "GIFRINGE       xorder = 2, yorder = 2, xterms = half\n",
        "GIFRINGE       hclip = 2., lclip = 3.\n",
        "GIFRINGE     Determine sky and sigma by block statistics:\n",
        "GIFRINGE       Number of blocks: 10 23\n",
        "GIFRINGE       Number of pixels per block: 102 102\n",
        "GIFRINGE       Number of subblocks: 20 45\n",
        "GIFRINGE       Number of pixels per subblock: 51 51\n",
        "GIFRINGE   Detect objects:\n",
        "GIFRINGE     Convolution:\n",
        "GIFRINGE            1.      1.      1.\n",
        "GIFRINGE            1.      1.      1.\n",
        "GIFRINGE            1.      1.      1.\n",
        "GIFRINGE     282 objects detected\n",
        "GIFRINGE   Grow objects: ngrow = 2, agrow = 2.\n",
        "GIFRINGE   Write object mask: tmpmask89231_1010.fits[pl]\n"
       ]
      },
      {
       "output_type": "stream",
       "stream": "stdout",
       "text": [
        "GIFRINGE FORK -- Returning to GIFRINGE ...\n"
       ]
      },
      {
       "output_type": "stream",
       "stream": "stdout",
       "text": [
        "GIFRINGE FORK -- Forking to OBJMASKS ...\n"
       ]
      },
      {
       "output_type": "stream",
       "stream": "stdout",
       "text": [
        "GIFRINGE ACE: NOAO/IRAF V2.16 klabrie@rana.local Tue 16:58:36 22-Mar-2016\n",
        "GIFRINGE   Image: tmpsub89231_1007.fits[SCI,3][1:1024,1:2304] - Blank Field\n",
        "GIFRINGE   Set sky and sigma:\n",
        "GIFRINGE     Determine sky and sigma by surface fits:\n",
        "GIFRINGE       start line = 51, end line = 2254, step = 100.1\n",
        "GIFRINGE       xorder = 2, yorder = 2, xterms = half\n",
        "GIFRINGE       hclip = 2., lclip = 3.\n",
        "GIFRINGE     Determine sky and sigma by block statistics:\n",
        "GIFRINGE       Number of blocks: 10 23\n",
        "GIFRINGE       Number of pixels per block: 102 102\n",
        "GIFRINGE       Number of subblocks: 20 45\n",
        "GIFRINGE       Number of pixels per subblock: 51 51\n",
        "GIFRINGE   Detect objects:\n",
        "GIFRINGE     Convolution:\n",
        "GIFRINGE            1.      1.      1.\n",
        "GIFRINGE            1.      1.      1.\n",
        "GIFRINGE            1.      1.      1.\n",
        "GIFRINGE     5462 objects detected\n",
        "GIFRINGE   Grow objects: ngrow = 2, agrow = 2.\n",
        "GIFRINGE   Write object mask: tmpmask89231_1012.fits[pl]\n"
       ]
      },
      {
       "output_type": "stream",
       "stream": "stdout",
       "text": [
        "GIFRINGE FORK -- Returning to GIFRINGE ...\n"
       ]
      },
      {
       "output_type": "stream",
       "stream": "stdout",
       "text": [
        "GIFRINGE FORK -- Forking to GEMARITH ...\n"
       ]
      },
      {
       "output_type": "stream",
       "stream": "stdout",
       "text": [
        "GEMARITH begin (this task relies on gemexpr)\n"
       ]
      },
      {
       "output_type": "stream",
       "stream": "stdout",
       "text": [
        "GEMARITH PHU copy: tmprgS20101111S004289231_836.fits[0] --> tmpsub89231_1014[0,APPEND])\n"
       ]
      },
      {
       "output_type": "stream",
       "stream": "stdout",
       "text": [
        "GEMARITH WARNING: 1 at [Tue 16:58:38 22-Mar-2016]\n",
        "GEMARITH WARNING: 1 No work for EXTNAME=VAR, not present in some image operands\n"
       ]
      },
      {
       "output_type": "stream",
       "stream": "stdout",
       "text": [
        "GEMARITH WARNING: 1 at [Tue 16:58:38 22-Mar-2016]\n",
        "GEMARITH WARNING: 1 No work for EXTNAME=DQ, not present in some image operands\n"
       ]
      },
      {
       "output_type": "stream",
       "stream": "stdout",
       "text": [
        "GEMARITH No MDF present in source\n"
       ]
      },
      {
       "output_type": "stream",
       "stream": "stdout",
       "text": [
        "GEMARITH gemarith: done\n"
       ]
      },
      {
       "output_type": "stream",
       "stream": "stdout",
       "text": [
        "GIFRINGE FORK -- Returning to GIFRINGE ...\n"
       ]
      },
      {
       "output_type": "stream",
       "stream": "stdout",
       "text": [
        "GIFRINGE FORK -- Forking to OBJMASKS ...\n"
       ]
      },
      {
       "output_type": "stream",
       "stream": "stdout",
       "text": [
        "GIFRINGE ACE: NOAO/IRAF V2.16 klabrie@rana.local Tue 16:58:38 22-Mar-2016\n",
        "GIFRINGE   Image: tmpsub89231_1014.fits[SCI,1][1:1024,1:2304] - Blank Field\n",
        "GIFRINGE   Set sky and sigma:\n",
        "GIFRINGE     Determine sky and sigma by surface fits:\n",
        "GIFRINGE       start line = 51, end line = 2254, step = 100.1\n",
        "GIFRINGE       xorder = 2, yorder = 2, xterms = half\n",
        "GIFRINGE       hclip = 2., lclip = 3.\n",
        "GIFRINGE     Determine sky and sigma by block statistics:\n",
        "GIFRINGE       Number of blocks: 10 23\n",
        "GIFRINGE       Number of pixels per block: 102 102\n",
        "GIFRINGE       Number of subblocks: 20 45\n",
        "GIFRINGE       Number of pixels per subblock: 51 51\n",
        "GIFRINGE   Detect objects:\n",
        "GIFRINGE     Convolution:\n",
        "GIFRINGE            1.      1.      1.\n",
        "GIFRINGE            1.      1.      1.\n",
        "GIFRINGE            1.      1.      1.\n",
        "GIFRINGE     7904 objects detected\n",
        "GIFRINGE   Grow objects: ngrow = 2, agrow = 2.\n",
        "GIFRINGE   Write object mask: tmpmask89231_1015.fits[pl]\n"
       ]
      },
      {
       "output_type": "stream",
       "stream": "stdout",
       "text": [
        "GIFRINGE FORK -- Returning to GIFRINGE ...\n"
       ]
      },
      {
       "output_type": "stream",
       "stream": "stdout",
       "text": [
        "GIFRINGE FORK -- Forking to OBJMASKS ...\n"
       ]
      },
      {
       "output_type": "stream",
       "stream": "stdout",
       "text": [
        "GIFRINGE ACE: NOAO/IRAF V2.16 klabrie@rana.local Tue 16:58:39 22-Mar-2016\n",
        "GIFRINGE   Image: tmpsub89231_1014.fits[SCI,2][1:1024,1:2304] - Blank Field\n",
        "GIFRINGE   Set sky and sigma:\n",
        "GIFRINGE     Determine sky and sigma by surface fits:\n",
        "GIFRINGE       start line = 51, end line = 2254, step = 100.1\n",
        "GIFRINGE       xorder = 2, yorder = 2, xterms = half\n",
        "GIFRINGE       hclip = 2., lclip = 3.\n",
        "GIFRINGE     Determine sky and sigma by block statistics:\n",
        "GIFRINGE       Number of blocks: 10 23\n",
        "GIFRINGE       Number of pixels per block: 102 102\n",
        "GIFRINGE       Number of subblocks: 20 45\n",
        "GIFRINGE       Number of pixels per subblock: 51 51\n",
        "GIFRINGE   Detect objects:\n",
        "GIFRINGE     Convolution:\n",
        "GIFRINGE            1.      1.      1.\n",
        "GIFRINGE            1.      1.      1.\n",
        "GIFRINGE            1.      1.      1.\n",
        "GIFRINGE     315 objects detected\n",
        "GIFRINGE   Grow objects: ngrow = 2, agrow = 2.\n",
        "GIFRINGE   Write object mask: tmpmask89231_1017.fits[pl]\n"
       ]
      },
      {
       "output_type": "stream",
       "stream": "stdout",
       "text": [
        "GIFRINGE FORK -- Returning to GIFRINGE ...\n"
       ]
      },
      {
       "output_type": "stream",
       "stream": "stdout",
       "text": [
        "GIFRINGE FORK -- Forking to OBJMASKS ...\n"
       ]
      },
      {
       "output_type": "stream",
       "stream": "stdout",
       "text": [
        "GIFRINGE ACE: NOAO/IRAF V2.16 klabrie@rana.local Tue 16:58:40 22-Mar-2016\n",
        "GIFRINGE   Image: tmpsub89231_1014.fits[SCI,3][1:1024,1:2304] - Blank Field\n",
        "GIFRINGE   Set sky and sigma:\n",
        "GIFRINGE     Determine sky and sigma by surface fits:\n",
        "GIFRINGE       start line = 51, end line = 2254, step = 100.1\n",
        "GIFRINGE       xorder = 2, yorder = 2, xterms = half\n",
        "GIFRINGE       hclip = 2., lclip = 3.\n",
        "GIFRINGE     Determine sky and sigma by block statistics:\n",
        "GIFRINGE       Number of blocks: 10 23\n",
        "GIFRINGE       Number of pixels per block: 102 102\n",
        "GIFRINGE       Number of subblocks: 20 45\n",
        "GIFRINGE       Number of pixels per subblock: 51 51\n",
        "GIFRINGE   Detect objects:\n",
        "GIFRINGE     Convolution:\n",
        "GIFRINGE            1.      1.      1.\n",
        "GIFRINGE            1.      1.      1.\n",
        "GIFRINGE            1.      1.      1.\n",
        "GIFRINGE     4760 objects detected\n",
        "GIFRINGE   Grow objects: ngrow = 2, agrow = 2.\n",
        "GIFRINGE   Write object mask: tmpmask89231_1019.fits[pl]\n"
       ]
      },
      {
       "output_type": "stream",
       "stream": "stdout",
       "text": [
        "GIFRINGE FORK -- Returning to GIFRINGE ...\n"
       ]
      },
      {
       "output_type": "stream",
       "stream": "stdout",
       "text": [
        "GIFRINGE FORK -- Forking to GEMARITH ...\n"
       ]
      },
      {
       "output_type": "stream",
       "stream": "stdout",
       "text": [
        "GEMARITH begin (this task relies on gemexpr)\n"
       ]
      },
      {
       "output_type": "stream",
       "stream": "stdout",
       "text": [
        "GEMARITH PHU copy: tmprgS20101111S004389231_837.fits[0] --> tmpsub89231_1021[0,APPEND])\n"
       ]
      },
      {
       "output_type": "stream",
       "stream": "stdout",
       "text": [
        "GEMARITH WARNING: 1 at [Tue 16:58:41 22-Mar-2016]\n",
        "GEMARITH WARNING: 1 No work for EXTNAME=VAR, not present in some image operands\n"
       ]
      },
      {
       "output_type": "stream",
       "stream": "stdout",
       "text": [
        "GEMARITH WARNING: 1 at [Tue 16:58:41 22-Mar-2016]\n",
        "GEMARITH WARNING: 1 No work for EXTNAME=DQ, not present in some image operands\n"
       ]
      },
      {
       "output_type": "stream",
       "stream": "stdout",
       "text": [
        "GEMARITH No MDF present in source\n"
       ]
      },
      {
       "output_type": "stream",
       "stream": "stdout",
       "text": [
        "GEMARITH gemarith: done\n"
       ]
      },
      {
       "output_type": "stream",
       "stream": "stdout",
       "text": [
        "GIFRINGE FORK -- Returning to GIFRINGE ...\n"
       ]
      },
      {
       "output_type": "stream",
       "stream": "stdout",
       "text": [
        "GIFRINGE FORK -- Forking to OBJMASKS ...\n"
       ]
      },
      {
       "output_type": "stream",
       "stream": "stdout",
       "text": [
        "GIFRINGE ACE: NOAO/IRAF V2.16 klabrie@rana.local Tue 16:58:41 22-Mar-2016\n",
        "GIFRINGE   Image: tmpsub89231_1021.fits[SCI,1][1:1024,1:2304] - Blank Field\n",
        "GIFRINGE   Set sky and sigma:\n",
        "GIFRINGE     Determine sky and sigma by surface fits:\n",
        "GIFRINGE       start line = 51, end line = 2254, step = 100.1\n",
        "GIFRINGE       xorder = 2, yorder = 2, xterms = half\n",
        "GIFRINGE       hclip = 2., lclip = 3.\n",
        "GIFRINGE     Determine sky and sigma by block statistics:\n",
        "GIFRINGE       Number of blocks: 10 23\n",
        "GIFRINGE       Number of pixels per block: 102 102\n",
        "GIFRINGE       Number of subblocks: 20 45\n",
        "GIFRINGE       Number of pixels per subblock: 51 51\n",
        "GIFRINGE   Detect objects:\n",
        "GIFRINGE     Convolution:\n",
        "GIFRINGE            1.      1.      1.\n",
        "GIFRINGE            1.      1.      1.\n",
        "GIFRINGE            1.      1.      1.\n",
        "GIFRINGE     7628 objects detected\n",
        "GIFRINGE   Grow objects: ngrow = 2, agrow = 2.\n",
        "GIFRINGE   Write object mask: tmpmask89231_1022.fits[pl]\n"
       ]
      },
      {
       "output_type": "stream",
       "stream": "stdout",
       "text": [
        "GIFRINGE FORK -- Returning to GIFRINGE ...\n"
       ]
      },
      {
       "output_type": "stream",
       "stream": "stdout",
       "text": [
        "GIFRINGE FORK -- Forking to OBJMASKS ...\n"
       ]
      },
      {
       "output_type": "stream",
       "stream": "stdout",
       "text": [
        "GIFRINGE ACE: NOAO/IRAF V2.16 klabrie@rana.local Tue 16:58:42 22-Mar-2016\n",
        "GIFRINGE   Image: tmpsub89231_1021.fits[SCI,2][1:1024,1:2304] - Blank Field\n",
        "GIFRINGE   Set sky and sigma:\n",
        "GIFRINGE     Determine sky and sigma by surface fits:\n",
        "GIFRINGE       start line = 51, end line = 2254, step = 100.1\n",
        "GIFRINGE       xorder = 2, yorder = 2, xterms = half\n",
        "GIFRINGE       hclip = 2., lclip = 3.\n",
        "GIFRINGE     Determine sky and sigma by block statistics:\n",
        "GIFRINGE       Number of blocks: 10 23\n",
        "GIFRINGE       Number of pixels per block: 102 102\n",
        "GIFRINGE       Number of subblocks: 20 45\n",
        "GIFRINGE       Number of pixels per subblock: 51 51\n",
        "GIFRINGE   Detect objects:\n",
        "GIFRINGE     Convolution:\n",
        "GIFRINGE            1.      1.      1.\n",
        "GIFRINGE            1.      1.      1.\n",
        "GIFRINGE            1.      1.      1.\n",
        "GIFRINGE     309 objects detected\n",
        "GIFRINGE   Grow objects: ngrow = 2, agrow = 2.\n",
        "GIFRINGE   Write object mask: tmpmask89231_1024.fits[pl]\n"
       ]
      },
      {
       "output_type": "stream",
       "stream": "stdout",
       "text": [
        "GIFRINGE FORK -- Returning to GIFRINGE ...\n"
       ]
      },
      {
       "output_type": "stream",
       "stream": "stdout",
       "text": [
        "GIFRINGE FORK -- Forking to OBJMASKS ...\n"
       ]
      },
      {
       "output_type": "stream",
       "stream": "stdout",
       "text": [
        "GIFRINGE ACE: NOAO/IRAF V2.16 klabrie@rana.local Tue 16:58:43 22-Mar-2016\n",
        "GIFRINGE   Image: tmpsub89231_1021.fits[SCI,3][1:1024,1:2304] - Blank Field\n",
        "GIFRINGE   Set sky and sigma:\n",
        "GIFRINGE     Determine sky and sigma by surface fits:\n",
        "GIFRINGE       start line = 51, end line = 2254, step = 100.1\n",
        "GIFRINGE       xorder = 2, yorder = 2, xterms = half\n",
        "GIFRINGE       hclip = 2., lclip = 3.\n",
        "GIFRINGE     Determine sky and sigma by block statistics:\n",
        "GIFRINGE       Number of blocks: 10 23\n",
        "GIFRINGE       Number of pixels per block: 102 102\n",
        "GIFRINGE       Number of subblocks: 20 45\n",
        "GIFRINGE       Number of pixels per subblock: 51 51\n",
        "GIFRINGE   Detect objects:\n",
        "GIFRINGE     Convolution:\n",
        "GIFRINGE            1.      1.      1.\n",
        "GIFRINGE            1.      1.      1.\n",
        "GIFRINGE            1.      1.      1.\n",
        "GIFRINGE     4428 objects detected\n",
        "GIFRINGE   Grow objects: ngrow = 2, agrow = 2.\n",
        "GIFRINGE   Write object mask: tmpmask89231_1026.fits[pl]\n"
       ]
      },
      {
       "output_type": "stream",
       "stream": "stdout",
       "text": [
        "GIFRINGE FORK -- Returning to GIFRINGE ...\n"
       ]
      },
      {
       "output_type": "stream",
       "stream": "stdout",
       "text": [
        "GIFRINGE FORK -- Forking to GEMCOMBINE ...\n"
       ]
      },
      {
       "output_type": "stream",
       "stream": "stdout",
       "text": [
        "--------------------------------------------------------------------------------\n",
        "GEMCOMBINE -- Tue Mar 22 16:58:44 HST 2016\n",
        " \n",
        "GEMCOMBINE: input = @tmpcomblist89231_827\n",
        "GEMCOMBINE: output = S20101111S0028_fringe_i\n",
        "GEMCOMBINE: title = \n",
        "GEMCOMBINE: bpmfile = \n",
        "GEMCOMBINE: sci_ext = SCI\n",
        "GEMCOMBINE: var_ext = VAR\n",
        "GEMCOMBINE: dq_ext = DQ\n",
        " \n"
       ]
      },
      {
       "output_type": "stream",
       "stream": "stdout",
       "text": [
        "\n",
        "Mar 22 16:58: IMCOMBINE\n",
        "  combine = median, scale = none, zero = !OFFINT, weight = none\n",
        "  reject = avsigclip, mclip = yes, nkeep = 0\n",
        "  lsigma = 3., hsigma = 3.\n",
        "  blank = 0.\n",
        "  statsec = Mar 22 16:58\n",
        "  masktype = goodval, maskval = 0\n",
        "                Images     Exp    Zero Maskfile\n",
        "  tmprgS20101111S002889231_831.fits[SCI,1]  300.5  -8801. tmpdq89231_1032_1.pl\n",
        "  tmprgS20101111S002989231_832.fits[SCI,1]  300.5 -8222.8 tmpdq89231_1032_2.pl\n",
        "  tmprgS20101111S003089231_833.fits[SCI,1]  300.5 -8031.7 tmpdq89231_1032_3.pl\n",
        "  tmprgS20101111S004089231_834.fits[SCI,1]  300.5 -7035.2 tmpdq89231_1032_4.pl\n",
        "  tmprgS20101111S004189231_835.fits[SCI,1]  300.5 -6911.8 tmpdq89231_1032_5.pl\n",
        "  tmprgS20101111S004289231_836.fits[SCI,1]  300.5 -6795.6 tmpdq89231_1032_6.pl\n",
        "  tmprgS20101111S004389231_837.fits[SCI,1]  300.5 -6762.7 tmpdq89231_1032_7.pl\n",
        "\n",
        "  Output image = tmpcombout89231_1041, ncombine = 7\n",
        "  Number rejected mask = tmpcombdq89231_1042.pl\n",
        "  Sigma image = tmpcombsig89231_1043\n"
       ]
      },
      {
       "output_type": "stream",
       "stream": "stdout",
       "text": [
        "\n",
        "Mar 22 16:58: IMCOMBINE\n",
        "  combine = median, scale = none, zero = !OFFINT, weight = none\n",
        "  reject = avsigclip, mclip = yes, nkeep = 0\n",
        "  lsigma = 3., hsigma = 3.\n",
        "  blank = 0.\n",
        "  statsec = Mar 22 16:58\n",
        "  masktype = goodval, maskval = 0\n",
        "                Images     Exp    Zero Maskfile\n",
        "  tmprgS20101111S002889231_831.fits[SCI,2]  300.5  -8801. tmpdq89231_1032_1.pl\n",
        "  tmprgS20101111S002989231_832.fits[SCI,2]  300.5 -8222.8 tmpdq89231_1032_2.pl\n",
        "  tmprgS20101111S003089231_833.fits[SCI,2]  300.5 -8031.7 tmpdq89231_1032_3.pl\n",
        "  tmprgS20101111S004089231_834.fits[SCI,2]  300.5 -7035.2 tmpdq89231_1032_4.pl\n",
        "  tmprgS20101111S004189231_835.fits[SCI,2]  300.5 -6911.8 tmpdq89231_1032_5.pl\n",
        "  tmprgS20101111S004289231_836.fits[SCI,2]  300.5 -6795.6 tmpdq89231_1032_6.pl\n",
        "  tmprgS20101111S004389231_837.fits[SCI,2]  300.5 -6762.7 tmpdq89231_1032_7.pl\n",
        "\n",
        "  Output image = tmpcombout89231_1048, ncombine = 7\n",
        "  Number rejected mask = tmpcombdq89231_1049.pl\n",
        "  Sigma image = tmpcombsig89231_1050\n"
       ]
      },
      {
       "output_type": "stream",
       "stream": "stdout",
       "text": [
        "\n",
        "Mar 22 16:58: IMCOMBINE\n",
        "  combine = median, scale = none, zero = !OFFINT, weight = none\n",
        "  reject = avsigclip, mclip = yes, nkeep = 0\n",
        "  lsigma = 3., hsigma = 3.\n",
        "  blank = 0.\n",
        "  statsec = Mar 22 16:58\n",
        "  masktype = goodval, maskval = 0\n",
        "                Images     Exp    Zero Maskfile\n",
        "  tmprgS20101111S002889231_831.fits[SCI,3]  300.5  -8801. tmpdq89231_1032_1.pl\n",
        "  tmprgS20101111S002989231_832.fits[SCI,3]  300.5 -8222.8 tmpdq89231_1032_2.pl\n",
        "  tmprgS20101111S003089231_833.fits[SCI,3]  300.5 -8031.7 tmpdq89231_1032_3.pl\n",
        "  tmprgS20101111S004089231_834.fits[SCI,3]  300.5 -7035.2 tmpdq89231_1032_4.pl\n",
        "  tmprgS20101111S004189231_835.fits[SCI,3]  300.5 -6911.8 tmpdq89231_1032_5.pl\n",
        "  tmprgS20101111S004289231_836.fits[SCI,3]  300.5 -6795.6 tmpdq89231_1032_6.pl\n",
        "  tmprgS20101111S004389231_837.fits[SCI,3]  300.5 -6762.7 tmpdq89231_1032_7.pl\n",
        "\n",
        "  Output image = tmpcombout89231_1052, ncombine = 7\n",
        "  Number rejected mask = tmpcombdq89231_1053.pl\n",
        "  Sigma image = tmpcombsig89231_1054\n"
       ]
      },
      {
       "output_type": "stream",
       "stream": "stdout",
       "text": [
        " \n",
        "GEMCOMBINE -- Finished: Tue Mar 22 16:58:57 HST 2016\n",
        " \n",
        "GEMCOMBINE -- Exit status: GOOD\n",
        "--------------------------------------------------------------------------------\n",
        "GIFRINGE FORK -- Returning to GIFRINGE ...\n"
       ]
      },
      {
       "output_type": "stream",
       "stream": "stdout",
       "text": [
        "GIFRINGE --------------------\n",
        "GIFRINGE Exit status: SUCCESS\n",
        "GIFRINGE Log closed at [Tue 16:58:58 22-Mar-2016]\n",
        "GIFRINGE ------------------------------------------------------------------\n",
        "GIFRINGE \n"
       ]
      },
      {
       "metadata": {},
       "output_type": "pyout",
       "prompt_number": 14,
       "text": [
        "['S20101111S0028_fringe_i.fits']"
       ]
      }
     ],
     "prompt_number": 14
    },
    {
     "cell_type": "heading",
     "level": 4,
     "metadata": {},
     "source": [
      "Visually inspect the processed fringe frames"
     ]
    },
    {
     "cell_type": "code",
     "collapsed": false,
     "input": [
      "for fringekey in fringes.keys():\n",
      "    iraf.gdisplay(fringes[fringekey]['procfringe'], 1, fl_paste='yes')"
     ],
     "language": "python",
     "metadata": {},
     "outputs": [
      {
       "output_type": "stream",
       "stream": "stdout",
       "text": [
        "\n",
        "GDISPLAY - Started: 2016-03-22T17:01:18\n",
        "\n"
       ]
      },
      {
       "output_type": "stream",
       "stream": "stdout",
       "text": [
        "GDISPLAY: Temporary image name tmpout89231_1057S20101111S0028_fringe_i.fits\n",
        "\n",
        "GMULTIAMP - Started: 2016-03-22T17:01:18\n",
        "\n"
       ]
      },
      {
       "output_type": "stream",
       "stream": "stdout",
       "text": [
        "GMULTIAMP: Tiling image...\n"
       ]
      },
      {
       "output_type": "stream",
       "stream": "stdout",
       "text": [
        "               Image tiled.\n"
       ]
      },
      {
       "output_type": "stream",
       "stream": "stdout",
       "text": [
        "\n",
        "GMULTIAMP - Finished: 2016-03-22T17:01:20\n",
        "GMULTIAMP - Exit status: GOOD\n",
        "\n"
       ]
      },
      {
       "output_type": "stream",
       "stream": "stdout",
       "text": [
        "GDISPLAY: Displaying image...\n",
        "\n",
        "GDISPLAY: Starting imexamine - quit with q"
       ]
      },
      {
       "output_type": "stream",
       "stream": "stdout",
       "text": [
        "\n",
        "\n",
        "GDISPLAY - Finished: 2016-03-22T17:01:41\n"
       ]
      },
      {
       "output_type": "stream",
       "stream": "stdout",
       "text": [
        "\n"
       ]
      }
     ],
     "prompt_number": 15
    },
    {
     "cell_type": "heading",
     "level": 2,
     "metadata": {},
     "source": [
      "STEP 7: Process the target"
     ]
    },
    {
     "cell_type": "markdown",
     "metadata": {},
     "source": [
      "In the redder bands, for some CCDs, the fringing can be important.  With the pre-Hamamatsu CCDs, that is the case for the i-band and the z-band.  We are here reducing i-band data, so we will have to correct for the fringing.\n",
      "\n",
      "Also, because our target is extended, it is not possible to use the on-target frames to produce the fringe frame.  We have to use 'blank field' observations taken a few nights later to create a fringe frame.  Because the fringe data was obtained at another time, we will need to measure the appropriate scale factor and scale it accordingly prior to removing it from the science observations.\n",
      "\n",
      "Here, we first do the straighforward processing, i.e. the bias and flat correction.  Then we deal with the fringe correction."
     ]
    },
    {
     "cell_type": "heading",
     "level": 3,
     "metadata": {},
     "source": [
      "STEP 7.1: Bias and flat fielding of the target"
     ]
    },
    {
     "cell_type": "code",
     "collapsed": false,
     "input": [
      "os.chdir(redux_path)\n",
      "\n",
      "iraf.imdelete('g//@sci.lis', verify='no')\n",
      "iraf.imdelete('rg//@sci.lis', verify='no')\n",
      "\n",
      "iraf.gireduce('@sci.lis', rawpath=raw_path, fl_over='yes', fl_trim='yes', \\\n",
      "              fl_bias='yes', bias=science['scibias'], \\\n",
      "              fl_flat='yes', flat1=science['sciflat'], \\\n",
      "              fl_vardq='yes')"
     ],
     "language": "python",
     "metadata": {},
     "outputs": [
      {
       "output_type": "stream",
       "stream": "stdout",
       "text": [
        "----------------------------------------------------------------------------\n",
        "GIREDUCE -- Tue Mar 22 17:02:09 HST 2016\n",
        "\n"
       ]
      },
      {
       "output_type": "stream",
       "stream": "stdout",
       "text": [
        "----------------------------------------------------------------------------\n",
        "GPREPARE -- Tue Mar 22 17:02:09 HST 2016\n",
        "\n",
        "Input list    = S20101101S0083\n",
        "Output list   = \n",
        "Output prefix = g\n",
        "Raw path      = /data/workspace/DRWorkshopAAO/raw/\n",
        "MDF dir       = gmos$data/\n",
        "Add MDF       = no\n",
        "\n"
       ]
      },
      {
       "output_type": "stream",
       "stream": "stdout",
       "text": [
        "Input  /data/workspace/DRWorkshopAAO/raw/S20101101S0083.fits   Output  gS20101101S0083.fits\n"
       ]
      },
      {
       "output_type": "stream",
       "stream": "stdout",
       "text": [
        "\n",
        "GPREPARE exit status: good.\n",
        "----------------------------------------------------------------------------\n"
       ]
      },
      {
       "output_type": "stream",
       "stream": "stdout",
       "text": [
        "----------------------------------------------------------------------------\n",
        "GPREPARE -- Tue Mar 22 17:02:11 HST 2016\n",
        "\n",
        "Input list    = S20101101S0084\n",
        "Output list   = \n",
        "Output prefix = g\n",
        "Raw path      = /data/workspace/DRWorkshopAAO/raw/\n",
        "MDF dir       = gmos$data/\n",
        "Add MDF       = no\n",
        "\n"
       ]
      },
      {
       "output_type": "stream",
       "stream": "stdout",
       "text": [
        "Input  /data/workspace/DRWorkshopAAO/raw/S20101101S0084.fits   Output  gS20101101S0084.fits\n"
       ]
      },
      {
       "output_type": "stream",
       "stream": "stdout",
       "text": [
        "\n",
        "GPREPARE exit status: good.\n",
        "----------------------------------------------------------------------------\n"
       ]
      },
      {
       "output_type": "stream",
       "stream": "stdout",
       "text": [
        "----------------------------------------------------------------------------\n",
        "GPREPARE -- Tue Mar 22 17:02:12 HST 2016\n",
        "\n",
        "Input list    = S20101101S0085\n",
        "Output list   = \n",
        "Output prefix = g\n",
        "Raw path      = /data/workspace/DRWorkshopAAO/raw/\n",
        "MDF dir       = gmos$data/\n",
        "Add MDF       = no\n",
        "\n"
       ]
      },
      {
       "output_type": "stream",
       "stream": "stdout",
       "text": [
        "Input  /data/workspace/DRWorkshopAAO/raw/S20101101S0085.fits   Output  gS20101101S0085.fits\n"
       ]
      },
      {
       "output_type": "stream",
       "stream": "stdout",
       "text": [
        "\n",
        "GPREPARE exit status: good.\n",
        "----------------------------------------------------------------------------\n"
       ]
      },
      {
       "output_type": "stream",
       "stream": "stdout",
       "text": [
        "----------------------------------------------------------------------------\n",
        "GPREPARE -- Tue Mar 22 17:02:13 HST 2016\n",
        "\n",
        "Input list    = S20101101S0086\n",
        "Output list   = \n",
        "Output prefix = g\n",
        "Raw path      = /data/workspace/DRWorkshopAAO/raw/\n",
        "MDF dir       = gmos$data/\n",
        "Add MDF       = no\n",
        "\n"
       ]
      },
      {
       "output_type": "stream",
       "stream": "stdout",
       "text": [
        "Input  /data/workspace/DRWorkshopAAO/raw/S20101101S0086.fits   Output  gS20101101S0086.fits\n"
       ]
      },
      {
       "output_type": "stream",
       "stream": "stdout",
       "text": [
        "\n",
        "GPREPARE exit status: good.\n",
        "----------------------------------------------------------------------------\n",
        "\n",
        "Input files:"
       ]
      },
      {
       "output_type": "stream",
       "stream": "stdout",
       "text": [
        "\n",
        "gS20101101S0083\n",
        "gS20101101S0084\n",
        "gS20101101S0085\n",
        "gS20101101S0086\n"
       ]
      },
      {
       "output_type": "stream",
       "stream": "stdout",
       "text": [
        "\n"
       ]
      },
      {
       "output_type": "stream",
       "stream": "stdout",
       "text": [
        "Output files:\n",
        "rgS20101101S0083\n",
        "rgS20101101S0084\n",
        "rgS20101101S0085\n",
        "rgS20101101S0086\n"
       ]
      },
      {
       "output_type": "stream",
       "stream": "stdout",
       "text": [
        "\n"
       ]
      },
      {
       "output_type": "stream",
       "stream": "stdout",
       "text": [
        "WARNING - GIREDUCE: Bad Pixel Mask filename is an empty string\n",
        "                    Only saturated pixels will be flagged\n",
        "GIREDUCE: Image rgS20101101S0083 overscan subtracted"
       ]
      },
      {
       "output_type": "stream",
       "stream": "stdout",
       "text": [
        "\n",
        "GIREDUCE: Image rgS20101101S0084 overscan subtracted"
       ]
      },
      {
       "output_type": "stream",
       "stream": "stdout",
       "text": [
        "\n",
        "GIREDUCE: Image rgS20101101S0085 overscan subtracted"
       ]
      },
      {
       "output_type": "stream",
       "stream": "stdout",
       "text": [
        "\n",
        "GIREDUCE: Image rgS20101101S0086 overscan subtracted"
       ]
      },
      {
       "output_type": "stream",
       "stream": "stdout",
       "text": [
        "\n"
       ]
      },
      {
       "output_type": "stream",
       "stream": "stdout",
       "text": [
        "GIREDUCE: Image rgS20101101S0083 trimmed\n"
       ]
      },
      {
       "output_type": "stream",
       "stream": "stdout",
       "text": [
        "GIREDUCE: Image rgS20101101S0084 trimmed\n"
       ]
      },
      {
       "output_type": "stream",
       "stream": "stdout",
       "text": [
        "GIREDUCE: Image rgS20101101S0085 trimmed\n"
       ]
      },
      {
       "output_type": "stream",
       "stream": "stdout",
       "text": [
        "GIREDUCE: Image rgS20101101S0086 trimmed\n",
        "\n",
        "Output image       Bias                 Flat               Dark       Scale \n",
        "rgS20101101S0083   S20101101S0169_bias  S20101102S0100_flat_i INDEF       0.00\n"
       ]
      },
      {
       "output_type": "stream",
       "stream": "stdout",
       "text": [
        "GIREDUCE: Subtracted bias S20101101S0169_bias from rgS20101101S0083\n",
        "GIREDUCE: Divided image rgS20101101S0083 by flatfield S20101102S0100_flat_i\n"
       ]
      },
      {
       "output_type": "stream",
       "stream": "stdout",
       "text": [
        "GIREDUCE: multiplying image rgS20101101S0083 by gain\n"
       ]
      },
      {
       "output_type": "stream",
       "stream": "stdout",
       "text": [
        "GIREDUCE: output counts in electrons\n",
        "Output image       Bias                 Flat               Dark       Scale "
       ]
      },
      {
       "output_type": "stream",
       "stream": "stdout",
       "text": [
        "\n",
        "rgS20101101S0084   S20101101S0169_bias  S20101102S0100_flat_i INDEF       0.00\n"
       ]
      },
      {
       "output_type": "stream",
       "stream": "stdout",
       "text": [
        "GIREDUCE: Subtracted bias S20101101S0169_bias from rgS20101101S0084\n",
        "GIREDUCE: Divided image rgS20101101S0084 by flatfield S20101102S0100_flat_i\n"
       ]
      },
      {
       "output_type": "stream",
       "stream": "stdout",
       "text": [
        "GIREDUCE: multiplying image rgS20101101S0084 by gain\n"
       ]
      },
      {
       "output_type": "stream",
       "stream": "stdout",
       "text": [
        "GIREDUCE: output counts in electrons\n",
        "Output image       Bias                 Flat               Dark       Scale "
       ]
      },
      {
       "output_type": "stream",
       "stream": "stdout",
       "text": [
        "\n",
        "rgS20101101S0085   S20101101S0169_bias  S20101102S0100_flat_i INDEF       0.00\n"
       ]
      },
      {
       "output_type": "stream",
       "stream": "stdout",
       "text": [
        "GIREDUCE: Subtracted bias S20101101S0169_bias from rgS20101101S0085\n",
        "GIREDUCE: Divided image rgS20101101S0085 by flatfield S20101102S0100_flat_i\n"
       ]
      },
      {
       "output_type": "stream",
       "stream": "stdout",
       "text": [
        "GIREDUCE: multiplying image rgS20101101S0085 by gain\n"
       ]
      },
      {
       "output_type": "stream",
       "stream": "stdout",
       "text": [
        "GIREDUCE: output counts in electrons\n",
        "Output image       Bias                 Flat               Dark       Scale "
       ]
      },
      {
       "output_type": "stream",
       "stream": "stdout",
       "text": [
        "\n",
        "rgS20101101S0086   S20101101S0169_bias  S20101102S0100_flat_i INDEF       0.00\n"
       ]
      },
      {
       "output_type": "stream",
       "stream": "stdout",
       "text": [
        "GIREDUCE: Subtracted bias S20101101S0169_bias from rgS20101101S0086\n",
        "GIREDUCE: Divided image rgS20101101S0086 by flatfield S20101102S0100_flat_i\n"
       ]
      },
      {
       "output_type": "stream",
       "stream": "stdout",
       "text": [
        "GIREDUCE: multiplying image rgS20101101S0086 by gain\n"
       ]
      },
      {
       "output_type": "stream",
       "stream": "stdout",
       "text": [
        "GIREDUCE: output counts in electrons\n"
       ]
      },
      {
       "output_type": "stream",
       "stream": "stdout",
       "text": [
        "\n",
        "GIREDUCE - Cleaning up -- Tue Mar 22 17:03:15 HST 2016\n"
       ]
      },
      {
       "output_type": "stream",
       "stream": "stdout",
       "text": [
        "\n",
        "GIREDUCE -- Tue Mar 22 17:03:15 HST 2016\n",
        "GIREDUCE exit status:  good.\n",
        "----------------------------------------------------------------------------\n"
       ]
      }
     ],
     "prompt_number": 17
    },
    {
     "cell_type": "heading",
     "level": 4,
     "metadata": {},
     "source": [
      "Visually inspect the reduce science frames"
     ]
    },
    {
     "cell_type": "code",
     "collapsed": false,
     "input": [
      "sciframes = open('sci.lis', 'r')\n",
      "for line in sciframes:\n",
      "    frame = line.strip()\n",
      "    iraf.gdisplay('rg'+frame, 1, fl_paste='yes')\n",
      "sciframes.close()"
     ],
     "language": "python",
     "metadata": {},
     "outputs": [
      {
       "output_type": "stream",
       "stream": "stdout",
       "text": [
        "\n",
        "GDISPLAY - Started: 2016-03-22T17:03:29\n",
        "\n"
       ]
      },
      {
       "output_type": "stream",
       "stream": "stdout",
       "text": [
        "GDISPLAY: Temporary image name tmpout89231_1149rgS20101101S0083.fits\n",
        "\n",
        "GMULTIAMP - Started: 2016-03-22T17:03:29\n",
        "\n"
       ]
      },
      {
       "output_type": "stream",
       "stream": "stdout",
       "text": [
        "GMULTIAMP: Tiling image...\n"
       ]
      },
      {
       "output_type": "stream",
       "stream": "stdout",
       "text": [
        "               Image tiled.\n"
       ]
      },
      {
       "output_type": "stream",
       "stream": "stdout",
       "text": [
        "\n",
        "GMULTIAMP - Finished: 2016-03-22T17:03:31\n",
        "GMULTIAMP - Exit status: GOOD\n",
        "\n"
       ]
      },
      {
       "output_type": "stream",
       "stream": "stdout",
       "text": [
        "GDISPLAY: Displaying image...\n",
        "\n",
        "GDISPLAY: Starting imexamine - quit with q"
       ]
      },
      {
       "output_type": "stream",
       "stream": "stdout",
       "text": [
        "\n",
        "\n",
        "GDISPLAY - Finished: 2016-03-22T17:03:51\n"
       ]
      },
      {
       "output_type": "stream",
       "stream": "stdout",
       "text": [
        "\n",
        "\n",
        "GDISPLAY - Started: 2016-03-22T17:03:51\n",
        "\n"
       ]
      },
      {
       "output_type": "stream",
       "stream": "stdout",
       "text": [
        "GDISPLAY: Temporary image name tmpout89231_1183rgS20101101S0084.fits\n",
        "\n",
        "GMULTIAMP - Started: 2016-03-22T17:03:51\n",
        "\n"
       ]
      },
      {
       "output_type": "stream",
       "stream": "stdout",
       "text": [
        "GMULTIAMP: Tiling image...\n"
       ]
      },
      {
       "output_type": "stream",
       "stream": "stdout",
       "text": [
        "               Image tiled.\n"
       ]
      },
      {
       "output_type": "stream",
       "stream": "stdout",
       "text": [
        "\n",
        "GMULTIAMP - Finished: 2016-03-22T17:03:53\n",
        "GMULTIAMP - Exit status: GOOD\n",
        "\n"
       ]
      },
      {
       "output_type": "stream",
       "stream": "stdout",
       "text": [
        "GDISPLAY: Displaying image...\n",
        "\n",
        "GDISPLAY: Starting imexamine - quit with q"
       ]
      },
      {
       "output_type": "stream",
       "stream": "stdout",
       "text": [
        "\n",
        "\n",
        "GDISPLAY - Finished: 2016-03-22T17:03:55\n"
       ]
      },
      {
       "output_type": "stream",
       "stream": "stdout",
       "text": [
        "\n",
        "\n",
        "GDISPLAY - Started: 2016-03-22T17:03:55\n",
        "\n"
       ]
      },
      {
       "output_type": "stream",
       "stream": "stdout",
       "text": [
        "GDISPLAY: Temporary image name tmpout89231_1217rgS20101101S0085.fits\n",
        "\n",
        "GMULTIAMP - Started: 2016-03-22T17:03:56\n",
        "\n"
       ]
      },
      {
       "output_type": "stream",
       "stream": "stdout",
       "text": [
        "GMULTIAMP: Tiling image...\n"
       ]
      },
      {
       "output_type": "stream",
       "stream": "stdout",
       "text": [
        "               Image tiled.\n"
       ]
      },
      {
       "output_type": "stream",
       "stream": "stdout",
       "text": [
        "\n",
        "GMULTIAMP - Finished: 2016-03-22T17:03:58\n",
        "GMULTIAMP - Exit status: GOOD\n",
        "\n"
       ]
      },
      {
       "output_type": "stream",
       "stream": "stdout",
       "text": [
        "GDISPLAY: Displaying image...\n",
        "\n",
        "GDISPLAY: Starting imexamine - quit with q"
       ]
      },
      {
       "output_type": "stream",
       "stream": "stdout",
       "text": [
        "\n",
        "\n",
        "GDISPLAY - Finished: 2016-03-22T17:04:01\n"
       ]
      },
      {
       "output_type": "stream",
       "stream": "stdout",
       "text": [
        "\n",
        "\n",
        "GDISPLAY - Started: 2016-03-22T17:04:01\n",
        "\n"
       ]
      },
      {
       "output_type": "stream",
       "stream": "stdout",
       "text": [
        "GDISPLAY: Temporary image name tmpout89231_1251rgS20101101S0086.fits\n",
        "\n",
        "GMULTIAMP - Started: 2016-03-22T17:04:01\n",
        "\n"
       ]
      },
      {
       "output_type": "stream",
       "stream": "stdout",
       "text": [
        "GMULTIAMP: Tiling image...\n"
       ]
      },
      {
       "output_type": "stream",
       "stream": "stdout",
       "text": [
        "               Image tiled.\n"
       ]
      },
      {
       "output_type": "stream",
       "stream": "stdout",
       "text": [
        "\n",
        "GMULTIAMP - Finished: 2016-03-22T17:04:03\n",
        "GMULTIAMP - Exit status: GOOD\n",
        "\n"
       ]
      },
      {
       "output_type": "stream",
       "stream": "stdout",
       "text": [
        "GDISPLAY: Displaying image...\n",
        "\n",
        "GDISPLAY: Starting imexamine - quit with q"
       ]
      },
      {
       "output_type": "stream",
       "stream": "stdout",
       "text": [
        "\n",
        "\n",
        "GDISPLAY - Finished: 2016-03-22T17:04:06\n"
       ]
      },
      {
       "output_type": "stream",
       "stream": "stdout",
       "text": [
        "\n"
       ]
      }
     ],
     "prompt_number": 18
    },
    {
     "cell_type": "heading",
     "level": 3,
     "metadata": {},
     "source": [
      "STEP 7.2: Fringe removal"
     ]
    },
    {
     "cell_type": "markdown",
     "metadata": {},
     "source": [
      "As explained in the section's introduction, the fringe frames were obtained on another night.  Therefore, there will certainly be a need to scale the processed fringe frame to the science observations for proper fringe pattern removal.\n",
      "\n",
      "`girmfringe` can try to calculate a scale factor for you based on image statistics.  For fine-grain adjustment, one can also feed `girmfringe` manually measured scale factor.  Here, we will let `girmfringe` figure it out for us.\n",
      "\n",
      "However, it will need some help.  The default section used for the statistics is the full center CCD.  Well, that's where our big and bright galaxy is.  We won't get good sky statistics from that.  So we need to inspect the image and select a good section to calculate statistics on."
     ]
    },
    {
     "cell_type": "code",
     "collapsed": false,
     "input": [
      "# get the file name for the first science frame \n",
      "# (we just need to inspect one of them)\n",
      "# Here's a little useful trick.\n",
      "first_sci = iraf.head('sci.lis', nlines=1, Stdout=1)[0].strip()\n",
      "\n",
      "iraf.display('rg'+first_sci+'[sci,2]', 1)\n",
      "\n",
      "# Select a good section to represent the sky.\n",
      "# I recommend [50:350,450:750]"
     ],
     "language": "python",
     "metadata": {},
     "outputs": [
      {
       "output_type": "stream",
       "stream": "stdout",
       "text": [
        "z1=5160.008 z2=7087.056\n"
       ]
      }
     ],
     "prompt_number": 23
    },
    {
     "cell_type": "code",
     "collapsed": false,
     "input": [
      "skysection = '[SCI,2][50:350,450:750]'\n",
      "\n",
      "iraf.imdelete('frg//@sci.lis', verify='no')\n",
      "\n",
      "iraf.girmfringe('rg//@sci.lis', science['scifringe'], \\\n",
      "                fl_statscale='yes', statsec=skysection, \\\n",
      "                fl_propfvardq='yes')"
     ],
     "language": "python",
     "metadata": {},
     "outputs": [
      {
       "output_type": "stream",
       "stream": "stdout",
       "text": [
        "--------------------------------------------------------------------------------\n",
        "GIRMFRINGE -- Tue Mar 22 17:43:22 HST 2016\n",
        " \n",
        "inimages = rg//@sci.lis\n",
        "outimages = \n",
        "outpref = f\n",
        "fringe = S20101111S0028_fringe_i.fits\n",
        "fl_statscale = yes\n",
        "statsec = [SCI,2][50:350,450:750]\n",
        "scale = 0.0\n",
        " \n"
       ]
      },
      {
       "output_type": "stream",
       "stream": "stdout",
       "text": [
        "rgS20101101S0083.fits frgS20101101S0083.fits ratio = 1.04202491156\n",
        "GEMEXPR begin\n"
       ]
      },
      {
       "output_type": "stream",
       "stream": "stdout",
       "text": [
        "GEMEXPR PHU copy: rgS20101101S0083.fits[0] --> frgS20101101S0083.fits[0,APPEND])\n"
       ]
      },
      {
       "output_type": "stream",
       "stream": "stdout",
       "text": [
        "GEMEXPR No MDF present in source\n"
       ]
      },
      {
       "output_type": "stream",
       "stream": "stdout",
       "text": [
        "GEMEXPR done\n"
       ]
      },
      {
       "output_type": "stream",
       "stream": "stdout",
       "text": [
        "rgS20101101S0084.fits frgS20101101S0084.fits ratio = 1.21698877391\n",
        "GEMEXPR begin\n"
       ]
      },
      {
       "output_type": "stream",
       "stream": "stdout",
       "text": [
        "GEMEXPR PHU copy: rgS20101101S0084.fits[0] --> frgS20101101S0084.fits[0,APPEND])\n"
       ]
      },
      {
       "output_type": "stream",
       "stream": "stdout",
       "text": [
        "GEMEXPR No MDF present in source\n"
       ]
      },
      {
       "output_type": "stream",
       "stream": "stdout",
       "text": [
        "GEMEXPR done\n"
       ]
      },
      {
       "output_type": "stream",
       "stream": "stdout",
       "text": [
        "rgS20101101S0085.fits frgS20101101S0085.fits ratio = 1.22448544287\n",
        "GEMEXPR begin\n"
       ]
      },
      {
       "output_type": "stream",
       "stream": "stdout",
       "text": [
        "GEMEXPR PHU copy: rgS20101101S0085.fits[0] --> frgS20101101S0085.fits[0,APPEND])\n"
       ]
      },
      {
       "output_type": "stream",
       "stream": "stdout",
       "text": [
        "GEMEXPR No MDF present in source\n"
       ]
      },
      {
       "output_type": "stream",
       "stream": "stdout",
       "text": [
        "GEMEXPR done\n"
       ]
      },
      {
       "output_type": "stream",
       "stream": "stdout",
       "text": [
        "rgS20101101S0086.fits frgS20101101S0086.fits ratio = 1.10042668935\n",
        "GEMEXPR begin\n"
       ]
      },
      {
       "output_type": "stream",
       "stream": "stdout",
       "text": [
        "GEMEXPR PHU copy: rgS20101101S0086.fits[0] --> frgS20101101S0086.fits[0,APPEND])\n"
       ]
      },
      {
       "output_type": "stream",
       "stream": "stdout",
       "text": [
        "GEMEXPR No MDF present in source\n"
       ]
      },
      {
       "output_type": "stream",
       "stream": "stdout",
       "text": [
        "GEMEXPR done\n"
       ]
      },
      {
       "output_type": "stream",
       "stream": "stdout",
       "text": [
        " \n",
        "GIRMFRINGE done\n",
        "--------------------------------------------------------------------------------\n"
       ]
      }
     ],
     "prompt_number": 27
    },
    {
     "cell_type": "heading",
     "level": 4,
     "metadata": {},
     "source": [
      "Visually inspect the fringe corrected observations"
     ]
    },
    {
     "cell_type": "code",
     "collapsed": false,
     "input": [
      "sciframes = open('sci.lis', 'r')\n",
      "for line in sciframes:\n",
      "    frame = line.strip()\n",
      "    iraf.gdisplay('frg'+frame, 1, fl_paste='yes')\n",
      "sciframes.close()"
     ],
     "language": "python",
     "metadata": {},
     "outputs": [
      {
       "output_type": "stream",
       "stream": "stdout",
       "text": [
        "\n",
        "GDISPLAY - Started: 2016-03-22T17:39:39\n",
        "\n"
       ]
      },
      {
       "output_type": "stream",
       "stream": "stdout",
       "text": [
        "GDISPLAY: Temporary image name tmpout89231_1286frgS20101101S0083.fits\n",
        "\n",
        "GMULTIAMP - Started: 2016-03-22T17:39:39\n",
        "\n"
       ]
      },
      {
       "output_type": "stream",
       "stream": "stdout",
       "text": [
        "GMULTIAMP: Tiling image...\n"
       ]
      },
      {
       "output_type": "stream",
       "stream": "stdout",
       "text": [
        "               Image tiled.\n"
       ]
      },
      {
       "output_type": "stream",
       "stream": "stdout",
       "text": [
        "\n",
        "GMULTIAMP - Finished: 2016-03-22T17:39:42\n",
        "GMULTIAMP - Exit status: GOOD\n",
        "\n"
       ]
      },
      {
       "output_type": "stream",
       "stream": "stdout",
       "text": [
        "GDISPLAY: Displaying image...\n",
        "\n",
        "GDISPLAY: Starting imexamine - quit with q"
       ]
      },
      {
       "output_type": "stream",
       "stream": "stdout",
       "text": [
        "\n",
        "\n",
        "GDISPLAY - Finished: 2016-03-22T17:40:02\n"
       ]
      },
      {
       "output_type": "stream",
       "stream": "stdout",
       "text": [
        "\n",
        "\n",
        "GDISPLAY - Started: 2016-03-22T17:40:02\n",
        "\n"
       ]
      },
      {
       "output_type": "stream",
       "stream": "stdout",
       "text": [
        "GDISPLAY: Temporary image name tmpout89231_1320frgS20101101S0084.fits\n",
        "\n",
        "GMULTIAMP - Started: 2016-03-22T17:40:02\n",
        "\n"
       ]
      },
      {
       "output_type": "stream",
       "stream": "stdout",
       "text": [
        "GMULTIAMP: Tiling image...\n"
       ]
      },
      {
       "output_type": "stream",
       "stream": "stdout",
       "text": [
        "               Image tiled.\n"
       ]
      },
      {
       "output_type": "stream",
       "stream": "stdout",
       "text": [
        "\n",
        "GMULTIAMP - Finished: 2016-03-22T17:40:05\n",
        "GMULTIAMP - Exit status: GOOD\n",
        "\n"
       ]
      },
      {
       "output_type": "stream",
       "stream": "stdout",
       "text": [
        "GDISPLAY: Displaying image...\n",
        "\n",
        "GDISPLAY: Starting imexamine - quit with q"
       ]
      },
      {
       "output_type": "stream",
       "stream": "stdout",
       "text": [
        "\n",
        "\n",
        "GDISPLAY - Finished: 2016-03-22T17:40:23\n"
       ]
      },
      {
       "output_type": "stream",
       "stream": "stdout",
       "text": [
        "\n",
        "\n",
        "GDISPLAY - Started: 2016-03-22T17:40:23\n",
        "\n"
       ]
      },
      {
       "output_type": "stream",
       "stream": "stdout",
       "text": [
        "GDISPLAY: Temporary image name tmpout89231_1354frgS20101101S0085.fits\n",
        "\n",
        "GMULTIAMP - Started: 2016-03-22T17:40:23\n",
        "\n"
       ]
      },
      {
       "output_type": "stream",
       "stream": "stdout",
       "text": [
        "GMULTIAMP: Tiling image...\n"
       ]
      },
      {
       "output_type": "stream",
       "stream": "stdout",
       "text": [
        "               Image tiled.\n"
       ]
      },
      {
       "output_type": "stream",
       "stream": "stdout",
       "text": [
        "\n",
        "GMULTIAMP - Finished: 2016-03-22T17:40:26\n",
        "GMULTIAMP - Exit status: GOOD\n",
        "\n"
       ]
      },
      {
       "output_type": "stream",
       "stream": "stdout",
       "text": [
        "GDISPLAY: Displaying image...\n",
        "\n",
        "GDISPLAY: Starting imexamine - quit with q"
       ]
      },
      {
       "output_type": "stream",
       "stream": "stdout",
       "text": [
        "\n",
        "\n",
        "GDISPLAY - Finished: 2016-03-22T17:40:48\n"
       ]
      },
      {
       "output_type": "stream",
       "stream": "stdout",
       "text": [
        "\n",
        "\n",
        "GDISPLAY - Started: 2016-03-22T17:40:48\n",
        "\n"
       ]
      },
      {
       "output_type": "stream",
       "stream": "stdout",
       "text": [
        "GDISPLAY: Temporary image name tmpout89231_1388frgS20101101S0086.fits\n",
        "\n",
        "GMULTIAMP - Started: 2016-03-22T17:40:48\n",
        "\n"
       ]
      },
      {
       "output_type": "stream",
       "stream": "stdout",
       "text": [
        "GMULTIAMP: Tiling image...\n"
       ]
      },
      {
       "output_type": "stream",
       "stream": "stdout",
       "text": [
        "               Image tiled.\n"
       ]
      },
      {
       "output_type": "stream",
       "stream": "stdout",
       "text": [
        "\n",
        "GMULTIAMP - Finished: 2016-03-22T17:40:51\n",
        "GMULTIAMP - Exit status: GOOD\n",
        "\n"
       ]
      },
      {
       "output_type": "stream",
       "stream": "stdout",
       "text": [
        "GDISPLAY: Displaying image...\n",
        "\n",
        "GDISPLAY: Starting imexamine - quit with q"
       ]
      },
      {
       "output_type": "stream",
       "stream": "stdout",
       "text": [
        "\n",
        "\n",
        "GDISPLAY - Finished: 2016-03-22T17:41:03\n"
       ]
      },
      {
       "output_type": "stream",
       "stream": "stdout",
       "text": [
        "\n"
       ]
      }
     ],
     "prompt_number": 25
    },
    {
     "cell_type": "heading",
     "level": 4,
     "metadata": {},
     "source": [
      "And let's treat ourselves before we move on..."
     ]
    },
    {
     "cell_type": "code",
     "collapsed": false,
     "input": [
      "first_sci = iraf.head('sci.lis', nlines=1, Stdout=1)[0].strip()\n",
      "iraf.gdisplay('frg'+frame, 1, z2=20000, fl_paste='yes')"
     ],
     "language": "python",
     "metadata": {},
     "outputs": [
      {
       "output_type": "stream",
       "stream": "stdout",
       "text": [
        "\n",
        "GDISPLAY - Started: 2016-03-22T17:49:00\n",
        "\n"
       ]
      },
      {
       "output_type": "stream",
       "stream": "stdout",
       "text": [
        "GDISPLAY: Temporary image name tmpout89231_1651frgS20101101S0086.fits\n",
        "\n",
        "GMULTIAMP - Started: 2016-03-22T17:49:00\n",
        "\n"
       ]
      },
      {
       "output_type": "stream",
       "stream": "stdout",
       "text": [
        "GMULTIAMP: Tiling image...\n"
       ]
      },
      {
       "output_type": "stream",
       "stream": "stdout",
       "text": [
        "               Image tiled.\n"
       ]
      },
      {
       "output_type": "stream",
       "stream": "stdout",
       "text": [
        "\n",
        "GMULTIAMP - Finished: 2016-03-22T17:49:03\n",
        "GMULTIAMP - Exit status: GOOD\n",
        "\n"
       ]
      },
      {
       "output_type": "stream",
       "stream": "stdout",
       "text": [
        "GDISPLAY: Displaying image...\n",
        "\n",
        "GDISPLAY: Starting imexamine - quit with q"
       ]
      },
      {
       "output_type": "stream",
       "stream": "stdout",
       "text": [
        "\n",
        "\n",
        "GDISPLAY - Finished: 2016-03-22T17:49:15\n"
       ]
      },
      {
       "output_type": "stream",
       "stream": "stdout",
       "text": [
        "\n"
       ]
      }
     ],
     "prompt_number": 35
    },
    {
     "cell_type": "heading",
     "level": 2,
     "metadata": {},
     "source": [
      "STEP 8: Mosaic the reduced target frames"
     ]
    },
    {
     "cell_type": "code",
     "collapsed": false,
     "input": [
      "iraf.imdelete('mfrg//@sci.lis', verify='no')\n",
      "\n",
      "iraf.gmosaic('frg//@sci.lis', fl_vardq='yes')"
     ],
     "language": "python",
     "metadata": {},
     "outputs": [
      {
       "output_type": "stream",
       "stream": "stdout",
       "text": [
        "GMOSAIC \n",
        "GMOSAIC -------------------------------------------------------------------\n",
        "GMOSAIC Log opened at [Tue 17:44:40 22-Mar-2016]\n",
        "GMOSAIC \n",
        "GMOSAIC --------------------\n",
        "GMOSAIC Input Parameters:\n",
        "GMOSAIC      inimages       = frg//@sci.lis\n",
        "GMOSAIC      outimages      = \n",
        "GMOSAIC      outpref        = m\n",
        "GMOSAIC      fl_paste       = no\n",
        "GMOSAIC      fl_vardq       = yes\n",
        "GMOSAIC      fl_fixpix      = no\n",
        "GMOSAIC      fl_clean       = yes\n",
        "GMOSAIC      fl_fulldq      = no\n",
        "GMOSAIC      bitflags       = all\n",
        "GMOSAIC      dqthresh       = 0.1\n",
        "GMOSAIC      geointer       = linear\n",
        "GMOSAIC      gap            = default\n",
        "GMOSAIC      bpmfile        = gmos$data/chipgaps.dat\n",
        "GMOSAIC      statsec        = default\n",
        "GMOSAIC      obsmode        = IMAGE\n",
        "GMOSAIC      sci_ext        = SCI\n",
        "GMOSAIC      var_ext        = VAR\n",
        "GMOSAIC      dq_ext         = DQ\n",
        "GMOSAIC      key_detsec     = DETSEC\n",
        "GMOSAIC      key_ccdsec     = CCDSEC\n",
        "GMOSAIC      key_datsec     = DATASEC\n",
        "GMOSAIC      key_ccdsum     = CCDSUM\n",
        "GMOSAIC      key_obsmode    = OBSMODE\n",
        "GMOSAIC      logfile        = \n",
        "GMOSAIC      verbose        = yes\n",
        "GMOSAIC      fl_real        = no\n",
        "GMOSAIC --------------------\n"
       ]
      },
      {
       "output_type": "stream",
       "stream": "stdout",
       "text": [
        "GMOSAIC Input: frgS20101101S0083  Output: mfrgS20101101S0083.fits\n"
       ]
      },
      {
       "output_type": "stream",
       "stream": "stdout",
       "text": [
        "GMOSAIC Setting rotation Xrot[1]= 0.011000, Yrot[1]= 0.011000\n"
       ]
      },
      {
       "output_type": "stream",
       "stream": "stdout",
       "text": [
        "GMOSAIC Setting rotation Xrot[2]= 0.000000, Yrot[2]= 0.000000\n"
       ]
      },
      {
       "output_type": "stream",
       "stream": "stdout",
       "text": [
        "GMOSAIC Setting rotation Xrot[3]= 0.012000, Yrot[3]= 0.012000\n"
       ]
      },
      {
       "output_type": "stream",
       "stream": "stdout",
       "text": [
        "GMOSAIC \n",
        "GMOSAIC Transforming image tmpimg89231_1570[SCI,1][1:1024,1:2304] to image tmpchipsci89231_1577\n",
        "GMOSAIC     xshift: 1.02 yshift: 0.21 xmag: 1.00 ymag: 1.00 xrot: 0.01 yrot: 0.01\n",
        "GMOSAIC \n",
        "GMOSAIC Transforming image tmpimg89231_1570[VAR,1][1:1024,1:2304] to image tmpchipvar89231_1578\n",
        "GMOSAIC     xshift: 1.02 yshift: 0.21 xmag: 1.00 ymag: 1.00 xrot: 0.01 yrot: 0.01\n",
        "GMOSAIC \n",
        "GMOSAIC Transforming image tmpimg89231_1570[DQ,1][1:1024,1:2304] to image tmpdq_transimg89231_1566.fits\n",
        "GMOSAIC     xshift: 1.02 yshift: 0.21 xmag: 1.00 ymag: 1.00 xrot: 0.01 yrot: 0.01\n"
       ]
      },
      {
       "output_type": "stream",
       "stream": "stdout",
       "text": [
        "GMOSAIC \n",
        "GMOSAIC Transforming image tmpimg89231_1570[SCI,2][1:1024,1:2304] to image tmpchipsci89231_1580\n",
        "GMOSAIC     xshift: 0.00 yshift: 0.00 xmag: 1.00 ymag: 1.00 xrot: 0.00 yrot: 0.00\n",
        "GMOSAIC \n",
        "GMOSAIC Transforming image tmpimg89231_1570[VAR,2][1:1024,1:2304] to image tmpchipvar89231_1581\n",
        "GMOSAIC     xshift: 0.00 yshift: 0.00 xmag: 1.00 ymag: 1.00 xrot: 0.00 yrot: 0.00\n"
       ]
      },
      {
       "output_type": "stream",
       "stream": "stdout",
       "text": [
        "GMOSAIC \n",
        "GMOSAIC Transforming image tmpimg89231_1570[SCI,3][1:1024,1:2304] to image tmpchipsci89231_1583\n",
        "GMOSAIC     xshift: -2.90 yshift: -0.91 xmag: 1.00 ymag: 1.00 xrot: 0.01 yrot: 0.01\n",
        "GMOSAIC \n",
        "GMOSAIC Transforming image tmpimg89231_1570[VAR,3][1:1024,1:2304] to image tmpchipvar89231_1584\n",
        "GMOSAIC     xshift: -2.90 yshift: -0.91 xmag: 1.00 ymag: 1.00 xrot: 0.01 yrot: 0.01\n",
        "GMOSAIC \n",
        "GMOSAIC Transforming image tmpimg89231_1570[DQ,3][1:1024,1:2304] to image tmpdq_transimg89231_1566.fits\n",
        "GMOSAIC     xshift: -2.90 yshift: -0.91 xmag: 1.00 ymag: 1.00 xrot: 0.01 yrot: 0.01\n"
       ]
      },
      {
       "output_type": "stream",
       "stream": "stdout",
       "text": [
        "GMOSAIC imcopy  tmpchipsci89231_1577  mfrgS20101101S0083.fits[1,append][1:1024,1:2304]  INDEF  0.\n",
        "GMOSAIC imcopy  tmpchipsci89231_1580  mfrgS20101101S0083.fits[1,append][1043:2066,1:2304]  INDEF  0.\n",
        "GMOSAIC imcopy  tmpchipsci89231_1583  mfrgS20101101S0083.fits[1,append][2085:3108,1:2304]  INDEF  0.\n",
        "GMOSAIC imcopy  tmpchipvar89231_1578  mfrgS20101101S0083.fits[2,append][1:1024,1:2304]  INDEF  0.\n",
        "GMOSAIC imcopy  tmpchipvar89231_1581  mfrgS20101101S0083.fits[2,append][1043:2066,1:2304]  INDEF  0.\n",
        "GMOSAIC imcopy  tmpchipvar89231_1584  mfrgS20101101S0083.fits[2,append][2085:3108,1:2304]  INDEF  0.\n",
        "GMOSAIC imcopy  tmpchipdq89231_1579  mfrgS20101101S0083.fits[3,append][1:1024,1:2304]  INDEF  0.\n",
        "GMOSAIC imcopy  tmpchipdq89231_1582  mfrgS20101101S0083.fits[3,append][1043:2066,1:2304]  INDEF  0.\n",
        "GMOSAIC imcopy  tmpchipdq89231_1585  mfrgS20101101S0083.fits[3,append][2085:3108,1:2304]  INDEF  0.\n"
       ]
      },
      {
       "output_type": "stream",
       "stream": "stdout",
       "text": [
        "gmos$data/gmos-s_bpm_EEV_22_3amp_v2_mosaic.pl\n",
        "GMOSAIC Cleaning areas outside imaging field, cleaning value = 5872.996\n"
       ]
      },
      {
       "output_type": "stream",
       "stream": "stdout",
       "text": [
        "GMOSAIC Input: frgS20101101S0084  Output: mfrgS20101101S0084.fits\n"
       ]
      },
      {
       "output_type": "stream",
       "stream": "stdout",
       "text": [
        "GMOSAIC Setting rotation Xrot[1]= 0.011000, Yrot[1]= 0.011000\n"
       ]
      },
      {
       "output_type": "stream",
       "stream": "stdout",
       "text": [
        "GMOSAIC Setting rotation Xrot[2]= 0.000000, Yrot[2]= 0.000000\n"
       ]
      },
      {
       "output_type": "stream",
       "stream": "stdout",
       "text": [
        "GMOSAIC Setting rotation Xrot[3]= 0.012000, Yrot[3]= 0.012000\n"
       ]
      },
      {
       "output_type": "stream",
       "stream": "stdout",
       "text": [
        "GMOSAIC \n",
        "GMOSAIC Transforming image tmpimg89231_1586[SCI,1][1:1024,1:2304] to image tmpchipsci89231_1593\n",
        "GMOSAIC     xshift: 1.02 yshift: 0.21 xmag: 1.00 ymag: 1.00 xrot: 0.01 yrot: 0.01\n",
        "GMOSAIC \n",
        "GMOSAIC Transforming image tmpimg89231_1586[VAR,1][1:1024,1:2304] to image tmpchipvar89231_1594\n",
        "GMOSAIC     xshift: 1.02 yshift: 0.21 xmag: 1.00 ymag: 1.00 xrot: 0.01 yrot: 0.01\n",
        "GMOSAIC \n",
        "GMOSAIC Transforming image tmpimg89231_1586[DQ,1][1:1024,1:2304] to image tmpdq_transimg89231_1566.fits\n",
        "GMOSAIC     xshift: 1.02 yshift: 0.21 xmag: 1.00 ymag: 1.00 xrot: 0.01 yrot: 0.01\n"
       ]
      },
      {
       "output_type": "stream",
       "stream": "stdout",
       "text": [
        "GMOSAIC \n",
        "GMOSAIC Transforming image tmpimg89231_1586[SCI,2][1:1024,1:2304] to image tmpchipsci89231_1596\n",
        "GMOSAIC     xshift: 0.00 yshift: 0.00 xmag: 1.00 ymag: 1.00 xrot: 0.00 yrot: 0.00\n",
        "GMOSAIC \n",
        "GMOSAIC Transforming image tmpimg89231_1586[VAR,2][1:1024,1:2304] to image tmpchipvar89231_1597\n",
        "GMOSAIC     xshift: 0.00 yshift: 0.00 xmag: 1.00 ymag: 1.00 xrot: 0.00 yrot: 0.00\n"
       ]
      },
      {
       "output_type": "stream",
       "stream": "stdout",
       "text": [
        "GMOSAIC \n",
        "GMOSAIC Transforming image tmpimg89231_1586[SCI,3][1:1024,1:2304] to image tmpchipsci89231_1599\n",
        "GMOSAIC     xshift: -2.90 yshift: -0.91 xmag: 1.00 ymag: 1.00 xrot: 0.01 yrot: 0.01\n",
        "GMOSAIC \n",
        "GMOSAIC Transforming image tmpimg89231_1586[VAR,3][1:1024,1:2304] to image tmpchipvar89231_1600\n",
        "GMOSAIC     xshift: -2.90 yshift: -0.91 xmag: 1.00 ymag: 1.00 xrot: 0.01 yrot: 0.01\n",
        "GMOSAIC \n",
        "GMOSAIC Transforming image tmpimg89231_1586[DQ,3][1:1024,1:2304] to image tmpdq_transimg89231_1566.fits\n",
        "GMOSAIC     xshift: -2.90 yshift: -0.91 xmag: 1.00 ymag: 1.00 xrot: 0.01 yrot: 0.01\n"
       ]
      },
      {
       "output_type": "stream",
       "stream": "stdout",
       "text": [
        "GMOSAIC imcopy  tmpchipsci89231_1593  mfrgS20101101S0084.fits[1,append][1:1024,1:2304]  INDEF  0.\n",
        "GMOSAIC imcopy  tmpchipsci89231_1596  mfrgS20101101S0084.fits[1,append][1043:2066,1:2304]  INDEF  0.\n",
        "GMOSAIC imcopy  tmpchipsci89231_1599  mfrgS20101101S0084.fits[1,append][2085:3108,1:2304]  INDEF  0.\n",
        "GMOSAIC imcopy  tmpchipvar89231_1594  mfrgS20101101S0084.fits[2,append][1:1024,1:2304]  INDEF  0.\n",
        "GMOSAIC imcopy  tmpchipvar89231_1597  mfrgS20101101S0084.fits[2,append][1043:2066,1:2304]  INDEF  0.\n",
        "GMOSAIC imcopy  tmpchipvar89231_1600  mfrgS20101101S0084.fits[2,append][2085:3108,1:2304]  INDEF  0.\n",
        "GMOSAIC imcopy  tmpchipdq89231_1595  mfrgS20101101S0084.fits[3,append][1:1024,1:2304]  INDEF  0.\n",
        "GMOSAIC imcopy  tmpchipdq89231_1598  mfrgS20101101S0084.fits[3,append][1043:2066,1:2304]  INDEF  0.\n",
        "GMOSAIC imcopy  tmpchipdq89231_1601  mfrgS20101101S0084.fits[3,append][2085:3108,1:2304]  INDEF  0.\n"
       ]
      },
      {
       "output_type": "stream",
       "stream": "stdout",
       "text": [
        "gmos$data/gmos-s_bpm_EEV_22_3amp_v2_mosaic.pl\n",
        "GMOSAIC Cleaning areas outside imaging field, cleaning value = 6226.409\n"
       ]
      },
      {
       "output_type": "stream",
       "stream": "stdout",
       "text": [
        "GMOSAIC Input: frgS20101101S0085  Output: mfrgS20101101S0085.fits\n"
       ]
      },
      {
       "output_type": "stream",
       "stream": "stdout",
       "text": [
        "GMOSAIC Setting rotation Xrot[1]= 0.011000, Yrot[1]= 0.011000\n"
       ]
      },
      {
       "output_type": "stream",
       "stream": "stdout",
       "text": [
        "GMOSAIC Setting rotation Xrot[2]= 0.000000, Yrot[2]= 0.000000\n"
       ]
      },
      {
       "output_type": "stream",
       "stream": "stdout",
       "text": [
        "GMOSAIC Setting rotation Xrot[3]= 0.012000, Yrot[3]= 0.012000\n"
       ]
      },
      {
       "output_type": "stream",
       "stream": "stdout",
       "text": [
        "GMOSAIC \n",
        "GMOSAIC Transforming image tmpimg89231_1602[SCI,1][1:1024,1:2304] to image tmpchipsci89231_1609\n",
        "GMOSAIC     xshift: 1.02 yshift: 0.21 xmag: 1.00 ymag: 1.00 xrot: 0.01 yrot: 0.01\n",
        "GMOSAIC \n",
        "GMOSAIC Transforming image tmpimg89231_1602[VAR,1][1:1024,1:2304] to image tmpchipvar89231_1610\n",
        "GMOSAIC     xshift: 1.02 yshift: 0.21 xmag: 1.00 ymag: 1.00 xrot: 0.01 yrot: 0.01\n",
        "GMOSAIC \n",
        "GMOSAIC Transforming image tmpimg89231_1602[DQ,1][1:1024,1:2304] to image tmpdq_transimg89231_1566.fits\n",
        "GMOSAIC     xshift: 1.02 yshift: 0.21 xmag: 1.00 ymag: 1.00 xrot: 0.01 yrot: 0.01\n"
       ]
      },
      {
       "output_type": "stream",
       "stream": "stdout",
       "text": [
        "GMOSAIC \n",
        "GMOSAIC Transforming image tmpimg89231_1602[SCI,2][1:1024,1:2304] to image tmpchipsci89231_1612\n",
        "GMOSAIC     xshift: 0.00 yshift: 0.00 xmag: 1.00 ymag: 1.00 xrot: 0.00 yrot: 0.00\n",
        "GMOSAIC \n",
        "GMOSAIC Transforming image tmpimg89231_1602[VAR,2][1:1024,1:2304] to image tmpchipvar89231_1613\n",
        "GMOSAIC     xshift: 0.00 yshift: 0.00 xmag: 1.00 ymag: 1.00 xrot: 0.00 yrot: 0.00\n"
       ]
      },
      {
       "output_type": "stream",
       "stream": "stdout",
       "text": [
        "GMOSAIC \n",
        "GMOSAIC Transforming image tmpimg89231_1602[SCI,3][1:1024,1:2304] to image tmpchipsci89231_1615\n",
        "GMOSAIC     xshift: -2.90 yshift: -0.91 xmag: 1.00 ymag: 1.00 xrot: 0.01 yrot: 0.01\n",
        "GMOSAIC \n",
        "GMOSAIC Transforming image tmpimg89231_1602[VAR,3][1:1024,1:2304] to image tmpchipvar89231_1616\n",
        "GMOSAIC     xshift: -2.90 yshift: -0.91 xmag: 1.00 ymag: 1.00 xrot: 0.01 yrot: 0.01\n",
        "GMOSAIC \n",
        "GMOSAIC Transforming image tmpimg89231_1602[DQ,3][1:1024,1:2304] to image tmpdq_transimg89231_1566.fits\n",
        "GMOSAIC     xshift: -2.90 yshift: -0.91 xmag: 1.00 ymag: 1.00 xrot: 0.01 yrot: 0.01\n"
       ]
      },
      {
       "output_type": "stream",
       "stream": "stdout",
       "text": [
        "GMOSAIC imcopy  tmpchipsci89231_1609  mfrgS20101101S0085.fits[1,append][1:1024,1:2304]  INDEF  0.\n",
        "GMOSAIC imcopy  tmpchipsci89231_1612  mfrgS20101101S0085.fits[1,append][1043:2066,1:2304]  INDEF  0.\n",
        "GMOSAIC imcopy  tmpchipsci89231_1615  mfrgS20101101S0085.fits[1,append][2085:3108,1:2304]  INDEF  0.\n",
        "GMOSAIC imcopy  tmpchipvar89231_1610  mfrgS20101101S0085.fits[2,append][1:1024,1:2304]  INDEF  0.\n",
        "GMOSAIC imcopy  tmpchipvar89231_1613  mfrgS20101101S0085.fits[2,append][1043:2066,1:2304]  INDEF  0.\n",
        "GMOSAIC imcopy  tmpchipvar89231_1616  mfrgS20101101S0085.fits[2,append][2085:3108,1:2304]  INDEF  0.\n",
        "GMOSAIC imcopy  tmpchipdq89231_1611  mfrgS20101101S0085.fits[3,append][1:1024,1:2304]  INDEF  0.\n",
        "GMOSAIC imcopy  tmpchipdq89231_1614  mfrgS20101101S0085.fits[3,append][1043:2066,1:2304]  INDEF  0.\n",
        "GMOSAIC imcopy  tmpchipdq89231_1617  mfrgS20101101S0085.fits[3,append][2085:3108,1:2304]  INDEF  0.\n"
       ]
      },
      {
       "output_type": "stream",
       "stream": "stdout",
       "text": [
        "gmos$data/gmos-s_bpm_EEV_22_3amp_v2_mosaic.pl\n",
        "GMOSAIC Cleaning areas outside imaging field, cleaning value = 6250.915\n"
       ]
      },
      {
       "output_type": "stream",
       "stream": "stdout",
       "text": [
        "GMOSAIC Input: frgS20101101S0086  Output: mfrgS20101101S0086.fits\n"
       ]
      },
      {
       "output_type": "stream",
       "stream": "stdout",
       "text": [
        "GMOSAIC Setting rotation Xrot[1]= 0.011000, Yrot[1]= 0.011000\n"
       ]
      },
      {
       "output_type": "stream",
       "stream": "stdout",
       "text": [
        "GMOSAIC Setting rotation Xrot[2]= 0.000000, Yrot[2]= 0.000000\n"
       ]
      },
      {
       "output_type": "stream",
       "stream": "stdout",
       "text": [
        "GMOSAIC Setting rotation Xrot[3]= 0.012000, Yrot[3]= 0.012000\n"
       ]
      },
      {
       "output_type": "stream",
       "stream": "stdout",
       "text": [
        "GMOSAIC \n",
        "GMOSAIC Transforming image tmpimg89231_1618[SCI,1][1:1024,1:2304] to image tmpchipsci89231_1625\n",
        "GMOSAIC     xshift: 1.02 yshift: 0.21 xmag: 1.00 ymag: 1.00 xrot: 0.01 yrot: 0.01\n",
        "GMOSAIC \n",
        "GMOSAIC Transforming image tmpimg89231_1618[VAR,1][1:1024,1:2304] to image tmpchipvar89231_1626\n",
        "GMOSAIC     xshift: 1.02 yshift: 0.21 xmag: 1.00 ymag: 1.00 xrot: 0.01 yrot: 0.01\n",
        "GMOSAIC \n",
        "GMOSAIC Transforming image tmpimg89231_1618[DQ,1][1:1024,1:2304] to image tmpdq_transimg89231_1566.fits\n",
        "GMOSAIC     xshift: 1.02 yshift: 0.21 xmag: 1.00 ymag: 1.00 xrot: 0.01 yrot: 0.01\n"
       ]
      },
      {
       "output_type": "stream",
       "stream": "stdout",
       "text": [
        "GMOSAIC \n",
        "GMOSAIC Transforming image tmpimg89231_1618[SCI,2][1:1024,1:2304] to image tmpchipsci89231_1628\n",
        "GMOSAIC     xshift: 0.00 yshift: 0.00 xmag: 1.00 ymag: 1.00 xrot: 0.00 yrot: 0.00\n",
        "GMOSAIC \n",
        "GMOSAIC Transforming image tmpimg89231_1618[VAR,2][1:1024,1:2304] to image tmpchipvar89231_1629\n",
        "GMOSAIC     xshift: 0.00 yshift: 0.00 xmag: 1.00 ymag: 1.00 xrot: 0.00 yrot: 0.00\n"
       ]
      },
      {
       "output_type": "stream",
       "stream": "stdout",
       "text": [
        "GMOSAIC \n",
        "GMOSAIC Transforming image tmpimg89231_1618[SCI,3][1:1024,1:2304] to image tmpchipsci89231_1631\n",
        "GMOSAIC     xshift: -2.90 yshift: -0.91 xmag: 1.00 ymag: 1.00 xrot: 0.01 yrot: 0.01\n",
        "GMOSAIC \n",
        "GMOSAIC Transforming image tmpimg89231_1618[VAR,3][1:1024,1:2304] to image tmpchipvar89231_1632\n",
        "GMOSAIC     xshift: -2.90 yshift: -0.91 xmag: 1.00 ymag: 1.00 xrot: 0.01 yrot: 0.01\n",
        "GMOSAIC \n",
        "GMOSAIC Transforming image tmpimg89231_1618[DQ,3][1:1024,1:2304] to image tmpdq_transimg89231_1566.fits\n",
        "GMOSAIC     xshift: -2.90 yshift: -0.91 xmag: 1.00 ymag: 1.00 xrot: 0.01 yrot: 0.01\n"
       ]
      },
      {
       "output_type": "stream",
       "stream": "stdout",
       "text": [
        "GMOSAIC imcopy  tmpchipsci89231_1625  mfrgS20101101S0086.fits[1,append][1:1024,1:2304]  INDEF  0.\n",
        "GMOSAIC imcopy  tmpchipsci89231_1628  mfrgS20101101S0086.fits[1,append][1043:2066,1:2304]  INDEF  0.\n",
        "GMOSAIC imcopy  tmpchipsci89231_1631  mfrgS20101101S0086.fits[1,append][2085:3108,1:2304]  INDEF  0.\n",
        "GMOSAIC imcopy  tmpchipvar89231_1626  mfrgS20101101S0086.fits[2,append][1:1024,1:2304]  INDEF  0.\n",
        "GMOSAIC imcopy  tmpchipvar89231_1629  mfrgS20101101S0086.fits[2,append][1043:2066,1:2304]  INDEF  0.\n",
        "GMOSAIC imcopy  tmpchipvar89231_1632  mfrgS20101101S0086.fits[2,append][2085:3108,1:2304]  INDEF  0.\n",
        "GMOSAIC imcopy  tmpchipdq89231_1627  mfrgS20101101S0086.fits[3,append][1:1024,1:2304]  INDEF  0.\n",
        "GMOSAIC imcopy  tmpchipdq89231_1630  mfrgS20101101S0086.fits[3,append][1043:2066,1:2304]  INDEF  0.\n",
        "GMOSAIC imcopy  tmpchipdq89231_1633  mfrgS20101101S0086.fits[3,append][2085:3108,1:2304]  INDEF  0.\n"
       ]
      },
      {
       "output_type": "stream",
       "stream": "stdout",
       "text": [
        "gmos$data/gmos-s_bpm_EEV_22_3amp_v2_mosaic.pl\n",
        "GMOSAIC Cleaning areas outside imaging field, cleaning value = 6273.984\n"
       ]
      },
      {
       "output_type": "stream",
       "stream": "stdout",
       "text": [
        "GMOSAIC All 4 images successfully mosaiced.\n"
       ]
      },
      {
       "output_type": "stream",
       "stream": "stdout",
       "text": [
        "GMOSAIC --------------------\n",
        "GMOSAIC Exit status: SUCCESS\n",
        "GMOSAIC Log closed at [Tue 17:45:35 22-Mar-2016]\n",
        "GMOSAIC -------------------------------------------------------------------\n",
        "GMOSAIC \n"
       ]
      }
     ],
     "prompt_number": 28
    },
    {
     "cell_type": "heading",
     "level": 4,
     "metadata": {},
     "source": [
      "Visually inspect the mosaiced frames"
     ]
    },
    {
     "cell_type": "code",
     "collapsed": false,
     "input": [
      "sciframes = open('sci.lis', 'r')\n",
      "for line in sciframes:\n",
      "    frame = line.strip()\n",
      "    iraf.gdisplay('mfrg'+frame, 1, z2=20000, fl_paste='yes')\n",
      "sciframes.close()"
     ],
     "language": "python",
     "metadata": {},
     "outputs": [
      {
       "output_type": "stream",
       "stream": "stdout",
       "text": [
        "\n",
        "GDISPLAY - Started: 2016-03-22T17:49:15\n",
        "\n"
       ]
      },
      {
       "output_type": "stream",
       "stream": "stdout",
       "text": [
        "WARNING - GDISPLAY: only one science extension found, turning paste off\n",
        "\n",
        "WARNING - GDISPLAY: Input image has been processed by GMOSAIC.\n",
        "                    Switching off the following flags:\n",
        "                          ret_roi=no\n",
        "\n",
        "GDISPLAY: Displaying image...\n",
        "\n",
        "GDISPLAY: Starting imexamine - quit with q"
       ]
      },
      {
       "output_type": "stream",
       "stream": "stdout",
       "text": [
        "\n",
        "\n",
        "GDISPLAY - Finished: 2016-03-22T17:49:17\n"
       ]
      },
      {
       "output_type": "stream",
       "stream": "stdout",
       "text": [
        "\n",
        "\n",
        "GDISPLAY - Started: 2016-03-22T17:49:17\n",
        "\n"
       ]
      },
      {
       "output_type": "stream",
       "stream": "stdout",
       "text": [
        "WARNING - GDISPLAY: only one science extension found, turning paste off\n",
        "\n",
        "WARNING - GDISPLAY: Input image has been processed by GMOSAIC.\n",
        "                    Switching off the following flags:\n",
        "                          ret_roi=no\n",
        "\n",
        "GDISPLAY: Displaying image...\n",
        "\n",
        "GDISPLAY: Starting imexamine - quit with q"
       ]
      },
      {
       "output_type": "stream",
       "stream": "stdout",
       "text": [
        "\n",
        "\n",
        "GDISPLAY - Finished: 2016-03-22T17:49:18\n"
       ]
      },
      {
       "output_type": "stream",
       "stream": "stdout",
       "text": [
        "\n",
        "\n",
        "GDISPLAY - Started: 2016-03-22T17:49:18\n",
        "\n"
       ]
      },
      {
       "output_type": "stream",
       "stream": "stdout",
       "text": [
        "WARNING - GDISPLAY: only one science extension found, turning paste off\n",
        "\n",
        "WARNING - GDISPLAY: Input image has been processed by GMOSAIC.\n",
        "                    Switching off the following flags:\n",
        "                          ret_roi=no\n",
        "\n",
        "GDISPLAY: Displaying image...\n",
        "\n",
        "GDISPLAY: Starting imexamine - quit with q"
       ]
      },
      {
       "output_type": "stream",
       "stream": "stdout",
       "text": [
        "\n",
        "\n",
        "GDISPLAY - Finished: 2016-03-22T17:49:19\n"
       ]
      },
      {
       "output_type": "stream",
       "stream": "stdout",
       "text": [
        "\n",
        "\n",
        "GDISPLAY - Started: 2016-03-22T17:49:19\n",
        "\n"
       ]
      },
      {
       "output_type": "stream",
       "stream": "stdout",
       "text": [
        "WARNING - GDISPLAY: only one science extension found, turning paste off\n",
        "\n",
        "WARNING - GDISPLAY: Input image has been processed by GMOSAIC.\n",
        "                    Switching off the following flags:\n",
        "                          ret_roi=no\n",
        "\n",
        "GDISPLAY: Displaying image...\n",
        "\n",
        "GDISPLAY: Starting imexamine - quit with q"
       ]
      },
      {
       "output_type": "stream",
       "stream": "stdout",
       "text": [
        "\n",
        "\n",
        "GDISPLAY - Finished: 2016-03-22T17:49:20\n"
       ]
      },
      {
       "output_type": "stream",
       "stream": "stdout",
       "text": [
        "\n"
       ]
      }
     ],
     "prompt_number": 36
    },
    {
     "cell_type": "heading",
     "level": 2,
     "metadata": {},
     "source": [
      "STEP 9: Align and stack the mosaic target frames"
     ]
    },
    {
     "cell_type": "code",
     "collapsed": false,
     "input": [
      "iraf.imdelete(science['procsci'], verify='no')\n",
      "\n",
      "iraf.imcoadd('mfrg//@sci.lis', outimage=science['procsci'], logfile=logfile)"
     ],
     "language": "python",
     "metadata": {},
     "outputs": [
      {
       "output_type": "stream",
       "stream": "stdout",
       "text": [
        "-----------------------------------------------------------------------------\n",
        "IMCOADD -- Tue Mar 22 17:52:55 HST 2016\n",
        "\n",
        "Images (and masks) in list\n",
        "mfrgS20101101S0083\n",
        "mfrgS20101101S0084\n",
        "mfrgS20101101S0085\n",
        "mfrgS20101101S0086\n"
       ]
      },
      {
       "output_type": "stream",
       "stream": "stdout",
       "text": [
        "Alignment method: wcs\n"
       ]
      },
      {
       "output_type": "stream",
       "stream": "stdout",
       "text": [
        "Making individual masks from DQ\n",
        "Fixpix input images using DQ"
       ]
      },
      {
       "output_type": "stream",
       "stream": "stdout",
       "text": [
        "\n"
       ]
      },
      {
       "output_type": "stream",
       "stream": "stdout",
       "text": [
        "Instrument + camera      : GMOS-S  \n",
        "Telescope ISS port number: 3\n",
        "Bad pixel file gmos$data/gmos-s_bpm_EEV_22_3amp_v2_mosaic.pl\n",
        "Read noise:   3.85 e-   Gain:   1.00 e-/ADU\n"
       ]
      },
      {
       "output_type": "stream",
       "stream": "stdout",
       "text": [
        "Co-added cleaned output image: ngc6872_i\n",
        "Pixel scale: 0.1461\n",
        "Statistics section: [100:3008,100:2204]\n",
        "Finding objects in mfrgS20101101S0083"
       ]
      },
      {
       "output_type": "stream",
       "stream": "stdout",
       "text": [
        "\n",
        "Sampling for geotran  : 20  20"
       ]
      },
      {
       "output_type": "stream",
       "stream": "stdout",
       "text": [
        "\n",
        "Block size for geotran: 2048  2048\n",
        "Centering objects in mfrgS20101101S0083\n",
        "Number of objects successfully centered in reference image 341"
       ]
      },
      {
       "output_type": "stream",
       "stream": "stdout",
       "text": [
        "\n",
        "Alignment method: wcs\n",
        "\n"
       ]
      },
      {
       "output_type": "stream",
       "stream": "stdout",
       "text": [
        "Coordinate list: imxymatch.1  Transform: mfrgS20101101S0084_trn\n"
       ]
      },
      {
       "output_type": "stream",
       "stream": "stdout",
       "text": [
        "    Results file: \n"
       ]
      },
      {
       "output_type": "stream",
       "stream": "stdout",
       "text": [
        "Coordinate mapping status\n"
       ]
      },
      {
       "output_type": "stream",
       "stream": "stdout",
       "text": [
        "    "
       ]
      },
      {
       "output_type": "stream",
       "stream": "stdout",
       "text": [
        "X fit ok.  Y fit ok.\n"
       ]
      },
      {
       "output_type": "stream",
       "stream": "stdout",
       "text": [
        "    Xin and Yin fit rms: 0.004190034  0.004428011\n"
       ]
      },
      {
       "output_type": "stream",
       "stream": "stdout",
       "text": [
        "Coordinate mapping parameters\n"
       ]
      },
      {
       "output_type": "stream",
       "stream": "stdout",
       "text": [
        "    Mean Xref and Yref: 1554.5  1152.5\n"
       ]
      },
      {
       "output_type": "stream",
       "stream": "stdout",
       "text": [
        "    Mean Xin and Yin: 1520.272  1152.509\n"
       ]
      },
      {
       "output_type": "stream",
       "stream": "stdout",
       "text": [
        "    X and Y shift: -34.22131  0.006238919  (xin  yin)\n"
       ]
      },
      {
       "output_type": "stream",
       "stream": "stdout",
       "text": [
        "    X and Y scale: 0.9999985  0.9999985  (xin / xref  yin / yref)\n"
       ]
      },
      {
       "output_type": "stream",
       "stream": "stdout",
       "text": [
        "    X and Y axis rotation: 359.99985  359.99985  (degrees  degrees)\n"
       ]
      },
      {
       "output_type": "stream",
       "stream": "stdout",
       "text": [
        "Centering objects in mfrgS20101101S0084\n",
        "\n"
       ]
      },
      {
       "output_type": "stream",
       "stream": "stdout",
       "text": [
        "Xmax =  3108   Ymax = 2304\n",
        "Entering geomap\n",
        "Fitting geometry rscale\n",
        "Iterating a maximum of 5 times\n",
        "\n"
       ]
      },
      {
       "output_type": "stream",
       "stream": "stdout",
       "text": [
        "Coordinate list: mfrgS20101101S0084_trn  Transform: mfrgS20101101S0084_trn\n"
       ]
      },
      {
       "output_type": "stream",
       "stream": "stdout",
       "text": [
        "    Results file: tmpres89231_1705\n"
       ]
      },
      {
       "output_type": "stream",
       "stream": "stdout",
       "text": [
        "Coordinate mapping status\n"
       ]
      },
      {
       "output_type": "stream",
       "stream": "stdout",
       "text": [
        "    "
       ]
      },
      {
       "output_type": "stream",
       "stream": "stdout",
       "text": [
        "X fit ok.  Y fit ok.\n"
       ]
      },
      {
       "output_type": "stream",
       "stream": "stdout",
       "text": [
        "    Xin and Yin fit rms: 7.120398  5.369265\n"
       ]
      },
      {
       "output_type": "stream",
       "stream": "stdout",
       "text": [
        "Coordinate mapping parameters\n"
       ]
      },
      {
       "output_type": "stream",
       "stream": "stdout",
       "text": [
        "    Mean Xref and Yref: 1578.495  1142.522\n"
       ]
      },
      {
       "output_type": "stream",
       "stream": "stdout",
       "text": [
        "    Mean Xin and Yin: 1542.35  1142.402\n"
       ]
      },
      {
       "output_type": "stream",
       "stream": "stdout",
       "text": [
        "    X and Y shift: -34.76467  1.194092  (xin  yin)\n"
       ]
      },
      {
       "output_type": "stream",
       "stream": "stdout",
       "text": [
        "    X and Y scale: 0.9996607  0.9996608  (xin / xref  yin / yref)\n"
       ]
      },
      {
       "output_type": "stream",
       "stream": "stdout",
       "text": [
        "    X and Y axis rotation: 0.02395  0.02395  (degrees  degrees)\n"
       ]
      },
      {
       "output_type": "stream",
       "stream": "stdout",
       "text": [
        "\n"
       ]
      },
      {
       "output_type": "stream",
       "stream": "stdout",
       "text": [
        "Coordinate list: mfrgS20101101S0084_trn  Transform: mfrgS20101101S0084_trn\n"
       ]
      },
      {
       "output_type": "stream",
       "stream": "stdout",
       "text": [
        "    Results file: tmpres89231_1705\n"
       ]
      },
      {
       "output_type": "stream",
       "stream": "stdout",
       "text": [
        "Coordinate mapping status\n"
       ]
      },
      {
       "output_type": "stream",
       "stream": "stdout",
       "text": [
        "    "
       ]
      },
      {
       "output_type": "stream",
       "stream": "stdout",
       "text": [
        "X fit ok.  Y fit ok.\n"
       ]
      },
      {
       "output_type": "stream",
       "stream": "stdout",
       "text": [
        "    Xin and Yin fit rms: 0.3983015  0.298348\n"
       ]
      },
      {
       "output_type": "stream",
       "stream": "stdout",
       "text": [
        "Coordinate mapping parameters\n"
       ]
      },
      {
       "output_type": "stream",
       "stream": "stdout",
       "text": [
        "    Mean Xref and Yref: 1600.16  1121.953\n"
       ]
      },
      {
       "output_type": "stream",
       "stream": "stdout",
       "text": [
        "    Mean Xin and Yin: 1565.807  1121.95\n"
       ]
      },
      {
       "output_type": "stream",
       "stream": "stdout",
       "text": [
        "    X and Y shift: -34.4846  0.02148438  (xin  yin)\n"
       ]
      },
      {
       "output_type": "stream",
       "stream": "stdout",
       "text": [
        "    X and Y scale: 1.000018  1.000018  (xin / xref  yin / yref)\n"
       ]
      },
      {
       "output_type": "stream",
       "stream": "stdout",
       "text": [
        "    X and Y axis rotation: 359.99899  359.99899  (degrees  degrees)\n"
       ]
      },
      {
       "output_type": "stream",
       "stream": "stdout",
       "text": [
        "\n"
       ]
      },
      {
       "output_type": "stream",
       "stream": "stdout",
       "text": [
        "Coordinate list: mfrgS20101101S0084_trn  Transform: mfrgS20101101S0084_trn\n"
       ]
      },
      {
       "output_type": "stream",
       "stream": "stdout",
       "text": [
        "    Results file: tmpres89231_1705\n"
       ]
      },
      {
       "output_type": "stream",
       "stream": "stdout",
       "text": [
        "Coordinate mapping status\n"
       ]
      },
      {
       "output_type": "stream",
       "stream": "stdout",
       "text": [
        "    "
       ]
      },
      {
       "output_type": "stream",
       "stream": "stdout",
       "text": [
        "X fit ok.  Y fit ok.\n"
       ]
      },
      {
       "output_type": "stream",
       "stream": "stdout",
       "text": [
        "    Xin and Yin fit rms: 0.2062725  0.1566572\n"
       ]
      },
      {
       "output_type": "stream",
       "stream": "stdout",
       "text": [
        "Coordinate mapping parameters\n"
       ]
      },
      {
       "output_type": "stream",
       "stream": "stdout",
       "text": [
        "    Mean Xref and Yref: 1608.036  1117.443\n"
       ]
      },
      {
       "output_type": "stream",
       "stream": "stdout",
       "text": [
        "    Mean Xin and Yin: 1573.565  1117.5\n"
       ]
      },
      {
       "output_type": "stream",
       "stream": "stdout",
       "text": [
        "    X and Y shift: -34.42154  0.07080078  (xin  yin)\n"
       ]
      },
      {
       "output_type": "stream",
       "stream": "stdout",
       "text": [
        "    X and Y scale: 0.9999857  0.9999857  (xin / xref  yin / yref)\n"
       ]
      },
      {
       "output_type": "stream",
       "stream": "stdout",
       "text": [
        "    X and Y axis rotation: 359.99985  359.99985  (degrees  degrees)\n"
       ]
      },
      {
       "output_type": "stream",
       "stream": "stdout",
       "text": [
        "\n"
       ]
      },
      {
       "output_type": "stream",
       "stream": "stdout",
       "text": [
        "Coordinate list: mfrgS20101101S0084_trn  Transform: mfrgS20101101S0084_trn\n"
       ]
      },
      {
       "output_type": "stream",
       "stream": "stdout",
       "text": [
        "    Results file: tmpres89231_1705\n"
       ]
      },
      {
       "output_type": "stream",
       "stream": "stdout",
       "text": [
        "Coordinate mapping status\n"
       ]
      },
      {
       "output_type": "stream",
       "stream": "stdout",
       "text": [
        "    "
       ]
      },
      {
       "output_type": "stream",
       "stream": "stdout",
       "text": [
        "X fit ok.  Y fit ok.\n"
       ]
      },
      {
       "output_type": "stream",
       "stream": "stdout",
       "text": [
        "    Xin and Yin fit rms: 0.1395139  0.1176723\n"
       ]
      },
      {
       "output_type": "stream",
       "stream": "stdout",
       "text": [
        "Coordinate mapping parameters\n"
       ]
      },
      {
       "output_type": "stream",
       "stream": "stdout",
       "text": [
        "    Mean Xref and Yref: 1601.315  1118.835\n"
       ]
      },
      {
       "output_type": "stream",
       "stream": "stdout",
       "text": [
        "    Mean Xin and Yin: 1566.857  1118.893\n"
       ]
      },
      {
       "output_type": "stream",
       "stream": "stdout",
       "text": [
        "    X and Y shift: -34.44775  0.04614258  (xin  yin)\n"
       ]
      },
      {
       "output_type": "stream",
       "stream": "stdout",
       "text": [
        "    X and Y scale: 0.9999995  0.9999993  (xin / xref  yin / yref)\n"
       ]
      },
      {
       "output_type": "stream",
       "stream": "stdout",
       "text": [
        "    X and Y axis rotation: 359.99921  359.99921  (degrees  degrees)\n"
       ]
      },
      {
       "output_type": "stream",
       "stream": "stdout",
       "text": [
        "\n"
       ]
      },
      {
       "output_type": "stream",
       "stream": "stdout",
       "text": [
        "Coordinate list: imxymatch.1  Transform: mfrgS20101101S0085_trn\n"
       ]
      },
      {
       "output_type": "stream",
       "stream": "stdout",
       "text": [
        "    Results file: \n"
       ]
      },
      {
       "output_type": "stream",
       "stream": "stdout",
       "text": [
        "Coordinate mapping status\n"
       ]
      },
      {
       "output_type": "stream",
       "stream": "stdout",
       "text": [
        "    "
       ]
      },
      {
       "output_type": "stream",
       "stream": "stdout",
       "text": [
        "X fit ok.  Y fit ok.\n"
       ]
      },
      {
       "output_type": "stream",
       "stream": "stdout",
       "text": [
        "    Xin and Yin fit rms: 0.004170219  0.004505987\n"
       ]
      },
      {
       "output_type": "stream",
       "stream": "stdout",
       "text": [
        "Coordinate mapping parameters\n"
       ]
      },
      {
       "output_type": "stream",
       "stream": "stdout",
       "text": [
        "    Mean Xref and Yref: 1554.5  1152.5\n"
       ]
      },
      {
       "output_type": "stream",
       "stream": "stdout",
       "text": [
        "    Mean Xin and Yin: 1554.478  1118.259\n"
       ]
      },
      {
       "output_type": "stream",
       "stream": "stdout",
       "text": [
        "    X and Y shift: -0.01216722  -34.24942  (xin  yin)\n"
       ]
      },
      {
       "output_type": "stream",
       "stream": "stdout",
       "text": [
        "    X and Y scale: 0.9999986  0.9999986  (xin / xref  yin / yref)\n"
       ]
      },
      {
       "output_type": "stream",
       "stream": "stdout",
       "text": [
        "    X and Y axis rotation: 359.99960  359.99960  (degrees  degrees)\n"
       ]
      },
      {
       "output_type": "stream",
       "stream": "stdout",
       "text": [
        "Centering objects in mfrgS20101101S0085\n",
        "\n"
       ]
      },
      {
       "output_type": "stream",
       "stream": "stdout",
       "text": [
        "Xmax =  3108   Ymax = 2304\n",
        "Entering geomap\n",
        "Fitting geometry rscale\n",
        "Iterating a maximum of 5 times\n",
        "\n"
       ]
      },
      {
       "output_type": "stream",
       "stream": "stdout",
       "text": [
        "Coordinate list: mfrgS20101101S0085_trn  Transform: mfrgS20101101S0085_trn\n"
       ]
      },
      {
       "output_type": "stream",
       "stream": "stdout",
       "text": [
        "    Results file: tmpres89231_1705\n"
       ]
      },
      {
       "output_type": "stream",
       "stream": "stdout",
       "text": [
        "Coordinate mapping status\n"
       ]
      },
      {
       "output_type": "stream",
       "stream": "stdout",
       "text": [
        "    "
       ]
      },
      {
       "output_type": "stream",
       "stream": "stdout",
       "text": [
        "X fit ok.  Y fit ok.\n"
       ]
      },
      {
       "output_type": "stream",
       "stream": "stdout",
       "text": [
        "    Xin and Yin fit rms: 7.607641  6.169983\n"
       ]
      },
      {
       "output_type": "stream",
       "stream": "stdout",
       "text": [
        "Coordinate mapping parameters\n"
       ]
      },
      {
       "output_type": "stream",
       "stream": "stdout",
       "text": [
        "    Mean Xref and Yref: 1571.145  1142.983\n"
       ]
      },
      {
       "output_type": "stream",
       "stream": "stdout",
       "text": [
        "    Mean Xin and Yin: 1534.601  1108.912\n"
       ]
      },
      {
       "output_type": "stream",
       "stream": "stdout",
       "text": [
        "    X and Y shift: -34.75629  -34.05847  (xin  yin)\n"
       ]
      },
      {
       "output_type": "stream",
       "stream": "stdout",
       "text": [
        "    X and Y scale: 0.9997549  0.9997549  (xin / xref  yin / yref)\n"
       ]
      },
      {
       "output_type": "stream",
       "stream": "stdout",
       "text": [
        "    X and Y axis rotation: 0.00268  0.00268  (degrees  degrees)\n"
       ]
      },
      {
       "output_type": "stream",
       "stream": "stdout",
       "text": [
        "\n"
       ]
      },
      {
       "output_type": "stream",
       "stream": "stdout",
       "text": [
        "Coordinate list: mfrgS20101101S0085_trn  Transform: mfrgS20101101S0085_trn\n"
       ]
      },
      {
       "output_type": "stream",
       "stream": "stdout",
       "text": [
        "    Results file: tmpres89231_1705\n"
       ]
      },
      {
       "output_type": "stream",
       "stream": "stdout",
       "text": [
        "Coordinate mapping status\n"
       ]
      },
      {
       "output_type": "stream",
       "stream": "stdout",
       "text": [
        "    "
       ]
      },
      {
       "output_type": "stream",
       "stream": "stdout",
       "text": [
        "X fit ok.  Y fit ok.\n"
       ]
      },
      {
       "output_type": "stream",
       "stream": "stdout",
       "text": [
        "    Xin and Yin fit rms: 0.5179625  0.6675916\n"
       ]
      },
      {
       "output_type": "stream",
       "stream": "stdout",
       "text": [
        "Coordinate mapping parameters\n"
       ]
      },
      {
       "output_type": "stream",
       "stream": "stdout",
       "text": [
        "    Mean Xref and Yref: 1592.988  1130.208\n"
       ]
      },
      {
       "output_type": "stream",
       "stream": "stdout",
       "text": [
        "    Mean Xin and Yin: 1558.499  1095.445\n"
       ]
      },
      {
       "output_type": "stream",
       "stream": "stdout",
       "text": [
        "    X and Y shift: -34.21709  -34.65662  (xin  yin)\n"
       ]
      },
      {
       "output_type": "stream",
       "stream": "stdout",
       "text": [
        "    X and Y scale: 0.9999509  0.9999509  (xin / xref  yin / yref)\n"
       ]
      },
      {
       "output_type": "stream",
       "stream": "stdout",
       "text": [
        "    X and Y axis rotation: 359.99591  359.99591  (degrees  degrees)\n"
       ]
      },
      {
       "output_type": "stream",
       "stream": "stdout",
       "text": [
        "\n"
       ]
      },
      {
       "output_type": "stream",
       "stream": "stdout",
       "text": [
        "Coordinate list: mfrgS20101101S0085_trn  Transform: mfrgS20101101S0085_trn\n"
       ]
      },
      {
       "output_type": "stream",
       "stream": "stdout",
       "text": [
        "    Results file: tmpres89231_1705\n"
       ]
      },
      {
       "output_type": "stream",
       "stream": "stdout",
       "text": [
        "Coordinate mapping status\n"
       ]
      },
      {
       "output_type": "stream",
       "stream": "stdout",
       "text": [
        "    "
       ]
      },
      {
       "output_type": "stream",
       "stream": "stdout",
       "text": [
        "X fit ok.  Y fit ok.\n"
       ]
      },
      {
       "output_type": "stream",
       "stream": "stdout",
       "text": [
        "    Xin and Yin fit rms: 0.2028005  0.1833886\n"
       ]
      },
      {
       "output_type": "stream",
       "stream": "stdout",
       "text": [
        "Coordinate mapping parameters\n"
       ]
      },
      {
       "output_type": "stream",
       "stream": "stdout",
       "text": [
        "    Mean Xref and Yref: 1615.368  1148.451\n"
       ]
      },
      {
       "output_type": "stream",
       "stream": "stdout",
       "text": [
        "    Mean Xin and Yin: 1580.938  1113.853\n"
       ]
      },
      {
       "output_type": "stream",
       "stream": "stdout",
       "text": [
        "    X and Y shift: -34.3645  -34.60596  (xin  yin)\n"
       ]
      },
      {
       "output_type": "stream",
       "stream": "stdout",
       "text": [
        "    X and Y scale: 0.9999809  0.9999809  (xin / xref  yin / yref)\n"
       ]
      },
      {
       "output_type": "stream",
       "stream": "stdout",
       "text": [
        "    X and Y axis rotation: 359.99918  359.99918  (degrees  degrees)\n"
       ]
      },
      {
       "output_type": "stream",
       "stream": "stdout",
       "text": [
        "\n"
       ]
      },
      {
       "output_type": "stream",
       "stream": "stdout",
       "text": [
        "Coordinate list: mfrgS20101101S0085_trn  Transform: mfrgS20101101S0085_trn\n"
       ]
      },
      {
       "output_type": "stream",
       "stream": "stdout",
       "text": [
        "    Results file: tmpres89231_1705\n"
       ]
      },
      {
       "output_type": "stream",
       "stream": "stdout",
       "text": [
        "Coordinate mapping status\n"
       ]
      },
      {
       "output_type": "stream",
       "stream": "stdout",
       "text": [
        "    "
       ]
      },
      {
       "output_type": "stream",
       "stream": "stdout",
       "text": [
        "X fit ok.  Y fit ok.\n"
       ]
      },
      {
       "output_type": "stream",
       "stream": "stdout",
       "text": [
        "    Xin and Yin fit rms: 0.1433099  0.1234026\n"
       ]
      },
      {
       "output_type": "stream",
       "stream": "stdout",
       "text": [
        "Coordinate mapping parameters\n"
       ]
      },
      {
       "output_type": "stream",
       "stream": "stdout",
       "text": [
        "    Mean Xref and Yref: 1606.587  1136.989\n"
       ]
      },
      {
       "output_type": "stream",
       "stream": "stdout",
       "text": [
        "    Mean Xin and Yin: 1572.19  1102.371\n"
       ]
      },
      {
       "output_type": "stream",
       "stream": "stdout",
       "text": [
        "    X and Y shift: -34.361  -34.60229  (xin  yin)\n"
       ]
      },
      {
       "output_type": "stream",
       "stream": "stdout",
       "text": [
        "    X and Y scale: 0.9999816  0.9999816  (xin / xref  yin / yref)\n"
       ]
      },
      {
       "output_type": "stream",
       "stream": "stdout",
       "text": [
        "    X and Y axis rotation: 360.00000  360.00000  (degrees  degrees)\n"
       ]
      },
      {
       "output_type": "stream",
       "stream": "stdout",
       "text": [
        "\n"
       ]
      },
      {
       "output_type": "stream",
       "stream": "stdout",
       "text": [
        "Coordinate list: imxymatch.1  Transform: mfrgS20101101S0086_trn\n"
       ]
      },
      {
       "output_type": "stream",
       "stream": "stdout",
       "text": [
        "    Results file: \n"
       ]
      },
      {
       "output_type": "stream",
       "stream": "stdout",
       "text": [
        "Coordinate mapping status\n"
       ]
      },
      {
       "output_type": "stream",
       "stream": "stdout",
       "text": [
        "    "
       ]
      },
      {
       "output_type": "stream",
       "stream": "stdout",
       "text": [
        "X fit ok.  Y fit ok.\n"
       ]
      },
      {
       "output_type": "stream",
       "stream": "stdout",
       "text": [
        "    Xin and Yin fit rms: 0.004129573  0.004560944\n"
       ]
      },
      {
       "output_type": "stream",
       "stream": "stdout",
       "text": [
        "Coordinate mapping parameters\n"
       ]
      },
      {
       "output_type": "stream",
       "stream": "stdout",
       "text": [
        "    Mean Xref and Yref: 1554.5  1152.5\n"
       ]
      },
      {
       "output_type": "stream",
       "stream": "stdout",
       "text": [
        "    Mean Xin and Yin: 1588.727  1152.491\n"
       ]
      },
      {
       "output_type": "stream",
       "stream": "stdout",
       "text": [
        "    X and Y shift: 34.23845  -0.02100823  (xin  yin)\n"
       ]
      },
      {
       "output_type": "stream",
       "stream": "stdout",
       "text": [
        "    X and Y scale: 0.9999989  0.9999989  (xin / xref  yin / yref)\n"
       ]
      },
      {
       "output_type": "stream",
       "stream": "stdout",
       "text": [
        "    X and Y axis rotation: 359.99954  359.99954  (degrees  degrees)\n"
       ]
      },
      {
       "output_type": "stream",
       "stream": "stdout",
       "text": [
        "Centering objects in mfrgS20101101S0086\n",
        "\n"
       ]
      },
      {
       "output_type": "stream",
       "stream": "stdout",
       "text": [
        "Xmax =  3108   Ymax = 2304\n",
        "Entering geomap\n",
        "Fitting geometry rscale\n",
        "Iterating a maximum of 5 times\n",
        "\n"
       ]
      },
      {
       "output_type": "stream",
       "stream": "stdout",
       "text": [
        "Coordinate list: mfrgS20101101S0086_trn  Transform: mfrgS20101101S0086_trn\n"
       ]
      },
      {
       "output_type": "stream",
       "stream": "stdout",
       "text": [
        "    Results file: tmpres89231_1705\n"
       ]
      },
      {
       "output_type": "stream",
       "stream": "stdout",
       "text": [
        "Coordinate mapping status\n"
       ]
      },
      {
       "output_type": "stream",
       "stream": "stdout",
       "text": [
        "    "
       ]
      },
      {
       "output_type": "stream",
       "stream": "stdout",
       "text": [
        "X fit ok.  Y fit ok.\n"
       ]
      },
      {
       "output_type": "stream",
       "stream": "stdout",
       "text": [
        "    Xin and Yin fit rms: 7.206642  5.49837\n"
       ]
      },
      {
       "output_type": "stream",
       "stream": "stdout",
       "text": [
        "Coordinate mapping parameters\n"
       ]
      },
      {
       "output_type": "stream",
       "stream": "stdout",
       "text": [
        "    Mean Xref and Yref: 1568.491  1139.793\n"
       ]
      },
      {
       "output_type": "stream",
       "stream": "stdout",
       "text": [
        "    Mean Xin and Yin: 1566.169  1105.115\n"
       ]
      },
      {
       "output_type": "stream",
       "stream": "stdout",
       "text": [
        "    X and Y shift: -0.6573892  -34.33765  (xin  yin)\n"
       ]
      },
      {
       "output_type": "stream",
       "stream": "stdout",
       "text": [
        "    X and Y scale: 0.9999788  0.9999788  (xin / xref  yin / yref)\n"
       ]
      },
      {
       "output_type": "stream",
       "stream": "stdout",
       "text": [
        "    X and Y axis rotation: 0.00421  0.00421  (degrees  degrees)\n"
       ]
      },
      {
       "output_type": "stream",
       "stream": "stdout",
       "text": [
        "\n"
       ]
      },
      {
       "output_type": "stream",
       "stream": "stdout",
       "text": [
        "Coordinate list: mfrgS20101101S0086_trn  Transform: mfrgS20101101S0086_trn\n"
       ]
      },
      {
       "output_type": "stream",
       "stream": "stdout",
       "text": [
        "    Results file: tmpres89231_1705\n"
       ]
      },
      {
       "output_type": "stream",
       "stream": "stdout",
       "text": [
        "Coordinate mapping status\n"
       ]
      },
      {
       "output_type": "stream",
       "stream": "stdout",
       "text": [
        "    "
       ]
      },
      {
       "output_type": "stream",
       "stream": "stdout",
       "text": [
        "X fit ok.  Y fit ok.\n"
       ]
      },
      {
       "output_type": "stream",
       "stream": "stdout",
       "text": [
        "    Xin and Yin fit rms: 0.3595632  0.3823953\n"
       ]
      },
      {
       "output_type": "stream",
       "stream": "stdout",
       "text": [
        "Coordinate mapping parameters\n"
       ]
      },
      {
       "output_type": "stream",
       "stream": "stdout",
       "text": [
        "    Mean Xref and Yref: 1576.747  1121.654\n"
       ]
      },
      {
       "output_type": "stream",
       "stream": "stdout",
       "text": [
        "    Mean Xin and Yin: 1576.659  1087.098\n"
       ]
      },
      {
       "output_type": "stream",
       "stream": "stdout",
       "text": [
        "    X and Y shift: -0.03830437  -34.47253  (xin  yin)\n"
       ]
      },
      {
       "output_type": "stream",
       "stream": "stdout",
       "text": [
        "    X and Y scale: 0.9999649  0.9999649  (xin / xref  yin / yref)\n"
       ]
      },
      {
       "output_type": "stream",
       "stream": "stdout",
       "text": [
        "    X and Y axis rotation: 359.99744  359.99744  (degrees  degrees)\n"
       ]
      },
      {
       "output_type": "stream",
       "stream": "stdout",
       "text": [
        "\n"
       ]
      },
      {
       "output_type": "stream",
       "stream": "stdout",
       "text": [
        "Coordinate list: mfrgS20101101S0086_trn  Transform: mfrgS20101101S0086_trn\n"
       ]
      },
      {
       "output_type": "stream",
       "stream": "stdout",
       "text": [
        "    Results file: tmpres89231_1705\n"
       ]
      },
      {
       "output_type": "stream",
       "stream": "stdout",
       "text": [
        "Coordinate mapping status\n"
       ]
      },
      {
       "output_type": "stream",
       "stream": "stdout",
       "text": [
        "    "
       ]
      },
      {
       "output_type": "stream",
       "stream": "stdout",
       "text": [
        "X fit ok.  Y fit ok.\n"
       ]
      },
      {
       "output_type": "stream",
       "stream": "stdout",
       "text": [
        "    Xin and Yin fit rms: 0.1483126  0.1294392\n"
       ]
      },
      {
       "output_type": "stream",
       "stream": "stdout",
       "text": [
        "Coordinate mapping parameters\n"
       ]
      },
      {
       "output_type": "stream",
       "stream": "stdout",
       "text": [
        "    Mean Xref and Yref: 1581.737  1129.919\n"
       ]
      },
      {
       "output_type": "stream",
       "stream": "stdout",
       "text": [
        "    Mean Xin and Yin: 1581.576  1095.486\n"
       ]
      },
      {
       "output_type": "stream",
       "stream": "stdout",
       "text": [
        "    X and Y shift: -0.09185831  -34.41443  (xin  yin)\n"
       ]
      },
      {
       "output_type": "stream",
       "stream": "stdout",
       "text": [
        "    X and Y scale: 0.9999707  0.9999707  (xin / xref  yin / yref)\n"
       ]
      },
      {
       "output_type": "stream",
       "stream": "stdout",
       "text": [
        "    X and Y axis rotation: 359.99948  359.99948  (degrees  degrees)\n"
       ]
      },
      {
       "output_type": "stream",
       "stream": "stdout",
       "text": [
        "\n"
       ]
      },
      {
       "output_type": "stream",
       "stream": "stdout",
       "text": [
        "Coordinate list: mfrgS20101101S0086_trn  Transform: mfrgS20101101S0086_trn\n"
       ]
      },
      {
       "output_type": "stream",
       "stream": "stdout",
       "text": [
        "    Results file: tmpres89231_1705\n"
       ]
      },
      {
       "output_type": "stream",
       "stream": "stdout",
       "text": [
        "Coordinate mapping status\n"
       ]
      },
      {
       "output_type": "stream",
       "stream": "stdout",
       "text": [
        "    "
       ]
      },
      {
       "output_type": "stream",
       "stream": "stdout",
       "text": [
        "X fit ok.  Y fit ok.\n"
       ]
      },
      {
       "output_type": "stream",
       "stream": "stdout",
       "text": [
        "    Xin and Yin fit rms: 0.1239831  0.0993796\n"
       ]
      },
      {
       "output_type": "stream",
       "stream": "stdout",
       "text": [
        "Coordinate mapping parameters\n"
       ]
      },
      {
       "output_type": "stream",
       "stream": "stdout",
       "text": [
        "    Mean Xref and Yref: 1604.64  1125.076\n"
       ]
      },
      {
       "output_type": "stream",
       "stream": "stdout",
       "text": [
        "    Mean Xin and Yin: 1604.493  1090.636\n"
       ]
      },
      {
       "output_type": "stream",
       "stream": "stdout",
       "text": [
        "    X and Y shift: -0.07138036  -34.43127  (xin  yin)\n"
       ]
      },
      {
       "output_type": "stream",
       "stream": "stdout",
       "text": [
        "    X and Y scale: 0.9999656  0.9999657  (xin / xref  yin / yref)\n"
       ]
      },
      {
       "output_type": "stream",
       "stream": "stdout",
       "text": [
        "    X and Y axis rotation: 359.99905  359.99905  (degrees  degrees)\n"
       ]
      },
      {
       "output_type": "stream",
       "stream": "stdout",
       "text": [
        "\n",
        "Median sky level for mfrgS20101101S0083:   5710.5\n",
        "Transforming mfrgS20101101S0084 to mfrgS20101101S0084_trn"
       ]
      },
      {
       "output_type": "stream",
       "stream": "stdout",
       "text": [
        "\n",
        "\n",
        "Transforming image mfrgS20101101S0084[SCI] to image mfrgS20101101S0084_trn\n"
       ]
      },
      {
       "output_type": "stream",
       "stream": "stdout",
       "text": [
        "    Using transform mfrgS20101101S0084_trn in database imcoadd.dat\n"
       ]
      },
      {
       "output_type": "stream",
       "stream": "stdout",
       "text": [
        "Median sky level for mfrgS20101101S0084:   6063.7\n",
        "Transforming mfrgS20101101S0085 to mfrgS20101101S0085_trn"
       ]
      },
      {
       "output_type": "stream",
       "stream": "stdout",
       "text": [
        "\n",
        "\n",
        "Transforming image mfrgS20101101S0085[SCI] to image mfrgS20101101S0085_trn\n"
       ]
      },
      {
       "output_type": "stream",
       "stream": "stdout",
       "text": [
        "    Using transform mfrgS20101101S0085_trn in database imcoadd.dat\n"
       ]
      },
      {
       "output_type": "stream",
       "stream": "stdout",
       "text": [
        "Median sky level for mfrgS20101101S0085:   6151.3\n",
        "Transforming mfrgS20101101S0086 to mfrgS20101101S0086_trn"
       ]
      },
      {
       "output_type": "stream",
       "stream": "stdout",
       "text": [
        "\n",
        "\n",
        "Transforming image mfrgS20101101S0086[SCI] to image mfrgS20101101S0086_trn\n"
       ]
      },
      {
       "output_type": "stream",
       "stream": "stdout",
       "text": [
        "    Using transform mfrgS20101101S0086_trn in database imcoadd.dat\n"
       ]
      },
      {
       "output_type": "stream",
       "stream": "stdout",
       "text": [
        "Median sky level for mfrgS20101101S0086:   6140.3\n",
        "Median sky level for mfrgS20101101S0083:   5710.5"
       ]
      },
      {
       "output_type": "stream",
       "stream": "stdout",
       "text": [
        "\n",
        "Median sky level for mfrgS20101101S0084:   6063.7"
       ]
      },
      {
       "output_type": "stream",
       "stream": "stdout",
       "text": [
        "\n",
        "Transforming mfrgS20101101S0083badpix +mask to mfrgS20101101S0084badpix"
       ]
      },
      {
       "output_type": "stream",
       "stream": "stdout",
       "text": [
        "\n",
        "\n",
        "Transforming image tmpmsk89231_1699 to image mfrgS20101101S0084badpix\n"
       ]
      },
      {
       "output_type": "stream",
       "stream": "stdout",
       "text": [
        "    Using transform mfrgS20101101S0084_trn in database imcoadd.dat\n"
       ]
      },
      {
       "output_type": "stream",
       "stream": "stdout",
       "text": [
        "Median sky level for mfrgS20101101S0085:   6151.3\n",
        "Transforming mfrgS20101101S0083badpix +mask to mfrgS20101101S0085badpix"
       ]
      },
      {
       "output_type": "stream",
       "stream": "stdout",
       "text": [
        "\n",
        "\n",
        "Transforming image tmpmsk89231_1736 to image mfrgS20101101S0085badpix\n"
       ]
      },
      {
       "output_type": "stream",
       "stream": "stdout",
       "text": [
        "    Using transform mfrgS20101101S0085_trn in database imcoadd.dat\n"
       ]
      },
      {
       "output_type": "stream",
       "stream": "stdout",
       "text": [
        "Median sky level for mfrgS20101101S0086:   6140.3\n",
        "Transforming mfrgS20101101S0083badpix +mask to mfrgS20101101S0086badpix"
       ]
      },
      {
       "output_type": "stream",
       "stream": "stdout",
       "text": [
        "\n",
        "\n",
        "Transforming image tmpmsk89231_1740 to image mfrgS20101101S0086badpix\n"
       ]
      },
      {
       "output_type": "stream",
       "stream": "stdout",
       "text": [
        "    Using transform mfrgS20101101S0086_trn in database imcoadd.dat\n"
       ]
      },
      {
       "output_type": "stream",
       "stream": "stdout",
       "text": [
        "\n",
        "Mean intensity for   mfrgS20101101S0083_trn:  (N,absolute,relative)=  120   981840  1.000\n",
        "Mean intensity for   mfrgS20101101S0084_trn:  (N,absolute,relative)=  120   978775  0.997"
       ]
      },
      {
       "output_type": "stream",
       "stream": "stdout",
       "text": [
        "\n",
        "Mean intensity for   mfrgS20101101S0085_trn:  (N,absolute,relative)=  120   986746  1.005\n",
        "Mean intensity for   mfrgS20101101S0086_trn:  (N,absolute,relative)=  120   982313  1.000"
       ]
      },
      {
       "output_type": "stream",
       "stream": "stdout",
       "text": [
        "\n"
       ]
      },
      {
       "output_type": "stream",
       "stream": "stdout",
       "text": [
        "\n",
        "Masking cosmic ray events in mfrgS20101101S0083_trn\n"
       ]
      },
      {
       "output_type": "stream",
       "stream": "stdout",
       "text": [
        "Applying growth radius 1\n",
        "Masking cosmic ray events in mfrgS20101101S0084_trn"
       ]
      },
      {
       "output_type": "stream",
       "stream": "stdout",
       "text": [
        "\n"
       ]
      },
      {
       "output_type": "stream",
       "stream": "stdout",
       "text": [
        "Applying growth radius 1\n",
        "Masking cosmic ray events in mfrgS20101101S0085_trn"
       ]
      },
      {
       "output_type": "stream",
       "stream": "stdout",
       "text": [
        "\n"
       ]
      },
      {
       "output_type": "stream",
       "stream": "stdout",
       "text": [
        "Applying growth radius 1\n",
        "Masking cosmic ray events in mfrgS20101101S0086_trn"
       ]
      },
      {
       "output_type": "stream",
       "stream": "stdout",
       "text": [
        "\n"
       ]
      },
      {
       "output_type": "stream",
       "stream": "stdout",
       "text": [
        "Applying growth radius 1\n"
       ]
      },
      {
       "output_type": "stream",
       "stream": "stdout",
       "text": [
        "IMCOADD exit status: good\n",
        "-----------------------------------------------------------------------------\n"
       ]
      }
     ],
     "prompt_number": 41
    },
    {
     "cell_type": "heading",
     "level": 2,
     "metadata": {},
     "source": [
      "STEP 10: Inspect and save product"
     ]
    },
    {
     "cell_type": "code",
     "collapsed": false,
     "input": [
      "iraf.display(science['procsci']+'[sci,1]', 1, \\\n",
      "             zrange='no', zscale='no', z1=6000, z2=20000)\n",
      "\n",
      "shutil.copy(science['procsci'], products_path)\n",
      "\n",
      "# Final reduced image\n",
      "os.listdir(products_path)"
     ],
     "language": "python",
     "metadata": {},
     "outputs": [
      {
       "output_type": "stream",
       "stream": "stdout",
       "text": [
        "z1=6000. z2=20000.\n"
       ]
      },
      {
       "metadata": {},
       "output_type": "pyout",
       "prompt_number": 45,
       "text": [
        "['ngc6872_i.fits']"
       ]
      }
     ],
     "prompt_number": 45
    },
    {
     "cell_type": "code",
     "collapsed": false,
     "input": [],
     "language": "python",
     "metadata": {},
     "outputs": []
    }
   ],
   "metadata": {}
  }
 ]
}