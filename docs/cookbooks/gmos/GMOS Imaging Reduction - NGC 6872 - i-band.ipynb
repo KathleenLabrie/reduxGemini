{
 "metadata": {
  "name": "",
  "signature": "sha256:0fce5315650ff282e92a33aa6b9858468c28191b7d1e40b1289c795aa16e3417"
 },
 "nbformat": 3,
 "nbformat_minor": 0,
 "worksheets": [
  {
   "cells": [
    {
     "cell_type": "heading",
     "level": 1,
     "metadata": {},
     "source": [
      "Tutorial: GMOS Imaging Reduction - NGC 6872 - i-band"
     ]
    },
    {
     "cell_type": "heading",
     "level": 4,
     "metadata": {},
     "source": [
      "IMPORTANT: Edits are required for the tables below, and in STEP 1 and 2. After that, it should just work."
     ]
    },
    {
     "cell_type": "heading",
     "level": 2,
     "metadata": {},
     "source": [
      "Datasets:"
     ]
    },
    {
     "cell_type": "markdown",
     "metadata": {},
     "source": [
      "<table>\n",
      "  <tr><td><strong>Science observation UT date(s)</strong></td>\n",
      "      <td>2010 Nov 01</td>\n",
      "      </tr>\n",
      "  <tr><td><strong>Data filename prefix(es)</strong></td>\n",
      "      <td>S20101101S</td>\n",
      "      </tr>\n",
      "</table>"
     ]
    },
    {
     "cell_type": "heading",
     "level": 4,
     "metadata": {},
     "source": [
      "Target Frames"
     ]
    },
    {
     "cell_type": "markdown",
     "metadata": {},
     "source": [
      "<table>\n",
      "<tr><td>Science</td><td>S20101101S</td><td>83-86</td><td>binning 2x2</td></tr>\n",
      "<tr><td>Processed Bias</td><td>for 20101101</td><td>S20101101S0169_bias.fits</td><td></td></tr>\n",
      "<tr><td>Processed Twilight Flat</td><td>for 20101101</td><td>S20101102S0100_flat_i.fits</td><td></td></tr>\n",
      "<tr><td>Processed Fringe Frame</td><td>for 20101101</td><td>S20101111S0028_fringe_i.fits</td><td></td></tr>\n",
      "</table>"
     ]
    },
    {
     "cell_type": "heading",
     "level": 4,
     "metadata": {},
     "source": [
      "Fringe Frames"
     ]
    },
    {
     "cell_type": "markdown",
     "metadata": {},
     "source": [
      "The fringe frame that matches the science target observations."
     ]
    },
    {
     "cell_type": "markdown",
     "metadata": {},
     "source": [
      "<table>\n",
      "<tr><td colspan=3>Processed: <strong>S20101111S0028_fringe_i.fits</strong></td></tr>\n",
      "<tr><td>Fringe Frames</td><td>S20101111S</td><td>28-30,40-43</td><td>binning 2x2</td></tr>\n",
      "<tr><td>Processed Bias</td><td>for 20101111</td><td>S20101111S0061_bias.fits</td><td></td></tr>\n",
      "<tr><td>Processed Twilight Flat</td><td>for 20101111</td><td>S20101102S0100_flat_i.fits</td><td></td></tr>\n",
      "</table>"
     ]
    },
    {
     "cell_type": "heading",
     "level": 4,
     "metadata": {},
     "source": [
      "Twilight Flats"
     ]
    },
    {
     "cell_type": "markdown",
     "metadata": {},
     "source": [
      "The twilight flat that matches the science target observations and the fringe frames."
     ]
    },
    {
     "cell_type": "markdown",
     "metadata": {},
     "source": [
      "<table>\n",
      "<tr><td colspan=3>Processed: <strong>S20101102S0100_flat_i.fits</strong></td></tr>\n",
      "<tr><td>Twilight Frames</td><td>S20101102S</td><td>100-103,106-115</td><td>binning 2x2</td></tr>\n",
      "<tr><td>Processed Bias</td><td>for 20101102</td><td>S20101101S0169_bias.fits</td><td></td></tr>\n",
      "</table>"
     ]
    },
    {
     "cell_type": "heading",
     "level": 4,
     "metadata": {},
     "source": [
      "Biases"
     ]
    },
    {
     "cell_type": "markdown",
     "metadata": {},
     "source": [
      "The biases that match the science target observations, the twilight flats, and the fringe frames."
     ]
    },
    {
     "cell_type": "markdown",
     "metadata": {},
     "source": [
      "<table>\n",
      "<tr><td colspan=3>Processed: <strong>S20101101S0169_bias.fits</strong></td></tr>\n",
      "<tr><td rowspan=2>Biases</td><td>S20101101S</td><td>169-172</td><td>binning 2x2</td></tr>\n",
      "<tr>                         <td>S20101102S</td><td>131-135</td><td>binning 2x2</td></tr>\n",
      "</table>"
     ]
    },
    {
     "cell_type": "markdown",
     "metadata": {},
     "source": [
      "<table>\n",
      "<tr><td colspan=3>Processed: <strong>S20101111S0061_bias.fits</strong></td></tr>\n",
      "<tr><td>Biases</td><td>S20101111S</td><td>61-65</td><td>binning 2x2</td></tr>\n",
      "</table>"
     ]
    },
    {
     "cell_type": "heading",
     "level": 2,
     "metadata": {},
     "source": [
      "STEP 0: Directory structure used by this Notebook"
     ]
    },
    {
     "cell_type": "markdown",
     "metadata": {},
     "source": [
      "The directory paths used in this notebook are assumed to match this structure:\n",
      "\n",
      "    rootdir/\n",
      "        calib/\n",
      "            bias/\n",
      "            flat/\n",
      "            fringe/\n",
      "        raw/\n",
      "        redux/"
     ]
    },
    {
     "cell_type": "heading",
     "level": 2,
     "metadata": {},
     "source": [
      "STEP 1: Set up the Notebook and the PyRAF session"
     ]
    },
    {
     "cell_type": "markdown",
     "metadata": {},
     "source": [
      "The data processing will happen in the Notebook.  It is also convenient to have a PyRAF interactive session ready to use if needed, eg. to imexam.  In this step, we will configure the Notebook and the PyRAF session.  \n",
      "\n",
      "This step needs to be repeated everytime the Notebook and/or the PyRAF session is restarted."
     ]
    },
    {
     "cell_type": "heading",
     "level": 3,
     "metadata": {},
     "source": [
      "STEP 1.1: Set up the Notebook"
     ]
    },
    {
     "cell_type": "heading",
     "level": 4,
     "metadata": {},
     "source": [
      "STEP 1.1.1: Set up the variables."
     ]
    },
    {
     "cell_type": "code",
     "collapsed": false,
     "input": [
      "import os\n",
      "import os.path\n",
      "import shutil\n",
      "\n",
      "# WARNING: Make sure that the directory structure given in Step 0 \n",
      "#          is already in place.\n",
      "\n",
      "# EDIT HERE - Directories\n",
      "rootdir = '/data/workspace/DRWorkshopAAO/NGC6872'\n",
      "\n",
      "# EDIT HERE - File numbers and file names\n",
      "biases = {\n",
      "    'bias_20101101' : {\n",
      "        'procbias' : 'S20101101S0169_bias.fits',\n",
      "        'frames'   : [('S20101101S', '169-172'),\n",
      "                      ('S20101102S', '131-135'),\n",
      "                     ]\n",
      "    },\n",
      "    'bias_20101111' : {\n",
      "        'procbias'   : 'S20101111S0061_bias.fits',\n",
      "        'frames'     : [('S20101111S', '61-65')],\n",
      "    }\n",
      "}\n",
      "\n",
      "flats = {\n",
      "    'flat_20101102' : {\n",
      "        'procflat'   : 'S20101102S0100_flat_i.fits',\n",
      "        'frames'     : [('S20101102S', '100-103,106-115')],\n",
      "        'flatbias'   : biases['bias_20101101']['procbias'],\n",
      "    }\n",
      "}\n",
      "\n",
      "fringes = {\n",
      "    'fringe_20101111' : {\n",
      "        'procfringe'   : 'S20101111S0028_fringe_i.fits',\n",
      "        'frames'   : [('S20101111S', '28-30,40-43')],\n",
      "        'fringebias'   : biases['bias_20101111']['procbias'],\n",
      "        'fringeflat'   : flats['flat_20101102']['procflat'],\n",
      "    }\n",
      "}\n",
      "\n",
      "science = {\n",
      "    'procsci'   : 'ngc6872_i.fits',\n",
      "    'sciroot'   : 'S20101101S',\n",
      "    'sciframes' : '83-86',\n",
      "    'scibias'   : biases['bias_20101101']['procbias'],\n",
      "    'sciflat'   : flats['flat_20101102']['procflat'],\n",
      "    'scifringe' : fringes['fringe_20101111']['procfringe'],\n",
      "}\n",
      "\n",
      "logfile = 'NGC6872_i.log'\n",
      "\n",
      "# Automatically set directories to match structure from Step 0\n",
      "raw_path = os.path.join(rootdir, 'raw') + '/'\n",
      "redux_path = os.path.join(rootdir, 'redux') + '/'\n",
      "procbias_path = os.path.join(rootdir, 'calib', 'bias') + '/'\n",
      "procflat_path = os.path.join(rootdir, 'calib', 'flat') + '/'\n",
      "procfringe_path = os.path.join(rootdir, 'calib', 'fringe') + '/'\n",
      "products_path = os.path.join(rootdir, 'products') + '/'\n",
      "\n",
      "# Change to work directory\n",
      "os.chdir(redux_path)\n"
     ],
     "language": "python",
     "metadata": {},
     "outputs": []
    },
    {
     "cell_type": "heading",
     "level": 4,
     "metadata": {},
     "source": [
      "Step 1.1.2: Load and initialize the package"
     ]
    },
    {
     "cell_type": "markdown",
     "metadata": {},
     "source": [
      "---> <strong>LAUNCH DS9 before proceeding further</strong>\n",
      "\n",
      "Load the package required for the Notebook session and reset tasks to the default parameters."
     ]
    },
    {
     "cell_type": "code",
     "collapsed": false,
     "input": [
      "from pyraf import iraf\n",
      "iraf.gemini()\n",
      "iraf.gmos()\n",
      "\n",
      "iraf.unlearn(iraf.gemini, iraf.gmos, iraf.gemtools)\n",
      "\n",
      "iraf.gmos.logfile = logfile\n",
      "\n",
      "iraf.set(stdimage='imtgmos')"
     ],
     "language": "python",
     "metadata": {},
     "outputs": []
    },
    {
     "cell_type": "heading",
     "level": 3,
     "metadata": {},
     "source": [
      "STEP 1.2: Set up the PyRAF session"
     ]
    },
    {
     "cell_type": "markdown",
     "metadata": {},
     "source": [
      "The commands shown here need to be run from the shell.\n",
      "\n",
      "Open an xterm or a Terminal, then:\n",
      "\n",
      "    cd /data/workspace/DRWorkshopAAO/NGC6872/redux\n",
      "    pyraf\n",
      "\n",
      "Then in the PyRAF session:\n",
      "\n",
      "    gemini\n",
      "    gmos\n",
      "    unlearn gemini\n",
      "    unlearn gmos\n",
      "    unlearn gemtools\n",
      "\n",
      "Get your PyRAF configured.  In the PyRAF session:\n",
      "\n",
      "    iraf.gmos.logfile = \"NGC6872_i.log\"\n",
      "    set stdimage=imtgmos\n"
     ]
    },
    {
     "cell_type": "heading",
     "level": 2,
     "metadata": {},
     "source": [
      "STEP 2: Create the file lists"
     ]
    },
    {
     "cell_type": "code",
     "collapsed": false,
     "input": [
      "os.chdir(redux_path)\n",
      "\n",
      "# delete any pre-existing lists\n",
      "iraf.delete('*.lis', verify='no')\n",
      "\n",
      "# biases\n",
      "for (root, frames) in biases['bias_20101101']['frames']:\n",
      "    iraf.gemlist(root, frames, Stdout='tmp_'+root+'.lis')\n",
      "iraf.concat('tmp_*.lis', 'bias_20101101.lis')\n",
      "iraf.delete('tmp_*.lis', verify='no')\n",
      "\n",
      "for (root, frames) in biases['bias_20101111']['frames']:\n",
      "    iraf.gemlist(root, frames, Stdout='tmp_'+root+'.lis')\n",
      "iraf.concat('tmp_*.lis', 'bias_20101111.lis')\n",
      "iraf.delete('tmp_*.lis', verify='no')\n",
      "\n",
      "\n",
      "# flats\n",
      "for (root, frames) in flats['flat_20101102']['frames']:\n",
      "    iraf.gemlist(root, frames, Stdout='tmp_'+root+'.lis')\n",
      "iraf.concat('tmp_*.lis', 'flat_20101102.lis')\n",
      "iraf.delete('tmp_*.lis', verify='no')\n",
      "\n",
      "\n",
      "# fringes\n",
      "for (root, frames) in fringes['fringe_20101111']['frames']:\n",
      "    iraf.gemlist(root, frames, Stdout='tmp_'+root+'.lis')\n",
      "iraf.concat('tmp_*.lis', 'fringe_20101111.lis')\n",
      "iraf.delete('tmp_*.lis', verify='no')\n",
      "\n",
      "\n",
      "# science\n",
      "iraf.gemlist(science['sciroot'], science['sciframes'], \\\n",
      "             Stdout='sci.lis')\n",
      "\n",
      "# Get a full list\n",
      "iraf.concat('*.lis', 'all.lis')"
     ],
     "language": "python",
     "metadata": {},
     "outputs": []
    },
    {
     "cell_type": "heading",
     "level": 2,
     "metadata": {},
     "source": [
      "STEP 3: Visually inspect all the data"
     ]
    },
    {
     "cell_type": "code",
     "collapsed": false,
     "input": [
      "all_files = open('all.lis', 'r')\n",
      "for line in all_files:\n",
      "    image = line.strip() + '[1]'\n",
      "    print image\n",
      "    iraf.gdisplay(raw_path + image, 1, fl_paste='no')\n",
      "    iraf.sleep(5)\n",
      "    \n",
      "all_files.close()"
     ],
     "language": "python",
     "metadata": {},
     "outputs": []
    },
    {
     "cell_type": "heading",
     "level": 2,
     "metadata": {},
     "source": [
      "STEP 4: Process the biases"
     ]
    },
    {
     "cell_type": "markdown",
     "metadata": {},
     "source": [
      "This will produce the two biases defined above.  Those two biases will be used later to process the science frames, the twilight flats, and the fringe frames."
     ]
    },
    {
     "cell_type": "code",
     "collapsed": false,
     "input": [
      "os.chdir(redux_path)\n",
      "\n",
      "for biaskey in biases.keys():\n",
      "    iraf.imdelete(biases[biaskey]['procbias'], verify='no')\n",
      "    iraf.imdelete('g//@'+biaskey+'.lis', verify='no')\n",
      "\n",
      "    print 'Creating bias ', biases[biaskey]['procbias']\n",
      "    iraf.gbias('@'+biaskey+'.lis', outbias=biases[biaskey]['procbias'], \\\n",
      "               rawpath=raw_path, fl_over='yes', fl_trim='yes', \\\n",
      "               fl_vardq='yes')\n",
      "    shutil.copy(biases[biaskey]['procbias'], procbias_path)\n",
      "\n",
      "# The processed biases are:\n",
      "os.listdir(procbias_path)"
     ],
     "language": "python",
     "metadata": {},
     "outputs": []
    },
    {
     "cell_type": "heading",
     "level": 4,
     "metadata": {},
     "source": [
      "Visually inspect the processed biases"
     ]
    },
    {
     "cell_type": "code",
     "collapsed": false,
     "input": [
      "# WARNING: interactive.  It launches imexam.  Type 'q' to quit.\n",
      "for biaskey in biases.keys():\n",
      "    iraf.gdisplay(biases[biaskey]['procbias'], 1, fl_paste='yes')"
     ],
     "language": "python",
     "metadata": {},
     "outputs": []
    },
    {
     "cell_type": "heading",
     "level": 2,
     "metadata": {},
     "source": [
      "STEP 5: Process the twilight flats"
     ]
    },
    {
     "cell_type": "markdown",
     "metadata": {},
     "source": [
      "This will produce the one twilight flat defined above.  That flat will be used later to process the science frames and the fringe frames."
     ]
    },
    {
     "cell_type": "code",
     "collapsed": false,
     "input": [
      "os.chdir(redux_path)\n",
      "\n",
      "for flatkey in flats.keys():\n",
      "    iraf.imdelete('g//@'+flatkey+'.lis', verify='no')\n",
      "    iraf.imdelete('rg//@'+flatkey+'.lis', verify='no')\n",
      "    \n",
      "    flatlist = flatkey+'.lis'\n",
      "    procbias = os.path.join(procbias_path, flats[flatkey]['flatbias'])\n",
      "    \n",
      "    print 'Processing raw twilight flats'\n",
      "    \n",
      "    # gprepare and bias correct the raw flats\n",
      "    # The output files have the 'rg' prefix.\n",
      "    iraf.gireduce('@'+flatlist, rawpath=raw_path, \\\n",
      "                  fl_over='yes', fl_trim='yes', \\\n",
      "                  fl_bias='yes', bias=procbias, fl_flat='no', \\\n",
      "                  fl_vardq='yes')"
     ],
     "language": "python",
     "metadata": {},
     "outputs": []
    },
    {
     "cell_type": "code",
     "collapsed": false,
     "input": [
      "os.chdir(redux_path)\n",
      "\n",
      "for flatkey in flats.keys():\n",
      "    iraf.imdelete(flats[flatkey]['procflat'], verify='no')\n",
      "    \n",
      "    flatlist = flatkey+'.lis'\n",
      "    procflat = flats[flatkey]['procflat']\n",
      "    \n",
      "    print 'Creating twilight flat ', procflat\n",
      "    \n",
      "    # Create the processed flat\n",
      "    iraf.giflat('rg//@'+flatlist, outflat=procflat, fl_vardq='yes')\n",
      "    \n",
      "    # Copy the processed flat to the calibration directory\n",
      "    shutil.copy(procflat, procflat_path)\n",
      "\n",
      "# The processed flats are:\n",
      "os.listdir(procflat_path)"
     ],
     "language": "python",
     "metadata": {},
     "outputs": []
    },
    {
     "cell_type": "heading",
     "level": 4,
     "metadata": {},
     "source": [
      "Visually inspect the processed twilight flats"
     ]
    },
    {
     "cell_type": "code",
     "collapsed": false,
     "input": [
      "for flatkey in flats.keys():\n",
      "    iraf.gdisplay(flats[flatkey]['procflat'], 1, fl_paste='yes')"
     ],
     "language": "python",
     "metadata": {},
     "outputs": []
    },
    {
     "cell_type": "heading",
     "level": 2,
     "metadata": {},
     "source": [
      "STEP 6: Process the fringe frame"
     ]
    },
    {
     "cell_type": "code",
     "collapsed": false,
     "input": [
      "os.chdir(redux_path)\n",
      "\n",
      "for fringekey in fringes.keys():\n",
      "    iraf.imdelete('g//@'+fringekey+'.lis', verify='no')\n",
      "    iraf.imdelete('rg//@'+fringekey+'.lis', verify='no')\n",
      "    \n",
      "    fringelist = fringekey+'.lis'\n",
      "    procflat = os.path.join(procflat_path, fringes[fringekey]['fringeflat'])\n",
      "    procbias = os.path.join(procbias_path, fringes[fringekey]['fringebias'])\n",
      "    \n",
      "    print 'Processing raw fringe frames'\n",
      "    \n",
      "    # gprepare, bias correct, and flat field the raw fringe frames\n",
      "    iraf.gireduce('@'+fringelist, rawpath=raw_path, \\\n",
      "                  fl_over='yes', fl_trim='yes', \\\n",
      "                  fl_bias='yes', bias=procbias, \\\n",
      "                  fl_flat='yes', flat1=procflat, \\\n",
      "                  fl_vardq='yes')\n"
     ],
     "language": "python",
     "metadata": {},
     "outputs": []
    },
    {
     "cell_type": "code",
     "collapsed": false,
     "input": [
      "os.chdir(redux_path)\n",
      "\n",
      "for fringekey in fringes.keys():\n",
      "    iraf.imdelete(fringes[fringekey]['procfringe'], verify='no')\n",
      "    \n",
      "    fringelist = fringekey+'.lis'\n",
      "    procfringe = fringes[fringekey]['procfringe']\n",
      "    \n",
      "    print 'Creating fringe frame ', procfringe\n",
      "    \n",
      "    # Create the processed fringe\n",
      "    iraf.gifringe('rg@'+fringelist, outimage=procfringe, fl_vardq='yes')\n",
      "    \n",
      "    # Copy the processed fringe to the calibration directory\n",
      "    shutil.copy(procfringe, procfringe_path)\n",
      "\n",
      "# The processed fringes are:\n",
      "os.listdir(procfringe_path)"
     ],
     "language": "python",
     "metadata": {},
     "outputs": []
    },
    {
     "cell_type": "heading",
     "level": 4,
     "metadata": {},
     "source": [
      "Visually inspect the processed fringe frames"
     ]
    },
    {
     "cell_type": "code",
     "collapsed": false,
     "input": [
      "for fringekey in fringes.keys():\n",
      "    iraf.gdisplay(fringes[fringekey]['procfringe'], 1, fl_paste='yes')"
     ],
     "language": "python",
     "metadata": {},
     "outputs": []
    },
    {
     "cell_type": "heading",
     "level": 2,
     "metadata": {},
     "source": [
      "STEP 7: Process the target"
     ]
    },
    {
     "cell_type": "markdown",
     "metadata": {},
     "source": [
      "In the redder bands, for some CCDs, the fringing can be important.  With the pre-Hamamatsu CCDs, that is the case for the i-band and the z-band.  We are here reducing i-band data, so we will have to correct for the fringing.\n",
      "\n",
      "Also, because our target is extended, it is not possible to use the on-target frames to produce the fringe frame.  We have to use 'blank field' observations taken a few nights later to create a fringe frame.  Because the fringe data was obtained at another time, we will need to measure the appropriate scale factor and scale it accordingly prior to removing it from the science observations.\n",
      "\n",
      "Here, we first do the straighforward processing, i.e. the bias and flat correction.  Then we deal with the fringe correction."
     ]
    },
    {
     "cell_type": "heading",
     "level": 3,
     "metadata": {},
     "source": [
      "STEP 7.1: Bias and flat fielding of the target"
     ]
    },
    {
     "cell_type": "code",
     "collapsed": false,
     "input": [
      "os.chdir(redux_path)\n",
      "\n",
      "iraf.imdelete('g//@sci.lis', verify='no')\n",
      "iraf.imdelete('rg//@sci.lis', verify='no')\n",
      "\n",
      "iraf.gireduce('@sci.lis', rawpath=raw_path, fl_over='yes', fl_trim='yes', \\\n",
      "              fl_bias='yes', bias=science['scibias'], \\\n",
      "              fl_flat='yes', flat1=science['sciflat'], \\\n",
      "              fl_vardq='yes')"
     ],
     "language": "python",
     "metadata": {},
     "outputs": []
    },
    {
     "cell_type": "heading",
     "level": 4,
     "metadata": {},
     "source": [
      "Visually inspect the reduce science frames"
     ]
    },
    {
     "cell_type": "code",
     "collapsed": false,
     "input": [
      "sciframes = open('sci.lis', 'r')\n",
      "for line in sciframes:\n",
      "    frame = line.strip()\n",
      "    iraf.gdisplay('rg'+frame, 1, fl_paste='yes')\n",
      "sciframes.close()"
     ],
     "language": "python",
     "metadata": {},
     "outputs": []
    },
    {
     "cell_type": "heading",
     "level": 3,
     "metadata": {},
     "source": [
      "STEP 7.2: Fringe removal"
     ]
    },
    {
     "cell_type": "markdown",
     "metadata": {},
     "source": [
      "As explained in the section's introduction, the fringe frames were obtained on another night.  Therefore, there will certainly be a need to scale the processed fringe frame to the science observations for proper fringe pattern removal.\n",
      "\n",
      "`girmfringe` can try to calculate a scale factor for you based on image statistics.  For fine-grain adjustment, one can also feed `girmfringe` manually measured scale factor.  Here, we will let `girmfringe` figure it out for us.\n",
      "\n",
      "However, it will need some help.  The default section used for the statistics is the full center CCD.  Well, that's where our big and bright galaxy is.  We won't get good sky statistics from that.  So we need to inspect the image and select a good section to calculate statistics on."
     ]
    },
    {
     "cell_type": "code",
     "collapsed": false,
     "input": [
      "# get the file name for the first science frame \n",
      "# (we just need to inspect one of them)\n",
      "# Here's a little useful trick.\n",
      "first_sci = iraf.head('sci.lis', nlines=1, Stdout=1)[0].strip()\n",
      "\n",
      "iraf.display('rg'+first_sci+'[sci,2]', 1)\n",
      "\n",
      "# Select a good section to represent the sky.\n",
      "# I recommend [50:350,450:750]"
     ],
     "language": "python",
     "metadata": {},
     "outputs": []
    },
    {
     "cell_type": "code",
     "collapsed": false,
     "input": [
      "skysection = '[SCI,2][50:350,450:750]'\n",
      "\n",
      "iraf.imdelete('frg//@sci.lis', verify='no')\n",
      "\n",
      "iraf.girmfringe('rg//@sci.lis', science['scifringe'], \\\n",
      "                fl_statscale='yes', statsec=skysection, \\\n",
      "                fl_propfvardq='yes')"
     ],
     "language": "python",
     "metadata": {},
     "outputs": []
    },
    {
     "cell_type": "heading",
     "level": 4,
     "metadata": {},
     "source": [
      "Visually inspect the fringe corrected observations"
     ]
    },
    {
     "cell_type": "code",
     "collapsed": false,
     "input": [
      "sciframes = open('sci.lis', 'r')\n",
      "for line in sciframes:\n",
      "    frame = line.strip()\n",
      "    iraf.gdisplay('frg'+frame, 1, fl_paste='yes')\n",
      "sciframes.close()"
     ],
     "language": "python",
     "metadata": {},
     "outputs": []
    },
    {
     "cell_type": "heading",
     "level": 4,
     "metadata": {},
     "source": [
      "And let's treat ourselves before we move on..."
     ]
    },
    {
     "cell_type": "code",
     "collapsed": false,
     "input": [
      "first_sci = iraf.head('sci.lis', nlines=1, Stdout=1)[0].strip()\n",
      "iraf.gdisplay('frg'+frame, 1, z2=20000, fl_paste='yes')"
     ],
     "language": "python",
     "metadata": {},
     "outputs": []
    },
    {
     "cell_type": "heading",
     "level": 2,
     "metadata": {},
     "source": [
      "STEP 8: Mosaic the reduced target frames"
     ]
    },
    {
     "cell_type": "code",
     "collapsed": false,
     "input": [
      "iraf.imdelete('mfrg//@sci.lis', verify='no')\n",
      "\n",
      "iraf.gmosaic('frg//@sci.lis', fl_vardq='yes')"
     ],
     "language": "python",
     "metadata": {},
     "outputs": []
    },
    {
     "cell_type": "heading",
     "level": 4,
     "metadata": {},
     "source": [
      "Visually inspect the mosaiced frames"
     ]
    },
    {
     "cell_type": "code",
     "collapsed": false,
     "input": [
      "sciframes = open('sci.lis', 'r')\n",
      "for line in sciframes:\n",
      "    frame = line.strip()\n",
      "    iraf.gdisplay('mfrg'+frame, 1, z2=20000, fl_paste='yes')\n",
      "sciframes.close()"
     ],
     "language": "python",
     "metadata": {},
     "outputs": []
    },
    {
     "cell_type": "heading",
     "level": 2,
     "metadata": {},
     "source": [
      "STEP 9: Align and stack the mosaic target frames"
     ]
    },
    {
     "cell_type": "code",
     "collapsed": false,
     "input": [
      "iraf.imdelete(science['procsci'], verify='no')\n",
      "\n",
      "iraf.imcoadd('mfrg//@sci.lis', outimage=science['procsci'], logfile=logfile)"
     ],
     "language": "python",
     "metadata": {},
     "outputs": []
    },
    {
     "cell_type": "heading",
     "level": 2,
     "metadata": {},
     "source": [
      "STEP 10: Inspect and save product"
     ]
    },
    {
     "cell_type": "code",
     "collapsed": false,
     "input": [
      "iraf.display(science['procsci']+'[sci,1]', 1, \\\n",
      "             zrange='no', zscale='no', z1=6000, z2=20000)\n",
      "\n",
      "shutil.copy(science['procsci'], products_path)\n",
      "\n",
      "# Final reduced image\n",
      "os.listdir(products_path)"
     ],
     "language": "python",
     "metadata": {},
     "outputs": []
    },
    {
     "cell_type": "code",
     "collapsed": false,
     "input": [],
     "language": "python",
     "metadata": {},
     "outputs": []
    }
   ],
   "metadata": {}
  }
 ]
}