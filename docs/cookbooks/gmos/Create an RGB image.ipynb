{
 "metadata": {
  "name": "",
  "signature": "sha256:f079c6d12d149b691fac0bdfd4121f5ad4a1b6dd619a2b7e0f636577c8cca352"
 },
 "nbformat": 3,
 "nbformat_minor": 0,
 "worksheets": [
  {
   "cells": [
    {
     "cell_type": "heading",
     "level": 1,
     "metadata": {},
     "source": [
      "Technique to create an RGB image"
     ]
    },
    {
     "cell_type": "markdown",
     "metadata": {},
     "source": [
      "This is a quick technique to create an RGB image.  There surely better ones out there, but this is an idea way to have a bit of fun.\n",
      "\n",
      "The script below uses a module written by Min-Su Shin.  It is freely distributed.  There is a download link on an AstroBetter page, I copied it here:\n",
      "\n",
      "   [img_scale.py](http://www.astrobetter.com/wiki/tiki-download_wiki_attachment.php?attId=23&page=RGB%20Images%20with%20matplotlib&download=y) from author Min-Su Shin\n",
      "    \n",
      "Put the file `img_scale.py` somewhere in your PYTHONPATH, or in the directory where your three processed images are stored."
     ]
    },
    {
     "cell_type": "code",
     "collapsed": false,
     "input": [
      "%matplotlib inline\n",
      "\n",
      "import os\n",
      "os.chdir('/data/workspace/DRWorkshopAAO/NGC6872/products')\n",
      "\n",
      "import pyfits\n",
      "import numpy as np\n",
      "import matplotlib.pyplot as plt\n",
      "import img_scale\n",
      "\n",
      "g_img = pyfits.getdata('ngc6872_g.fits', extname='sci')\n",
      "i_img = pyfits.getdata('ngc6872_i.fits', extname='sci')\n",
      "r_img = pyfits.getdata('ngc6872_r.fits', extname='sci')\n",
      "\n",
      "# I use a square root scaling, but img_scale has linear, log, asinh\n",
      "# scaling too.\n",
      "#\n",
      "# The numbers I use below give an okay result, but it can be improved.\n",
      "\n",
      "rgbimage = np.zeros((g_img.shape[0], g_img.shape[1], 3), dtype=float)\n",
      "rgbimage[:,:,2] = img_scale.sqrt(i_img, scale_min=3500, scale_max=40000) \n",
      "rgbimage[:,:,1] = img_scale.sqrt(r_img, scale_min=6000, scale_max=40000) \n",
      "rgbimage[:,:,0] = img_scale.sqrt(g_img * 1.65, scale_min=3000, scale_max=40000) \n",
      "\n",
      "plt.imshow(rgbimage, aspect='equal')\n",
      "plt.title(\"Red = i, Green = r', Blue = g'\")\n",
      "\n",
      "# Uncomment the savefig call when you are happy with the look or\n",
      "# want to see a bigger image.  This will save the file as a PNG\n",
      "#plt.savefig('ngc6872_rgb.png', dpi=1000)"
     ],
     "language": "python",
     "metadata": {},
     "outputs": []
    },
    {
     "cell_type": "heading",
     "level": 2,
     "metadata": {},
     "source": [
      "Or try Gimp"
     ]
    },
    {
     "cell_type": "markdown",
     "metadata": {},
     "source": [
      "In Gimp, use `File -> Open as layer` and open all three FITS file.  Then go to `Color -> Component ->  Compose` to set the channels.  You will want to play with the `Channel mixer` and the `Curves`, and whatever can bring the details out. "
     ]
    },
    {
     "cell_type": "code",
     "collapsed": false,
     "input": [],
     "language": "python",
     "metadata": {},
     "outputs": []
    }
   ],
   "metadata": {}
  }
 ]
}