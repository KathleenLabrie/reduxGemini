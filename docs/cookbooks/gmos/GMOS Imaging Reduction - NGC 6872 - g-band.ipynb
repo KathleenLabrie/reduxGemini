{
 "metadata": {
  "name": "",
  "signature": "sha256:1033e2bca91f7ae64390279a0b364cc8e08be0e839e54107a70f57cbdadeadeb"
 },
 "nbformat": 3,
 "nbformat_minor": 0,
 "worksheets": [
  {
   "cells": [
    {
     "cell_type": "heading",
     "level": 1,
     "metadata": {},
     "source": [
      "Tutorial: GMOS Imaging Reduction - NGC 6872 - g-band"
     ]
    },
    {
     "cell_type": "heading",
     "level": 2,
     "metadata": {},
     "source": [
      "Datasets:"
     ]
    },
    {
     "cell_type": "markdown",
     "metadata": {},
     "source": [
      "<table>\n",
      "  <tr><td><strong>Science observation UT date(s)</strong></td>\n",
      "      <td>2010 Nov 01</td>\n",
      "      </tr>\n",
      "  <tr><td><strong>Data filename prefix(es)</strong></td>\n",
      "      <td>S20101101S</td>\n",
      "      </tr>\n",
      "</table>"
     ]
    },
    {
     "cell_type": "heading",
     "level": 4,
     "metadata": {},
     "source": [
      "Target Frames"
     ]
    },
    {
     "cell_type": "markdown",
     "metadata": {},
     "source": [
      "<table>\n",
      "<tr><td>Science</td><td>S20101101S</td><td>79-82</td><td>binning 2x2</td></tr>\n",
      "<tr><td>Processed Bias</td><td>for 20101101</td><td>S20101101S0169_bias.fits</td><td></td></tr>\n",
      "<tr><td>Processed Twilight Flat</td><td>for 20101101</td><td>S20101102S0018_flat_g.fits</td><td></td></tr>\n",
      "<tr><td>Processed Fringe Frame</td><td>N/A</td><td>N/A</td><td></td></tr>\n",
      "</table>"
     ]
    },
    {
     "cell_type": "heading",
     "level": 4,
     "metadata": {},
     "source": [
      "Fringe Frames"
     ]
    },
    {
     "cell_type": "markdown",
     "metadata": {},
     "source": [
      "N/A"
     ]
    },
    {
     "cell_type": "heading",
     "level": 4,
     "metadata": {},
     "source": [
      "Twilight Flats"
     ]
    },
    {
     "cell_type": "markdown",
     "metadata": {},
     "source": [
      "<table>\n",
      "<tr><td colspan=3>Processed: <strong>S20101102S0018_flat_g.fits</strong></td></tr>\n",
      "<tr><td>Twilight Frames</td><td>S20101102S</td><td>18-29</td><td>binning 2x2</td></tr>\n",
      "<tr><td>Processed Bias</td><td>for 20101102</td><td>S20101101S0169_bias.fits</td><td></td></tr>\n",
      "</table>"
     ]
    },
    {
     "cell_type": "heading",
     "level": 4,
     "metadata": {},
     "source": [
      "Biases"
     ]
    },
    {
     "cell_type": "markdown",
     "metadata": {},
     "source": [
      "<table>\n",
      "<tr><td colspan=3>Processed: <strong>S20101101S0169_bias.fits</strong></td></tr>\n",
      "<tr><td rowspan=2>Biases</td><td>S20101101S</td><td>169-172</td><td>binning 2x2</td></tr>\n",
      "<tr>                         <td>S20101102S</td><td>131-135</td><td>binning 2x2</td></tr>\n",
      "</table>"
     ]
    },
    {
     "cell_type": "heading",
     "level": 2,
     "metadata": {},
     "source": [
      "STEP 0: Directory structure used by this Notebook"
     ]
    },
    {
     "cell_type": "markdown",
     "metadata": {},
     "source": [
      "The directory paths used in this notebook are assumed to match this structure:\n",
      "\n",
      "    rootdir/\n",
      "        calib/\n",
      "            bias/\n",
      "            flat/\n",
      "            fringe/\n",
      "        raw/\n",
      "        redux/"
     ]
    },
    {
     "cell_type": "heading",
     "level": 2,
     "metadata": {},
     "source": [
      "STEP 1: Set up the Notebook and the PyRAF session"
     ]
    },
    {
     "cell_type": "markdown",
     "metadata": {},
     "source": [
      "The data processing will happen in the Notebook.  It is also convenient to have a PyRAF interactive session ready to use if needed, eg. to imexam.  In this step, we will configure the Notebook and the PyRAF session.  \n",
      "\n",
      "This step needs to be repeated everytime the Notebook and/or the PyRAF session is restarted."
     ]
    },
    {
     "cell_type": "heading",
     "level": 3,
     "metadata": {},
     "source": [
      "STEP 1.1: Set up the Notebook"
     ]
    },
    {
     "cell_type": "heading",
     "level": 4,
     "metadata": {},
     "source": [
      "STEP 1.1.1: Set up the variables."
     ]
    },
    {
     "cell_type": "code",
     "collapsed": false,
     "input": [
      "import os\n",
      "import os.path\n",
      "import shutil\n",
      "\n",
      "# WARNING: Make sure that the directory structure given in Step 0 \n",
      "#          is already in place.\n",
      "\n",
      "# EDIT HERE - Directories\n",
      "rootdir = '/data/workspace/DRWorkshopAAO/NGC6872'\n",
      "\n",
      "# EDIT HERE - File numbers and file names\n",
      "biases = {\n",
      "    'bias_20101101' : {\n",
      "        'procbias' : 'S20101101S0169_bias.fits',\n",
      "        'frames'   : [('S20101101S', '169-172'),\n",
      "                      ('S20101102S', '131-135'),\n",
      "                     ]\n",
      "    },\n",
      "}\n",
      "\n",
      "flats = {\n",
      "    'flat_20101102' : {\n",
      "        'procflat'   : 'S20101102S0018_flat_g.fits',\n",
      "        'frames'     : [('S20101102S', '18-29')],\n",
      "        'flatbias'   : biases['bias_20101101']['procbias'],\n",
      "    }\n",
      "}\n",
      "\n",
      "science = {\n",
      "    'procsci'   : 'ngc6872_g.fits',\n",
      "    'sciroot'   : 'S20101101S',\n",
      "    'sciframes' : '79-82',\n",
      "    'scibias'   : biases['bias_20101101']['procbias'],\n",
      "    'sciflat'   : flats['flat_20101102']['procflat'],\n",
      "    #'scifringe' : fringes['fringe_20101111']['procfringe'],\n",
      "}\n",
      "\n",
      "logfile = 'NGC6872_g.log'\n",
      "\n",
      "# Automatically set directories to match structure from Step 0\n",
      "raw_path = os.path.join(rootdir, 'raw') + '/'\n",
      "redux_path = os.path.join(rootdir, 'redux') + '/'\n",
      "procbias_path = os.path.join(rootdir, 'calib', 'bias') + '/'\n",
      "procflat_path = os.path.join(rootdir, 'calib', 'flat') + '/'\n",
      "procfringe_path = os.path.join(rootdir, 'calib', 'fringe') + '/'\n",
      "products_path = os.path.join(rootdir, 'products') + '/'\n",
      "\n",
      "# Change to work directory\n",
      "os.chdir(redux_path)\n"
     ],
     "language": "python",
     "metadata": {},
     "outputs": [],
     "prompt_number": 1
    },
    {
     "cell_type": "heading",
     "level": 4,
     "metadata": {},
     "source": [
      "Step 1.1.2: Load and initialize the package"
     ]
    },
    {
     "cell_type": "markdown",
     "metadata": {},
     "source": [
      "---> <strong>LAUNCH DS9 before proceeding further</strong>\n",
      "\n",
      "Load the package required for the Notebook session and reset tasks to the default parameters."
     ]
    },
    {
     "cell_type": "code",
     "collapsed": false,
     "input": [
      "from pyraf import iraf\n",
      "iraf.gemini()\n",
      "iraf.gmos()\n",
      "\n",
      "iraf.unlearn(iraf.gemini, iraf.gmos, iraf.gemtools)\n",
      "\n",
      "iraf.gmos.logfile = logfile\n",
      "\n",
      "iraf.set(stdimage='imtgmos')"
     ],
     "language": "python",
     "metadata": {},
     "outputs": [
      {
       "output_type": "stream",
       "stream": "stdout",
       "text": [
        "This is the initial release of the IRAF FITSUTIL package\n",
        "to include support for FITS tile compression via 'fpack'.\n",
        "Please send comments and questions to seaman@noao.edu.\n",
        "\n",
        " \n",
        "     +------------------- Gemini IRAF Package -------------------+\n",
        "     |             Version 1.13.1, December 7, 2015              |\n",
        "     |             Requires IRAF v2.14.1 or greater              |\n",
        "     |              Tested with Ureka IRAF v2.16                 |\n",
        "     |             Gemini Observatory, Hilo, Hawaii              |\n",
        "     |    Please use the help desk for submission of questions   |\n",
        "     |  http://www.gemini.edu/sciops/helpdesk/helpdeskIndex.html |\n",
        "     +-----------------------------------------------------------+\n",
        " \n",
        "     Warning setting imtype=fits\n",
        "     Warning setting use_new_imt=no\n",
        " \n",
        "gemini/:\n",
        " f2/            gemtools/       gsaoi/          niri/\n",
        " flamingos/     gmos/           midir/          oscir/\n",
        " gemlocal/      gnirs/          nifs/           quirc/\n",
        "gmos/:"
       ]
      },
      {
       "output_type": "stream",
       "stream": "stdout",
       "text": [
        "\n",
        " gbias          gfquick         gmosaic         gsappwave       gssdist\n",
        " gbpm           gfreduce        gmosexamples    gscalibrate     gsskysub\n",
        " gdark          gfresponse      gmosinfo        gscrmask        gsslitfunction\n",
        " gdisplay       gfscatsub       gmosinfoifu     gscrrej         gsstandard\n",
        " gfapsum        gfskysub        gmosinfoimag    gscut           gstransform\n",
        " gfcombine      gftransform     gmosinfospec    gsdrawslits     gswavelength\n",
        " gfcopy         giflat          gnscombine      gsextract       mostools/\n",
        " gfcube         gifringe        gnsdark         gsflat\n",
        " gfdisplay      giillum         gnsskysub       gsfquick\n",
        " gfextract      gireduce        gprepare        gsreduce\n",
        " gffindblocks   girmfringe      gqecorr         gsscatsub\n"
       ]
      }
     ],
     "prompt_number": 2
    },
    {
     "cell_type": "heading",
     "level": 3,
     "metadata": {},
     "source": [
      "STEP 1.2: Set up the PyRAF session"
     ]
    },
    {
     "cell_type": "markdown",
     "metadata": {},
     "source": [
      "The commands shown here need to be run from the shell.\n",
      "\n",
      "Open an xterm or a Terminal, then:\n",
      "\n",
      "    cd /data/workspace/DRWorkshopAAO/NGC6872/redux\n",
      "    pyraf\n",
      "\n",
      "Then in the PyRAF session:\n",
      "\n",
      "    gemini\n",
      "    gmos\n",
      "    unlearn gemini\n",
      "    unlearn gmos\n",
      "    unlearn gemtools\n",
      "\n",
      "Get your PyRAF configured.  In the PyRAF session:\n",
      "\n",
      "    iraf.gmos.logfile = \"NGC6872_g.log\"\n",
      "    set stdimage=imtgmos\n"
     ]
    },
    {
     "cell_type": "heading",
     "level": 2,
     "metadata": {},
     "source": [
      "STEP 2: Create the file lists"
     ]
    },
    {
     "cell_type": "code",
     "collapsed": false,
     "input": [
      "os.chdir(redux_path)\n",
      "\n",
      "# delete any pre-existing lists\n",
      "iraf.delete('*.lis', verify='no')\n",
      "\n",
      "# biases\n",
      "for (root, frames) in biases['bias_20101101']['frames']:\n",
      "    iraf.gemlist(root, frames, Stdout='tmp_'+root+'.lis')\n",
      "iraf.concat('tmp_*.lis', 'bias_20101101.lis')\n",
      "iraf.delete('tmp_*.lis', verify='no')\n",
      "\n",
      "# flats\n",
      "for (root, frames) in flats['flat_20101102']['frames']:\n",
      "    iraf.gemlist(root, frames, Stdout='tmp_'+root+'.lis')\n",
      "iraf.concat('tmp_*.lis', 'flat_20101102.lis')\n",
      "iraf.delete('tmp_*.lis', verify='no')\n",
      "\n",
      "\n",
      "# science\n",
      "iraf.gemlist(science['sciroot'], science['sciframes'], \\\n",
      "             Stdout='sci.lis')\n",
      "\n",
      "# Get a full list\n",
      "iraf.concat('*.lis', 'all.lis')"
     ],
     "language": "python",
     "metadata": {},
     "outputs": [],
     "prompt_number": 3
    },
    {
     "cell_type": "heading",
     "level": 2,
     "metadata": {},
     "source": [
      "STEP 3: Visually inspect all the data"
     ]
    },
    {
     "cell_type": "code",
     "collapsed": false,
     "input": [
      "all_files = open('all.lis', 'r')\n",
      "for line in all_files:\n",
      "    image = line.strip() + '[1]'\n",
      "    print image\n",
      "    iraf.gdisplay(raw_path + image, 1, fl_paste='no')\n",
      "    iraf.sleep(5)\n",
      "    \n",
      "all_files.close()"
     ],
     "language": "python",
     "metadata": {},
     "outputs": [
      {
       "output_type": "stream",
       "stream": "stdout",
       "text": [
        "S20101101S0169[1]\n",
        "\n",
        "GDISPLAY - Started: 2016-03-23T09:19:05\n",
        "\n"
       ]
      },
      {
       "output_type": "stream",
       "stream": "stdout",
       "text": [
        "GDISPLAY: Temporary image name tmpout94296oS20101101S0169.fits\n",
        "\n",
        "GMULTIAMP - Started: 2016-03-23T09:19:05\n",
        "\n"
       ]
      },
      {
       "output_type": "stream",
       "stream": "stdout",
       "text": [
        "\n",
        "GMULTIAMP - Finished: 2016-03-23T09:19:06\n",
        "GMULTIAMP - Exit status: GOOD\n",
        "\n"
       ]
      },
      {
       "output_type": "stream",
       "stream": "stdout",
       "text": [
        "GDISPLAY: Displaying image...\n",
        "\n",
        "GDISPLAY - Finished: 2016-03-23T09:19:07\n"
       ]
      },
      {
       "output_type": "stream",
       "stream": "stdout",
       "text": [
        "\n",
        "S20101101S0170[1]"
       ]
      },
      {
       "output_type": "stream",
       "stream": "stdout",
       "text": [
        "\n",
        "\n",
        "GDISPLAY - Started: 2016-03-23T09:19:12\n",
        "\n"
       ]
      },
      {
       "output_type": "stream",
       "stream": "stdout",
       "text": [
        "GDISPLAY: Temporary image name tmpout94296_10S20101101S0170.fits\n",
        "\n",
        "GMULTIAMP - Started: 2016-03-23T09:19:12\n",
        "\n"
       ]
      },
      {
       "output_type": "stream",
       "stream": "stdout",
       "text": [
        "\n",
        "GMULTIAMP - Finished: 2016-03-23T09:19:13\n",
        "GMULTIAMP - Exit status: GOOD\n",
        "\n"
       ]
      },
      {
       "output_type": "stream",
       "stream": "stdout",
       "text": [
        "GDISPLAY: Displaying image...\n",
        "\n",
        "GDISPLAY - Finished: 2016-03-23T09:19:14\n"
       ]
      },
      {
       "output_type": "stream",
       "stream": "stdout",
       "text": [
        "\n",
        "S20101101S0171[1]"
       ]
      },
      {
       "output_type": "stream",
       "stream": "stdout",
       "text": [
        "\n",
        "\n",
        "GDISPLAY - Started: 2016-03-23T09:19:19\n",
        "\n"
       ]
      },
      {
       "output_type": "stream",
       "stream": "stdout",
       "text": [
        "GDISPLAY: Temporary image name tmpout94296_31S20101101S0171.fits\n",
        "\n",
        "GMULTIAMP - Started: 2016-03-23T09:19:19\n",
        "\n"
       ]
      },
      {
       "output_type": "stream",
       "stream": "stdout",
       "text": [
        "\n",
        "GMULTIAMP - Finished: 2016-03-23T09:19:20\n",
        "GMULTIAMP - Exit status: GOOD\n",
        "\n"
       ]
      },
      {
       "output_type": "stream",
       "stream": "stdout",
       "text": [
        "GDISPLAY: Displaying image...\n",
        "\n",
        "GDISPLAY - Finished: 2016-03-23T09:19:21\n"
       ]
      },
      {
       "output_type": "stream",
       "stream": "stdout",
       "text": [
        "\n",
        "S20101101S0172[1]"
       ]
      },
      {
       "output_type": "stream",
       "stream": "stdout",
       "text": [
        "\n",
        "\n",
        "GDISPLAY - Started: 2016-03-23T09:19:26\n",
        "\n"
       ]
      },
      {
       "output_type": "stream",
       "stream": "stdout",
       "text": [
        "GDISPLAY: Temporary image name tmpout94296_52S20101101S0172.fits\n",
        "\n",
        "GMULTIAMP - Started: 2016-03-23T09:19:26\n",
        "\n"
       ]
      },
      {
       "output_type": "stream",
       "stream": "stdout",
       "text": [
        "\n",
        "GMULTIAMP - Finished: 2016-03-23T09:19:27\n",
        "GMULTIAMP - Exit status: GOOD\n",
        "\n"
       ]
      },
      {
       "output_type": "stream",
       "stream": "stdout",
       "text": [
        "GDISPLAY: Displaying image...\n",
        "\n",
        "GDISPLAY - Finished: 2016-03-23T09:19:28\n"
       ]
      },
      {
       "output_type": "stream",
       "stream": "stdout",
       "text": [
        "\n",
        "S20101102S0131[1]"
       ]
      },
      {
       "output_type": "stream",
       "stream": "stdout",
       "text": [
        "\n",
        "\n",
        "GDISPLAY - Started: 2016-03-23T09:19:33\n",
        "\n"
       ]
      },
      {
       "output_type": "stream",
       "stream": "stdout",
       "text": [
        "GDISPLAY: Temporary image name tmpout94296_73S20101102S0131.fits\n",
        "\n",
        "GMULTIAMP - Started: 2016-03-23T09:19:33\n",
        "\n"
       ]
      },
      {
       "output_type": "stream",
       "stream": "stdout",
       "text": [
        "\n",
        "GMULTIAMP - Finished: 2016-03-23T09:19:34\n",
        "GMULTIAMP - Exit status: GOOD\n",
        "\n"
       ]
      },
      {
       "output_type": "stream",
       "stream": "stdout",
       "text": [
        "GDISPLAY: Displaying image...\n",
        "\n",
        "GDISPLAY - Finished: 2016-03-23T09:19:35\n"
       ]
      },
      {
       "output_type": "stream",
       "stream": "stdout",
       "text": [
        "\n",
        "S20101102S0132[1]"
       ]
      },
      {
       "output_type": "stream",
       "stream": "stdout",
       "text": [
        "\n",
        "\n",
        "GDISPLAY - Started: 2016-03-23T09:19:40\n",
        "\n"
       ]
      },
      {
       "output_type": "stream",
       "stream": "stdout",
       "text": [
        "GDISPLAY: Temporary image name tmpout94296_94S20101102S0132.fits\n",
        "\n",
        "GMULTIAMP - Started: 2016-03-23T09:19:40\n",
        "\n"
       ]
      },
      {
       "output_type": "stream",
       "stream": "stdout",
       "text": [
        "\n",
        "GMULTIAMP - Finished: 2016-03-23T09:19:41\n",
        "GMULTIAMP - Exit status: GOOD\n",
        "\n"
       ]
      },
      {
       "output_type": "stream",
       "stream": "stdout",
       "text": [
        "GDISPLAY: Displaying image...\n",
        "\n",
        "GDISPLAY - Finished: 2016-03-23T09:19:42\n"
       ]
      },
      {
       "output_type": "stream",
       "stream": "stdout",
       "text": [
        "\n",
        "S20101102S0133[1]"
       ]
      },
      {
       "output_type": "stream",
       "stream": "stdout",
       "text": [
        "\n",
        "\n",
        "GDISPLAY - Started: 2016-03-23T09:19:47\n",
        "\n"
       ]
      },
      {
       "output_type": "stream",
       "stream": "stdout",
       "text": [
        "GDISPLAY: Temporary image name tmpout94296_115S20101102S0133.fits\n",
        "\n",
        "GMULTIAMP - Started: 2016-03-23T09:19:47\n",
        "\n"
       ]
      },
      {
       "output_type": "stream",
       "stream": "stdout",
       "text": [
        "\n",
        "GMULTIAMP - Finished: 2016-03-23T09:19:48\n",
        "GMULTIAMP - Exit status: GOOD\n",
        "\n"
       ]
      },
      {
       "output_type": "stream",
       "stream": "stdout",
       "text": [
        "GDISPLAY: Displaying image...\n",
        "\n",
        "GDISPLAY - Finished: 2016-03-23T09:19:49\n"
       ]
      },
      {
       "output_type": "stream",
       "stream": "stdout",
       "text": [
        "\n",
        "S20101102S0134[1]"
       ]
      },
      {
       "output_type": "stream",
       "stream": "stdout",
       "text": [
        "\n",
        "\n",
        "GDISPLAY - Started: 2016-03-23T09:19:54\n",
        "\n"
       ]
      },
      {
       "output_type": "stream",
       "stream": "stdout",
       "text": [
        "GDISPLAY: Temporary image name tmpout94296_136S20101102S0134.fits\n",
        "\n",
        "GMULTIAMP - Started: 2016-03-23T09:19:54\n",
        "\n"
       ]
      },
      {
       "output_type": "stream",
       "stream": "stdout",
       "text": [
        "\n",
        "GMULTIAMP - Finished: 2016-03-23T09:19:55\n",
        "GMULTIAMP - Exit status: GOOD\n",
        "\n"
       ]
      },
      {
       "output_type": "stream",
       "stream": "stdout",
       "text": [
        "GDISPLAY: Displaying image...\n",
        "\n",
        "GDISPLAY - Finished: 2016-03-23T09:19:56\n"
       ]
      },
      {
       "output_type": "stream",
       "stream": "stdout",
       "text": [
        "\n",
        "S20101102S0135[1]"
       ]
      },
      {
       "output_type": "stream",
       "stream": "stdout",
       "text": [
        "\n",
        "\n",
        "GDISPLAY - Started: 2016-03-23T09:20:01\n",
        "\n"
       ]
      },
      {
       "output_type": "stream",
       "stream": "stdout",
       "text": [
        "GDISPLAY: Temporary image name tmpout94296_157S20101102S0135.fits\n",
        "\n",
        "GMULTIAMP - Started: 2016-03-23T09:20:01\n",
        "\n"
       ]
      },
      {
       "output_type": "stream",
       "stream": "stdout",
       "text": [
        "\n",
        "GMULTIAMP - Finished: 2016-03-23T09:20:02\n",
        "GMULTIAMP - Exit status: GOOD\n",
        "\n"
       ]
      },
      {
       "output_type": "stream",
       "stream": "stdout",
       "text": [
        "GDISPLAY: Displaying image...\n",
        "\n",
        "GDISPLAY - Finished: 2016-03-23T09:20:03\n"
       ]
      },
      {
       "output_type": "stream",
       "stream": "stdout",
       "text": [
        "\n",
        "S20101102S0018[1]"
       ]
      },
      {
       "output_type": "stream",
       "stream": "stdout",
       "text": [
        "\n",
        "\n",
        "GDISPLAY - Started: 2016-03-23T09:20:08\n",
        "\n"
       ]
      },
      {
       "output_type": "stream",
       "stream": "stdout",
       "text": [
        "GDISPLAY: Temporary image name tmpout94296_178S20101102S0018.fits\n",
        "\n",
        "GMULTIAMP - Started: 2016-03-23T09:20:08\n",
        "\n"
       ]
      },
      {
       "output_type": "stream",
       "stream": "stdout",
       "text": [
        "\n",
        "GMULTIAMP - Finished: 2016-03-23T09:20:08\n",
        "GMULTIAMP - Exit status: GOOD\n",
        "\n"
       ]
      },
      {
       "output_type": "stream",
       "stream": "stdout",
       "text": [
        "GDISPLAY: Displaying image...\n",
        "\n",
        "GDISPLAY - Finished: 2016-03-23T09:20:10\n"
       ]
      },
      {
       "output_type": "stream",
       "stream": "stdout",
       "text": [
        "\n",
        "S20101102S0019[1]"
       ]
      },
      {
       "output_type": "stream",
       "stream": "stdout",
       "text": [
        "\n",
        "\n",
        "GDISPLAY - Started: 2016-03-23T09:20:15\n",
        "\n"
       ]
      },
      {
       "output_type": "stream",
       "stream": "stdout",
       "text": [
        "GDISPLAY: Temporary image name tmpout94296_199S20101102S0019.fits\n",
        "\n",
        "GMULTIAMP - Started: 2016-03-23T09:20:15\n",
        "\n"
       ]
      },
      {
       "output_type": "stream",
       "stream": "stdout",
       "text": [
        "\n",
        "GMULTIAMP - Finished: 2016-03-23T09:20:15\n",
        "GMULTIAMP - Exit status: GOOD\n",
        "\n"
       ]
      },
      {
       "output_type": "stream",
       "stream": "stdout",
       "text": [
        "GDISPLAY: Displaying image...\n",
        "\n",
        "GDISPLAY - Finished: 2016-03-23T09:20:17\n"
       ]
      },
      {
       "output_type": "stream",
       "stream": "stdout",
       "text": [
        "\n",
        "S20101102S0020[1]"
       ]
      },
      {
       "output_type": "stream",
       "stream": "stdout",
       "text": [
        "\n",
        "\n",
        "GDISPLAY - Started: 2016-03-23T09:20:22\n",
        "\n"
       ]
      },
      {
       "output_type": "stream",
       "stream": "stdout",
       "text": [
        "GDISPLAY: Temporary image name tmpout94296_220S20101102S0020.fits\n",
        "\n",
        "GMULTIAMP - Started: 2016-03-23T09:20:22\n",
        "\n"
       ]
      },
      {
       "output_type": "stream",
       "stream": "stdout",
       "text": [
        "\n",
        "GMULTIAMP - Finished: 2016-03-23T09:20:22\n",
        "GMULTIAMP - Exit status: GOOD\n",
        "\n"
       ]
      },
      {
       "output_type": "stream",
       "stream": "stdout",
       "text": [
        "GDISPLAY: Displaying image...\n",
        "\n",
        "GDISPLAY - Finished: 2016-03-23T09:20:23\n"
       ]
      },
      {
       "output_type": "stream",
       "stream": "stdout",
       "text": [
        "\n",
        "S20101102S0021[1]"
       ]
      },
      {
       "output_type": "stream",
       "stream": "stdout",
       "text": [
        "\n",
        "\n",
        "GDISPLAY - Started: 2016-03-23T09:20:29\n",
        "\n"
       ]
      },
      {
       "output_type": "stream",
       "stream": "stdout",
       "text": [
        "GDISPLAY: Temporary image name tmpout94296_241S20101102S0021.fits\n",
        "\n",
        "GMULTIAMP - Started: 2016-03-23T09:20:29\n",
        "\n"
       ]
      },
      {
       "output_type": "stream",
       "stream": "stdout",
       "text": [
        "\n",
        "GMULTIAMP - Finished: 2016-03-23T09:20:29\n",
        "GMULTIAMP - Exit status: GOOD\n",
        "\n"
       ]
      },
      {
       "output_type": "stream",
       "stream": "stdout",
       "text": [
        "GDISPLAY: Displaying image...\n",
        "\n",
        "GDISPLAY - Finished: 2016-03-23T09:20:30\n"
       ]
      },
      {
       "output_type": "stream",
       "stream": "stdout",
       "text": [
        "\n",
        "S20101102S0022[1]"
       ]
      },
      {
       "output_type": "stream",
       "stream": "stdout",
       "text": [
        "\n",
        "\n",
        "GDISPLAY - Started: 2016-03-23T09:20:35\n",
        "\n"
       ]
      },
      {
       "output_type": "stream",
       "stream": "stdout",
       "text": [
        "GDISPLAY: Temporary image name tmpout94296_262S20101102S0022.fits\n",
        "\n",
        "GMULTIAMP - Started: 2016-03-23T09:20:36\n"
       ]
      },
      {
       "output_type": "stream",
       "stream": "stdout",
       "text": [
        "\n"
       ]
      },
      {
       "output_type": "stream",
       "stream": "stdout",
       "text": [
        "\n",
        "GMULTIAMP - Finished: 2016-03-23T09:20:36\n",
        "GMULTIAMP - Exit status: GOOD\n",
        "\n"
       ]
      },
      {
       "output_type": "stream",
       "stream": "stdout",
       "text": [
        "GDISPLAY: Displaying image...\n",
        "\n",
        "GDISPLAY - Finished: 2016-03-23T09:20:37\n"
       ]
      },
      {
       "output_type": "stream",
       "stream": "stdout",
       "text": [
        "\n",
        "S20101102S0023[1]"
       ]
      },
      {
       "output_type": "stream",
       "stream": "stdout",
       "text": [
        "\n",
        "\n",
        "GDISPLAY - Started: 2016-03-23T09:20:42\n",
        "\n"
       ]
      },
      {
       "output_type": "stream",
       "stream": "stdout",
       "text": [
        "GDISPLAY: Temporary image name tmpout94296_283S20101102S0023.fits\n",
        "\n",
        "GMULTIAMP - Started: 2016-03-23T09:20:43\n",
        "\n"
       ]
      },
      {
       "output_type": "stream",
       "stream": "stdout",
       "text": [
        "\n",
        "GMULTIAMP - Finished: 2016-03-23T09:20:43\n",
        "GMULTIAMP - Exit status: GOOD\n",
        "\n"
       ]
      },
      {
       "output_type": "stream",
       "stream": "stdout",
       "text": [
        "GDISPLAY: Displaying image...\n",
        "\n",
        "GDISPLAY - Finished: 2016-03-23T09:20:44\n"
       ]
      },
      {
       "output_type": "stream",
       "stream": "stdout",
       "text": [
        "\n",
        "S20101102S0024[1]"
       ]
      },
      {
       "output_type": "stream",
       "stream": "stdout",
       "text": [
        "\n",
        "\n",
        "GDISPLAY - Started: 2016-03-23T09:20:49\n",
        "\n"
       ]
      },
      {
       "output_type": "stream",
       "stream": "stdout",
       "text": [
        "GDISPLAY: Temporary image name tmpout94296_304S20101102S0024.fits\n",
        "\n",
        "GMULTIAMP - Started: 2016-03-23T09:20:50\n",
        "\n"
       ]
      },
      {
       "output_type": "stream",
       "stream": "stdout",
       "text": [
        "\n",
        "GMULTIAMP - Finished: 2016-03-23T09:20:50\n",
        "GMULTIAMP - Exit status: GOOD\n",
        "\n"
       ]
      },
      {
       "output_type": "stream",
       "stream": "stdout",
       "text": [
        "GDISPLAY: Displaying image...\n",
        "\n",
        "GDISPLAY - Finished: 2016-03-23T09:20:51\n"
       ]
      },
      {
       "output_type": "stream",
       "stream": "stdout",
       "text": [
        "\n",
        "S20101102S0025[1]"
       ]
      },
      {
       "output_type": "stream",
       "stream": "stdout",
       "text": [
        "\n",
        "\n",
        "GDISPLAY - Started: 2016-03-23T09:20:56\n",
        "\n"
       ]
      },
      {
       "output_type": "stream",
       "stream": "stdout",
       "text": [
        "GDISPLAY: Temporary image name tmpout94296_325S20101102S0025.fits\n",
        "\n",
        "GMULTIAMP - Started: 2016-03-23T09:20:56\n",
        "\n"
       ]
      },
      {
       "output_type": "stream",
       "stream": "stdout",
       "text": [
        "\n",
        "GMULTIAMP - Finished: 2016-03-23T09:20:57\n",
        "GMULTIAMP - Exit status: GOOD\n",
        "\n"
       ]
      },
      {
       "output_type": "stream",
       "stream": "stdout",
       "text": [
        "GDISPLAY: Displaying image...\n",
        "\n",
        "GDISPLAY - Finished: 2016-03-23T09:20:58\n"
       ]
      },
      {
       "output_type": "stream",
       "stream": "stdout",
       "text": [
        "\n",
        "S20101102S0026[1]"
       ]
      },
      {
       "output_type": "stream",
       "stream": "stdout",
       "text": [
        "\n",
        "\n",
        "GDISPLAY - Started: 2016-03-23T09:21:03\n",
        "\n"
       ]
      },
      {
       "output_type": "stream",
       "stream": "stdout",
       "text": [
        "GDISPLAY: Temporary image name tmpout94296_346S20101102S0026.fits\n",
        "\n",
        "GMULTIAMP - Started: 2016-03-23T09:21:03\n",
        "\n"
       ]
      },
      {
       "output_type": "stream",
       "stream": "stdout",
       "text": [
        "\n",
        "GMULTIAMP - Finished: 2016-03-23T09:21:04\n",
        "GMULTIAMP - Exit status: GOOD\n",
        "\n"
       ]
      },
      {
       "output_type": "stream",
       "stream": "stdout",
       "text": [
        "GDISPLAY: Displaying image...\n",
        "\n",
        "GDISPLAY - Finished: 2016-03-23T09:21:05\n"
       ]
      },
      {
       "output_type": "stream",
       "stream": "stdout",
       "text": [
        "\n",
        "S20101102S0027[1]"
       ]
      },
      {
       "output_type": "stream",
       "stream": "stdout",
       "text": [
        "\n",
        "\n",
        "GDISPLAY - Started: 2016-03-23T09:21:10\n",
        "\n"
       ]
      },
      {
       "output_type": "stream",
       "stream": "stdout",
       "text": [
        "GDISPLAY: Temporary image name tmpout94296_367S20101102S0027.fits\n",
        "\n",
        "GMULTIAMP - Started: 2016-03-23T09:21:10\n",
        "\n"
       ]
      },
      {
       "output_type": "stream",
       "stream": "stdout",
       "text": [
        "\n",
        "GMULTIAMP - Finished: 2016-03-23T09:21:11\n",
        "GMULTIAMP - Exit status: GOOD\n",
        "\n"
       ]
      },
      {
       "output_type": "stream",
       "stream": "stdout",
       "text": [
        "GDISPLAY: Displaying image...\n",
        "\n",
        "GDISPLAY - Finished: 2016-03-23T09:21:12\n"
       ]
      },
      {
       "output_type": "stream",
       "stream": "stdout",
       "text": [
        "\n",
        "S20101102S0028[1]"
       ]
      },
      {
       "output_type": "stream",
       "stream": "stdout",
       "text": [
        "\n",
        "\n",
        "GDISPLAY - Started: 2016-03-23T09:21:17\n",
        "\n"
       ]
      },
      {
       "output_type": "stream",
       "stream": "stdout",
       "text": [
        "GDISPLAY: Temporary image name tmpout94296_388S20101102S0028.fits\n",
        "\n",
        "GMULTIAMP - Started: 2016-03-23T09:21:17\n",
        "\n"
       ]
      },
      {
       "output_type": "stream",
       "stream": "stdout",
       "text": [
        "\n",
        "GMULTIAMP - Finished: 2016-03-23T09:21:18\n",
        "GMULTIAMP - Exit status: GOOD\n",
        "\n"
       ]
      },
      {
       "output_type": "stream",
       "stream": "stdout",
       "text": [
        "GDISPLAY: Displaying image...\n",
        "\n",
        "GDISPLAY - Finished: 2016-03-23T09:21:19\n"
       ]
      },
      {
       "output_type": "stream",
       "stream": "stdout",
       "text": [
        "\n",
        "S20101102S0029[1]"
       ]
      },
      {
       "output_type": "stream",
       "stream": "stdout",
       "text": [
        "\n",
        "\n",
        "GDISPLAY - Started: 2016-03-23T09:21:24\n",
        "\n"
       ]
      },
      {
       "output_type": "stream",
       "stream": "stdout",
       "text": [
        "GDISPLAY: Temporary image name tmpout94296_409S20101102S0029.fits\n",
        "\n",
        "GMULTIAMP - Started: 2016-03-23T09:21:24\n",
        "\n"
       ]
      },
      {
       "output_type": "stream",
       "stream": "stdout",
       "text": [
        "\n",
        "GMULTIAMP - Finished: 2016-03-23T09:21:25\n",
        "GMULTIAMP - Exit status: GOOD\n",
        "\n"
       ]
      },
      {
       "output_type": "stream",
       "stream": "stdout",
       "text": [
        "GDISPLAY: Displaying image...\n",
        "\n",
        "GDISPLAY - Finished: 2016-03-23T09:21:26\n"
       ]
      },
      {
       "output_type": "stream",
       "stream": "stdout",
       "text": [
        "\n",
        "S20101101S0079[1]"
       ]
      },
      {
       "output_type": "stream",
       "stream": "stdout",
       "text": [
        "\n",
        "\n",
        "GDISPLAY - Started: 2016-03-23T09:21:31\n",
        "\n"
       ]
      },
      {
       "output_type": "stream",
       "stream": "stdout",
       "text": [
        "GDISPLAY: Temporary image name tmpout94296_430S20101101S0079.fits\n",
        "\n",
        "GMULTIAMP - Started: 2016-03-23T09:21:31\n",
        "\n"
       ]
      },
      {
       "output_type": "stream",
       "stream": "stdout",
       "text": [
        "\n",
        "GMULTIAMP - Finished: 2016-03-23T09:21:32\n",
        "GMULTIAMP - Exit status: GOOD\n",
        "\n"
       ]
      },
      {
       "output_type": "stream",
       "stream": "stdout",
       "text": [
        "GDISPLAY: Displaying image...\n",
        "\n",
        "GDISPLAY - Finished: 2016-03-23T09:21:33\n"
       ]
      },
      {
       "output_type": "stream",
       "stream": "stdout",
       "text": [
        "\n",
        "S20101101S0080[1]"
       ]
      },
      {
       "output_type": "stream",
       "stream": "stdout",
       "text": [
        "\n",
        "\n",
        "GDISPLAY - Started: 2016-03-23T09:21:38\n",
        "\n"
       ]
      },
      {
       "output_type": "stream",
       "stream": "stdout",
       "text": [
        "GDISPLAY: Temporary image name tmpout94296_451S20101101S0080.fits\n",
        "\n",
        "GMULTIAMP - Started: 2016-03-23T09:21:38\n",
        "\n"
       ]
      },
      {
       "output_type": "stream",
       "stream": "stdout",
       "text": [
        "\n",
        "GMULTIAMP - Finished: 2016-03-23T09:21:39\n",
        "GMULTIAMP - Exit status: GOOD\n",
        "\n"
       ]
      },
      {
       "output_type": "stream",
       "stream": "stdout",
       "text": [
        "GDISPLAY: Displaying image...\n",
        "\n",
        "GDISPLAY - Finished: 2016-03-23T09:21:40\n"
       ]
      },
      {
       "output_type": "stream",
       "stream": "stdout",
       "text": [
        "\n",
        "S20101101S0081[1]"
       ]
      },
      {
       "output_type": "stream",
       "stream": "stdout",
       "text": [
        "\n",
        "\n",
        "GDISPLAY - Started: 2016-03-23T09:21:45\n",
        "\n"
       ]
      },
      {
       "output_type": "stream",
       "stream": "stdout",
       "text": [
        "GDISPLAY: Temporary image name tmpout94296_472S20101101S0081.fits\n",
        "\n",
        "GMULTIAMP - Started: 2016-03-23T09:21:45\n",
        "\n"
       ]
      },
      {
       "output_type": "stream",
       "stream": "stdout",
       "text": [
        "\n",
        "GMULTIAMP - Finished: 2016-03-23T09:21:46\n",
        "GMULTIAMP - Exit status: GOOD\n",
        "\n"
       ]
      },
      {
       "output_type": "stream",
       "stream": "stdout",
       "text": [
        "GDISPLAY: Displaying image...\n",
        "\n",
        "GDISPLAY - Finished: 2016-03-23T09:21:47\n"
       ]
      },
      {
       "output_type": "stream",
       "stream": "stdout",
       "text": [
        "\n",
        "S20101101S0082[1]"
       ]
      },
      {
       "output_type": "stream",
       "stream": "stdout",
       "text": [
        "\n",
        "\n",
        "GDISPLAY - Started: 2016-03-23T09:21:52\n",
        "\n"
       ]
      },
      {
       "output_type": "stream",
       "stream": "stdout",
       "text": [
        "GDISPLAY: Temporary image name tmpout94296_493S20101101S0082.fits\n",
        "\n",
        "GMULTIAMP - Started: 2016-03-23T09:21:52\n",
        "\n"
       ]
      },
      {
       "output_type": "stream",
       "stream": "stdout",
       "text": [
        "\n",
        "GMULTIAMP - Finished: 2016-03-23T09:21:53\n",
        "GMULTIAMP - Exit status: GOOD\n",
        "\n"
       ]
      },
      {
       "output_type": "stream",
       "stream": "stdout",
       "text": [
        "GDISPLAY: Displaying image...\n",
        "\n",
        "GDISPLAY - Finished: 2016-03-23T09:21:54\n"
       ]
      },
      {
       "output_type": "stream",
       "stream": "stdout",
       "text": [
        "\n"
       ]
      }
     ],
     "prompt_number": 4
    },
    {
     "cell_type": "heading",
     "level": 2,
     "metadata": {},
     "source": [
      "STEP 4: Process the biases"
     ]
    },
    {
     "cell_type": "markdown",
     "metadata": {},
     "source": [
      "This will produce the bias defined above.  That bias will be used later to process the science frames, and the twilight flats."
     ]
    },
    {
     "cell_type": "code",
     "collapsed": false,
     "input": [
      "os.chdir(redux_path)\n",
      "\n",
      "for biaskey in biases.keys():\n",
      "    iraf.imdelete(biases[biaskey]['procbias'], verify='no')\n",
      "    iraf.imdelete('g//@'+biaskey+'.lis', verify='no')\n",
      "\n",
      "    print 'Creating bias ', biases[biaskey]['procbias']\n",
      "    iraf.gbias('@'+biaskey+'.lis', outbias=biases[biaskey]['procbias'], \\\n",
      "               rawpath=raw_path, fl_over='yes', fl_trim='yes', \\\n",
      "               fl_vardq='yes')\n",
      "    shutil.copy(biases[biaskey]['procbias'], procbias_path)\n",
      "\n",
      "# The processed biases are:\n",
      "os.listdir(procbias_path)"
     ],
     "language": "python",
     "metadata": {},
     "outputs": [
      {
       "output_type": "stream",
       "stream": "stdout",
       "text": [
        "Creating bias  S20101101S0169_bias.fits\n",
        "----------------------------------------------------------------------------\n",
        "GBIAS -- Wed Mar 23 09:22:10 HST 2016\n",
        "\n",
        "Input images:\n",
        "  S20101101S0169\n",
        "  S20101101S0170\n",
        "  S20101101S0171\n",
        "  S20101101S0172\n",
        "  S20101102S0131"
       ]
      },
      {
       "output_type": "stream",
       "stream": "stdout",
       "text": [
        "\n",
        "  S20101102S0132\n",
        "  S20101102S0133\n",
        "  S20101102S0134\n",
        "  S20101102S0135\n",
        "\n",
        "Output bias image: S20101101S0169_bias.fits\n",
        " \n"
       ]
      },
      {
       "output_type": "stream",
       "stream": "stdout",
       "text": [
        "\n",
        "----------------------------------------------------------------------------"
       ]
      },
      {
       "output_type": "stream",
       "stream": "stdout",
       "text": [
        "\n",
        "GIREDUCE -- Wed Mar 23 09:22:11 HST 2016\n",
        "\n"
       ]
      },
      {
       "output_type": "stream",
       "stream": "stdout",
       "text": [
        "----------------------------------------------------------------------------\n",
        "GPREPARE -- Wed Mar 23 09:22:11 HST 2016\n",
        "\n",
        "Input list    = /data/workspace/DRWorkshopAAO/raw/S20101101S0169\n",
        "Output list   = \n",
        "Output prefix = g\n",
        "Raw path      = \n",
        "MDF dir       = gmos$data/\n",
        "Add MDF       = no\n",
        "\n"
       ]
      },
      {
       "output_type": "stream",
       "stream": "stdout",
       "text": [
        "Input  /data/workspace/DRWorkshopAAO/raw/S20101101S0169.fits   Output  gS20101101S0169.fits\n"
       ]
      },
      {
       "output_type": "stream",
       "stream": "stdout",
       "text": [
        "\n",
        "GPREPARE exit status: good.\n",
        "----------------------------------------------------------------------------\n"
       ]
      },
      {
       "output_type": "stream",
       "stream": "stdout",
       "text": [
        "----------------------------------------------------------------------------\n",
        "GPREPARE -- Wed Mar 23 09:22:12 HST 2016\n",
        "\n",
        "Input list    = /data/workspace/DRWorkshopAAO/raw/S20101101S0170\n",
        "Output list   = \n",
        "Output prefix = g\n",
        "Raw path      = \n",
        "MDF dir       = gmos$data/\n",
        "Add MDF       = no\n",
        "\n"
       ]
      },
      {
       "output_type": "stream",
       "stream": "stdout",
       "text": [
        "Input  /data/workspace/DRWorkshopAAO/raw/S20101101S0170.fits   Output  gS20101101S0170.fits\n"
       ]
      },
      {
       "output_type": "stream",
       "stream": "stdout",
       "text": [
        "\n",
        "GPREPARE exit status: good.\n",
        "----------------------------------------------------------------------------\n"
       ]
      },
      {
       "output_type": "stream",
       "stream": "stdout",
       "text": [
        "----------------------------------------------------------------------------\n",
        "GPREPARE -- Wed Mar 23 09:22:13 HST 2016\n",
        "\n",
        "Input list    = /data/workspace/DRWorkshopAAO/raw/S20101101S0171\n",
        "Output list   = \n",
        "Output prefix = g\n",
        "Raw path      = \n",
        "MDF dir       = gmos$data/\n",
        "Add MDF       = no\n",
        "\n"
       ]
      },
      {
       "output_type": "stream",
       "stream": "stdout",
       "text": [
        "Input  /data/workspace/DRWorkshopAAO/raw/S20101101S0171.fits   Output  gS20101101S0171.fits\n"
       ]
      },
      {
       "output_type": "stream",
       "stream": "stdout",
       "text": [
        "\n",
        "GPREPARE exit status: good.\n",
        "----------------------------------------------------------------------------\n"
       ]
      },
      {
       "output_type": "stream",
       "stream": "stdout",
       "text": [
        "----------------------------------------------------------------------------\n",
        "GPREPARE -- Wed Mar 23 09:22:14 HST 2016\n",
        "\n",
        "Input list    = /data/workspace/DRWorkshopAAO/raw/S20101101S0172\n",
        "Output list   = \n",
        "Output prefix = g\n",
        "Raw path      = \n",
        "MDF dir       = gmos$data/\n",
        "Add MDF       = no\n",
        "\n"
       ]
      },
      {
       "output_type": "stream",
       "stream": "stdout",
       "text": [
        "Input  /data/workspace/DRWorkshopAAO/raw/S20101101S0172.fits   Output  gS20101101S0172.fits\n"
       ]
      },
      {
       "output_type": "stream",
       "stream": "stdout",
       "text": [
        "\n",
        "GPREPARE exit status: good.\n",
        "----------------------------------------------------------------------------\n"
       ]
      },
      {
       "output_type": "stream",
       "stream": "stdout",
       "text": [
        "----------------------------------------------------------------------------\n",
        "GPREPARE -- Wed Mar 23 09:22:15 HST 2016\n",
        "\n",
        "Input list    = /data/workspace/DRWorkshopAAO/raw/S20101102S0131\n",
        "Output list   = \n",
        "Output prefix = g\n",
        "Raw path      = \n",
        "MDF dir       = gmos$data/\n",
        "Add MDF       = no\n",
        "\n"
       ]
      },
      {
       "output_type": "stream",
       "stream": "stdout",
       "text": [
        "Input  /data/workspace/DRWorkshopAAO/raw/S20101102S0131.fits   Output  gS20101102S0131.fits\n"
       ]
      },
      {
       "output_type": "stream",
       "stream": "stdout",
       "text": [
        "\n",
        "GPREPARE exit status: good.\n",
        "----------------------------------------------------------------------------\n"
       ]
      },
      {
       "output_type": "stream",
       "stream": "stdout",
       "text": [
        "----------------------------------------------------------------------------\n",
        "GPREPARE -- Wed Mar 23 09:22:16 HST 2016\n",
        "\n",
        "Input list    = /data/workspace/DRWorkshopAAO/raw/S20101102S0132\n",
        "Output list   = \n",
        "Output prefix = g\n",
        "Raw path      = \n",
        "MDF dir       = gmos$data/\n",
        "Add MDF       = no\n",
        "\n"
       ]
      },
      {
       "output_type": "stream",
       "stream": "stdout",
       "text": [
        "Input  /data/workspace/DRWorkshopAAO/raw/S20101102S0132.fits   Output  gS20101102S0132.fits\n"
       ]
      },
      {
       "output_type": "stream",
       "stream": "stdout",
       "text": [
        "\n",
        "GPREPARE exit status: good.\n",
        "----------------------------------------------------------------------------\n"
       ]
      },
      {
       "output_type": "stream",
       "stream": "stdout",
       "text": [
        "----------------------------------------------------------------------------\n",
        "GPREPARE -- Wed Mar 23 09:22:17 HST 2016\n",
        "\n",
        "Input list    = /data/workspace/DRWorkshopAAO/raw/S20101102S0133\n",
        "Output list   = \n",
        "Output prefix = g\n",
        "Raw path      = \n",
        "MDF dir       = gmos$data/\n",
        "Add MDF       = no\n",
        "\n"
       ]
      },
      {
       "output_type": "stream",
       "stream": "stdout",
       "text": [
        "Input  /data/workspace/DRWorkshopAAO/raw/S20101102S0133.fits   Output  gS20101102S0133.fits\n"
       ]
      },
      {
       "output_type": "stream",
       "stream": "stdout",
       "text": [
        "\n",
        "GPREPARE exit status: good.\n",
        "----------------------------------------------------------------------------\n"
       ]
      },
      {
       "output_type": "stream",
       "stream": "stdout",
       "text": [
        "----------------------------------------------------------------------------\n",
        "GPREPARE -- Wed Mar 23 09:22:18 HST 2016\n",
        "\n",
        "Input list    = /data/workspace/DRWorkshopAAO/raw/S20101102S0134\n",
        "Output list   = \n",
        "Output prefix = g\n",
        "Raw path      = \n",
        "MDF dir       = gmos$data/\n",
        "Add MDF       = no\n",
        "\n"
       ]
      },
      {
       "output_type": "stream",
       "stream": "stdout",
       "text": [
        "Input  /data/workspace/DRWorkshopAAO/raw/S20101102S0134.fits   Output  gS20101102S0134.fits\n"
       ]
      },
      {
       "output_type": "stream",
       "stream": "stdout",
       "text": [
        "\n",
        "GPREPARE exit status: good.\n",
        "----------------------------------------------------------------------------\n"
       ]
      },
      {
       "output_type": "stream",
       "stream": "stdout",
       "text": [
        "----------------------------------------------------------------------------\n",
        "GPREPARE -- Wed Mar 23 09:22:19 HST 2016\n",
        "\n",
        "Input list    = /data/workspace/DRWorkshopAAO/raw/S20101102S0135\n",
        "Output list   = \n",
        "Output prefix = g\n",
        "Raw path      = \n",
        "MDF dir       = gmos$data/\n",
        "Add MDF       = no\n",
        "\n"
       ]
      },
      {
       "output_type": "stream",
       "stream": "stdout",
       "text": [
        "Input  /data/workspace/DRWorkshopAAO/raw/S20101102S0135.fits   Output  gS20101102S0135.fits\n"
       ]
      },
      {
       "output_type": "stream",
       "stream": "stdout",
       "text": [
        "\n",
        "GPREPARE exit status: good.\n",
        "----------------------------------------------------------------------------\n"
       ]
      },
      {
       "output_type": "stream",
       "stream": "stdout",
       "text": [
        "\n",
        "Input files:\n",
        "gS20101101S0169\n",
        "gS20101101S0170\n",
        "gS20101101S0171\n",
        "gS20101101S0172\n",
        "gS20101102S0131\n",
        "gS20101102S0132\n",
        "gS20101102S0133\n",
        "gS20101102S0134\n",
        "gS20101102S0135\n"
       ]
      },
      {
       "output_type": "stream",
       "stream": "stdout",
       "text": [
        "\n"
       ]
      },
      {
       "output_type": "stream",
       "stream": "stdout",
       "text": [
        "Output files:\n",
        "tmpfile94296_519S20101101S0169\n",
        "tmpfile94296_519S20101101S0170\n",
        "tmpfile94296_519S20101101S0171\n",
        "tmpfile94296_519S20101101S0172\n",
        "tmpfile94296_519S20101102S0131\n",
        "tmpfile94296_519S20101102S0132\n",
        "tmpfile94296_519S20101102S0133\n",
        "tmpfile94296_519S20101102S0134\n",
        "tmpfile94296_519S20101102S0135\n"
       ]
      },
      {
       "output_type": "stream",
       "stream": "stdout",
       "text": [
        "\n",
        "GIREDUCE: Image tmpfile94296_519S20101101S0169 overscan subtracted"
       ]
      },
      {
       "output_type": "stream",
       "stream": "stdout",
       "text": [
        "\n",
        "GIREDUCE: Image tmpfile94296_519S20101101S0170 overscan subtracted"
       ]
      },
      {
       "output_type": "stream",
       "stream": "stdout",
       "text": [
        "\n",
        "GIREDUCE: Image tmpfile94296_519S20101101S0171 overscan subtracted"
       ]
      },
      {
       "output_type": "stream",
       "stream": "stdout",
       "text": [
        "\n",
        "GIREDUCE: Image tmpfile94296_519S20101101S0172 overscan subtracted"
       ]
      },
      {
       "output_type": "stream",
       "stream": "stdout",
       "text": [
        "\n",
        "GIREDUCE: Image tmpfile94296_519S20101102S0131 overscan subtracted"
       ]
      },
      {
       "output_type": "stream",
       "stream": "stdout",
       "text": [
        "\n",
        "GIREDUCE: Image tmpfile94296_519S20101102S0132 overscan subtracted"
       ]
      },
      {
       "output_type": "stream",
       "stream": "stdout",
       "text": [
        "\n",
        "GIREDUCE: Image tmpfile94296_519S20101102S0133 overscan subtracted"
       ]
      },
      {
       "output_type": "stream",
       "stream": "stdout",
       "text": [
        "\n",
        "GIREDUCE: Image tmpfile94296_519S20101102S0134 overscan subtracted"
       ]
      },
      {
       "output_type": "stream",
       "stream": "stdout",
       "text": [
        "\n",
        "GIREDUCE: Image tmpfile94296_519S20101102S0135 overscan subtracted"
       ]
      },
      {
       "output_type": "stream",
       "stream": "stdout",
       "text": [
        "\n"
       ]
      },
      {
       "output_type": "stream",
       "stream": "stdout",
       "text": [
        "GIREDUCE: Image tmpfile94296_519S20101101S0169 trimmed\n"
       ]
      },
      {
       "output_type": "stream",
       "stream": "stdout",
       "text": [
        "GIREDUCE: Image tmpfile94296_519S20101101S0170 trimmed\n"
       ]
      },
      {
       "output_type": "stream",
       "stream": "stdout",
       "text": [
        "GIREDUCE: Image tmpfile94296_519S20101101S0171 trimmed\n"
       ]
      },
      {
       "output_type": "stream",
       "stream": "stdout",
       "text": [
        "GIREDUCE: Image tmpfile94296_519S20101101S0172 trimmed\n"
       ]
      },
      {
       "output_type": "stream",
       "stream": "stdout",
       "text": [
        "GIREDUCE: Image tmpfile94296_519S20101102S0131 trimmed\n"
       ]
      },
      {
       "output_type": "stream",
       "stream": "stdout",
       "text": [
        "GIREDUCE: Image tmpfile94296_519S20101102S0132 trimmed\n"
       ]
      },
      {
       "output_type": "stream",
       "stream": "stdout",
       "text": [
        "GIREDUCE: Image tmpfile94296_519S20101102S0133 trimmed\n"
       ]
      },
      {
       "output_type": "stream",
       "stream": "stdout",
       "text": [
        "GIREDUCE: Image tmpfile94296_519S20101102S0134 trimmed\n"
       ]
      },
      {
       "output_type": "stream",
       "stream": "stdout",
       "text": [
        "GIREDUCE: Image tmpfile94296_519S20101102S0135 trimmed\n",
        "\n"
       ]
      },
      {
       "output_type": "stream",
       "stream": "stdout",
       "text": [
        "\n",
        "GIREDUCE - Cleaning up -- Wed Mar 23 09:23:11 HST 2016\n"
       ]
      },
      {
       "output_type": "stream",
       "stream": "stdout",
       "text": [
        "\n",
        "GIREDUCE -- Wed Mar 23 09:23:11 HST 2016\n",
        "GIREDUCE exit status:  good.\n",
        "----------------------------------------------------------------------------\n",
        "--------------------------------------------------------------------------------"
       ]
      },
      {
       "output_type": "stream",
       "stream": "stdout",
       "text": [
        "\n",
        "GEMCOMBINE -- Wed Mar 23 09:23:11 HST 2016\n",
        " \n",
        "GEMCOMBINE: input = @tmpcombin94296_516\n",
        "GEMCOMBINE: output = S20101101S0169_bias.fits\n",
        "GEMCOMBINE: title = Bias\n",
        "GEMCOMBINE: bpmfile = \n",
        "GEMCOMBINE: sci_ext = SCI\n",
        "GEMCOMBINE: var_ext = VAR\n",
        "GEMCOMBINE: dq_ext = DQ\n",
        " \n"
       ]
      },
      {
       "output_type": "stream",
       "stream": "stdout",
       "text": [
        "\n",
        "Mar 23  9:23: IMCOMBINE\n",
        "  combine = average, scale = none, zero = none, weight = none\n",
        "  reject = avsigclip, mclip = yes, nkeep = 1\n",
        "  lsigma = 3., hsigma = 3.\n",
        "  blank = 0.\n",
        "  statsec = Mar 23  9:23\n",
        "                Images     Exp\n",
        "  tmpfile94296_519S20101101S0169.fits[SCI,1]    0.0\n",
        "  tmpfile94296_519S20101101S0170.fits[SCI,1]    0.0\n",
        "  tmpfile94296_519S20101101S0171.fits[SCI,1]    0.0\n",
        "  tmpfile94296_519S20101101S0172.fits[SCI,1]    0.0\n",
        "  tmpfile94296_519S20101102S0131.fits[SCI,1]    0.0\n",
        "  tmpfile94296_519S20101102S0132.fits[SCI,1]    0.0\n",
        "  tmpfile94296_519S20101102S0133.fits[SCI,1]    0.0\n",
        "  tmpfile94296_519S20101102S0134.fits[SCI,1]    0.0\n",
        "  tmpfile94296_519S20101102S0135.fits[SCI,1]    0.0\n",
        "\n",
        "  Output image = tmpcombout94296_593, ncombine = 9\n",
        "  Number rejected mask = tmpcombdq94296_594.pl\n",
        "  Sigma image = tmpcombsig94296_595\n"
       ]
      },
      {
       "output_type": "stream",
       "stream": "stdout",
       "text": [
        "\n",
        "Mar 23  9:23: IMCOMBINE\n",
        "  combine = average, scale = none, zero = none, weight = none\n",
        "  reject = avsigclip, mclip = yes, nkeep = 1\n",
        "  lsigma = 3., hsigma = 3.\n",
        "  blank = 0.\n",
        "  statsec = Mar 23  9:23\n",
        "                Images     Exp\n",
        "  tmpfile94296_519S20101101S0169.fits[SCI,2]    0.0\n",
        "  tmpfile94296_519S20101101S0170.fits[SCI,2]    0.0\n",
        "  tmpfile94296_519S20101101S0171.fits[SCI,2]    0.0\n",
        "  tmpfile94296_519S20101101S0172.fits[SCI,2]    0.0\n",
        "  tmpfile94296_519S20101102S0131.fits[SCI,2]    0.0\n",
        "  tmpfile94296_519S20101102S0132.fits[SCI,2]    0.0\n",
        "  tmpfile94296_519S20101102S0133.fits[SCI,2]    0.0\n",
        "  tmpfile94296_519S20101102S0134.fits[SCI,2]    0.0\n",
        "  tmpfile94296_519S20101102S0135.fits[SCI,2]    0.0\n",
        "\n",
        "  Output image = tmpcombout94296_600, ncombine = 9\n",
        "  Number rejected mask = tmpcombdq94296_601.pl\n",
        "  Sigma image = tmpcombsig94296_602\n"
       ]
      },
      {
       "output_type": "stream",
       "stream": "stdout",
       "text": [
        "\n",
        "Mar 23  9:23: IMCOMBINE\n",
        "  combine = average, scale = none, zero = none, weight = none\n",
        "  reject = avsigclip, mclip = yes, nkeep = 1\n",
        "  lsigma = 3., hsigma = 3.\n",
        "  blank = 0.\n",
        "  statsec = Mar 23  9:23\n",
        "                Images     Exp\n",
        "  tmpfile94296_519S20101101S0169.fits[SCI,3]    0.0\n",
        "  tmpfile94296_519S20101101S0170.fits[SCI,3]    0.0\n",
        "  tmpfile94296_519S20101101S0171.fits[SCI,3]    0.0\n",
        "  tmpfile94296_519S20101101S0172.fits[SCI,3]    0.0\n",
        "  tmpfile94296_519S20101102S0131.fits[SCI,3]    0.0\n",
        "  tmpfile94296_519S20101102S0132.fits[SCI,3]    0.0\n",
        "  tmpfile94296_519S20101102S0133.fits[SCI,3]    0.0\n",
        "  tmpfile94296_519S20101102S0134.fits[SCI,3]    0.0\n",
        "  tmpfile94296_519S20101102S0135.fits[SCI,3]    0.0\n",
        "\n",
        "  Output image = tmpcombout94296_604, ncombine = 9\n",
        "  Number rejected mask = tmpcombdq94296_605.pl\n",
        "  Sigma image = tmpcombsig94296_606\n"
       ]
      },
      {
       "output_type": "stream",
       "stream": "stdout",
       "text": [
        " \n",
        "GEMCOMBINE -- Finished: Wed Mar 23 09:23:23 HST 2016\n",
        " \n",
        "GEMCOMBINE -- Exit status: GOOD\n",
        "--------------------------------------------------------------------------------\n"
       ]
      },
      {
       "output_type": "stream",
       "stream": "stdout",
       "text": [
        "\n",
        "GBIAS: Exit status: GOOD.\n",
        "----------------------------------------------------------------------------\n"
       ]
      },
      {
       "metadata": {},
       "output_type": "pyout",
       "prompt_number": 5,
       "text": [
        "['S20101101S0169_bias.fits',\n",
        " 'S20101107S0228_bias.fits',\n",
        " 'S20101111S0061_bias.fits']"
       ]
      }
     ],
     "prompt_number": 5
    },
    {
     "cell_type": "heading",
     "level": 4,
     "metadata": {},
     "source": [
      "Visually inspect the processed biases"
     ]
    },
    {
     "cell_type": "code",
     "collapsed": false,
     "input": [
      "# WARNING: interactive.  It launches imexam.  Type 'q' to quit.\n",
      "for biaskey in biases.keys():\n",
      "    iraf.gdisplay(biases[biaskey]['procbias'], 1, fl_paste='yes')"
     ],
     "language": "python",
     "metadata": {},
     "outputs": [
      {
       "output_type": "stream",
       "stream": "stdout",
       "text": [
        "\n",
        "GDISPLAY - Started: 2016-03-23T09:23:46\n",
        "\n"
       ]
      },
      {
       "output_type": "stream",
       "stream": "stdout",
       "text": [
        "GDISPLAY: Temporary image name tmpout94296_609S20101101S0169_bias.fits\n",
        "\n",
        "GMULTIAMP - Started: 2016-03-23T09:23:46\n",
        "\n"
       ]
      },
      {
       "output_type": "stream",
       "stream": "stdout",
       "text": [
        "GMULTIAMP: Tiling image...\n"
       ]
      },
      {
       "output_type": "stream",
       "stream": "stdout",
       "text": [
        "               Image tiled.\n"
       ]
      },
      {
       "output_type": "stream",
       "stream": "stdout",
       "text": [
        "\n",
        "GMULTIAMP - Finished: 2016-03-23T09:23:48\n",
        "GMULTIAMP - Exit status: GOOD\n",
        "\n"
       ]
      },
      {
       "output_type": "stream",
       "stream": "stdout",
       "text": [
        "GDISPLAY: Displaying image...\n",
        "\n",
        "GDISPLAY: Starting imexamine - quit with q"
       ]
      },
      {
       "output_type": "stream",
       "stream": "stdout",
       "text": [
        "\n",
        "\n",
        "GDISPLAY - Finished: 2016-03-23T09:23:52\n"
       ]
      },
      {
       "output_type": "stream",
       "stream": "stdout",
       "text": [
        "\n"
       ]
      }
     ],
     "prompt_number": 6
    },
    {
     "cell_type": "heading",
     "level": 2,
     "metadata": {},
     "source": [
      "STEP 5: Process the twilight flats"
     ]
    },
    {
     "cell_type": "markdown",
     "metadata": {},
     "source": [
      "This will produce the twilight flat defined above.  That flat will be used later to process the science frames."
     ]
    },
    {
     "cell_type": "code",
     "collapsed": false,
     "input": [
      "os.chdir(redux_path)\n",
      "\n",
      "for flatkey in flats.keys():\n",
      "    iraf.imdelete('g//@'+flatkey+'.lis', verify='no')\n",
      "    iraf.imdelete('rg//@'+flatkey+'.lis', verify='no')\n",
      "    \n",
      "    flatlist = flatkey+'.lis'\n",
      "    procbias = os.path.join(procbias_path, flats[flatkey]['flatbias'])\n",
      "    \n",
      "    print 'Processing raw twilight flats'\n",
      "    \n",
      "    # gprepare and bias correct the raw flats\n",
      "    iraf.gireduce('@'+flatlist, rawpath=raw_path, \\\n",
      "                  fl_over='yes', fl_trim='yes', \\\n",
      "                  fl_bias='yes', bias=procbias, fl_flat='no', \\\n",
      "                  fl_vardq='yes')"
     ],
     "language": "python",
     "metadata": {},
     "outputs": [
      {
       "output_type": "stream",
       "stream": "stdout",
       "text": [
        "Processing raw twilight flats\n",
        "----------------------------------------------------------------------------"
       ]
      },
      {
       "output_type": "stream",
       "stream": "stdout",
       "text": [
        "\n",
        "GIREDUCE -- Wed Mar 23 09:24:16 HST 2016\n",
        "\n"
       ]
      },
      {
       "output_type": "stream",
       "stream": "stdout",
       "text": [
        "----------------------------------------------------------------------------\n",
        "GPREPARE -- Wed Mar 23 09:24:16 HST 2016\n",
        "\n",
        "Input list    = S20101102S0018\n",
        "Output list   = \n",
        "Output prefix = g\n",
        "Raw path      = /data/workspace/DRWorkshopAAO/raw/\n",
        "MDF dir       = gmos$data/\n",
        "Add MDF       = no\n",
        "\n"
       ]
      },
      {
       "output_type": "stream",
       "stream": "stdout",
       "text": [
        "Input  /data/workspace/DRWorkshopAAO/raw/S20101102S0018.fits   Output  gS20101102S0018.fits\n"
       ]
      },
      {
       "output_type": "stream",
       "stream": "stdout",
       "text": [
        "\n",
        "GPREPARE exit status: good.\n",
        "----------------------------------------------------------------------------\n"
       ]
      },
      {
       "output_type": "stream",
       "stream": "stdout",
       "text": [
        "----------------------------------------------------------------------------\n",
        "GPREPARE -- Wed Mar 23 09:24:17 HST 2016\n",
        "\n",
        "Input list    = S20101102S0019\n",
        "Output list   = \n",
        "Output prefix = g\n",
        "Raw path      = /data/workspace/DRWorkshopAAO/raw/\n",
        "MDF dir       = gmos$data/\n",
        "Add MDF       = no\n",
        "\n"
       ]
      },
      {
       "output_type": "stream",
       "stream": "stdout",
       "text": [
        "Input  /data/workspace/DRWorkshopAAO/raw/S20101102S0019.fits   Output  gS20101102S0019.fits\n"
       ]
      },
      {
       "output_type": "stream",
       "stream": "stdout",
       "text": [
        "\n",
        "GPREPARE exit status: good.\n",
        "----------------------------------------------------------------------------\n"
       ]
      },
      {
       "output_type": "stream",
       "stream": "stdout",
       "text": [
        "----------------------------------------------------------------------------\n",
        "GPREPARE -- Wed Mar 23 09:24:18 HST 2016\n",
        "\n",
        "Input list    = S20101102S0020\n",
        "Output list   = \n",
        "Output prefix = g\n",
        "Raw path      = /data/workspace/DRWorkshopAAO/raw/\n",
        "MDF dir       = gmos$data/\n",
        "Add MDF       = no\n",
        "\n"
       ]
      },
      {
       "output_type": "stream",
       "stream": "stdout",
       "text": [
        "Input  /data/workspace/DRWorkshopAAO/raw/S20101102S0020.fits   Output  gS20101102S0020.fits\n"
       ]
      },
      {
       "output_type": "stream",
       "stream": "stdout",
       "text": [
        "\n",
        "GPREPARE exit status: good.\n",
        "----------------------------------------------------------------------------\n"
       ]
      },
      {
       "output_type": "stream",
       "stream": "stdout",
       "text": [
        "----------------------------------------------------------------------------\n",
        "GPREPARE -- Wed Mar 23 09:24:19 HST 2016\n",
        "\n",
        "Input list    = S20101102S0021\n",
        "Output list   = \n",
        "Output prefix = g\n",
        "Raw path      = /data/workspace/DRWorkshopAAO/raw/\n",
        "MDF dir       = gmos$data/\n",
        "Add MDF       = no\n",
        "\n"
       ]
      },
      {
       "output_type": "stream",
       "stream": "stdout",
       "text": [
        "Input  /data/workspace/DRWorkshopAAO/raw/S20101102S0021.fits   Output  gS20101102S0021.fits\n"
       ]
      },
      {
       "output_type": "stream",
       "stream": "stdout",
       "text": [
        "\n",
        "GPREPARE exit status: good.\n",
        "----------------------------------------------------------------------------\n"
       ]
      },
      {
       "output_type": "stream",
       "stream": "stdout",
       "text": [
        "----------------------------------------------------------------------------\n",
        "GPREPARE -- Wed Mar 23 09:24:20 HST 2016\n",
        "\n",
        "Input list    = S20101102S0022\n",
        "Output list   = \n",
        "Output prefix = g\n",
        "Raw path      = /data/workspace/DRWorkshopAAO/raw/\n",
        "MDF dir       = gmos$data/\n",
        "Add MDF       = no\n",
        "\n"
       ]
      },
      {
       "output_type": "stream",
       "stream": "stdout",
       "text": [
        "Input  /data/workspace/DRWorkshopAAO/raw/S20101102S0022.fits   Output  gS20101102S0022.fits\n"
       ]
      },
      {
       "output_type": "stream",
       "stream": "stdout",
       "text": [
        "\n",
        "GPREPARE exit status: good.\n",
        "----------------------------------------------------------------------------\n"
       ]
      },
      {
       "output_type": "stream",
       "stream": "stdout",
       "text": [
        "----------------------------------------------------------------------------\n",
        "GPREPARE -- Wed Mar 23 09:24:21 HST 2016\n",
        "\n",
        "Input list    = S20101102S0023\n",
        "Output list   = \n",
        "Output prefix = g\n",
        "Raw path      = /data/workspace/DRWorkshopAAO/raw/\n",
        "MDF dir       = gmos$data/\n",
        "Add MDF       = no\n",
        "\n"
       ]
      },
      {
       "output_type": "stream",
       "stream": "stdout",
       "text": [
        "Input  /data/workspace/DRWorkshopAAO/raw/S20101102S0023.fits   Output  gS20101102S0023.fits\n"
       ]
      },
      {
       "output_type": "stream",
       "stream": "stdout",
       "text": [
        "\n",
        "GPREPARE exit status: good.\n",
        "----------------------------------------------------------------------------\n"
       ]
      },
      {
       "output_type": "stream",
       "stream": "stdout",
       "text": [
        "----------------------------------------------------------------------------\n",
        "GPREPARE -- Wed Mar 23 09:24:22 HST 2016\n",
        "\n",
        "Input list    = S20101102S0024\n",
        "Output list   = \n",
        "Output prefix = g\n",
        "Raw path      = /data/workspace/DRWorkshopAAO/raw/\n",
        "MDF dir       = gmos$data/\n",
        "Add MDF       = no\n",
        "\n"
       ]
      },
      {
       "output_type": "stream",
       "stream": "stdout",
       "text": [
        "Input  /data/workspace/DRWorkshopAAO/raw/S20101102S0024.fits   Output  gS20101102S0024.fits\n"
       ]
      },
      {
       "output_type": "stream",
       "stream": "stdout",
       "text": [
        "\n",
        "GPREPARE exit status: good.\n",
        "----------------------------------------------------------------------------\n"
       ]
      },
      {
       "output_type": "stream",
       "stream": "stdout",
       "text": [
        "----------------------------------------------------------------------------\n",
        "GPREPARE -- Wed Mar 23 09:24:23 HST 2016\n",
        "\n",
        "Input list    = S20101102S0025\n",
        "Output list   = \n",
        "Output prefix = g\n",
        "Raw path      = /data/workspace/DRWorkshopAAO/raw/\n",
        "MDF dir       = gmos$data/\n",
        "Add MDF       = no\n",
        "\n"
       ]
      },
      {
       "output_type": "stream",
       "stream": "stdout",
       "text": [
        "Input  /data/workspace/DRWorkshopAAO/raw/S20101102S0025.fits   Output  gS20101102S0025.fits\n"
       ]
      },
      {
       "output_type": "stream",
       "stream": "stdout",
       "text": [
        "\n",
        "GPREPARE exit status: good.\n",
        "----------------------------------------------------------------------------\n"
       ]
      },
      {
       "output_type": "stream",
       "stream": "stdout",
       "text": [
        "----------------------------------------------------------------------------\n",
        "GPREPARE -- Wed Mar 23 09:24:24 HST 2016\n",
        "\n",
        "Input list    = S20101102S0026\n",
        "Output list   = \n",
        "Output prefix = g\n",
        "Raw path      = /data/workspace/DRWorkshopAAO/raw/\n",
        "MDF dir       = gmos$data/\n",
        "Add MDF       = no\n",
        "\n"
       ]
      },
      {
       "output_type": "stream",
       "stream": "stdout",
       "text": [
        "Input  /data/workspace/DRWorkshopAAO/raw/S20101102S0026.fits   Output  gS20101102S0026.fits\n"
       ]
      },
      {
       "output_type": "stream",
       "stream": "stdout",
       "text": [
        "\n",
        "GPREPARE exit status: good.\n",
        "----------------------------------------------------------------------------\n"
       ]
      },
      {
       "output_type": "stream",
       "stream": "stdout",
       "text": [
        "----------------------------------------------------------------------------\n",
        "GPREPARE -- Wed Mar 23 09:24:25 HST 2016\n",
        "\n",
        "Input list    = S20101102S0027\n",
        "Output list   = \n",
        "Output prefix = g\n",
        "Raw path      = /data/workspace/DRWorkshopAAO/raw/\n",
        "MDF dir       = gmos$data/\n",
        "Add MDF       = no\n",
        "\n"
       ]
      },
      {
       "output_type": "stream",
       "stream": "stdout",
       "text": [
        "Input  /data/workspace/DRWorkshopAAO/raw/S20101102S0027.fits   Output  gS20101102S0027.fits\n"
       ]
      },
      {
       "output_type": "stream",
       "stream": "stdout",
       "text": [
        "\n",
        "GPREPARE exit status: good.\n",
        "----------------------------------------------------------------------------\n"
       ]
      },
      {
       "output_type": "stream",
       "stream": "stdout",
       "text": [
        "----------------------------------------------------------------------------\n",
        "GPREPARE -- Wed Mar 23 09:24:27 HST 2016\n",
        "\n",
        "Input list    = S20101102S0028\n",
        "Output list   = \n",
        "Output prefix = g\n",
        "Raw path      = /data/workspace/DRWorkshopAAO/raw/\n",
        "MDF dir       = gmos$data/\n",
        "Add MDF       = no\n",
        "\n"
       ]
      },
      {
       "output_type": "stream",
       "stream": "stdout",
       "text": [
        "Input  /data/workspace/DRWorkshopAAO/raw/S20101102S0028.fits   Output  gS20101102S0028.fits\n"
       ]
      },
      {
       "output_type": "stream",
       "stream": "stdout",
       "text": [
        "\n",
        "GPREPARE exit status: good.\n",
        "----------------------------------------------------------------------------\n"
       ]
      },
      {
       "output_type": "stream",
       "stream": "stdout",
       "text": [
        "----------------------------------------------------------------------------\n",
        "GPREPARE -- Wed Mar 23 09:24:28 HST 2016\n",
        "\n",
        "Input list    = S20101102S0029\n",
        "Output list   = \n",
        "Output prefix = g\n",
        "Raw path      = /data/workspace/DRWorkshopAAO/raw/\n",
        "MDF dir       = gmos$data/\n",
        "Add MDF       = no\n",
        "\n"
       ]
      },
      {
       "output_type": "stream",
       "stream": "stdout",
       "text": [
        "Input  /data/workspace/DRWorkshopAAO/raw/S20101102S0029.fits   Output  gS20101102S0029.fits\n"
       ]
      },
      {
       "output_type": "stream",
       "stream": "stdout",
       "text": [
        "\n",
        "GPREPARE exit status: good.\n",
        "----------------------------------------------------------------------------\n"
       ]
      },
      {
       "output_type": "stream",
       "stream": "stdout",
       "text": [
        "\n",
        "Input files:\n",
        "gS20101102S0018\n",
        "gS20101102S0019\n",
        "gS20101102S0020\n",
        "gS20101102S0021\n",
        "gS20101102S0022\n",
        "gS20101102S0023\n",
        "gS20101102S0024\n",
        "gS20101102S0025\n",
        "gS20101102S0026\n",
        "gS20101102S0027\n",
        "gS20101102S0028\n",
        "gS20101102S0029\n"
       ]
      },
      {
       "output_type": "stream",
       "stream": "stdout",
       "text": [
        "\n"
       ]
      },
      {
       "output_type": "stream",
       "stream": "stdout",
       "text": [
        "Output files:\n",
        "rgS20101102S0018\n",
        "rgS20101102S0019\n",
        "rgS20101102S0020\n",
        "rgS20101102S0021\n",
        "rgS20101102S0022\n",
        "rgS20101102S0023\n",
        "rgS20101102S0024\n",
        "rgS20101102S0025\n",
        "rgS20101102S0026\n",
        "rgS20101102S0027\n",
        "rgS20101102S0028\n",
        "rgS20101102S0029\n"
       ]
      },
      {
       "output_type": "stream",
       "stream": "stdout",
       "text": [
        "\n"
       ]
      },
      {
       "output_type": "stream",
       "stream": "stdout",
       "text": [
        "WARNING - GIREDUCE: Bad Pixel Mask filename is an empty string\n",
        "                    Only saturated pixels will be flagged\n",
        "GIREDUCE: Image rgS20101102S0018 overscan subtracted"
       ]
      },
      {
       "output_type": "stream",
       "stream": "stdout",
       "text": [
        "\n",
        "GIREDUCE: Image rgS20101102S0019 overscan subtracted"
       ]
      },
      {
       "output_type": "stream",
       "stream": "stdout",
       "text": [
        "\n",
        "GIREDUCE: Image rgS20101102S0020 overscan subtracted"
       ]
      },
      {
       "output_type": "stream",
       "stream": "stdout",
       "text": [
        "\n",
        "GIREDUCE: Image rgS20101102S0021 overscan subtracted"
       ]
      },
      {
       "output_type": "stream",
       "stream": "stdout",
       "text": [
        "\n",
        "GIREDUCE: Image rgS20101102S0022 overscan subtracted"
       ]
      },
      {
       "output_type": "stream",
       "stream": "stdout",
       "text": [
        "\n",
        "GIREDUCE: Image rgS20101102S0023 overscan subtracted"
       ]
      },
      {
       "output_type": "stream",
       "stream": "stdout",
       "text": [
        "\n",
        "GIREDUCE: Image rgS20101102S0024 overscan subtracted"
       ]
      },
      {
       "output_type": "stream",
       "stream": "stdout",
       "text": [
        "\n",
        "GIREDUCE: Image rgS20101102S0025 overscan subtracted"
       ]
      },
      {
       "output_type": "stream",
       "stream": "stdout",
       "text": [
        "\n",
        "GIREDUCE: Image rgS20101102S0026 overscan subtracted"
       ]
      },
      {
       "output_type": "stream",
       "stream": "stdout",
       "text": [
        "\n",
        "GIREDUCE: Image rgS20101102S0027 overscan subtracted"
       ]
      },
      {
       "output_type": "stream",
       "stream": "stdout",
       "text": [
        "\n",
        "GIREDUCE: Image rgS20101102S0028 overscan subtracted"
       ]
      },
      {
       "output_type": "stream",
       "stream": "stdout",
       "text": [
        "\n",
        "GIREDUCE: Image rgS20101102S0029 overscan subtracted"
       ]
      },
      {
       "output_type": "stream",
       "stream": "stdout",
       "text": [
        "\n"
       ]
      },
      {
       "output_type": "stream",
       "stream": "stdout",
       "text": [
        "GIREDUCE: Image rgS20101102S0018 trimmed\n"
       ]
      },
      {
       "output_type": "stream",
       "stream": "stdout",
       "text": [
        "GIREDUCE: Image rgS20101102S0019 trimmed\n"
       ]
      },
      {
       "output_type": "stream",
       "stream": "stdout",
       "text": [
        "GIREDUCE: Image rgS20101102S0020 trimmed\n"
       ]
      },
      {
       "output_type": "stream",
       "stream": "stdout",
       "text": [
        "GIREDUCE: Image rgS20101102S0021 trimmed\n"
       ]
      },
      {
       "output_type": "stream",
       "stream": "stdout",
       "text": [
        "GIREDUCE: Image rgS20101102S0022 trimmed\n"
       ]
      },
      {
       "output_type": "stream",
       "stream": "stdout",
       "text": [
        "GIREDUCE: Image rgS20101102S0023 trimmed\n"
       ]
      },
      {
       "output_type": "stream",
       "stream": "stdout",
       "text": [
        "GIREDUCE: Image rgS20101102S0024 trimmed\n"
       ]
      },
      {
       "output_type": "stream",
       "stream": "stdout",
       "text": [
        "GIREDUCE: Image rgS20101102S0025 trimmed\n"
       ]
      },
      {
       "output_type": "stream",
       "stream": "stdout",
       "text": [
        "GIREDUCE: Image rgS20101102S0026 trimmed\n"
       ]
      },
      {
       "output_type": "stream",
       "stream": "stdout",
       "text": [
        "GIREDUCE: Image rgS20101102S0027 trimmed\n"
       ]
      },
      {
       "output_type": "stream",
       "stream": "stdout",
       "text": [
        "GIREDUCE: Image rgS20101102S0028 trimmed\n"
       ]
      },
      {
       "output_type": "stream",
       "stream": "stdout",
       "text": [
        "GIREDUCE: Image rgS20101102S0029 trimmed\n",
        "\n",
        "Output image       Bias                 Flat               Dark       Scale \n",
        "rgS20101102S0018   /data/workspace/DRWorkshopAAO/calib/bias/S20101101S0169_bias INDEF              INDEF       0.00\n"
       ]
      },
      {
       "output_type": "stream",
       "stream": "stdout",
       "text": [
        "GIREDUCE: Subtracted bias /data/workspace/DRWorkshopAAO/calib/bias/S20101101S0169_bias from rgS20101102S0018\n"
       ]
      },
      {
       "output_type": "stream",
       "stream": "stdout",
       "text": [
        "GIREDUCE: multiplying image rgS20101102S0018 by gain\n"
       ]
      },
      {
       "output_type": "stream",
       "stream": "stdout",
       "text": [
        "GIREDUCE: output counts in electrons\n",
        "Output image       Bias                 Flat               Dark       Scale "
       ]
      },
      {
       "output_type": "stream",
       "stream": "stdout",
       "text": [
        "\n",
        "rgS20101102S0019   /data/workspace/DRWorkshopAAO/calib/bias/S20101101S0169_bias INDEF              INDEF       0.00\n"
       ]
      },
      {
       "output_type": "stream",
       "stream": "stdout",
       "text": [
        "GIREDUCE: Subtracted bias /data/workspace/DRWorkshopAAO/calib/bias/S20101101S0169_bias from rgS20101102S0019\n"
       ]
      },
      {
       "output_type": "stream",
       "stream": "stdout",
       "text": [
        "GIREDUCE: multiplying image rgS20101102S0019 by gain\n"
       ]
      },
      {
       "output_type": "stream",
       "stream": "stdout",
       "text": [
        "GIREDUCE: output counts in electrons\n",
        "Output image       Bias                 Flat               Dark       Scale "
       ]
      },
      {
       "output_type": "stream",
       "stream": "stdout",
       "text": [
        "\n",
        "rgS20101102S0020   /data/workspace/DRWorkshopAAO/calib/bias/S20101101S0169_bias INDEF              INDEF       0.00\n"
       ]
      },
      {
       "output_type": "stream",
       "stream": "stdout",
       "text": [
        "GIREDUCE: Subtracted bias /data/workspace/DRWorkshopAAO/calib/bias/S20101101S0169_bias from rgS20101102S0020\n"
       ]
      },
      {
       "output_type": "stream",
       "stream": "stdout",
       "text": [
        "GIREDUCE: multiplying image rgS20101102S0020 by gain\n"
       ]
      },
      {
       "output_type": "stream",
       "stream": "stdout",
       "text": [
        "GIREDUCE: output counts in electrons\n",
        "Output image       Bias                 Flat               Dark       Scale "
       ]
      },
      {
       "output_type": "stream",
       "stream": "stdout",
       "text": [
        "\n",
        "rgS20101102S0021   /data/workspace/DRWorkshopAAO/calib/bias/S20101101S0169_bias INDEF              INDEF       0.00\n"
       ]
      },
      {
       "output_type": "stream",
       "stream": "stdout",
       "text": [
        "GIREDUCE: Subtracted bias /data/workspace/DRWorkshopAAO/calib/bias/S20101101S0169_bias from rgS20101102S0021\n"
       ]
      },
      {
       "output_type": "stream",
       "stream": "stdout",
       "text": [
        "GIREDUCE: multiplying image rgS20101102S0021 by gain\n"
       ]
      },
      {
       "output_type": "stream",
       "stream": "stdout",
       "text": [
        "GIREDUCE: output counts in electrons\n",
        "Output image       Bias                 Flat               Dark       Scale "
       ]
      },
      {
       "output_type": "stream",
       "stream": "stdout",
       "text": [
        "\n",
        "rgS20101102S0022   /data/workspace/DRWorkshopAAO/calib/bias/S20101101S0169_bias INDEF              INDEF       0.00\n"
       ]
      },
      {
       "output_type": "stream",
       "stream": "stdout",
       "text": [
        "GIREDUCE: Subtracted bias /data/workspace/DRWorkshopAAO/calib/bias/S20101101S0169_bias from rgS20101102S0022\n"
       ]
      },
      {
       "output_type": "stream",
       "stream": "stdout",
       "text": [
        "GIREDUCE: multiplying image rgS20101102S0022 by gain\n"
       ]
      },
      {
       "output_type": "stream",
       "stream": "stdout",
       "text": [
        "GIREDUCE: output counts in electrons\n",
        "Output image       Bias                 Flat               Dark       Scale "
       ]
      },
      {
       "output_type": "stream",
       "stream": "stdout",
       "text": [
        "\n",
        "rgS20101102S0023   /data/workspace/DRWorkshopAAO/calib/bias/S20101101S0169_bias INDEF              INDEF       0.00\n"
       ]
      },
      {
       "output_type": "stream",
       "stream": "stdout",
       "text": [
        "GIREDUCE: Subtracted bias /data/workspace/DRWorkshopAAO/calib/bias/S20101101S0169_bias from rgS20101102S0023\n"
       ]
      },
      {
       "output_type": "stream",
       "stream": "stdout",
       "text": [
        "GIREDUCE: multiplying image rgS20101102S0023 by gain\n"
       ]
      },
      {
       "output_type": "stream",
       "stream": "stdout",
       "text": [
        "GIREDUCE: output counts in electrons\n",
        "Output image       Bias                 Flat               Dark       Scale "
       ]
      },
      {
       "output_type": "stream",
       "stream": "stdout",
       "text": [
        "\n",
        "rgS20101102S0024   /data/workspace/DRWorkshopAAO/calib/bias/S20101101S0169_bias INDEF              INDEF       0.00\n"
       ]
      },
      {
       "output_type": "stream",
       "stream": "stdout",
       "text": [
        "GIREDUCE: Subtracted bias /data/workspace/DRWorkshopAAO/calib/bias/S20101101S0169_bias from rgS20101102S0024\n"
       ]
      },
      {
       "output_type": "stream",
       "stream": "stdout",
       "text": [
        "GIREDUCE: multiplying image rgS20101102S0024 by gain\n"
       ]
      },
      {
       "output_type": "stream",
       "stream": "stdout",
       "text": [
        "GIREDUCE: output counts in electrons\n",
        "Output image       Bias                 Flat               Dark       Scale "
       ]
      },
      {
       "output_type": "stream",
       "stream": "stdout",
       "text": [
        "\n",
        "rgS20101102S0025   /data/workspace/DRWorkshopAAO/calib/bias/S20101101S0169_bias INDEF              INDEF       0.00\n"
       ]
      },
      {
       "output_type": "stream",
       "stream": "stdout",
       "text": [
        "GIREDUCE: Subtracted bias /data/workspace/DRWorkshopAAO/calib/bias/S20101101S0169_bias from rgS20101102S0025\n"
       ]
      },
      {
       "output_type": "stream",
       "stream": "stdout",
       "text": [
        "GIREDUCE: multiplying image rgS20101102S0025 by gain\n"
       ]
      },
      {
       "output_type": "stream",
       "stream": "stdout",
       "text": [
        "GIREDUCE: output counts in electrons\n",
        "Output image       Bias                 Flat               Dark       Scale "
       ]
      },
      {
       "output_type": "stream",
       "stream": "stdout",
       "text": [
        "\n",
        "rgS20101102S0026   /data/workspace/DRWorkshopAAO/calib/bias/S20101101S0169_bias INDEF              INDEF       0.00\n"
       ]
      },
      {
       "output_type": "stream",
       "stream": "stdout",
       "text": [
        "GIREDUCE: Subtracted bias /data/workspace/DRWorkshopAAO/calib/bias/S20101101S0169_bias from rgS20101102S0026\n"
       ]
      },
      {
       "output_type": "stream",
       "stream": "stdout",
       "text": [
        "GIREDUCE: multiplying image rgS20101102S0026 by gain\n"
       ]
      },
      {
       "output_type": "stream",
       "stream": "stdout",
       "text": [
        "GIREDUCE: output counts in electrons\n",
        "Output image       Bias                 Flat               Dark       Scale "
       ]
      },
      {
       "output_type": "stream",
       "stream": "stdout",
       "text": [
        "\n",
        "rgS20101102S0027   /data/workspace/DRWorkshopAAO/calib/bias/S20101101S0169_bias INDEF              INDEF       0.00\n"
       ]
      },
      {
       "output_type": "stream",
       "stream": "stdout",
       "text": [
        "GIREDUCE: Subtracted bias /data/workspace/DRWorkshopAAO/calib/bias/S20101101S0169_bias from rgS20101102S0027\n"
       ]
      },
      {
       "output_type": "stream",
       "stream": "stdout",
       "text": [
        "GIREDUCE: multiplying image rgS20101102S0027 by gain\n"
       ]
      },
      {
       "output_type": "stream",
       "stream": "stdout",
       "text": [
        "GIREDUCE: output counts in electrons\n",
        "Output image       Bias                 Flat               Dark       Scale "
       ]
      },
      {
       "output_type": "stream",
       "stream": "stdout",
       "text": [
        "\n",
        "rgS20101102S0028   /data/workspace/DRWorkshopAAO/calib/bias/S20101101S0169_bias INDEF              INDEF       0.00\n"
       ]
      },
      {
       "output_type": "stream",
       "stream": "stdout",
       "text": [
        "GIREDUCE: Subtracted bias /data/workspace/DRWorkshopAAO/calib/bias/S20101101S0169_bias from rgS20101102S0028\n"
       ]
      },
      {
       "output_type": "stream",
       "stream": "stdout",
       "text": [
        "GIREDUCE: multiplying image rgS20101102S0028 by gain\n"
       ]
      },
      {
       "output_type": "stream",
       "stream": "stdout",
       "text": [
        "GIREDUCE: output counts in electrons\n",
        "Output image       Bias                 Flat               Dark       Scale "
       ]
      },
      {
       "output_type": "stream",
       "stream": "stdout",
       "text": [
        "\n",
        "rgS20101102S0029   /data/workspace/DRWorkshopAAO/calib/bias/S20101101S0169_bias INDEF              INDEF       0.00\n"
       ]
      },
      {
       "output_type": "stream",
       "stream": "stdout",
       "text": [
        "GIREDUCE: Subtracted bias /data/workspace/DRWorkshopAAO/calib/bias/S20101101S0169_bias from rgS20101102S0029\n"
       ]
      },
      {
       "output_type": "stream",
       "stream": "stdout",
       "text": [
        "GIREDUCE: multiplying image rgS20101102S0029 by gain\n"
       ]
      },
      {
       "output_type": "stream",
       "stream": "stdout",
       "text": [
        "GIREDUCE: output counts in electrons\n"
       ]
      },
      {
       "output_type": "stream",
       "stream": "stdout",
       "text": [
        "\n",
        "GIREDUCE - Cleaning up -- Wed Mar 23 09:27:10 HST 2016\n"
       ]
      },
      {
       "output_type": "stream",
       "stream": "stdout",
       "text": [
        "\n",
        "GIREDUCE -- Wed Mar 23 09:27:10 HST 2016\n",
        "GIREDUCE exit status:  good.\n",
        "----------------------------------------------------------------------------\n"
       ]
      }
     ],
     "prompt_number": 7
    },
    {
     "cell_type": "code",
     "collapsed": false,
     "input": [
      "os.chdir(redux_path)\n",
      "\n",
      "for flatkey in flats.keys():\n",
      "    iraf.imdelete(flats[flatkey]['procflat'], verify='no')\n",
      "    \n",
      "    flatlist = flatkey+'.lis'\n",
      "    procflat = flats[flatkey]['procflat']\n",
      "    \n",
      "    print 'Creating twilight flat ', procflat\n",
      "    \n",
      "    # Create the processed flat\n",
      "    iraf.giflat('rg//@'+flatlist, outflat=procflat, fl_vardq='yes')\n",
      "    \n",
      "    # Copy the processed flat to the calibration directory\n",
      "    shutil.copy(procflat, procflat_path)\n",
      "\n",
      "# The processed flats are:\n",
      "os.listdir(procflat_path)"
     ],
     "language": "python",
     "metadata": {},
     "outputs": [
      {
       "output_type": "stream",
       "stream": "stdout",
       "text": [
        "Creating twilight flat  S20101102S0018_flat_g.fits\n",
        "----------------------------------------------------------------------------\n",
        "GIFLAT -- Wed Mar 23 09:30:31 HST 2016\n",
        " \n",
        "Flat field images = rg//@flat_20101102.lis\n",
        "Output flat field image = S20101102S0018_flat_g.fits\n",
        " "
       ]
      },
      {
       "output_type": "stream",
       "stream": "stdout",
       "text": [
        "\n"
       ]
      },
      {
       "output_type": "stream",
       "stream": "stdout",
       "text": [
        "WARNING - GIFLAT: using previously gireduce'd image: rgS20101102S0018\n"
       ]
      },
      {
       "output_type": "stream",
       "stream": "stdout",
       "text": [
        "WARNING - GIFLAT: using previously gireduce'd image: rgS20101102S0019\n"
       ]
      },
      {
       "output_type": "stream",
       "stream": "stdout",
       "text": [
        "WARNING - GIFLAT: using previously gireduce'd image: rgS20101102S0020\n"
       ]
      },
      {
       "output_type": "stream",
       "stream": "stdout",
       "text": [
        "WARNING - GIFLAT: using previously gireduce'd image: rgS20101102S0021\n"
       ]
      },
      {
       "output_type": "stream",
       "stream": "stdout",
       "text": [
        "WARNING - GIFLAT: using previously gireduce'd image: rgS20101102S0022\n"
       ]
      },
      {
       "output_type": "stream",
       "stream": "stdout",
       "text": [
        "WARNING - GIFLAT: using previously gireduce'd image: rgS20101102S0023\n"
       ]
      },
      {
       "output_type": "stream",
       "stream": "stdout",
       "text": [
        "WARNING - GIFLAT: using previously gireduce'd image: rgS20101102S0024\n"
       ]
      },
      {
       "output_type": "stream",
       "stream": "stdout",
       "text": [
        "WARNING - GIFLAT: using previously gireduce'd image: rgS20101102S0025\n"
       ]
      },
      {
       "output_type": "stream",
       "stream": "stdout",
       "text": [
        "WARNING - GIFLAT: using previously gireduce'd image: rgS20101102S0026\n"
       ]
      },
      {
       "output_type": "stream",
       "stream": "stdout",
       "text": [
        "WARNING - GIFLAT: using previously gireduce'd image: rgS20101102S0027\n"
       ]
      },
      {
       "output_type": "stream",
       "stream": "stdout",
       "text": [
        "WARNING - GIFLAT: using previously gireduce'd image: rgS20101102S0028\n"
       ]
      },
      {
       "output_type": "stream",
       "stream": "stdout",
       "text": [
        "WARNING - GIFLAT: using previously gireduce'd image: rgS20101102S0029\n"
       ]
      },
      {
       "output_type": "stream",
       "stream": "stdout",
       "text": [
        "Using input files:\n",
        "rgS20101102S0018\n",
        "rgS20101102S0019\n",
        "rgS20101102S0020\n",
        "rgS20101102S0021\n",
        "rgS20101102S0022\n",
        "rgS20101102S0023\n",
        "rgS20101102S0024\n",
        "rgS20101102S0025\n",
        "rgS20101102S0026\n",
        "rgS20101102S0027\n",
        "rgS20101102S0028\n",
        "rgS20101102S0029\n"
       ]
      },
      {
       "output_type": "stream",
       "stream": "stdout",
       "text": [
        "Using STATSEC: [50:900,50:2250] from CCD2\n",
        "Using NORMSEC: [50:900,50:2250] from CCD2\n"
       ]
      },
      {
       "output_type": "stream",
       "stream": "stdout",
       "text": [
        "GIFLAT: Normalization factor 58323.79\n"
       ]
      },
      {
       "output_type": "stream",
       "stream": "stdout",
       "text": [
        "\n",
        "GIFLAT exit status: good.\n",
        "----------------------------------------------------------------------------\n"
       ]
      },
      {
       "metadata": {},
       "output_type": "pyout",
       "prompt_number": 8,
       "text": [
        "['S20101102S0018_flat_g.fits',\n",
        " 'S20101102S0100_flat_i.fits',\n",
        " 'S20101107S0201_flat_r.fits']"
       ]
      }
     ],
     "prompt_number": 8
    },
    {
     "cell_type": "heading",
     "level": 4,
     "metadata": {},
     "source": [
      "Visually inspect the processed twilight flats"
     ]
    },
    {
     "cell_type": "code",
     "collapsed": false,
     "input": [
      "for flatkey in flats.keys():\n",
      "    iraf.gdisplay(flats[flatkey]['procflat'], 1, fl_paste='yes')"
     ],
     "language": "python",
     "metadata": {},
     "outputs": [
      {
       "output_type": "stream",
       "stream": "stdout",
       "text": [
        "\n",
        "GDISPLAY - Started: 2016-03-23T09:31:08\n",
        "\n"
       ]
      },
      {
       "output_type": "stream",
       "stream": "stdout",
       "text": [
        "GDISPLAY: Temporary image name tmpout94296_1043S20101102S0018_flat_g.fits\n",
        "\n",
        "GMULTIAMP - Started: 2016-03-23T09:31:08\n",
        "\n"
       ]
      },
      {
       "output_type": "stream",
       "stream": "stdout",
       "text": [
        "GMULTIAMP: Tiling image...\n"
       ]
      },
      {
       "output_type": "stream",
       "stream": "stdout",
       "text": [
        "               Image tiled.\n"
       ]
      },
      {
       "output_type": "stream",
       "stream": "stdout",
       "text": [
        "\n",
        "GMULTIAMP - Finished: 2016-03-23T09:31:10\n",
        "GMULTIAMP - Exit status: GOOD\n",
        "\n"
       ]
      },
      {
       "output_type": "stream",
       "stream": "stdout",
       "text": [
        "GDISPLAY: Displaying image...\n",
        "\n",
        "GDISPLAY: Starting imexamine - quit with q"
       ]
      },
      {
       "output_type": "stream",
       "stream": "stdout",
       "text": [
        "\n",
        "\n",
        "GDISPLAY - Finished: 2016-03-23T09:31:19\n"
       ]
      },
      {
       "output_type": "stream",
       "stream": "stdout",
       "text": [
        "\n"
       ]
      }
     ],
     "prompt_number": 9
    },
    {
     "cell_type": "heading",
     "level": 2,
     "metadata": {},
     "source": [
      "<strike>STEP 6: Process the fringe frame</strike>"
     ]
    },
    {
     "cell_type": "heading",
     "level": 2,
     "metadata": {},
     "source": [
      "STEP 7: Process the target"
     ]
    },
    {
     "cell_type": "markdown",
     "metadata": {},
     "source": [
      "There is no significant fringing in the g-band.  No extra fringing correction will be necessary.  If you do want to learn about how to correct for fringing, see the i-band notebook.\n",
      "\n",
      "All we need to do here is the straighforward processing, i.e. the bias and flat correction.  (And overscan and trim.)"
     ]
    },
    {
     "cell_type": "heading",
     "level": 3,
     "metadata": {},
     "source": [
      "STEP 7.1: Bias and flat fielding of the target"
     ]
    },
    {
     "cell_type": "code",
     "collapsed": false,
     "input": [
      "os.chdir(redux_path)\n",
      "\n",
      "iraf.imdelete('g//@sci.lis', verify='no')\n",
      "iraf.imdelete('rg//@sci.lis', verify='no')\n",
      "\n",
      "iraf.gireduce('@sci.lis', rawpath=raw_path, fl_over='yes', fl_trim='yes', \\\n",
      "              fl_bias='yes', bias=science['scibias'], \\\n",
      "              fl_flat='yes', flat1=science['sciflat'], \\\n",
      "              fl_vardq='yes')"
     ],
     "language": "python",
     "metadata": {},
     "outputs": [
      {
       "output_type": "stream",
       "stream": "stdout",
       "text": [
        "----------------------------------------------------------------------------\n",
        "GIREDUCE -- Wed Mar 23 09:31:33 HST 2016\n",
        "\n"
       ]
      },
      {
       "output_type": "stream",
       "stream": "stdout",
       "text": [
        "----------------------------------------------------------------------------\n",
        "GPREPARE -- Wed Mar 23 09:31:33 HST 2016\n",
        "\n",
        "Input list    = S20101101S0079\n",
        "Output list   = \n",
        "Output prefix = g\n",
        "Raw path      = /data/workspace/DRWorkshopAAO/raw/\n",
        "MDF dir       = gmos$data/\n",
        "Add MDF       = no\n",
        "\n"
       ]
      },
      {
       "output_type": "stream",
       "stream": "stdout",
       "text": [
        "Input  /data/workspace/DRWorkshopAAO/raw/S20101101S0079.fits   Output  gS20101101S0079.fits\n"
       ]
      },
      {
       "output_type": "stream",
       "stream": "stdout",
       "text": [
        "\n",
        "GPREPARE exit status: good.\n",
        "----------------------------------------------------------------------------\n"
       ]
      },
      {
       "output_type": "stream",
       "stream": "stdout",
       "text": [
        "----------------------------------------------------------------------------\n",
        "GPREPARE -- Wed Mar 23 09:31:34 HST 2016\n",
        "\n",
        "Input list    = S20101101S0080\n",
        "Output list   = \n",
        "Output prefix = g\n",
        "Raw path      = /data/workspace/DRWorkshopAAO/raw/\n",
        "MDF dir       = gmos$data/\n",
        "Add MDF       = no\n",
        "\n"
       ]
      },
      {
       "output_type": "stream",
       "stream": "stdout",
       "text": [
        "Input  /data/workspace/DRWorkshopAAO/raw/S20101101S0080.fits   Output  gS20101101S0080.fits\n"
       ]
      },
      {
       "output_type": "stream",
       "stream": "stdout",
       "text": [
        "\n",
        "GPREPARE exit status: good.\n",
        "----------------------------------------------------------------------------\n"
       ]
      },
      {
       "output_type": "stream",
       "stream": "stdout",
       "text": [
        "----------------------------------------------------------------------------\n",
        "GPREPARE -- Wed Mar 23 09:31:35 HST 2016\n",
        "\n",
        "Input list    = S20101101S0081\n",
        "Output list   = \n",
        "Output prefix = g\n",
        "Raw path      = /data/workspace/DRWorkshopAAO/raw/\n",
        "MDF dir       = gmos$data/\n",
        "Add MDF       = no\n",
        "\n"
       ]
      },
      {
       "output_type": "stream",
       "stream": "stdout",
       "text": [
        "Input  /data/workspace/DRWorkshopAAO/raw/S20101101S0081.fits   Output  gS20101101S0081.fits\n"
       ]
      },
      {
       "output_type": "stream",
       "stream": "stdout",
       "text": [
        "\n",
        "GPREPARE exit status: good.\n",
        "----------------------------------------------------------------------------\n"
       ]
      },
      {
       "output_type": "stream",
       "stream": "stdout",
       "text": [
        "----------------------------------------------------------------------------\n",
        "GPREPARE -- Wed Mar 23 09:31:36 HST 2016\n",
        "\n",
        "Input list    = S20101101S0082\n",
        "Output list   = \n",
        "Output prefix = g\n",
        "Raw path      = /data/workspace/DRWorkshopAAO/raw/\n",
        "MDF dir       = gmos$data/\n",
        "Add MDF       = no\n",
        "\n"
       ]
      },
      {
       "output_type": "stream",
       "stream": "stdout",
       "text": [
        "Input  /data/workspace/DRWorkshopAAO/raw/S20101101S0082.fits   Output  gS20101101S0082.fits\n"
       ]
      },
      {
       "output_type": "stream",
       "stream": "stdout",
       "text": [
        "\n",
        "GPREPARE exit status: good.\n",
        "----------------------------------------------------------------------------\n"
       ]
      },
      {
       "output_type": "stream",
       "stream": "stdout",
       "text": [
        "\n",
        "Input files:\n",
        "gS20101101S0079\n",
        "gS20101101S0080\n",
        "gS20101101S0081\n",
        "gS20101101S0082\n"
       ]
      },
      {
       "output_type": "stream",
       "stream": "stdout",
       "text": [
        "\n"
       ]
      },
      {
       "output_type": "stream",
       "stream": "stdout",
       "text": [
        "Output files:\n",
        "rgS20101101S0079\n",
        "rgS20101101S0080\n",
        "rgS20101101S0081\n",
        "rgS20101101S0082\n"
       ]
      },
      {
       "output_type": "stream",
       "stream": "stdout",
       "text": [
        "\n"
       ]
      },
      {
       "output_type": "stream",
       "stream": "stdout",
       "text": [
        "WARNING - GIREDUCE: Bad Pixel Mask filename is an empty string\n",
        "                    Only saturated pixels will be flagged\n",
        "GIREDUCE: Image rgS20101101S0079 overscan subtracted"
       ]
      },
      {
       "output_type": "stream",
       "stream": "stdout",
       "text": [
        "\n",
        "GIREDUCE: Image rgS20101101S0080 overscan subtracted"
       ]
      },
      {
       "output_type": "stream",
       "stream": "stdout",
       "text": [
        "\n",
        "GIREDUCE: Image rgS20101101S0081 overscan subtracted"
       ]
      },
      {
       "output_type": "stream",
       "stream": "stdout",
       "text": [
        "\n",
        "GIREDUCE: Image rgS20101101S0082 overscan subtracted"
       ]
      },
      {
       "output_type": "stream",
       "stream": "stdout",
       "text": [
        "\n"
       ]
      },
      {
       "output_type": "stream",
       "stream": "stdout",
       "text": [
        "GIREDUCE: Image rgS20101101S0079 trimmed\n"
       ]
      },
      {
       "output_type": "stream",
       "stream": "stdout",
       "text": [
        "GIREDUCE: Image rgS20101101S0080 trimmed\n"
       ]
      },
      {
       "output_type": "stream",
       "stream": "stdout",
       "text": [
        "GIREDUCE: Image rgS20101101S0081 trimmed\n"
       ]
      },
      {
       "output_type": "stream",
       "stream": "stdout",
       "text": [
        "GIREDUCE: Image rgS20101101S0082 trimmed\n",
        "\n",
        "Output image       Bias                 Flat               Dark       Scale \n",
        "rgS20101101S0079   S20101101S0169_bias  S20101102S0018_flat_g INDEF       0.00\n"
       ]
      },
      {
       "output_type": "stream",
       "stream": "stdout",
       "text": [
        "GIREDUCE: Subtracted bias S20101101S0169_bias from rgS20101101S0079\n",
        "GIREDUCE: Divided image rgS20101101S0079 by flatfield S20101102S0018_flat_g\n"
       ]
      },
      {
       "output_type": "stream",
       "stream": "stdout",
       "text": [
        "GIREDUCE: multiplying image rgS20101101S0079 by gain\n"
       ]
      },
      {
       "output_type": "stream",
       "stream": "stdout",
       "text": [
        "GIREDUCE: output counts in electrons\n",
        "Output image       Bias                 Flat               Dark       Scale "
       ]
      },
      {
       "output_type": "stream",
       "stream": "stdout",
       "text": [
        "\n",
        "rgS20101101S0080   S20101101S0169_bias  S20101102S0018_flat_g INDEF       0.00\n"
       ]
      },
      {
       "output_type": "stream",
       "stream": "stdout",
       "text": [
        "GIREDUCE: Subtracted bias S20101101S0169_bias from rgS20101101S0080\n",
        "GIREDUCE: Divided image rgS20101101S0080 by flatfield S20101102S0018_flat_g\n"
       ]
      },
      {
       "output_type": "stream",
       "stream": "stdout",
       "text": [
        "GIREDUCE: multiplying image rgS20101101S0080 by gain\n"
       ]
      },
      {
       "output_type": "stream",
       "stream": "stdout",
       "text": [
        "GIREDUCE: output counts in electrons\n",
        "Output image       Bias                 Flat               Dark       Scale "
       ]
      },
      {
       "output_type": "stream",
       "stream": "stdout",
       "text": [
        "\n",
        "rgS20101101S0081   S20101101S0169_bias  S20101102S0018_flat_g INDEF       0.00\n"
       ]
      },
      {
       "output_type": "stream",
       "stream": "stdout",
       "text": [
        "GIREDUCE: Subtracted bias S20101101S0169_bias from rgS20101101S0081\n",
        "GIREDUCE: Divided image rgS20101101S0081 by flatfield S20101102S0018_flat_g\n"
       ]
      },
      {
       "output_type": "stream",
       "stream": "stdout",
       "text": [
        "GIREDUCE: multiplying image rgS20101101S0081 by gain\n"
       ]
      },
      {
       "output_type": "stream",
       "stream": "stdout",
       "text": [
        "GIREDUCE: output counts in electrons\n",
        "Output image       Bias                 Flat               Dark       Scale "
       ]
      },
      {
       "output_type": "stream",
       "stream": "stdout",
       "text": [
        "\n",
        "rgS20101101S0082   S20101101S0169_bias  S20101102S0018_flat_g INDEF       0.00\n"
       ]
      },
      {
       "output_type": "stream",
       "stream": "stdout",
       "text": [
        "GIREDUCE: Subtracted bias S20101101S0169_bias from rgS20101101S0082\n",
        "GIREDUCE: Divided image rgS20101101S0082 by flatfield S20101102S0018_flat_g\n"
       ]
      },
      {
       "output_type": "stream",
       "stream": "stdout",
       "text": [
        "GIREDUCE: multiplying image rgS20101101S0082 by gain\n"
       ]
      },
      {
       "output_type": "stream",
       "stream": "stdout",
       "text": [
        "GIREDUCE: output counts in electrons\n"
       ]
      },
      {
       "output_type": "stream",
       "stream": "stdout",
       "text": [
        "\n",
        "GIREDUCE - Cleaning up -- Wed Mar 23 09:32:37 HST 2016\n"
       ]
      },
      {
       "output_type": "stream",
       "stream": "stdout",
       "text": [
        "\n",
        "GIREDUCE -- Wed Mar 23 09:32:37 HST 2016\n",
        "GIREDUCE exit status:  good.\n",
        "----------------------------------------------------------------------------\n"
       ]
      }
     ],
     "prompt_number": 10
    },
    {
     "cell_type": "heading",
     "level": 4,
     "metadata": {},
     "source": [
      "Visually inspect the reduce science frames"
     ]
    },
    {
     "cell_type": "code",
     "collapsed": false,
     "input": [
      "sciframes = open('sci.lis', 'r')\n",
      "for line in sciframes:\n",
      "    frame = line.strip()\n",
      "    iraf.gdisplay('rg'+frame, 1, fl_paste='yes')\n",
      "sciframes.close()"
     ],
     "language": "python",
     "metadata": {},
     "outputs": [
      {
       "output_type": "stream",
       "stream": "stdout",
       "text": [
        "\n",
        "GDISPLAY - Started: 2016-03-23T09:37:04\n",
        "\n"
       ]
      },
      {
       "output_type": "stream",
       "stream": "stdout",
       "text": [
        "GDISPLAY: Temporary image name tmpout94296_1135rgS20101101S0079.fits\n",
        "\n",
        "GMULTIAMP - Started: 2016-03-23T09:37:04\n",
        "\n"
       ]
      },
      {
       "output_type": "stream",
       "stream": "stdout",
       "text": [
        "GMULTIAMP: Tiling image...\n"
       ]
      },
      {
       "output_type": "stream",
       "stream": "stdout",
       "text": [
        "               Image tiled.\n"
       ]
      },
      {
       "output_type": "stream",
       "stream": "stdout",
       "text": [
        "\n",
        "GMULTIAMP - Finished: 2016-03-23T09:37:06\n",
        "GMULTIAMP - Exit status: GOOD\n",
        "\n"
       ]
      },
      {
       "output_type": "stream",
       "stream": "stdout",
       "text": [
        "GDISPLAY: Displaying image...\n",
        "\n",
        "GDISPLAY: Starting imexamine - quit with q"
       ]
      },
      {
       "output_type": "stream",
       "stream": "stdout",
       "text": [
        "\n",
        "\n",
        "GDISPLAY - Finished: 2016-03-23T09:37:18\n"
       ]
      },
      {
       "output_type": "stream",
       "stream": "stdout",
       "text": [
        "\n",
        "\n",
        "GDISPLAY - Started: 2016-03-23T09:37:18\n",
        "\n"
       ]
      },
      {
       "output_type": "stream",
       "stream": "stdout",
       "text": [
        "GDISPLAY: Temporary image name tmpout94296_1169rgS20101101S0080.fits\n",
        "\n",
        "GMULTIAMP - Started: 2016-03-23T09:37:19\n",
        "\n"
       ]
      },
      {
       "output_type": "stream",
       "stream": "stdout",
       "text": [
        "GMULTIAMP: Tiling image...\n"
       ]
      },
      {
       "output_type": "stream",
       "stream": "stdout",
       "text": [
        "               Image tiled.\n"
       ]
      },
      {
       "output_type": "stream",
       "stream": "stdout",
       "text": [
        "\n",
        "GMULTIAMP - Finished: 2016-03-23T09:37:20\n",
        "GMULTIAMP - Exit status: GOOD\n",
        "\n"
       ]
      },
      {
       "output_type": "stream",
       "stream": "stdout",
       "text": [
        "GDISPLAY: Displaying image...\n",
        "\n",
        "GDISPLAY: Starting imexamine - quit with q"
       ]
      },
      {
       "output_type": "stream",
       "stream": "stdout",
       "text": [
        "\n",
        "\n",
        "GDISPLAY - Finished: 2016-03-23T09:37:22\n"
       ]
      },
      {
       "output_type": "stream",
       "stream": "stdout",
       "text": [
        "\n",
        "\n",
        "GDISPLAY - Started: 2016-03-23T09:37:22\n",
        "\n"
       ]
      },
      {
       "output_type": "stream",
       "stream": "stdout",
       "text": [
        "GDISPLAY: Temporary image name tmpout94296_1203rgS20101101S0081.fits\n",
        "\n",
        "GMULTIAMP - Started: 2016-03-23T09:37:22\n",
        "\n"
       ]
      },
      {
       "output_type": "stream",
       "stream": "stdout",
       "text": [
        "GMULTIAMP: Tiling image...\n"
       ]
      },
      {
       "output_type": "stream",
       "stream": "stdout",
       "text": [
        "               Image tiled.\n"
       ]
      },
      {
       "output_type": "stream",
       "stream": "stdout",
       "text": [
        "\n",
        "GMULTIAMP - Finished: 2016-03-23T09:37:24\n",
        "GMULTIAMP - Exit status: GOOD\n",
        "\n"
       ]
      },
      {
       "output_type": "stream",
       "stream": "stdout",
       "text": [
        "GDISPLAY: Displaying image...\n",
        "\n",
        "GDISPLAY: Starting imexamine - quit with q"
       ]
      },
      {
       "output_type": "stream",
       "stream": "stdout",
       "text": [
        "\n",
        "\n",
        "GDISPLAY - Finished: 2016-03-23T09:37:26\n"
       ]
      },
      {
       "output_type": "stream",
       "stream": "stdout",
       "text": [
        "\n",
        "\n",
        "GDISPLAY - Started: 2016-03-23T09:37:26\n",
        "\n"
       ]
      },
      {
       "output_type": "stream",
       "stream": "stdout",
       "text": [
        "GDISPLAY: Temporary image name tmpout94296_1237rgS20101101S0082.fits\n",
        "\n",
        "GMULTIAMP - Started: 2016-03-23T09:37:26\n",
        "\n"
       ]
      },
      {
       "output_type": "stream",
       "stream": "stdout",
       "text": [
        "GMULTIAMP: Tiling image...\n"
       ]
      },
      {
       "output_type": "stream",
       "stream": "stdout",
       "text": [
        "               Image tiled.\n"
       ]
      },
      {
       "output_type": "stream",
       "stream": "stdout",
       "text": [
        "\n",
        "GMULTIAMP - Finished: 2016-03-23T09:37:28\n",
        "GMULTIAMP - Exit status: GOOD\n",
        "\n"
       ]
      },
      {
       "output_type": "stream",
       "stream": "stdout",
       "text": [
        "GDISPLAY: Displaying image...\n",
        "\n",
        "GDISPLAY: Starting imexamine - quit with q"
       ]
      },
      {
       "output_type": "stream",
       "stream": "stdout",
       "text": [
        "\n",
        "\n",
        "GDISPLAY - Finished: 2016-03-23T09:37:29\n"
       ]
      },
      {
       "output_type": "stream",
       "stream": "stdout",
       "text": [
        "\n"
       ]
      }
     ],
     "prompt_number": 11
    },
    {
     "cell_type": "heading",
     "level": 3,
     "metadata": {},
     "source": [
      "<strike>STEP 7.2: Fringe removal</strike>"
     ]
    },
    {
     "cell_type": "heading",
     "level": 2,
     "metadata": {},
     "source": [
      "STEP 8: Mosaic the reduced target frames"
     ]
    },
    {
     "cell_type": "code",
     "collapsed": false,
     "input": [
      "iraf.imdelete('mrg//@sci.lis', verify='no')\n",
      "\n",
      "iraf.gmosaic('rg//@sci.lis', fl_vardq='yes')"
     ],
     "language": "python",
     "metadata": {},
     "outputs": [
      {
       "output_type": "stream",
       "stream": "stdout",
       "text": [
        "GMOSAIC \n",
        "GMOSAIC -------------------------------------------------------------------\n",
        "GMOSAIC Log opened at [Wed 09:37:35 23-Mar-2016]\n",
        "GMOSAIC \n",
        "GMOSAIC --------------------\n",
        "GMOSAIC Input Parameters:\n",
        "GMOSAIC      inimages       = rg//@sci.lis\n",
        "GMOSAIC      outimages      = \n",
        "GMOSAIC      outpref        = m\n",
        "GMOSAIC      fl_paste       = no\n",
        "GMOSAIC      fl_vardq       = yes\n",
        "GMOSAIC      fl_fixpix      = no\n",
        "GMOSAIC      fl_clean       = yes\n",
        "GMOSAIC      fl_fulldq      = no\n",
        "GMOSAIC      bitflags       = all\n",
        "GMOSAIC      dqthresh       = 0.1\n",
        "GMOSAIC      geointer       = linear\n",
        "GMOSAIC      gap            = default\n",
        "GMOSAIC      bpmfile        = gmos$data/chipgaps.dat\n",
        "GMOSAIC      statsec        = default\n",
        "GMOSAIC      obsmode        = IMAGE\n",
        "GMOSAIC      sci_ext        = SCI\n",
        "GMOSAIC      var_ext        = VAR\n",
        "GMOSAIC      dq_ext         = DQ\n",
        "GMOSAIC      key_detsec     = DETSEC\n",
        "GMOSAIC      key_ccdsec     = CCDSEC\n",
        "GMOSAIC      key_datsec     = DATASEC\n",
        "GMOSAIC      key_ccdsum     = CCDSUM\n",
        "GMOSAIC      key_obsmode    = OBSMODE\n",
        "GMOSAIC      logfile        = \n",
        "GMOSAIC      verbose        = yes\n",
        "GMOSAIC      fl_real        = no\n",
        "GMOSAIC --------------------\n"
       ]
      },
      {
       "output_type": "stream",
       "stream": "stdout",
       "text": [
        "GMOSAIC Input: rgS20101101S0079  Output: mrgS20101101S0079.fits\n"
       ]
      },
      {
       "output_type": "stream",
       "stream": "stdout",
       "text": [
        "GMOSAIC Setting rotation Xrot[1]= 0.011000, Yrot[1]= 0.011000\n"
       ]
      },
      {
       "output_type": "stream",
       "stream": "stdout",
       "text": [
        "GMOSAIC Setting rotation Xrot[2]= 0.000000, Yrot[2]= 0.000000\n"
       ]
      },
      {
       "output_type": "stream",
       "stream": "stdout",
       "text": [
        "GMOSAIC Setting rotation Xrot[3]= 0.012000, Yrot[3]= 0.012000\n"
       ]
      },
      {
       "output_type": "stream",
       "stream": "stdout",
       "text": [
        "GMOSAIC \n",
        "GMOSAIC Transforming image tmpimg94296_1282[SCI,1][1:1024,1:2304] to image tmpchipsci94296_1289\n",
        "GMOSAIC     xshift: 1.02 yshift: 0.21 xmag: 1.00 ymag: 1.00 xrot: 0.01 yrot: 0.01\n",
        "GMOSAIC \n",
        "GMOSAIC Transforming image tmpimg94296_1282[VAR,1][1:1024,1:2304] to image tmpchipvar94296_1290\n",
        "GMOSAIC     xshift: 1.02 yshift: 0.21 xmag: 1.00 ymag: 1.00 xrot: 0.01 yrot: 0.01\n",
        "GMOSAIC \n",
        "GMOSAIC Transforming image tmpimg94296_1282[DQ,1][1:1024,1:2304] to image tmpdq_transimg94296_1278.fits\n",
        "GMOSAIC     xshift: 1.02 yshift: 0.21 xmag: 1.00 ymag: 1.00 xrot: 0.01 yrot: 0.01\n"
       ]
      },
      {
       "output_type": "stream",
       "stream": "stdout",
       "text": [
        "GMOSAIC \n",
        "GMOSAIC Transforming image tmpimg94296_1282[SCI,2][1:1024,1:2304] to image tmpchipsci94296_1292\n",
        "GMOSAIC     xshift: 0.00 yshift: 0.00 xmag: 1.00 ymag: 1.00 xrot: 0.00 yrot: 0.00\n",
        "GMOSAIC \n",
        "GMOSAIC Transforming image tmpimg94296_1282[VAR,2][1:1024,1:2304] to image tmpchipvar94296_1293\n",
        "GMOSAIC     xshift: 0.00 yshift: 0.00 xmag: 1.00 ymag: 1.00 xrot: 0.00 yrot: 0.00\n"
       ]
      },
      {
       "output_type": "stream",
       "stream": "stdout",
       "text": [
        "GMOSAIC \n",
        "GMOSAIC Transforming image tmpimg94296_1282[SCI,3][1:1024,1:2304] to image tmpchipsci94296_1295\n",
        "GMOSAIC     xshift: -2.90 yshift: -0.91 xmag: 1.00 ymag: 1.00 xrot: 0.01 yrot: 0.01\n",
        "GMOSAIC \n",
        "GMOSAIC Transforming image tmpimg94296_1282[VAR,3][1:1024,1:2304] to image tmpchipvar94296_1296\n",
        "GMOSAIC     xshift: -2.90 yshift: -0.91 xmag: 1.00 ymag: 1.00 xrot: 0.01 yrot: 0.01\n",
        "GMOSAIC \n",
        "GMOSAIC Transforming image tmpimg94296_1282[DQ,3][1:1024,1:2304] to image tmpdq_transimg94296_1278.fits\n",
        "GMOSAIC     xshift: -2.90 yshift: -0.91 xmag: 1.00 ymag: 1.00 xrot: 0.01 yrot: 0.01\n"
       ]
      },
      {
       "output_type": "stream",
       "stream": "stdout",
       "text": [
        "GMOSAIC imcopy  tmpchipsci94296_1289  mrgS20101101S0079.fits[1,append][1:1024,1:2304]  INDEF  0.\n",
        "GMOSAIC imcopy  tmpchipsci94296_1292  mrgS20101101S0079.fits[1,append][1043:2066,1:2304]  INDEF  0.\n",
        "GMOSAIC imcopy  tmpchipsci94296_1295  mrgS20101101S0079.fits[1,append][2085:3108,1:2304]  INDEF  0.\n",
        "GMOSAIC imcopy  tmpchipvar94296_1290  mrgS20101101S0079.fits[2,append][1:1024,1:2304]  INDEF  0.\n",
        "GMOSAIC imcopy  tmpchipvar94296_1293  mrgS20101101S0079.fits[2,append][1043:2066,1:2304]  INDEF  0.\n",
        "GMOSAIC imcopy  tmpchipvar94296_1296  mrgS20101101S0079.fits[2,append][2085:3108,1:2304]  INDEF  0.\n",
        "GMOSAIC imcopy  tmpchipdq94296_1291  mrgS20101101S0079.fits[3,append][1:1024,1:2304]  INDEF  0.\n",
        "GMOSAIC imcopy  tmpchipdq94296_1294  mrgS20101101S0079.fits[3,append][1043:2066,1:2304]  INDEF  0.\n",
        "GMOSAIC imcopy  tmpchipdq94296_1297  mrgS20101101S0079.fits[3,append][2085:3108,1:2304]  INDEF  0.\n"
       ]
      },
      {
       "output_type": "stream",
       "stream": "stdout",
       "text": [
        "gmos$data/gmos-s_bpm_EEV_22_3amp_v2_mosaic.pl\n",
        "GMOSAIC Cleaning areas outside imaging field, cleaning value = 1636.676\n"
       ]
      },
      {
       "output_type": "stream",
       "stream": "stdout",
       "text": [
        "GMOSAIC Input: rgS20101101S0080  Output: mrgS20101101S0080.fits\n"
       ]
      },
      {
       "output_type": "stream",
       "stream": "stdout",
       "text": [
        "GMOSAIC Setting rotation Xrot[1]= 0.011000, Yrot[1]= 0.011000\n"
       ]
      },
      {
       "output_type": "stream",
       "stream": "stdout",
       "text": [
        "GMOSAIC Setting rotation Xrot[2]= 0.000000, Yrot[2]= 0.000000\n"
       ]
      },
      {
       "output_type": "stream",
       "stream": "stdout",
       "text": [
        "GMOSAIC Setting rotation Xrot[3]= 0.012000, Yrot[3]= 0.012000\n"
       ]
      },
      {
       "output_type": "stream",
       "stream": "stdout",
       "text": [
        "GMOSAIC \n",
        "GMOSAIC Transforming image tmpimg94296_1298[SCI,1][1:1024,1:2304] to image tmpchipsci94296_1305\n",
        "GMOSAIC     xshift: 1.02 yshift: 0.21 xmag: 1.00 ymag: 1.00 xrot: 0.01 yrot: 0.01\n",
        "GMOSAIC \n",
        "GMOSAIC Transforming image tmpimg94296_1298[VAR,1][1:1024,1:2304] to image tmpchipvar94296_1306\n",
        "GMOSAIC     xshift: 1.02 yshift: 0.21 xmag: 1.00 ymag: 1.00 xrot: 0.01 yrot: 0.01\n",
        "GMOSAIC \n",
        "GMOSAIC Transforming image tmpimg94296_1298[DQ,1][1:1024,1:2304] to image tmpdq_transimg94296_1278.fits\n",
        "GMOSAIC     xshift: 1.02 yshift: 0.21 xmag: 1.00 ymag: 1.00 xrot: 0.01 yrot: 0.01\n"
       ]
      },
      {
       "output_type": "stream",
       "stream": "stdout",
       "text": [
        "GMOSAIC \n",
        "GMOSAIC Transforming image tmpimg94296_1298[SCI,2][1:1024,1:2304] to image tmpchipsci94296_1308\n",
        "GMOSAIC     xshift: 0.00 yshift: 0.00 xmag: 1.00 ymag: 1.00 xrot: 0.00 yrot: 0.00\n",
        "GMOSAIC \n",
        "GMOSAIC Transforming image tmpimg94296_1298[VAR,2][1:1024,1:2304] to image tmpchipvar94296_1309\n",
        "GMOSAIC     xshift: 0.00 yshift: 0.00 xmag: 1.00 ymag: 1.00 xrot: 0.00 yrot: 0.00\n"
       ]
      },
      {
       "output_type": "stream",
       "stream": "stdout",
       "text": [
        "GMOSAIC \n",
        "GMOSAIC Transforming image tmpimg94296_1298[SCI,3][1:1024,1:2304] to image tmpchipsci94296_1311\n",
        "GMOSAIC     xshift: -2.90 yshift: -0.91 xmag: 1.00 ymag: 1.00 xrot: 0.01 yrot: 0.01\n",
        "GMOSAIC \n",
        "GMOSAIC Transforming image tmpimg94296_1298[VAR,3][1:1024,1:2304] to image tmpchipvar94296_1312\n",
        "GMOSAIC     xshift: -2.90 yshift: -0.91 xmag: 1.00 ymag: 1.00 xrot: 0.01 yrot: 0.01\n",
        "GMOSAIC \n",
        "GMOSAIC Transforming image tmpimg94296_1298[DQ,3][1:1024,1:2304] to image tmpdq_transimg94296_1278.fits\n",
        "GMOSAIC     xshift: -2.90 yshift: -0.91 xmag: 1.00 ymag: 1.00 xrot: 0.01 yrot: 0.01\n"
       ]
      },
      {
       "output_type": "stream",
       "stream": "stdout",
       "text": [
        "GMOSAIC imcopy  tmpchipsci94296_1305  mrgS20101101S0080.fits[1,append][1:1024,1:2304]  INDEF  0.\n",
        "GMOSAIC imcopy  tmpchipsci94296_1308  mrgS20101101S0080.fits[1,append][1043:2066,1:2304]  INDEF  0.\n",
        "GMOSAIC imcopy  tmpchipsci94296_1311  mrgS20101101S0080.fits[1,append][2085:3108,1:2304]  INDEF  0.\n",
        "GMOSAIC imcopy  tmpchipvar94296_1306  mrgS20101101S0080.fits[2,append][1:1024,1:2304]  INDEF  0.\n",
        "GMOSAIC imcopy  tmpchipvar94296_1309  mrgS20101101S0080.fits[2,append][1043:2066,1:2304]  INDEF  0.\n",
        "GMOSAIC imcopy  tmpchipvar94296_1312  mrgS20101101S0080.fits[2,append][2085:3108,1:2304]  INDEF  0.\n",
        "GMOSAIC imcopy  tmpchipdq94296_1307  mrgS20101101S0080.fits[3,append][1:1024,1:2304]  INDEF  0.\n",
        "GMOSAIC imcopy  tmpchipdq94296_1310  mrgS20101101S0080.fits[3,append][1043:2066,1:2304]  INDEF  0.\n",
        "GMOSAIC imcopy  tmpchipdq94296_1313  mrgS20101101S0080.fits[3,append][2085:3108,1:2304]  INDEF  0.\n"
       ]
      },
      {
       "output_type": "stream",
       "stream": "stdout",
       "text": [
        "gmos$data/gmos-s_bpm_EEV_22_3amp_v2_mosaic.pl\n",
        "GMOSAIC Cleaning areas outside imaging field, cleaning value = 1642.487\n"
       ]
      },
      {
       "output_type": "stream",
       "stream": "stdout",
       "text": [
        "GMOSAIC Input: rgS20101101S0081  Output: mrgS20101101S0081.fits\n"
       ]
      },
      {
       "output_type": "stream",
       "stream": "stdout",
       "text": [
        "GMOSAIC Setting rotation Xrot[1]= 0.011000, Yrot[1]= 0.011000\n"
       ]
      },
      {
       "output_type": "stream",
       "stream": "stdout",
       "text": [
        "GMOSAIC Setting rotation Xrot[2]= 0.000000, Yrot[2]= 0.000000\n"
       ]
      },
      {
       "output_type": "stream",
       "stream": "stdout",
       "text": [
        "GMOSAIC Setting rotation Xrot[3]= 0.012000, Yrot[3]= 0.012000\n"
       ]
      },
      {
       "output_type": "stream",
       "stream": "stdout",
       "text": [
        "GMOSAIC \n",
        "GMOSAIC Transforming image tmpimg94296_1314[SCI,1][1:1024,1:2304] to image tmpchipsci94296_1321\n",
        "GMOSAIC     xshift: 1.02 yshift: 0.21 xmag: 1.00 ymag: 1.00 xrot: 0.01 yrot: 0.01\n",
        "GMOSAIC \n",
        "GMOSAIC Transforming image tmpimg94296_1314[VAR,1][1:1024,1:2304] to image tmpchipvar94296_1322\n",
        "GMOSAIC     xshift: 1.02 yshift: 0.21 xmag: 1.00 ymag: 1.00 xrot: 0.01 yrot: 0.01\n",
        "GMOSAIC \n",
        "GMOSAIC Transforming image tmpimg94296_1314[DQ,1][1:1024,1:2304] to image tmpdq_transimg94296_1278.fits\n",
        "GMOSAIC     xshift: 1.02 yshift: 0.21 xmag: 1.00 ymag: 1.00 xrot: 0.01 yrot: 0.01\n"
       ]
      },
      {
       "output_type": "stream",
       "stream": "stdout",
       "text": [
        "GMOSAIC \n",
        "GMOSAIC Transforming image tmpimg94296_1314[SCI,2][1:1024,1:2304] to image tmpchipsci94296_1324\n",
        "GMOSAIC     xshift: 0.00 yshift: 0.00 xmag: 1.00 ymag: 1.00 xrot: 0.00 yrot: 0.00\n",
        "GMOSAIC \n",
        "GMOSAIC Transforming image tmpimg94296_1314[VAR,2][1:1024,1:2304] to image tmpchipvar94296_1325\n",
        "GMOSAIC     xshift: 0.00 yshift: 0.00 xmag: 1.00 ymag: 1.00 xrot: 0.00 yrot: 0.00\n"
       ]
      },
      {
       "output_type": "stream",
       "stream": "stdout",
       "text": [
        "GMOSAIC \n",
        "GMOSAIC Transforming image tmpimg94296_1314[SCI,3][1:1024,1:2304] to image tmpchipsci94296_1327\n",
        "GMOSAIC     xshift: -2.90 yshift: -0.91 xmag: 1.00 ymag: 1.00 xrot: 0.01 yrot: 0.01\n",
        "GMOSAIC \n",
        "GMOSAIC Transforming image tmpimg94296_1314[VAR,3][1:1024,1:2304] to image tmpchipvar94296_1328\n",
        "GMOSAIC     xshift: -2.90 yshift: -0.91 xmag: 1.00 ymag: 1.00 xrot: 0.01 yrot: 0.01\n",
        "GMOSAIC \n",
        "GMOSAIC Transforming image tmpimg94296_1314[DQ,3][1:1024,1:2304] to image tmpdq_transimg94296_1278.fits\n",
        "GMOSAIC     xshift: -2.90 yshift: -0.91 xmag: 1.00 ymag: 1.00 xrot: 0.01 yrot: 0.01\n"
       ]
      },
      {
       "output_type": "stream",
       "stream": "stdout",
       "text": [
        "GMOSAIC imcopy  tmpchipsci94296_1321  mrgS20101101S0081.fits[1,append][1:1024,1:2304]  INDEF  0.\n",
        "GMOSAIC imcopy  tmpchipsci94296_1324  mrgS20101101S0081.fits[1,append][1043:2066,1:2304]  INDEF  0.\n",
        "GMOSAIC imcopy  tmpchipsci94296_1327  mrgS20101101S0081.fits[1,append][2085:3108,1:2304]  INDEF  0.\n",
        "GMOSAIC imcopy  tmpchipvar94296_1322  mrgS20101101S0081.fits[2,append][1:1024,1:2304]  INDEF  0.\n",
        "GMOSAIC imcopy  tmpchipvar94296_1325  mrgS20101101S0081.fits[2,append][1043:2066,1:2304]  INDEF  0.\n",
        "GMOSAIC imcopy  tmpchipvar94296_1328  mrgS20101101S0081.fits[2,append][2085:3108,1:2304]  INDEF  0.\n",
        "GMOSAIC imcopy  tmpchipdq94296_1323  mrgS20101101S0081.fits[3,append][1:1024,1:2304]  INDEF  0.\n",
        "GMOSAIC imcopy  tmpchipdq94296_1326  mrgS20101101S0081.fits[3,append][1043:2066,1:2304]  INDEF  0.\n",
        "GMOSAIC imcopy  tmpchipdq94296_1329  mrgS20101101S0081.fits[3,append][2085:3108,1:2304]  INDEF  0.\n"
       ]
      },
      {
       "output_type": "stream",
       "stream": "stdout",
       "text": [
        "gmos$data/gmos-s_bpm_EEV_22_3amp_v2_mosaic.pl\n",
        "GMOSAIC Cleaning areas outside imaging field, cleaning value = 1645.113\n"
       ]
      },
      {
       "output_type": "stream",
       "stream": "stdout",
       "text": [
        "GMOSAIC Input: rgS20101101S0082  Output: mrgS20101101S0082.fits\n"
       ]
      },
      {
       "output_type": "stream",
       "stream": "stdout",
       "text": [
        "GMOSAIC Setting rotation Xrot[1]= 0.011000, Yrot[1]= 0.011000\n"
       ]
      },
      {
       "output_type": "stream",
       "stream": "stdout",
       "text": [
        "GMOSAIC Setting rotation Xrot[2]= 0.000000, Yrot[2]= 0.000000\n"
       ]
      },
      {
       "output_type": "stream",
       "stream": "stdout",
       "text": [
        "GMOSAIC Setting rotation Xrot[3]= 0.012000, Yrot[3]= 0.012000\n"
       ]
      },
      {
       "output_type": "stream",
       "stream": "stdout",
       "text": [
        "GMOSAIC \n",
        "GMOSAIC Transforming image tmpimg94296_1330[SCI,1][1:1024,1:2304] to image tmpchipsci94296_1337\n",
        "GMOSAIC     xshift: 1.02 yshift: 0.21 xmag: 1.00 ymag: 1.00 xrot: 0.01 yrot: 0.01\n",
        "GMOSAIC \n",
        "GMOSAIC Transforming image tmpimg94296_1330[VAR,1][1:1024,1:2304] to image tmpchipvar94296_1338\n",
        "GMOSAIC     xshift: 1.02 yshift: 0.21 xmag: 1.00 ymag: 1.00 xrot: 0.01 yrot: 0.01\n",
        "GMOSAIC \n",
        "GMOSAIC Transforming image tmpimg94296_1330[DQ,1][1:1024,1:2304] to image tmpdq_transimg94296_1278.fits\n",
        "GMOSAIC     xshift: 1.02 yshift: 0.21 xmag: 1.00 ymag: 1.00 xrot: 0.01 yrot: 0.01\n"
       ]
      },
      {
       "output_type": "stream",
       "stream": "stdout",
       "text": [
        "GMOSAIC \n",
        "GMOSAIC Transforming image tmpimg94296_1330[SCI,2][1:1024,1:2304] to image tmpchipsci94296_1340\n",
        "GMOSAIC     xshift: 0.00 yshift: 0.00 xmag: 1.00 ymag: 1.00 xrot: 0.00 yrot: 0.00\n",
        "GMOSAIC \n",
        "GMOSAIC Transforming image tmpimg94296_1330[VAR,2][1:1024,1:2304] to image tmpchipvar94296_1341\n",
        "GMOSAIC     xshift: 0.00 yshift: 0.00 xmag: 1.00 ymag: 1.00 xrot: 0.00 yrot: 0.00\n"
       ]
      },
      {
       "output_type": "stream",
       "stream": "stdout",
       "text": [
        "GMOSAIC \n",
        "GMOSAIC Transforming image tmpimg94296_1330[SCI,3][1:1024,1:2304] to image tmpchipsci94296_1343\n",
        "GMOSAIC     xshift: -2.90 yshift: -0.91 xmag: 1.00 ymag: 1.00 xrot: 0.01 yrot: 0.01\n",
        "GMOSAIC \n",
        "GMOSAIC Transforming image tmpimg94296_1330[VAR,3][1:1024,1:2304] to image tmpchipvar94296_1344\n",
        "GMOSAIC     xshift: -2.90 yshift: -0.91 xmag: 1.00 ymag: 1.00 xrot: 0.01 yrot: 0.01\n",
        "GMOSAIC \n",
        "GMOSAIC Transforming image tmpimg94296_1330[DQ,3][1:1024,1:2304] to image tmpdq_transimg94296_1278.fits\n",
        "GMOSAIC     xshift: -2.90 yshift: -0.91 xmag: 1.00 ymag: 1.00 xrot: 0.01 yrot: 0.01\n"
       ]
      },
      {
       "output_type": "stream",
       "stream": "stdout",
       "text": [
        "GMOSAIC imcopy  tmpchipsci94296_1337  mrgS20101101S0082.fits[1,append][1:1024,1:2304]  INDEF  0.\n",
        "GMOSAIC imcopy  tmpchipsci94296_1340  mrgS20101101S0082.fits[1,append][1043:2066,1:2304]  INDEF  0.\n",
        "GMOSAIC imcopy  tmpchipsci94296_1343  mrgS20101101S0082.fits[1,append][2085:3108,1:2304]  INDEF  0.\n",
        "GMOSAIC imcopy  tmpchipvar94296_1338  mrgS20101101S0082.fits[2,append][1:1024,1:2304]  INDEF  0.\n",
        "GMOSAIC imcopy  tmpchipvar94296_1341  mrgS20101101S0082.fits[2,append][1043:2066,1:2304]  INDEF  0.\n",
        "GMOSAIC imcopy  tmpchipvar94296_1344  mrgS20101101S0082.fits[2,append][2085:3108,1:2304]  INDEF  0.\n",
        "GMOSAIC imcopy  tmpchipdq94296_1339  mrgS20101101S0082.fits[3,append][1:1024,1:2304]  INDEF  0.\n",
        "GMOSAIC imcopy  tmpchipdq94296_1342  mrgS20101101S0082.fits[3,append][1043:2066,1:2304]  INDEF  0.\n",
        "GMOSAIC imcopy  tmpchipdq94296_1345  mrgS20101101S0082.fits[3,append][2085:3108,1:2304]  INDEF  0.\n"
       ]
      },
      {
       "output_type": "stream",
       "stream": "stdout",
       "text": [
        "gmos$data/gmos-s_bpm_EEV_22_3amp_v2_mosaic.pl\n",
        "GMOSAIC Cleaning areas outside imaging field, cleaning value = 1676.854\n"
       ]
      },
      {
       "output_type": "stream",
       "stream": "stdout",
       "text": [
        "GMOSAIC All 4 images successfully mosaiced.\n"
       ]
      },
      {
       "output_type": "stream",
       "stream": "stdout",
       "text": [
        "GMOSAIC --------------------\n",
        "GMOSAIC Exit status: SUCCESS\n",
        "GMOSAIC Log closed at [Wed 09:38:16 23-Mar-2016]\n",
        "GMOSAIC -------------------------------------------------------------------\n",
        "GMOSAIC \n"
       ]
      }
     ],
     "prompt_number": 12
    },
    {
     "cell_type": "heading",
     "level": 4,
     "metadata": {},
     "source": [
      "Visually inspect the mosaiced frames"
     ]
    },
    {
     "cell_type": "code",
     "collapsed": false,
     "input": [
      "sciframes = open('sci.lis', 'r')\n",
      "for line in sciframes:\n",
      "    frame = line.strip()\n",
      "    iraf.gdisplay('mrg'+frame, 1, z2=20000, fl_paste='yes')\n",
      "sciframes.close()"
     ],
     "language": "python",
     "metadata": {},
     "outputs": [
      {
       "output_type": "stream",
       "stream": "stdout",
       "text": [
        "\n",
        "GDISPLAY - Started: 2016-03-23T09:39:57\n",
        "\n"
       ]
      },
      {
       "output_type": "stream",
       "stream": "stdout",
       "text": [
        "WARNING - GDISPLAY: only one science extension found, turning paste off\n",
        "\n",
        "WARNING - GDISPLAY: Input image has been processed by GMOSAIC.\n",
        "                    Switching off the following flags:\n",
        "                          ret_roi=no\n",
        "\n",
        "GDISPLAY: Displaying image...\n",
        "\n",
        "GDISPLAY: Starting imexamine - quit with q"
       ]
      },
      {
       "output_type": "stream",
       "stream": "stdout",
       "text": [
        "\n",
        "\n",
        "GDISPLAY - Finished: 2016-03-23T09:40:25\n"
       ]
      },
      {
       "output_type": "stream",
       "stream": "stdout",
       "text": [
        "\n",
        "\n",
        "GDISPLAY - Started: 2016-03-23T09:40:25\n",
        "\n"
       ]
      },
      {
       "output_type": "stream",
       "stream": "stdout",
       "text": [
        "WARNING - GDISPLAY: only one science extension found, turning paste off\n",
        "\n",
        "WARNING - GDISPLAY: Input image has been processed by GMOSAIC.\n",
        "                    Switching off the following flags:\n",
        "                          ret_roi=no\n",
        "\n",
        "GDISPLAY: Displaying image...\n",
        "\n",
        "GDISPLAY: Starting imexamine - quit with q"
       ]
      },
      {
       "output_type": "stream",
       "stream": "stdout",
       "text": [
        "\n",
        "\n",
        "GDISPLAY - Finished: 2016-03-23T09:40:26\n"
       ]
      },
      {
       "output_type": "stream",
       "stream": "stdout",
       "text": [
        "\n",
        "\n",
        "GDISPLAY - Started: 2016-03-23T09:40:27\n",
        "\n"
       ]
      },
      {
       "output_type": "stream",
       "stream": "stdout",
       "text": [
        "WARNING - GDISPLAY: only one science extension found, turning paste off\n",
        "\n",
        "WARNING - GDISPLAY: Input image has been processed by GMOSAIC.\n",
        "                    Switching off the following flags:\n",
        "                          ret_roi=no\n",
        "\n",
        "GDISPLAY: Displaying image...\n",
        "\n",
        "GDISPLAY: Starting imexamine - quit with q"
       ]
      },
      {
       "output_type": "stream",
       "stream": "stdout",
       "text": [
        "\n",
        "\n",
        "GDISPLAY - Finished: 2016-03-23T09:40:28\n"
       ]
      },
      {
       "output_type": "stream",
       "stream": "stdout",
       "text": [
        "\n",
        "\n",
        "GDISPLAY - Started: 2016-03-23T09:40:28\n",
        "\n"
       ]
      },
      {
       "output_type": "stream",
       "stream": "stdout",
       "text": [
        "WARNING - GDISPLAY: only one science extension found, turning paste off\n",
        "\n",
        "WARNING - GDISPLAY: Input image has been processed by GMOSAIC.\n",
        "                    Switching off the following flags:\n",
        "                          ret_roi=no\n",
        "\n",
        "GDISPLAY: Displaying image...\n",
        "\n",
        "GDISPLAY: Starting imexamine - quit with q"
       ]
      },
      {
       "output_type": "stream",
       "stream": "stdout",
       "text": [
        "\n",
        "\n",
        "GDISPLAY - Finished: 2016-03-23T09:40:29\n"
       ]
      },
      {
       "output_type": "stream",
       "stream": "stdout",
       "text": [
        "\n"
       ]
      }
     ],
     "prompt_number": 13
    },
    {
     "cell_type": "heading",
     "level": 2,
     "metadata": {},
     "source": [
      "STEP 9: Align and stack the mosaic target frames"
     ]
    },
    {
     "cell_type": "code",
     "collapsed": false,
     "input": [
      "iraf.imdelete(science['procsci'], verify='no')\n",
      "\n",
      "iraf.imcoadd('mrg//@sci.lis', outimage=science['procsci'], logfile=logfile)"
     ],
     "language": "python",
     "metadata": {},
     "outputs": [
      {
       "output_type": "stream",
       "stream": "stdout",
       "text": [
        "-----------------------------------------------------------------------------\n",
        "IMCOADD -- Wed Mar 23 09:40:37 HST 2016\n",
        "\n",
        "Images (and masks) in list\n",
        "mrgS20101101S0079\n",
        "mrgS20101101S0080\n",
        "mrgS20101101S0081\n",
        "mrgS20101101S0082\n"
       ]
      },
      {
       "output_type": "stream",
       "stream": "stdout",
       "text": [
        "Alignment method: wcs\n"
       ]
      },
      {
       "output_type": "stream",
       "stream": "stdout",
       "text": [
        "Making individual masks from DQ\n",
        "Fixpix input images using DQ"
       ]
      },
      {
       "output_type": "stream",
       "stream": "stdout",
       "text": [
        "\n"
       ]
      },
      {
       "output_type": "stream",
       "stream": "stdout",
       "text": [
        "Instrument + camera      : GMOS-S  \n",
        "Telescope ISS port number: 3\n",
        "Bad pixel file gmos$data/gmos-s_bpm_EEV_22_3amp_v2_mosaic.pl\n",
        "Read noise:   3.85 e-   Gain:   1.00 e-/ADU\n"
       ]
      },
      {
       "output_type": "stream",
       "stream": "stdout",
       "text": [
        "Co-added cleaned output image: ngc6872_g\n",
        "Pixel scale: 0.1461\n",
        "Statistics section: [100:3008,100:2204]\n",
        "Finding objects in mrgS20101101S0079"
       ]
      },
      {
       "output_type": "stream",
       "stream": "stdout",
       "text": [
        "\n",
        "Sampling for geotran  : 20  20"
       ]
      },
      {
       "output_type": "stream",
       "stream": "stdout",
       "text": [
        "\n",
        "Block size for geotran: 2048  2048\n",
        "Centering objects in mrgS20101101S0079\n",
        "Number of objects successfully centered in reference image 479"
       ]
      },
      {
       "output_type": "stream",
       "stream": "stdout",
       "text": [
        "\n",
        "Alignment method: wcs\n",
        "\n"
       ]
      },
      {
       "output_type": "stream",
       "stream": "stdout",
       "text": [
        "Coordinate list: imxymatch.1  Transform: mrgS20101101S0080_trn\n"
       ]
      },
      {
       "output_type": "stream",
       "stream": "stdout",
       "text": [
        "    Results file: \n"
       ]
      },
      {
       "output_type": "stream",
       "stream": "stdout",
       "text": [
        "Coordinate mapping status\n"
       ]
      },
      {
       "output_type": "stream",
       "stream": "stdout",
       "text": [
        "    "
       ]
      },
      {
       "output_type": "stream",
       "stream": "stdout",
       "text": [
        "X fit ok.  Y fit ok.\n"
       ]
      },
      {
       "output_type": "stream",
       "stream": "stdout",
       "text": [
        "    Xin and Yin fit rms: 0.006376649  0.006066529\n"
       ]
      },
      {
       "output_type": "stream",
       "stream": "stdout",
       "text": [
        "Coordinate mapping parameters\n"
       ]
      },
      {
       "output_type": "stream",
       "stream": "stdout",
       "text": [
        "    Mean Xref and Yref: 1554.5  1152.5\n"
       ]
      },
      {
       "output_type": "stream",
       "stream": "stdout",
       "text": [
        "    Mean Xin and Yin: 1520.273  1152.51\n"
       ]
      },
      {
       "output_type": "stream",
       "stream": "stdout",
       "text": [
        "    X and Y shift: -34.20962  -0.007519372  (xin  yin)\n"
       ]
      },
      {
       "output_type": "stream",
       "stream": "stdout",
       "text": [
        "    X and Y scale: 0.9999979  0.9999979  (xin / xref  yin / yref)\n"
       ]
      },
      {
       "output_type": "stream",
       "stream": "stdout",
       "text": [
        "    X and Y axis rotation: 359.99927  359.99927  (degrees  degrees)\n"
       ]
      },
      {
       "output_type": "stream",
       "stream": "stdout",
       "text": [
        "Centering objects in mrgS20101101S0080\n",
        "\n"
       ]
      },
      {
       "output_type": "stream",
       "stream": "stdout",
       "text": [
        "Xmax =  3108   Ymax = 2304\n",
        "Entering geomap\n",
        "Fitting geometry rscale\n",
        "Iterating a maximum of 5 times\n",
        "\n"
       ]
      },
      {
       "output_type": "stream",
       "stream": "stdout",
       "text": [
        "Coordinate list: mrgS20101101S0080_trn  Transform: mrgS20101101S0080_trn\n"
       ]
      },
      {
       "output_type": "stream",
       "stream": "stdout",
       "text": [
        "    Results file: tmpres94296_1367\n"
       ]
      },
      {
       "output_type": "stream",
       "stream": "stdout",
       "text": [
        "Coordinate mapping status\n"
       ]
      },
      {
       "output_type": "stream",
       "stream": "stdout",
       "text": [
        "    "
       ]
      },
      {
       "output_type": "stream",
       "stream": "stdout",
       "text": [
        "X fit ok.  Y fit ok.\n"
       ]
      },
      {
       "output_type": "stream",
       "stream": "stdout",
       "text": [
        "    Xin and Yin fit rms: 10.66747  11.80431\n"
       ]
      },
      {
       "output_type": "stream",
       "stream": "stdout",
       "text": [
        "Coordinate mapping parameters\n"
       ]
      },
      {
       "output_type": "stream",
       "stream": "stdout",
       "text": [
        "    Mean Xref and Yref: 1578.701  1189.045\n"
       ]
      },
      {
       "output_type": "stream",
       "stream": "stdout",
       "text": [
        "    Mean Xin and Yin: 1540.07  1188.051\n"
       ]
      },
      {
       "output_type": "stream",
       "stream": "stdout",
       "text": [
        "    X and Y shift: -32.87099  0.8791504  (xin  yin)\n"
       ]
      },
      {
       "output_type": "stream",
       "stream": "stdout",
       "text": [
        "    X and Y scale: 0.998768  0.9987679  (xin / xref  yin / yref)\n"
       ]
      },
      {
       "output_type": "stream",
       "stream": "stdout",
       "text": [
        "    X and Y axis rotation: 359.97919  359.97919  (degrees  degrees)\n"
       ]
      },
      {
       "output_type": "stream",
       "stream": "stdout",
       "text": [
        "\n"
       ]
      },
      {
       "output_type": "stream",
       "stream": "stdout",
       "text": [
        "Coordinate list: mrgS20101101S0080_trn  Transform: mrgS20101101S0080_trn\n"
       ]
      },
      {
       "output_type": "stream",
       "stream": "stdout",
       "text": [
        "    Results file: tmpres94296_1367\n"
       ]
      },
      {
       "output_type": "stream",
       "stream": "stdout",
       "text": [
        "Coordinate mapping status\n"
       ]
      },
      {
       "output_type": "stream",
       "stream": "stdout",
       "text": [
        "    "
       ]
      },
      {
       "output_type": "stream",
       "stream": "stdout",
       "text": [
        "X fit ok.  Y fit ok.\n"
       ]
      },
      {
       "output_type": "stream",
       "stream": "stdout",
       "text": [
        "    Xin and Yin fit rms: 1.928898  2.856887\n"
       ]
      },
      {
       "output_type": "stream",
       "stream": "stdout",
       "text": [
        "Coordinate mapping parameters\n"
       ]
      },
      {
       "output_type": "stream",
       "stream": "stdout",
       "text": [
        "    Mean Xref and Yref: 1582.183  1178.936\n"
       ]
      },
      {
       "output_type": "stream",
       "stream": "stdout",
       "text": [
        "    Mean Xin and Yin: 1547.752  1179.083\n"
       ]
      },
      {
       "output_type": "stream",
       "stream": "stdout",
       "text": [
        "    X and Y shift: -34.27618  -0.3265381  (xin  yin)\n"
       ]
      },
      {
       "output_type": "stream",
       "stream": "stdout",
       "text": [
        "    X and Y scale: 0.9998376  0.9998376  (xin / xref  yin / yref)\n"
       ]
      },
      {
       "output_type": "stream",
       "stream": "stdout",
       "text": [
        "    X and Y axis rotation: 359.99789  359.99789  (degrees  degrees)\n"
       ]
      },
      {
       "output_type": "stream",
       "stream": "stdout",
       "text": [
        "\n"
       ]
      },
      {
       "output_type": "stream",
       "stream": "stdout",
       "text": [
        "Coordinate list: mrgS20101101S0080_trn  Transform: mrgS20101101S0080_trn\n"
       ]
      },
      {
       "output_type": "stream",
       "stream": "stdout",
       "text": [
        "    Results file: tmpres94296_1367\n"
       ]
      },
      {
       "output_type": "stream",
       "stream": "stdout",
       "text": [
        "Coordinate mapping status\n"
       ]
      },
      {
       "output_type": "stream",
       "stream": "stdout",
       "text": [
        "    "
       ]
      },
      {
       "output_type": "stream",
       "stream": "stdout",
       "text": [
        "X fit ok.  Y fit ok.\n"
       ]
      },
      {
       "output_type": "stream",
       "stream": "stdout",
       "text": [
        "    Xin and Yin fit rms: 0.2244764  0.2227877\n"
       ]
      },
      {
       "output_type": "stream",
       "stream": "stdout",
       "text": [
        "Coordinate mapping parameters\n"
       ]
      },
      {
       "output_type": "stream",
       "stream": "stdout",
       "text": [
        "    Mean Xref and Yref: 1581.822  1174.077\n"
       ]
      },
      {
       "output_type": "stream",
       "stream": "stdout",
       "text": [
        "    Mean Xin and Yin: 1547.389  1173.564\n"
       ]
      },
      {
       "output_type": "stream",
       "stream": "stdout",
       "text": [
        "    X and Y shift: -34.37864  -0.5596924  (xin  yin)\n"
       ]
      },
      {
       "output_type": "stream",
       "stream": "stdout",
       "text": [
        "    X and Y scale: 1.000032  1.000032  (xin / xref  yin / yref)\n"
       ]
      },
      {
       "output_type": "stream",
       "stream": "stdout",
       "text": [
        "    X and Y axis rotation: 359.99820  359.99820  (degrees  degrees)\n"
       ]
      },
      {
       "output_type": "stream",
       "stream": "stdout",
       "text": [
        "\n"
       ]
      },
      {
       "output_type": "stream",
       "stream": "stdout",
       "text": [
        "Coordinate list: mrgS20101101S0080_trn  Transform: mrgS20101101S0080_trn\n"
       ]
      },
      {
       "output_type": "stream",
       "stream": "stdout",
       "text": [
        "    Results file: tmpres94296_1367\n"
       ]
      },
      {
       "output_type": "stream",
       "stream": "stdout",
       "text": [
        "Coordinate mapping status\n"
       ]
      },
      {
       "output_type": "stream",
       "stream": "stdout",
       "text": [
        "    "
       ]
      },
      {
       "output_type": "stream",
       "stream": "stdout",
       "text": [
        "X fit ok.  Y fit ok.\n"
       ]
      },
      {
       "output_type": "stream",
       "stream": "stdout",
       "text": [
        "    Xin and Yin fit rms: 0.1304441  0.108666\n"
       ]
      },
      {
       "output_type": "stream",
       "stream": "stdout",
       "text": [
        "Coordinate mapping parameters\n"
       ]
      },
      {
       "output_type": "stream",
       "stream": "stdout",
       "text": [
        "    Mean Xref and Yref: 1600.856  1151.246\n"
       ]
      },
      {
       "output_type": "stream",
       "stream": "stdout",
       "text": [
        "    Mean Xin and Yin: 1566.495  1150.766\n"
       ]
      },
      {
       "output_type": "stream",
       "stream": "stdout",
       "text": [
        "    X and Y shift: -34.41573  -0.5427246  (xin  yin)\n"
       ]
      },
      {
       "output_type": "stream",
       "stream": "stdout",
       "text": [
        "    X and Y scale: 1.000036  1.000036  (xin / xref  yin / yref)\n"
       ]
      },
      {
       "output_type": "stream",
       "stream": "stdout",
       "text": [
        "    X and Y axis rotation: 359.99936  359.99936  (degrees  degrees)\n"
       ]
      },
      {
       "output_type": "stream",
       "stream": "stdout",
       "text": [
        "\n"
       ]
      },
      {
       "output_type": "stream",
       "stream": "stdout",
       "text": [
        "Coordinate list: imxymatch.1  Transform: mrgS20101101S0081_trn\n"
       ]
      },
      {
       "output_type": "stream",
       "stream": "stdout",
       "text": [
        "    Results file: \n"
       ]
      },
      {
       "output_type": "stream",
       "stream": "stdout",
       "text": [
        "Coordinate mapping status\n"
       ]
      },
      {
       "output_type": "stream",
       "stream": "stdout",
       "text": [
        "    "
       ]
      },
      {
       "output_type": "stream",
       "stream": "stdout",
       "text": [
        "X fit ok.  Y fit ok.\n"
       ]
      },
      {
       "output_type": "stream",
       "stream": "stdout",
       "text": [
        "    Xin and Yin fit rms: 0.006469058  0.006328654\n"
       ]
      },
      {
       "output_type": "stream",
       "stream": "stdout",
       "text": [
        "Coordinate mapping parameters\n"
       ]
      },
      {
       "output_type": "stream",
       "stream": "stdout",
       "text": [
        "    Mean Xref and Yref: 1554.5  1152.5\n"
       ]
      },
      {
       "output_type": "stream",
       "stream": "stdout",
       "text": [
        "    Mean Xin and Yin: 1554.478  1118.258\n"
       ]
      },
      {
       "output_type": "stream",
       "stream": "stdout",
       "text": [
        "    X and Y shift: -0.01755141  -34.23986  (xin  yin)\n"
       ]
      },
      {
       "output_type": "stream",
       "stream": "stdout",
       "text": [
        "    X and Y scale: 0.9999977  0.9999977  (xin / xref  yin / yref)\n"
       ]
      },
      {
       "output_type": "stream",
       "stream": "stdout",
       "text": [
        "    X and Y axis rotation: 359.99997  359.99997  (degrees  degrees)\n"
       ]
      },
      {
       "output_type": "stream",
       "stream": "stdout",
       "text": [
        "Centering objects in mrgS20101101S0081\n",
        "\n"
       ]
      },
      {
       "output_type": "stream",
       "stream": "stdout",
       "text": [
        "Xmax =  3108   Ymax = 2304\n",
        "Entering geomap\n",
        "Fitting geometry rscale\n",
        "Iterating a maximum of 5 times\n",
        "\n"
       ]
      },
      {
       "output_type": "stream",
       "stream": "stdout",
       "text": [
        "Coordinate list: mrgS20101101S0081_trn  Transform: mrgS20101101S0081_trn\n"
       ]
      },
      {
       "output_type": "stream",
       "stream": "stdout",
       "text": [
        "    Results file: tmpres94296_1367\n"
       ]
      },
      {
       "output_type": "stream",
       "stream": "stdout",
       "text": [
        "Coordinate mapping status\n"
       ]
      },
      {
       "output_type": "stream",
       "stream": "stdout",
       "text": [
        "    "
       ]
      },
      {
       "output_type": "stream",
       "stream": "stdout",
       "text": [
        "X fit ok.  Y fit ok.\n"
       ]
      },
      {
       "output_type": "stream",
       "stream": "stdout",
       "text": [
        "    Xin and Yin fit rms: 10.68991  11.0293\n"
       ]
      },
      {
       "output_type": "stream",
       "stream": "stdout",
       "text": [
        "Coordinate mapping parameters\n"
       ]
      },
      {
       "output_type": "stream",
       "stream": "stdout",
       "text": [
        "    Mean Xref and Yref: 1582.098  1190.153\n"
       ]
      },
      {
       "output_type": "stream",
       "stream": "stdout",
       "text": [
        "    Mean Xin and Yin: 1543.365  1154.852\n"
       ]
      },
      {
       "output_type": "stream",
       "stream": "stdout",
       "text": [
        "    X and Y shift: -34.37299  -33.54431  (xin  yin)\n"
       ]
      },
      {
       "output_type": "stream",
       "stream": "stdout",
       "text": [
        "    X and Y scale: 0.9994388  0.9994388  (xin / xref  yin / yref)\n"
       ]
      },
      {
       "output_type": "stream",
       "stream": "stdout",
       "text": [
        "    X and Y axis rotation: 359.99374  359.99374  (degrees  degrees)\n"
       ]
      },
      {
       "output_type": "stream",
       "stream": "stdout",
       "text": [
        "\n"
       ]
      },
      {
       "output_type": "stream",
       "stream": "stdout",
       "text": [
        "Coordinate list: mrgS20101101S0081_trn  Transform: mrgS20101101S0081_trn\n"
       ]
      },
      {
       "output_type": "stream",
       "stream": "stdout",
       "text": [
        "    Results file: tmpres94296_1367\n"
       ]
      },
      {
       "output_type": "stream",
       "stream": "stdout",
       "text": [
        "Coordinate mapping status\n"
       ]
      },
      {
       "output_type": "stream",
       "stream": "stdout",
       "text": [
        "    "
       ]
      },
      {
       "output_type": "stream",
       "stream": "stdout",
       "text": [
        "X fit ok.  Y fit ok.\n"
       ]
      },
      {
       "output_type": "stream",
       "stream": "stdout",
       "text": [
        "    Xin and Yin fit rms: 1.619312  2.631857\n"
       ]
      },
      {
       "output_type": "stream",
       "stream": "stdout",
       "text": [
        "Coordinate mapping parameters\n"
       ]
      },
      {
       "output_type": "stream",
       "stream": "stdout",
       "text": [
        "    Mean Xref and Yref: 1570.093  1173.383\n"
       ]
      },
      {
       "output_type": "stream",
       "stream": "stdout",
       "text": [
        "    Mean Xin and Yin: 1535.885  1139.239\n"
       ]
      },
      {
       "output_type": "stream",
       "stream": "stdout",
       "text": [
        "    X and Y shift: -34.5015  -35.1217  (xin  yin)\n"
       ]
      },
      {
       "output_type": "stream",
       "stream": "stdout",
       "text": [
        "    X and Y scale: 1.000136  1.000136  (xin / xref  yin / yref)\n"
       ]
      },
      {
       "output_type": "stream",
       "stream": "stdout",
       "text": [
        "    X and Y axis rotation: 359.99335  359.99335  (degrees  degrees)\n"
       ]
      },
      {
       "output_type": "stream",
       "stream": "stdout",
       "text": [
        "\n"
       ]
      },
      {
       "output_type": "stream",
       "stream": "stdout",
       "text": [
        "Coordinate list: mrgS20101101S0081_trn  Transform: mrgS20101101S0081_trn\n"
       ]
      },
      {
       "output_type": "stream",
       "stream": "stdout",
       "text": [
        "    Results file: tmpres94296_1367\n"
       ]
      },
      {
       "output_type": "stream",
       "stream": "stdout",
       "text": [
        "Coordinate mapping status\n"
       ]
      },
      {
       "output_type": "stream",
       "stream": "stdout",
       "text": [
        "    "
       ]
      },
      {
       "output_type": "stream",
       "stream": "stdout",
       "text": [
        "X fit ok.  Y fit ok.\n"
       ]
      },
      {
       "output_type": "stream",
       "stream": "stdout",
       "text": [
        "    Xin and Yin fit rms: 0.2357521  0.2067228\n"
       ]
      },
      {
       "output_type": "stream",
       "stream": "stdout",
       "text": [
        "Coordinate mapping parameters\n"
       ]
      },
      {
       "output_type": "stream",
       "stream": "stdout",
       "text": [
        "    Mean Xref and Yref: 1581.517  1186.771\n"
       ]
      },
      {
       "output_type": "stream",
       "stream": "stdout",
       "text": [
        "    Mean Xin and Yin: 1547.247  1151.961\n"
       ]
      },
      {
       "output_type": "stream",
       "stream": "stdout",
       "text": [
        "    X and Y shift: -34.35462  -34.88684  (xin  yin)\n"
       ]
      },
      {
       "output_type": "stream",
       "stream": "stdout",
       "text": [
        "    X and Y scale: 1.000071  1.000071  (xin / xref  yin / yref)\n"
       ]
      },
      {
       "output_type": "stream",
       "stream": "stdout",
       "text": [
        "    X and Y axis rotation: 359.99884  359.99884  (degrees  degrees)\n"
       ]
      },
      {
       "output_type": "stream",
       "stream": "stdout",
       "text": [
        "\n"
       ]
      },
      {
       "output_type": "stream",
       "stream": "stdout",
       "text": [
        "Coordinate list: mrgS20101101S0081_trn  Transform: mrgS20101101S0081_trn\n"
       ]
      },
      {
       "output_type": "stream",
       "stream": "stdout",
       "text": [
        "    Results file: tmpres94296_1367\n"
       ]
      },
      {
       "output_type": "stream",
       "stream": "stdout",
       "text": [
        "Coordinate mapping status\n"
       ]
      },
      {
       "output_type": "stream",
       "stream": "stdout",
       "text": [
        "    "
       ]
      },
      {
       "output_type": "stream",
       "stream": "stdout",
       "text": [
        "X fit ok.  Y fit ok.\n"
       ]
      },
      {
       "output_type": "stream",
       "stream": "stdout",
       "text": [
        "    Xin and Yin fit rms: 0.1541364  0.1178112\n"
       ]
      },
      {
       "output_type": "stream",
       "stream": "stdout",
       "text": [
        "Coordinate mapping parameters\n"
       ]
      },
      {
       "output_type": "stream",
       "stream": "stdout",
       "text": [
        "    Mean Xref and Yref: 1583.421  1171.082\n"
       ]
      },
      {
       "output_type": "stream",
       "stream": "stdout",
       "text": [
        "    Mean Xin and Yin: 1549.158  1136.302\n"
       ]
      },
      {
       "output_type": "stream",
       "stream": "stdout",
       "text": [
        "    X and Y shift: -34.34524  -34.89685  (xin  yin)\n"
       ]
      },
      {
       "output_type": "stream",
       "stream": "stdout",
       "text": [
        "    X and Y scale: 1.000068  1.000068  (xin / xref  yin / yref)\n"
       ]
      },
      {
       "output_type": "stream",
       "stream": "stdout",
       "text": [
        "    X and Y axis rotation: 359.99872  359.99872  (degrees  degrees)\n"
       ]
      },
      {
       "output_type": "stream",
       "stream": "stdout",
       "text": [
        "\n"
       ]
      },
      {
       "output_type": "stream",
       "stream": "stdout",
       "text": [
        "Coordinate list: imxymatch.1  Transform: mrgS20101101S0082_trn\n"
       ]
      },
      {
       "output_type": "stream",
       "stream": "stdout",
       "text": [
        "    Results file: \n"
       ]
      },
      {
       "output_type": "stream",
       "stream": "stdout",
       "text": [
        "Coordinate mapping status\n"
       ]
      },
      {
       "output_type": "stream",
       "stream": "stdout",
       "text": [
        "    "
       ]
      },
      {
       "output_type": "stream",
       "stream": "stdout",
       "text": [
        "X fit ok.  Y fit ok.\n"
       ]
      },
      {
       "output_type": "stream",
       "stream": "stdout",
       "text": [
        "    Xin and Yin fit rms: 0.006644911  0.006563063\n"
       ]
      },
      {
       "output_type": "stream",
       "stream": "stdout",
       "text": [
        "Coordinate mapping parameters\n"
       ]
      },
      {
       "output_type": "stream",
       "stream": "stdout",
       "text": [
        "    Mean Xref and Yref: 1554.5  1152.5\n"
       ]
      },
      {
       "output_type": "stream",
       "stream": "stdout",
       "text": [
        "    Mean Xin and Yin: 1588.727  1152.492\n"
       ]
      },
      {
       "output_type": "stream",
       "stream": "stdout",
       "text": [
        "    X and Y shift: 34.24274  -0.02162275  (xin  yin)\n"
       ]
      },
      {
       "output_type": "stream",
       "stream": "stdout",
       "text": [
        "    X and Y scale: 0.9999974  0.9999974  (xin / xref  yin / yref)\n"
       ]
      },
      {
       "output_type": "stream",
       "stream": "stdout",
       "text": [
        "    X and Y axis rotation: 359.99939  359.99939  (degrees  degrees)\n"
       ]
      },
      {
       "output_type": "stream",
       "stream": "stdout",
       "text": [
        "Centering objects in mrgS20101101S0082\n",
        "\n"
       ]
      },
      {
       "output_type": "stream",
       "stream": "stdout",
       "text": [
        "Xmax =  3108   Ymax = 2304\n",
        "Entering geomap\n",
        "Fitting geometry rscale\n",
        "Iterating a maximum of 5 times\n",
        "\n"
       ]
      },
      {
       "output_type": "stream",
       "stream": "stdout",
       "text": [
        "Coordinate list: mrgS20101101S0082_trn  Transform: mrgS20101101S0082_trn\n"
       ]
      },
      {
       "output_type": "stream",
       "stream": "stdout",
       "text": [
        "    Results file: tmpres94296_1367\n"
       ]
      },
      {
       "output_type": "stream",
       "stream": "stdout",
       "text": [
        "Coordinate mapping status\n"
       ]
      },
      {
       "output_type": "stream",
       "stream": "stdout",
       "text": [
        "    "
       ]
      },
      {
       "output_type": "stream",
       "stream": "stdout",
       "text": [
        "X fit ok.  Y fit ok.\n"
       ]
      },
      {
       "output_type": "stream",
       "stream": "stdout",
       "text": [
        "    Xin and Yin fit rms: 10.8326  10.80101\n"
       ]
      },
      {
       "output_type": "stream",
       "stream": "stdout",
       "text": [
        "Coordinate mapping parameters\n"
       ]
      },
      {
       "output_type": "stream",
       "stream": "stdout",
       "text": [
        "    Mean Xref and Yref: 1580.676  1186.48\n"
       ]
      },
      {
       "output_type": "stream",
       "stream": "stdout",
       "text": [
        "    Mean Xin and Yin: 1576.63  1151.835\n"
       ]
      },
      {
       "output_type": "stream",
       "stream": "stdout",
       "text": [
        "    X and Y shift: -0.1975668  -32.7406  (xin  yin)\n"
       ]
      },
      {
       "output_type": "stream",
       "stream": "stdout",
       "text": [
        "    X and Y scale: 0.9993216  0.9993215  (xin / xref  yin / yref)\n"
       ]
      },
      {
       "output_type": "stream",
       "stream": "stdout",
       "text": [
        "    X and Y axis rotation: 0.00498  0.00498  (degrees  degrees)\n"
       ]
      },
      {
       "output_type": "stream",
       "stream": "stdout",
       "text": [
        "\n"
       ]
      },
      {
       "output_type": "stream",
       "stream": "stdout",
       "text": [
        "Coordinate list: mrgS20101101S0082_trn  Transform: mrgS20101101S0082_trn\n"
       ]
      },
      {
       "output_type": "stream",
       "stream": "stdout",
       "text": [
        "    Results file: tmpres94296_1367\n"
       ]
      },
      {
       "output_type": "stream",
       "stream": "stdout",
       "text": [
        "Coordinate mapping status\n"
       ]
      },
      {
       "output_type": "stream",
       "stream": "stdout",
       "text": [
        "    "
       ]
      },
      {
       "output_type": "stream",
       "stream": "stdout",
       "text": [
        "X fit ok.  Y fit ok.\n"
       ]
      },
      {
       "output_type": "stream",
       "stream": "stdout",
       "text": [
        "    Xin and Yin fit rms: 2.148307  2.971612\n"
       ]
      },
      {
       "output_type": "stream",
       "stream": "stdout",
       "text": [
        "Coordinate mapping parameters\n"
       ]
      },
      {
       "output_type": "stream",
       "stream": "stdout",
       "text": [
        "    Mean Xref and Yref: 1574.05  1174.098\n"
       ]
      },
      {
       "output_type": "stream",
       "stream": "stdout",
       "text": [
        "    Mean Xin and Yin: 1574.076  1140.068\n"
       ]
      },
      {
       "output_type": "stream",
       "stream": "stdout",
       "text": [
        "    X and Y shift: 0.08651213  -34.20557  (xin  yin)\n"
       ]
      },
      {
       "output_type": "stream",
       "stream": "stdout",
       "text": [
        "    X and Y scale: 0.9997593  0.9997593  (xin / xref  yin / yref)\n"
       ]
      },
      {
       "output_type": "stream",
       "stream": "stdout",
       "text": [
        "    X and Y axis rotation: 0.00119  0.00119  (degrees  degrees)\n"
       ]
      },
      {
       "output_type": "stream",
       "stream": "stdout",
       "text": [
        "\n"
       ]
      },
      {
       "output_type": "stream",
       "stream": "stdout",
       "text": [
        "Coordinate list: mrgS20101101S0082_trn  Transform: mrgS20101101S0082_trn\n"
       ]
      },
      {
       "output_type": "stream",
       "stream": "stdout",
       "text": [
        "    Results file: tmpres94296_1367\n"
       ]
      },
      {
       "output_type": "stream",
       "stream": "stdout",
       "text": [
        "Coordinate mapping status\n"
       ]
      },
      {
       "output_type": "stream",
       "stream": "stdout",
       "text": [
        "    "
       ]
      },
      {
       "output_type": "stream",
       "stream": "stdout",
       "text": [
        "X fit ok.  Y fit ok.\n"
       ]
      },
      {
       "output_type": "stream",
       "stream": "stdout",
       "text": [
        "    Xin and Yin fit rms: 0.1983735  0.1692968\n"
       ]
      },
      {
       "output_type": "stream",
       "stream": "stdout",
       "text": [
        "Coordinate mapping parameters\n"
       ]
      },
      {
       "output_type": "stream",
       "stream": "stdout",
       "text": [
        "    Mean Xref and Yref: 1579.009  1183.723\n"
       ]
      },
      {
       "output_type": "stream",
       "stream": "stdout",
       "text": [
        "    Mean Xin and Yin: 1578.899  1149.057\n"
       ]
      },
      {
       "output_type": "stream",
       "stream": "stdout",
       "text": [
        "    X and Y shift: -0.07601867  -34.67151  (xin  yin)\n"
       ]
      },
      {
       "output_type": "stream",
       "stream": "stdout",
       "text": [
        "    X and Y scale: 1.000032  1.000032  (xin / xref  yin / yref)\n"
       ]
      },
      {
       "output_type": "stream",
       "stream": "stdout",
       "text": [
        "    X and Y axis rotation: 359.99896  359.99896  (degrees  degrees)\n"
       ]
      },
      {
       "output_type": "stream",
       "stream": "stdout",
       "text": [
        "\n"
       ]
      },
      {
       "output_type": "stream",
       "stream": "stdout",
       "text": [
        "Coordinate list: mrgS20101101S0082_trn  Transform: mrgS20101101S0082_trn\n"
       ]
      },
      {
       "output_type": "stream",
       "stream": "stdout",
       "text": [
        "    Results file: tmpres94296_1367\n"
       ]
      },
      {
       "output_type": "stream",
       "stream": "stdout",
       "text": [
        "Coordinate mapping status\n"
       ]
      },
      {
       "output_type": "stream",
       "stream": "stdout",
       "text": [
        "    "
       ]
      },
      {
       "output_type": "stream",
       "stream": "stdout",
       "text": [
        "X fit ok.  Y fit ok.\n"
       ]
      },
      {
       "output_type": "stream",
       "stream": "stdout",
       "text": [
        "    Xin and Yin fit rms: 0.1242769  0.1127741\n"
       ]
      },
      {
       "output_type": "stream",
       "stream": "stdout",
       "text": [
        "Coordinate mapping parameters\n"
       ]
      },
      {
       "output_type": "stream",
       "stream": "stdout",
       "text": [
        "    Mean Xref and Yref: 1596.65  1167.627\n"
       ]
      },
      {
       "output_type": "stream",
       "stream": "stdout",
       "text": [
        "    Mean Xin and Yin: 1596.604  1133.032\n"
       ]
      },
      {
       "output_type": "stream",
       "stream": "stdout",
       "text": [
        "    X and Y shift: -0.09013443  -34.68982  (xin  yin)\n"
       ]
      },
      {
       "output_type": "stream",
       "stream": "stdout",
       "text": [
        "    X and Y scale: 1.000047  1.000047  (xin / xref  yin / yref)\n"
       ]
      },
      {
       "output_type": "stream",
       "stream": "stdout",
       "text": [
        "    X and Y axis rotation: 359.99857  359.99857  (degrees  degrees)\n"
       ]
      },
      {
       "output_type": "stream",
       "stream": "stdout",
       "text": [
        "\n",
        "Median sky level for mrgS20101101S0079:   1590.3\n",
        "Transforming mrgS20101101S0080 to mrgS20101101S0080_trn"
       ]
      },
      {
       "output_type": "stream",
       "stream": "stdout",
       "text": [
        "\n",
        "\n",
        "Transforming image mrgS20101101S0080[SCI] to image mrgS20101101S0080_trn\n"
       ]
      },
      {
       "output_type": "stream",
       "stream": "stdout",
       "text": [
        "    Using transform mrgS20101101S0080_trn in database imcoadd.dat\n"
       ]
      },
      {
       "output_type": "stream",
       "stream": "stdout",
       "text": [
        "Median sky level for mrgS20101101S0080:   1596.0\n",
        "Transforming mrgS20101101S0081 to mrgS20101101S0081_trn"
       ]
      },
      {
       "output_type": "stream",
       "stream": "stdout",
       "text": [
        "\n",
        "\n",
        "Transforming image mrgS20101101S0081[SCI] to image mrgS20101101S0081_trn\n"
       ]
      },
      {
       "output_type": "stream",
       "stream": "stdout",
       "text": [
        "    Using transform mrgS20101101S0081_trn in database imcoadd.dat\n"
       ]
      },
      {
       "output_type": "stream",
       "stream": "stdout",
       "text": [
        "Median sky level for mrgS20101101S0081:   1600.9\n",
        "Transforming mrgS20101101S0082 to mrgS20101101S0082_trn"
       ]
      },
      {
       "output_type": "stream",
       "stream": "stdout",
       "text": [
        "\n",
        "\n",
        "Transforming image mrgS20101101S0082[SCI] to image mrgS20101101S0082_trn\n"
       ]
      },
      {
       "output_type": "stream",
       "stream": "stdout",
       "text": [
        "    Using transform mrgS20101101S0082_trn in database imcoadd.dat\n"
       ]
      },
      {
       "output_type": "stream",
       "stream": "stdout",
       "text": [
        "Median sky level for mrgS20101101S0082:   1608.0\n",
        "Median sky level for mrgS20101101S0079:   1590.3"
       ]
      },
      {
       "output_type": "stream",
       "stream": "stdout",
       "text": [
        "\n",
        "Median sky level for mrgS20101101S0080:   1596.0"
       ]
      },
      {
       "output_type": "stream",
       "stream": "stdout",
       "text": [
        "\n",
        "Transforming mrgS20101101S0079badpix +mask to mrgS20101101S0080badpix"
       ]
      },
      {
       "output_type": "stream",
       "stream": "stdout",
       "text": [
        "\n",
        "\n",
        "Transforming image tmpmsk94296_1361 to image mrgS20101101S0080badpix\n"
       ]
      },
      {
       "output_type": "stream",
       "stream": "stdout",
       "text": [
        "    Using transform mrgS20101101S0080_trn in database imcoadd.dat\n"
       ]
      },
      {
       "output_type": "stream",
       "stream": "stdout",
       "text": [
        "Median sky level for mrgS20101101S0081:   1600.9\n",
        "Transforming mrgS20101101S0079badpix +mask to mrgS20101101S0081badpix"
       ]
      },
      {
       "output_type": "stream",
       "stream": "stdout",
       "text": [
        "\n",
        "\n",
        "Transforming image tmpmsk94296_1398 to image mrgS20101101S0081badpix\n"
       ]
      },
      {
       "output_type": "stream",
       "stream": "stdout",
       "text": [
        "    Using transform mrgS20101101S0081_trn in database imcoadd.dat\n"
       ]
      },
      {
       "output_type": "stream",
       "stream": "stdout",
       "text": [
        "Median sky level for mrgS20101101S0082:   1608.0\n",
        "Transforming mrgS20101101S0079badpix +mask to mrgS20101101S0082badpix"
       ]
      },
      {
       "output_type": "stream",
       "stream": "stdout",
       "text": [
        "\n",
        "\n",
        "Transforming image tmpmsk94296_1402 to image mrgS20101101S0082badpix\n"
       ]
      },
      {
       "output_type": "stream",
       "stream": "stdout",
       "text": [
        "    Using transform mrgS20101101S0082_trn in database imcoadd.dat\n"
       ]
      },
      {
       "output_type": "stream",
       "stream": "stdout",
       "text": [
        "\n",
        "Mean intensity for   mrgS20101101S0079_trn:  (N,absolute,relative)=  194  1533307  1.000\n",
        "Mean intensity for   mrgS20101101S0080_trn:  (N,absolute,relative)=  194  1538577  1.003"
       ]
      },
      {
       "output_type": "stream",
       "stream": "stdout",
       "text": [
        "\n",
        "Mean intensity for   mrgS20101101S0081_trn:  (N,absolute,relative)=  194  1534460  1.001\n",
        "Mean intensity for   mrgS20101101S0082_trn:  (N,absolute,relative)=  194  1532384  0.999"
       ]
      },
      {
       "output_type": "stream",
       "stream": "stdout",
       "text": [
        "\n"
       ]
      },
      {
       "output_type": "stream",
       "stream": "stdout",
       "text": [
        "\n",
        "Masking cosmic ray events in mrgS20101101S0079_trn\n"
       ]
      },
      {
       "output_type": "stream",
       "stream": "stdout",
       "text": [
        "Applying growth radius 1\n",
        "Masking cosmic ray events in mrgS20101101S0080_trn"
       ]
      },
      {
       "output_type": "stream",
       "stream": "stdout",
       "text": [
        "\n"
       ]
      },
      {
       "output_type": "stream",
       "stream": "stdout",
       "text": [
        "Applying growth radius 1\n",
        "Masking cosmic ray events in mrgS20101101S0081_trn"
       ]
      },
      {
       "output_type": "stream",
       "stream": "stdout",
       "text": [
        "\n"
       ]
      },
      {
       "output_type": "stream",
       "stream": "stdout",
       "text": [
        "Applying growth radius 1\n",
        "Masking cosmic ray events in mrgS20101101S0082_trn"
       ]
      },
      {
       "output_type": "stream",
       "stream": "stdout",
       "text": [
        "\n"
       ]
      },
      {
       "output_type": "stream",
       "stream": "stdout",
       "text": [
        "Applying growth radius 1\n"
       ]
      },
      {
       "output_type": "stream",
       "stream": "stdout",
       "text": [
        "IMCOADD exit status: good\n",
        "-----------------------------------------------------------------------------\n"
       ]
      }
     ],
     "prompt_number": 14
    },
    {
     "cell_type": "heading",
     "level": 2,
     "metadata": {},
     "source": [
      "STEP 10: Inspect and save product"
     ]
    },
    {
     "cell_type": "code",
     "collapsed": false,
     "input": [
      "iraf.display(science['procsci']+'[sci,1]', 1, \\\n",
      "             zrange='no', zscale='no', z1=1000, z2=20000)\n",
      "\n",
      "shutil.copy(science['procsci'], products_path)\n",
      "\n",
      "# Final reduced image\n",
      "os.listdir(products_path)"
     ],
     "language": "python",
     "metadata": {},
     "outputs": [
      {
       "output_type": "stream",
       "stream": "stdout",
       "text": [
        "z1=1000. z2=20000.\n"
       ]
      },
      {
       "metadata": {},
       "output_type": "pyout",
       "prompt_number": 15,
       "text": [
        "['ngc6872_g.fits', 'ngc6872_i.fits', 'ngc6872_r.fits']"
       ]
      }
     ],
     "prompt_number": 15
    },
    {
     "cell_type": "code",
     "collapsed": false,
     "input": [],
     "language": "python",
     "metadata": {},
     "outputs": []
    }
   ],
   "metadata": {}
  }
 ]
}