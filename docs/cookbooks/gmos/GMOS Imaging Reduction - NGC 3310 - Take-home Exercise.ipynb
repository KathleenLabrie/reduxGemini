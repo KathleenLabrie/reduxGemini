{
 "metadata": {
  "name": "",
  "signature": "sha256:8a9e1abaea55488fc1752d3ad285709767fa7ec9b2c3ee66109436bb96e26c2e"
 },
 "nbformat": 3,
 "nbformat_minor": 0,
 "worksheets": [
  {
   "cells": [
    {
     "cell_type": "markdown",
     "metadata": {},
     "source": [
      "Target name:  NGC 3310<br>\n",
      "Program ID: GN-2015A-Q-18<br>\n",
      "Instrument: GMOS-N with e2V CCDs<br>\n",
      "Observation date:  2015-12-14  (science)<br>\n",
      "\n",
      "Calibrations:  \n",
      "Use the [archive](archive.gemini.edu) to search for the science data.  The use the `Load Associated Calibrations` to get the list of raw biases and raw twilight flats that are compatible with your science data.\n",
      "\n",
      "The e2V CCDs have minimal fringing even in the i'-band.  No fringe correction is necessary.  Otherwise, the standard steps are required:  bias correction and flat field correction.  \n",
      "\n",
      "Remember that if a twilight is taken on a different date from the science data, it will need its own processed bias.   Once you have identified the twilights that you need, search for them explicitely by date and name at [archive.gemini.edu](archive.gemini.edu), then use the `Load Associated Calibrations` tab, it will list all the biases clearly.  However, be careful to have only your valid twilights in the list.  **Hint**: Target Name = \"Twilight\", they are \"dayCal\" observations, and our data is 2x2 binning.\n",
      "\n",
      "Use the exercise template from the NGC 6872 tutorial as a starting point.  Copy, rename, adapt.\n",
      "\n",
      "[GMOS_Imaging_Reduction - NGC 6872 - Exercise Template](GMOS%20Imaging%20Reduction%20-%20NGC%206872%20-%20Exercise%20Template.ipynb)\n",
      "\n",
      "Try it out solo.   It's a pretty picture too.   If you need help:  `klabrie@gemini.edu`.  (Special favour to workshop participants.)"
     ]
    },
    {
     "cell_type": "code",
     "collapsed": false,
     "input": [],
     "language": "python",
     "metadata": {},
     "outputs": []
    }
   ],
   "metadata": {}
  }
 ]
}