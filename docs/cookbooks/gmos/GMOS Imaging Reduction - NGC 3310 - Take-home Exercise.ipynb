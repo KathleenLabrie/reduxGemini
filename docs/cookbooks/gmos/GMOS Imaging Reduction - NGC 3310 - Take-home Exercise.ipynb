{
 "metadata": {
  "name": "",
  "signature": "sha256:14680fca7b68bcfa87b1b2d72441e0d2544041698c4440741cb56af84efe5689"
 },
 "nbformat": 3,
 "nbformat_minor": 0,
 "worksheets": [
  {
   "cells": [
    {
     "cell_type": "markdown",
     "metadata": {},
     "source": [
      "Target name:  NGC 3310\n",
      "Program ID: GN-2015A-Q-18\n",
      "Instrument: GMOS-N with e2V CCDs\n",
      "Observation date:  2015-12-14  (science)\n",
      "\n",
      "Calibrations:  \n",
      "Use the archive to search for the science data.  The use the \"Load Associated Calibrations\" to get the list of raw biases and raw twilight flats that are compatible with your science data.\n",
      "\n",
      "The e2V CCDs have minimal fringing even in the i'-band.  No fringe correction is necessary.  Otherwise, the standard steps are required:  bias correction and flat field correction.  \n",
      "\n",
      "Remember that if a twilight is taken on a different date from the science data, it will need its own processed bias.   Once you have identified the twilights that you need, search for them explicitely by date and name in the archive then use the \"Load Associated Calibrations\" feature, it will list all the biases clearly.  However, be careful to have only your valid twilights in the list.  Hint: Target Name = \"Twilight\", they are \"dayCal\" observations, and our data is 2x2 binning."
     ]
    },
    {
     "cell_type": "code",
     "collapsed": false,
     "input": [],
     "language": "python",
     "metadata": {},
     "outputs": []
    }
   ],
   "metadata": {}
  }
 ]
}