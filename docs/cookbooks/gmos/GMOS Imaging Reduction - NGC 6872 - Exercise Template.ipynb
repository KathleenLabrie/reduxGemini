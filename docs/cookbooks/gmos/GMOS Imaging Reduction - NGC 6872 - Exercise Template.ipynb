{
 "metadata": {
  "name": "",
  "signature": "sha256:0b8ef435aac0078b2d221e3e5c9444de728ad0371f35b8eb3bc897cb6619e6b1"
 },
 "nbformat": 3,
 "nbformat_minor": 0,
 "worksheets": [
  {
   "cells": [
    {
     "cell_type": "heading",
     "level": 1,
     "metadata": {},
     "source": [
      "Exercise: GMOS Imaging Reduction - NGC 6872 - Which band?"
     ]
    },
    {
     "cell_type": "heading",
     "level": 4,
     "metadata": {},
     "source": [
      "IMPORTANT: Edits are required for the tables below, and in STEP 1 and 2.  After that, it should just work."
     ]
    },
    {
     "cell_type": "heading",
     "level": 2,
     "metadata": {},
     "source": [
      "Datasets:"
     ]
    },
    {
     "cell_type": "markdown",
     "metadata": {},
     "source": [
      "<table>\n",
      "  <tr><td><strong>Science observation UT date(s)</strong></td>\n",
      "      <td>2010 Nov 01</td>\n",
      "      </tr>\n",
      "  <tr><td><strong>Data filename prefix(es)</strong></td>\n",
      "      <td>S20101101S</td>\n",
      "      </tr>\n",
      "</table>"
     ]
    },
    {
     "cell_type": "heading",
     "level": 4,
     "metadata": {},
     "source": [
      "Target Frames"
     ]
    },
    {
     "cell_type": "markdown",
     "metadata": {},
     "source": [
      "<table>\n",
      "<tr><td>Science</td><td>S20101101S</td><td>eg. format: 1-3,5-7</td><td>binning 2x2</td></tr>\n",
      "<tr><td>Processed Bias</td><td>for 20101101</td><td>S20000101S0001_bias.fits</td><td></td></tr>\n",
      "<tr><td>Processed Twilight Flat</td><td>for 20101101</td><td>S20000101S0001_flat_band.fits</td><td></td></tr>\n",
      "<tr><td>Processed Fringe Frame</td><td>N/A</td><td>N/A</td><td></td></tr>\n",
      "</table>"
     ]
    },
    {
     "cell_type": "heading",
     "level": 4,
     "metadata": {},
     "source": [
      "Fringe Frames"
     ]
    },
    {
     "cell_type": "markdown",
     "metadata": {},
     "source": [
      "N/A"
     ]
    },
    {
     "cell_type": "heading",
     "level": 4,
     "metadata": {},
     "source": [
      "Twilight Flats"
     ]
    },
    {
     "cell_type": "markdown",
     "metadata": {},
     "source": [
      "The twilight flat that matches the science target observations.\n",
      "\n",
      "In the template, the name of the processed flat is the name of the first raw flat in the list followed with the suffix \"_flat_band\", eg. \"_flat_r\".  However, the name could be anything, just define it later in Step 1, and above in the Target Frame table.\n",
      "<br><br>\n",
      "\n",
      "<table>\n",
      "<tr><td colspan=3>Processed: <strong>S20000101S0001_flat_band.fits</strong></td></tr>\n",
      "<tr><td>Twilight Frames</td><td>S20000101S</td><td>1-3</td><td>binning 2x2</td></tr>\n",
      "<tr><td>Processed Bias</td><td>for 20000101</td><td>S20000101S0000_bias.fits</td><td></td></tr>\n",
      "</table>"
     ]
    },
    {
     "cell_type": "heading",
     "level": 4,
     "metadata": {},
     "source": [
      "Biases"
     ]
    },
    {
     "cell_type": "markdown",
     "metadata": {},
     "source": [
      "The bias(es) that match the science observation and the twilight flat.  \n",
      "\n",
      "<strong>The Gemini package default name of the processed bias is the name of the first raw bias in the list followed with the suffix \"_bias\".</strong>  (You could override that if it really bothers you.)"
     ]
    },
    {
     "cell_type": "markdown",
     "metadata": {},
     "source": [
      "If combining biases from multiple nights:\n",
      "<table>\n",
      "<tr><td colspan=3>Processed: <strong>S20000101S0001_bias.fits</strong></td></tr>\n",
      "<tr><td rowspan=2>Biases</td><td>S20000101S</td><td>1-3</td><td>binning 2x2</td></tr>\n",
      "<tr>                         <td>S20000102S</td><td>1-3</td><td>binning 2x2</td></tr>\n",
      "</table>"
     ]
    },
    {
     "cell_type": "markdown",
     "metadata": {},
     "source": [
      "If combining biases from a single night:\n",
      "<table>\n",
      "<tr><td colspan=3>Processed: <strong>S20000101S0001_bias.fits</strong></td></tr>\n",
      "<tr><td>Biases</td><td>S20000101S</td><td>1-3</td><td>binning 2x2</td></tr>\n",
      "</table>"
     ]
    },
    {
     "cell_type": "heading",
     "level": 2,
     "metadata": {},
     "source": [
      "STEP 0: Directory structure used by this Notebook"
     ]
    },
    {
     "cell_type": "markdown",
     "metadata": {},
     "source": [
      "The directory paths used in this notebook are assumed to match this structure:\n",
      "\n",
      "    rootdir/\n",
      "        calib/\n",
      "            bias/\n",
      "            flat/\n",
      "            fringe/\n",
      "        raw/\n",
      "        redux/"
     ]
    },
    {
     "cell_type": "heading",
     "level": 2,
     "metadata": {},
     "source": [
      "STEP 1: Set up the Notebook and the PyRAF session"
     ]
    },
    {
     "cell_type": "markdown",
     "metadata": {},
     "source": [
      "The data processing will happen in the Notebook.  It is also convenient to have a PyRAF interactive session ready to use if needed, eg. to imexam.  In this step, we will configure the Notebook and the PyRAF session.  \n",
      "\n",
      "This step needs to be repeated everytime the Notebook and/or the PyRAF session is restarted."
     ]
    },
    {
     "cell_type": "heading",
     "level": 3,
     "metadata": {},
     "source": [
      "STEP 1.1: Set up the Notebook"
     ]
    },
    {
     "cell_type": "heading",
     "level": 4,
     "metadata": {},
     "source": [
      "STEP 1.1.1: Set up the variables."
     ]
    },
    {
     "cell_type": "code",
     "collapsed": false,
     "input": [
      "import os\n",
      "import os.path\n",
      "import shutil\n",
      "\n",
      "# WARNING: Make sure that the directory structure given in Step 0 \n",
      "#          is already in place.\n",
      "\n",
      "# EDIT HERE - Directories\n",
      "rootdir = '/data/workspace/DRWorkshopAAO'\n",
      "\n",
      "# EDIT HERE - File numbers and file names\n",
      "biases = {\n",
      "    # When combining biases from multiple nights.\n",
      "    'bias_20000101' : {\n",
      "        'procbias' : 'S20000101S0000_bias.fits',\n",
      "        'frames'   : [('S20000101S', '1-3'),\n",
      "                      ('S20000102S', '1-3'),\n",
      "                     ]\n",
      "    },\n",
      "    # When combining biases from a single night.\n",
      "    'bias_20000101' : {\n",
      "        'procbias'   : 'S20000101S0000_bias.fits',\n",
      "        'frames'     : [('S20000101S', '1-3')],\n",
      "    }\n",
      "}\n",
      "\n",
      "flats = {\n",
      "    'flat_20000101' : {\n",
      "        'procflat'   : 'S20000101S0001_flat_band.fits',\n",
      "        'frames'     : [('S20000101S', '1-3')],\n",
      "        'flatbias'   : biases['bias_20000101']['procbias'],\n",
      "    }\n",
      "}\n",
      "\n",
      "science = {\n",
      "    'procsci'   : 'ngc6872_band.fits',\n",
      "    'sciroot'   : 'S20101101S',\n",
      "    'sciframes' : '1-3',\n",
      "    'scibias'   : biases['bias_20000101']['procbias'],\n",
      "    'sciflat'   : flats['flat_20000101']['procflat'],\n",
      "}\n",
      "\n",
      "logfile = 'NGC6872_band.log'\n",
      "\n",
      "# Automatically set directories to match structure from Step 0\n",
      "raw_path = os.path.join(rootdir, 'raw') + '/'\n",
      "redux_path = os.path.join(rootdir, 'redux') + '/'\n",
      "procbias_path = os.path.join(rootdir, 'calib', 'bias') + '/'\n",
      "procflat_path = os.path.join(rootdir, 'calib', 'flat') + '/'\n",
      "products_path = os.path.join(rootdir, 'products') + '/'\n",
      "\n",
      "# Change to work directory\n",
      "os.chdir(redux_path)\n"
     ],
     "language": "python",
     "metadata": {},
     "outputs": []
    },
    {
     "cell_type": "heading",
     "level": 4,
     "metadata": {},
     "source": [
      "Step 1.1.2: Load and initialize the package"
     ]
    },
    {
     "cell_type": "markdown",
     "metadata": {},
     "source": [
      "---> <strong>LAUNCH DS9 before proceeding further</strong>\n",
      "\n",
      "Load the package required for the Notebook session and reset tasks to the default parameters."
     ]
    },
    {
     "cell_type": "code",
     "collapsed": false,
     "input": [
      "from pyraf import iraf\n",
      "iraf.gemini()\n",
      "iraf.gmos()\n",
      "\n",
      "iraf.unlearn(iraf.gemini, iraf.gmos, iraf.gemtools)\n",
      "\n",
      "iraf.gmos.logfile = logfile\n",
      "\n",
      "iraf.set(stdimage='imtgmos')"
     ],
     "language": "python",
     "metadata": {},
     "outputs": []
    },
    {
     "cell_type": "heading",
     "level": 3,
     "metadata": {},
     "source": [
      "STEP 1.2: Set up the PyRAF session"
     ]
    },
    {
     "cell_type": "markdown",
     "metadata": {},
     "source": [
      "The commands shown here need to be run from the shell.\n",
      "\n",
      "Open an xterm or a Terminal, then:\n",
      "\n",
      "    cd /data/workspace/DRWorkshopAAO/redux\n",
      "    pyraf\n",
      "\n",
      "Then in the PyRAF session:\n",
      "\n",
      "    gemini\n",
      "    gmos\n",
      "    unlearn gemini\n",
      "    unlearn gmos\n",
      "    unlearn gemtools\n",
      "\n",
      "Get your PyRAF configured.  In the PyRAF session:\n",
      "\n",
      "    iraf.gmos.logfile = \"NGC6872_band.log\"\n",
      "    set stdimage=imtgmos\n"
     ]
    },
    {
     "cell_type": "heading",
     "level": 2,
     "metadata": {},
     "source": [
      "STEP 2: Create the file lists"
     ]
    },
    {
     "cell_type": "code",
     "collapsed": false,
     "input": [
      "os.chdir(redux_path)\n",
      "\n",
      "# delete any pre-existing lists\n",
      "iraf.delete('*.lis', verify='no')\n",
      "\n",
      "# EDIT HERE - the bias_??? and flat_??? need editing to match your observations.\n",
      "\n",
      "# biases\n",
      "#  bias that matches the science\n",
      "for (root, frames) in biases['bias_20000101']['frames']:\n",
      "    iraf.gemlist(root, frames, Stdout='tmp_'+root+'.lis')\n",
      "iraf.concat('tmp_*.lis', 'bias_20000101.lis')\n",
      "iraf.delete('tmp_*.lis', verify='no')\n",
      "\n",
      "# if another bias is needed, eg. for the twilight flat\n",
      "#for (root, frames) in biases['bias_20000101']['frames']:\n",
      "#    iraf.gemlist(root, frames, Stdout='tmp_'+root+'.lis')\n",
      "#iraf.concat('tmp_*.lis', 'bias_20000101.lis')\n",
      "#iraf.delete('tmp_*.lis', verify='no')\n",
      "\n",
      "\n",
      "# flats\n",
      "for (root, frames) in flats['flat_20000101']['frames']:\n",
      "    iraf.gemlist(root, frames, Stdout='tmp_'+root+'.lis')\n",
      "iraf.concat('tmp_*.lis', 'flat_20000101.lis')\n",
      "iraf.delete('tmp_*.lis', verify='no')\n",
      "\n",
      "\n",
      "# science\n",
      "iraf.gemlist(science['sciroot'], science['sciframes'], \\\n",
      "             Stdout='sci.lis')\n",
      "\n",
      "# Get a full list\n",
      "iraf.concat('*.lis', 'all.lis')"
     ],
     "language": "python",
     "metadata": {},
     "outputs": []
    },
    {
     "cell_type": "heading",
     "level": 2,
     "metadata": {},
     "source": [
      "STEP 3: Visually inspect all the data"
     ]
    },
    {
     "cell_type": "code",
     "collapsed": false,
     "input": [
      "all_files = open('all.lis', 'r')\n",
      "for line in all_files:\n",
      "    image = line.strip() + '[1]'\n",
      "    print image\n",
      "    iraf.gdisplay(raw_path + image, 1, fl_paste='no')\n",
      "    iraf.sleep(5)\n",
      "    \n",
      "all_files.close()"
     ],
     "language": "python",
     "metadata": {},
     "outputs": []
    },
    {
     "cell_type": "heading",
     "level": 2,
     "metadata": {},
     "source": [
      "STEP 4: Process the biases"
     ]
    },
    {
     "cell_type": "markdown",
     "metadata": {},
     "source": [
      "This will produce the bias(es) defined above.  That/Those bias(es) will be used later to process the science frames and the twilight flats.\n",
      "\n",
      "The raw biases go through basic processing then are combined to produce the master bias."
     ]
    },
    {
     "cell_type": "code",
     "collapsed": false,
     "input": [
      "os.chdir(redux_path)\n",
      "\n",
      "for biaskey in biases.keys():\n",
      "    iraf.imdelete(biases[biaskey]['procbias'], verify='no')\n",
      "    iraf.imdelete('g//@'+biaskey+'.lis', verify='no')\n",
      "\n",
      "    print 'Creating bias ', biases[biaskey]['procbias']\n",
      "    iraf.gbias('@'+biaskey+'.lis', outbias=biases[biaskey]['procbias'], \\\n",
      "               rawpath=raw_path, fl_over='yes', fl_trim='yes', \\\n",
      "               fl_vardq='yes')\n",
      "    shutil.copy(biases[biaskey]['procbias'], procbias_path)"
     ],
     "language": "python",
     "metadata": {},
     "outputs": []
    },
    {
     "cell_type": "heading",
     "level": 4,
     "metadata": {},
     "source": [
      "Check that the biases have been copied over to the \"calib\" directory"
     ]
    },
    {
     "cell_type": "code",
     "collapsed": false,
     "input": [
      "# The processed biases are:\n",
      "for biaskey in biases.keys():\n",
      "    print biases[biaskey]['procbias']\n",
      "\n",
      "print 'Content of \"calib/bias/\"'\n",
      "os.listdir(procbias_path)"
     ],
     "language": "python",
     "metadata": {},
     "outputs": []
    },
    {
     "cell_type": "heading",
     "level": 4,
     "metadata": {},
     "source": [
      "Visually inspect the processed biases"
     ]
    },
    {
     "cell_type": "code",
     "collapsed": false,
     "input": [
      "# WARNING: interactive.  It launches imexam.  Type 'q' to quit.\n",
      "for biaskey in biases.keys():\n",
      "    iraf.gdisplay(os.path.join(procbias_path, biases[biaskey]['procbias']), 1, fl_paste='yes')"
     ],
     "language": "python",
     "metadata": {},
     "outputs": []
    },
    {
     "cell_type": "heading",
     "level": 2,
     "metadata": {},
     "source": [
      "STEP 5: Process the twilight flats"
     ]
    },
    {
     "cell_type": "markdown",
     "metadata": {},
     "source": [
      "This will produce the twilight flat defined above.  That flat will be used later to process the science frames."
     ]
    },
    {
     "cell_type": "heading",
     "level": 3,
     "metadata": {},
     "source": [
      "STEP 5.1: Basic processing of the raw flats"
     ]
    },
    {
     "cell_type": "code",
     "collapsed": false,
     "input": [
      "os.chdir(redux_path)\n",
      "\n",
      "for flatkey in flats.keys():\n",
      "    iraf.imdelete('g//@'+flatkey+'.lis', verify='no')\n",
      "    iraf.imdelete('rg//@'+flatkey+'.lis', verify='no')\n",
      "    \n",
      "    flatlist = flatkey+'.lis'\n",
      "    procbias = os.path.join(procbias_path, flats[flatkey]['flatbias'])\n",
      "    \n",
      "    print 'Processing raw twilight flats'\n",
      "    \n",
      "    # gprepare and bias correct the raw flats\n",
      "    iraf.gireduce('@'+flatlist, rawpath=raw_path, \\\n",
      "                  fl_over='yes', fl_trim='yes', \\\n",
      "                  fl_bias='yes', bias=procbias, fl_flat='no', \\\n",
      "                  fl_vardq='yes')"
     ],
     "language": "python",
     "metadata": {},
     "outputs": []
    },
    {
     "cell_type": "heading",
     "level": 3,
     "metadata": {},
     "source": [
      "STEP 5.2: Create the processed flat field"
     ]
    },
    {
     "cell_type": "code",
     "collapsed": false,
     "input": [
      "os.chdir(redux_path)\n",
      "\n",
      "for flatkey in flats.keys():\n",
      "    iraf.imdelete(flats[flatkey]['procflat'], verify='no')\n",
      "    \n",
      "    flatlist = flatkey+'.lis'\n",
      "    procflat = flats[flatkey]['procflat']\n",
      "    \n",
      "    print 'Creating twilight flat ', procflat\n",
      "    \n",
      "    # Create the processed flat\n",
      "    iraf.giflat('rg//@'+flatlist, outflat=procflat, fl_vardq='yes')\n",
      "    \n",
      "    # Copy the processed flat to the calibration directory\n",
      "    shutil.copy(procflat, procflat_path)"
     ],
     "language": "python",
     "metadata": {},
     "outputs": []
    },
    {
     "cell_type": "heading",
     "level": 4,
     "metadata": {},
     "source": [
      "Check that the flat has been copied over to the \"calib\" directory"
     ]
    },
    {
     "cell_type": "code",
     "collapsed": false,
     "input": [
      "# The processed flats are:\n",
      "for flatkey in flats.keys():\n",
      "    print flats[flatkey]['procflat']\n",
      "\n",
      "print 'Content of \"calib/flat/\"'\n",
      "os.listdir(procflat_path)"
     ],
     "language": "python",
     "metadata": {},
     "outputs": []
    },
    {
     "cell_type": "heading",
     "level": 4,
     "metadata": {},
     "source": [
      "Visually inspect the processed twilight flats"
     ]
    },
    {
     "cell_type": "code",
     "collapsed": false,
     "input": [
      "for flatkey in flats.keys():\n",
      "    iraf.gdisplay(os.path.join(procflat_path, flats[flatkey]['procflat']), 1, fl_paste='yes')"
     ],
     "language": "python",
     "metadata": {},
     "outputs": []
    },
    {
     "cell_type": "heading",
     "level": 2,
     "metadata": {},
     "source": [
      "<strike>STEP 6: Process the fringe frame</strike>"
     ]
    },
    {
     "cell_type": "heading",
     "level": 2,
     "metadata": {},
     "source": [
      "STEP 7: Process the target"
     ]
    },
    {
     "cell_type": "markdown",
     "metadata": {},
     "source": [
      "There is no significant fringing in the r-band and g-band.  No extra fringing correction will be necessary.  If you do want to learn about how to correct for fringing, see the i-band notebook.\n",
      "\n",
      "All we need to do here is the straighforward processing, i.e. the bias and flat correction.  (And overscan and trim.)"
     ]
    },
    {
     "cell_type": "heading",
     "level": 3,
     "metadata": {},
     "source": [
      "STEP 7.1: Bias and flat fielding of the target"
     ]
    },
    {
     "cell_type": "code",
     "collapsed": false,
     "input": [
      "os.chdir(redux_path)\n",
      "\n",
      "iraf.imdelete('g//@sci.lis', verify='no')\n",
      "iraf.imdelete('rg//@sci.lis', verify='no')\n",
      "\n",
      "iraf.gireduce('@sci.lis', rawpath=raw_path, fl_over='yes', fl_trim='yes', \\\n",
      "              fl_bias='yes', bias=science['scibias'], \\\n",
      "              fl_flat='yes', flat1=science['sciflat'], \\\n",
      "              fl_vardq='yes')"
     ],
     "language": "python",
     "metadata": {},
     "outputs": []
    },
    {
     "cell_type": "heading",
     "level": 4,
     "metadata": {},
     "source": [
      "Visually inspect the reduce science frames"
     ]
    },
    {
     "cell_type": "code",
     "collapsed": false,
     "input": [
      "sciframes = open('sci.lis', 'r')\n",
      "for line in sciframes:\n",
      "    frame = line.strip()\n",
      "    iraf.gdisplay('rg'+frame, 1, fl_paste='yes')\n",
      "sciframes.close()"
     ],
     "language": "python",
     "metadata": {},
     "outputs": []
    },
    {
     "cell_type": "heading",
     "level": 3,
     "metadata": {},
     "source": [
      "<strike>STEP 7.2: Fringe removal</strike>"
     ]
    },
    {
     "cell_type": "heading",
     "level": 2,
     "metadata": {},
     "source": [
      "STEP 8: Mosaic the reduced target frames"
     ]
    },
    {
     "cell_type": "markdown",
     "metadata": {},
     "source": [
      "GMOS uses 3 CCDs.  Depending on the generation of CCDs, they could be read with 1, 2, or 4 amplifiers.  Each amplifier creates one MEF extension.  GMOS data can have 3, 6, or 12 science extension.  The mosaic step tile and align them all correctly into one single extension.\n",
      "\n",
      "Here we are using GMOS-S 2010 data.  The CCDs were read with only one amplifier, thus only three science extensions, one per CCD need to be mosaic.  (Nothing special needs to be done, gmosaic recognizes the data and do the appropriate thing.)"
     ]
    },
    {
     "cell_type": "code",
     "collapsed": false,
     "input": [
      "iraf.imdelete('mrg//@sci.lis', verify='no')\n",
      "\n",
      "iraf.gmosaic('rg//@sci.lis', fl_vardq='yes')"
     ],
     "language": "python",
     "metadata": {},
     "outputs": []
    },
    {
     "cell_type": "heading",
     "level": 4,
     "metadata": {},
     "source": [
      "Visually inspect the mosaiced frames"
     ]
    },
    {
     "cell_type": "code",
     "collapsed": false,
     "input": [
      "sciframes = open('sci.lis', 'r')\n",
      "for line in sciframes:\n",
      "    frame = line.strip()\n",
      "    iraf.gdisplay('mrg'+frame, 1, z2=20000, fl_paste='yes')\n",
      "sciframes.close()"
     ],
     "language": "python",
     "metadata": {},
     "outputs": []
    },
    {
     "cell_type": "heading",
     "level": 2,
     "metadata": {},
     "source": [
      "STEP 9: Align and stack the mosaic target frames"
     ]
    },
    {
     "cell_type": "markdown",
     "metadata": {},
     "source": [
      "The observations were dithered.  This allows for easy removal of cosmic rays and the elimination of the CCD gaps."
     ]
    },
    {
     "cell_type": "code",
     "collapsed": false,
     "input": [
      "iraf.imdelete(science['procsci'], verify='no')\n",
      "\n",
      "iraf.imcoadd('mrg//@sci.lis', outimage=science['procsci'], logfile=logfile)"
     ],
     "language": "python",
     "metadata": {},
     "outputs": []
    },
    {
     "cell_type": "heading",
     "level": 2,
     "metadata": {},
     "source": [
      "STEP 10: Inspect and save product"
     ]
    },
    {
     "cell_type": "code",
     "collapsed": false,
     "input": [
      "iraf.display(science['procsci']+'[sci,1]', 1, \\\n",
      "             zrange='no', zscale='no', z1=1000, z2=20000)\n",
      "\n",
      "shutil.copy(science['procsci'], products_path)\n",
      "\n",
      "# Final reduced image\n",
      "print 'Final image: ', science['procsci']\n",
      "print 'Content of the \"products\" directory:'\n",
      "os.listdir(products_path)"
     ],
     "language": "python",
     "metadata": {},
     "outputs": []
    },
    {
     "cell_type": "code",
     "collapsed": false,
     "input": [],
     "language": "python",
     "metadata": {},
     "outputs": []
    }
   ],
   "metadata": {}
  }
 ]
}