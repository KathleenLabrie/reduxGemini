{
 "metadata": {
  "name": "",
  "signature": "sha256:f20f4b89328f04388a7796830ae59c8f3c663639dba6e784fbf42fd7c88c0b35"
 },
 "nbformat": 3,
 "nbformat_minor": 0,
 "worksheets": [
  {
   "cells": [
    {
     "cell_type": "heading",
     "level": 1,
     "metadata": {},
     "source": [
      "Tutorial: GMOS Imaging Reduction - NGC 3310 - r-band"
     ]
    },
    {
     "cell_type": "heading",
     "level": 2,
     "metadata": {},
     "source": [
      "Datasets:"
     ]
    },
    {
     "cell_type": "markdown",
     "metadata": {},
     "source": [
      "<table>\n",
      "  <tr><td><strong>Science observation UT date(s)</strong></td>\n",
      "      <td>2015 Dec 14</td>\n",
      "      </tr>\n",
      "  <tr><td><strong>Data filename prefix(es)</strong></td>\n",
      "      <td>N20151214S</td>\n",
      "      </tr>\n",
      "</table>"
     ]
    },
    {
     "cell_type": "heading",
     "level": 4,
     "metadata": {},
     "source": [
      "Target Frames"
     ]
    },
    {
     "cell_type": "markdown",
     "metadata": {},
     "source": [
      "<table>\n",
      "<tr><td>Science</td><td>N20151214S</td><td>243-246</td><td>binning 2x2</td></tr>\n",
      "<tr><td>Processed Bias</td><td>for 20151214</td><td>N20151214S0346_bias.fits</td><td></td></tr>\n",
      "<tr><td>Processed Twilight Flat</td><td>for 20151214</td><td>N20151208S0225_flat_r.fits</td><td></td></tr>\n",
      "<tr><td>Processed Fringe Frame</td><td>N/A</td><td>N/A</td><td></td></tr>\n",
      "</table>"
     ]
    },
    {
     "cell_type": "heading",
     "level": 4,
     "metadata": {},
     "source": [
      "Fringe Frames"
     ]
    },
    {
     "cell_type": "markdown",
     "metadata": {},
     "source": [
      "N/A"
     ]
    },
    {
     "cell_type": "heading",
     "level": 4,
     "metadata": {},
     "source": [
      "Twilight Flats"
     ]
    },
    {
     "cell_type": "markdown",
     "metadata": {},
     "source": [
      "<table>\n",
      "<tr><td colspan=3>Processed: <strong>N20151208S0225_flat_r.fits</strong></td></tr>\n",
      "<tr><td>Twilight Frames</td><td>N20151208S</td><td>225-233</td><td>binning 2x2</td></tr>\n",
      "<tr><td>Processed Bias</td><td>for 20151208</td><td>N20151208S0272_bias.fits</td><td></td></tr>\n",
      "</table>"
     ]
    },
    {
     "cell_type": "heading",
     "level": 4,
     "metadata": {},
     "source": [
      "Biases"
     ]
    },
    {
     "cell_type": "markdown",
     "metadata": {},
     "source": [
      "<table>\n",
      "<tr><td colspan=3>Processed: <strong>N20151214S0346_bias.fits</strong></td></tr>\n",
      "<tr><td rowspan=1>Biases</td><td>N20151214S</td><td>346-350</td><td>binning 2x2</td></tr>\n",
      "</table>"
     ]
    },
    {
     "cell_type": "markdown",
     "metadata": {},
     "source": [
      "<table>\n",
      "<tr><td colspan=3>Processed: <strong>N20151208S0272_bias.fits</strong></td></tr>\n",
      "<tr><td>Biases</td><td>N20151208S</td><td>272-276</td><td>binning 2x2</td></tr>\n",
      "</table>"
     ]
    },
    {
     "cell_type": "heading",
     "level": 2,
     "metadata": {},
     "source": [
      "STEP 0: Directory structure used by this Notebook"
     ]
    },
    {
     "cell_type": "markdown",
     "metadata": {},
     "source": [
      "The directory paths used in this notebook are assumed to match this structure:\n",
      "\n",
      "    rootdir/\n",
      "        calib/\n",
      "            bias/\n",
      "            flat/\n",
      "            fringe/\n",
      "        raw/\n",
      "        redux/"
     ]
    },
    {
     "cell_type": "heading",
     "level": 2,
     "metadata": {},
     "source": [
      "STEP 1: Set up the Notebook and the PyRAF session"
     ]
    },
    {
     "cell_type": "markdown",
     "metadata": {},
     "source": [
      "The data processing will happen in the Notebook.  It is also convenient to have a PyRAF interactive session ready to use if needed, eg. to imexam.  In this step, we will configure the Notebook and the PyRAF session.  \n",
      "\n",
      "This step needs to be repeated everytime the Notebook and/or the PyRAF session is restarted."
     ]
    },
    {
     "cell_type": "heading",
     "level": 3,
     "metadata": {},
     "source": [
      "STEP 1.1: Set up the Notebook"
     ]
    },
    {
     "cell_type": "heading",
     "level": 4,
     "metadata": {},
     "source": [
      "STEP 1.1.1: Set up the variables."
     ]
    },
    {
     "cell_type": "code",
     "collapsed": false,
     "input": [
      "import os\n",
      "import os.path\n",
      "import shutil\n",
      "\n",
      "# WARNING: Make sure that the directory structure given in Step 0 \n",
      "#          is already in place.\n",
      "\n",
      "# EDIT HERE - Directories\n",
      "rootdir = '/data/workspace/DRWorkshopAAO/NGC3310'\n",
      "\n",
      "# EDIT HERE - File numbers and file names\n",
      "biases = {\n",
      "    'bias_20151214' : {\n",
      "        'procbias' : 'N20151214S0346_bias.fits',\n",
      "        'frames'   : [('N20151214S', '346-350'),\n",
      "                     ]\n",
      "    },\n",
      "    'bias_20151208' : {\n",
      "        'procbias'   : 'N20151208S0272_bias.fits',\n",
      "        'frames'     : [('N20151208S', '272-276')],\n",
      "    }\n",
      "}\n",
      "\n",
      "flats = {\n",
      "    'flat_20151208' : {\n",
      "        'procflat'   : 'N20151208S0225_flat_r.fits',\n",
      "        'frames'     : [('N20151208S', '225-233')],\n",
      "        'flatbias'   : biases['bias_20151208']['procbias'],\n",
      "    }\n",
      "}\n",
      "\n",
      "science = {\n",
      "    'procsci'   : 'ngc3310_r.fits',\n",
      "    'sciroot'   : 'N20151214S',\n",
      "    'sciframes' : '243-246',\n",
      "    'scibias'   : biases['bias_20151214']['procbias'],\n",
      "    'sciflat'   : flats['flat_20151208']['procflat'],\n",
      "    #'scifringe' : fringes['fringe_20101111']['procfringe'],\n",
      "}\n",
      "\n",
      "logfile = 'NGC3310_r.log'\n",
      "\n",
      "# Automatically set directories to match structure from Step 0\n",
      "raw_path = os.path.join(rootdir, 'raw') + '/'\n",
      "redux_path = os.path.join(rootdir, 'redux') + '/'\n",
      "procbias_path = os.path.join(rootdir, 'calib', 'bias') + '/'\n",
      "procflat_path = os.path.join(rootdir, 'calib', 'flat') + '/'\n",
      "procfringe_path = os.path.join(rootdir, 'calib', 'fringe') + '/'\n",
      "products_path = os.path.join(rootdir, 'products') + '/'\n",
      "\n",
      "# Change to work directory\n",
      "os.chdir(redux_path)\n"
     ],
     "language": "python",
     "metadata": {},
     "outputs": [],
     "prompt_number": 1
    },
    {
     "cell_type": "heading",
     "level": 4,
     "metadata": {},
     "source": [
      "Step 1.1.2: Load and initialize the package"
     ]
    },
    {
     "cell_type": "markdown",
     "metadata": {},
     "source": [
      "---> <strong>LAUNCH DS9 before proceeding further</strong>\n",
      "\n",
      "Load the package required for the Notebook session and reset tasks to the default parameters."
     ]
    },
    {
     "cell_type": "code",
     "collapsed": false,
     "input": [
      "from pyraf import iraf\n",
      "iraf.gemini()\n",
      "iraf.gmos()\n",
      "\n",
      "iraf.unlearn(iraf.gemini, iraf.gmos, iraf.gemtools)\n",
      "\n",
      "iraf.gmos.logfile = logfile\n",
      "\n",
      "iraf.set(stdimage='imtgmos')"
     ],
     "language": "python",
     "metadata": {},
     "outputs": [
      {
       "output_type": "stream",
       "stream": "stdout",
       "text": [
        "This is the initial release of the IRAF FITSUTIL package\n",
        "to include support for FITS tile compression via 'fpack'.\n",
        "Please send comments and questions to seaman@noao.edu.\n",
        "\n",
        " \n",
        "     +------------------- Gemini IRAF Package -------------------+\n",
        "     |             Version 1.13.1, December 7, 2015              |\n",
        "     |             Requires IRAF v2.14.1 or greater              |\n",
        "     |              Tested with Ureka IRAF v2.16                 |\n",
        "     |             Gemini Observatory, Hilo, Hawaii              |\n",
        "     |    Please use the help desk for submission of questions   |\n",
        "     |  http://www.gemini.edu/sciops/helpdesk/helpdeskIndex.html |\n",
        "     +-----------------------------------------------------------+\n",
        " \n",
        "     Warning setting imtype=fits\n",
        "     Warning setting use_new_imt=no\n",
        " \n",
        "gemini/:\n",
        " f2/            gemtools/       gsaoi/          niri/\n",
        " flamingos/     gmos/           midir/          oscir/\n",
        " gemlocal/      gnirs/          nifs/           quirc/\n",
        "gmos/:"
       ]
      },
      {
       "output_type": "stream",
       "stream": "stdout",
       "text": [
        "\n",
        " gbias          gfquick         gmosaic         gsappwave       gssdist\n",
        " gbpm           gfreduce        gmosexamples    gscalibrate     gsskysub\n",
        " gdark          gfresponse      gmosinfo        gscrmask        gsslitfunction\n",
        " gdisplay       gfscatsub       gmosinfoifu     gscrrej         gsstandard\n",
        " gfapsum        gfskysub        gmosinfoimag    gscut           gstransform\n",
        " gfcombine      gftransform     gmosinfospec    gsdrawslits     gswavelength\n",
        " gfcopy         giflat          gnscombine      gsextract       mostools/\n",
        " gfcube         gifringe        gnsdark         gsflat\n",
        " gfdisplay      giillum         gnsskysub       gsfquick\n",
        " gfextract      gireduce        gprepare        gsreduce\n",
        " gffindblocks   girmfringe      gqecorr         gsscatsub\n"
       ]
      }
     ],
     "prompt_number": 2
    },
    {
     "cell_type": "heading",
     "level": 3,
     "metadata": {},
     "source": [
      "STEP 1.2: Set up the PyRAF session"
     ]
    },
    {
     "cell_type": "markdown",
     "metadata": {},
     "source": [
      "The commands shown here need to be run from the shell.\n",
      "\n",
      "Open an xterm or a Terminal, then:\n",
      "\n",
      "    cd /data/workspace/DRWorkshopAAO/NGC3310/redux\n",
      "    pyraf\n",
      "\n",
      "Then in the PyRAF session:\n",
      "\n",
      "    gemini\n",
      "    gmos\n",
      "    unlearn gemini\n",
      "    unlearn gmos\n",
      "    unlearn gemtools\n",
      "\n",
      "Get your PyRAF configured.  In the PyRAF session:\n",
      "\n",
      "    iraf.gmos.logfile = \"NGC3310_r.log\"\n",
      "    set stdimage=imtgmos\n"
     ]
    },
    {
     "cell_type": "heading",
     "level": 2,
     "metadata": {},
     "source": [
      "STEP 2: Create the file lists"
     ]
    },
    {
     "cell_type": "code",
     "collapsed": false,
     "input": [
      "os.chdir(redux_path)\n",
      "\n",
      "# delete any pre-existing lists\n",
      "iraf.delete('*.lis', verify='no')\n",
      "\n",
      "# biases\n",
      "for (root, frames) in biases['bias_20151214']['frames']:\n",
      "    iraf.gemlist(root, frames, Stdout='tmp_'+root+'.lis')\n",
      "iraf.concat('tmp_*.lis', 'bias_20151214.lis')\n",
      "iraf.delete('tmp_*.lis', verify='no')\n",
      "\n",
      "for (root, frames) in biases['bias_20151208']['frames']:\n",
      "    iraf.gemlist(root, frames, Stdout='tmp_'+root+'.lis')\n",
      "iraf.concat('tmp_*.lis', 'bias_20151208.lis')\n",
      "iraf.delete('tmp_*.lis', verify='no')\n",
      "\n",
      "\n",
      "# flats\n",
      "for (root, frames) in flats['flat_20151208']['frames']:\n",
      "    iraf.gemlist(root, frames, Stdout='tmp_'+root+'.lis')\n",
      "iraf.concat('tmp_*.lis', 'flat_20151208.lis')\n",
      "iraf.delete('tmp_*.lis', verify='no')\n",
      "\n",
      "\n",
      "# science\n",
      "iraf.gemlist(science['sciroot'], science['sciframes'], \\\n",
      "             Stdout='sci.lis')\n",
      "\n",
      "# Get a full list\n",
      "iraf.concat('*.lis', 'all.lis')"
     ],
     "language": "python",
     "metadata": {},
     "outputs": [],
     "prompt_number": 3
    },
    {
     "cell_type": "heading",
     "level": 2,
     "metadata": {},
     "source": [
      "STEP 3: Visually inspect all the data"
     ]
    },
    {
     "cell_type": "code",
     "collapsed": false,
     "input": [
      "all_files = open('all.lis', 'r')\n",
      "for line in all_files:\n",
      "    image = line.strip() + '[1]'\n",
      "    print image\n",
      "    iraf.gdisplay(raw_path + image, 1, fl_paste='no')\n",
      "    iraf.sleep(5)\n",
      "    \n",
      "all_files.close()"
     ],
     "language": "python",
     "metadata": {},
     "outputs": [
      {
       "output_type": "stream",
       "stream": "stdout",
       "text": [
        "N20151208S0272[1]\n",
        "\n",
        "GDISPLAY - Started: 2016-04-09T12:08:25\n",
        "\n"
       ]
      },
      {
       "output_type": "stream",
       "stream": "stdout",
       "text": [
        "GDISPLAY: Temporary image name tmpout4367oN20151208S0272.fits\n",
        "\n",
        "GMULTIAMP - Started: 2016-04-09T12:08:25\n",
        "\n"
       ]
      },
      {
       "output_type": "stream",
       "stream": "stdout",
       "text": [
        "\n",
        "GMULTIAMP - Finished: 2016-04-09T12:08:26\n",
        "GMULTIAMP - Exit status: GOOD\n",
        "\n"
       ]
      },
      {
       "output_type": "stream",
       "stream": "stdout",
       "text": [
        "GDISPLAY: Displaying image...\n",
        "\n",
        "GDISPLAY - Finished: 2016-04-09T12:08:28\n"
       ]
      },
      {
       "output_type": "stream",
       "stream": "stdout",
       "text": [
        "\n",
        "N20151208S0273[1]"
       ]
      },
      {
       "output_type": "stream",
       "stream": "stdout",
       "text": [
        "\n",
        "\n",
        "GDISPLAY - Started: 2016-04-09T12:08:33\n",
        "\n"
       ]
      },
      {
       "output_type": "stream",
       "stream": "stdout",
       "text": [
        "GDISPLAY: Temporary image name tmpout4367_10N20151208S0273.fits\n",
        "\n",
        "GMULTIAMP - Started: 2016-04-09T12:08:33\n",
        "\n"
       ]
      },
      {
       "output_type": "stream",
       "stream": "stdout",
       "text": [
        "\n",
        "GMULTIAMP - Finished: 2016-04-09T12:08:34\n",
        "GMULTIAMP - Exit status: GOOD\n",
        "\n"
       ]
      },
      {
       "output_type": "stream",
       "stream": "stdout",
       "text": [
        "GDISPLAY: Displaying image...\n",
        "\n",
        "GDISPLAY - Finished: 2016-04-09T12:08:36\n"
       ]
      },
      {
       "output_type": "stream",
       "stream": "stdout",
       "text": [
        "\n",
        "N20151208S0274[1]"
       ]
      },
      {
       "output_type": "stream",
       "stream": "stdout",
       "text": [
        "\n",
        "\n",
        "GDISPLAY - Started: 2016-04-09T12:08:41\n",
        "\n"
       ]
      },
      {
       "output_type": "stream",
       "stream": "stdout",
       "text": [
        "GDISPLAY: Temporary image name tmpout4367_31N20151208S0274.fits\n",
        "\n",
        "GMULTIAMP - Started: 2016-04-09T12:08:42\n",
        "\n"
       ]
      },
      {
       "output_type": "stream",
       "stream": "stdout",
       "text": [
        "\n",
        "GMULTIAMP - Finished: 2016-04-09T12:08:43\n",
        "GMULTIAMP - Exit status: GOOD\n",
        "\n"
       ]
      },
      {
       "output_type": "stream",
       "stream": "stdout",
       "text": [
        "GDISPLAY: Displaying image...\n",
        "\n",
        "GDISPLAY - Finished: 2016-04-09T12:08:45\n"
       ]
      },
      {
       "output_type": "stream",
       "stream": "stdout",
       "text": [
        "\n",
        "N20151208S0275[1]"
       ]
      },
      {
       "output_type": "stream",
       "stream": "stdout",
       "text": [
        "\n",
        "\n",
        "GDISPLAY - Started: 2016-04-09T12:08:50\n",
        "\n"
       ]
      },
      {
       "output_type": "stream",
       "stream": "stdout",
       "text": [
        "GDISPLAY: Temporary image name tmpout4367_52N20151208S0275.fits\n",
        "\n",
        "GMULTIAMP - Started: 2016-04-09T12:08:50\n",
        "\n"
       ]
      },
      {
       "output_type": "stream",
       "stream": "stdout",
       "text": [
        "\n",
        "GMULTIAMP - Finished: 2016-04-09T12:08:51\n",
        "GMULTIAMP - Exit status: GOOD\n",
        "\n"
       ]
      },
      {
       "output_type": "stream",
       "stream": "stdout",
       "text": [
        "GDISPLAY: Displaying image...\n",
        "\n",
        "GDISPLAY - Finished: 2016-04-09T12:08:53\n"
       ]
      },
      {
       "output_type": "stream",
       "stream": "stdout",
       "text": [
        "\n",
        "N20151208S0276[1]"
       ]
      },
      {
       "output_type": "stream",
       "stream": "stdout",
       "text": [
        "\n",
        "\n",
        "GDISPLAY - Started: 2016-04-09T12:08:58\n",
        "\n"
       ]
      },
      {
       "output_type": "stream",
       "stream": "stdout",
       "text": [
        "GDISPLAY: Temporary image name tmpout4367_73N20151208S0276.fits\n",
        "\n",
        "GMULTIAMP - Started: 2016-04-09T12:08:58\n",
        "\n"
       ]
      },
      {
       "output_type": "stream",
       "stream": "stdout",
       "text": [
        "\n",
        "GMULTIAMP - Finished: 2016-04-09T12:08:59\n",
        "GMULTIAMP - Exit status: GOOD\n",
        "\n"
       ]
      },
      {
       "output_type": "stream",
       "stream": "stdout",
       "text": [
        "GDISPLAY: Displaying image...\n",
        "\n",
        "GDISPLAY - Finished: 2016-04-09T12:09:01\n"
       ]
      },
      {
       "output_type": "stream",
       "stream": "stdout",
       "text": [
        "\n",
        "N20151214S0346[1]"
       ]
      },
      {
       "output_type": "stream",
       "stream": "stdout",
       "text": [
        "\n",
        "\n",
        "GDISPLAY - Started: 2016-04-09T12:09:06\n",
        "\n"
       ]
      },
      {
       "output_type": "stream",
       "stream": "stdout",
       "text": [
        "GDISPLAY: Temporary image name tmpout4367_94N20151214S0346.fits\n",
        "\n",
        "GMULTIAMP - Started: 2016-04-09T12:09:06\n",
        "\n"
       ]
      },
      {
       "output_type": "stream",
       "stream": "stdout",
       "text": [
        "\n",
        "GMULTIAMP - Finished: 2016-04-09T12:09:07\n",
        "GMULTIAMP - Exit status: GOOD\n",
        "\n"
       ]
      },
      {
       "output_type": "stream",
       "stream": "stdout",
       "text": [
        "GDISPLAY: Displaying image...\n",
        "\n",
        "GDISPLAY - Finished: 2016-04-09T12:09:09\n"
       ]
      },
      {
       "output_type": "stream",
       "stream": "stdout",
       "text": [
        "\n",
        "N20151214S0347[1]"
       ]
      },
      {
       "output_type": "stream",
       "stream": "stdout",
       "text": [
        "\n",
        "\n",
        "GDISPLAY - Started: 2016-04-09T12:09:14\n",
        "\n"
       ]
      },
      {
       "output_type": "stream",
       "stream": "stdout",
       "text": [
        "GDISPLAY: Temporary image name tmpout4367_115N20151214S0347.fits\n",
        "\n",
        "GMULTIAMP - Started: 2016-04-09T12:09:14\n",
        "\n"
       ]
      },
      {
       "output_type": "stream",
       "stream": "stdout",
       "text": [
        "\n",
        "GMULTIAMP - Finished: 2016-04-09T12:09:15\n",
        "GMULTIAMP - Exit status: GOOD\n",
        "\n"
       ]
      },
      {
       "output_type": "stream",
       "stream": "stdout",
       "text": [
        "GDISPLAY: Displaying image...\n",
        "\n",
        "GDISPLAY - Finished: 2016-04-09T12:09:17\n"
       ]
      },
      {
       "output_type": "stream",
       "stream": "stdout",
       "text": [
        "\n",
        "N20151214S0348[1]"
       ]
      },
      {
       "output_type": "stream",
       "stream": "stdout",
       "text": [
        "\n",
        "\n",
        "GDISPLAY - Started: 2016-04-09T12:09:22\n",
        "\n"
       ]
      },
      {
       "output_type": "stream",
       "stream": "stdout",
       "text": [
        "GDISPLAY: Temporary image name tmpout4367_136N20151214S0348.fits\n",
        "\n",
        "GMULTIAMP - Started: 2016-04-09T12:09:22\n",
        "\n"
       ]
      },
      {
       "output_type": "stream",
       "stream": "stdout",
       "text": [
        "\n",
        "GMULTIAMP - Finished: 2016-04-09T12:09:23\n",
        "GMULTIAMP - Exit status: GOOD\n",
        "\n"
       ]
      },
      {
       "output_type": "stream",
       "stream": "stdout",
       "text": [
        "GDISPLAY: Displaying image...\n",
        "\n",
        "GDISPLAY - Finished: 2016-04-09T12:09:26\n"
       ]
      },
      {
       "output_type": "stream",
       "stream": "stdout",
       "text": [
        "\n",
        "N20151214S0349[1]"
       ]
      },
      {
       "output_type": "stream",
       "stream": "stdout",
       "text": [
        "\n",
        "\n",
        "GDISPLAY - Started: 2016-04-09T12:09:31\n",
        "\n"
       ]
      },
      {
       "output_type": "stream",
       "stream": "stdout",
       "text": [
        "GDISPLAY: Temporary image name tmpout4367_157N20151214S0349.fits\n",
        "\n",
        "GMULTIAMP - Started: 2016-04-09T12:09:31\n",
        "\n"
       ]
      },
      {
       "output_type": "stream",
       "stream": "stdout",
       "text": [
        "\n",
        "GMULTIAMP - Finished: 2016-04-09T12:09:32\n",
        "GMULTIAMP - Exit status: GOOD\n",
        "\n"
       ]
      },
      {
       "output_type": "stream",
       "stream": "stdout",
       "text": [
        "GDISPLAY: Displaying image...\n",
        "\n",
        "GDISPLAY - Finished: 2016-04-09T12:09:34\n"
       ]
      },
      {
       "output_type": "stream",
       "stream": "stdout",
       "text": [
        "\n",
        "N20151214S0350[1]"
       ]
      },
      {
       "output_type": "stream",
       "stream": "stdout",
       "text": [
        "\n",
        "\n",
        "GDISPLAY - Started: 2016-04-09T12:09:39\n",
        "\n"
       ]
      },
      {
       "output_type": "stream",
       "stream": "stdout",
       "text": [
        "GDISPLAY: Temporary image name tmpout4367_178N20151214S0350.fits\n",
        "\n",
        "GMULTIAMP - Started: 2016-04-09T12:09:39\n",
        "\n"
       ]
      },
      {
       "output_type": "stream",
       "stream": "stdout",
       "text": [
        "\n",
        "GMULTIAMP - Finished: 2016-04-09T12:09:40\n",
        "GMULTIAMP - Exit status: GOOD\n",
        "\n"
       ]
      },
      {
       "output_type": "stream",
       "stream": "stdout",
       "text": [
        "GDISPLAY: Displaying image...\n",
        "\n",
        "GDISPLAY - Finished: 2016-04-09T12:09:42\n"
       ]
      },
      {
       "output_type": "stream",
       "stream": "stdout",
       "text": [
        "\n",
        "N20151208S0225[1]"
       ]
      },
      {
       "output_type": "stream",
       "stream": "stdout",
       "text": [
        "\n",
        "\n",
        "GDISPLAY - Started: 2016-04-09T12:09:47\n",
        "\n"
       ]
      },
      {
       "output_type": "stream",
       "stream": "stdout",
       "text": [
        "GDISPLAY: Temporary image name tmpout4367_199N20151208S0225.fits\n",
        "\n",
        "GMULTIAMP - Started: 2016-04-09T12:09:47\n",
        "\n"
       ]
      },
      {
       "output_type": "stream",
       "stream": "stdout",
       "text": [
        "\n",
        "GMULTIAMP - Finished: 2016-04-09T12:09:48\n",
        "GMULTIAMP - Exit status: GOOD\n",
        "\n"
       ]
      },
      {
       "output_type": "stream",
       "stream": "stdout",
       "text": [
        "GDISPLAY: Displaying image...\n",
        "\n",
        "GDISPLAY - Finished: 2016-04-09T12:09:50\n"
       ]
      },
      {
       "output_type": "stream",
       "stream": "stdout",
       "text": [
        "\n",
        "N20151208S0226[1]"
       ]
      },
      {
       "output_type": "stream",
       "stream": "stdout",
       "text": [
        "\n",
        "\n",
        "GDISPLAY - Started: 2016-04-09T12:09:55\n",
        "\n"
       ]
      },
      {
       "output_type": "stream",
       "stream": "stdout",
       "text": [
        "GDISPLAY: Temporary image name tmpout4367_220N20151208S0226.fits\n",
        "\n",
        "GMULTIAMP - Started: 2016-04-09T12:09:55\n",
        "\n"
       ]
      },
      {
       "output_type": "stream",
       "stream": "stdout",
       "text": [
        "\n",
        "GMULTIAMP - Finished: 2016-04-09T12:09:56\n",
        "GMULTIAMP - Exit status: GOOD\n",
        "\n"
       ]
      },
      {
       "output_type": "stream",
       "stream": "stdout",
       "text": [
        "GDISPLAY: Displaying image...\n",
        "\n",
        "GDISPLAY - Finished: 2016-04-09T12:09:59\n"
       ]
      },
      {
       "output_type": "stream",
       "stream": "stdout",
       "text": [
        "\n",
        "N20151208S0227[1]"
       ]
      },
      {
       "output_type": "stream",
       "stream": "stdout",
       "text": [
        "\n",
        "\n",
        "GDISPLAY - Started: 2016-04-09T12:10:04\n",
        "\n"
       ]
      },
      {
       "output_type": "stream",
       "stream": "stdout",
       "text": [
        "GDISPLAY: Temporary image name tmpout4367_241N20151208S0227.fits\n",
        "\n",
        "GMULTIAMP - Started: 2016-04-09T12:10:04\n",
        "\n"
       ]
      },
      {
       "output_type": "stream",
       "stream": "stdout",
       "text": [
        "\n",
        "GMULTIAMP - Finished: 2016-04-09T12:10:05\n",
        "GMULTIAMP - Exit status: GOOD\n",
        "\n"
       ]
      },
      {
       "output_type": "stream",
       "stream": "stdout",
       "text": [
        "GDISPLAY: Displaying image...\n",
        "\n",
        "GDISPLAY - Finished: 2016-04-09T12:10:07\n"
       ]
      },
      {
       "output_type": "stream",
       "stream": "stdout",
       "text": [
        "\n",
        "N20151208S0228[1]"
       ]
      },
      {
       "output_type": "stream",
       "stream": "stdout",
       "text": [
        "\n",
        "\n",
        "GDISPLAY - Started: 2016-04-09T12:10:12\n",
        "\n"
       ]
      },
      {
       "output_type": "stream",
       "stream": "stdout",
       "text": [
        "GDISPLAY: Temporary image name tmpout4367_262N20151208S0228.fits\n",
        "\n",
        "GMULTIAMP - Started: 2016-04-09T12:10:12\n"
       ]
      },
      {
       "output_type": "stream",
       "stream": "stdout",
       "text": [
        "\n"
       ]
      },
      {
       "output_type": "stream",
       "stream": "stdout",
       "text": [
        "\n",
        "GMULTIAMP - Finished: 2016-04-09T12:10:13\n",
        "GMULTIAMP - Exit status: GOOD\n",
        "\n"
       ]
      },
      {
       "output_type": "stream",
       "stream": "stdout",
       "text": [
        "GDISPLAY: Displaying image...\n",
        "\n",
        "GDISPLAY - Finished: 2016-04-09T12:10:15\n"
       ]
      },
      {
       "output_type": "stream",
       "stream": "stdout",
       "text": [
        "\n",
        "N20151208S0229[1]"
       ]
      },
      {
       "output_type": "stream",
       "stream": "stdout",
       "text": [
        "\n",
        "\n",
        "GDISPLAY - Started: 2016-04-09T12:10:20\n",
        "\n"
       ]
      },
      {
       "output_type": "stream",
       "stream": "stdout",
       "text": [
        "GDISPLAY: Temporary image name tmpout4367_283N20151208S0229.fits\n",
        "\n",
        "GMULTIAMP - Started: 2016-04-09T12:10:20\n",
        "\n"
       ]
      },
      {
       "output_type": "stream",
       "stream": "stdout",
       "text": [
        "\n",
        "GMULTIAMP - Finished: 2016-04-09T12:10:21\n",
        "GMULTIAMP - Exit status: GOOD\n",
        "\n"
       ]
      },
      {
       "output_type": "stream",
       "stream": "stdout",
       "text": [
        "GDISPLAY: Displaying image...\n",
        "\n",
        "GDISPLAY - Finished: 2016-04-09T12:10:23\n"
       ]
      },
      {
       "output_type": "stream",
       "stream": "stdout",
       "text": [
        "\n",
        "N20151208S0230[1]"
       ]
      },
      {
       "output_type": "stream",
       "stream": "stdout",
       "text": [
        "\n",
        "\n",
        "GDISPLAY - Started: 2016-04-09T12:10:28\n",
        "\n"
       ]
      },
      {
       "output_type": "stream",
       "stream": "stdout",
       "text": [
        "GDISPLAY: Temporary image name tmpout4367_304N20151208S0230.fits\n",
        "\n",
        "GMULTIAMP - Started: 2016-04-09T12:10:28\n",
        "\n"
       ]
      },
      {
       "output_type": "stream",
       "stream": "stdout",
       "text": [
        "\n",
        "GMULTIAMP - Finished: 2016-04-09T12:10:30\n",
        "GMULTIAMP - Exit status: GOOD\n",
        "\n"
       ]
      },
      {
       "output_type": "stream",
       "stream": "stdout",
       "text": [
        "GDISPLAY: Displaying image...\n",
        "\n",
        "GDISPLAY - Finished: 2016-04-09T12:10:32\n"
       ]
      },
      {
       "output_type": "stream",
       "stream": "stdout",
       "text": [
        "\n",
        "N20151208S0231[1]"
       ]
      },
      {
       "output_type": "stream",
       "stream": "stdout",
       "text": [
        "\n",
        "\n",
        "GDISPLAY - Started: 2016-04-09T12:10:37\n",
        "\n"
       ]
      },
      {
       "output_type": "stream",
       "stream": "stdout",
       "text": [
        "GDISPLAY: Temporary image name tmpout4367_325N20151208S0231.fits\n",
        "\n",
        "GMULTIAMP - Started: 2016-04-09T12:10:37\n",
        "\n"
       ]
      },
      {
       "output_type": "stream",
       "stream": "stdout",
       "text": [
        "\n",
        "GMULTIAMP - Finished: 2016-04-09T12:10:38\n",
        "GMULTIAMP - Exit status: GOOD\n",
        "\n"
       ]
      },
      {
       "output_type": "stream",
       "stream": "stdout",
       "text": [
        "GDISPLAY: Displaying image...\n",
        "\n",
        "GDISPLAY - Finished: 2016-04-09T12:10:40\n"
       ]
      },
      {
       "output_type": "stream",
       "stream": "stdout",
       "text": [
        "\n",
        "N20151208S0232[1]"
       ]
      },
      {
       "output_type": "stream",
       "stream": "stdout",
       "text": [
        "\n",
        "\n",
        "GDISPLAY - Started: 2016-04-09T12:10:45\n",
        "\n"
       ]
      },
      {
       "output_type": "stream",
       "stream": "stdout",
       "text": [
        "GDISPLAY: Temporary image name tmpout4367_346N20151208S0232.fits\n",
        "\n",
        "GMULTIAMP - Started: 2016-04-09T12:10:45\n",
        "\n"
       ]
      },
      {
       "output_type": "stream",
       "stream": "stdout",
       "text": [
        "\n",
        "GMULTIAMP - Finished: 2016-04-09T12:10:46\n",
        "GMULTIAMP - Exit status: GOOD\n",
        "\n"
       ]
      },
      {
       "output_type": "stream",
       "stream": "stdout",
       "text": [
        "GDISPLAY: Displaying image...\n",
        "\n",
        "GDISPLAY - Finished: 2016-04-09T12:10:48\n"
       ]
      },
      {
       "output_type": "stream",
       "stream": "stdout",
       "text": [
        "\n",
        "N20151208S0233[1]"
       ]
      },
      {
       "output_type": "stream",
       "stream": "stdout",
       "text": [
        "\n",
        "\n",
        "GDISPLAY - Started: 2016-04-09T12:10:53\n",
        "\n"
       ]
      },
      {
       "output_type": "stream",
       "stream": "stdout",
       "text": [
        "GDISPLAY: Temporary image name tmpout4367_367N20151208S0233.fits\n",
        "\n",
        "GMULTIAMP - Started: 2016-04-09T12:10:53\n",
        "\n"
       ]
      },
      {
       "output_type": "stream",
       "stream": "stdout",
       "text": [
        "\n",
        "GMULTIAMP - Finished: 2016-04-09T12:10:54\n",
        "GMULTIAMP - Exit status: GOOD\n",
        "\n"
       ]
      },
      {
       "output_type": "stream",
       "stream": "stdout",
       "text": [
        "GDISPLAY: Displaying image...\n",
        "\n",
        "GDISPLAY - Finished: 2016-04-09T12:10:56\n"
       ]
      },
      {
       "output_type": "stream",
       "stream": "stdout",
       "text": [
        "\n",
        "N20151214S0243[1]"
       ]
      },
      {
       "output_type": "stream",
       "stream": "stdout",
       "text": [
        "\n",
        "\n",
        "GDISPLAY - Started: 2016-04-09T12:11:01\n",
        "\n"
       ]
      },
      {
       "output_type": "stream",
       "stream": "stdout",
       "text": [
        "GDISPLAY: Temporary image name tmpout4367_388N20151214S0243.fits\n",
        "\n",
        "GMULTIAMP - Started: 2016-04-09T12:11:02\n",
        "\n"
       ]
      },
      {
       "output_type": "stream",
       "stream": "stdout",
       "text": [
        "\n",
        "GMULTIAMP - Finished: 2016-04-09T12:11:03\n",
        "GMULTIAMP - Exit status: GOOD\n",
        "\n"
       ]
      },
      {
       "output_type": "stream",
       "stream": "stdout",
       "text": [
        "GDISPLAY: Displaying image...\n",
        "\n",
        "GDISPLAY - Finished: 2016-04-09T12:11:05\n"
       ]
      },
      {
       "output_type": "stream",
       "stream": "stdout",
       "text": [
        "\n",
        "N20151214S0244[1]"
       ]
      },
      {
       "output_type": "stream",
       "stream": "stdout",
       "text": [
        "\n",
        "\n",
        "GDISPLAY - Started: 2016-04-09T12:11:10\n",
        "\n"
       ]
      },
      {
       "output_type": "stream",
       "stream": "stdout",
       "text": [
        "GDISPLAY: Temporary image name tmpout4367_409N20151214S0244.fits\n",
        "\n",
        "GMULTIAMP - Started: 2016-04-09T12:11:10\n",
        "\n"
       ]
      },
      {
       "output_type": "stream",
       "stream": "stdout",
       "text": [
        "\n",
        "GMULTIAMP - Finished: 2016-04-09T12:11:11\n",
        "GMULTIAMP - Exit status: GOOD\n",
        "\n"
       ]
      },
      {
       "output_type": "stream",
       "stream": "stdout",
       "text": [
        "GDISPLAY: Displaying image...\n",
        "\n",
        "GDISPLAY - Finished: 2016-04-09T12:11:13\n"
       ]
      },
      {
       "output_type": "stream",
       "stream": "stdout",
       "text": [
        "\n",
        "N20151214S0245[1]"
       ]
      },
      {
       "output_type": "stream",
       "stream": "stdout",
       "text": [
        "\n",
        "\n",
        "GDISPLAY - Started: 2016-04-09T12:11:18\n",
        "\n"
       ]
      },
      {
       "output_type": "stream",
       "stream": "stdout",
       "text": [
        "GDISPLAY: Temporary image name tmpout4367_430N20151214S0245.fits\n",
        "\n",
        "GMULTIAMP - Started: 2016-04-09T12:11:18\n",
        "\n"
       ]
      },
      {
       "output_type": "stream",
       "stream": "stdout",
       "text": [
        "\n",
        "GMULTIAMP - Finished: 2016-04-09T12:11:19\n",
        "GMULTIAMP - Exit status: GOOD\n",
        "\n"
       ]
      },
      {
       "output_type": "stream",
       "stream": "stdout",
       "text": [
        "GDISPLAY: Displaying image...\n",
        "\n",
        "GDISPLAY - Finished: 2016-04-09T12:11:21\n"
       ]
      },
      {
       "output_type": "stream",
       "stream": "stdout",
       "text": [
        "\n",
        "N20151214S0246[1]"
       ]
      },
      {
       "output_type": "stream",
       "stream": "stdout",
       "text": [
        "\n",
        "\n",
        "GDISPLAY - Started: 2016-04-09T12:11:26\n",
        "\n"
       ]
      },
      {
       "output_type": "stream",
       "stream": "stdout",
       "text": [
        "GDISPLAY: Temporary image name tmpout4367_451N20151214S0246.fits\n",
        "\n",
        "GMULTIAMP - Started: 2016-04-09T12:11:26\n",
        "\n"
       ]
      },
      {
       "output_type": "stream",
       "stream": "stdout",
       "text": [
        "\n",
        "GMULTIAMP - Finished: 2016-04-09T12:11:27\n",
        "GMULTIAMP - Exit status: GOOD\n",
        "\n"
       ]
      },
      {
       "output_type": "stream",
       "stream": "stdout",
       "text": [
        "GDISPLAY: Displaying image...\n",
        "\n",
        "GDISPLAY - Finished: 2016-04-09T12:11:29\n"
       ]
      },
      {
       "output_type": "stream",
       "stream": "stdout",
       "text": [
        "\n"
       ]
      }
     ],
     "prompt_number": 4
    },
    {
     "cell_type": "heading",
     "level": 2,
     "metadata": {},
     "source": [
      "STEP 4: Process the biases"
     ]
    },
    {
     "cell_type": "markdown",
     "metadata": {},
     "source": [
      "This will produce the two biases defined above.  Those two biases will be used later to process the science frames, the twilight flats, and the fringe frames."
     ]
    },
    {
     "cell_type": "code",
     "collapsed": false,
     "input": [
      "os.chdir(redux_path)\n",
      "\n",
      "for biaskey in biases.keys():\n",
      "    iraf.imdelete(biases[biaskey]['procbias'], verify='no')\n",
      "    iraf.imdelete('g//@'+biaskey+'.lis', verify='no')\n",
      "\n",
      "    print 'Creating bias ', biases[biaskey]['procbias']\n",
      "    iraf.gbias('@'+biaskey+'.lis', outbias=biases[biaskey]['procbias'], \\\n",
      "               rawpath=raw_path, fl_over='yes', fl_trim='yes', \\\n",
      "               fl_vardq='yes')\n",
      "    shutil.copy(biases[biaskey]['procbias'], procbias_path)\n",
      "\n",
      "# The processed biases are:\n",
      "os.listdir(procbias_path)"
     ],
     "language": "python",
     "metadata": {},
     "outputs": [
      {
       "output_type": "stream",
       "stream": "stdout",
       "text": [
        "Creating bias  N20151208S0272_bias.fits\n",
        "----------------------------------------------------------------------------\n",
        "GBIAS -- Sat Apr  9 12:12:10 HST 2016\n",
        "\n",
        "Input images:\n",
        "  N20151208S0272\n",
        "  N20151208S0273\n",
        "  N20151208S0274\n",
        "  N20151208S0275\n",
        "  N20151208S0276"
       ]
      },
      {
       "output_type": "stream",
       "stream": "stdout",
       "text": [
        "\n",
        "\n",
        "Output bias image: N20151208S0272_bias.fits\n",
        " \n"
       ]
      },
      {
       "output_type": "stream",
       "stream": "stdout",
       "text": [
        "\n",
        "----------------------------------------------------------------------------"
       ]
      },
      {
       "output_type": "stream",
       "stream": "stdout",
       "text": [
        "\n",
        "GIREDUCE -- Sat Apr  9 12:12:11 HST 2016\n",
        "\n"
       ]
      },
      {
       "output_type": "stream",
       "stream": "stdout",
       "text": [
        "----------------------------------------------------------------------------\n",
        "GPREPARE -- Sat Apr  9 12:12:11 HST 2016\n",
        "\n",
        "Input list    = /data/workspace/DRWorkshopAAO/NGC3310/raw/N20151208S0272\n",
        "Output list   = \n",
        "Output prefix = g\n",
        "Raw path      = \n",
        "MDF dir       = gmos$data/\n",
        "Add MDF       = no\n",
        "\n"
       ]
      },
      {
       "output_type": "stream",
       "stream": "stdout",
       "text": [
        "Input  /data/workspace/DRWorkshopAAO/NGC3310/raw/N20151208S0272.fits   Output  gN20151208S0272.fits\n"
       ]
      },
      {
       "output_type": "stream",
       "stream": "stdout",
       "text": [
        "\n",
        "GPREPARE exit status: good.\n",
        "----------------------------------------------------------------------------\n"
       ]
      },
      {
       "output_type": "stream",
       "stream": "stdout",
       "text": [
        "----------------------------------------------------------------------------\n",
        "GPREPARE -- Sat Apr  9 12:12:12 HST 2016\n",
        "\n",
        "Input list    = /data/workspace/DRWorkshopAAO/NGC3310/raw/N20151208S0273\n",
        "Output list   = \n",
        "Output prefix = g\n",
        "Raw path      = \n",
        "MDF dir       = gmos$data/\n",
        "Add MDF       = no\n",
        "\n"
       ]
      },
      {
       "output_type": "stream",
       "stream": "stdout",
       "text": [
        "Input  /data/workspace/DRWorkshopAAO/NGC3310/raw/N20151208S0273.fits   Output  gN20151208S0273.fits\n"
       ]
      },
      {
       "output_type": "stream",
       "stream": "stdout",
       "text": [
        "\n",
        "GPREPARE exit status: good.\n",
        "----------------------------------------------------------------------------\n"
       ]
      },
      {
       "output_type": "stream",
       "stream": "stdout",
       "text": [
        "----------------------------------------------------------------------------\n",
        "GPREPARE -- Sat Apr  9 12:12:13 HST 2016\n",
        "\n",
        "Input list    = /data/workspace/DRWorkshopAAO/NGC3310/raw/N20151208S0274\n",
        "Output list   = \n",
        "Output prefix = g\n",
        "Raw path      = \n",
        "MDF dir       = gmos$data/\n",
        "Add MDF       = no\n",
        "\n"
       ]
      },
      {
       "output_type": "stream",
       "stream": "stdout",
       "text": [
        "Input  /data/workspace/DRWorkshopAAO/NGC3310/raw/N20151208S0274.fits   Output  gN20151208S0274.fits\n"
       ]
      },
      {
       "output_type": "stream",
       "stream": "stdout",
       "text": [
        "\n",
        "GPREPARE exit status: good.\n",
        "----------------------------------------------------------------------------\n"
       ]
      },
      {
       "output_type": "stream",
       "stream": "stdout",
       "text": [
        "----------------------------------------------------------------------------\n",
        "GPREPARE -- Sat Apr  9 12:12:15 HST 2016\n",
        "\n",
        "Input list    = /data/workspace/DRWorkshopAAO/NGC3310/raw/N20151208S0275\n",
        "Output list   = \n",
        "Output prefix = g\n",
        "Raw path      = \n",
        "MDF dir       = gmos$data/\n",
        "Add MDF       = no\n",
        "\n"
       ]
      },
      {
       "output_type": "stream",
       "stream": "stdout",
       "text": [
        "Input  /data/workspace/DRWorkshopAAO/NGC3310/raw/N20151208S0275.fits   Output  gN20151208S0275.fits\n"
       ]
      },
      {
       "output_type": "stream",
       "stream": "stdout",
       "text": [
        "\n",
        "GPREPARE exit status: good.\n",
        "----------------------------------------------------------------------------\n"
       ]
      },
      {
       "output_type": "stream",
       "stream": "stdout",
       "text": [
        "----------------------------------------------------------------------------\n",
        "GPREPARE -- Sat Apr  9 12:12:16 HST 2016\n",
        "\n",
        "Input list    = /data/workspace/DRWorkshopAAO/NGC3310/raw/N20151208S0276\n",
        "Output list   = \n",
        "Output prefix = g\n",
        "Raw path      = \n",
        "MDF dir       = gmos$data/\n",
        "Add MDF       = no\n",
        "\n"
       ]
      },
      {
       "output_type": "stream",
       "stream": "stdout",
       "text": [
        "Input  /data/workspace/DRWorkshopAAO/NGC3310/raw/N20151208S0276.fits   Output  gN20151208S0276.fits\n"
       ]
      },
      {
       "output_type": "stream",
       "stream": "stdout",
       "text": [
        "\n",
        "GPREPARE exit status: good.\n",
        "----------------------------------------------------------------------------\n"
       ]
      },
      {
       "output_type": "stream",
       "stream": "stdout",
       "text": [
        "\n",
        "Input files:\n",
        "gN20151208S0272\n",
        "gN20151208S0273\n",
        "gN20151208S0274\n",
        "gN20151208S0275\n",
        "gN20151208S0276\n"
       ]
      },
      {
       "output_type": "stream",
       "stream": "stdout",
       "text": [
        "\n"
       ]
      },
      {
       "output_type": "stream",
       "stream": "stdout",
       "text": [
        "Output files:\n",
        "tmpfile4367_477N20151208S0272\n",
        "tmpfile4367_477N20151208S0273\n",
        "tmpfile4367_477N20151208S0274\n",
        "tmpfile4367_477N20151208S0275\n",
        "tmpfile4367_477N20151208S0276\n"
       ]
      },
      {
       "output_type": "stream",
       "stream": "stdout",
       "text": [
        "\n",
        "GIREDUCE: Image tmpfile4367_477N20151208S0272 overscan subtracted"
       ]
      },
      {
       "output_type": "stream",
       "stream": "stdout",
       "text": [
        "\n",
        "GIREDUCE: Image tmpfile4367_477N20151208S0273 overscan subtracted"
       ]
      },
      {
       "output_type": "stream",
       "stream": "stdout",
       "text": [
        "\n",
        "GIREDUCE: Image tmpfile4367_477N20151208S0274 overscan subtracted"
       ]
      },
      {
       "output_type": "stream",
       "stream": "stdout",
       "text": [
        "\n",
        "GIREDUCE: Image tmpfile4367_477N20151208S0275 overscan subtracted"
       ]
      },
      {
       "output_type": "stream",
       "stream": "stdout",
       "text": [
        "\n",
        "GIREDUCE: Image tmpfile4367_477N20151208S0276 overscan subtracted"
       ]
      },
      {
       "output_type": "stream",
       "stream": "stdout",
       "text": [
        "\n"
       ]
      },
      {
       "output_type": "stream",
       "stream": "stdout",
       "text": [
        "GIREDUCE: Image tmpfile4367_477N20151208S0272 trimmed\n"
       ]
      },
      {
       "output_type": "stream",
       "stream": "stdout",
       "text": [
        "GIREDUCE: Image tmpfile4367_477N20151208S0273 trimmed\n"
       ]
      },
      {
       "output_type": "stream",
       "stream": "stdout",
       "text": [
        "GIREDUCE: Image tmpfile4367_477N20151208S0274 trimmed\n"
       ]
      },
      {
       "output_type": "stream",
       "stream": "stdout",
       "text": [
        "GIREDUCE: Image tmpfile4367_477N20151208S0275 trimmed\n"
       ]
      },
      {
       "output_type": "stream",
       "stream": "stdout",
       "text": [
        "GIREDUCE: Image tmpfile4367_477N20151208S0276 trimmed\n",
        "\n"
       ]
      },
      {
       "output_type": "stream",
       "stream": "stdout",
       "text": [
        "\n",
        "GIREDUCE - Cleaning up -- Sat Apr  9 12:13:05 HST 2016\n"
       ]
      },
      {
       "output_type": "stream",
       "stream": "stdout",
       "text": [
        "\n",
        "GIREDUCE -- Sat Apr  9 12:13:05 HST 2016\n",
        "GIREDUCE exit status:  good.\n",
        "----------------------------------------------------------------------------\n",
        "--------------------------------------------------------------------------------"
       ]
      },
      {
       "output_type": "stream",
       "stream": "stdout",
       "text": [
        "\n",
        "GEMCOMBINE -- Sat Apr  9 12:13:05 HST 2016\n",
        " \n",
        "GEMCOMBINE: input = @tmpcombin4367_474\n",
        "GEMCOMBINE: output = N20151208S0272_bias.fits\n",
        "GEMCOMBINE: title = Bias\n",
        "GEMCOMBINE: bpmfile = \n",
        "GEMCOMBINE: sci_ext = SCI\n",
        "GEMCOMBINE: var_ext = VAR\n",
        "GEMCOMBINE: dq_ext = DQ\n",
        " \n"
       ]
      },
      {
       "output_type": "stream",
       "stream": "stdout",
       "text": [
        "WARNING - GEMCOMBINE: five or less images to combine.\n",
        "\n",
        "Apr  9 12:13: IMCOMBINE\n",
        "  combine = average, scale = none, zero = none, weight = none\n",
        "  reject = avsigclip, mclip = yes, nkeep = 1\n",
        "  lsigma = 3., hsigma = 3.\n",
        "  blank = 0.\n",
        "  statsec = Apr  9 12:13\n",
        "                Images     Exp\n",
        "  tmpfile4367_477N20151208S0272.fits[SCI,1]    0.0\n",
        "  tmpfile4367_477N20151208S0273.fits[SCI,1]    0.0\n",
        "  tmpfile4367_477N20151208S0274.fits[SCI,1]    0.0\n",
        "  tmpfile4367_477N20151208S0275.fits[SCI,1]    0.0\n",
        "  tmpfile4367_477N20151208S0276.fits[SCI,1]    0.0\n",
        "\n",
        "  Output image = tmpcombout4367_542, ncombine = 5\n",
        "  Number rejected mask = tmpcombdq4367_543.pl\n",
        "  Sigma image = tmpcombsig4367_544\n"
       ]
      },
      {
       "output_type": "stream",
       "stream": "stdout",
       "text": [
        "WARNING - GEMCOMBINE: five or less images to combine.\n",
        "\n",
        "Apr  9 12:13: IMCOMBINE\n",
        "  combine = average, scale = none, zero = none, weight = none\n",
        "  reject = avsigclip, mclip = yes, nkeep = 1\n",
        "  lsigma = 3., hsigma = 3.\n",
        "  blank = 0.\n",
        "  statsec = Apr  9 12:13\n",
        "                Images     Exp\n",
        "  tmpfile4367_477N20151208S0272.fits[SCI,2]    0.0\n",
        "  tmpfile4367_477N20151208S0273.fits[SCI,2]    0.0\n",
        "  tmpfile4367_477N20151208S0274.fits[SCI,2]    0.0\n",
        "  tmpfile4367_477N20151208S0275.fits[SCI,2]    0.0\n",
        "  tmpfile4367_477N20151208S0276.fits[SCI,2]    0.0\n",
        "\n",
        "  Output image = tmpcombout4367_549, ncombine = 5\n",
        "  Number rejected mask = tmpcombdq4367_550.pl\n",
        "  Sigma image = tmpcombsig4367_551\n"
       ]
      },
      {
       "output_type": "stream",
       "stream": "stdout",
       "text": [
        "WARNING - GEMCOMBINE: five or less images to combine.\n",
        "\n",
        "Apr  9 12:13: IMCOMBINE\n",
        "  combine = average, scale = none, zero = none, weight = none\n",
        "  reject = avsigclip, mclip = yes, nkeep = 1\n",
        "  lsigma = 3., hsigma = 3.\n",
        "  blank = 0.\n",
        "  statsec = Apr  9 12:13\n",
        "                Images     Exp\n",
        "  tmpfile4367_477N20151208S0272.fits[SCI,3]    0.0\n",
        "  tmpfile4367_477N20151208S0273.fits[SCI,3]    0.0\n",
        "  tmpfile4367_477N20151208S0274.fits[SCI,3]    0.0\n",
        "  tmpfile4367_477N20151208S0275.fits[SCI,3]    0.0\n",
        "  tmpfile4367_477N20151208S0276.fits[SCI,3]    0.0\n",
        "\n",
        "  Output image = tmpcombout4367_553, ncombine = 5\n",
        "  Number rejected mask = tmpcombdq4367_554.pl\n",
        "  Sigma image = tmpcombsig4367_555\n"
       ]
      },
      {
       "output_type": "stream",
       "stream": "stdout",
       "text": [
        "WARNING - GEMCOMBINE: five or less images to combine.\n",
        "\n",
        "Apr  9 12:13: IMCOMBINE\n",
        "  combine = average, scale = none, zero = none, weight = none\n",
        "  reject = avsigclip, mclip = yes, nkeep = 1\n",
        "  lsigma = 3., hsigma = 3.\n",
        "  blank = 0.\n",
        "  statsec = Apr  9 12:13\n",
        "                Images     Exp\n",
        "  tmpfile4367_477N20151208S0272.fits[SCI,4]    0.0\n",
        "  tmpfile4367_477N20151208S0273.fits[SCI,4]    0.0\n",
        "  tmpfile4367_477N20151208S0274.fits[SCI,4]    0.0\n",
        "  tmpfile4367_477N20151208S0275.fits[SCI,4]    0.0\n",
        "  tmpfile4367_477N20151208S0276.fits[SCI,4]    0.0\n",
        "\n",
        "  Output image = tmpcombout4367_557, ncombine = 5\n",
        "  Number rejected mask = tmpcombdq4367_558.pl\n",
        "  Sigma image = tmpcombsig4367_559\n"
       ]
      },
      {
       "output_type": "stream",
       "stream": "stdout",
       "text": [
        "WARNING - GEMCOMBINE: five or less images to combine.\n",
        "\n",
        "Apr  9 12:13: IMCOMBINE\n",
        "  combine = average, scale = none, zero = none, weight = none\n",
        "  reject = avsigclip, mclip = yes, nkeep = 1\n",
        "  lsigma = 3., hsigma = 3.\n",
        "  blank = 0.\n",
        "  statsec = Apr  9 12:13\n",
        "                Images     Exp\n",
        "  tmpfile4367_477N20151208S0272.fits[SCI,5]    0.0\n",
        "  tmpfile4367_477N20151208S0273.fits[SCI,5]    0.0\n",
        "  tmpfile4367_477N20151208S0274.fits[SCI,5]    0.0\n",
        "  tmpfile4367_477N20151208S0275.fits[SCI,5]    0.0\n",
        "  tmpfile4367_477N20151208S0276.fits[SCI,5]    0.0\n",
        "\n",
        "  Output image = tmpcombout4367_561, ncombine = 5\n",
        "  Number rejected mask = tmpcombdq4367_562.pl\n",
        "  Sigma image = tmpcombsig4367_563\n"
       ]
      },
      {
       "output_type": "stream",
       "stream": "stdout",
       "text": [
        "WARNING - GEMCOMBINE: five or less images to combine.\n",
        "\n",
        "Apr  9 12:13: IMCOMBINE\n",
        "  combine = average, scale = none, zero = none, weight = none\n",
        "  reject = avsigclip, mclip = yes, nkeep = 1\n",
        "  lsigma = 3., hsigma = 3.\n",
        "  blank = 0.\n",
        "  statsec = Apr  9 12:13\n",
        "                Images     Exp\n",
        "  tmpfile4367_477N20151208S0272.fits[SCI,6]    0.0\n",
        "  tmpfile4367_477N20151208S0273.fits[SCI,6]    0.0\n",
        "  tmpfile4367_477N20151208S0274.fits[SCI,6]    0.0\n",
        "  tmpfile4367_477N20151208S0275.fits[SCI,6]    0.0\n",
        "  tmpfile4367_477N20151208S0276.fits[SCI,6]    0.0\n",
        "\n",
        "  Output image = tmpcombout4367_565, ncombine = 5\n",
        "  Number rejected mask = tmpcombdq4367_566.pl\n",
        "  Sigma image = tmpcombsig4367_567\n"
       ]
      },
      {
       "output_type": "stream",
       "stream": "stdout",
       "text": [
        " \n",
        "GEMCOMBINE -- Finished: Sat Apr  9 12:13:17 HST 2016\n",
        " \n",
        "GEMCOMBINE -- Exit status: GOOD\n",
        "--------------------------------------------------------------------------------\n"
       ]
      },
      {
       "output_type": "stream",
       "stream": "stdout",
       "text": [
        "\n",
        "GBIAS: Exit status: GOOD.\n",
        "----------------------------------------------------------------------------\n",
        "Creating bias "
       ]
      },
      {
       "output_type": "stream",
       "stream": "stdout",
       "text": [
        " N20151214S0346_bias.fits\n",
        "----------------------------------------------------------------------------\n",
        "GBIAS -- Sat Apr  9 12:13:17 HST 2016\n",
        "\n",
        "Input images:\n",
        "  N20151214S0346\n",
        "  N20151214S0347"
       ]
      },
      {
       "output_type": "stream",
       "stream": "stdout",
       "text": [
        "\n",
        "  N20151214S0348\n",
        "  N20151214S0349\n",
        "  N20151214S0350\n",
        "\n",
        "Output bias image: N20151214S0346_bias.fits\n",
        " \n"
       ]
      },
      {
       "output_type": "stream",
       "stream": "stdout",
       "text": [
        "\n",
        "----------------------------------------------------------------------------"
       ]
      },
      {
       "output_type": "stream",
       "stream": "stdout",
       "text": [
        "\n",
        "GIREDUCE -- Sat Apr  9 12:13:18 HST 2016\n",
        "\n"
       ]
      },
      {
       "output_type": "stream",
       "stream": "stdout",
       "text": [
        "----------------------------------------------------------------------------\n",
        "GPREPARE -- Sat Apr  9 12:13:18 HST 2016\n",
        "\n",
        "Input list    = /data/workspace/DRWorkshopAAO/NGC3310/raw/N20151214S0346\n",
        "Output list   = \n",
        "Output prefix = g\n",
        "Raw path      = \n",
        "MDF dir       = gmos$data/\n",
        "Add MDF       = no\n",
        "\n"
       ]
      },
      {
       "output_type": "stream",
       "stream": "stdout",
       "text": [
        "Input  /data/workspace/DRWorkshopAAO/NGC3310/raw/N20151214S0346.fits   Output  gN20151214S0346.fits\n"
       ]
      },
      {
       "output_type": "stream",
       "stream": "stdout",
       "text": [
        "\n",
        "GPREPARE exit status: good.\n",
        "----------------------------------------------------------------------------\n"
       ]
      },
      {
       "output_type": "stream",
       "stream": "stdout",
       "text": [
        "----------------------------------------------------------------------------\n",
        "GPREPARE -- Sat Apr  9 12:13:19 HST 2016\n",
        "\n",
        "Input list    = /data/workspace/DRWorkshopAAO/NGC3310/raw/N20151214S0347\n",
        "Output list   = \n",
        "Output prefix = g\n",
        "Raw path      = \n",
        "MDF dir       = gmos$data/\n",
        "Add MDF       = no\n",
        "\n"
       ]
      },
      {
       "output_type": "stream",
       "stream": "stdout",
       "text": [
        "Input  /data/workspace/DRWorkshopAAO/NGC3310/raw/N20151214S0347.fits   Output  gN20151214S0347.fits\n"
       ]
      },
      {
       "output_type": "stream",
       "stream": "stdout",
       "text": [
        "\n",
        "GPREPARE exit status: good.\n",
        "----------------------------------------------------------------------------\n"
       ]
      },
      {
       "output_type": "stream",
       "stream": "stdout",
       "text": [
        "----------------------------------------------------------------------------\n",
        "GPREPARE -- Sat Apr  9 12:13:20 HST 2016\n",
        "\n",
        "Input list    = /data/workspace/DRWorkshopAAO/NGC3310/raw/N20151214S0348\n",
        "Output list   = \n",
        "Output prefix = g\n",
        "Raw path      = \n",
        "MDF dir       = gmos$data/\n",
        "Add MDF       = no\n",
        "\n"
       ]
      },
      {
       "output_type": "stream",
       "stream": "stdout",
       "text": [
        "Input  /data/workspace/DRWorkshopAAO/NGC3310/raw/N20151214S0348.fits   Output  gN20151214S0348.fits\n"
       ]
      },
      {
       "output_type": "stream",
       "stream": "stdout",
       "text": [
        "\n",
        "GPREPARE exit status: good.\n",
        "----------------------------------------------------------------------------\n"
       ]
      },
      {
       "output_type": "stream",
       "stream": "stdout",
       "text": [
        "----------------------------------------------------------------------------\n",
        "GPREPARE -- Sat Apr  9 12:13:22 HST 2016\n",
        "\n",
        "Input list    = /data/workspace/DRWorkshopAAO/NGC3310/raw/N20151214S0349\n",
        "Output list   = \n",
        "Output prefix = g\n",
        "Raw path      = \n",
        "MDF dir       = gmos$data/\n",
        "Add MDF       = no\n",
        "\n"
       ]
      },
      {
       "output_type": "stream",
       "stream": "stdout",
       "text": [
        "Input  /data/workspace/DRWorkshopAAO/NGC3310/raw/N20151214S0349.fits   Output  gN20151214S0349.fits\n"
       ]
      },
      {
       "output_type": "stream",
       "stream": "stdout",
       "text": [
        "\n",
        "GPREPARE exit status: good.\n",
        "----------------------------------------------------------------------------\n"
       ]
      },
      {
       "output_type": "stream",
       "stream": "stdout",
       "text": [
        "----------------------------------------------------------------------------\n",
        "GPREPARE -- Sat Apr  9 12:13:23 HST 2016\n",
        "\n",
        "Input list    = /data/workspace/DRWorkshopAAO/NGC3310/raw/N20151214S0350\n",
        "Output list   = \n",
        "Output prefix = g\n",
        "Raw path      = \n",
        "MDF dir       = gmos$data/\n",
        "Add MDF       = no\n",
        "\n"
       ]
      },
      {
       "output_type": "stream",
       "stream": "stdout",
       "text": [
        "Input  /data/workspace/DRWorkshopAAO/NGC3310/raw/N20151214S0350.fits   Output  gN20151214S0350.fits\n"
       ]
      },
      {
       "output_type": "stream",
       "stream": "stdout",
       "text": [
        "\n",
        "GPREPARE exit status: good.\n",
        "----------------------------------------------------------------------------\n"
       ]
      },
      {
       "output_type": "stream",
       "stream": "stdout",
       "text": [
        "\n",
        "Input files:\n",
        "gN20151214S0346\n",
        "gN20151214S0347\n",
        "gN20151214S0348\n",
        "gN20151214S0349\n",
        "gN20151214S0350\n"
       ]
      },
      {
       "output_type": "stream",
       "stream": "stdout",
       "text": [
        "\n"
       ]
      },
      {
       "output_type": "stream",
       "stream": "stdout",
       "text": [
        "Output files:\n",
        "tmpfile4367_575N20151214S0346\n",
        "tmpfile4367_575N20151214S0347\n",
        "tmpfile4367_575N20151214S0348\n",
        "tmpfile4367_575N20151214S0349\n",
        "tmpfile4367_575N20151214S0350\n"
       ]
      },
      {
       "output_type": "stream",
       "stream": "stdout",
       "text": [
        "\n",
        "GIREDUCE: Image tmpfile4367_575N20151214S0346 overscan subtracted"
       ]
      },
      {
       "output_type": "stream",
       "stream": "stdout",
       "text": [
        "\n",
        "GIREDUCE: Image tmpfile4367_575N20151214S0347 overscan subtracted"
       ]
      },
      {
       "output_type": "stream",
       "stream": "stdout",
       "text": [
        "\n",
        "GIREDUCE: Image tmpfile4367_575N20151214S0348 overscan subtracted"
       ]
      },
      {
       "output_type": "stream",
       "stream": "stdout",
       "text": [
        "\n",
        "GIREDUCE: Image tmpfile4367_575N20151214S0349 overscan subtracted"
       ]
      },
      {
       "output_type": "stream",
       "stream": "stdout",
       "text": [
        "\n",
        "GIREDUCE: Image tmpfile4367_575N20151214S0350 overscan subtracted"
       ]
      },
      {
       "output_type": "stream",
       "stream": "stdout",
       "text": [
        "\n"
       ]
      },
      {
       "output_type": "stream",
       "stream": "stdout",
       "text": [
        "GIREDUCE: Image tmpfile4367_575N20151214S0346 trimmed\n"
       ]
      },
      {
       "output_type": "stream",
       "stream": "stdout",
       "text": [
        "GIREDUCE: Image tmpfile4367_575N20151214S0347 trimmed\n"
       ]
      },
      {
       "output_type": "stream",
       "stream": "stdout",
       "text": [
        "GIREDUCE: Image tmpfile4367_575N20151214S0348 trimmed\n"
       ]
      },
      {
       "output_type": "stream",
       "stream": "stdout",
       "text": [
        "GIREDUCE: Image tmpfile4367_575N20151214S0349 trimmed\n"
       ]
      },
      {
       "output_type": "stream",
       "stream": "stdout",
       "text": [
        "GIREDUCE: Image tmpfile4367_575N20151214S0350 trimmed\n",
        "\n"
       ]
      },
      {
       "output_type": "stream",
       "stream": "stdout",
       "text": [
        "\n",
        "GIREDUCE - Cleaning up -- Sat Apr  9 12:14:12 HST 2016\n"
       ]
      },
      {
       "output_type": "stream",
       "stream": "stdout",
       "text": [
        "\n",
        "GIREDUCE -- Sat Apr  9 12:14:12 HST 2016\n",
        "GIREDUCE exit status:  good.\n",
        "----------------------------------------------------------------------------\n",
        "--------------------------------------------------------------------------------"
       ]
      },
      {
       "output_type": "stream",
       "stream": "stdout",
       "text": [
        "\n",
        "GEMCOMBINE -- Sat Apr  9 12:14:12 HST 2016\n",
        " \n",
        "GEMCOMBINE: input = @tmpcombin4367_572\n",
        "GEMCOMBINE: output = N20151214S0346_bias.fits\n",
        "GEMCOMBINE: title = Bias\n",
        "GEMCOMBINE: bpmfile = \n",
        "GEMCOMBINE: sci_ext = SCI\n",
        "GEMCOMBINE: var_ext = VAR\n",
        "GEMCOMBINE: dq_ext = DQ\n",
        " \n"
       ]
      },
      {
       "output_type": "stream",
       "stream": "stdout",
       "text": [
        "WARNING - GEMCOMBINE: five or less images to combine.\n",
        "\n",
        "Apr  9 12:14: IMCOMBINE\n",
        "  combine = average, scale = none, zero = none, weight = none\n",
        "  reject = avsigclip, mclip = yes, nkeep = 1\n",
        "  lsigma = 3., hsigma = 3.\n",
        "  blank = 0.\n",
        "  statsec = Apr  9 12:14\n",
        "                Images     Exp\n",
        "  tmpfile4367_575N20151214S0346.fits[SCI,1]    0.0\n",
        "  tmpfile4367_575N20151214S0347.fits[SCI,1]    0.0\n",
        "  tmpfile4367_575N20151214S0348.fits[SCI,1]    0.0\n",
        "  tmpfile4367_575N20151214S0349.fits[SCI,1]    0.0\n",
        "  tmpfile4367_575N20151214S0350.fits[SCI,1]    0.0\n",
        "\n",
        "  Output image = tmpcombout4367_640, ncombine = 5\n",
        "  Number rejected mask = tmpcombdq4367_641.pl\n",
        "  Sigma image = tmpcombsig4367_642\n"
       ]
      },
      {
       "output_type": "stream",
       "stream": "stdout",
       "text": [
        "WARNING - GEMCOMBINE: five or less images to combine.\n",
        "\n",
        "Apr  9 12:14: IMCOMBINE\n",
        "  combine = average, scale = none, zero = none, weight = none\n",
        "  reject = avsigclip, mclip = yes, nkeep = 1\n",
        "  lsigma = 3., hsigma = 3.\n",
        "  blank = 0.\n",
        "  statsec = Apr  9 12:14\n",
        "                Images     Exp\n",
        "  tmpfile4367_575N20151214S0346.fits[SCI,2]    0.0\n",
        "  tmpfile4367_575N20151214S0347.fits[SCI,2]    0.0\n",
        "  tmpfile4367_575N20151214S0348.fits[SCI,2]    0.0\n",
        "  tmpfile4367_575N20151214S0349.fits[SCI,2]    0.0\n",
        "  tmpfile4367_575N20151214S0350.fits[SCI,2]    0.0\n",
        "\n",
        "  Output image = tmpcombout4367_647, ncombine = 5\n",
        "  Number rejected mask = tmpcombdq4367_648.pl\n",
        "  Sigma image = tmpcombsig4367_649\n"
       ]
      },
      {
       "output_type": "stream",
       "stream": "stdout",
       "text": [
        "WARNING - GEMCOMBINE: five or less images to combine.\n",
        "\n",
        "Apr  9 12:14: IMCOMBINE\n",
        "  combine = average, scale = none, zero = none, weight = none\n",
        "  reject = avsigclip, mclip = yes, nkeep = 1\n",
        "  lsigma = 3., hsigma = 3.\n",
        "  blank = 0.\n",
        "  statsec = Apr  9 12:14\n",
        "                Images     Exp\n",
        "  tmpfile4367_575N20151214S0346.fits[SCI,3]    0.0\n",
        "  tmpfile4367_575N20151214S0347.fits[SCI,3]    0.0\n",
        "  tmpfile4367_575N20151214S0348.fits[SCI,3]    0.0\n",
        "  tmpfile4367_575N20151214S0349.fits[SCI,3]    0.0\n",
        "  tmpfile4367_575N20151214S0350.fits[SCI,3]    0.0\n",
        "\n",
        "  Output image = tmpcombout4367_651, ncombine = 5\n",
        "  Number rejected mask = tmpcombdq4367_652.pl\n",
        "  Sigma image = tmpcombsig4367_653\n"
       ]
      },
      {
       "output_type": "stream",
       "stream": "stdout",
       "text": [
        "WARNING - GEMCOMBINE: five or less images to combine.\n",
        "\n",
        "Apr  9 12:14: IMCOMBINE\n",
        "  combine = average, scale = none, zero = none, weight = none\n",
        "  reject = avsigclip, mclip = yes, nkeep = 1\n",
        "  lsigma = 3., hsigma = 3.\n",
        "  blank = 0.\n",
        "  statsec = Apr  9 12:14\n",
        "                Images     Exp\n",
        "  tmpfile4367_575N20151214S0346.fits[SCI,4]    0.0\n",
        "  tmpfile4367_575N20151214S0347.fits[SCI,4]    0.0\n",
        "  tmpfile4367_575N20151214S0348.fits[SCI,4]    0.0\n",
        "  tmpfile4367_575N20151214S0349.fits[SCI,4]    0.0\n",
        "  tmpfile4367_575N20151214S0350.fits[SCI,4]    0.0\n",
        "\n",
        "  Output image = tmpcombout4367_655, ncombine = 5\n",
        "  Number rejected mask = tmpcombdq4367_656.pl\n",
        "  Sigma image = tmpcombsig4367_657\n"
       ]
      },
      {
       "output_type": "stream",
       "stream": "stdout",
       "text": [
        "WARNING - GEMCOMBINE: five or less images to combine.\n",
        "\n",
        "Apr  9 12:14: IMCOMBINE\n",
        "  combine = average, scale = none, zero = none, weight = none\n",
        "  reject = avsigclip, mclip = yes, nkeep = 1\n",
        "  lsigma = 3., hsigma = 3.\n",
        "  blank = 0.\n",
        "  statsec = Apr  9 12:14\n",
        "                Images     Exp\n",
        "  tmpfile4367_575N20151214S0346.fits[SCI,5]    0.0\n",
        "  tmpfile4367_575N20151214S0347.fits[SCI,5]    0.0\n",
        "  tmpfile4367_575N20151214S0348.fits[SCI,5]    0.0\n",
        "  tmpfile4367_575N20151214S0349.fits[SCI,5]    0.0\n",
        "  tmpfile4367_575N20151214S0350.fits[SCI,5]    0.0\n",
        "\n",
        "  Output image = tmpcombout4367_659, ncombine = 5\n",
        "  Number rejected mask = tmpcombdq4367_660.pl\n",
        "  Sigma image = tmpcombsig4367_661\n"
       ]
      },
      {
       "output_type": "stream",
       "stream": "stdout",
       "text": [
        "WARNING - GEMCOMBINE: five or less images to combine.\n",
        "\n",
        "Apr  9 12:14: IMCOMBINE\n",
        "  combine = average, scale = none, zero = none, weight = none\n",
        "  reject = avsigclip, mclip = yes, nkeep = 1\n",
        "  lsigma = 3., hsigma = 3.\n",
        "  blank = 0.\n",
        "  statsec = Apr  9 12:14\n",
        "                Images     Exp\n",
        "  tmpfile4367_575N20151214S0346.fits[SCI,6]    0.0\n",
        "  tmpfile4367_575N20151214S0347.fits[SCI,6]    0.0\n",
        "  tmpfile4367_575N20151214S0348.fits[SCI,6]    0.0\n",
        "  tmpfile4367_575N20151214S0349.fits[SCI,6]    0.0\n",
        "  tmpfile4367_575N20151214S0350.fits[SCI,6]    0.0\n",
        "\n",
        "  Output image = tmpcombout4367_663, ncombine = 5\n",
        "  Number rejected mask = tmpcombdq4367_664.pl\n",
        "  Sigma image = tmpcombsig4367_665\n"
       ]
      },
      {
       "output_type": "stream",
       "stream": "stdout",
       "text": [
        " \n",
        "GEMCOMBINE -- Finished: Sat Apr  9 12:14:24 HST 2016\n",
        " \n",
        "GEMCOMBINE -- Exit status: GOOD\n",
        "--------------------------------------------------------------------------------\n"
       ]
      },
      {
       "output_type": "stream",
       "stream": "stdout",
       "text": [
        "\n",
        "GBIAS: Exit status: GOOD.\n",
        "----------------------------------------------------------------------------\n"
       ]
      },
      {
       "metadata": {},
       "output_type": "pyout",
       "prompt_number": 5,
       "text": [
        "['N20151205S0525_bias.fits',\n",
        " 'N20151208S0272_bias.fits',\n",
        " 'N20151214S0346_bias.fits']"
       ]
      }
     ],
     "prompt_number": 5
    },
    {
     "cell_type": "heading",
     "level": 4,
     "metadata": {},
     "source": [
      "Visually inspect the processed biases"
     ]
    },
    {
     "cell_type": "code",
     "collapsed": false,
     "input": [
      "# WARNING: interactive.  It launches imexam.  Type 'q' to quit.\n",
      "for biaskey in biases.keys():\n",
      "    iraf.gdisplay(biases[biaskey]['procbias'], 1, fl_paste='yes')"
     ],
     "language": "python",
     "metadata": {},
     "outputs": [
      {
       "output_type": "stream",
       "stream": "stdout",
       "text": [
        "\n",
        "GDISPLAY - Started: 2016-04-09T12:14:46\n",
        "\n"
       ]
      },
      {
       "output_type": "stream",
       "stream": "stdout",
       "text": [
        "GDISPLAY: Temporary image name tmpout4367_668N20151208S0272_bias.fits\n",
        "\n",
        "GMULTIAMP - Started: 2016-04-09T12:14:46\n",
        "\n"
       ]
      },
      {
       "output_type": "stream",
       "stream": "stdout",
       "text": [
        "GMULTIAMP: Tiling image...\n"
       ]
      },
      {
       "output_type": "stream",
       "stream": "stdout",
       "text": [
        "               Image tiled.\n"
       ]
      },
      {
       "output_type": "stream",
       "stream": "stdout",
       "text": [
        "\n",
        "GMULTIAMP - Finished: 2016-04-09T12:14:48\n",
        "GMULTIAMP - Exit status: GOOD\n",
        "\n"
       ]
      },
      {
       "output_type": "stream",
       "stream": "stdout",
       "text": [
        "GDISPLAY: Displaying image...\n",
        "\n",
        "GDISPLAY: Starting imexamine - quit with q"
       ]
      },
      {
       "output_type": "stream",
       "stream": "stdout",
       "text": [
        "\n",
        "\n",
        "GDISPLAY - Finished: 2016-04-09T12:14:54\n"
       ]
      },
      {
       "output_type": "stream",
       "stream": "stdout",
       "text": [
        "\n",
        "\n",
        "GDISPLAY - Started: 2016-04-09T12:14:54\n",
        "\n"
       ]
      },
      {
       "output_type": "stream",
       "stream": "stdout",
       "text": [
        "GDISPLAY: Temporary image name tmpout4367_702N20151214S0346_bias.fits\n",
        "\n",
        "GMULTIAMP - Started: 2016-04-09T12:14:54\n",
        "\n"
       ]
      },
      {
       "output_type": "stream",
       "stream": "stdout",
       "text": [
        "GMULTIAMP: Tiling image...\n"
       ]
      },
      {
       "output_type": "stream",
       "stream": "stdout",
       "text": [
        "               Image tiled.\n"
       ]
      },
      {
       "output_type": "stream",
       "stream": "stdout",
       "text": [
        "\n",
        "GMULTIAMP - Finished: 2016-04-09T12:14:56\n",
        "GMULTIAMP - Exit status: GOOD\n",
        "\n"
       ]
      },
      {
       "output_type": "stream",
       "stream": "stdout",
       "text": [
        "GDISPLAY: Displaying image...\n",
        "\n",
        "GDISPLAY: Starting imexamine - quit with q"
       ]
      },
      {
       "output_type": "stream",
       "stream": "stdout",
       "text": [
        "\n",
        "\n",
        "GDISPLAY - Finished: 2016-04-09T12:14:58\n"
       ]
      },
      {
       "output_type": "stream",
       "stream": "stdout",
       "text": [
        "\n"
       ]
      }
     ],
     "prompt_number": 6
    },
    {
     "cell_type": "heading",
     "level": 2,
     "metadata": {},
     "source": [
      "STEP 5: Process the twilight flats"
     ]
    },
    {
     "cell_type": "markdown",
     "metadata": {},
     "source": [
      "This will produce the one twilight flat defined above.  That flat will be used later to process the science frames and the fringe frames."
     ]
    },
    {
     "cell_type": "code",
     "collapsed": false,
     "input": [
      "os.chdir(redux_path)\n",
      "\n",
      "for flatkey in flats.keys():\n",
      "    iraf.imdelete('g//@'+flatkey+'.lis', verify='no')\n",
      "    iraf.imdelete('rg//@'+flatkey+'.lis', verify='no')\n",
      "    \n",
      "    flatlist = flatkey+'.lis'\n",
      "    procbias = os.path.join(procbias_path, flats[flatkey]['flatbias'])\n",
      "    \n",
      "    print 'Processing raw twilight flats'\n",
      "    \n",
      "    # gprepare and bias correct the raw flats\n",
      "    iraf.gireduce('@'+flatlist, rawpath=raw_path, \\\n",
      "                  fl_over='yes', fl_trim='yes', \\\n",
      "                  fl_bias='yes', bias=procbias, fl_flat='no', \\\n",
      "                  fl_vardq='yes')"
     ],
     "language": "python",
     "metadata": {},
     "outputs": [
      {
       "output_type": "stream",
       "stream": "stdout",
       "text": [
        "Processing raw twilight flats\n",
        "----------------------------------------------------------------------------"
       ]
      },
      {
       "output_type": "stream",
       "stream": "stdout",
       "text": [
        "\n",
        "GIREDUCE -- Sat Apr  9 12:15:07 HST 2016\n",
        "\n"
       ]
      },
      {
       "output_type": "stream",
       "stream": "stdout",
       "text": [
        "----------------------------------------------------------------------------\n",
        "GPREPARE -- Sat Apr  9 12:15:07 HST 2016\n",
        "\n",
        "Input list    = N20151208S0225\n",
        "Output list   = \n",
        "Output prefix = g\n",
        "Raw path      = /data/workspace/DRWorkshopAAO/NGC3310/raw/\n",
        "MDF dir       = gmos$data/\n",
        "Add MDF       = no\n",
        "\n"
       ]
      },
      {
       "output_type": "stream",
       "stream": "stdout",
       "text": [
        "Input  /data/workspace/DRWorkshopAAO/NGC3310/raw/N20151208S0225.fits   Output  gN20151208S0225.fits\n"
       ]
      },
      {
       "output_type": "stream",
       "stream": "stdout",
       "text": [
        "\n",
        "GPREPARE exit status: good.\n",
        "----------------------------------------------------------------------------\n"
       ]
      },
      {
       "output_type": "stream",
       "stream": "stdout",
       "text": [
        "----------------------------------------------------------------------------\n",
        "GPREPARE -- Sat Apr  9 12:15:08 HST 2016\n",
        "\n",
        "Input list    = N20151208S0226\n",
        "Output list   = \n",
        "Output prefix = g\n",
        "Raw path      = /data/workspace/DRWorkshopAAO/NGC3310/raw/\n",
        "MDF dir       = gmos$data/\n",
        "Add MDF       = no\n",
        "\n"
       ]
      },
      {
       "output_type": "stream",
       "stream": "stdout",
       "text": [
        "Input  /data/workspace/DRWorkshopAAO/NGC3310/raw/N20151208S0226.fits   Output  gN20151208S0226.fits\n"
       ]
      },
      {
       "output_type": "stream",
       "stream": "stdout",
       "text": [
        "\n",
        "GPREPARE exit status: good.\n",
        "----------------------------------------------------------------------------\n"
       ]
      },
      {
       "output_type": "stream",
       "stream": "stdout",
       "text": [
        "----------------------------------------------------------------------------\n",
        "GPREPARE -- Sat Apr  9 12:15:09 HST 2016\n",
        "\n",
        "Input list    = N20151208S0227\n",
        "Output list   = \n",
        "Output prefix = g\n",
        "Raw path      = /data/workspace/DRWorkshopAAO/NGC3310/raw/\n",
        "MDF dir       = gmos$data/\n",
        "Add MDF       = no\n",
        "\n"
       ]
      },
      {
       "output_type": "stream",
       "stream": "stdout",
       "text": [
        "Input  /data/workspace/DRWorkshopAAO/NGC3310/raw/N20151208S0227.fits   Output  gN20151208S0227.fits\n"
       ]
      },
      {
       "output_type": "stream",
       "stream": "stdout",
       "text": [
        "\n",
        "GPREPARE exit status: good.\n",
        "----------------------------------------------------------------------------\n"
       ]
      },
      {
       "output_type": "stream",
       "stream": "stdout",
       "text": [
        "----------------------------------------------------------------------------\n",
        "GPREPARE -- Sat Apr  9 12:15:11 HST 2016\n",
        "\n",
        "Input list    = N20151208S0228\n",
        "Output list   = \n",
        "Output prefix = g\n",
        "Raw path      = /data/workspace/DRWorkshopAAO/NGC3310/raw/\n",
        "MDF dir       = gmos$data/\n",
        "Add MDF       = no\n",
        "\n"
       ]
      },
      {
       "output_type": "stream",
       "stream": "stdout",
       "text": [
        "Input  /data/workspace/DRWorkshopAAO/NGC3310/raw/N20151208S0228.fits   Output  gN20151208S0228.fits\n"
       ]
      },
      {
       "output_type": "stream",
       "stream": "stdout",
       "text": [
        "\n",
        "GPREPARE exit status: good.\n",
        "----------------------------------------------------------------------------\n"
       ]
      },
      {
       "output_type": "stream",
       "stream": "stdout",
       "text": [
        "----------------------------------------------------------------------------\n",
        "GPREPARE -- Sat Apr  9 12:15:12 HST 2016\n",
        "\n",
        "Input list    = N20151208S0229\n",
        "Output list   = \n",
        "Output prefix = g\n",
        "Raw path      = /data/workspace/DRWorkshopAAO/NGC3310/raw/\n",
        "MDF dir       = gmos$data/\n",
        "Add MDF       = no\n",
        "\n"
       ]
      },
      {
       "output_type": "stream",
       "stream": "stdout",
       "text": [
        "Input  /data/workspace/DRWorkshopAAO/NGC3310/raw/N20151208S0229.fits   Output  gN20151208S0229.fits\n"
       ]
      },
      {
       "output_type": "stream",
       "stream": "stdout",
       "text": [
        "\n",
        "GPREPARE exit status: good.\n",
        "----------------------------------------------------------------------------\n"
       ]
      },
      {
       "output_type": "stream",
       "stream": "stdout",
       "text": [
        "----------------------------------------------------------------------------\n",
        "GPREPARE -- Sat Apr  9 12:15:13 HST 2016\n",
        "\n",
        "Input list    = N20151208S0230\n",
        "Output list   = \n",
        "Output prefix = g\n",
        "Raw path      = /data/workspace/DRWorkshopAAO/NGC3310/raw/\n",
        "MDF dir       = gmos$data/\n",
        "Add MDF       = no\n",
        "\n"
       ]
      },
      {
       "output_type": "stream",
       "stream": "stdout",
       "text": [
        "Input  /data/workspace/DRWorkshopAAO/NGC3310/raw/N20151208S0230.fits   Output  gN20151208S0230.fits\n"
       ]
      },
      {
       "output_type": "stream",
       "stream": "stdout",
       "text": [
        "\n",
        "GPREPARE exit status: good.\n",
        "----------------------------------------------------------------------------\n"
       ]
      },
      {
       "output_type": "stream",
       "stream": "stdout",
       "text": [
        "----------------------------------------------------------------------------\n",
        "GPREPARE -- Sat Apr  9 12:15:15 HST 2016\n",
        "\n",
        "Input list    = N20151208S0231\n",
        "Output list   = \n",
        "Output prefix = g\n",
        "Raw path      = /data/workspace/DRWorkshopAAO/NGC3310/raw/\n",
        "MDF dir       = gmos$data/\n",
        "Add MDF       = no\n",
        "\n"
       ]
      },
      {
       "output_type": "stream",
       "stream": "stdout",
       "text": [
        "Input  /data/workspace/DRWorkshopAAO/NGC3310/raw/N20151208S0231.fits   Output  gN20151208S0231.fits\n"
       ]
      },
      {
       "output_type": "stream",
       "stream": "stdout",
       "text": [
        "\n",
        "GPREPARE exit status: good.\n",
        "----------------------------------------------------------------------------\n"
       ]
      },
      {
       "output_type": "stream",
       "stream": "stdout",
       "text": [
        "----------------------------------------------------------------------------\n",
        "GPREPARE -- Sat Apr  9 12:15:16 HST 2016\n",
        "\n",
        "Input list    = N20151208S0232\n",
        "Output list   = \n",
        "Output prefix = g\n",
        "Raw path      = /data/workspace/DRWorkshopAAO/NGC3310/raw/\n",
        "MDF dir       = gmos$data/\n",
        "Add MDF       = no\n",
        "\n"
       ]
      },
      {
       "output_type": "stream",
       "stream": "stdout",
       "text": [
        "Input  /data/workspace/DRWorkshopAAO/NGC3310/raw/N20151208S0232.fits   Output  gN20151208S0232.fits\n"
       ]
      },
      {
       "output_type": "stream",
       "stream": "stdout",
       "text": [
        "\n",
        "GPREPARE exit status: good.\n",
        "----------------------------------------------------------------------------\n"
       ]
      },
      {
       "output_type": "stream",
       "stream": "stdout",
       "text": [
        "----------------------------------------------------------------------------\n",
        "GPREPARE -- Sat Apr  9 12:15:18 HST 2016\n",
        "\n",
        "Input list    = N20151208S0233\n",
        "Output list   = \n",
        "Output prefix = g\n",
        "Raw path      = /data/workspace/DRWorkshopAAO/NGC3310/raw/\n",
        "MDF dir       = gmos$data/\n",
        "Add MDF       = no\n",
        "\n"
       ]
      },
      {
       "output_type": "stream",
       "stream": "stdout",
       "text": [
        "Input  /data/workspace/DRWorkshopAAO/NGC3310/raw/N20151208S0233.fits   Output  gN20151208S0233.fits\n"
       ]
      },
      {
       "output_type": "stream",
       "stream": "stdout",
       "text": [
        "\n",
        "GPREPARE exit status: good.\n",
        "----------------------------------------------------------------------------\n"
       ]
      },
      {
       "output_type": "stream",
       "stream": "stdout",
       "text": [
        "\n",
        "Input files:\n",
        "gN20151208S0225\n",
        "gN20151208S0226\n",
        "gN20151208S0227\n",
        "gN20151208S0228\n",
        "gN20151208S0229\n",
        "gN20151208S0230\n",
        "gN20151208S0231\n",
        "gN20151208S0232\n",
        "gN20151208S0233\n"
       ]
      },
      {
       "output_type": "stream",
       "stream": "stdout",
       "text": [
        "\n"
       ]
      },
      {
       "output_type": "stream",
       "stream": "stdout",
       "text": [
        "Output files:\n",
        "rgN20151208S0225\n",
        "rgN20151208S0226\n",
        "rgN20151208S0227\n",
        "rgN20151208S0228\n",
        "rgN20151208S0229\n",
        "rgN20151208S0230\n",
        "rgN20151208S0231\n",
        "rgN20151208S0232\n",
        "rgN20151208S0233\n"
       ]
      },
      {
       "output_type": "stream",
       "stream": "stdout",
       "text": [
        "\n"
       ]
      },
      {
       "output_type": "stream",
       "stream": "stdout",
       "text": [
        "WARNING - GIREDUCE: Bad Pixel Mask filename is an empty string\n",
        "                    Only saturated pixels will be flagged\n",
        "GIREDUCE: Image rgN20151208S0225 overscan subtracted"
       ]
      },
      {
       "output_type": "stream",
       "stream": "stdout",
       "text": [
        "\n",
        "GIREDUCE: Image rgN20151208S0226 overscan subtracted"
       ]
      },
      {
       "output_type": "stream",
       "stream": "stdout",
       "text": [
        "\n",
        "GIREDUCE: Image rgN20151208S0227 overscan subtracted"
       ]
      },
      {
       "output_type": "stream",
       "stream": "stdout",
       "text": [
        "\n",
        "GIREDUCE: Image rgN20151208S0228 overscan subtracted"
       ]
      },
      {
       "output_type": "stream",
       "stream": "stdout",
       "text": [
        "\n",
        "GIREDUCE: Image rgN20151208S0229 overscan subtracted"
       ]
      },
      {
       "output_type": "stream",
       "stream": "stdout",
       "text": [
        "\n",
        "GIREDUCE: Image rgN20151208S0230 overscan subtracted"
       ]
      },
      {
       "output_type": "stream",
       "stream": "stdout",
       "text": [
        "\n",
        "GIREDUCE: Image rgN20151208S0231 overscan subtracted"
       ]
      },
      {
       "output_type": "stream",
       "stream": "stdout",
       "text": [
        "\n",
        "GIREDUCE: Image rgN20151208S0232 overscan subtracted"
       ]
      },
      {
       "output_type": "stream",
       "stream": "stdout",
       "text": [
        "\n",
        "GIREDUCE: Image rgN20151208S0233 overscan subtracted"
       ]
      },
      {
       "output_type": "stream",
       "stream": "stdout",
       "text": [
        "\n"
       ]
      },
      {
       "output_type": "stream",
       "stream": "stdout",
       "text": [
        "GIREDUCE: Image rgN20151208S0225 trimmed\n"
       ]
      },
      {
       "output_type": "stream",
       "stream": "stdout",
       "text": [
        "GIREDUCE: Image rgN20151208S0226 trimmed\n"
       ]
      },
      {
       "output_type": "stream",
       "stream": "stdout",
       "text": [
        "GIREDUCE: Image rgN20151208S0227 trimmed\n"
       ]
      },
      {
       "output_type": "stream",
       "stream": "stdout",
       "text": [
        "GIREDUCE: Image rgN20151208S0228 trimmed\n"
       ]
      },
      {
       "output_type": "stream",
       "stream": "stdout",
       "text": [
        "GIREDUCE: Image rgN20151208S0229 trimmed\n"
       ]
      },
      {
       "output_type": "stream",
       "stream": "stdout",
       "text": [
        "GIREDUCE: Image rgN20151208S0230 trimmed\n"
       ]
      },
      {
       "output_type": "stream",
       "stream": "stdout",
       "text": [
        "GIREDUCE: Image rgN20151208S0231 trimmed\n"
       ]
      },
      {
       "output_type": "stream",
       "stream": "stdout",
       "text": [
        "GIREDUCE: Image rgN20151208S0232 trimmed\n"
       ]
      },
      {
       "output_type": "stream",
       "stream": "stdout",
       "text": [
        "GIREDUCE: Image rgN20151208S0233 trimmed\n",
        "\n",
        "Output image       Bias                 Flat               Dark       Scale "
       ]
      },
      {
       "output_type": "stream",
       "stream": "stdout",
       "text": [
        "\n",
        "rgN20151208S0225   /data/workspace/DRWorkshopAAO/NGC3310/calib/bias/N20151208S0272_bias INDEF              INDEF       0.00\n"
       ]
      },
      {
       "output_type": "stream",
       "stream": "stdout",
       "text": [
        "GIREDUCE: Subtracted bias /data/workspace/DRWorkshopAAO/NGC3310/calib/bias/N20151208S0272_bias from rgN20151208S0225\n"
       ]
      },
      {
       "output_type": "stream",
       "stream": "stdout",
       "text": [
        "GIREDUCE: multiplying image rgN20151208S0225 by gain\n"
       ]
      },
      {
       "output_type": "stream",
       "stream": "stdout",
       "text": [
        "GIREDUCE: output counts in electrons\n",
        "Output image       Bias                 Flat               Dark       Scale "
       ]
      },
      {
       "output_type": "stream",
       "stream": "stdout",
       "text": [
        "\n",
        "rgN20151208S0226   /data/workspace/DRWorkshopAAO/NGC3310/calib/bias/N20151208S0272_bias INDEF              INDEF       0.00\n"
       ]
      },
      {
       "output_type": "stream",
       "stream": "stdout",
       "text": [
        "GIREDUCE: Subtracted bias /data/workspace/DRWorkshopAAO/NGC3310/calib/bias/N20151208S0272_bias from rgN20151208S0226\n"
       ]
      },
      {
       "output_type": "stream",
       "stream": "stdout",
       "text": [
        "GIREDUCE: multiplying image rgN20151208S0226 by gain\n"
       ]
      },
      {
       "output_type": "stream",
       "stream": "stdout",
       "text": [
        "GIREDUCE: output counts in electrons\n",
        "Output image       Bias                 Flat               Dark       Scale "
       ]
      },
      {
       "output_type": "stream",
       "stream": "stdout",
       "text": [
        "\n",
        "rgN20151208S0227   /data/workspace/DRWorkshopAAO/NGC3310/calib/bias/N20151208S0272_bias INDEF              INDEF       0.00\n"
       ]
      },
      {
       "output_type": "stream",
       "stream": "stdout",
       "text": [
        "GIREDUCE: Subtracted bias /data/workspace/DRWorkshopAAO/NGC3310/calib/bias/N20151208S0272_bias from rgN20151208S0227\n"
       ]
      },
      {
       "output_type": "stream",
       "stream": "stdout",
       "text": [
        "GIREDUCE: multiplying image rgN20151208S0227 by gain\n"
       ]
      },
      {
       "output_type": "stream",
       "stream": "stdout",
       "text": [
        "GIREDUCE: output counts in electrons\n",
        "Output image       Bias                 Flat               Dark       Scale "
       ]
      },
      {
       "output_type": "stream",
       "stream": "stdout",
       "text": [
        "\n",
        "rgN20151208S0228   /data/workspace/DRWorkshopAAO/NGC3310/calib/bias/N20151208S0272_bias INDEF              INDEF       0.00\n"
       ]
      },
      {
       "output_type": "stream",
       "stream": "stdout",
       "text": [
        "GIREDUCE: Subtracted bias /data/workspace/DRWorkshopAAO/NGC3310/calib/bias/N20151208S0272_bias from rgN20151208S0228\n"
       ]
      },
      {
       "output_type": "stream",
       "stream": "stdout",
       "text": [
        "GIREDUCE: multiplying image rgN20151208S0228 by gain\n"
       ]
      },
      {
       "output_type": "stream",
       "stream": "stdout",
       "text": [
        "GIREDUCE: output counts in electrons\n",
        "Output image       Bias                 Flat               Dark       Scale "
       ]
      },
      {
       "output_type": "stream",
       "stream": "stdout",
       "text": [
        "\n",
        "rgN20151208S0229   /data/workspace/DRWorkshopAAO/NGC3310/calib/bias/N20151208S0272_bias INDEF              INDEF       0.00\n"
       ]
      },
      {
       "output_type": "stream",
       "stream": "stdout",
       "text": [
        "GIREDUCE: Subtracted bias /data/workspace/DRWorkshopAAO/NGC3310/calib/bias/N20151208S0272_bias from rgN20151208S0229\n"
       ]
      },
      {
       "output_type": "stream",
       "stream": "stdout",
       "text": [
        "GIREDUCE: multiplying image rgN20151208S0229 by gain\n"
       ]
      },
      {
       "output_type": "stream",
       "stream": "stdout",
       "text": [
        "GIREDUCE: output counts in electrons\n",
        "Output image       Bias                 Flat               Dark       Scale "
       ]
      },
      {
       "output_type": "stream",
       "stream": "stdout",
       "text": [
        "\n",
        "rgN20151208S0230   /data/workspace/DRWorkshopAAO/NGC3310/calib/bias/N20151208S0272_bias INDEF              INDEF       0.00\n"
       ]
      },
      {
       "output_type": "stream",
       "stream": "stdout",
       "text": [
        "GIREDUCE: Subtracted bias /data/workspace/DRWorkshopAAO/NGC3310/calib/bias/N20151208S0272_bias from rgN20151208S0230\n"
       ]
      },
      {
       "output_type": "stream",
       "stream": "stdout",
       "text": [
        "GIREDUCE: multiplying image rgN20151208S0230 by gain\n"
       ]
      },
      {
       "output_type": "stream",
       "stream": "stdout",
       "text": [
        "GIREDUCE: output counts in electrons\n",
        "Output image       Bias                 Flat               Dark       Scale "
       ]
      },
      {
       "output_type": "stream",
       "stream": "stdout",
       "text": [
        "\n",
        "rgN20151208S0231   /data/workspace/DRWorkshopAAO/NGC3310/calib/bias/N20151208S0272_bias INDEF              INDEF       0.00\n"
       ]
      },
      {
       "output_type": "stream",
       "stream": "stdout",
       "text": [
        "GIREDUCE: Subtracted bias /data/workspace/DRWorkshopAAO/NGC3310/calib/bias/N20151208S0272_bias from rgN20151208S0231\n"
       ]
      },
      {
       "output_type": "stream",
       "stream": "stdout",
       "text": [
        "GIREDUCE: multiplying image rgN20151208S0231 by gain\n"
       ]
      },
      {
       "output_type": "stream",
       "stream": "stdout",
       "text": [
        "GIREDUCE: output counts in electrons\n",
        "Output image       Bias                 Flat               Dark       Scale "
       ]
      },
      {
       "output_type": "stream",
       "stream": "stdout",
       "text": [
        "\n",
        "rgN20151208S0232   /data/workspace/DRWorkshopAAO/NGC3310/calib/bias/N20151208S0272_bias INDEF              INDEF       0.00\n"
       ]
      },
      {
       "output_type": "stream",
       "stream": "stdout",
       "text": [
        "GIREDUCE: Subtracted bias /data/workspace/DRWorkshopAAO/NGC3310/calib/bias/N20151208S0272_bias from rgN20151208S0232\n"
       ]
      },
      {
       "output_type": "stream",
       "stream": "stdout",
       "text": [
        "GIREDUCE: multiplying image rgN20151208S0232 by gain\n"
       ]
      },
      {
       "output_type": "stream",
       "stream": "stdout",
       "text": [
        "GIREDUCE: output counts in electrons\n",
        "Output image       Bias                 Flat               Dark       Scale "
       ]
      },
      {
       "output_type": "stream",
       "stream": "stdout",
       "text": [
        "\n",
        "rgN20151208S0233   /data/workspace/DRWorkshopAAO/NGC3310/calib/bias/N20151208S0272_bias INDEF              INDEF       0.00\n"
       ]
      },
      {
       "output_type": "stream",
       "stream": "stdout",
       "text": [
        "GIREDUCE: Subtracted bias /data/workspace/DRWorkshopAAO/NGC3310/calib/bias/N20151208S0272_bias from rgN20151208S0233\n"
       ]
      },
      {
       "output_type": "stream",
       "stream": "stdout",
       "text": [
        "GIREDUCE: multiplying image rgN20151208S0233 by gain\n"
       ]
      },
      {
       "output_type": "stream",
       "stream": "stdout",
       "text": [
        "GIREDUCE: output counts in electrons\n"
       ]
      },
      {
       "output_type": "stream",
       "stream": "stdout",
       "text": [
        "\n",
        "GIREDUCE - Cleaning up -- Sat Apr  9 12:18:37 HST 2016\n"
       ]
      },
      {
       "output_type": "stream",
       "stream": "stdout",
       "text": [
        "\n",
        "GIREDUCE -- Sat Apr  9 12:18:37 HST 2016\n",
        "GIREDUCE exit status:  good.\n",
        "----------------------------------------------------------------------------\n"
       ]
      }
     ],
     "prompt_number": 7
    },
    {
     "cell_type": "code",
     "collapsed": false,
     "input": [
      "os.chdir(redux_path)\n",
      "\n",
      "for flatkey in flats.keys():\n",
      "    iraf.imdelete(flats[flatkey]['procflat'], verify='no')\n",
      "    \n",
      "    flatlist = flatkey+'.lis'\n",
      "    procflat = flats[flatkey]['procflat']\n",
      "    \n",
      "    print 'Creating twilight flat ', procflat\n",
      "    \n",
      "    # Create the processed flat\n",
      "    iraf.giflat('rg//@'+flatlist, outflat=procflat, fl_vardq='yes')\n",
      "    \n",
      "    # Copy the processed flat to the calibration directory\n",
      "    shutil.copy(procflat, procflat_path)\n",
      "\n",
      "# The processed flats are:\n",
      "os.listdir(procflat_path)"
     ],
     "language": "python",
     "metadata": {},
     "outputs": [
      {
       "output_type": "stream",
       "stream": "stdout",
       "text": [
        "Creating twilight flat  N20151208S0225_flat_r.fits\n",
        "----------------------------------------------------------------------------\n",
        "GIFLAT -- Sat Apr  9 14:03:18 HST 2016\n",
        " "
       ]
      },
      {
       "output_type": "stream",
       "stream": "stdout",
       "text": [
        "\n",
        "Flat field images = rg//@flat_20151208.lis\n",
        "Output flat field image = N20151208S0225_flat_r.fits\n",
        " \n"
       ]
      },
      {
       "output_type": "stream",
       "stream": "stdout",
       "text": [
        "WARNING - GIFLAT: using previously gireduce'd image: rgN20151208S0225\n"
       ]
      },
      {
       "output_type": "stream",
       "stream": "stdout",
       "text": [
        "WARNING - GIFLAT: using previously gireduce'd image: rgN20151208S0226\n"
       ]
      },
      {
       "output_type": "stream",
       "stream": "stdout",
       "text": [
        "WARNING - GIFLAT: using previously gireduce'd image: rgN20151208S0227\n"
       ]
      },
      {
       "output_type": "stream",
       "stream": "stdout",
       "text": [
        "WARNING - GIFLAT: using previously gireduce'd image: rgN20151208S0228\n"
       ]
      },
      {
       "output_type": "stream",
       "stream": "stdout",
       "text": [
        "WARNING - GIFLAT: using previously gireduce'd image: rgN20151208S0229\n"
       ]
      },
      {
       "output_type": "stream",
       "stream": "stdout",
       "text": [
        "WARNING - GIFLAT: using previously gireduce'd image: rgN20151208S0230\n"
       ]
      },
      {
       "output_type": "stream",
       "stream": "stdout",
       "text": [
        "WARNING - GIFLAT: using previously gireduce'd image: rgN20151208S0231\n"
       ]
      },
      {
       "output_type": "stream",
       "stream": "stdout",
       "text": [
        "WARNING - GIFLAT: using previously gireduce'd image: rgN20151208S0232\n"
       ]
      },
      {
       "output_type": "stream",
       "stream": "stdout",
       "text": [
        "WARNING - GIFLAT: using previously gireduce'd image: rgN20151208S0233\n"
       ]
      },
      {
       "output_type": "stream",
       "stream": "stdout",
       "text": [
        "Using input files:\n",
        "rgN20151208S0225\n",
        "rgN20151208S0226\n",
        "rgN20151208S0227\n",
        "rgN20151208S0228\n",
        "rgN20151208S0229\n",
        "rgN20151208S0230\n",
        "rgN20151208S0231\n",
        "rgN20151208S0232\n",
        "rgN20151208S0233\n"
       ]
      },
      {
       "output_type": "stream",
       "stream": "stdout",
       "text": [
        "Using STATSEC: [50:900,50:2250] from CCD2\n",
        "Using NORMSEC: [50:900,50:2250] from CCD2\n"
       ]
      },
      {
       "output_type": "stream",
       "stream": "stdout",
       "text": [
        "GIFLAT: Normalization factor 47136.13\n"
       ]
      },
      {
       "output_type": "stream",
       "stream": "stdout",
       "text": [
        "\n",
        "GIFLAT exit status: good.\n",
        "----------------------------------------------------------------------------\n"
       ]
      },
      {
       "metadata": {},
       "output_type": "pyout",
       "prompt_number": 8,
       "text": [
        "['N20151205S0018_flat_g.fits', 'N20151208S0225_flat_r.fits']"
       ]
      }
     ],
     "prompt_number": 8
    },
    {
     "cell_type": "heading",
     "level": 4,
     "metadata": {},
     "source": [
      "Visually inspect the processed twilight flats"
     ]
    },
    {
     "cell_type": "code",
     "collapsed": false,
     "input": [
      "for flatkey in flats.keys():\n",
      "    iraf.gdisplay(flats[flatkey]['procflat'], 1, fl_paste='yes')"
     ],
     "language": "python",
     "metadata": {},
     "outputs": [
      {
       "output_type": "stream",
       "stream": "stdout",
       "text": [
        "\n",
        "GDISPLAY - Started: 2016-04-09T14:03:58\n",
        "\n"
       ]
      },
      {
       "output_type": "stream",
       "stream": "stdout",
       "text": [
        "GDISPLAY: Temporary image name tmpout4367_1147N20151208S0225_flat_r.fits\n",
        "\n",
        "GMULTIAMP - Started: 2016-04-09T14:03:58\n",
        "\n"
       ]
      },
      {
       "output_type": "stream",
       "stream": "stdout",
       "text": [
        "GMULTIAMP: Tiling image...\n"
       ]
      },
      {
       "output_type": "stream",
       "stream": "stdout",
       "text": [
        "               Image tiled.\n"
       ]
      },
      {
       "output_type": "stream",
       "stream": "stdout",
       "text": [
        "\n",
        "GMULTIAMP - Finished: 2016-04-09T14:04:00\n",
        "GMULTIAMP - Exit status: GOOD\n",
        "\n"
       ]
      },
      {
       "output_type": "stream",
       "stream": "stdout",
       "text": [
        "GDISPLAY: Displaying image...\n",
        "\n",
        "GDISPLAY: Starting imexamine - quit with q"
       ]
      },
      {
       "output_type": "stream",
       "stream": "stdout",
       "text": [
        "\n",
        "\n",
        "GDISPLAY - Finished: 2016-04-09T14:04:08\n"
       ]
      },
      {
       "output_type": "stream",
       "stream": "stdout",
       "text": [
        "\n"
       ]
      }
     ],
     "prompt_number": 9
    },
    {
     "cell_type": "heading",
     "level": 2,
     "metadata": {},
     "source": [
      "<strike>STEP 6: Process the fringe frame</strike>"
     ]
    },
    {
     "cell_type": "heading",
     "level": 2,
     "metadata": {},
     "source": [
      "STEP 7: Process the target"
     ]
    },
    {
     "cell_type": "markdown",
     "metadata": {},
     "source": [
      "There is no significant fringing in the r-band.  No extra fringing correction will be necessary.  If you do want to learn about how to correct for fringing, see the i-band notebook.\n",
      "\n",
      "All we need to do here is the straighforward processing, i.e. the bias and flat correction.  (And overscan and trim.)"
     ]
    },
    {
     "cell_type": "heading",
     "level": 3,
     "metadata": {},
     "source": [
      "STEP 7.1: Bias and flat fielding of the target"
     ]
    },
    {
     "cell_type": "code",
     "collapsed": false,
     "input": [
      "os.chdir(redux_path)\n",
      "\n",
      "iraf.imdelete('g//@sci.lis', verify='no')\n",
      "iraf.imdelete('rg//@sci.lis', verify='no')\n",
      "\n",
      "iraf.gireduce('@sci.lis', rawpath=raw_path, fl_over='yes', fl_trim='yes', \\\n",
      "              fl_bias='yes', bias=science['scibias'], \\\n",
      "              fl_flat='yes', flat1=science['sciflat'], \\\n",
      "              fl_vardq='yes')"
     ],
     "language": "python",
     "metadata": {},
     "outputs": [
      {
       "output_type": "stream",
       "stream": "stdout",
       "text": [
        "----------------------------------------------------------------------------\n",
        "GIREDUCE -- Sat Apr  9 14:04:18 HST 2016\n",
        "\n"
       ]
      },
      {
       "output_type": "stream",
       "stream": "stdout",
       "text": [
        "----------------------------------------------------------------------------\n",
        "GPREPARE -- Sat Apr  9 14:04:18 HST 2016\n",
        "\n",
        "Input list    = N20151214S0243\n",
        "Output list   = \n",
        "Output prefix = g\n",
        "Raw path      = /data/workspace/DRWorkshopAAO/NGC3310/raw/\n",
        "MDF dir       = gmos$data/\n",
        "Add MDF       = no\n",
        "\n"
       ]
      },
      {
       "output_type": "stream",
       "stream": "stdout",
       "text": [
        "Input  /data/workspace/DRWorkshopAAO/NGC3310/raw/N20151214S0243.fits   Output  gN20151214S0243.fits\n"
       ]
      },
      {
       "output_type": "stream",
       "stream": "stdout",
       "text": [
        "\n",
        "GPREPARE exit status: good.\n",
        "----------------------------------------------------------------------------\n"
       ]
      },
      {
       "output_type": "stream",
       "stream": "stdout",
       "text": [
        "----------------------------------------------------------------------------\n",
        "GPREPARE -- Sat Apr  9 14:04:19 HST 2016\n",
        "\n",
        "Input list    = N20151214S0244\n",
        "Output list   = \n",
        "Output prefix = g\n",
        "Raw path      = /data/workspace/DRWorkshopAAO/NGC3310/raw/\n",
        "MDF dir       = gmos$data/\n",
        "Add MDF       = no\n",
        "\n"
       ]
      },
      {
       "output_type": "stream",
       "stream": "stdout",
       "text": [
        "Input  /data/workspace/DRWorkshopAAO/NGC3310/raw/N20151214S0244.fits   Output  gN20151214S0244.fits\n"
       ]
      },
      {
       "output_type": "stream",
       "stream": "stdout",
       "text": [
        "\n",
        "GPREPARE exit status: good.\n",
        "----------------------------------------------------------------------------\n"
       ]
      },
      {
       "output_type": "stream",
       "stream": "stdout",
       "text": [
        "----------------------------------------------------------------------------\n",
        "GPREPARE -- Sat Apr  9 14:04:20 HST 2016\n",
        "\n",
        "Input list    = N20151214S0245\n",
        "Output list   = \n",
        "Output prefix = g\n",
        "Raw path      = /data/workspace/DRWorkshopAAO/NGC3310/raw/\n",
        "MDF dir       = gmos$data/\n",
        "Add MDF       = no\n",
        "\n"
       ]
      },
      {
       "output_type": "stream",
       "stream": "stdout",
       "text": [
        "Input  /data/workspace/DRWorkshopAAO/NGC3310/raw/N20151214S0245.fits   Output  gN20151214S0245.fits\n"
       ]
      },
      {
       "output_type": "stream",
       "stream": "stdout",
       "text": [
        "\n",
        "GPREPARE exit status: good.\n",
        "----------------------------------------------------------------------------\n"
       ]
      },
      {
       "output_type": "stream",
       "stream": "stdout",
       "text": [
        "----------------------------------------------------------------------------\n",
        "GPREPARE -- Sat Apr  9 14:04:22 HST 2016\n",
        "\n",
        "Input list    = N20151214S0246\n",
        "Output list   = \n",
        "Output prefix = g\n",
        "Raw path      = /data/workspace/DRWorkshopAAO/NGC3310/raw/\n",
        "MDF dir       = gmos$data/\n",
        "Add MDF       = no\n",
        "\n"
       ]
      },
      {
       "output_type": "stream",
       "stream": "stdout",
       "text": [
        "Input  /data/workspace/DRWorkshopAAO/NGC3310/raw/N20151214S0246.fits   Output  gN20151214S0246.fits\n"
       ]
      },
      {
       "output_type": "stream",
       "stream": "stdout",
       "text": [
        "\n",
        "GPREPARE exit status: good.\n",
        "----------------------------------------------------------------------------\n",
        "\n",
        "Input files:\n",
        "gN20151214S0243\n",
        "gN20151214S0244\n",
        "gN20151214S0245\n",
        "gN20151214S0246\n"
       ]
      },
      {
       "output_type": "stream",
       "stream": "stdout",
       "text": [
        "\n"
       ]
      },
      {
       "output_type": "stream",
       "stream": "stdout",
       "text": [
        "Output files:\n",
        "rgN20151214S0243\n",
        "rgN20151214S0244\n",
        "rgN20151214S0245\n",
        "rgN20151214S0246\n"
       ]
      },
      {
       "output_type": "stream",
       "stream": "stdout",
       "text": [
        "\n"
       ]
      },
      {
       "output_type": "stream",
       "stream": "stdout",
       "text": [
        "WARNING - GIREDUCE: Bad Pixel Mask filename is an empty string\n",
        "                    Only saturated pixels will be flagged\n",
        "GIREDUCE: Image rgN20151214S0243 overscan subtracted"
       ]
      },
      {
       "output_type": "stream",
       "stream": "stdout",
       "text": [
        "\n",
        "GIREDUCE: Image rgN20151214S0244 overscan subtracted"
       ]
      },
      {
       "output_type": "stream",
       "stream": "stdout",
       "text": [
        "\n",
        "GIREDUCE: Image rgN20151214S0245 overscan subtracted"
       ]
      },
      {
       "output_type": "stream",
       "stream": "stdout",
       "text": [
        "\n",
        "GIREDUCE: Image rgN20151214S0246 overscan subtracted"
       ]
      },
      {
       "output_type": "stream",
       "stream": "stdout",
       "text": [
        "\n"
       ]
      },
      {
       "output_type": "stream",
       "stream": "stdout",
       "text": [
        "GIREDUCE: Image rgN20151214S0243 trimmed\n"
       ]
      },
      {
       "output_type": "stream",
       "stream": "stdout",
       "text": [
        "GIREDUCE: Image rgN20151214S0244 trimmed\n"
       ]
      },
      {
       "output_type": "stream",
       "stream": "stdout",
       "text": [
        "GIREDUCE: Image rgN20151214S0245 trimmed\n"
       ]
      },
      {
       "output_type": "stream",
       "stream": "stdout",
       "text": [
        "GIREDUCE: Image rgN20151214S0246 trimmed\n",
        "\n",
        "Output image       Bias                 Flat               Dark       Scale "
       ]
      },
      {
       "output_type": "stream",
       "stream": "stdout",
       "text": [
        "\n",
        "rgN20151214S0243   N20151214S0346_bias  N20151208S0225_flat_r INDEF       0.00\n"
       ]
      },
      {
       "output_type": "stream",
       "stream": "stdout",
       "text": [
        "GIREDUCE: Subtracted bias N20151214S0346_bias from rgN20151214S0243\n",
        "GIREDUCE: Divided image rgN20151214S0243 by flatfield N20151208S0225_flat_r\n"
       ]
      },
      {
       "output_type": "stream",
       "stream": "stdout",
       "text": [
        "GIREDUCE: multiplying image rgN20151214S0243 by gain\n"
       ]
      },
      {
       "output_type": "stream",
       "stream": "stdout",
       "text": [
        "GIREDUCE: output counts in electrons\n",
        "Output image       Bias                 Flat               Dark       Scale "
       ]
      },
      {
       "output_type": "stream",
       "stream": "stdout",
       "text": [
        "\n",
        "rgN20151214S0244   N20151214S0346_bias  N20151208S0225_flat_r INDEF       0.00\n"
       ]
      },
      {
       "output_type": "stream",
       "stream": "stdout",
       "text": [
        "GIREDUCE: Subtracted bias N20151214S0346_bias from rgN20151214S0244\n",
        "GIREDUCE: Divided image rgN20151214S0244 by flatfield N20151208S0225_flat_r\n"
       ]
      },
      {
       "output_type": "stream",
       "stream": "stdout",
       "text": [
        "GIREDUCE: multiplying image rgN20151214S0244 by gain\n"
       ]
      },
      {
       "output_type": "stream",
       "stream": "stdout",
       "text": [
        "GIREDUCE: output counts in electrons\n",
        "Output image       Bias                 Flat               Dark       Scale "
       ]
      },
      {
       "output_type": "stream",
       "stream": "stdout",
       "text": [
        "\n",
        "rgN20151214S0245   N20151214S0346_bias  N20151208S0225_flat_r INDEF       0.00\n"
       ]
      },
      {
       "output_type": "stream",
       "stream": "stdout",
       "text": [
        "GIREDUCE: Subtracted bias N20151214S0346_bias from rgN20151214S0245\n",
        "GIREDUCE: Divided image rgN20151214S0245 by flatfield N20151208S0225_flat_r\n"
       ]
      },
      {
       "output_type": "stream",
       "stream": "stdout",
       "text": [
        "GIREDUCE: multiplying image rgN20151214S0245 by gain\n"
       ]
      },
      {
       "output_type": "stream",
       "stream": "stdout",
       "text": [
        "GIREDUCE: output counts in electrons\n",
        "Output image       Bias                 Flat               Dark       Scale "
       ]
      },
      {
       "output_type": "stream",
       "stream": "stdout",
       "text": [
        "\n",
        "rgN20151214S0246   N20151214S0346_bias  N20151208S0225_flat_r INDEF       0.00\n"
       ]
      },
      {
       "output_type": "stream",
       "stream": "stdout",
       "text": [
        "GIREDUCE: Subtracted bias N20151214S0346_bias from rgN20151214S0246\n",
        "GIREDUCE: Divided image rgN20151214S0246 by flatfield N20151208S0225_flat_r\n"
       ]
      },
      {
       "output_type": "stream",
       "stream": "stdout",
       "text": [
        "GIREDUCE: multiplying image rgN20151214S0246 by gain\n"
       ]
      },
      {
       "output_type": "stream",
       "stream": "stdout",
       "text": [
        "GIREDUCE: output counts in electrons\n"
       ]
      },
      {
       "output_type": "stream",
       "stream": "stdout",
       "text": [
        "\n",
        "GIREDUCE - Cleaning up -- Sat Apr  9 14:05:58 HST 2016\n"
       ]
      },
      {
       "output_type": "stream",
       "stream": "stdout",
       "text": [
        "\n",
        "GIREDUCE -- Sat Apr  9 14:05:58 HST 2016\n",
        "GIREDUCE exit status:  good.\n",
        "----------------------------------------------------------------------------\n"
       ]
      }
     ],
     "prompt_number": 10
    },
    {
     "cell_type": "heading",
     "level": 4,
     "metadata": {},
     "source": [
      "Visually inspect the reduce science frames"
     ]
    },
    {
     "cell_type": "code",
     "collapsed": false,
     "input": [
      "sciframes = open('sci.lis', 'r')\n",
      "for line in sciframes:\n",
      "    frame = line.strip()\n",
      "    iraf.gdisplay('rg'+frame, 1, fl_paste='yes')\n",
      "sciframes.close()"
     ],
     "language": "python",
     "metadata": {},
     "outputs": [
      {
       "output_type": "stream",
       "stream": "stdout",
       "text": [
        "\n",
        "GDISPLAY - Started: 2016-04-09T14:06:20\n",
        "\n"
       ]
      },
      {
       "output_type": "stream",
       "stream": "stdout",
       "text": [
        "GDISPLAY: Temporary image name tmpout4367_1275rgN20151214S0243.fits\n",
        "\n",
        "GMULTIAMP - Started: 2016-04-09T14:06:20\n",
        "\n"
       ]
      },
      {
       "output_type": "stream",
       "stream": "stdout",
       "text": [
        "GMULTIAMP: Tiling image...\n"
       ]
      },
      {
       "output_type": "stream",
       "stream": "stdout",
       "text": [
        "               Image tiled.\n"
       ]
      },
      {
       "output_type": "stream",
       "stream": "stdout",
       "text": [
        "\n",
        "GMULTIAMP - Finished: 2016-04-09T14:06:22\n",
        "GMULTIAMP - Exit status: GOOD\n",
        "\n"
       ]
      },
      {
       "output_type": "stream",
       "stream": "stdout",
       "text": [
        "GDISPLAY: Displaying image...\n",
        "\n",
        "GDISPLAY: Starting imexamine - quit with q"
       ]
      },
      {
       "output_type": "stream",
       "stream": "stdout",
       "text": [
        "\n",
        "\n",
        "GDISPLAY - Finished: 2016-04-09T14:06:29\n"
       ]
      },
      {
       "output_type": "stream",
       "stream": "stdout",
       "text": [
        "\n",
        "\n",
        "GDISPLAY - Started: 2016-04-09T14:06:29\n",
        "\n"
       ]
      },
      {
       "output_type": "stream",
       "stream": "stdout",
       "text": [
        "GDISPLAY: Temporary image name tmpout4367_1309rgN20151214S0244.fits\n",
        "\n",
        "GMULTIAMP - Started: 2016-04-09T14:06:30\n",
        "\n"
       ]
      },
      {
       "output_type": "stream",
       "stream": "stdout",
       "text": [
        "GMULTIAMP: Tiling image...\n"
       ]
      },
      {
       "output_type": "stream",
       "stream": "stdout",
       "text": [
        "               Image tiled.\n"
       ]
      },
      {
       "output_type": "stream",
       "stream": "stdout",
       "text": [
        "\n",
        "GMULTIAMP - Finished: 2016-04-09T14:06:32\n",
        "GMULTIAMP - Exit status: GOOD\n",
        "\n"
       ]
      },
      {
       "output_type": "stream",
       "stream": "stdout",
       "text": [
        "GDISPLAY: Displaying image...\n",
        "\n",
        "GDISPLAY: Starting imexamine - quit with q"
       ]
      },
      {
       "output_type": "stream",
       "stream": "stdout",
       "text": [
        "\n",
        "\n",
        "GDISPLAY - Finished: 2016-04-09T14:06:34\n"
       ]
      },
      {
       "output_type": "stream",
       "stream": "stdout",
       "text": [
        "\n",
        "\n",
        "GDISPLAY - Started: 2016-04-09T14:06:34\n",
        "\n"
       ]
      },
      {
       "output_type": "stream",
       "stream": "stdout",
       "text": [
        "GDISPLAY: Temporary image name tmpout4367_1343rgN20151214S0245.fits\n",
        "\n",
        "GMULTIAMP - Started: 2016-04-09T14:06:34\n",
        "\n"
       ]
      },
      {
       "output_type": "stream",
       "stream": "stdout",
       "text": [
        "GMULTIAMP: Tiling image...\n"
       ]
      },
      {
       "output_type": "stream",
       "stream": "stdout",
       "text": [
        "               Image tiled.\n"
       ]
      },
      {
       "output_type": "stream",
       "stream": "stdout",
       "text": [
        "\n",
        "GMULTIAMP - Finished: 2016-04-09T14:06:36\n",
        "GMULTIAMP - Exit status: GOOD\n",
        "\n"
       ]
      },
      {
       "output_type": "stream",
       "stream": "stdout",
       "text": [
        "GDISPLAY: Displaying image...\n",
        "\n",
        "GDISPLAY: Starting imexamine - quit with q"
       ]
      },
      {
       "output_type": "stream",
       "stream": "stdout",
       "text": [
        "\n",
        "\n",
        "GDISPLAY - Finished: 2016-04-09T14:06:39\n"
       ]
      },
      {
       "output_type": "stream",
       "stream": "stdout",
       "text": [
        "\n",
        "\n",
        "GDISPLAY - Started: 2016-04-09T14:06:39\n",
        "\n"
       ]
      },
      {
       "output_type": "stream",
       "stream": "stdout",
       "text": [
        "GDISPLAY: Temporary image name tmpout4367_1377rgN20151214S0246.fits\n",
        "\n",
        "GMULTIAMP - Started: 2016-04-09T14:06:39\n",
        "\n"
       ]
      },
      {
       "output_type": "stream",
       "stream": "stdout",
       "text": [
        "GMULTIAMP: Tiling image...\n"
       ]
      },
      {
       "output_type": "stream",
       "stream": "stdout",
       "text": [
        "               Image tiled.\n"
       ]
      },
      {
       "output_type": "stream",
       "stream": "stdout",
       "text": [
        "\n",
        "GMULTIAMP - Finished: 2016-04-09T14:06:41\n",
        "GMULTIAMP - Exit status: GOOD\n",
        "\n"
       ]
      },
      {
       "output_type": "stream",
       "stream": "stdout",
       "text": [
        "GDISPLAY: Displaying image...\n",
        "\n",
        "GDISPLAY: Starting imexamine - quit with q"
       ]
      },
      {
       "output_type": "stream",
       "stream": "stdout",
       "text": [
        "\n",
        "\n",
        "GDISPLAY - Finished: 2016-04-09T14:06:43\n"
       ]
      },
      {
       "output_type": "stream",
       "stream": "stdout",
       "text": [
        "\n"
       ]
      }
     ],
     "prompt_number": 11
    },
    {
     "cell_type": "heading",
     "level": 3,
     "metadata": {},
     "source": [
      "<strike>STEP 7.2: Fringe removal</strike>"
     ]
    },
    {
     "cell_type": "heading",
     "level": 2,
     "metadata": {},
     "source": [
      "STEP 8: Mosaic the reduced target frames"
     ]
    },
    {
     "cell_type": "code",
     "collapsed": false,
     "input": [
      "iraf.imdelete('mrg//@sci.lis', verify='no')\n",
      "\n",
      "iraf.gmosaic('rg//@sci.lis', fl_vardq='yes')"
     ],
     "language": "python",
     "metadata": {},
     "outputs": [
      {
       "output_type": "stream",
       "stream": "stdout",
       "text": [
        "GMOSAIC \n",
        "GMOSAIC -------------------------------------------------------------------\n",
        "GMOSAIC Log opened at [Sat 14:06:55 09-Apr-2016]\n",
        "GMOSAIC \n",
        "GMOSAIC --------------------\n",
        "GMOSAIC Input Parameters:\n",
        "GMOSAIC      inimages       = rg//@sci.lis\n",
        "GMOSAIC      outimages      = \n",
        "GMOSAIC      outpref        = m\n",
        "GMOSAIC      fl_paste       = no\n",
        "GMOSAIC      fl_vardq       = yes\n",
        "GMOSAIC      fl_fixpix      = no\n",
        "GMOSAIC      fl_clean       = yes\n",
        "GMOSAIC      fl_fulldq      = no\n",
        "GMOSAIC      bitflags       = all\n",
        "GMOSAIC      dqthresh       = 0.1\n",
        "GMOSAIC      geointer       = linear\n",
        "GMOSAIC      gap            = default\n",
        "GMOSAIC      bpmfile        = gmos$data/chipgaps.dat\n",
        "GMOSAIC      statsec        = default\n",
        "GMOSAIC      obsmode        = IMAGE\n",
        "GMOSAIC      sci_ext        = SCI\n",
        "GMOSAIC      var_ext        = VAR\n",
        "GMOSAIC      dq_ext         = DQ\n",
        "GMOSAIC      key_detsec     = DETSEC\n",
        "GMOSAIC      key_ccdsec     = CCDSEC\n",
        "GMOSAIC      key_datsec     = DATASEC\n",
        "GMOSAIC      key_ccdsum     = CCDSUM\n",
        "GMOSAIC      key_obsmode    = OBSMODE\n",
        "GMOSAIC      logfile        = \n",
        "GMOSAIC      verbose        = yes\n",
        "GMOSAIC      fl_real        = no\n",
        "GMOSAIC --------------------\n"
       ]
      },
      {
       "output_type": "stream",
       "stream": "stdout",
       "text": [
        "GMOSAIC Input: rgN20151214S0243  Output: mrgN20151214S0243.fits\n"
       ]
      },
      {
       "output_type": "stream",
       "stream": "stdout",
       "text": [
        "GMOSAIC imcopy  rgN20151214S0243[SCI,2][1:512,1:2304]  tmptile4367_1426[1,append][1:512,1:2304]  INDEF  0.\n",
        "GMOSAIC imcopy  rgN20151214S0243[SCI,1][1:512,1:2304]  tmptile4367_1426[1,append][513:1024,1:2304]  INDEF  0.\n",
        "GMOSAIC imcopy  rgN20151214S0243[VAR,2][1:512,1:2304]  tmptile4367_1426[2,append][1:512,1:2304]  INDEF  0.\n",
        "GMOSAIC imcopy  rgN20151214S0243[VAR,1][1:512,1:2304]  tmptile4367_1426[2,append][513:1024,1:2304]  INDEF  0.\n",
        "GMOSAIC imcopy  rgN20151214S0243[DQ,2][1:512,1:2304]  tmptile4367_1426[3,append][1:512,1:2304]  INDEF  0.\n",
        "GMOSAIC imcopy  rgN20151214S0243[DQ,1][1:512,1:2304]  tmptile4367_1426[3,append][513:1024,1:2304]  INDEF  0.\n"
       ]
      },
      {
       "output_type": "stream",
       "stream": "stdout",
       "text": [
        "GMOSAIC imcopy  rgN20151214S0243[SCI,4][1:512,1:2304]  tmptile4367_1427[1,append][1:512,1:2304]  INDEF  0.\n",
        "GMOSAIC imcopy  rgN20151214S0243[SCI,3][1:512,1:2304]  tmptile4367_1427[1,append][513:1024,1:2304]  INDEF  0.\n",
        "GMOSAIC imcopy  rgN20151214S0243[VAR,4][1:512,1:2304]  tmptile4367_1427[2,append][1:512,1:2304]  INDEF  0.\n",
        "GMOSAIC imcopy  rgN20151214S0243[VAR,3][1:512,1:2304]  tmptile4367_1427[2,append][513:1024,1:2304]  INDEF  0.\n",
        "GMOSAIC imcopy  rgN20151214S0243[DQ,4][1:512,1:2304]  tmptile4367_1427[3,append][1:512,1:2304]  INDEF  0.\n",
        "GMOSAIC imcopy  rgN20151214S0243[DQ,3][1:512,1:2304]  tmptile4367_1427[3,append][513:1024,1:2304]  INDEF  0.\n"
       ]
      },
      {
       "output_type": "stream",
       "stream": "stdout",
       "text": [
        "GMOSAIC imcopy  rgN20151214S0243[SCI,5][1:512,1:2304]  tmptile4367_1428[1,append][1:512,1:2304]  INDEF  0.\n",
        "GMOSAIC imcopy  rgN20151214S0243[SCI,6][1:512,1:2304]  tmptile4367_1428[1,append][513:1024,1:2304]  INDEF  0.\n",
        "GMOSAIC imcopy  rgN20151214S0243[VAR,5][1:512,1:2304]  tmptile4367_1428[2,append][1:512,1:2304]  INDEF  0.\n",
        "GMOSAIC imcopy  rgN20151214S0243[VAR,6][1:512,1:2304]  tmptile4367_1428[2,append][513:1024,1:2304]  INDEF  0.\n",
        "GMOSAIC imcopy  rgN20151214S0243[DQ,5][1:512,1:2304]  tmptile4367_1428[3,append][1:512,1:2304]  INDEF  0.\n",
        "GMOSAIC imcopy  rgN20151214S0243[DQ,6][1:512,1:2304]  tmptile4367_1428[3,append][513:1024,1:2304]  INDEF  0.\n"
       ]
      },
      {
       "output_type": "stream",
       "stream": "stdout",
       "text": [
        "GMOSAIC Setting rotation Xrot[1]=-0.009000, Yrot[1]=-0.009000\n"
       ]
      },
      {
       "output_type": "stream",
       "stream": "stdout",
       "text": [
        "GMOSAIC Setting rotation Xrot[2]= 0.000000, Yrot[2]= 0.000000\n"
       ]
      },
      {
       "output_type": "stream",
       "stream": "stdout",
       "text": [
        "GMOSAIC Setting rotation Xrot[3]=-0.003000, Yrot[3]=-0.003000\n"
       ]
      },
      {
       "output_type": "stream",
       "stream": "stdout",
       "text": [
        "GMOSAIC \n",
        "GMOSAIC Transforming image tmpimg4367_1422[SCI,1][1:1024,1:2304] to image tmpchipsci4367_1429\n",
        "GMOSAIC     xshift: 2.03 yshift: 0.29 xmag: 1.00 ymag: 1.00 xrot: 359.99 yrot: 359.99\n",
        "GMOSAIC \n",
        "GMOSAIC Transforming image tmpimg4367_1422[VAR,1][1:1024,1:2304] to image tmpchipvar4367_1430\n",
        "GMOSAIC     xshift: 2.03 yshift: 0.29 xmag: 1.00 ymag: 1.00 xrot: 359.99 yrot: 359.99\n",
        "GMOSAIC \n",
        "GMOSAIC Transforming image tmpimg4367_1422[DQ,1][1:1024,1:2304] to image tmpdq_transimg4367_1418.fits\n",
        "GMOSAIC     xshift: 2.03 yshift: 0.29 xmag: 1.00 ymag: 1.00 xrot: 359.99 yrot: 359.99\n"
       ]
      },
      {
       "output_type": "stream",
       "stream": "stdout",
       "text": [
        "GMOSAIC \n",
        "GMOSAIC Transforming image tmpimg4367_1422[SCI,2][1:1024,1:2304] to image tmpchipsci4367_1432\n",
        "GMOSAIC     xshift: 0.00 yshift: 0.00 xmag: 1.00 ymag: 1.00 xrot: 0.00 yrot: 0.00\n",
        "GMOSAIC \n",
        "GMOSAIC Transforming image tmpimg4367_1422[VAR,2][1:1024,1:2304] to image tmpchipvar4367_1433\n",
        "GMOSAIC     xshift: 0.00 yshift: 0.00 xmag: 1.00 ymag: 1.00 xrot: 0.00 yrot: 0.00\n"
       ]
      },
      {
       "output_type": "stream",
       "stream": "stdout",
       "text": [
        "GMOSAIC \n",
        "GMOSAIC Transforming image tmpimg4367_1422[SCI,3][1:1024,1:2304] to image tmpchipsci4367_1435\n",
        "GMOSAIC     xshift: -1.84 yshift: -1.05 xmag: 1.00 ymag: 1.00 xrot: 360.00 yrot: 360.00\n",
        "GMOSAIC \n",
        "GMOSAIC Transforming image tmpimg4367_1422[VAR,3][1:1024,1:2304] to image tmpchipvar4367_1436\n",
        "GMOSAIC     xshift: -1.84 yshift: -1.05 xmag: 1.00 ymag: 1.00 xrot: 360.00 yrot: 360.00\n",
        "GMOSAIC \n",
        "GMOSAIC Transforming image tmpimg4367_1422[DQ,3][1:1024,1:2304] to image tmpdq_transimg4367_1418.fits\n",
        "GMOSAIC     xshift: -1.84 yshift: -1.05 xmag: 1.00 ymag: 1.00 xrot: 360.00 yrot: 360.00\n"
       ]
      },
      {
       "output_type": "stream",
       "stream": "stdout",
       "text": [
        "GMOSAIC imcopy  tmpchipsci4367_1429  mrgN20151214S0243.fits[1,append][1:1024,1:2304]  INDEF  0.\n",
        "GMOSAIC imcopy  tmpchipsci4367_1432  mrgN20151214S0243.fits[1,append][1043:2066,1:2304]  INDEF  0.\n",
        "GMOSAIC imcopy  tmpchipsci4367_1435  mrgN20151214S0243.fits[1,append][2085:3108,1:2304]  INDEF  0.\n",
        "GMOSAIC imcopy  tmpchipvar4367_1430  mrgN20151214S0243.fits[2,append][1:1024,1:2304]  INDEF  0.\n",
        "GMOSAIC imcopy  tmpchipvar4367_1433  mrgN20151214S0243.fits[2,append][1043:2066,1:2304]  INDEF  0.\n",
        "GMOSAIC imcopy  tmpchipvar4367_1436  mrgN20151214S0243.fits[2,append][2085:3108,1:2304]  INDEF  0.\n",
        "GMOSAIC imcopy  tmpchipdq4367_1431  mrgN20151214S0243.fits[3,append][1:1024,1:2304]  INDEF  0.\n",
        "GMOSAIC imcopy  tmpchipdq4367_1434  mrgN20151214S0243.fits[3,append][1043:2066,1:2304]  INDEF  0.\n",
        "GMOSAIC imcopy  tmpchipdq4367_1437  mrgN20151214S0243.fits[3,append][2085:3108,1:2304]  INDEF  0.\n"
       ]
      },
      {
       "output_type": "stream",
       "stream": "stdout",
       "text": [
        "gmos$data/gmos-n_bpm_e2v_22_6amp_v1_mosaic.pl\n",
        "GMOSAIC Cleaning areas outside imaging field, cleaning value = 1866.788\n"
       ]
      },
      {
       "output_type": "stream",
       "stream": "stdout",
       "text": [
        "GMOSAIC Input: rgN20151214S0244  Output: mrgN20151214S0244.fits\n"
       ]
      },
      {
       "output_type": "stream",
       "stream": "stdout",
       "text": [
        "GMOSAIC imcopy  rgN20151214S0244[SCI,2][1:512,1:2304]  tmptile4367_1442[1,append][1:512,1:2304]  INDEF  0.\n",
        "GMOSAIC imcopy  rgN20151214S0244[SCI,1][1:512,1:2304]  tmptile4367_1442[1,append][513:1024,1:2304]  INDEF  0.\n",
        "GMOSAIC imcopy  rgN20151214S0244[VAR,2][1:512,1:2304]  tmptile4367_1442[2,append][1:512,1:2304]  INDEF  0.\n",
        "GMOSAIC imcopy  rgN20151214S0244[VAR,1][1:512,1:2304]  tmptile4367_1442[2,append][513:1024,1:2304]  INDEF  0.\n",
        "GMOSAIC imcopy  rgN20151214S0244[DQ,2][1:512,1:2304]  tmptile4367_1442[3,append][1:512,1:2304]  INDEF  0.\n",
        "GMOSAIC imcopy  rgN20151214S0244[DQ,1][1:512,1:2304]  tmptile4367_1442[3,append][513:1024,1:2304]  INDEF  0.\n"
       ]
      },
      {
       "output_type": "stream",
       "stream": "stdout",
       "text": [
        "GMOSAIC imcopy  rgN20151214S0244[SCI,4][1:512,1:2304]  tmptile4367_1443[1,append][1:512,1:2304]  INDEF  0.\n",
        "GMOSAIC imcopy  rgN20151214S0244[SCI,3][1:512,1:2304]  tmptile4367_1443[1,append][513:1024,1:2304]  INDEF  0.\n",
        "GMOSAIC imcopy  rgN20151214S0244[VAR,4][1:512,1:2304]  tmptile4367_1443[2,append][1:512,1:2304]  INDEF  0.\n",
        "GMOSAIC imcopy  rgN20151214S0244[VAR,3][1:512,1:2304]  tmptile4367_1443[2,append][513:1024,1:2304]  INDEF  0.\n",
        "GMOSAIC imcopy  rgN20151214S0244[DQ,4][1:512,1:2304]  tmptile4367_1443[3,append][1:512,1:2304]  INDEF  0.\n",
        "GMOSAIC imcopy  rgN20151214S0244[DQ,3][1:512,1:2304]  tmptile4367_1443[3,append][513:1024,1:2304]  INDEF  0.\n"
       ]
      },
      {
       "output_type": "stream",
       "stream": "stdout",
       "text": [
        "GMOSAIC imcopy  rgN20151214S0244[SCI,5][1:512,1:2304]  tmptile4367_1444[1,append][1:512,1:2304]  INDEF  0.\n",
        "GMOSAIC imcopy  rgN20151214S0244[SCI,6][1:512,1:2304]  tmptile4367_1444[1,append][513:1024,1:2304]  INDEF  0.\n",
        "GMOSAIC imcopy  rgN20151214S0244[VAR,5][1:512,1:2304]  tmptile4367_1444[2,append][1:512,1:2304]  INDEF  0.\n",
        "GMOSAIC imcopy  rgN20151214S0244[VAR,6][1:512,1:2304]  tmptile4367_1444[2,append][513:1024,1:2304]  INDEF  0.\n",
        "GMOSAIC imcopy  rgN20151214S0244[DQ,5][1:512,1:2304]  tmptile4367_1444[3,append][1:512,1:2304]  INDEF  0.\n",
        "GMOSAIC imcopy  rgN20151214S0244[DQ,6][1:512,1:2304]  tmptile4367_1444[3,append][513:1024,1:2304]  INDEF  0.\n"
       ]
      },
      {
       "output_type": "stream",
       "stream": "stdout",
       "text": [
        "GMOSAIC Setting rotation Xrot[1]=-0.009000, Yrot[1]=-0.009000\n"
       ]
      },
      {
       "output_type": "stream",
       "stream": "stdout",
       "text": [
        "GMOSAIC Setting rotation Xrot[2]= 0.000000, Yrot[2]= 0.000000\n"
       ]
      },
      {
       "output_type": "stream",
       "stream": "stdout",
       "text": [
        "GMOSAIC Setting rotation Xrot[3]=-0.003000, Yrot[3]=-0.003000\n"
       ]
      },
      {
       "output_type": "stream",
       "stream": "stdout",
       "text": [
        "GMOSAIC \n",
        "GMOSAIC Transforming image tmpimg4367_1438[SCI,1][1:1024,1:2304] to image tmpchipsci4367_1445\n",
        "GMOSAIC     xshift: 2.03 yshift: 0.29 xmag: 1.00 ymag: 1.00 xrot: 359.99 yrot: 359.99\n",
        "GMOSAIC \n",
        "GMOSAIC Transforming image tmpimg4367_1438[VAR,1][1:1024,1:2304] to image tmpchipvar4367_1446\n",
        "GMOSAIC     xshift: 2.03 yshift: 0.29 xmag: 1.00 ymag: 1.00 xrot: 359.99 yrot: 359.99\n",
        "GMOSAIC \n",
        "GMOSAIC Transforming image tmpimg4367_1438[DQ,1][1:1024,1:2304] to image tmpdq_transimg4367_1418.fits\n",
        "GMOSAIC     xshift: 2.03 yshift: 0.29 xmag: 1.00 ymag: 1.00 xrot: 359.99 yrot: 359.99\n"
       ]
      },
      {
       "output_type": "stream",
       "stream": "stdout",
       "text": [
        "GMOSAIC \n",
        "GMOSAIC Transforming image tmpimg4367_1438[SCI,2][1:1024,1:2304] to image tmpchipsci4367_1448\n",
        "GMOSAIC     xshift: 0.00 yshift: 0.00 xmag: 1.00 ymag: 1.00 xrot: 0.00 yrot: 0.00\n",
        "GMOSAIC \n",
        "GMOSAIC Transforming image tmpimg4367_1438[VAR,2][1:1024,1:2304] to image tmpchipvar4367_1449\n",
        "GMOSAIC     xshift: 0.00 yshift: 0.00 xmag: 1.00 ymag: 1.00 xrot: 0.00 yrot: 0.00\n"
       ]
      },
      {
       "output_type": "stream",
       "stream": "stdout",
       "text": [
        "GMOSAIC \n",
        "GMOSAIC Transforming image tmpimg4367_1438[SCI,3][1:1024,1:2304] to image tmpchipsci4367_1451\n",
        "GMOSAIC     xshift: -1.84 yshift: -1.05 xmag: 1.00 ymag: 1.00 xrot: 360.00 yrot: 360.00\n",
        "GMOSAIC \n",
        "GMOSAIC Transforming image tmpimg4367_1438[VAR,3][1:1024,1:2304] to image tmpchipvar4367_1452\n",
        "GMOSAIC     xshift: -1.84 yshift: -1.05 xmag: 1.00 ymag: 1.00 xrot: 360.00 yrot: 360.00\n",
        "GMOSAIC \n",
        "GMOSAIC Transforming image tmpimg4367_1438[DQ,3][1:1024,1:2304] to image tmpdq_transimg4367_1418.fits\n",
        "GMOSAIC     xshift: -1.84 yshift: -1.05 xmag: 1.00 ymag: 1.00 xrot: 360.00 yrot: 360.00\n"
       ]
      },
      {
       "output_type": "stream",
       "stream": "stdout",
       "text": [
        "GMOSAIC imcopy  tmpchipsci4367_1445  mrgN20151214S0244.fits[1,append][1:1024,1:2304]  INDEF  0.\n",
        "GMOSAIC imcopy  tmpchipsci4367_1448  mrgN20151214S0244.fits[1,append][1043:2066,1:2304]  INDEF  0.\n",
        "GMOSAIC imcopy  tmpchipsci4367_1451  mrgN20151214S0244.fits[1,append][2085:3108,1:2304]  INDEF  0.\n",
        "GMOSAIC imcopy  tmpchipvar4367_1446  mrgN20151214S0244.fits[2,append][1:1024,1:2304]  INDEF  0.\n",
        "GMOSAIC imcopy  tmpchipvar4367_1449  mrgN20151214S0244.fits[2,append][1043:2066,1:2304]  INDEF  0.\n",
        "GMOSAIC imcopy  tmpchipvar4367_1452  mrgN20151214S0244.fits[2,append][2085:3108,1:2304]  INDEF  0.\n",
        "GMOSAIC imcopy  tmpchipdq4367_1447  mrgN20151214S0244.fits[3,append][1:1024,1:2304]  INDEF  0.\n",
        "GMOSAIC imcopy  tmpchipdq4367_1450  mrgN20151214S0244.fits[3,append][1043:2066,1:2304]  INDEF  0.\n",
        "GMOSAIC imcopy  tmpchipdq4367_1453  mrgN20151214S0244.fits[3,append][2085:3108,1:2304]  INDEF  0.\n"
       ]
      },
      {
       "output_type": "stream",
       "stream": "stdout",
       "text": [
        "gmos$data/gmos-n_bpm_e2v_22_6amp_v1_mosaic.pl\n",
        "GMOSAIC Cleaning areas outside imaging field, cleaning value = 1841.313\n"
       ]
      },
      {
       "output_type": "stream",
       "stream": "stdout",
       "text": [
        "GMOSAIC Input: rgN20151214S0245  Output: mrgN20151214S0245.fits\n"
       ]
      },
      {
       "output_type": "stream",
       "stream": "stdout",
       "text": [
        "GMOSAIC imcopy  rgN20151214S0245[SCI,2][1:512,1:2304]  tmptile4367_1458[1,append][1:512,1:2304]  INDEF  0.\n",
        "GMOSAIC imcopy  rgN20151214S0245[SCI,1][1:512,1:2304]  tmptile4367_1458[1,append][513:1024,1:2304]  INDEF  0.\n",
        "GMOSAIC imcopy  rgN20151214S0245[VAR,2][1:512,1:2304]  tmptile4367_1458[2,append][1:512,1:2304]  INDEF  0.\n",
        "GMOSAIC imcopy  rgN20151214S0245[VAR,1][1:512,1:2304]  tmptile4367_1458[2,append][513:1024,1:2304]  INDEF  0.\n",
        "GMOSAIC imcopy  rgN20151214S0245[DQ,2][1:512,1:2304]  tmptile4367_1458[3,append][1:512,1:2304]  INDEF  0.\n",
        "GMOSAIC imcopy  rgN20151214S0245[DQ,1][1:512,1:2304]  tmptile4367_1458[3,append][513:1024,1:2304]  INDEF  0.\n"
       ]
      },
      {
       "output_type": "stream",
       "stream": "stdout",
       "text": [
        "GMOSAIC imcopy  rgN20151214S0245[SCI,4][1:512,1:2304]  tmptile4367_1459[1,append][1:512,1:2304]  INDEF  0.\n",
        "GMOSAIC imcopy  rgN20151214S0245[SCI,3][1:512,1:2304]  tmptile4367_1459[1,append][513:1024,1:2304]  INDEF  0.\n",
        "GMOSAIC imcopy  rgN20151214S0245[VAR,4][1:512,1:2304]  tmptile4367_1459[2,append][1:512,1:2304]  INDEF  0.\n",
        "GMOSAIC imcopy  rgN20151214S0245[VAR,3][1:512,1:2304]  tmptile4367_1459[2,append][513:1024,1:2304]  INDEF  0.\n",
        "GMOSAIC imcopy  rgN20151214S0245[DQ,4][1:512,1:2304]  tmptile4367_1459[3,append][1:512,1:2304]  INDEF  0.\n",
        "GMOSAIC imcopy  rgN20151214S0245[DQ,3][1:512,1:2304]  tmptile4367_1459[3,append][513:1024,1:2304]  INDEF  0.\n"
       ]
      },
      {
       "output_type": "stream",
       "stream": "stdout",
       "text": [
        "GMOSAIC imcopy  rgN20151214S0245[SCI,5][1:512,1:2304]  tmptile4367_1460[1,append][1:512,1:2304]  INDEF  0.\n",
        "GMOSAIC imcopy  rgN20151214S0245[SCI,6][1:512,1:2304]  tmptile4367_1460[1,append][513:1024,1:2304]  INDEF  0.\n",
        "GMOSAIC imcopy  rgN20151214S0245[VAR,5][1:512,1:2304]  tmptile4367_1460[2,append][1:512,1:2304]  INDEF  0.\n",
        "GMOSAIC imcopy  rgN20151214S0245[VAR,6][1:512,1:2304]  tmptile4367_1460[2,append][513:1024,1:2304]  INDEF  0.\n",
        "GMOSAIC imcopy  rgN20151214S0245[DQ,5][1:512,1:2304]  tmptile4367_1460[3,append][1:512,1:2304]  INDEF  0.\n",
        "GMOSAIC imcopy  rgN20151214S0245[DQ,6][1:512,1:2304]  tmptile4367_1460[3,append][513:1024,1:2304]  INDEF  0.\n"
       ]
      },
      {
       "output_type": "stream",
       "stream": "stdout",
       "text": [
        "GMOSAIC Setting rotation Xrot[1]=-0.009000, Yrot[1]=-0.009000\n"
       ]
      },
      {
       "output_type": "stream",
       "stream": "stdout",
       "text": [
        "GMOSAIC Setting rotation Xrot[2]= 0.000000, Yrot[2]= 0.000000\n"
       ]
      },
      {
       "output_type": "stream",
       "stream": "stdout",
       "text": [
        "GMOSAIC Setting rotation Xrot[3]=-0.003000, Yrot[3]=-0.003000\n"
       ]
      },
      {
       "output_type": "stream",
       "stream": "stdout",
       "text": [
        "GMOSAIC \n",
        "GMOSAIC Transforming image tmpimg4367_1454[SCI,1][1:1024,1:2304] to image tmpchipsci4367_1461\n",
        "GMOSAIC     xshift: 2.03 yshift: 0.29 xmag: 1.00 ymag: 1.00 xrot: 359.99 yrot: 359.99\n",
        "GMOSAIC \n",
        "GMOSAIC Transforming image tmpimg4367_1454[VAR,1][1:1024,1:2304] to image tmpchipvar4367_1462\n",
        "GMOSAIC     xshift: 2.03 yshift: 0.29 xmag: 1.00 ymag: 1.00 xrot: 359.99 yrot: 359.99\n",
        "GMOSAIC \n",
        "GMOSAIC Transforming image tmpimg4367_1454[DQ,1][1:1024,1:2304] to image tmpdq_transimg4367_1418.fits\n",
        "GMOSAIC     xshift: 2.03 yshift: 0.29 xmag: 1.00 ymag: 1.00 xrot: 359.99 yrot: 359.99\n"
       ]
      },
      {
       "output_type": "stream",
       "stream": "stdout",
       "text": [
        "GMOSAIC \n",
        "GMOSAIC Transforming image tmpimg4367_1454[SCI,2][1:1024,1:2304] to image tmpchipsci4367_1464\n",
        "GMOSAIC     xshift: 0.00 yshift: 0.00 xmag: 1.00 ymag: 1.00 xrot: 0.00 yrot: 0.00\n",
        "GMOSAIC \n",
        "GMOSAIC Transforming image tmpimg4367_1454[VAR,2][1:1024,1:2304] to image tmpchipvar4367_1465\n",
        "GMOSAIC     xshift: 0.00 yshift: 0.00 xmag: 1.00 ymag: 1.00 xrot: 0.00 yrot: 0.00\n"
       ]
      },
      {
       "output_type": "stream",
       "stream": "stdout",
       "text": [
        "GMOSAIC \n",
        "GMOSAIC Transforming image tmpimg4367_1454[SCI,3][1:1024,1:2304] to image tmpchipsci4367_1467\n",
        "GMOSAIC     xshift: -1.84 yshift: -1.05 xmag: 1.00 ymag: 1.00 xrot: 360.00 yrot: 360.00\n",
        "GMOSAIC \n",
        "GMOSAIC Transforming image tmpimg4367_1454[VAR,3][1:1024,1:2304] to image tmpchipvar4367_1468\n",
        "GMOSAIC     xshift: -1.84 yshift: -1.05 xmag: 1.00 ymag: 1.00 xrot: 360.00 yrot: 360.00\n",
        "GMOSAIC \n",
        "GMOSAIC Transforming image tmpimg4367_1454[DQ,3][1:1024,1:2304] to image tmpdq_transimg4367_1418.fits\n",
        "GMOSAIC     xshift: -1.84 yshift: -1.05 xmag: 1.00 ymag: 1.00 xrot: 360.00 yrot: 360.00\n"
       ]
      },
      {
       "output_type": "stream",
       "stream": "stdout",
       "text": [
        "GMOSAIC imcopy  tmpchipsci4367_1461  mrgN20151214S0245.fits[1,append][1:1024,1:2304]  INDEF  0.\n",
        "GMOSAIC imcopy  tmpchipsci4367_1464  mrgN20151214S0245.fits[1,append][1043:2066,1:2304]  INDEF  0.\n",
        "GMOSAIC imcopy  tmpchipsci4367_1467  mrgN20151214S0245.fits[1,append][2085:3108,1:2304]  INDEF  0.\n",
        "GMOSAIC imcopy  tmpchipvar4367_1462  mrgN20151214S0245.fits[2,append][1:1024,1:2304]  INDEF  0.\n",
        "GMOSAIC imcopy  tmpchipvar4367_1465  mrgN20151214S0245.fits[2,append][1043:2066,1:2304]  INDEF  0.\n",
        "GMOSAIC imcopy  tmpchipvar4367_1468  mrgN20151214S0245.fits[2,append][2085:3108,1:2304]  INDEF  0.\n",
        "GMOSAIC imcopy  tmpchipdq4367_1463  mrgN20151214S0245.fits[3,append][1:1024,1:2304]  INDEF  0.\n",
        "GMOSAIC imcopy  tmpchipdq4367_1466  mrgN20151214S0245.fits[3,append][1043:2066,1:2304]  INDEF  0.\n",
        "GMOSAIC imcopy  tmpchipdq4367_1469  mrgN20151214S0245.fits[3,append][2085:3108,1:2304]  INDEF  0.\n"
       ]
      },
      {
       "output_type": "stream",
       "stream": "stdout",
       "text": [
        "gmos$data/gmos-n_bpm_e2v_22_6amp_v1_mosaic.pl\n",
        "GMOSAIC Cleaning areas outside imaging field, cleaning value = 1856.915\n"
       ]
      },
      {
       "output_type": "stream",
       "stream": "stdout",
       "text": [
        "GMOSAIC Input: rgN20151214S0246  Output: mrgN20151214S0246.fits\n"
       ]
      },
      {
       "output_type": "stream",
       "stream": "stdout",
       "text": [
        "GMOSAIC imcopy  rgN20151214S0246[SCI,2][1:512,1:2304]  tmptile4367_1474[1,append][1:512,1:2304]  INDEF  0.\n",
        "GMOSAIC imcopy  rgN20151214S0246[SCI,1][1:512,1:2304]  tmptile4367_1474[1,append][513:1024,1:2304]  INDEF  0.\n",
        "GMOSAIC imcopy  rgN20151214S0246[VAR,2][1:512,1:2304]  tmptile4367_1474[2,append][1:512,1:2304]  INDEF  0.\n",
        "GMOSAIC imcopy  rgN20151214S0246[VAR,1][1:512,1:2304]  tmptile4367_1474[2,append][513:1024,1:2304]  INDEF  0.\n",
        "GMOSAIC imcopy  rgN20151214S0246[DQ,2][1:512,1:2304]  tmptile4367_1474[3,append][1:512,1:2304]  INDEF  0.\n",
        "GMOSAIC imcopy  rgN20151214S0246[DQ,1][1:512,1:2304]  tmptile4367_1474[3,append][513:1024,1:2304]  INDEF  0.\n"
       ]
      },
      {
       "output_type": "stream",
       "stream": "stdout",
       "text": [
        "GMOSAIC imcopy  rgN20151214S0246[SCI,4][1:512,1:2304]  tmptile4367_1475[1,append][1:512,1:2304]  INDEF  0.\n",
        "GMOSAIC imcopy  rgN20151214S0246[SCI,3][1:512,1:2304]  tmptile4367_1475[1,append][513:1024,1:2304]  INDEF  0.\n",
        "GMOSAIC imcopy  rgN20151214S0246[VAR,4][1:512,1:2304]  tmptile4367_1475[2,append][1:512,1:2304]  INDEF  0.\n",
        "GMOSAIC imcopy  rgN20151214S0246[VAR,3][1:512,1:2304]  tmptile4367_1475[2,append][513:1024,1:2304]  INDEF  0.\n",
        "GMOSAIC imcopy  rgN20151214S0246[DQ,4][1:512,1:2304]  tmptile4367_1475[3,append][1:512,1:2304]  INDEF  0.\n",
        "GMOSAIC imcopy  rgN20151214S0246[DQ,3][1:512,1:2304]  tmptile4367_1475[3,append][513:1024,1:2304]  INDEF  0.\n"
       ]
      },
      {
       "output_type": "stream",
       "stream": "stdout",
       "text": [
        "GMOSAIC imcopy  rgN20151214S0246[SCI,5][1:512,1:2304]  tmptile4367_1476[1,append][1:512,1:2304]  INDEF  0.\n",
        "GMOSAIC imcopy  rgN20151214S0246[SCI,6][1:512,1:2304]  tmptile4367_1476[1,append][513:1024,1:2304]  INDEF  0.\n",
        "GMOSAIC imcopy  rgN20151214S0246[VAR,5][1:512,1:2304]  tmptile4367_1476[2,append][1:512,1:2304]  INDEF  0.\n",
        "GMOSAIC imcopy  rgN20151214S0246[VAR,6][1:512,1:2304]  tmptile4367_1476[2,append][513:1024,1:2304]  INDEF  0.\n",
        "GMOSAIC imcopy  rgN20151214S0246[DQ,5][1:512,1:2304]  tmptile4367_1476[3,append][1:512,1:2304]  INDEF  0.\n",
        "GMOSAIC imcopy  rgN20151214S0246[DQ,6][1:512,1:2304]  tmptile4367_1476[3,append][513:1024,1:2304]  INDEF  0.\n"
       ]
      },
      {
       "output_type": "stream",
       "stream": "stdout",
       "text": [
        "GMOSAIC Setting rotation Xrot[1]=-0.009000, Yrot[1]=-0.009000\n"
       ]
      },
      {
       "output_type": "stream",
       "stream": "stdout",
       "text": [
        "GMOSAIC Setting rotation Xrot[2]= 0.000000, Yrot[2]= 0.000000\n"
       ]
      },
      {
       "output_type": "stream",
       "stream": "stdout",
       "text": [
        "GMOSAIC Setting rotation Xrot[3]=-0.003000, Yrot[3]=-0.003000\n"
       ]
      },
      {
       "output_type": "stream",
       "stream": "stdout",
       "text": [
        "GMOSAIC \n",
        "GMOSAIC Transforming image tmpimg4367_1470[SCI,1][1:1024,1:2304] to image tmpchipsci4367_1477\n",
        "GMOSAIC     xshift: 2.03 yshift: 0.29 xmag: 1.00 ymag: 1.00 xrot: 359.99 yrot: 359.99\n",
        "GMOSAIC \n",
        "GMOSAIC Transforming image tmpimg4367_1470[VAR,1][1:1024,1:2304] to image tmpchipvar4367_1478\n",
        "GMOSAIC     xshift: 2.03 yshift: 0.29 xmag: 1.00 ymag: 1.00 xrot: 359.99 yrot: 359.99\n",
        "GMOSAIC \n",
        "GMOSAIC Transforming image tmpimg4367_1470[DQ,1][1:1024,1:2304] to image tmpdq_transimg4367_1418.fits\n",
        "GMOSAIC     xshift: 2.03 yshift: 0.29 xmag: 1.00 ymag: 1.00 xrot: 359.99 yrot: 359.99\n"
       ]
      },
      {
       "output_type": "stream",
       "stream": "stdout",
       "text": [
        "GMOSAIC \n",
        "GMOSAIC Transforming image tmpimg4367_1470[SCI,2][1:1024,1:2304] to image tmpchipsci4367_1480\n",
        "GMOSAIC     xshift: 0.00 yshift: 0.00 xmag: 1.00 ymag: 1.00 xrot: 0.00 yrot: 0.00\n",
        "GMOSAIC \n",
        "GMOSAIC Transforming image tmpimg4367_1470[VAR,2][1:1024,1:2304] to image tmpchipvar4367_1481\n",
        "GMOSAIC     xshift: 0.00 yshift: 0.00 xmag: 1.00 ymag: 1.00 xrot: 0.00 yrot: 0.00\n"
       ]
      },
      {
       "output_type": "stream",
       "stream": "stdout",
       "text": [
        "GMOSAIC \n",
        "GMOSAIC Transforming image tmpimg4367_1470[SCI,3][1:1024,1:2304] to image tmpchipsci4367_1483\n",
        "GMOSAIC     xshift: -1.84 yshift: -1.05 xmag: 1.00 ymag: 1.00 xrot: 360.00 yrot: 360.00\n",
        "GMOSAIC \n",
        "GMOSAIC Transforming image tmpimg4367_1470[VAR,3][1:1024,1:2304] to image tmpchipvar4367_1484\n",
        "GMOSAIC     xshift: -1.84 yshift: -1.05 xmag: 1.00 ymag: 1.00 xrot: 360.00 yrot: 360.00\n",
        "GMOSAIC \n",
        "GMOSAIC Transforming image tmpimg4367_1470[DQ,3][1:1024,1:2304] to image tmpdq_transimg4367_1418.fits\n",
        "GMOSAIC     xshift: -1.84 yshift: -1.05 xmag: 1.00 ymag: 1.00 xrot: 360.00 yrot: 360.00\n"
       ]
      },
      {
       "output_type": "stream",
       "stream": "stdout",
       "text": [
        "GMOSAIC imcopy  tmpchipsci4367_1477  mrgN20151214S0246.fits[1,append][1:1024,1:2304]  INDEF  0.\n",
        "GMOSAIC imcopy  tmpchipsci4367_1480  mrgN20151214S0246.fits[1,append][1043:2066,1:2304]  INDEF  0.\n",
        "GMOSAIC imcopy  tmpchipsci4367_1483  mrgN20151214S0246.fits[1,append][2085:3108,1:2304]  INDEF  0.\n",
        "GMOSAIC imcopy  tmpchipvar4367_1478  mrgN20151214S0246.fits[2,append][1:1024,1:2304]  INDEF  0.\n",
        "GMOSAIC imcopy  tmpchipvar4367_1481  mrgN20151214S0246.fits[2,append][1043:2066,1:2304]  INDEF  0.\n",
        "GMOSAIC imcopy  tmpchipvar4367_1484  mrgN20151214S0246.fits[2,append][2085:3108,1:2304]  INDEF  0.\n",
        "GMOSAIC imcopy  tmpchipdq4367_1479  mrgN20151214S0246.fits[3,append][1:1024,1:2304]  INDEF  0.\n",
        "GMOSAIC imcopy  tmpchipdq4367_1482  mrgN20151214S0246.fits[3,append][1043:2066,1:2304]  INDEF  0.\n",
        "GMOSAIC imcopy  tmpchipdq4367_1485  mrgN20151214S0246.fits[3,append][2085:3108,1:2304]  INDEF  0.\n"
       ]
      },
      {
       "output_type": "stream",
       "stream": "stdout",
       "text": [
        "gmos$data/gmos-n_bpm_e2v_22_6amp_v1_mosaic.pl\n",
        "GMOSAIC Cleaning areas outside imaging field, cleaning value = 1840.127\n"
       ]
      },
      {
       "output_type": "stream",
       "stream": "stdout",
       "text": [
        "GMOSAIC All 4 images successfully mosaiced.\n"
       ]
      },
      {
       "output_type": "stream",
       "stream": "stdout",
       "text": [
        "GMOSAIC --------------------\n",
        "GMOSAIC Exit status: SUCCESS\n",
        "GMOSAIC Log closed at [Sat 14:07:33 09-Apr-2016]\n",
        "GMOSAIC -------------------------------------------------------------------\n",
        "GMOSAIC \n"
       ]
      }
     ],
     "prompt_number": 12
    },
    {
     "cell_type": "heading",
     "level": 4,
     "metadata": {},
     "source": [
      "Visually inspect the mosaiced frames"
     ]
    },
    {
     "cell_type": "code",
     "collapsed": false,
     "input": [
      "sciframes = open('sci.lis', 'r')\n",
      "for line in sciframes:\n",
      "    frame = line.strip()\n",
      "    iraf.gdisplay('mrg'+frame, 1, z2=20000, fl_paste='yes')\n",
      "sciframes.close()"
     ],
     "language": "python",
     "metadata": {},
     "outputs": [
      {
       "output_type": "stream",
       "stream": "stdout",
       "text": [
        "\n",
        "GDISPLAY - Started: 2016-04-09T14:07:45\n",
        "\n"
       ]
      },
      {
       "output_type": "stream",
       "stream": "stdout",
       "text": [
        "WARNING - GDISPLAY: only one science extension found, turning paste off\n",
        "\n",
        "WARNING - GDISPLAY: Input image has been processed by GMOSAIC.\n",
        "                    Switching off the following flags:\n",
        "                          ret_roi=no\n",
        "\n",
        "GDISPLAY: Displaying image...\n",
        "\n",
        "GDISPLAY: Starting imexamine - quit with q"
       ]
      },
      {
       "output_type": "stream",
       "stream": "stdout",
       "text": [
        "\n",
        "\n",
        "GDISPLAY - Finished: 2016-04-09T14:08:14\n"
       ]
      },
      {
       "output_type": "stream",
       "stream": "stdout",
       "text": [
        "\n",
        "\n",
        "GDISPLAY - Started: 2016-04-09T14:08:14\n",
        "\n"
       ]
      },
      {
       "output_type": "stream",
       "stream": "stdout",
       "text": [
        "WARNING - GDISPLAY: only one science extension found, turning paste off\n",
        "\n",
        "WARNING - GDISPLAY: Input image has been processed by GMOSAIC.\n",
        "                    Switching off the following flags:\n",
        "                          ret_roi=no\n",
        "\n",
        "GDISPLAY: Displaying image...\n",
        "\n",
        "GDISPLAY: Starting imexamine - quit with q"
       ]
      },
      {
       "output_type": "stream",
       "stream": "stdout",
       "text": [
        "\n",
        "\n",
        "GDISPLAY - Finished: 2016-04-09T14:08:16\n"
       ]
      },
      {
       "output_type": "stream",
       "stream": "stdout",
       "text": [
        "\n",
        "\n",
        "GDISPLAY - Started: 2016-04-09T14:08:16\n",
        "\n"
       ]
      },
      {
       "output_type": "stream",
       "stream": "stdout",
       "text": [
        "WARNING - GDISPLAY: only one science extension found, turning paste off\n",
        "\n",
        "WARNING - GDISPLAY: Input image has been processed by GMOSAIC.\n",
        "                    Switching off the following flags:\n",
        "                          ret_roi=no\n",
        "\n",
        "GDISPLAY: Displaying image...\n",
        "\n",
        "GDISPLAY: Starting imexamine - quit with q"
       ]
      },
      {
       "output_type": "stream",
       "stream": "stdout",
       "text": [
        "\n",
        "\n",
        "GDISPLAY - Finished: 2016-04-09T14:08:18\n"
       ]
      },
      {
       "output_type": "stream",
       "stream": "stdout",
       "text": [
        "\n",
        "\n",
        "GDISPLAY - Started: 2016-04-09T14:08:18\n",
        "\n"
       ]
      },
      {
       "output_type": "stream",
       "stream": "stdout",
       "text": [
        "WARNING - GDISPLAY: only one science extension found, turning paste off\n",
        "\n",
        "WARNING - GDISPLAY: Input image has been processed by GMOSAIC.\n",
        "                    Switching off the following flags:\n",
        "                          ret_roi=no\n",
        "\n",
        "GDISPLAY: Displaying image...\n",
        "\n",
        "GDISPLAY: Starting imexamine - quit with q"
       ]
      },
      {
       "output_type": "stream",
       "stream": "stdout",
       "text": [
        "\n",
        "\n",
        "GDISPLAY - Finished: 2016-04-09T14:08:19\n"
       ]
      },
      {
       "output_type": "stream",
       "stream": "stdout",
       "text": [
        "\n"
       ]
      }
     ],
     "prompt_number": 13
    },
    {
     "cell_type": "heading",
     "level": 2,
     "metadata": {},
     "source": [
      "STEP 9: Align and stack the mosaic target frames"
     ]
    },
    {
     "cell_type": "code",
     "collapsed": false,
     "input": [
      "iraf.imdelete(science['procsci'], verify='no')\n",
      "\n",
      "iraf.imcoadd('mrg//@sci.lis', outimage=science['procsci'], logfile=logfile)"
     ],
     "language": "python",
     "metadata": {},
     "outputs": [
      {
       "output_type": "stream",
       "stream": "stdout",
       "text": [
        "-----------------------------------------------------------------------------\n",
        "IMCOADD -- Sat Apr  9 14:08:27 HST 2016\n",
        "\n",
        "Images (and masks) in list\n",
        "mrgN20151214S0243\n",
        "mrgN20151214S0244\n",
        "mrgN20151214S0245\n",
        "mrgN20151214S0246\n"
       ]
      },
      {
       "output_type": "stream",
       "stream": "stdout",
       "text": [
        "Alignment method: wcs\n"
       ]
      },
      {
       "output_type": "stream",
       "stream": "stdout",
       "text": [
        "Making individual masks from DQ\n",
        "Fixpix input images using DQ"
       ]
      },
      {
       "output_type": "stream",
       "stream": "stdout",
       "text": [
        "\n"
       ]
      },
      {
       "output_type": "stream",
       "stream": "stdout",
       "text": [
        "Instrument + camera      : GMOS-N  \n",
        "Telescope ISS port number: 5\n",
        "Bad pixel file gmos$data/gmos-n_bpm_e2v_22_6amp_v1_mosaic.pl\n",
        "Read noise:   3.20 e-   Gain:   1.00 e-/ADU\n"
       ]
      },
      {
       "output_type": "stream",
       "stream": "stdout",
       "text": [
        "Co-added cleaned output image: ngc3310_r\n",
        "Pixel scale: 0.1458\n",
        "Statistics section: [100:3008,100:2204]\n",
        "Finding objects in mrgN20151214S0243"
       ]
      },
      {
       "output_type": "stream",
       "stream": "stdout",
       "text": [
        "\n",
        "Sampling for geotran  : 20  20"
       ]
      },
      {
       "output_type": "stream",
       "stream": "stdout",
       "text": [
        "\n",
        "Block size for geotran: 2048  2048\n",
        "Centering objects in mrgN20151214S0243\n",
        "Number of objects successfully centered in reference image 549"
       ]
      },
      {
       "output_type": "stream",
       "stream": "stdout",
       "text": [
        "\n",
        "Alignment method: wcs\n",
        "\n"
       ]
      },
      {
       "output_type": "stream",
       "stream": "stdout",
       "text": [
        "Coordinate list: imxymatch.1  Transform: mrgN20151214S0244_trn\n"
       ]
      },
      {
       "output_type": "stream",
       "stream": "stdout",
       "text": [
        "    Results file: \n"
       ]
      },
      {
       "output_type": "stream",
       "stream": "stdout",
       "text": [
        "Coordinate mapping status\n"
       ]
      },
      {
       "output_type": "stream",
       "stream": "stdout",
       "text": [
        "    "
       ]
      },
      {
       "output_type": "stream",
       "stream": "stdout",
       "text": [
        "X fit ok.  Y fit ok.\n"
       ]
      },
      {
       "output_type": "stream",
       "stream": "stdout",
       "text": [
        "    Xin and Yin fit rms: 0.001874259  0.00192745\n"
       ]
      },
      {
       "output_type": "stream",
       "stream": "stdout",
       "text": [
        "Coordinate mapping parameters\n"
       ]
      },
      {
       "output_type": "stream",
       "stream": "stdout",
       "text": [
        "    Mean Xref and Yref: 1554.5  1152.5\n"
       ]
      },
      {
       "output_type": "stream",
       "stream": "stdout",
       "text": [
        "    Mean Xin and Yin: 1527.022  1111.345\n"
       ]
      },
      {
       "output_type": "stream",
       "stream": "stdout",
       "text": [
        "    X and Y shift: -27.46937  -41.17017  (xin  yin)\n"
       ]
      },
      {
       "output_type": "stream",
       "stream": "stdout",
       "text": [
        "    X and Y scale: 1.000001  1.000001  (xin / xref  yin / yref)\n"
       ]
      },
      {
       "output_type": "stream",
       "stream": "stdout",
       "text": [
        "    X and Y axis rotation: 359.99948  359.99948  (degrees  degrees)\n"
       ]
      },
      {
       "output_type": "stream",
       "stream": "stdout",
       "text": [
        "Centering objects in mrgN20151214S0244\n",
        "\n"
       ]
      },
      {
       "output_type": "stream",
       "stream": "stdout",
       "text": [
        "Xmax =  3108   Ymax = 2304\n",
        "Entering geomap\n",
        "Fitting geometry rscale\n",
        "Iterating a maximum of 5 times\n",
        "\n"
       ]
      },
      {
       "output_type": "stream",
       "stream": "stdout",
       "text": [
        "Coordinate list: mrgN20151214S0244_trn  Transform: mrgN20151214S0244_trn\n"
       ]
      },
      {
       "output_type": "stream",
       "stream": "stdout",
       "text": [
        "    Results file: tmpres4367_1507\n"
       ]
      },
      {
       "output_type": "stream",
       "stream": "stdout",
       "text": [
        "Coordinate mapping status\n"
       ]
      },
      {
       "output_type": "stream",
       "stream": "stdout",
       "text": [
        "    "
       ]
      },
      {
       "output_type": "stream",
       "stream": "stdout",
       "text": [
        "X fit ok.  Y fit ok.\n"
       ]
      },
      {
       "output_type": "stream",
       "stream": "stdout",
       "text": [
        "    Xin and Yin fit rms: 13.44184  13.27067\n"
       ]
      },
      {
       "output_type": "stream",
       "stream": "stdout",
       "text": [
        "Coordinate mapping parameters\n"
       ]
      },
      {
       "output_type": "stream",
       "stream": "stdout",
       "text": [
        "    Mean Xref and Yref: 1639.738  1128.98\n"
       ]
      },
      {
       "output_type": "stream",
       "stream": "stdout",
       "text": [
        "    Mean Xin and Yin: 1611.555  1086.482\n"
       ]
      },
      {
       "output_type": "stream",
       "stream": "stdout",
       "text": [
        "    X and Y shift: -23.49515  -39.00928  (xin  yin)\n"
       ]
      },
      {
       "output_type": "stream",
       "stream": "stdout",
       "text": [
        "    X and Y scale: 0.9979669  0.9979668  (xin / xref  yin / yref)\n"
       ]
      },
      {
       "output_type": "stream",
       "stream": "stdout",
       "text": [
        "    X and Y axis rotation: 0.00282  0.00282  (degrees  degrees)\n"
       ]
      },
      {
       "output_type": "stream",
       "stream": "stdout",
       "text": [
        "\n"
       ]
      },
      {
       "output_type": "stream",
       "stream": "stdout",
       "text": [
        "Coordinate list: mrgN20151214S0244_trn  Transform: mrgN20151214S0244_trn\n"
       ]
      },
      {
       "output_type": "stream",
       "stream": "stdout",
       "text": [
        "    Results file: tmpres4367_1507\n"
       ]
      },
      {
       "output_type": "stream",
       "stream": "stdout",
       "text": [
        "Coordinate mapping status\n"
       ]
      },
      {
       "output_type": "stream",
       "stream": "stdout",
       "text": [
        "    "
       ]
      },
      {
       "output_type": "stream",
       "stream": "stdout",
       "text": [
        "X fit ok.  Y fit ok.\n"
       ]
      },
      {
       "output_type": "stream",
       "stream": "stdout",
       "text": [
        "    Xin and Yin fit rms: 7.014241  7.369053\n"
       ]
      },
      {
       "output_type": "stream",
       "stream": "stdout",
       "text": [
        "Coordinate mapping parameters\n"
       ]
      },
      {
       "output_type": "stream",
       "stream": "stdout",
       "text": [
        "    Mean Xref and Yref: 1636.012  1121.472\n"
       ]
      },
      {
       "output_type": "stream",
       "stream": "stdout",
       "text": [
        "    Mean Xin and Yin: 1609.249  1080.515\n"
       ]
      },
      {
       "output_type": "stream",
       "stream": "stdout",
       "text": [
        "    X and Y shift: -27.59443  -39.59045  (xin  yin)\n"
       ]
      },
      {
       "output_type": "stream",
       "stream": "stdout",
       "text": [
        "    X and Y scale: 0.9998904  0.9998905  (xin / xref  yin / yref)\n"
       ]
      },
      {
       "output_type": "stream",
       "stream": "stdout",
       "text": [
        "    X and Y axis rotation: 0.03121  0.03121  (degrees  degrees)\n"
       ]
      },
      {
       "output_type": "stream",
       "stream": "stdout",
       "text": [
        "\n"
       ]
      },
      {
       "output_type": "stream",
       "stream": "stdout",
       "text": [
        "Coordinate list: mrgN20151214S0244_trn  Transform: mrgN20151214S0244_trn\n"
       ]
      },
      {
       "output_type": "stream",
       "stream": "stdout",
       "text": [
        "    Results file: tmpres4367_1507\n"
       ]
      },
      {
       "output_type": "stream",
       "stream": "stdout",
       "text": [
        "Coordinate mapping status\n"
       ]
      },
      {
       "output_type": "stream",
       "stream": "stdout",
       "text": [
        "    "
       ]
      },
      {
       "output_type": "stream",
       "stream": "stdout",
       "text": [
        "X fit ok.  Y fit ok.\n"
       ]
      },
      {
       "output_type": "stream",
       "stream": "stdout",
       "text": [
        "    Xin and Yin fit rms: 1.118028  0.9397032\n"
       ]
      },
      {
       "output_type": "stream",
       "stream": "stdout",
       "text": [
        "Coordinate mapping parameters\n"
       ]
      },
      {
       "output_type": "stream",
       "stream": "stdout",
       "text": [
        "    Mean Xref and Yref: 1637.915  1139.974\n"
       ]
      },
      {
       "output_type": "stream",
       "stream": "stdout",
       "text": [
        "    Mean Xin and Yin: 1610.783  1100.141\n"
       ]
      },
      {
       "output_type": "stream",
       "stream": "stdout",
       "text": [
        "    X and Y shift: -27.77386  -40.15588  (xin  yin)\n"
       ]
      },
      {
       "output_type": "stream",
       "stream": "stdout",
       "text": [
        "    X and Y scale: 1.000204  1.000204  (xin / xref  yin / yref)\n"
       ]
      },
      {
       "output_type": "stream",
       "stream": "stdout",
       "text": [
        "    X and Y axis rotation: 0.00793  0.00793  (degrees  degrees)\n"
       ]
      },
      {
       "output_type": "stream",
       "stream": "stdout",
       "text": [
        "\n"
       ]
      },
      {
       "output_type": "stream",
       "stream": "stdout",
       "text": [
        "Coordinate list: mrgN20151214S0244_trn  Transform: mrgN20151214S0244_trn\n"
       ]
      },
      {
       "output_type": "stream",
       "stream": "stdout",
       "text": [
        "    Results file: tmpres4367_1507\n"
       ]
      },
      {
       "output_type": "stream",
       "stream": "stdout",
       "text": [
        "Coordinate mapping status\n"
       ]
      },
      {
       "output_type": "stream",
       "stream": "stdout",
       "text": [
        "    "
       ]
      },
      {
       "output_type": "stream",
       "stream": "stdout",
       "text": [
        "X fit ok.  Y fit ok.\n"
       ]
      },
      {
       "output_type": "stream",
       "stream": "stdout",
       "text": [
        "    Xin and Yin fit rms: 0.1869404  0.1898964\n"
       ]
      },
      {
       "output_type": "stream",
       "stream": "stdout",
       "text": [
        "Coordinate mapping parameters\n"
       ]
      },
      {
       "output_type": "stream",
       "stream": "stdout",
       "text": [
        "    Mean Xref and Yref: 1651.939  1132.646\n"
       ]
      },
      {
       "output_type": "stream",
       "stream": "stdout",
       "text": [
        "    Mean Xin and Yin: 1624.624  1092.365\n"
       ]
      },
      {
       "output_type": "stream",
       "stream": "stdout",
       "text": [
        "    X and Y shift: -27.38398  -40.2926  (xin  yin)\n"
       ]
      },
      {
       "output_type": "stream",
       "stream": "stdout",
       "text": [
        "    X and Y scale: 1.000026  1.000026  (xin / xref  yin / yref)\n"
       ]
      },
      {
       "output_type": "stream",
       "stream": "stdout",
       "text": [
        "    X and Y axis rotation: 359.99973  359.99973  (degrees  degrees)\n"
       ]
      },
      {
       "output_type": "stream",
       "stream": "stdout",
       "text": [
        "\n"
       ]
      },
      {
       "output_type": "stream",
       "stream": "stdout",
       "text": [
        "Coordinate list: mrgN20151214S0244_trn  Transform: mrgN20151214S0244_trn\n"
       ]
      },
      {
       "output_type": "stream",
       "stream": "stdout",
       "text": [
        "    Results file: tmpres4367_1507\n"
       ]
      },
      {
       "output_type": "stream",
       "stream": "stdout",
       "text": [
        "Coordinate mapping status\n"
       ]
      },
      {
       "output_type": "stream",
       "stream": "stdout",
       "text": [
        "    "
       ]
      },
      {
       "output_type": "stream",
       "stream": "stdout",
       "text": [
        "X fit ok.  Y fit ok.\n"
       ]
      },
      {
       "output_type": "stream",
       "stream": "stdout",
       "text": [
        "    Xin and Yin fit rms: 0.1641213  0.1472263\n"
       ]
      },
      {
       "output_type": "stream",
       "stream": "stdout",
       "text": [
        "Coordinate mapping parameters\n"
       ]
      },
      {
       "output_type": "stream",
       "stream": "stdout",
       "text": [
        "    Mean Xref and Yref: 1634.429  1157.46\n"
       ]
      },
      {
       "output_type": "stream",
       "stream": "stdout",
       "text": [
        "    Mean Xin and Yin: 1607.083  1117.188\n"
       ]
      },
      {
       "output_type": "stream",
       "stream": "stdout",
       "text": [
        "    X and Y shift: -27.39077  -40.30322  (xin  yin)\n"
       ]
      },
      {
       "output_type": "stream",
       "stream": "stdout",
       "text": [
        "    X and Y scale: 1.000026  1.000026  (xin / xref  yin / yref)\n"
       ]
      },
      {
       "output_type": "stream",
       "stream": "stdout",
       "text": [
        "    X and Y axis rotation: 0.00005  0.00005  (degrees  degrees)\n"
       ]
      },
      {
       "output_type": "stream",
       "stream": "stdout",
       "text": [
        "\n"
       ]
      },
      {
       "output_type": "stream",
       "stream": "stdout",
       "text": [
        "Coordinate list: imxymatch.1  Transform: mrgN20151214S0245_trn\n"
       ]
      },
      {
       "output_type": "stream",
       "stream": "stdout",
       "text": [
        "    Results file: \n"
       ]
      },
      {
       "output_type": "stream",
       "stream": "stdout",
       "text": [
        "Coordinate mapping status\n"
       ]
      },
      {
       "output_type": "stream",
       "stream": "stdout",
       "text": [
        "    "
       ]
      },
      {
       "output_type": "stream",
       "stream": "stdout",
       "text": [
        "X fit ok.  Y fit ok.\n"
       ]
      },
      {
       "output_type": "stream",
       "stream": "stdout",
       "text": [
        "    Xin and Yin fit rms: 0.001805345  0.001905333\n"
       ]
      },
      {
       "output_type": "stream",
       "stream": "stdout",
       "text": [
        "Coordinate mapping parameters\n"
       ]
      },
      {
       "output_type": "stream",
       "stream": "stdout",
       "text": [
        "    Mean Xref and Yref: 1554.5  1152.5\n"
       ]
      },
      {
       "output_type": "stream",
       "stream": "stdout",
       "text": [
        "    Mean Xin and Yin: 1609.385  1152.457\n"
       ]
      },
      {
       "output_type": "stream",
       "stream": "stdout",
       "text": [
        "    X and Y shift: 54.89504  -0.06115945  (xin  yin)\n"
       ]
      },
      {
       "output_type": "stream",
       "stream": "stdout",
       "text": [
        "    X and Y scale: 1.000001  1.000001  (xin / xref  yin / yref)\n"
       ]
      },
      {
       "output_type": "stream",
       "stream": "stdout",
       "text": [
        "    X and Y axis rotation: 359.99939  359.99939  (degrees  degrees)\n"
       ]
      },
      {
       "output_type": "stream",
       "stream": "stdout",
       "text": [
        "Centering objects in mrgN20151214S0245\n",
        "\n"
       ]
      },
      {
       "output_type": "stream",
       "stream": "stdout",
       "text": [
        "Xmax =  3108   Ymax = 2304\n",
        "Entering geomap\n",
        "Fitting geometry rscale\n",
        "Iterating a maximum of 5 times\n",
        "\n"
       ]
      },
      {
       "output_type": "stream",
       "stream": "stdout",
       "text": [
        "Coordinate list: mrgN20151214S0245_trn  Transform: mrgN20151214S0245_trn\n"
       ]
      },
      {
       "output_type": "stream",
       "stream": "stdout",
       "text": [
        "    Results file: tmpres4367_1507\n"
       ]
      },
      {
       "output_type": "stream",
       "stream": "stdout",
       "text": [
        "Coordinate mapping status\n"
       ]
      },
      {
       "output_type": "stream",
       "stream": "stdout",
       "text": [
        "    "
       ]
      },
      {
       "output_type": "stream",
       "stream": "stdout",
       "text": [
        "X fit ok.  Y fit ok.\n"
       ]
      },
      {
       "output_type": "stream",
       "stream": "stdout",
       "text": [
        "    Xin and Yin fit rms: 13.38424  12.40235\n"
       ]
      },
      {
       "output_type": "stream",
       "stream": "stdout",
       "text": [
        "Coordinate mapping parameters\n"
       ]
      },
      {
       "output_type": "stream",
       "stream": "stdout",
       "text": [
        "    Mean Xref and Yref: 1639.191  1121.35\n"
       ]
      },
      {
       "output_type": "stream",
       "stream": "stdout",
       "text": [
        "    Mean Xin and Yin: 1666.542  1077.873\n"
       ]
      },
      {
       "output_type": "stream",
       "stream": "stdout",
       "text": [
        "    X and Y shift: 32.74293  -39.28308  (xin  yin)\n"
       ]
      },
      {
       "output_type": "stream",
       "stream": "stdout",
       "text": [
        "    X and Y scale: 0.9971321  0.9971322  (xin / xref  yin / yref)\n"
       ]
      },
      {
       "output_type": "stream",
       "stream": "stdout",
       "text": [
        "    X and Y axis rotation: 359.98740  359.98740  (degrees  degrees)\n"
       ]
      },
      {
       "output_type": "stream",
       "stream": "stdout",
       "text": [
        "\n"
       ]
      },
      {
       "output_type": "stream",
       "stream": "stdout",
       "text": [
        "Coordinate list: mrgN20151214S0245_trn  Transform: mrgN20151214S0245_trn\n"
       ]
      },
      {
       "output_type": "stream",
       "stream": "stdout",
       "text": [
        "    Results file: tmpres4367_1507\n"
       ]
      },
      {
       "output_type": "stream",
       "stream": "stdout",
       "text": [
        "Coordinate mapping status\n"
       ]
      },
      {
       "output_type": "stream",
       "stream": "stdout",
       "text": [
        "    "
       ]
      },
      {
       "output_type": "stream",
       "stream": "stdout",
       "text": [
        "X fit ok.  Y fit ok.\n"
       ]
      },
      {
       "output_type": "stream",
       "stream": "stdout",
       "text": [
        "    Xin and Yin fit rms: 7.488495  7.733632\n"
       ]
      },
      {
       "output_type": "stream",
       "stream": "stdout",
       "text": [
        "Coordinate mapping parameters\n"
       ]
      },
      {
       "output_type": "stream",
       "stream": "stdout",
       "text": [
        "    Mean Xref and Yref: 1636.661  1113.86\n"
       ]
      },
      {
       "output_type": "stream",
       "stream": "stdout",
       "text": [
        "    Mean Xin and Yin: 1664.438  1072.292\n"
       ]
      },
      {
       "output_type": "stream",
       "stream": "stdout",
       "text": [
        "    X and Y shift: 28.18962  -40.27576  (xin  yin)\n"
       ]
      },
      {
       "output_type": "stream",
       "stream": "stdout",
       "text": [
        "    X and Y scale: 0.9993825  0.9993826  (xin / xref  yin / yref)\n"
       ]
      },
      {
       "output_type": "stream",
       "stream": "stdout",
       "text": [
        "    X and Y axis rotation: 0.01822  0.01822  (degrees  degrees)\n"
       ]
      },
      {
       "output_type": "stream",
       "stream": "stdout",
       "text": [
        "\n"
       ]
      },
      {
       "output_type": "stream",
       "stream": "stdout",
       "text": [
        "Coordinate list: mrgN20151214S0245_trn  Transform: mrgN20151214S0245_trn\n"
       ]
      },
      {
       "output_type": "stream",
       "stream": "stdout",
       "text": [
        "    Results file: tmpres4367_1507\n"
       ]
      },
      {
       "output_type": "stream",
       "stream": "stdout",
       "text": [
        "Coordinate mapping status\n"
       ]
      },
      {
       "output_type": "stream",
       "stream": "stdout",
       "text": [
        "    "
       ]
      },
      {
       "output_type": "stream",
       "stream": "stdout",
       "text": [
        "X fit ok.  Y fit ok.\n"
       ]
      },
      {
       "output_type": "stream",
       "stream": "stdout",
       "text": [
        "    Xin and Yin fit rms: 1.562556  1.318516\n"
       ]
      },
      {
       "output_type": "stream",
       "stream": "stdout",
       "text": [
        "Coordinate mapping parameters\n"
       ]
      },
      {
       "output_type": "stream",
       "stream": "stdout",
       "text": [
        "    Mean Xref and Yref: 1641.429  1123.187\n"
       ]
      },
      {
       "output_type": "stream",
       "stream": "stdout",
       "text": [
        "    Mean Xin and Yin: 1669.126  1082.421\n"
       ]
      },
      {
       "output_type": "stream",
       "stream": "stdout",
       "text": [
        "    X and Y shift: 27.64883  -41.01465  (xin  yin)\n"
       ]
      },
      {
       "output_type": "stream",
       "stream": "stdout",
       "text": [
        "    X and Y scale: 0.9998833  0.9998833  (xin / xref  yin / yref)\n"
       ]
      },
      {
       "output_type": "stream",
       "stream": "stdout",
       "text": [
        "    X and Y axis rotation: 359.98874  359.98874  (degrees  degrees)\n"
       ]
      },
      {
       "output_type": "stream",
       "stream": "stdout",
       "text": [
        "\n"
       ]
      },
      {
       "output_type": "stream",
       "stream": "stdout",
       "text": [
        "Coordinate list: mrgN20151214S0245_trn  Transform: mrgN20151214S0245_trn\n"
       ]
      },
      {
       "output_type": "stream",
       "stream": "stdout",
       "text": [
        "    Results file: tmpres4367_1507\n"
       ]
      },
      {
       "output_type": "stream",
       "stream": "stdout",
       "text": [
        "Coordinate mapping status\n"
       ]
      },
      {
       "output_type": "stream",
       "stream": "stdout",
       "text": [
        "    "
       ]
      },
      {
       "output_type": "stream",
       "stream": "stdout",
       "text": [
        "X fit ok.  Y fit ok.\n"
       ]
      },
      {
       "output_type": "stream",
       "stream": "stdout",
       "text": [
        "    Xin and Yin fit rms: 0.1844243  0.2179789\n"
       ]
      },
      {
       "output_type": "stream",
       "stream": "stdout",
       "text": [
        "Coordinate mapping parameters\n"
       ]
      },
      {
       "output_type": "stream",
       "stream": "stdout",
       "text": [
        "    Mean Xref and Yref: 1650.45  1130.688\n"
       ]
      },
      {
       "output_type": "stream",
       "stream": "stdout",
       "text": [
        "    Mean Xin and Yin: 1677.781  1089.79\n"
       ]
      },
      {
       "output_type": "stream",
       "stream": "stdout",
       "text": [
        "    X and Y shift: 27.31703  -40.95459  (xin  yin)\n"
       ]
      },
      {
       "output_type": "stream",
       "stream": "stdout",
       "text": [
        "    X and Y scale: 1.00004  1.00004  (xin / xref  yin / yref)\n"
       ]
      },
      {
       "output_type": "stream",
       "stream": "stdout",
       "text": [
        "    X and Y axis rotation: 359.99881  359.99881  (degrees  degrees)\n"
       ]
      },
      {
       "output_type": "stream",
       "stream": "stdout",
       "text": [
        "\n"
       ]
      },
      {
       "output_type": "stream",
       "stream": "stdout",
       "text": [
        "Coordinate list: mrgN20151214S0245_trn  Transform: mrgN20151214S0245_trn\n"
       ]
      },
      {
       "output_type": "stream",
       "stream": "stdout",
       "text": [
        "    Results file: tmpres4367_1507\n"
       ]
      },
      {
       "output_type": "stream",
       "stream": "stdout",
       "text": [
        "Coordinate mapping status\n"
       ]
      },
      {
       "output_type": "stream",
       "stream": "stdout",
       "text": [
        "    "
       ]
      },
      {
       "output_type": "stream",
       "stream": "stdout",
       "text": [
        "X fit ok.  Y fit ok.\n"
       ]
      },
      {
       "output_type": "stream",
       "stream": "stdout",
       "text": [
        "    Xin and Yin fit rms: 0.1283114  0.1744462\n"
       ]
      },
      {
       "output_type": "stream",
       "stream": "stdout",
       "text": [
        "Coordinate mapping parameters\n"
       ]
      },
      {
       "output_type": "stream",
       "stream": "stdout",
       "text": [
        "    Mean Xref and Yref: 1652.389  1144.376\n"
       ]
      },
      {
       "output_type": "stream",
       "stream": "stdout",
       "text": [
        "    Mean Xin and Yin: 1679.741  1103.501\n"
       ]
      },
      {
       "output_type": "stream",
       "stream": "stdout",
       "text": [
        "    X and Y shift: 27.26697  -40.99561  (xin  yin)\n"
       ]
      },
      {
       "output_type": "stream",
       "stream": "stdout",
       "text": [
        "    X and Y scale: 1.000068  1.000067  (xin / xref  yin / yref)\n"
       ]
      },
      {
       "output_type": "stream",
       "stream": "stdout",
       "text": [
        "    X and Y axis rotation: 359.99854  359.99854  (degrees  degrees)\n"
       ]
      },
      {
       "output_type": "stream",
       "stream": "stdout",
       "text": [
        "\n"
       ]
      },
      {
       "output_type": "stream",
       "stream": "stdout",
       "text": [
        "Coordinate list: imxymatch.1  Transform: mrgN20151214S0246_trn\n"
       ]
      },
      {
       "output_type": "stream",
       "stream": "stdout",
       "text": [
        "    Results file: \n"
       ]
      },
      {
       "output_type": "stream",
       "stream": "stdout",
       "text": [
        "Coordinate mapping status\n"
       ]
      },
      {
       "output_type": "stream",
       "stream": "stdout",
       "text": [
        "    "
       ]
      },
      {
       "output_type": "stream",
       "stream": "stdout",
       "text": [
        "X fit ok.  Y fit ok.\n"
       ]
      },
      {
       "output_type": "stream",
       "stream": "stdout",
       "text": [
        "    Xin and Yin fit rms: 0.001822514  0.001693809\n"
       ]
      },
      {
       "output_type": "stream",
       "stream": "stdout",
       "text": [
        "Coordinate mapping parameters\n"
       ]
      },
      {
       "output_type": "stream",
       "stream": "stdout",
       "text": [
        "    Mean Xref and Yref: 1554.5  1152.5\n"
       ]
      },
      {
       "output_type": "stream",
       "stream": "stdout",
       "text": [
        "    Mean Xin and Yin: 1581.977  1193.655\n"
       ]
      },
      {
       "output_type": "stream",
       "stream": "stdout",
       "text": [
        "    X and Y shift: 27.47207  41.15716  (xin  yin)\n"
       ]
      },
      {
       "output_type": "stream",
       "stream": "stdout",
       "text": [
        "    X and Y scale: 1.000001  1.000001  (xin / xref  yin / yref)\n"
       ]
      },
      {
       "output_type": "stream",
       "stream": "stdout",
       "text": [
        "    X and Y axis rotation: 0.00015  0.00015  (degrees  degrees)\n"
       ]
      },
      {
       "output_type": "stream",
       "stream": "stdout",
       "text": [
        "Centering objects in mrgN20151214S0246\n",
        "\n"
       ]
      },
      {
       "output_type": "stream",
       "stream": "stdout",
       "text": [
        "Xmax =  3108   Ymax = 2304\n",
        "Entering geomap\n",
        "Fitting geometry rscale\n",
        "Iterating a maximum of 5 times\n",
        "\n"
       ]
      },
      {
       "output_type": "stream",
       "stream": "stdout",
       "text": [
        "Coordinate list: mrgN20151214S0246_trn  Transform: mrgN20151214S0246_trn\n"
       ]
      },
      {
       "output_type": "stream",
       "stream": "stdout",
       "text": [
        "    Results file: tmpres4367_1507\n"
       ]
      },
      {
       "output_type": "stream",
       "stream": "stdout",
       "text": [
        "Coordinate mapping status\n"
       ]
      },
      {
       "output_type": "stream",
       "stream": "stdout",
       "text": [
        "    "
       ]
      },
      {
       "output_type": "stream",
       "stream": "stdout",
       "text": [
        "X fit ok.  Y fit ok.\n"
       ]
      },
      {
       "output_type": "stream",
       "stream": "stdout",
       "text": [
        "    Xin and Yin fit rms: 12.79669  12.53794\n"
       ]
      },
      {
       "output_type": "stream",
       "stream": "stdout",
       "text": [
        "Coordinate mapping parameters\n"
       ]
      },
      {
       "output_type": "stream",
       "stream": "stdout",
       "text": [
        "    Mean Xref and Yref: 1636.791  1122.01\n"
       ]
      },
      {
       "output_type": "stream",
       "stream": "stdout",
       "text": [
        "    Mean Xin and Yin: 1691.55  1120.011\n"
       ]
      },
      {
       "output_type": "stream",
       "stream": "stdout",
       "text": [
        "    X and Y shift: 61.7106  1.650513  (xin  yin)\n"
       ]
      },
      {
       "output_type": "stream",
       "stream": "stdout",
       "text": [
        "    X and Y scale: 0.997003  0.997003  (xin / xref  yin / yref)\n"
       ]
      },
      {
       "output_type": "stream",
       "stream": "stdout",
       "text": [
        "    X and Y axis rotation: 359.96048  359.96048  (degrees  degrees)\n"
       ]
      },
      {
       "output_type": "stream",
       "stream": "stdout",
       "text": [
        "\n"
       ]
      },
      {
       "output_type": "stream",
       "stream": "stdout",
       "text": [
        "Coordinate list: mrgN20151214S0246_trn  Transform: mrgN20151214S0246_trn\n"
       ]
      },
      {
       "output_type": "stream",
       "stream": "stdout",
       "text": [
        "    Results file: tmpres4367_1507\n"
       ]
      },
      {
       "output_type": "stream",
       "stream": "stdout",
       "text": [
        "Coordinate mapping status\n"
       ]
      },
      {
       "output_type": "stream",
       "stream": "stdout",
       "text": [
        "    "
       ]
      },
      {
       "output_type": "stream",
       "stream": "stdout",
       "text": [
        "X fit ok.  Y fit ok.\n"
       ]
      },
      {
       "output_type": "stream",
       "stream": "stdout",
       "text": [
        "    Xin and Yin fit rms: 7.672786  7.999548\n"
       ]
      },
      {
       "output_type": "stream",
       "stream": "stdout",
       "text": [
        "Coordinate mapping parameters\n"
       ]
      },
      {
       "output_type": "stream",
       "stream": "stdout",
       "text": [
        "    Mean Xref and Yref: 1634.871  1110.179\n"
       ]
      },
      {
       "output_type": "stream",
       "stream": "stdout",
       "text": [
        "    Mean Xin and Yin: 1690.47  1110.317\n"
       ]
      },
      {
       "output_type": "stream",
       "stream": "stdout",
       "text": [
        "    X and Y shift: 57.04203  0.8813477  (xin  yin)\n"
       ]
      },
      {
       "output_type": "stream",
       "stream": "stdout",
       "text": [
        "    X and Y scale: 0.9990864  0.9990864  (xin / xref  yin / yref)\n"
       ]
      },
      {
       "output_type": "stream",
       "stream": "stdout",
       "text": [
        "    X and Y axis rotation: 359.99222  359.99222  (degrees  degrees)\n"
       ]
      },
      {
       "output_type": "stream",
       "stream": "stdout",
       "text": [
        "\n"
       ]
      },
      {
       "output_type": "stream",
       "stream": "stdout",
       "text": [
        "Coordinate list: mrgN20151214S0246_trn  Transform: mrgN20151214S0246_trn\n"
       ]
      },
      {
       "output_type": "stream",
       "stream": "stdout",
       "text": [
        "    Results file: tmpres4367_1507\n"
       ]
      },
      {
       "output_type": "stream",
       "stream": "stdout",
       "text": [
        "Coordinate mapping status\n"
       ]
      },
      {
       "output_type": "stream",
       "stream": "stdout",
       "text": [
        "    "
       ]
      },
      {
       "output_type": "stream",
       "stream": "stdout",
       "text": [
        "X fit ok.  Y fit ok.\n"
       ]
      },
      {
       "output_type": "stream",
       "stream": "stdout",
       "text": [
        "    Xin and Yin fit rms: 1.500142  1.364747\n"
       ]
      },
      {
       "output_type": "stream",
       "stream": "stdout",
       "text": [
        "Coordinate mapping parameters\n"
       ]
      },
      {
       "output_type": "stream",
       "stream": "stdout",
       "text": [
        "    Mean Xref and Yref: 1638.076  1113.919\n"
       ]
      },
      {
       "output_type": "stream",
       "stream": "stdout",
       "text": [
        "    Mean Xin and Yin: 1693.494  1114.714\n"
       ]
      },
      {
       "output_type": "stream",
       "stream": "stdout",
       "text": [
        "    X and Y shift: 55.6192  0.4957275  (xin  yin)\n"
       ]
      },
      {
       "output_type": "stream",
       "stream": "stdout",
       "text": [
        "    X and Y scale: 0.99981  0.99981  (xin / xref  yin / yref)\n"
       ]
      },
      {
       "output_type": "stream",
       "stream": "stdout",
       "text": [
        "    X and Y axis rotation: 359.97818  359.97818  (degrees  degrees)\n"
       ]
      },
      {
       "output_type": "stream",
       "stream": "stdout",
       "text": [
        "\n"
       ]
      },
      {
       "output_type": "stream",
       "stream": "stdout",
       "text": [
        "Coordinate list: mrgN20151214S0246_trn  Transform: mrgN20151214S0246_trn\n"
       ]
      },
      {
       "output_type": "stream",
       "stream": "stdout",
       "text": [
        "    Results file: tmpres4367_1507\n"
       ]
      },
      {
       "output_type": "stream",
       "stream": "stdout",
       "text": [
        "Coordinate mapping status\n"
       ]
      },
      {
       "output_type": "stream",
       "stream": "stdout",
       "text": [
        "    "
       ]
      },
      {
       "output_type": "stream",
       "stream": "stdout",
       "text": [
        "X fit ok.  Y fit ok.\n"
       ]
      },
      {
       "output_type": "stream",
       "stream": "stdout",
       "text": [
        "    Xin and Yin fit rms: 0.20955  0.1922102\n"
       ]
      },
      {
       "output_type": "stream",
       "stream": "stdout",
       "text": [
        "Coordinate mapping parameters\n"
       ]
      },
      {
       "output_type": "stream",
       "stream": "stdout",
       "text": [
        "    Mean Xref and Yref: 1651.037  1124.251\n"
       ]
      },
      {
       "output_type": "stream",
       "stream": "stdout",
       "text": [
        "    Mean Xin and Yin: 1705.873  1125.131\n"
       ]
      },
      {
       "output_type": "stream",
       "stream": "stdout",
       "text": [
        "    X and Y shift: 54.7019  0.7421875  (xin  yin)\n"
       ]
      },
      {
       "output_type": "stream",
       "stream": "stdout",
       "text": [
        "    X and Y scale: 1.000092  1.000092  (xin / xref  yin / yref)\n"
       ]
      },
      {
       "output_type": "stream",
       "stream": "stdout",
       "text": [
        "    X and Y axis rotation: 359.99850  359.99850  (degrees  degrees)\n"
       ]
      },
      {
       "output_type": "stream",
       "stream": "stdout",
       "text": [
        "\n"
       ]
      },
      {
       "output_type": "stream",
       "stream": "stdout",
       "text": [
        "Coordinate list: mrgN20151214S0246_trn  Transform: mrgN20151214S0246_trn\n"
       ]
      },
      {
       "output_type": "stream",
       "stream": "stdout",
       "text": [
        "    Results file: tmpres4367_1507\n"
       ]
      },
      {
       "output_type": "stream",
       "stream": "stdout",
       "text": [
        "Coordinate mapping status\n"
       ]
      },
      {
       "output_type": "stream",
       "stream": "stdout",
       "text": [
        "    "
       ]
      },
      {
       "output_type": "stream",
       "stream": "stdout",
       "text": [
        "X fit ok.  Y fit ok.\n"
       ]
      },
      {
       "output_type": "stream",
       "stream": "stdout",
       "text": [
        "    Xin and Yin fit rms: 0.1524992  0.1447181\n"
       ]
      },
      {
       "output_type": "stream",
       "stream": "stdout",
       "text": [
        "Coordinate mapping parameters\n"
       ]
      },
      {
       "output_type": "stream",
       "stream": "stdout",
       "text": [
        "    Mean Xref and Yref: 1650.136  1112.146\n"
       ]
      },
      {
       "output_type": "stream",
       "stream": "stdout",
       "text": [
        "    Mean Xin and Yin: 1704.959  1113.038\n"
       ]
      },
      {
       "output_type": "stream",
       "stream": "stdout",
       "text": [
        "    X and Y shift: 54.68356  0.7381592  (xin  yin)\n"
       ]
      },
      {
       "output_type": "stream",
       "stream": "stdout",
       "text": [
        "    X and Y scale: 1.000096  1.000096  (xin / xref  yin / yref)\n"
       ]
      },
      {
       "output_type": "stream",
       "stream": "stdout",
       "text": [
        "    X and Y axis rotation: 359.99866  359.99866  (degrees  degrees)\n"
       ]
      },
      {
       "output_type": "stream",
       "stream": "stdout",
       "text": [
        "\n",
        "Median sky level for mrgN20151214S0243:   1736.9\n",
        "Transforming mrgN20151214S0244 to mrgN20151214S0244_trn"
       ]
      },
      {
       "output_type": "stream",
       "stream": "stdout",
       "text": [
        "\n",
        "\n",
        "Transforming image mrgN20151214S0244[SCI] to image mrgN20151214S0244_trn\n"
       ]
      },
      {
       "output_type": "stream",
       "stream": "stdout",
       "text": [
        "    Using transform mrgN20151214S0244_trn in database imcoadd.dat\n"
       ]
      },
      {
       "output_type": "stream",
       "stream": "stdout",
       "text": [
        "Median sky level for mrgN20151214S0244:   1722.9\n",
        "Transforming mrgN20151214S0245 to mrgN20151214S0245_trn"
       ]
      },
      {
       "output_type": "stream",
       "stream": "stdout",
       "text": [
        "\n",
        "\n",
        "Transforming image mrgN20151214S0245[SCI] to image mrgN20151214S0245_trn\n"
       ]
      },
      {
       "output_type": "stream",
       "stream": "stdout",
       "text": [
        "    Using transform mrgN20151214S0245_trn in database imcoadd.dat\n"
       ]
      },
      {
       "output_type": "stream",
       "stream": "stdout",
       "text": [
        "Median sky level for mrgN20151214S0245:   1715.8\n",
        "Transforming mrgN20151214S0246 to mrgN20151214S0246_trn"
       ]
      },
      {
       "output_type": "stream",
       "stream": "stdout",
       "text": [
        "\n",
        "\n",
        "Transforming image mrgN20151214S0246[SCI] to image mrgN20151214S0246_trn\n"
       ]
      },
      {
       "output_type": "stream",
       "stream": "stdout",
       "text": [
        "    Using transform mrgN20151214S0246_trn in database imcoadd.dat\n"
       ]
      },
      {
       "output_type": "stream",
       "stream": "stdout",
       "text": [
        "Median sky level for mrgN20151214S0246:   1687.2\n",
        "Median sky level for mrgN20151214S0243:   1736.9"
       ]
      },
      {
       "output_type": "stream",
       "stream": "stdout",
       "text": [
        "\n",
        "Median sky level for mrgN20151214S0244:   1722.9"
       ]
      },
      {
       "output_type": "stream",
       "stream": "stdout",
       "text": [
        "\n",
        "Transforming mrgN20151214S0243badpix +mask to mrgN20151214S0244badpix"
       ]
      },
      {
       "output_type": "stream",
       "stream": "stdout",
       "text": [
        "\n",
        "\n",
        "Transforming image tmpmsk4367_1501 to image mrgN20151214S0244badpix\n"
       ]
      },
      {
       "output_type": "stream",
       "stream": "stdout",
       "text": [
        "    Using transform mrgN20151214S0244_trn in database imcoadd.dat\n"
       ]
      },
      {
       "output_type": "stream",
       "stream": "stdout",
       "text": [
        "Median sky level for mrgN20151214S0245:   1715.8\n",
        "Transforming mrgN20151214S0243badpix +mask to mrgN20151214S0245badpix"
       ]
      },
      {
       "output_type": "stream",
       "stream": "stdout",
       "text": [
        "\n",
        "\n",
        "Transforming image tmpmsk4367_1538 to image mrgN20151214S0245badpix\n"
       ]
      },
      {
       "output_type": "stream",
       "stream": "stdout",
       "text": [
        "    Using transform mrgN20151214S0245_trn in database imcoadd.dat\n"
       ]
      },
      {
       "output_type": "stream",
       "stream": "stdout",
       "text": [
        "Median sky level for mrgN20151214S0246:   1687.2\n",
        "Transforming mrgN20151214S0243badpix +mask to mrgN20151214S0246badpix"
       ]
      },
      {
       "output_type": "stream",
       "stream": "stdout",
       "text": [
        "\n",
        "\n",
        "Transforming image tmpmsk4367_1542 to image mrgN20151214S0246badpix\n"
       ]
      },
      {
       "output_type": "stream",
       "stream": "stdout",
       "text": [
        "    Using transform mrgN20151214S0246_trn in database imcoadd.dat\n"
       ]
      },
      {
       "output_type": "stream",
       "stream": "stdout",
       "text": [
        "\n",
        "Mean intensity for   mrgN20151214S0243_trn:  (N,absolute,relative)=  154  1836542  1.000\n",
        "Mean intensity for   mrgN20151214S0244_trn:  (N,absolute,relative)=  154  1840278  1.002\n",
        "Mean intensity for   mrgN20151214S0245_trn:  (N,absolute,relative)=  154  1834604  0.999"
       ]
      },
      {
       "output_type": "stream",
       "stream": "stdout",
       "text": [
        "\n",
        "Mean intensity for   mrgN20151214S0246_trn:  (N,absolute,relative)=  154  1835561  0.999\n"
       ]
      },
      {
       "output_type": "stream",
       "stream": "stdout",
       "text": [
        "\n",
        "Masking cosmic ray events in mrgN20151214S0243_trn\n"
       ]
      },
      {
       "output_type": "stream",
       "stream": "stdout",
       "text": [
        "Applying growth radius 1\n",
        "Masking cosmic ray events in mrgN20151214S0244_trn"
       ]
      },
      {
       "output_type": "stream",
       "stream": "stdout",
       "text": [
        "\n"
       ]
      },
      {
       "output_type": "stream",
       "stream": "stdout",
       "text": [
        "Applying growth radius 1\n",
        "Masking cosmic ray events in mrgN20151214S0245_trn"
       ]
      },
      {
       "output_type": "stream",
       "stream": "stdout",
       "text": [
        "\n"
       ]
      },
      {
       "output_type": "stream",
       "stream": "stdout",
       "text": [
        "Applying growth radius 1\n",
        "Masking cosmic ray events in mrgN20151214S0246_trn"
       ]
      },
      {
       "output_type": "stream",
       "stream": "stdout",
       "text": [
        "\n"
       ]
      },
      {
       "output_type": "stream",
       "stream": "stdout",
       "text": [
        "Applying growth radius 1\n"
       ]
      },
      {
       "output_type": "stream",
       "stream": "stdout",
       "text": [
        "IMCOADD exit status: good\n",
        "-----------------------------------------------------------------------------\n"
       ]
      }
     ],
     "prompt_number": 14
    },
    {
     "cell_type": "heading",
     "level": 2,
     "metadata": {},
     "source": [
      "STEP 10: Inspect and save product"
     ]
    },
    {
     "cell_type": "code",
     "collapsed": false,
     "input": [
      "iraf.display(science['procsci']+'[sci,1]', 1, \\\n",
      "             zrange='no', zscale='no', z1=500, z2=10000)\n",
      "\n",
      "shutil.copy(science['procsci'], products_path)\n",
      "\n",
      "# Final reduced image\n",
      "os.listdir(products_path)"
     ],
     "language": "python",
     "metadata": {},
     "outputs": [
      {
       "output_type": "stream",
       "stream": "stdout",
       "text": [
        "z1=500. z2=10000.\n"
       ]
      },
      {
       "metadata": {},
       "output_type": "pyout",
       "prompt_number": 16,
       "text": [
        "['ngc3310_g.fits', 'ngc3310_r.fits']"
       ]
      }
     ],
     "prompt_number": 16
    },
    {
     "cell_type": "code",
     "collapsed": false,
     "input": [],
     "language": "python",
     "metadata": {},
     "outputs": []
    }
   ],
   "metadata": {}
  }
 ]
}