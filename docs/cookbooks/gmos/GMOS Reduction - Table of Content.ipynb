{
 "metadata": {
  "name": "",
  "signature": "sha256:ab3335d0d3bacb634ef1aa75fa1dbd812d513bcb43bd31b7c931ce4953d1b108"
 },
 "nbformat": 3,
 "nbformat_minor": 0,
 "worksheets": [
  {
   "cells": [
    {
     "cell_type": "heading",
     "level": 2,
     "metadata": {},
     "source": [
      "Available Tutorials for GMOS"
     ]
    },
    {
     "cell_type": "heading",
     "level": 4,
     "metadata": {},
     "source": [
      "GMOS Imaging"
     ]
    },
    {
     "cell_type": "markdown",
     "metadata": {},
     "source": [
      "1. [GMOS-S Imaging Reduction - Extended Source with Fringe Correction]()\n",
      "2. [GMOS-S Imaging Reduction - Extended Source without Fringe Correction]()"
     ]
    },
    {
     "cell_type": "heading",
     "level": 4,
     "metadata": {},
     "source": [
      "GMOS Longslit"
     ]
    },
    {
     "cell_type": "heading",
     "level": 4,
     "metadata": {},
     "source": [
      "GMOS MOS"
     ]
    },
    {
     "cell_type": "heading",
     "level": 4,
     "metadata": {},
     "source": [
      "GMOS IFU"
     ]
    },
    {
     "cell_type": "heading",
     "level": 4,
     "metadata": {},
     "source": [
      "GMOS Nod and Shuffle"
     ]
    },
    {
     "cell_type": "markdown",
     "metadata": {},
     "source": [
      "<br>\n",
      "<hr>\n",
      "<br>"
     ]
    },
    {
     "cell_type": "heading",
     "level": 3,
     "metadata": {},
     "source": [
      "Data Reduction Workshops"
     ]
    },
    {
     "cell_type": "heading",
     "level": 4,
     "metadata": {},
     "source": [
      "Observational Techniques Workshop 2016 - AAO"
     ]
    },
    {
     "cell_type": "markdown",
     "metadata": {},
     "source": [
      "1. [Introduction to GMOS Imaging Reduction](Introduction%20to%20GMOS%20Imaging%20Reduction.ipynb)\n",
      "2. [GMOS Imaging Reduction - NGC 6872 - i-band](GMOS%20Imaging%20Reduction%20-%20NGC%206872%20-%20i-band.ipynb) - Tutorial\n",
      "3. [GMOS Imaging Reduction - NGC 6872 - g-band](GMOS%20Imaging%20Reduction%20-%20NGC%206872%20-%20g-band.ipynb) - Exercise solution.\n",
      "4. [GMOS_Imaging_Reduction - NGC 6872 - r-band](GMOS_Imaging_Reduction%20-%20NGC%206872%20-%20r-band.ipynb) - Exercise solution.\n",
      "5. [GMOS_Imaging_Reduction - NGC 6872 - Template](GMOS_Imaging_Reduction%20-%20NGC%206872%20-%20Template.ipynb) - Exercise. Use to create g-band and r-band notebooks."
     ]
    },
    {
     "cell_type": "code",
     "collapsed": false,
     "input": [],
     "language": "python",
     "metadata": {},
     "outputs": []
    }
   ],
   "metadata": {}
  }
 ]
}