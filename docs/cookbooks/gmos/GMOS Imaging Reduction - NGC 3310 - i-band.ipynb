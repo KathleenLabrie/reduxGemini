{
 "metadata": {
  "name": "",
  "signature": "sha256:884a2f04218e3a378eb72bdb4248f428c8ba76dff7a35b1649d19f5e0180bdfa"
 },
 "nbformat": 3,
 "nbformat_minor": 0,
 "worksheets": [
  {
   "cells": [
    {
     "cell_type": "heading",
     "level": 1,
     "metadata": {},
     "source": [
      "Tutorial: GMOS Imaging Reduction - NGC 3310 - i-band"
     ]
    },
    {
     "cell_type": "heading",
     "level": 4,
     "metadata": {},
     "source": [
      "IMPORTANT: Edits are required for the tables below, and in STEP 1 and 2. After that, it should just work."
     ]
    },
    {
     "cell_type": "heading",
     "level": 2,
     "metadata": {},
     "source": [
      "Datasets:"
     ]
    },
    {
     "cell_type": "markdown",
     "metadata": {},
     "source": [
      "<table>\n",
      "  <tr><td><strong>Science observation UT date(s)</strong></td>\n",
      "      <td>2015 Dec 14</td>\n",
      "      </tr>\n",
      "  <tr><td><strong>Data filename prefix(es)</strong></td>\n",
      "      <td>N20151214S</td>\n",
      "      </tr>\n",
      "</table>"
     ]
    },
    {
     "cell_type": "heading",
     "level": 4,
     "metadata": {},
     "source": [
      "Target Frames"
     ]
    },
    {
     "cell_type": "markdown",
     "metadata": {},
     "source": [
      "<table>\n",
      "<tr><td>Science</td><td>N20151214S</td><td>239-242</td><td>binning 2x2</td></tr>\n",
      "<tr><td>Processed Bias</td><td>for 20151214</td><td>N20151214S0346_bias.fits</td><td></td></tr>\n",
      "<tr><td>Processed Twilight Flat</td><td>for 20151214</td><td>N20151204S0446_flat_i.fits</td><td></td></tr>\n",
      "<tr><td>Processed Fringe Frame</td><td>N/A</td><td>N/A</td><td></td></tr>\n",
      "</table>"
     ]
    },
    {
     "cell_type": "heading",
     "level": 4,
     "metadata": {},
     "source": [
      "Fringe Frames"
     ]
    },
    {
     "cell_type": "markdown",
     "metadata": {},
     "source": [
      "N/A"
     ]
    },
    {
     "cell_type": "heading",
     "level": 4,
     "metadata": {},
     "source": [
      "Twilight Flats"
     ]
    },
    {
     "cell_type": "markdown",
     "metadata": {},
     "source": [
      "The twilight flat that matches the science target observations.  Not enough on the 10th, so use some from the 4th too."
     ]
    },
    {
     "cell_type": "markdown",
     "metadata": {},
     "source": [
      "<table>\n",
      "<tr><td colspan=3>Processed: <strong>N20151204S0446_flat_i.fits</strong></td></tr>\n",
      "<tr><td rowspan=2>Twilight Frames</td><td>N20151204S</td><td>446-451</td><td>binning 2x2</td></tr>\n",
      "<tr>                                  <td>N20151210S</td><td>359-361</td><td>binning 2x2</td></tr>\n",
      "<tr><td>Processed Bias</td><td>for 20151204</td><td>N20151204S0501_bias.fits</td><td></td></tr>\n",
      "<tr><td>Processed Bias</td><td>for 20151210</td><td>N20151210S0430_bias.fits</td><td></td></tr>\n",
      "</table>"
     ]
    },
    {
     "cell_type": "heading",
     "level": 4,
     "metadata": {},
     "source": [
      "Biases"
     ]
    },
    {
     "cell_type": "markdown",
     "metadata": {},
     "source": [
      "The biases that match the science target observations and the twilight flats."
     ]
    },
    {
     "cell_type": "markdown",
     "metadata": {},
     "source": [
      "<table>\n",
      "<tr><td colspan=3>Processed: <strong>N20151214S0346_bias.fits</strong></td></tr>\n",
      "<tr><td rowspan=1>Biases</td><td>N20151214S</td><td>346-350</td><td>binning 2x2</td></tr>\n",
      "</table>"
     ]
    },
    {
     "cell_type": "markdown",
     "metadata": {},
     "source": [
      "<table>\n",
      "<tr><td colspan=3>Processed: <strong>N20151204S0501_bias.fits</strong></td></tr>\n",
      "<tr><td>Biases</td><td>N20151204S</td><td>501-505</td><td>binning 2x2</td></tr>\n",
      "</table>"
     ]
    },
    {
     "cell_type": "markdown",
     "metadata": {},
     "source": [
      "<table>\n",
      "<tr><td colspan=3>Processed: <strong>N20151210S0430_bias.fits</strong></td></tr>\n",
      "<tr><td>Biases</td><td>N20151210S</td><td>430-434</td><td>binning 2x2</td></tr>\n",
      "</table>"
     ]
    },
    {
     "cell_type": "heading",
     "level": 2,
     "metadata": {},
     "source": [
      "STEP 0: Directory structure used by this Notebook"
     ]
    },
    {
     "cell_type": "markdown",
     "metadata": {},
     "source": [
      "The directory paths used in this notebook are assumed to match this structure:\n",
      "\n",
      "    rootdir/\n",
      "        calib/\n",
      "            bias/\n",
      "            flat/\n",
      "            fringe/\n",
      "        raw/\n",
      "        redux/"
     ]
    },
    {
     "cell_type": "heading",
     "level": 2,
     "metadata": {},
     "source": [
      "STEP 1: Set up the Notebook and the PyRAF session"
     ]
    },
    {
     "cell_type": "markdown",
     "metadata": {},
     "source": [
      "The data processing will happen in the Notebook.  It is also convenient to have a PyRAF interactive session ready to use if needed, eg. to imexam.  In this step, we will configure the Notebook and the PyRAF session.  \n",
      "\n",
      "This step needs to be repeated everytime the Notebook and/or the PyRAF session is restarted."
     ]
    },
    {
     "cell_type": "heading",
     "level": 3,
     "metadata": {},
     "source": [
      "STEP 1.1: Set up the Notebook"
     ]
    },
    {
     "cell_type": "heading",
     "level": 4,
     "metadata": {},
     "source": [
      "STEP 1.1.1: Set up the variables."
     ]
    },
    {
     "cell_type": "code",
     "collapsed": false,
     "input": [
      "import os\n",
      "import os.path\n",
      "import shutil\n",
      "\n",
      "# WARNING: Make sure that the directory structure given in Step 0 \n",
      "#          is already in place.\n",
      "\n",
      "# EDIT HERE - Directories\n",
      "rootdir = '/data/workspace/DRWorkshopAAO/NGC3310'\n",
      "\n",
      "# EDIT HERE - File numbers and file names\n",
      "biases = {\n",
      "    'bias_20151214' : {\n",
      "        'procbias' : 'N20151214S0346_bias.fits',\n",
      "        'frames'   : [('N20151214S', '346-350'),\n",
      "                     ]\n",
      "    },\n",
      "    'bias_20151204' : {\n",
      "        'procbias'   : 'N20151204S0501_bias.fits',\n",
      "        'frames'     : [('N20151204S', '501-505')],\n",
      "    },\n",
      "    'bias_20151210' : {\n",
      "        'procbias'   : 'N20151210S0430_bias.fits',\n",
      "        'frames'     : [('N20151210S', '430-434')],\n",
      "    }\n",
      "\n",
      "}\n",
      "\n",
      "flats = {\n",
      "    'flat_20151204' : {\n",
      "        'procflat'   : 'N2015120402S0446_flat_i.fits',\n",
      "        'frames'     : [('N20151204S', '446-451'),\n",
      "                        ('N20151210S', '359-361')\n",
      "                       ],\n",
      "        'flatbias'   : [biases['bias_20151204']['procbias'],\n",
      "                        biases['bias_20151210']['procbias'],\n",
      "                       ] \n",
      "    }\n",
      "}\n",
      "\n",
      "#fringes = {\n",
      "#    'fringe_20101111' : {\n",
      "#        'procfringe'   : 'S20101111S0028_fringe_i.fits',\n",
      "#        'frames'   : [('S20101111S', '28-30,40-43')],\n",
      "#        'fringebias'   : biases['bias_20101111']['procbias'],\n",
      "#        'fringeflat'   : flats['flat_20101102']['procflat'],\n",
      "#    }\n",
      "#}\n",
      "\n",
      "science = {\n",
      "    'procsci'   : 'ngc3310_i.fits',\n",
      "    'sciroot'   : 'N20151214S',\n",
      "    'sciframes' : '239-242',\n",
      "    'scibias'   : biases['bias_20151214']['procbias'],\n",
      "    'sciflat'   : flats['flat_20151204']['procflat'],\n",
      "#    'scifringe' : fringes['fringe_20101111']['procfringe'],\n",
      "}\n",
      "\n",
      "logfile = 'NGC3310_i.log'\n",
      "\n",
      "# Automatically set directories to match structure from Step 0\n",
      "raw_path = os.path.join(rootdir, 'raw') + '/'\n",
      "redux_path = os.path.join(rootdir, 'redux') + '/'\n",
      "procbias_path = os.path.join(rootdir, 'calib', 'bias') + '/'\n",
      "procflat_path = os.path.join(rootdir, 'calib', 'flat') + '/'\n",
      "procfringe_path = os.path.join(rootdir, 'calib', 'fringe') + '/'\n",
      "products_path = os.path.join(rootdir, 'products') + '/'\n",
      "\n",
      "# Change to work directory\n",
      "os.chdir(redux_path)\n"
     ],
     "language": "python",
     "metadata": {},
     "outputs": [],
     "prompt_number": 5
    },
    {
     "cell_type": "heading",
     "level": 4,
     "metadata": {},
     "source": [
      "Step 1.1.2: Load and initialize the package"
     ]
    },
    {
     "cell_type": "markdown",
     "metadata": {},
     "source": [
      "---> <strong>LAUNCH DS9 before proceeding further</strong>\n",
      "\n",
      "Load the package required for the Notebook session and reset tasks to the default parameters."
     ]
    },
    {
     "cell_type": "code",
     "collapsed": false,
     "input": [
      "from pyraf import iraf\n",
      "iraf.gemini()\n",
      "iraf.gmos()\n",
      "\n",
      "iraf.unlearn(iraf.gemini, iraf.gmos, iraf.gemtools)\n",
      "\n",
      "iraf.gmos.logfile = logfile\n",
      "\n",
      "iraf.set(stdimage='imtgmos')"
     ],
     "language": "python",
     "metadata": {},
     "outputs": [
      {
       "output_type": "stream",
       "stream": "stdout",
       "text": [
        "This is the initial release of the IRAF FITSUTIL package\n",
        "to include support for FITS tile compression via 'fpack'.\n",
        "Please send comments and questions to seaman@noao.edu.\n",
        "\n",
        " \n",
        "     +------------------- Gemini IRAF Package -------------------+\n",
        "     |             Version 1.13.1, December 7, 2015              |\n",
        "     |             Requires IRAF v2.14.1 or greater              |\n",
        "     |              Tested with Ureka IRAF v2.16                 |\n",
        "     |             Gemini Observatory, Hilo, Hawaii              |\n",
        "     |    Please use the help desk for submission of questions   |\n",
        "     |  http://www.gemini.edu/sciops/helpdesk/helpdeskIndex.html |\n",
        "     +-----------------------------------------------------------+\n",
        " \n",
        "     Warning setting imtype=fits\n",
        "     Warning setting use_new_imt=no\n",
        " \n",
        "gemini/:\n",
        " f2/            gemtools/       gsaoi/          niri/\n",
        " flamingos/     gmos/           midir/          oscir/\n",
        " gemlocal/      gnirs/          nifs/           quirc/\n",
        "gmos/:"
       ]
      },
      {
       "output_type": "stream",
       "stream": "stdout",
       "text": [
        "\n",
        " gbias          gfquick         gmosaic         gsappwave       gssdist\n",
        " gbpm           gfreduce        gmosexamples    gscalibrate     gsskysub\n",
        " gdark          gfresponse      gmosinfo        gscrmask        gsslitfunction\n",
        " gdisplay       gfscatsub       gmosinfoifu     gscrrej         gsstandard\n",
        " gfapsum        gfskysub        gmosinfoimag    gscut           gstransform\n",
        " gfcombine      gftransform     gmosinfospec    gsdrawslits     gswavelength\n",
        " gfcopy         giflat          gnscombine      gsextract       mostools/\n",
        " gfcube         gifringe        gnsdark         gsflat\n",
        " gfdisplay      giillum         gnsskysub       gsfquick\n",
        " gfextract      gireduce        gprepare        gsreduce\n",
        " gffindblocks   girmfringe      gqecorr         gsscatsub\n"
       ]
      }
     ],
     "prompt_number": 2
    },
    {
     "cell_type": "heading",
     "level": 3,
     "metadata": {},
     "source": [
      "STEP 1.2: Set up the PyRAF session"
     ]
    },
    {
     "cell_type": "markdown",
     "metadata": {},
     "source": [
      "The commands shown here need to be run from the shell.\n",
      "\n",
      "Open an xterm or a Terminal, then:\n",
      "\n",
      "    cd /data/workspace/DRWorkshopAAO/NGC3310/redux\n",
      "    pyraf\n",
      "\n",
      "Then in the PyRAF session:\n",
      "\n",
      "    gemini\n",
      "    gmos\n",
      "    unlearn gemini\n",
      "    unlearn gmos\n",
      "    unlearn gemtools\n",
      "\n",
      "Get your PyRAF configured.  In the PyRAF session:\n",
      "\n",
      "    iraf.gmos.logfile = \"NGC3310_i.log\"\n",
      "    set stdimage=imtgmos\n"
     ]
    },
    {
     "cell_type": "heading",
     "level": 2,
     "metadata": {},
     "source": [
      "STEP 2: Create the file lists"
     ]
    },
    {
     "cell_type": "code",
     "collapsed": false,
     "input": [
      "os.chdir(redux_path)\n",
      "\n",
      "# delete any pre-existing lists\n",
      "iraf.delete('*.lis', verify='no')\n",
      "\n",
      "# biases\n",
      "for (root, frames) in biases['bias_20151214']['frames']:\n",
      "    iraf.gemlist(root, frames, Stdout='tmp_'+root+'.lis')\n",
      "iraf.concat('tmp_*.lis', 'bias_20151214.lis')\n",
      "iraf.delete('tmp_*.lis', verify='no')\n",
      "\n",
      "for (root, frames) in biases['bias_20151204']['frames']:\n",
      "    iraf.gemlist(root, frames, Stdout='tmp_'+root+'.lis')\n",
      "iraf.concat('tmp_*.lis', 'bias_20151204.lis')\n",
      "iraf.delete('tmp_*.lis', verify='no')\n",
      "\n",
      "for (root, frames) in biases['bias_20151210']['frames']:\n",
      "    iraf.gemlist(root, frames, Stdout='tmp_'+root+'.lis')\n",
      "iraf.concat('tmp_*.lis', 'bias_20151210.lis')\n",
      "iraf.delete('tmp_*.lis', verify='no')\n",
      "\n",
      "\n",
      "# flats\n",
      "for (root, frames) in flats['flat_20151204']['frames']:\n",
      "    iraf.gemlist(root, frames, Stdout='tmp_'+root+'.lis')\n",
      "iraf.concat('tmp_*.lis', 'flat_20151204.lis')\n",
      "iraf.delete('tmp_*.lis', verify='no')\n",
      "\n",
      "\n",
      "# fringes\n",
      "#for (root, frames) in fringes['fringe_20101111']['frames']:\n",
      "#    iraf.gemlist(root, frames, Stdout='tmp_'+root+'.lis')\n",
      "#iraf.concat('tmp_*.lis', 'fringe_20101111.lis')\n",
      "#iraf.delete('tmp_*.lis', verify='no')\n",
      "\n",
      "\n",
      "# science\n",
      "iraf.gemlist(science['sciroot'], science['sciframes'], \\\n",
      "             Stdout='sci.lis')\n",
      "\n",
      "# Get a full list\n",
      "iraf.concat('*.lis', 'all.lis')"
     ],
     "language": "python",
     "metadata": {},
     "outputs": [],
     "prompt_number": 6
    },
    {
     "cell_type": "heading",
     "level": 2,
     "metadata": {},
     "source": [
      "STEP 3: Visually inspect all the data"
     ]
    },
    {
     "cell_type": "code",
     "collapsed": false,
     "input": [
      "all_files = open('all.lis', 'r')\n",
      "for line in all_files:\n",
      "    image = line.strip() + '[1]'\n",
      "    print image\n",
      "    iraf.gdisplay(raw_path + image, 1, fl_paste='no')\n",
      "    iraf.sleep(5)\n",
      "    \n",
      "all_files.close()"
     ],
     "language": "python",
     "metadata": {},
     "outputs": [
      {
       "output_type": "stream",
       "stream": "stdout",
       "text": [
        "N20151204S0501[1]\n",
        "\n",
        "GDISPLAY - Started: 2016-04-09T14:18:28\n",
        "\n"
       ]
      },
      {
       "output_type": "stream",
       "stream": "stdout",
       "text": [
        "GDISPLAY: Temporary image name tmpout4365_69N20151204S0501.fits\n",
        "\n",
        "GMULTIAMP - Started: 2016-04-09T14:18:28\n",
        "\n"
       ]
      },
      {
       "output_type": "stream",
       "stream": "stdout",
       "text": [
        "\n",
        "GMULTIAMP - Finished: 2016-04-09T14:18:29\n",
        "GMULTIAMP - Exit status: GOOD\n",
        "\n"
       ]
      },
      {
       "output_type": "stream",
       "stream": "stdout",
       "text": [
        "GDISPLAY: Displaying image...\n",
        "\n",
        "GDISPLAY - Finished: 2016-04-09T14:18:31\n"
       ]
      },
      {
       "output_type": "stream",
       "stream": "stdout",
       "text": [
        "\n",
        "N20151204S0502[1]"
       ]
      },
      {
       "output_type": "stream",
       "stream": "stdout",
       "text": [
        "\n",
        "\n",
        "GDISPLAY - Started: 2016-04-09T14:18:36\n",
        "\n"
       ]
      },
      {
       "output_type": "stream",
       "stream": "stdout",
       "text": [
        "GDISPLAY: Temporary image name tmpout4365_90N20151204S0502.fits\n",
        "\n",
        "GMULTIAMP - Started: 2016-04-09T14:18:36\n",
        "\n"
       ]
      },
      {
       "output_type": "stream",
       "stream": "stdout",
       "text": [
        "\n",
        "GMULTIAMP - Finished: 2016-04-09T14:18:37\n",
        "GMULTIAMP - Exit status: GOOD\n",
        "\n"
       ]
      },
      {
       "output_type": "stream",
       "stream": "stdout",
       "text": [
        "GDISPLAY: Displaying image...\n",
        "\n",
        "GDISPLAY - Finished: 2016-04-09T14:18:39\n"
       ]
      },
      {
       "output_type": "stream",
       "stream": "stdout",
       "text": [
        "\n",
        "N20151204S0503[1]"
       ]
      },
      {
       "output_type": "stream",
       "stream": "stdout",
       "text": [
        "\n",
        "\n",
        "GDISPLAY - Started: 2016-04-09T14:18:44\n",
        "\n"
       ]
      },
      {
       "output_type": "stream",
       "stream": "stdout",
       "text": [
        "GDISPLAY: Temporary image name tmpout4365_111N20151204S0503.fits\n",
        "\n",
        "GMULTIAMP - Started: 2016-04-09T14:18:45\n",
        "\n"
       ]
      },
      {
       "output_type": "stream",
       "stream": "stdout",
       "text": [
        "\n",
        "GMULTIAMP - Finished: 2016-04-09T14:18:45\n",
        "GMULTIAMP - Exit status: GOOD\n",
        "\n"
       ]
      },
      {
       "output_type": "stream",
       "stream": "stdout",
       "text": [
        "GDISPLAY: Displaying image...\n",
        "\n",
        "GDISPLAY - Finished: 2016-04-09T14:18:47\n"
       ]
      },
      {
       "output_type": "stream",
       "stream": "stdout",
       "text": [
        "\n",
        "N20151204S0504[1]"
       ]
      },
      {
       "output_type": "stream",
       "stream": "stdout",
       "text": [
        "\n",
        "\n",
        "GDISPLAY - Started: 2016-04-09T14:18:53\n",
        "\n"
       ]
      },
      {
       "output_type": "stream",
       "stream": "stdout",
       "text": [
        "GDISPLAY: Temporary image name tmpout4365_132N20151204S0504.fits\n",
        "\n",
        "GMULTIAMP - Started: 2016-04-09T14:18:53\n",
        "\n"
       ]
      },
      {
       "output_type": "stream",
       "stream": "stdout",
       "text": [
        "\n",
        "GMULTIAMP - Finished: 2016-04-09T14:18:54\n",
        "GMULTIAMP - Exit status: GOOD\n",
        "\n"
       ]
      },
      {
       "output_type": "stream",
       "stream": "stdout",
       "text": [
        "GDISPLAY: Displaying image...\n",
        "\n",
        "GDISPLAY - Finished: 2016-04-09T14:18:56\n"
       ]
      },
      {
       "output_type": "stream",
       "stream": "stdout",
       "text": [
        "\n",
        "N20151204S0505[1]"
       ]
      },
      {
       "output_type": "stream",
       "stream": "stdout",
       "text": [
        "\n",
        "\n",
        "GDISPLAY - Started: 2016-04-09T14:19:01\n",
        "\n"
       ]
      },
      {
       "output_type": "stream",
       "stream": "stdout",
       "text": [
        "GDISPLAY: Temporary image name tmpout4365_153N20151204S0505.fits\n",
        "\n",
        "GMULTIAMP - Started: 2016-04-09T14:19:01\n",
        "\n"
       ]
      },
      {
       "output_type": "stream",
       "stream": "stdout",
       "text": [
        "\n",
        "GMULTIAMP - Finished: 2016-04-09T14:19:02\n",
        "GMULTIAMP - Exit status: GOOD\n",
        "\n"
       ]
      },
      {
       "output_type": "stream",
       "stream": "stdout",
       "text": [
        "GDISPLAY: Displaying image...\n",
        "\n",
        "GDISPLAY - Finished: 2016-04-09T14:19:04\n"
       ]
      },
      {
       "output_type": "stream",
       "stream": "stdout",
       "text": [
        "\n",
        "N20151210S0430[1]"
       ]
      },
      {
       "output_type": "stream",
       "stream": "stdout",
       "text": [
        "\n",
        "\n",
        "GDISPLAY - Started: 2016-04-09T14:19:09\n",
        "\n"
       ]
      },
      {
       "output_type": "stream",
       "stream": "stdout",
       "text": [
        "GDISPLAY: Temporary image name tmpout4365_174N20151210S0430.fits\n",
        "\n",
        "GMULTIAMP - Started: 2016-04-09T14:19:09\n",
        "\n"
       ]
      },
      {
       "output_type": "stream",
       "stream": "stdout",
       "text": [
        "\n",
        "GMULTIAMP - Finished: 2016-04-09T14:19:10\n",
        "GMULTIAMP - Exit status: GOOD\n",
        "\n"
       ]
      },
      {
       "output_type": "stream",
       "stream": "stdout",
       "text": [
        "GDISPLAY: Displaying image...\n",
        "\n",
        "GDISPLAY - Finished: 2016-04-09T14:19:12\n"
       ]
      },
      {
       "output_type": "stream",
       "stream": "stdout",
       "text": [
        "\n",
        "N20151210S0431[1]"
       ]
      },
      {
       "output_type": "stream",
       "stream": "stdout",
       "text": [
        "\n",
        "\n",
        "GDISPLAY - Started: 2016-04-09T14:19:17\n",
        "\n"
       ]
      },
      {
       "output_type": "stream",
       "stream": "stdout",
       "text": [
        "GDISPLAY: Temporary image name tmpout4365_195N20151210S0431.fits\n",
        "\n",
        "GMULTIAMP - Started: 2016-04-09T14:19:17\n",
        "\n"
       ]
      },
      {
       "output_type": "stream",
       "stream": "stdout",
       "text": [
        "\n",
        "GMULTIAMP - Finished: 2016-04-09T14:19:18\n",
        "GMULTIAMP - Exit status: GOOD\n",
        "\n"
       ]
      },
      {
       "output_type": "stream",
       "stream": "stdout",
       "text": [
        "GDISPLAY: Displaying image...\n",
        "\n",
        "GDISPLAY - Finished: 2016-04-09T14:19:20\n"
       ]
      },
      {
       "output_type": "stream",
       "stream": "stdout",
       "text": [
        "\n",
        "N20151210S0432[1]"
       ]
      },
      {
       "output_type": "stream",
       "stream": "stdout",
       "text": [
        "\n",
        "\n",
        "GDISPLAY - Started: 2016-04-09T14:19:25\n",
        "\n"
       ]
      },
      {
       "output_type": "stream",
       "stream": "stdout",
       "text": [
        "GDISPLAY: Temporary image name tmpout4365_216N20151210S0432.fits\n",
        "\n",
        "GMULTIAMP - Started: 2016-04-09T14:19:25\n",
        "\n"
       ]
      },
      {
       "output_type": "stream",
       "stream": "stdout",
       "text": [
        "\n",
        "GMULTIAMP - Finished: 2016-04-09T14:19:26\n",
        "GMULTIAMP - Exit status: GOOD\n",
        "\n"
       ]
      },
      {
       "output_type": "stream",
       "stream": "stdout",
       "text": [
        "GDISPLAY: Displaying image...\n",
        "\n",
        "GDISPLAY - Finished: 2016-04-09T14:19:28\n"
       ]
      },
      {
       "output_type": "stream",
       "stream": "stdout",
       "text": [
        "\n",
        "N20151210S0433[1]"
       ]
      },
      {
       "output_type": "stream",
       "stream": "stdout",
       "text": [
        "\n",
        "\n",
        "GDISPLAY - Started: 2016-04-09T14:19:33\n",
        "\n"
       ]
      },
      {
       "output_type": "stream",
       "stream": "stdout",
       "text": [
        "GDISPLAY: Temporary image name tmpout4365_237N20151210S0433.fits\n",
        "\n",
        "GMULTIAMP - Started: 2016-04-09T14:19:33\n",
        "\n"
       ]
      },
      {
       "output_type": "stream",
       "stream": "stdout",
       "text": [
        "\n",
        "GMULTIAMP - Finished: 2016-04-09T14:19:34\n",
        "GMULTIAMP - Exit status: GOOD\n",
        "\n"
       ]
      },
      {
       "output_type": "stream",
       "stream": "stdout",
       "text": [
        "GDISPLAY: Displaying image...\n",
        "\n",
        "GDISPLAY - Finished: 2016-04-09T14:19:36\n"
       ]
      },
      {
       "output_type": "stream",
       "stream": "stdout",
       "text": [
        "\n",
        "N20151210S0434[1]"
       ]
      },
      {
       "output_type": "stream",
       "stream": "stdout",
       "text": [
        "\n",
        "\n",
        "GDISPLAY - Started: 2016-04-09T14:19:41\n",
        "\n"
       ]
      },
      {
       "output_type": "stream",
       "stream": "stdout",
       "text": [
        "GDISPLAY: Temporary image name tmpout4365_258N20151210S0434.fits\n",
        "\n",
        "GMULTIAMP - Started: 2016-04-09T14:19:41\n",
        "\n"
       ]
      },
      {
       "output_type": "stream",
       "stream": "stdout",
       "text": [
        "\n",
        "GMULTIAMP - Finished: 2016-04-09T14:19:42\n",
        "GMULTIAMP - Exit status: GOOD\n",
        "\n"
       ]
      },
      {
       "output_type": "stream",
       "stream": "stdout",
       "text": [
        "GDISPLAY: Displaying image...\n",
        "\n",
        "GDISPLAY - Finished: 2016-04-09T14:19:44\n"
       ]
      },
      {
       "output_type": "stream",
       "stream": "stdout",
       "text": [
        "\n",
        "N20151214S0346[1]"
       ]
      },
      {
       "output_type": "stream",
       "stream": "stdout",
       "text": [
        "\n",
        "\n",
        "GDISPLAY - Started: 2016-04-09T14:19:49\n",
        "\n"
       ]
      },
      {
       "output_type": "stream",
       "stream": "stdout",
       "text": [
        "GDISPLAY: Temporary image name tmpout4365_279N20151214S0346.fits\n",
        "\n",
        "GMULTIAMP - Started: 2016-04-09T14:19:50\n",
        "\n"
       ]
      },
      {
       "output_type": "stream",
       "stream": "stdout",
       "text": [
        "\n",
        "GMULTIAMP - Finished: 2016-04-09T14:19:51\n",
        "GMULTIAMP - Exit status: GOOD\n",
        "\n"
       ]
      },
      {
       "output_type": "stream",
       "stream": "stdout",
       "text": [
        "GDISPLAY: Displaying image...\n",
        "\n",
        "GDISPLAY - Finished: 2016-04-09T14:19:53\n"
       ]
      },
      {
       "output_type": "stream",
       "stream": "stdout",
       "text": [
        "\n",
        "N20151214S0347[1]"
       ]
      },
      {
       "output_type": "stream",
       "stream": "stdout",
       "text": [
        "\n",
        "\n",
        "GDISPLAY - Started: 2016-04-09T14:19:58\n",
        "\n"
       ]
      },
      {
       "output_type": "stream",
       "stream": "stdout",
       "text": [
        "GDISPLAY: Temporary image name tmpout4365_300N20151214S0347.fits\n",
        "\n",
        "GMULTIAMP - Started: 2016-04-09T14:19:58\n",
        "\n"
       ]
      },
      {
       "output_type": "stream",
       "stream": "stdout",
       "text": [
        "\n",
        "GMULTIAMP - Finished: 2016-04-09T14:19:59\n",
        "GMULTIAMP - Exit status: GOOD\n",
        "\n"
       ]
      },
      {
       "output_type": "stream",
       "stream": "stdout",
       "text": [
        "GDISPLAY: Displaying image...\n",
        "\n",
        "GDISPLAY - Finished: 2016-04-09T14:20:01\n"
       ]
      },
      {
       "output_type": "stream",
       "stream": "stdout",
       "text": [
        "\n",
        "N20151214S0348[1]"
       ]
      },
      {
       "output_type": "stream",
       "stream": "stdout",
       "text": [
        "\n",
        "\n",
        "GDISPLAY - Started: 2016-04-09T14:20:06\n",
        "\n"
       ]
      },
      {
       "output_type": "stream",
       "stream": "stdout",
       "text": [
        "GDISPLAY: Temporary image name tmpout4365_321N20151214S0348.fits\n",
        "\n",
        "GMULTIAMP - Started: 2016-04-09T14:20:06\n",
        "\n"
       ]
      },
      {
       "output_type": "stream",
       "stream": "stdout",
       "text": [
        "\n",
        "GMULTIAMP - Finished: 2016-04-09T14:20:07\n",
        "GMULTIAMP - Exit status: GOOD\n",
        "\n"
       ]
      },
      {
       "output_type": "stream",
       "stream": "stdout",
       "text": [
        "GDISPLAY: Displaying image...\n",
        "\n",
        "GDISPLAY - Finished: 2016-04-09T14:20:09\n"
       ]
      },
      {
       "output_type": "stream",
       "stream": "stdout",
       "text": [
        "\n",
        "N20151214S0349[1]"
       ]
      },
      {
       "output_type": "stream",
       "stream": "stdout",
       "text": [
        "\n",
        "\n",
        "GDISPLAY - Started: 2016-04-09T14:20:14\n",
        "\n"
       ]
      },
      {
       "output_type": "stream",
       "stream": "stdout",
       "text": [
        "GDISPLAY: Temporary image name tmpout4365_342N20151214S0349.fits\n",
        "\n",
        "GMULTIAMP - Started: 2016-04-09T14:20:14\n",
        "\n"
       ]
      },
      {
       "output_type": "stream",
       "stream": "stdout",
       "text": [
        "\n",
        "GMULTIAMP - Finished: 2016-04-09T14:20:15\n",
        "GMULTIAMP - Exit status: GOOD\n",
        "\n"
       ]
      },
      {
       "output_type": "stream",
       "stream": "stdout",
       "text": [
        "GDISPLAY: Displaying image...\n",
        "\n",
        "GDISPLAY - Finished: 2016-04-09T14:20:17\n"
       ]
      },
      {
       "output_type": "stream",
       "stream": "stdout",
       "text": [
        "\n",
        "N20151214S0350[1]"
       ]
      },
      {
       "output_type": "stream",
       "stream": "stdout",
       "text": [
        "\n",
        "\n",
        "GDISPLAY - Started: 2016-04-09T14:20:22\n",
        "\n"
       ]
      },
      {
       "output_type": "stream",
       "stream": "stdout",
       "text": [
        "GDISPLAY: Temporary image name tmpout4365_363N20151214S0350.fits\n",
        "\n",
        "GMULTIAMP - Started: 2016-04-09T14:20:22\n",
        "\n"
       ]
      },
      {
       "output_type": "stream",
       "stream": "stdout",
       "text": [
        "\n",
        "GMULTIAMP - Finished: 2016-04-09T14:20:23\n",
        "GMULTIAMP - Exit status: GOOD\n",
        "\n"
       ]
      },
      {
       "output_type": "stream",
       "stream": "stdout",
       "text": [
        "GDISPLAY: Displaying image...\n",
        "\n",
        "GDISPLAY - Finished: 2016-04-09T14:20:25\n"
       ]
      },
      {
       "output_type": "stream",
       "stream": "stdout",
       "text": [
        "\n",
        "N20151204S0446[1]"
       ]
      },
      {
       "output_type": "stream",
       "stream": "stdout",
       "text": [
        "\n",
        "\n",
        "GDISPLAY - Started: 2016-04-09T14:20:30\n",
        "\n"
       ]
      },
      {
       "output_type": "stream",
       "stream": "stdout",
       "text": [
        "GDISPLAY: Temporary image name tmpout4365_384N20151204S0446.fits\n",
        "\n",
        "GMULTIAMP - Started: 2016-04-09T14:20:30\n",
        "\n"
       ]
      },
      {
       "output_type": "stream",
       "stream": "stdout",
       "text": [
        "\n",
        "GMULTIAMP - Finished: 2016-04-09T14:20:31\n",
        "GMULTIAMP - Exit status: GOOD\n",
        "\n"
       ]
      },
      {
       "output_type": "stream",
       "stream": "stdout",
       "text": [
        "GDISPLAY: Displaying image...\n",
        "\n",
        "GDISPLAY - Finished: 2016-04-09T14:20:33\n"
       ]
      },
      {
       "output_type": "stream",
       "stream": "stdout",
       "text": [
        "\n",
        "N20151204S0447[1]"
       ]
      },
      {
       "output_type": "stream",
       "stream": "stdout",
       "text": [
        "\n",
        "\n",
        "GDISPLAY - Started: 2016-04-09T14:20:38\n",
        "\n"
       ]
      },
      {
       "output_type": "stream",
       "stream": "stdout",
       "text": [
        "GDISPLAY: Temporary image name tmpout4365_405N20151204S0447.fits\n",
        "\n",
        "GMULTIAMP - Started: 2016-04-09T14:20:38\n",
        "\n"
       ]
      },
      {
       "output_type": "stream",
       "stream": "stdout",
       "text": [
        "\n",
        "GMULTIAMP - Finished: 2016-04-09T14:20:39\n",
        "GMULTIAMP - Exit status: GOOD\n",
        "\n"
       ]
      },
      {
       "output_type": "stream",
       "stream": "stdout",
       "text": [
        "GDISPLAY: Displaying image...\n",
        "\n",
        "GDISPLAY - Finished: 2016-04-09T14:20:42\n"
       ]
      },
      {
       "output_type": "stream",
       "stream": "stdout",
       "text": [
        "\n",
        "N20151204S0448[1]"
       ]
      },
      {
       "output_type": "stream",
       "stream": "stdout",
       "text": [
        "\n",
        "\n",
        "GDISPLAY - Started: 2016-04-09T14:20:47\n",
        "\n"
       ]
      },
      {
       "output_type": "stream",
       "stream": "stdout",
       "text": [
        "GDISPLAY: Temporary image name tmpout4365_426N20151204S0448.fits\n",
        "\n",
        "GMULTIAMP - Started: 2016-04-09T14:20:47\n",
        "\n"
       ]
      },
      {
       "output_type": "stream",
       "stream": "stdout",
       "text": [
        "\n",
        "GMULTIAMP - Finished: 2016-04-09T14:20:48\n",
        "GMULTIAMP - Exit status: GOOD\n",
        "\n"
       ]
      },
      {
       "output_type": "stream",
       "stream": "stdout",
       "text": [
        "GDISPLAY: Displaying image...\n",
        "\n",
        "GDISPLAY - Finished: 2016-04-09T14:20:50\n"
       ]
      },
      {
       "output_type": "stream",
       "stream": "stdout",
       "text": [
        "\n",
        "N20151204S0449[1]"
       ]
      },
      {
       "output_type": "stream",
       "stream": "stdout",
       "text": [
        "\n",
        "\n",
        "GDISPLAY - Started: 2016-04-09T14:20:55\n",
        "\n"
       ]
      },
      {
       "output_type": "stream",
       "stream": "stdout",
       "text": [
        "GDISPLAY: Temporary image name tmpout4365_447N20151204S0449.fits\n",
        "\n",
        "GMULTIAMP - Started: 2016-04-09T14:20:55\n",
        "\n"
       ]
      },
      {
       "output_type": "stream",
       "stream": "stdout",
       "text": [
        "\n",
        "GMULTIAMP - Finished: 2016-04-09T14:20:56\n",
        "GMULTIAMP - Exit status: GOOD\n",
        "\n"
       ]
      },
      {
       "output_type": "stream",
       "stream": "stdout",
       "text": [
        "GDISPLAY: Displaying image...\n",
        "\n",
        "GDISPLAY - Finished: 2016-04-09T14:20:58\n"
       ]
      },
      {
       "output_type": "stream",
       "stream": "stdout",
       "text": [
        "\n",
        "N20151204S0450[1]"
       ]
      },
      {
       "output_type": "stream",
       "stream": "stdout",
       "text": [
        "\n",
        "\n",
        "GDISPLAY - Started: 2016-04-09T14:21:03\n",
        "\n"
       ]
      },
      {
       "output_type": "stream",
       "stream": "stdout",
       "text": [
        "GDISPLAY: Temporary image name tmpout4365_468N20151204S0450.fits\n",
        "\n",
        "GMULTIAMP - Started: 2016-04-09T14:21:03\n"
       ]
      },
      {
       "output_type": "stream",
       "stream": "stdout",
       "text": [
        "\n"
       ]
      },
      {
       "output_type": "stream",
       "stream": "stdout",
       "text": [
        "\n",
        "GMULTIAMP - Finished: 2016-04-09T14:21:04\n",
        "GMULTIAMP - Exit status: GOOD\n",
        "\n"
       ]
      },
      {
       "output_type": "stream",
       "stream": "stdout",
       "text": [
        "GDISPLAY: Displaying image...\n",
        "\n",
        "GDISPLAY - Finished: 2016-04-09T14:21:06\n"
       ]
      },
      {
       "output_type": "stream",
       "stream": "stdout",
       "text": [
        "\n",
        "N20151204S0451[1]"
       ]
      },
      {
       "output_type": "stream",
       "stream": "stdout",
       "text": [
        "\n",
        "\n",
        "GDISPLAY - Started: 2016-04-09T14:21:11\n",
        "\n"
       ]
      },
      {
       "output_type": "stream",
       "stream": "stdout",
       "text": [
        "GDISPLAY: Temporary image name tmpout4365_489N20151204S0451.fits\n",
        "\n",
        "GMULTIAMP - Started: 2016-04-09T14:21:11\n",
        "\n"
       ]
      },
      {
       "output_type": "stream",
       "stream": "stdout",
       "text": [
        "\n",
        "GMULTIAMP - Finished: 2016-04-09T14:21:12\n",
        "GMULTIAMP - Exit status: GOOD\n",
        "\n"
       ]
      },
      {
       "output_type": "stream",
       "stream": "stdout",
       "text": [
        "GDISPLAY: Displaying image...\n",
        "\n",
        "GDISPLAY - Finished: 2016-04-09T14:21:14\n"
       ]
      },
      {
       "output_type": "stream",
       "stream": "stdout",
       "text": [
        "\n",
        "N20151210S0359[1]"
       ]
      },
      {
       "output_type": "stream",
       "stream": "stdout",
       "text": [
        "\n",
        "\n",
        "GDISPLAY - Started: 2016-04-09T14:21:19\n",
        "\n"
       ]
      },
      {
       "output_type": "stream",
       "stream": "stdout",
       "text": [
        "GDISPLAY: Temporary image name tmpout4365_510N20151210S0359.fits\n",
        "\n",
        "GMULTIAMP - Started: 2016-04-09T14:21:19\n",
        "\n"
       ]
      },
      {
       "output_type": "stream",
       "stream": "stdout",
       "text": [
        "\n",
        "GMULTIAMP - Finished: 2016-04-09T14:21:20\n",
        "GMULTIAMP - Exit status: GOOD\n",
        "\n"
       ]
      },
      {
       "output_type": "stream",
       "stream": "stdout",
       "text": [
        "GDISPLAY: Displaying image...\n",
        "\n",
        "GDISPLAY - Finished: 2016-04-09T14:21:22\n"
       ]
      },
      {
       "output_type": "stream",
       "stream": "stdout",
       "text": [
        "\n",
        "N20151210S0360[1]"
       ]
      },
      {
       "output_type": "stream",
       "stream": "stdout",
       "text": [
        "\n",
        "\n",
        "GDISPLAY - Started: 2016-04-09T14:21:27\n",
        "\n"
       ]
      },
      {
       "output_type": "stream",
       "stream": "stdout",
       "text": [
        "GDISPLAY: Temporary image name tmpout4365_531N20151210S0360.fits\n",
        "\n",
        "GMULTIAMP - Started: 2016-04-09T14:21:27\n",
        "\n"
       ]
      },
      {
       "output_type": "stream",
       "stream": "stdout",
       "text": [
        "\n",
        "GMULTIAMP - Finished: 2016-04-09T14:21:28\n",
        "GMULTIAMP - Exit status: GOOD\n",
        "\n"
       ]
      },
      {
       "output_type": "stream",
       "stream": "stdout",
       "text": [
        "GDISPLAY: Displaying image...\n",
        "\n",
        "GDISPLAY - Finished: 2016-04-09T14:21:30\n"
       ]
      },
      {
       "output_type": "stream",
       "stream": "stdout",
       "text": [
        "\n",
        "N20151210S0361[1]"
       ]
      },
      {
       "output_type": "stream",
       "stream": "stdout",
       "text": [
        "\n",
        "\n",
        "GDISPLAY - Started: 2016-04-09T14:21:36\n",
        "\n"
       ]
      },
      {
       "output_type": "stream",
       "stream": "stdout",
       "text": [
        "GDISPLAY: Temporary image name tmpout4365_552N20151210S0361.fits\n",
        "\n",
        "GMULTIAMP - Started: 2016-04-09T14:21:36\n",
        "\n"
       ]
      },
      {
       "output_type": "stream",
       "stream": "stdout",
       "text": [
        "\n",
        "GMULTIAMP - Finished: 2016-04-09T14:21:37\n",
        "GMULTIAMP - Exit status: GOOD\n",
        "\n"
       ]
      },
      {
       "output_type": "stream",
       "stream": "stdout",
       "text": [
        "GDISPLAY: Displaying image...\n",
        "\n",
        "GDISPLAY - Finished: 2016-04-09T14:21:39\n"
       ]
      },
      {
       "output_type": "stream",
       "stream": "stdout",
       "text": [
        "\n",
        "N20151214S0239[1]"
       ]
      },
      {
       "output_type": "stream",
       "stream": "stdout",
       "text": [
        "\n",
        "\n",
        "GDISPLAY - Started: 2016-04-09T14:21:44\n",
        "\n"
       ]
      },
      {
       "output_type": "stream",
       "stream": "stdout",
       "text": [
        "GDISPLAY: Temporary image name tmpout4365_573N20151214S0239.fits\n",
        "\n",
        "GMULTIAMP - Started: 2016-04-09T14:21:44\n",
        "\n"
       ]
      },
      {
       "output_type": "stream",
       "stream": "stdout",
       "text": [
        "\n",
        "GMULTIAMP - Finished: 2016-04-09T14:21:45\n",
        "GMULTIAMP - Exit status: GOOD\n",
        "\n"
       ]
      },
      {
       "output_type": "stream",
       "stream": "stdout",
       "text": [
        "GDISPLAY: Displaying image...\n",
        "\n",
        "GDISPLAY - Finished: 2016-04-09T14:21:47\n"
       ]
      },
      {
       "output_type": "stream",
       "stream": "stdout",
       "text": [
        "\n",
        "N20151214S0240[1]"
       ]
      },
      {
       "output_type": "stream",
       "stream": "stdout",
       "text": [
        "\n",
        "\n",
        "GDISPLAY - Started: 2016-04-09T14:21:52\n",
        "\n"
       ]
      },
      {
       "output_type": "stream",
       "stream": "stdout",
       "text": [
        "GDISPLAY: Temporary image name tmpout4365_594N20151214S0240.fits\n",
        "\n",
        "GMULTIAMP - Started: 2016-04-09T14:21:52\n",
        "\n"
       ]
      },
      {
       "output_type": "stream",
       "stream": "stdout",
       "text": [
        "\n",
        "GMULTIAMP - Finished: 2016-04-09T14:21:53\n",
        "GMULTIAMP - Exit status: GOOD\n",
        "\n"
       ]
      },
      {
       "output_type": "stream",
       "stream": "stdout",
       "text": [
        "GDISPLAY: Displaying image...\n",
        "\n",
        "GDISPLAY - Finished: 2016-04-09T14:21:55\n"
       ]
      },
      {
       "output_type": "stream",
       "stream": "stdout",
       "text": [
        "\n",
        "N20151214S0241[1]"
       ]
      },
      {
       "output_type": "stream",
       "stream": "stdout",
       "text": [
        "\n",
        "\n",
        "GDISPLAY - Started: 2016-04-09T14:22:00\n",
        "\n"
       ]
      },
      {
       "output_type": "stream",
       "stream": "stdout",
       "text": [
        "GDISPLAY: Temporary image name tmpout4365_615N20151214S0241.fits\n",
        "\n",
        "GMULTIAMP - Started: 2016-04-09T14:22:00\n",
        "\n"
       ]
      },
      {
       "output_type": "stream",
       "stream": "stdout",
       "text": [
        "\n",
        "GMULTIAMP - Finished: 2016-04-09T14:22:01\n",
        "GMULTIAMP - Exit status: GOOD\n",
        "\n"
       ]
      },
      {
       "output_type": "stream",
       "stream": "stdout",
       "text": [
        "GDISPLAY: Displaying image...\n",
        "\n",
        "GDISPLAY - Finished: 2016-04-09T14:22:03\n"
       ]
      },
      {
       "output_type": "stream",
       "stream": "stdout",
       "text": [
        "\n",
        "N20151214S0242[1]"
       ]
      },
      {
       "output_type": "stream",
       "stream": "stdout",
       "text": [
        "\n",
        "\n",
        "GDISPLAY - Started: 2016-04-09T14:22:08\n",
        "\n"
       ]
      },
      {
       "output_type": "stream",
       "stream": "stdout",
       "text": [
        "GDISPLAY: Temporary image name tmpout4365_636N20151214S0242.fits\n",
        "\n",
        "GMULTIAMP - Started: 2016-04-09T14:22:08\n",
        "\n"
       ]
      },
      {
       "output_type": "stream",
       "stream": "stdout",
       "text": [
        "\n",
        "GMULTIAMP - Finished: 2016-04-09T14:22:09\n",
        "GMULTIAMP - Exit status: GOOD\n",
        "\n"
       ]
      },
      {
       "output_type": "stream",
       "stream": "stdout",
       "text": [
        "GDISPLAY: Displaying image...\n",
        "\n",
        "GDISPLAY - Finished: 2016-04-09T14:22:11\n"
       ]
      },
      {
       "output_type": "stream",
       "stream": "stdout",
       "text": [
        "\n"
       ]
      }
     ],
     "prompt_number": 7
    },
    {
     "cell_type": "heading",
     "level": 2,
     "metadata": {},
     "source": [
      "STEP 4: Process the biases"
     ]
    },
    {
     "cell_type": "markdown",
     "metadata": {},
     "source": [
      "This will produce the two biases defined above.  Those two biases will be used later to process the science frames, the twilight flats, and the fringe frames."
     ]
    },
    {
     "cell_type": "code",
     "collapsed": false,
     "input": [
      "os.chdir(redux_path)\n",
      "\n",
      "for biaskey in biases.keys():\n",
      "    iraf.imdelete(biases[biaskey]['procbias'], verify='no')\n",
      "    iraf.imdelete('g//@'+biaskey+'.lis', verify='no')\n",
      "\n",
      "    print 'Creating bias ', biases[biaskey]['procbias']\n",
      "    iraf.gbias('@'+biaskey+'.lis', outbias=biases[biaskey]['procbias'], \\\n",
      "               rawpath=raw_path, fl_over='yes', fl_trim='yes', \\\n",
      "               fl_vardq='yes')\n",
      "    shutil.copy(biases[biaskey]['procbias'], procbias_path)\n",
      "\n",
      "# The processed biases are:\n",
      "os.listdir(procbias_path)"
     ],
     "language": "python",
     "metadata": {},
     "outputs": [
      {
       "output_type": "stream",
       "stream": "stdout",
       "text": [
        "Creating bias  N20151210S0430_bias.fits\n",
        "----------------------------------------------------------------------------\n",
        "GBIAS -- Sat Apr  9 14:22:22 HST 2016\n",
        "\n",
        "Input images:\n",
        "  N20151210S0430\n",
        "  N20151210S0431\n",
        "  N20151210S0432\n",
        "  N20151210S0433\n",
        "  N20151210S0434\n",
        "\n",
        "Output bias image: N20151210S0430_bias.fits"
       ]
      },
      {
       "output_type": "stream",
       "stream": "stdout",
       "text": [
        "\n",
        " \n"
       ]
      },
      {
       "output_type": "stream",
       "stream": "stdout",
       "text": [
        "\n",
        "----------------------------------------------------------------------------"
       ]
      },
      {
       "output_type": "stream",
       "stream": "stdout",
       "text": [
        "\n",
        "GIREDUCE -- Sat Apr  9 14:22:23 HST 2016\n",
        "\n"
       ]
      },
      {
       "output_type": "stream",
       "stream": "stdout",
       "text": [
        "----------------------------------------------------------------------------\n",
        "GPREPARE -- Sat Apr  9 14:22:23 HST 2016\n",
        "\n",
        "Input list    = /data/workspace/DRWorkshopAAO/NGC3310/raw/N20151210S0430\n",
        "Output list   = \n",
        "Output prefix = g\n",
        "Raw path      = \n",
        "MDF dir       = gmos$data/\n",
        "Add MDF       = no\n",
        "\n"
       ]
      },
      {
       "output_type": "stream",
       "stream": "stdout",
       "text": [
        "Input  /data/workspace/DRWorkshopAAO/NGC3310/raw/N20151210S0430.fits   Output  gN20151210S0430.fits\n"
       ]
      },
      {
       "output_type": "stream",
       "stream": "stdout",
       "text": [
        "\n",
        "GPREPARE exit status: good.\n",
        "----------------------------------------------------------------------------\n"
       ]
      },
      {
       "output_type": "stream",
       "stream": "stdout",
       "text": [
        "----------------------------------------------------------------------------\n",
        "GPREPARE -- Sat Apr  9 14:22:24 HST 2016\n",
        "\n",
        "Input list    = /data/workspace/DRWorkshopAAO/NGC3310/raw/N20151210S0431\n",
        "Output list   = \n",
        "Output prefix = g\n",
        "Raw path      = \n",
        "MDF dir       = gmos$data/\n",
        "Add MDF       = no\n",
        "\n"
       ]
      },
      {
       "output_type": "stream",
       "stream": "stdout",
       "text": [
        "Input  /data/workspace/DRWorkshopAAO/NGC3310/raw/N20151210S0431.fits   Output  gN20151210S0431.fits\n"
       ]
      },
      {
       "output_type": "stream",
       "stream": "stdout",
       "text": [
        "\n",
        "GPREPARE exit status: good.\n",
        "----------------------------------------------------------------------------\n"
       ]
      },
      {
       "output_type": "stream",
       "stream": "stdout",
       "text": [
        "----------------------------------------------------------------------------\n",
        "GPREPARE -- Sat Apr  9 14:22:25 HST 2016\n",
        "\n",
        "Input list    = /data/workspace/DRWorkshopAAO/NGC3310/raw/N20151210S0432\n",
        "Output list   = \n",
        "Output prefix = g\n",
        "Raw path      = \n",
        "MDF dir       = gmos$data/\n",
        "Add MDF       = no\n",
        "\n"
       ]
      },
      {
       "output_type": "stream",
       "stream": "stdout",
       "text": [
        "Input  /data/workspace/DRWorkshopAAO/NGC3310/raw/N20151210S0432.fits   Output  gN20151210S0432.fits\n"
       ]
      },
      {
       "output_type": "stream",
       "stream": "stdout",
       "text": [
        "\n",
        "GPREPARE exit status: good.\n",
        "----------------------------------------------------------------------------\n"
       ]
      },
      {
       "output_type": "stream",
       "stream": "stdout",
       "text": [
        "----------------------------------------------------------------------------\n",
        "GPREPARE -- Sat Apr  9 14:22:27 HST 2016\n",
        "\n",
        "Input list    = /data/workspace/DRWorkshopAAO/NGC3310/raw/N20151210S0433\n",
        "Output list   = \n",
        "Output prefix = g\n",
        "Raw path      = \n",
        "MDF dir       = gmos$data/\n",
        "Add MDF       = no\n",
        "\n"
       ]
      },
      {
       "output_type": "stream",
       "stream": "stdout",
       "text": [
        "Input  /data/workspace/DRWorkshopAAO/NGC3310/raw/N20151210S0433.fits   Output  gN20151210S0433.fits\n"
       ]
      },
      {
       "output_type": "stream",
       "stream": "stdout",
       "text": [
        "\n",
        "GPREPARE exit status: good.\n",
        "----------------------------------------------------------------------------\n"
       ]
      },
      {
       "output_type": "stream",
       "stream": "stdout",
       "text": [
        "----------------------------------------------------------------------------\n",
        "GPREPARE -- Sat Apr  9 14:22:28 HST 2016\n",
        "\n",
        "Input list    = /data/workspace/DRWorkshopAAO/NGC3310/raw/N20151210S0434\n",
        "Output list   = \n",
        "Output prefix = g\n",
        "Raw path      = \n",
        "MDF dir       = gmos$data/\n",
        "Add MDF       = no\n",
        "\n"
       ]
      },
      {
       "output_type": "stream",
       "stream": "stdout",
       "text": [
        "Input  /data/workspace/DRWorkshopAAO/NGC3310/raw/N20151210S0434.fits   Output  gN20151210S0434.fits\n"
       ]
      },
      {
       "output_type": "stream",
       "stream": "stdout",
       "text": [
        "\n",
        "GPREPARE exit status: good.\n",
        "----------------------------------------------------------------------------\n"
       ]
      },
      {
       "output_type": "stream",
       "stream": "stdout",
       "text": [
        "\n",
        "Input files:\n",
        "gN20151210S0430\n",
        "gN20151210S0431\n",
        "gN20151210S0432\n",
        "gN20151210S0433\n",
        "gN20151210S0434\n"
       ]
      },
      {
       "output_type": "stream",
       "stream": "stdout",
       "text": [
        "\n"
       ]
      },
      {
       "output_type": "stream",
       "stream": "stdout",
       "text": [
        "Output files:\n",
        "tmpfile4365_662N20151210S0430\n",
        "tmpfile4365_662N20151210S0431\n",
        "tmpfile4365_662N20151210S0432\n",
        "tmpfile4365_662N20151210S0433\n",
        "tmpfile4365_662N20151210S0434\n"
       ]
      },
      {
       "output_type": "stream",
       "stream": "stdout",
       "text": [
        "\n",
        "GIREDUCE: Image tmpfile4365_662N20151210S0430 overscan subtracted"
       ]
      },
      {
       "output_type": "stream",
       "stream": "stdout",
       "text": [
        "\n",
        "GIREDUCE: Image tmpfile4365_662N20151210S0431 overscan subtracted"
       ]
      },
      {
       "output_type": "stream",
       "stream": "stdout",
       "text": [
        "\n",
        "GIREDUCE: Image tmpfile4365_662N20151210S0432 overscan subtracted"
       ]
      },
      {
       "output_type": "stream",
       "stream": "stdout",
       "text": [
        "\n",
        "GIREDUCE: Image tmpfile4365_662N20151210S0433 overscan subtracted"
       ]
      },
      {
       "output_type": "stream",
       "stream": "stdout",
       "text": [
        "\n",
        "GIREDUCE: Image tmpfile4365_662N20151210S0434 overscan subtracted"
       ]
      },
      {
       "output_type": "stream",
       "stream": "stdout",
       "text": [
        "\n"
       ]
      },
      {
       "output_type": "stream",
       "stream": "stdout",
       "text": [
        "GIREDUCE: Image tmpfile4365_662N20151210S0430 trimmed\n"
       ]
      },
      {
       "output_type": "stream",
       "stream": "stdout",
       "text": [
        "GIREDUCE: Image tmpfile4365_662N20151210S0431 trimmed\n"
       ]
      },
      {
       "output_type": "stream",
       "stream": "stdout",
       "text": [
        "GIREDUCE: Image tmpfile4365_662N20151210S0432 trimmed\n"
       ]
      },
      {
       "output_type": "stream",
       "stream": "stdout",
       "text": [
        "GIREDUCE: Image tmpfile4365_662N20151210S0433 trimmed\n"
       ]
      },
      {
       "output_type": "stream",
       "stream": "stdout",
       "text": [
        "GIREDUCE: Image tmpfile4365_662N20151210S0434 trimmed\n",
        "\n"
       ]
      },
      {
       "output_type": "stream",
       "stream": "stdout",
       "text": [
        "\n",
        "GIREDUCE - Cleaning up -- Sat Apr  9 14:23:17 HST 2016\n"
       ]
      },
      {
       "output_type": "stream",
       "stream": "stdout",
       "text": [
        "\n",
        "GIREDUCE -- Sat Apr  9 14:23:17 HST 2016\n",
        "GIREDUCE exit status:  good.\n",
        "----------------------------------------------------------------------------\n",
        "--------------------------------------------------------------------------------"
       ]
      },
      {
       "output_type": "stream",
       "stream": "stdout",
       "text": [
        "\n",
        "GEMCOMBINE -- Sat Apr  9 14:23:17 HST 2016\n",
        " \n",
        "GEMCOMBINE: input = @tmpcombin4365_659\n",
        "GEMCOMBINE: output = N20151210S0430_bias.fits\n",
        "GEMCOMBINE: title = Bias\n",
        "GEMCOMBINE: bpmfile = \n",
        "GEMCOMBINE: sci_ext = SCI\n",
        "GEMCOMBINE: var_ext = VAR\n",
        "GEMCOMBINE: dq_ext = DQ\n",
        " \n"
       ]
      },
      {
       "output_type": "stream",
       "stream": "stdout",
       "text": [
        "WARNING - GEMCOMBINE: five or less images to combine.\n",
        "\n",
        "Apr  9 14:23: IMCOMBINE\n",
        "  combine = average, scale = none, zero = none, weight = none\n",
        "  reject = avsigclip, mclip = yes, nkeep = 1\n",
        "  lsigma = 3., hsigma = 3.\n",
        "  blank = 0.\n",
        "  statsec = Apr  9 14:23\n",
        "                Images     Exp\n",
        "  tmpfile4365_662N20151210S0430.fits[SCI,1]    0.0\n",
        "  tmpfile4365_662N20151210S0431.fits[SCI,1]    0.0\n",
        "  tmpfile4365_662N20151210S0432.fits[SCI,1]    0.0\n",
        "  tmpfile4365_662N20151210S0433.fits[SCI,1]    0.0\n",
        "  tmpfile4365_662N20151210S0434.fits[SCI,1]    0.0\n",
        "\n",
        "  Output image = tmpcombout4365_727, ncombine = 5\n",
        "  Number rejected mask = tmpcombdq4365_728.pl\n",
        "  Sigma image = tmpcombsig4365_729\n"
       ]
      },
      {
       "output_type": "stream",
       "stream": "stdout",
       "text": [
        "WARNING - GEMCOMBINE: five or less images to combine.\n",
        "\n",
        "Apr  9 14:23: IMCOMBINE\n",
        "  combine = average, scale = none, zero = none, weight = none\n",
        "  reject = avsigclip, mclip = yes, nkeep = 1\n",
        "  lsigma = 3., hsigma = 3.\n",
        "  blank = 0.\n",
        "  statsec = Apr  9 14:23\n",
        "                Images     Exp\n",
        "  tmpfile4365_662N20151210S0430.fits[SCI,2]    0.0\n",
        "  tmpfile4365_662N20151210S0431.fits[SCI,2]    0.0\n",
        "  tmpfile4365_662N20151210S0432.fits[SCI,2]    0.0\n",
        "  tmpfile4365_662N20151210S0433.fits[SCI,2]    0.0\n",
        "  tmpfile4365_662N20151210S0434.fits[SCI,2]    0.0\n",
        "\n",
        "  Output image = tmpcombout4365_734, ncombine = 5\n",
        "  Number rejected mask = tmpcombdq4365_735.pl\n",
        "  Sigma image = tmpcombsig4365_736\n"
       ]
      },
      {
       "output_type": "stream",
       "stream": "stdout",
       "text": [
        "WARNING - GEMCOMBINE: five or less images to combine.\n",
        "\n",
        "Apr  9 14:23: IMCOMBINE\n",
        "  combine = average, scale = none, zero = none, weight = none\n",
        "  reject = avsigclip, mclip = yes, nkeep = 1\n",
        "  lsigma = 3., hsigma = 3.\n",
        "  blank = 0.\n",
        "  statsec = Apr  9 14:23\n",
        "                Images     Exp\n",
        "  tmpfile4365_662N20151210S0430.fits[SCI,3]    0.0\n",
        "  tmpfile4365_662N20151210S0431.fits[SCI,3]    0.0\n",
        "  tmpfile4365_662N20151210S0432.fits[SCI,3]    0.0\n",
        "  tmpfile4365_662N20151210S0433.fits[SCI,3]    0.0\n",
        "  tmpfile4365_662N20151210S0434.fits[SCI,3]    0.0\n",
        "\n",
        "  Output image = tmpcombout4365_738, ncombine = 5\n",
        "  Number rejected mask = tmpcombdq4365_739.pl\n",
        "  Sigma image = tmpcombsig4365_740\n"
       ]
      },
      {
       "output_type": "stream",
       "stream": "stdout",
       "text": [
        "WARNING - GEMCOMBINE: five or less images to combine.\n",
        "\n",
        "Apr  9 14:23: IMCOMBINE\n",
        "  combine = average, scale = none, zero = none, weight = none\n",
        "  reject = avsigclip, mclip = yes, nkeep = 1\n",
        "  lsigma = 3., hsigma = 3.\n",
        "  blank = 0.\n",
        "  statsec = Apr  9 14:23\n",
        "                Images     Exp\n",
        "  tmpfile4365_662N20151210S0430.fits[SCI,4]    0.0\n",
        "  tmpfile4365_662N20151210S0431.fits[SCI,4]    0.0\n",
        "  tmpfile4365_662N20151210S0432.fits[SCI,4]    0.0\n",
        "  tmpfile4365_662N20151210S0433.fits[SCI,4]    0.0\n",
        "  tmpfile4365_662N20151210S0434.fits[SCI,4]    0.0\n",
        "\n",
        "  Output image = tmpcombout4365_742, ncombine = 5\n",
        "  Number rejected mask = tmpcombdq4365_743.pl\n",
        "  Sigma image = tmpcombsig4365_744\n"
       ]
      },
      {
       "output_type": "stream",
       "stream": "stdout",
       "text": [
        "WARNING - GEMCOMBINE: five or less images to combine.\n",
        "\n",
        "Apr  9 14:23: IMCOMBINE\n",
        "  combine = average, scale = none, zero = none, weight = none\n",
        "  reject = avsigclip, mclip = yes, nkeep = 1\n",
        "  lsigma = 3., hsigma = 3.\n",
        "  blank = 0.\n",
        "  statsec = Apr  9 14:23\n",
        "                Images     Exp\n",
        "  tmpfile4365_662N20151210S0430.fits[SCI,5]    0.0\n",
        "  tmpfile4365_662N20151210S0431.fits[SCI,5]    0.0\n",
        "  tmpfile4365_662N20151210S0432.fits[SCI,5]    0.0\n",
        "  tmpfile4365_662N20151210S0433.fits[SCI,5]    0.0\n",
        "  tmpfile4365_662N20151210S0434.fits[SCI,5]    0.0\n",
        "\n",
        "  Output image = tmpcombout4365_746, ncombine = 5\n",
        "  Number rejected mask = tmpcombdq4365_747.pl\n",
        "  Sigma image = tmpcombsig4365_748\n"
       ]
      },
      {
       "output_type": "stream",
       "stream": "stdout",
       "text": [
        "WARNING - GEMCOMBINE: five or less images to combine.\n",
        "\n",
        "Apr  9 14:23: IMCOMBINE\n",
        "  combine = average, scale = none, zero = none, weight = none\n",
        "  reject = avsigclip, mclip = yes, nkeep = 1\n",
        "  lsigma = 3., hsigma = 3.\n",
        "  blank = 0.\n",
        "  statsec = Apr  9 14:23\n",
        "                Images     Exp\n",
        "  tmpfile4365_662N20151210S0430.fits[SCI,6]    0.0\n",
        "  tmpfile4365_662N20151210S0431.fits[SCI,6]    0.0\n",
        "  tmpfile4365_662N20151210S0432.fits[SCI,6]    0.0\n",
        "  tmpfile4365_662N20151210S0433.fits[SCI,6]    0.0\n",
        "  tmpfile4365_662N20151210S0434.fits[SCI,6]    0.0\n",
        "\n",
        "  Output image = tmpcombout4365_750, ncombine = 5\n",
        "  Number rejected mask = tmpcombdq4365_751.pl\n",
        "  Sigma image = tmpcombsig4365_752\n"
       ]
      },
      {
       "output_type": "stream",
       "stream": "stdout",
       "text": [
        " \n",
        "GEMCOMBINE -- Finished: Sat Apr  9 14:23:29 HST 2016\n",
        " \n",
        "GEMCOMBINE -- Exit status: GOOD\n",
        "--------------------------------------------------------------------------------\n"
       ]
      },
      {
       "output_type": "stream",
       "stream": "stdout",
       "text": [
        "\n",
        "GBIAS: Exit status: GOOD.\n",
        "----------------------------------------------------------------------------\n",
        "Creating bias "
       ]
      },
      {
       "output_type": "stream",
       "stream": "stdout",
       "text": [
        " N20151214S0346_bias.fits\n",
        "----------------------------------------------------------------------------\n",
        "GBIAS -- Sat Apr  9 14:23:30 HST 2016\n",
        "\n",
        "Input images:"
       ]
      },
      {
       "output_type": "stream",
       "stream": "stdout",
       "text": [
        "\n",
        "  N20151214S0346\n",
        "  N20151214S0347\n",
        "  N20151214S0348\n",
        "  N20151214S0349\n",
        "  N20151214S0350\n",
        "\n",
        "Output bias image: N20151214S0346_bias.fits\n",
        " \n"
       ]
      },
      {
       "output_type": "stream",
       "stream": "stdout",
       "text": [
        "\n",
        "----------------------------------------------------------------------------"
       ]
      },
      {
       "output_type": "stream",
       "stream": "stdout",
       "text": [
        "\n",
        "GIREDUCE -- Sat Apr  9 14:23:30 HST 2016\n",
        "\n"
       ]
      },
      {
       "output_type": "stream",
       "stream": "stdout",
       "text": [
        "----------------------------------------------------------------------------\n",
        "GPREPARE -- Sat Apr  9 14:23:30 HST 2016\n",
        "\n",
        "Input list    = /data/workspace/DRWorkshopAAO/NGC3310/raw/N20151214S0346\n",
        "Output list   = \n",
        "Output prefix = g\n",
        "Raw path      = \n",
        "MDF dir       = gmos$data/\n",
        "Add MDF       = no\n",
        "\n"
       ]
      },
      {
       "output_type": "stream",
       "stream": "stdout",
       "text": [
        "Input  /data/workspace/DRWorkshopAAO/NGC3310/raw/N20151214S0346.fits   Output  gN20151214S0346.fits\n"
       ]
      },
      {
       "output_type": "stream",
       "stream": "stdout",
       "text": [
        "\n",
        "GPREPARE exit status: good.\n",
        "----------------------------------------------------------------------------\n"
       ]
      },
      {
       "output_type": "stream",
       "stream": "stdout",
       "text": [
        "----------------------------------------------------------------------------\n",
        "GPREPARE -- Sat Apr  9 14:23:32 HST 2016\n",
        "\n",
        "Input list    = /data/workspace/DRWorkshopAAO/NGC3310/raw/N20151214S0347\n",
        "Output list   = \n",
        "Output prefix = g\n",
        "Raw path      = \n",
        "MDF dir       = gmos$data/\n",
        "Add MDF       = no\n",
        "\n"
       ]
      },
      {
       "output_type": "stream",
       "stream": "stdout",
       "text": [
        "Input  /data/workspace/DRWorkshopAAO/NGC3310/raw/N20151214S0347.fits   Output  gN20151214S0347.fits\n"
       ]
      },
      {
       "output_type": "stream",
       "stream": "stdout",
       "text": [
        "\n",
        "GPREPARE exit status: good.\n",
        "----------------------------------------------------------------------------\n"
       ]
      },
      {
       "output_type": "stream",
       "stream": "stdout",
       "text": [
        "----------------------------------------------------------------------------\n",
        "GPREPARE -- Sat Apr  9 14:23:33 HST 2016\n",
        "\n",
        "Input list    = /data/workspace/DRWorkshopAAO/NGC3310/raw/N20151214S0348\n",
        "Output list   = \n",
        "Output prefix = g\n",
        "Raw path      = \n",
        "MDF dir       = gmos$data/\n",
        "Add MDF       = no\n",
        "\n"
       ]
      },
      {
       "output_type": "stream",
       "stream": "stdout",
       "text": [
        "Input  /data/workspace/DRWorkshopAAO/NGC3310/raw/N20151214S0348.fits   Output  gN20151214S0348.fits\n"
       ]
      },
      {
       "output_type": "stream",
       "stream": "stdout",
       "text": [
        "\n",
        "GPREPARE exit status: good.\n",
        "----------------------------------------------------------------------------\n"
       ]
      },
      {
       "output_type": "stream",
       "stream": "stdout",
       "text": [
        "----------------------------------------------------------------------------\n",
        "GPREPARE -- Sat Apr  9 14:23:34 HST 2016\n",
        "\n",
        "Input list    = /data/workspace/DRWorkshopAAO/NGC3310/raw/N20151214S0349\n",
        "Output list   = \n",
        "Output prefix = g\n",
        "Raw path      = \n",
        "MDF dir       = gmos$data/\n",
        "Add MDF       = no\n",
        "\n"
       ]
      },
      {
       "output_type": "stream",
       "stream": "stdout",
       "text": [
        "Input  /data/workspace/DRWorkshopAAO/NGC3310/raw/N20151214S0349.fits   Output  gN20151214S0349.fits\n"
       ]
      },
      {
       "output_type": "stream",
       "stream": "stdout",
       "text": [
        "\n",
        "GPREPARE exit status: good.\n",
        "----------------------------------------------------------------------------\n"
       ]
      },
      {
       "output_type": "stream",
       "stream": "stdout",
       "text": [
        "----------------------------------------------------------------------------\n",
        "GPREPARE -- Sat Apr  9 14:23:36 HST 2016\n",
        "\n",
        "Input list    = /data/workspace/DRWorkshopAAO/NGC3310/raw/N20151214S0350\n",
        "Output list   = \n",
        "Output prefix = g\n",
        "Raw path      = \n",
        "MDF dir       = gmos$data/\n",
        "Add MDF       = no\n",
        "\n"
       ]
      },
      {
       "output_type": "stream",
       "stream": "stdout",
       "text": [
        "Input  /data/workspace/DRWorkshopAAO/NGC3310/raw/N20151214S0350.fits   Output  gN20151214S0350.fits\n"
       ]
      },
      {
       "output_type": "stream",
       "stream": "stdout",
       "text": [
        "\n",
        "GPREPARE exit status: good.\n",
        "----------------------------------------------------------------------------\n"
       ]
      },
      {
       "output_type": "stream",
       "stream": "stdout",
       "text": [
        "\n",
        "Input files:\n",
        "gN20151214S0346\n",
        "gN20151214S0347\n",
        "gN20151214S0348\n",
        "gN20151214S0349\n",
        "gN20151214S0350\n"
       ]
      },
      {
       "output_type": "stream",
       "stream": "stdout",
       "text": [
        "\n"
       ]
      },
      {
       "output_type": "stream",
       "stream": "stdout",
       "text": [
        "Output files:\n",
        "tmpfile4365_760N20151214S0346\n",
        "tmpfile4365_760N20151214S0347\n",
        "tmpfile4365_760N20151214S0348\n",
        "tmpfile4365_760N20151214S0349\n",
        "tmpfile4365_760N20151214S0350\n"
       ]
      },
      {
       "output_type": "stream",
       "stream": "stdout",
       "text": [
        "\n",
        "GIREDUCE: Image tmpfile4365_760N20151214S0346 overscan subtracted"
       ]
      },
      {
       "output_type": "stream",
       "stream": "stdout",
       "text": [
        "\n",
        "GIREDUCE: Image tmpfile4365_760N20151214S0347 overscan subtracted"
       ]
      },
      {
       "output_type": "stream",
       "stream": "stdout",
       "text": [
        "\n",
        "GIREDUCE: Image tmpfile4365_760N20151214S0348 overscan subtracted"
       ]
      },
      {
       "output_type": "stream",
       "stream": "stdout",
       "text": [
        "\n",
        "GIREDUCE: Image tmpfile4365_760N20151214S0349 overscan subtracted"
       ]
      },
      {
       "output_type": "stream",
       "stream": "stdout",
       "text": [
        "\n",
        "GIREDUCE: Image tmpfile4365_760N20151214S0350 overscan subtracted"
       ]
      },
      {
       "output_type": "stream",
       "stream": "stdout",
       "text": [
        "\n"
       ]
      },
      {
       "output_type": "stream",
       "stream": "stdout",
       "text": [
        "GIREDUCE: Image tmpfile4365_760N20151214S0346 trimmed\n"
       ]
      },
      {
       "output_type": "stream",
       "stream": "stdout",
       "text": [
        "GIREDUCE: Image tmpfile4365_760N20151214S0347 trimmed\n"
       ]
      },
      {
       "output_type": "stream",
       "stream": "stdout",
       "text": [
        "GIREDUCE: Image tmpfile4365_760N20151214S0348 trimmed\n"
       ]
      },
      {
       "output_type": "stream",
       "stream": "stdout",
       "text": [
        "GIREDUCE: Image tmpfile4365_760N20151214S0349 trimmed\n"
       ]
      },
      {
       "output_type": "stream",
       "stream": "stdout",
       "text": [
        "GIREDUCE: Image tmpfile4365_760N20151214S0350 trimmed\n",
        "\n"
       ]
      },
      {
       "output_type": "stream",
       "stream": "stdout",
       "text": [
        "\n",
        "GIREDUCE - Cleaning up -- Sat Apr  9 14:24:26 HST 2016\n"
       ]
      },
      {
       "output_type": "stream",
       "stream": "stdout",
       "text": [
        "\n",
        "GIREDUCE -- Sat Apr  9 14:24:26 HST 2016\n",
        "GIREDUCE exit status:  good.\n",
        "----------------------------------------------------------------------------\n",
        "--------------------------------------------------------------------------------"
       ]
      },
      {
       "output_type": "stream",
       "stream": "stdout",
       "text": [
        "\n",
        "GEMCOMBINE -- Sat Apr  9 14:24:26 HST 2016\n",
        " \n",
        "GEMCOMBINE: input = @tmpcombin4365_757\n",
        "GEMCOMBINE: output = N20151214S0346_bias.fits\n",
        "GEMCOMBINE: title = Bias\n",
        "GEMCOMBINE: bpmfile = \n",
        "GEMCOMBINE: sci_ext = SCI\n",
        "GEMCOMBINE: var_ext = VAR\n",
        "GEMCOMBINE: dq_ext = DQ\n",
        " \n"
       ]
      },
      {
       "output_type": "stream",
       "stream": "stdout",
       "text": [
        "WARNING - GEMCOMBINE: five or less images to combine.\n",
        "\n",
        "Apr  9 14:24: IMCOMBINE\n",
        "  combine = average, scale = none, zero = none, weight = none\n",
        "  reject = avsigclip, mclip = yes, nkeep = 1\n",
        "  lsigma = 3., hsigma = 3.\n",
        "  blank = 0.\n",
        "  statsec = Apr  9 14:24\n",
        "                Images     Exp\n",
        "  tmpfile4365_760N20151214S0346.fits[SCI,1]    0.0\n",
        "  tmpfile4365_760N20151214S0347.fits[SCI,1]    0.0\n",
        "  tmpfile4365_760N20151214S0348.fits[SCI,1]    0.0\n",
        "  tmpfile4365_760N20151214S0349.fits[SCI,1]    0.0\n",
        "  tmpfile4365_760N20151214S0350.fits[SCI,1]    0.0\n",
        "\n",
        "  Output image = tmpcombout4365_825, ncombine = 5\n",
        "  Number rejected mask = tmpcombdq4365_826.pl\n",
        "  Sigma image = tmpcombsig4365_827\n"
       ]
      },
      {
       "output_type": "stream",
       "stream": "stdout",
       "text": [
        "WARNING - GEMCOMBINE: five or less images to combine.\n",
        "\n",
        "Apr  9 14:24: IMCOMBINE\n",
        "  combine = average, scale = none, zero = none, weight = none\n",
        "  reject = avsigclip, mclip = yes, nkeep = 1\n",
        "  lsigma = 3., hsigma = 3.\n",
        "  blank = 0.\n",
        "  statsec = Apr  9 14:24\n",
        "                Images     Exp\n",
        "  tmpfile4365_760N20151214S0346.fits[SCI,2]    0.0\n",
        "  tmpfile4365_760N20151214S0347.fits[SCI,2]    0.0\n",
        "  tmpfile4365_760N20151214S0348.fits[SCI,2]    0.0\n",
        "  tmpfile4365_760N20151214S0349.fits[SCI,2]    0.0\n",
        "  tmpfile4365_760N20151214S0350.fits[SCI,2]    0.0\n",
        "\n",
        "  Output image = tmpcombout4365_832, ncombine = 5\n",
        "  Number rejected mask = tmpcombdq4365_833.pl\n",
        "  Sigma image = tmpcombsig4365_834\n"
       ]
      },
      {
       "output_type": "stream",
       "stream": "stdout",
       "text": [
        "WARNING - GEMCOMBINE: five or less images to combine.\n",
        "\n",
        "Apr  9 14:24: IMCOMBINE\n",
        "  combine = average, scale = none, zero = none, weight = none\n",
        "  reject = avsigclip, mclip = yes, nkeep = 1\n",
        "  lsigma = 3., hsigma = 3.\n",
        "  blank = 0.\n",
        "  statsec = Apr  9 14:24\n",
        "                Images     Exp\n",
        "  tmpfile4365_760N20151214S0346.fits[SCI,3]    0.0\n",
        "  tmpfile4365_760N20151214S0347.fits[SCI,3]    0.0\n",
        "  tmpfile4365_760N20151214S0348.fits[SCI,3]    0.0\n",
        "  tmpfile4365_760N20151214S0349.fits[SCI,3]    0.0\n",
        "  tmpfile4365_760N20151214S0350.fits[SCI,3]    0.0\n",
        "\n",
        "  Output image = tmpcombout4365_836, ncombine = 5\n",
        "  Number rejected mask = tmpcombdq4365_837.pl\n",
        "  Sigma image = tmpcombsig4365_838\n"
       ]
      },
      {
       "output_type": "stream",
       "stream": "stdout",
       "text": [
        "WARNING - GEMCOMBINE: five or less images to combine.\n",
        "\n",
        "Apr  9 14:24: IMCOMBINE\n",
        "  combine = average, scale = none, zero = none, weight = none\n",
        "  reject = avsigclip, mclip = yes, nkeep = 1\n",
        "  lsigma = 3., hsigma = 3.\n",
        "  blank = 0.\n",
        "  statsec = Apr  9 14:24\n",
        "                Images     Exp\n",
        "  tmpfile4365_760N20151214S0346.fits[SCI,4]    0.0\n",
        "  tmpfile4365_760N20151214S0347.fits[SCI,4]    0.0\n",
        "  tmpfile4365_760N20151214S0348.fits[SCI,4]    0.0\n",
        "  tmpfile4365_760N20151214S0349.fits[SCI,4]    0.0\n",
        "  tmpfile4365_760N20151214S0350.fits[SCI,4]    0.0\n",
        "\n",
        "  Output image = tmpcombout4365_840, ncombine = 5\n",
        "  Number rejected mask = tmpcombdq4365_841.pl\n",
        "  Sigma image = tmpcombsig4365_842\n"
       ]
      },
      {
       "output_type": "stream",
       "stream": "stdout",
       "text": [
        "WARNING - GEMCOMBINE: five or less images to combine.\n",
        "\n",
        "Apr  9 14:24: IMCOMBINE\n",
        "  combine = average, scale = none, zero = none, weight = none\n",
        "  reject = avsigclip, mclip = yes, nkeep = 1\n",
        "  lsigma = 3., hsigma = 3.\n",
        "  blank = 0.\n",
        "  statsec = Apr  9 14:24\n",
        "                Images     Exp\n",
        "  tmpfile4365_760N20151214S0346.fits[SCI,5]    0.0\n",
        "  tmpfile4365_760N20151214S0347.fits[SCI,5]    0.0\n",
        "  tmpfile4365_760N20151214S0348.fits[SCI,5]    0.0\n",
        "  tmpfile4365_760N20151214S0349.fits[SCI,5]    0.0\n",
        "  tmpfile4365_760N20151214S0350.fits[SCI,5]    0.0\n",
        "\n",
        "  Output image = tmpcombout4365_844, ncombine = 5\n",
        "  Number rejected mask = tmpcombdq4365_845.pl\n",
        "  Sigma image = tmpcombsig4365_846\n"
       ]
      },
      {
       "output_type": "stream",
       "stream": "stdout",
       "text": [
        "WARNING - GEMCOMBINE: five or less images to combine.\n",
        "\n",
        "Apr  9 14:24: IMCOMBINE\n",
        "  combine = average, scale = none, zero = none, weight = none\n",
        "  reject = avsigclip, mclip = yes, nkeep = 1\n",
        "  lsigma = 3., hsigma = 3.\n",
        "  blank = 0.\n",
        "  statsec = Apr  9 14:24\n",
        "                Images     Exp\n",
        "  tmpfile4365_760N20151214S0346.fits[SCI,6]    0.0\n",
        "  tmpfile4365_760N20151214S0347.fits[SCI,6]    0.0\n",
        "  tmpfile4365_760N20151214S0348.fits[SCI,6]    0.0\n",
        "  tmpfile4365_760N20151214S0349.fits[SCI,6]    0.0\n",
        "  tmpfile4365_760N20151214S0350.fits[SCI,6]    0.0\n",
        "\n",
        "  Output image = tmpcombout4365_848, ncombine = 5\n",
        "  Number rejected mask = tmpcombdq4365_849.pl\n",
        "  Sigma image = tmpcombsig4365_850\n"
       ]
      },
      {
       "output_type": "stream",
       "stream": "stdout",
       "text": [
        " \n",
        "GEMCOMBINE -- Finished: Sat Apr  9 14:24:38 HST 2016\n",
        " \n",
        "GEMCOMBINE -- Exit status: GOOD\n",
        "--------------------------------------------------------------------------------\n"
       ]
      },
      {
       "output_type": "stream",
       "stream": "stdout",
       "text": [
        "\n",
        "GBIAS: Exit status: GOOD.\n",
        "----------------------------------------------------------------------------\n",
        "Creating bias "
       ]
      },
      {
       "output_type": "stream",
       "stream": "stdout",
       "text": [
        " N20151204S0501_bias.fits\n",
        "----------------------------------------------------------------------------\n",
        "GBIAS -- Sat Apr  9 14:24:39 HST 2016\n",
        "\n",
        "Input images:\n",
        "  N20151204S0501\n",
        "  N20151204S0502\n",
        "  N20151204S0503\n",
        "  N20151204S0504"
       ]
      },
      {
       "output_type": "stream",
       "stream": "stdout",
       "text": [
        "\n",
        "  N20151204S0505\n",
        "\n",
        "Output bias image: N20151204S0501_bias.fits\n",
        " \n"
       ]
      },
      {
       "output_type": "stream",
       "stream": "stdout",
       "text": [
        "\n",
        "----------------------------------------------------------------------------"
       ]
      },
      {
       "output_type": "stream",
       "stream": "stdout",
       "text": [
        "\n",
        "GIREDUCE -- Sat Apr  9 14:24:39 HST 2016\n",
        "\n"
       ]
      },
      {
       "output_type": "stream",
       "stream": "stdout",
       "text": [
        "----------------------------------------------------------------------------\n",
        "GPREPARE -- Sat Apr  9 14:24:39 HST 2016\n",
        "\n",
        "Input list    = /data/workspace/DRWorkshopAAO/NGC3310/raw/N20151204S0501\n",
        "Output list   = \n",
        "Output prefix = g\n",
        "Raw path      = \n",
        "MDF dir       = gmos$data/\n",
        "Add MDF       = no\n",
        "\n"
       ]
      },
      {
       "output_type": "stream",
       "stream": "stdout",
       "text": [
        "Input  /data/workspace/DRWorkshopAAO/NGC3310/raw/N20151204S0501.fits   Output  gN20151204S0501.fits\n"
       ]
      },
      {
       "output_type": "stream",
       "stream": "stdout",
       "text": [
        "\n",
        "GPREPARE exit status: good.\n",
        "----------------------------------------------------------------------------\n"
       ]
      },
      {
       "output_type": "stream",
       "stream": "stdout",
       "text": [
        "----------------------------------------------------------------------------\n",
        "GPREPARE -- Sat Apr  9 14:24:41 HST 2016\n",
        "\n",
        "Input list    = /data/workspace/DRWorkshopAAO/NGC3310/raw/N20151204S0502\n",
        "Output list   = \n",
        "Output prefix = g\n",
        "Raw path      = \n",
        "MDF dir       = gmos$data/\n",
        "Add MDF       = no\n",
        "\n"
       ]
      },
      {
       "output_type": "stream",
       "stream": "stdout",
       "text": [
        "Input  /data/workspace/DRWorkshopAAO/NGC3310/raw/N20151204S0502.fits   Output  gN20151204S0502.fits\n"
       ]
      },
      {
       "output_type": "stream",
       "stream": "stdout",
       "text": [
        "\n",
        "GPREPARE exit status: good.\n",
        "----------------------------------------------------------------------------\n"
       ]
      },
      {
       "output_type": "stream",
       "stream": "stdout",
       "text": [
        "----------------------------------------------------------------------------\n",
        "GPREPARE -- Sat Apr  9 14:24:42 HST 2016\n",
        "\n",
        "Input list    = /data/workspace/DRWorkshopAAO/NGC3310/raw/N20151204S0503\n",
        "Output list   = \n",
        "Output prefix = g\n",
        "Raw path      = \n",
        "MDF dir       = gmos$data/\n",
        "Add MDF       = no\n",
        "\n"
       ]
      },
      {
       "output_type": "stream",
       "stream": "stdout",
       "text": [
        "Input  /data/workspace/DRWorkshopAAO/NGC3310/raw/N20151204S0503.fits   Output  gN20151204S0503.fits\n"
       ]
      },
      {
       "output_type": "stream",
       "stream": "stdout",
       "text": [
        "\n",
        "GPREPARE exit status: good.\n",
        "----------------------------------------------------------------------------\n"
       ]
      },
      {
       "output_type": "stream",
       "stream": "stdout",
       "text": [
        "----------------------------------------------------------------------------\n",
        "GPREPARE -- Sat Apr  9 14:24:43 HST 2016\n",
        "\n",
        "Input list    = /data/workspace/DRWorkshopAAO/NGC3310/raw/N20151204S0504\n",
        "Output list   = \n",
        "Output prefix = g\n",
        "Raw path      = \n",
        "MDF dir       = gmos$data/\n",
        "Add MDF       = no\n",
        "\n"
       ]
      },
      {
       "output_type": "stream",
       "stream": "stdout",
       "text": [
        "Input  /data/workspace/DRWorkshopAAO/NGC3310/raw/N20151204S0504.fits   Output  gN20151204S0504.fits\n"
       ]
      },
      {
       "output_type": "stream",
       "stream": "stdout",
       "text": [
        "\n",
        "GPREPARE exit status: good.\n",
        "----------------------------------------------------------------------------\n"
       ]
      },
      {
       "output_type": "stream",
       "stream": "stdout",
       "text": [
        "----------------------------------------------------------------------------\n",
        "GPREPARE -- Sat Apr  9 14:24:45 HST 2016\n",
        "\n",
        "Input list    = /data/workspace/DRWorkshopAAO/NGC3310/raw/N20151204S0505\n",
        "Output list   = \n",
        "Output prefix = g\n",
        "Raw path      = \n",
        "MDF dir       = gmos$data/\n",
        "Add MDF       = no\n",
        "\n"
       ]
      },
      {
       "output_type": "stream",
       "stream": "stdout",
       "text": [
        "Input  /data/workspace/DRWorkshopAAO/NGC3310/raw/N20151204S0505.fits   Output  gN20151204S0505.fits\n"
       ]
      },
      {
       "output_type": "stream",
       "stream": "stdout",
       "text": [
        "\n",
        "GPREPARE exit status: good.\n",
        "----------------------------------------------------------------------------\n"
       ]
      },
      {
       "output_type": "stream",
       "stream": "stdout",
       "text": [
        "\n",
        "Input files:\n",
        "gN20151204S0501\n",
        "gN20151204S0502\n",
        "gN20151204S0503\n",
        "gN20151204S0504\n",
        "gN20151204S0505\n"
       ]
      },
      {
       "output_type": "stream",
       "stream": "stdout",
       "text": [
        "\n"
       ]
      },
      {
       "output_type": "stream",
       "stream": "stdout",
       "text": [
        "Output files:\n",
        "tmpfile4365_858N20151204S0501\n",
        "tmpfile4365_858N20151204S0502\n",
        "tmpfile4365_858N20151204S0503\n",
        "tmpfile4365_858N20151204S0504\n",
        "tmpfile4365_858N20151204S0505\n"
       ]
      },
      {
       "output_type": "stream",
       "stream": "stdout",
       "text": [
        "\n",
        "GIREDUCE: Image tmpfile4365_858N20151204S0501 overscan subtracted"
       ]
      },
      {
       "output_type": "stream",
       "stream": "stdout",
       "text": [
        "\n",
        "GIREDUCE: Image tmpfile4365_858N20151204S0502 overscan subtracted"
       ]
      },
      {
       "output_type": "stream",
       "stream": "stdout",
       "text": [
        "\n",
        "GIREDUCE: Image tmpfile4365_858N20151204S0503 overscan subtracted"
       ]
      },
      {
       "output_type": "stream",
       "stream": "stdout",
       "text": [
        "\n",
        "GIREDUCE: Image tmpfile4365_858N20151204S0504 overscan subtracted"
       ]
      },
      {
       "output_type": "stream",
       "stream": "stdout",
       "text": [
        "\n",
        "GIREDUCE: Image tmpfile4365_858N20151204S0505 overscan subtracted"
       ]
      },
      {
       "output_type": "stream",
       "stream": "stdout",
       "text": [
        "\n"
       ]
      },
      {
       "output_type": "stream",
       "stream": "stdout",
       "text": [
        "GIREDUCE: Image tmpfile4365_858N20151204S0501 trimmed\n"
       ]
      },
      {
       "output_type": "stream",
       "stream": "stdout",
       "text": [
        "GIREDUCE: Image tmpfile4365_858N20151204S0502 trimmed\n"
       ]
      },
      {
       "output_type": "stream",
       "stream": "stdout",
       "text": [
        "GIREDUCE: Image tmpfile4365_858N20151204S0503 trimmed\n"
       ]
      },
      {
       "output_type": "stream",
       "stream": "stdout",
       "text": [
        "GIREDUCE: Image tmpfile4365_858N20151204S0504 trimmed\n"
       ]
      },
      {
       "output_type": "stream",
       "stream": "stdout",
       "text": [
        "GIREDUCE: Image tmpfile4365_858N20151204S0505 trimmed\n",
        "\n"
       ]
      },
      {
       "output_type": "stream",
       "stream": "stdout",
       "text": [
        "\n",
        "GIREDUCE - Cleaning up -- Sat Apr  9 14:25:35 HST 2016\n"
       ]
      },
      {
       "output_type": "stream",
       "stream": "stdout",
       "text": [
        "\n",
        "GIREDUCE -- Sat Apr  9 14:25:35 HST 2016\n",
        "GIREDUCE exit status:  good.\n",
        "----------------------------------------------------------------------------\n",
        "--------------------------------------------------------------------------------"
       ]
      },
      {
       "output_type": "stream",
       "stream": "stdout",
       "text": [
        "\n",
        "GEMCOMBINE -- Sat Apr  9 14:25:35 HST 2016\n",
        " \n",
        "GEMCOMBINE: input = @tmpcombin4365_855\n",
        "GEMCOMBINE: output = N20151204S0501_bias.fits\n",
        "GEMCOMBINE: title = Bias\n",
        "GEMCOMBINE: bpmfile = \n",
        "GEMCOMBINE: sci_ext = SCI\n",
        "GEMCOMBINE: var_ext = VAR\n",
        "GEMCOMBINE: dq_ext = DQ\n",
        " \n"
       ]
      },
      {
       "output_type": "stream",
       "stream": "stdout",
       "text": [
        "WARNING - GEMCOMBINE: five or less images to combine.\n",
        "\n",
        "Apr  9 14:25: IMCOMBINE\n",
        "  combine = average, scale = none, zero = none, weight = none\n",
        "  reject = avsigclip, mclip = yes, nkeep = 1\n",
        "  lsigma = 3., hsigma = 3.\n",
        "  blank = 0.\n",
        "  statsec = Apr  9 14:25\n",
        "                Images     Exp\n",
        "  tmpfile4365_858N20151204S0501.fits[SCI,1]    0.0\n",
        "  tmpfile4365_858N20151204S0502.fits[SCI,1]    0.0\n",
        "  tmpfile4365_858N20151204S0503.fits[SCI,1]    0.0\n",
        "  tmpfile4365_858N20151204S0504.fits[SCI,1]    0.0\n",
        "  tmpfile4365_858N20151204S0505.fits[SCI,1]    0.0\n",
        "\n",
        "  Output image = tmpcombout4365_923, ncombine = 5\n",
        "  Number rejected mask = tmpcombdq4365_924.pl\n",
        "  Sigma image = tmpcombsig4365_925\n"
       ]
      },
      {
       "output_type": "stream",
       "stream": "stdout",
       "text": [
        "WARNING - GEMCOMBINE: five or less images to combine.\n",
        "\n",
        "Apr  9 14:25: IMCOMBINE\n",
        "  combine = average, scale = none, zero = none, weight = none\n",
        "  reject = avsigclip, mclip = yes, nkeep = 1\n",
        "  lsigma = 3., hsigma = 3.\n",
        "  blank = 0.\n",
        "  statsec = Apr  9 14:25\n",
        "                Images     Exp\n",
        "  tmpfile4365_858N20151204S0501.fits[SCI,2]    0.0\n",
        "  tmpfile4365_858N20151204S0502.fits[SCI,2]    0.0\n",
        "  tmpfile4365_858N20151204S0503.fits[SCI,2]    0.0\n",
        "  tmpfile4365_858N20151204S0504.fits[SCI,2]    0.0\n",
        "  tmpfile4365_858N20151204S0505.fits[SCI,2]    0.0\n",
        "\n",
        "  Output image = tmpcombout4365_930, ncombine = 5\n",
        "  Number rejected mask = tmpcombdq4365_931.pl\n",
        "  Sigma image = tmpcombsig4365_932\n"
       ]
      },
      {
       "output_type": "stream",
       "stream": "stdout",
       "text": [
        "WARNING - GEMCOMBINE: five or less images to combine.\n",
        "\n",
        "Apr  9 14:25: IMCOMBINE\n",
        "  combine = average, scale = none, zero = none, weight = none\n",
        "  reject = avsigclip, mclip = yes, nkeep = 1\n",
        "  lsigma = 3., hsigma = 3.\n",
        "  blank = 0.\n",
        "  statsec = Apr  9 14:25\n",
        "                Images     Exp\n",
        "  tmpfile4365_858N20151204S0501.fits[SCI,3]    0.0\n",
        "  tmpfile4365_858N20151204S0502.fits[SCI,3]    0.0\n",
        "  tmpfile4365_858N20151204S0503.fits[SCI,3]    0.0\n",
        "  tmpfile4365_858N20151204S0504.fits[SCI,3]    0.0\n",
        "  tmpfile4365_858N20151204S0505.fits[SCI,3]    0.0\n",
        "\n",
        "  Output image = tmpcombout4365_934, ncombine = 5\n",
        "  Number rejected mask = tmpcombdq4365_935.pl\n",
        "  Sigma image = tmpcombsig4365_936\n"
       ]
      },
      {
       "output_type": "stream",
       "stream": "stdout",
       "text": [
        "WARNING - GEMCOMBINE: five or less images to combine.\n",
        "\n",
        "Apr  9 14:25: IMCOMBINE\n",
        "  combine = average, scale = none, zero = none, weight = none\n",
        "  reject = avsigclip, mclip = yes, nkeep = 1\n",
        "  lsigma = 3., hsigma = 3.\n",
        "  blank = 0.\n",
        "  statsec = Apr  9 14:25\n",
        "                Images     Exp\n",
        "  tmpfile4365_858N20151204S0501.fits[SCI,4]    0.0\n",
        "  tmpfile4365_858N20151204S0502.fits[SCI,4]    0.0\n",
        "  tmpfile4365_858N20151204S0503.fits[SCI,4]    0.0\n",
        "  tmpfile4365_858N20151204S0504.fits[SCI,4]    0.0\n",
        "  tmpfile4365_858N20151204S0505.fits[SCI,4]    0.0\n",
        "\n",
        "  Output image = tmpcombout4365_938, ncombine = 5\n",
        "  Number rejected mask = tmpcombdq4365_939.pl\n",
        "  Sigma image = tmpcombsig4365_940\n"
       ]
      },
      {
       "output_type": "stream",
       "stream": "stdout",
       "text": [
        "WARNING - GEMCOMBINE: five or less images to combine.\n",
        "\n",
        "Apr  9 14:25: IMCOMBINE\n",
        "  combine = average, scale = none, zero = none, weight = none\n",
        "  reject = avsigclip, mclip = yes, nkeep = 1\n",
        "  lsigma = 3., hsigma = 3.\n",
        "  blank = 0.\n",
        "  statsec = Apr  9 14:25\n",
        "                Images     Exp\n",
        "  tmpfile4365_858N20151204S0501.fits[SCI,5]    0.0\n",
        "  tmpfile4365_858N20151204S0502.fits[SCI,5]    0.0\n",
        "  tmpfile4365_858N20151204S0503.fits[SCI,5]    0.0\n",
        "  tmpfile4365_858N20151204S0504.fits[SCI,5]    0.0\n",
        "  tmpfile4365_858N20151204S0505.fits[SCI,5]    0.0\n",
        "\n",
        "  Output image = tmpcombout4365_942, ncombine = 5\n",
        "  Number rejected mask = tmpcombdq4365_943.pl\n",
        "  Sigma image = tmpcombsig4365_944\n"
       ]
      },
      {
       "output_type": "stream",
       "stream": "stdout",
       "text": [
        "WARNING - GEMCOMBINE: five or less images to combine.\n",
        "\n",
        "Apr  9 14:25: IMCOMBINE\n",
        "  combine = average, scale = none, zero = none, weight = none\n",
        "  reject = avsigclip, mclip = yes, nkeep = 1\n",
        "  lsigma = 3., hsigma = 3.\n",
        "  blank = 0.\n",
        "  statsec = Apr  9 14:25\n",
        "                Images     Exp\n",
        "  tmpfile4365_858N20151204S0501.fits[SCI,6]    0.0\n",
        "  tmpfile4365_858N20151204S0502.fits[SCI,6]    0.0\n",
        "  tmpfile4365_858N20151204S0503.fits[SCI,6]    0.0\n",
        "  tmpfile4365_858N20151204S0504.fits[SCI,6]    0.0\n",
        "  tmpfile4365_858N20151204S0505.fits[SCI,6]    0.0\n",
        "\n",
        "  Output image = tmpcombout4365_946, ncombine = 5\n",
        "  Number rejected mask = tmpcombdq4365_947.pl\n",
        "  Sigma image = tmpcombsig4365_948\n"
       ]
      },
      {
       "output_type": "stream",
       "stream": "stdout",
       "text": [
        " \n",
        "GEMCOMBINE -- Finished: Sat Apr  9 14:25:46 HST 2016\n",
        " \n",
        "GEMCOMBINE -- Exit status: GOOD\n",
        "--------------------------------------------------------------------------------\n"
       ]
      },
      {
       "output_type": "stream",
       "stream": "stdout",
       "text": [
        "\n",
        "GBIAS: Exit status: GOOD.\n",
        "----------------------------------------------------------------------------\n"
       ]
      },
      {
       "metadata": {},
       "output_type": "pyout",
       "prompt_number": 8,
       "text": [
        "['N20151204S0501_bias.fits',\n",
        " 'N20151205S0525_bias.fits',\n",
        " 'N20151208S0272_bias.fits',\n",
        " 'N20151210S0430_bias.fits',\n",
        " 'N20151214S0346_bias.fits']"
       ]
      }
     ],
     "prompt_number": 8
    },
    {
     "cell_type": "heading",
     "level": 4,
     "metadata": {},
     "source": [
      "Visually inspect the processed biases"
     ]
    },
    {
     "cell_type": "code",
     "collapsed": false,
     "input": [
      "# WARNING: interactive.  It launches imexam.  Type 'q' to quit.\n",
      "for biaskey in biases.keys():\n",
      "    iraf.gdisplay(biases[biaskey]['procbias'], 1, fl_paste='yes')"
     ],
     "language": "python",
     "metadata": {},
     "outputs": [
      {
       "output_type": "stream",
       "stream": "stdout",
       "text": [
        "\n",
        "GDISPLAY - Started: 2016-04-09T14:27:50\n",
        "\n"
       ]
      },
      {
       "output_type": "stream",
       "stream": "stdout",
       "text": [
        "GDISPLAY: Temporary image name tmpout4365_951N20151210S0430_bias.fits\n",
        "\n",
        "GMULTIAMP - Started: 2016-04-09T14:27:50\n",
        "\n"
       ]
      },
      {
       "output_type": "stream",
       "stream": "stdout",
       "text": [
        "GMULTIAMP: Tiling image...\n"
       ]
      },
      {
       "output_type": "stream",
       "stream": "stdout",
       "text": [
        "               Image tiled.\n"
       ]
      },
      {
       "output_type": "stream",
       "stream": "stdout",
       "text": [
        "\n",
        "GMULTIAMP - Finished: 2016-04-09T14:27:52\n",
        "GMULTIAMP - Exit status: GOOD\n",
        "\n"
       ]
      },
      {
       "output_type": "stream",
       "stream": "stdout",
       "text": [
        "GDISPLAY: Displaying image...\n",
        "\n",
        "GDISPLAY: Starting imexamine - quit with q"
       ]
      },
      {
       "output_type": "stream",
       "stream": "stdout",
       "text": [
        "\n",
        "\n",
        "GDISPLAY - Finished: 2016-04-09T14:27:58\n"
       ]
      },
      {
       "output_type": "stream",
       "stream": "stdout",
       "text": [
        "\n",
        "\n",
        "GDISPLAY - Started: 2016-04-09T14:27:58\n",
        "\n"
       ]
      },
      {
       "output_type": "stream",
       "stream": "stdout",
       "text": [
        "GDISPLAY: Temporary image name tmpout4365_985N20151214S0346_bias.fits\n",
        "\n",
        "GMULTIAMP - Started: 2016-04-09T14:27:58\n",
        "\n"
       ]
      },
      {
       "output_type": "stream",
       "stream": "stdout",
       "text": [
        "GMULTIAMP: Tiling image...\n"
       ]
      },
      {
       "output_type": "stream",
       "stream": "stdout",
       "text": [
        "               Image tiled.\n"
       ]
      },
      {
       "output_type": "stream",
       "stream": "stdout",
       "text": [
        "\n",
        "GMULTIAMP - Finished: 2016-04-09T14:28:01\n",
        "GMULTIAMP - Exit status: GOOD\n",
        "\n"
       ]
      },
      {
       "output_type": "stream",
       "stream": "stdout",
       "text": [
        "GDISPLAY: Displaying image...\n",
        "\n",
        "GDISPLAY: Starting imexamine - quit with q"
       ]
      },
      {
       "output_type": "stream",
       "stream": "stdout",
       "text": [
        "\n",
        "\n",
        "GDISPLAY - Finished: 2016-04-09T14:28:02\n"
       ]
      },
      {
       "output_type": "stream",
       "stream": "stdout",
       "text": [
        "\n",
        "\n",
        "GDISPLAY - Started: 2016-04-09T14:28:02\n",
        "\n"
       ]
      },
      {
       "output_type": "stream",
       "stream": "stdout",
       "text": [
        "GDISPLAY: Temporary image name tmpout4365_1019N20151204S0501_bias.fits\n",
        "\n",
        "GMULTIAMP - Started: 2016-04-09T14:28:02\n",
        "\n"
       ]
      },
      {
       "output_type": "stream",
       "stream": "stdout",
       "text": [
        "GMULTIAMP: Tiling image...\n"
       ]
      },
      {
       "output_type": "stream",
       "stream": "stdout",
       "text": [
        "               Image tiled.\n"
       ]
      },
      {
       "output_type": "stream",
       "stream": "stdout",
       "text": [
        "\n",
        "GMULTIAMP - Finished: 2016-04-09T14:28:04\n",
        "GMULTIAMP - Exit status: GOOD\n",
        "\n"
       ]
      },
      {
       "output_type": "stream",
       "stream": "stdout",
       "text": [
        "GDISPLAY: Displaying image...\n",
        "\n",
        "GDISPLAY: Starting imexamine - quit with q"
       ]
      },
      {
       "output_type": "stream",
       "stream": "stdout",
       "text": [
        "\n",
        "\n",
        "GDISPLAY - Finished: 2016-04-09T14:28:06\n"
       ]
      },
      {
       "output_type": "stream",
       "stream": "stdout",
       "text": [
        "\n"
       ]
      }
     ],
     "prompt_number": 9
    },
    {
     "cell_type": "heading",
     "level": 2,
     "metadata": {},
     "source": [
      "STEP 5: Process the twilight flats"
     ]
    },
    {
     "cell_type": "markdown",
     "metadata": {},
     "source": [
      "This will produce the one twilight flat defined above.  That flat will be used later to process the science frames and the fringe frames."
     ]
    },
    {
     "cell_type": "code",
     "collapsed": false,
     "input": [
      "os.chdir(redux_path)\n",
      "\n",
      "for flatkey in flats.keys():\n",
      "    \n",
      "    flatbiassets = zip(flats[flatkey]['frames'], flats[flatkey]['flatbias'])\n",
      "    for ((root, frames), bias) in flatbiassets:\n",
      "        flatlist = flatkey+'_tmp.lis'\n",
      "        iraf.gemlist(root, frames, Stdout=flatlist)\n",
      "        \n",
      "        iraf.imdelete('g//@'+flatlist, verify='no')\n",
      "        iraf.imdelete('rg//@'+flatlist, verify='no')\n",
      "        \n",
      "        procbias = os.path.join(procbias_path, bias)\n",
      "        \n",
      "        print 'Processing raw twilight flats'\n",
      "        \n",
      "        # gpreare and bias correct the raw flats\n",
      "        iraf.gireduce('@'+flatlist, rawpath=raw_path, \\\n",
      "                  fl_over='yes', fl_trim='yes', \\\n",
      "                  fl_bias='yes', bias=procbias, fl_flat='no', \\\n",
      "                  fl_vardq='yes')\n",
      "        iraf.delete(flatlist)\n",
      "        \n",
      "    \n",
      "    \n",
      "#    iraf.imdelete('g//@'+flatkey+'.lis', verify='no')\n",
      "#    iraf.imdelete('rg//@'+flatkey+'.lis', verify='no')\n",
      "#    \n",
      "#    flatlist = flatkey+'.lis'\n",
      "#    procbias = os.path.join(procbias_path, flats[flatkey]['flatbias'])\n",
      "#    \n",
      "#    print 'Processing raw twilight flats'\n",
      "#    \n",
      "#    # gprepare and bias correct the raw flats\n",
      "#    iraf.gireduce('@'+flatlist, rawpath=raw_path, \\\n",
      "#                  fl_over='yes', fl_trim='yes', \\\n",
      "#                  fl_bias='yes', bias=procbias, fl_flat='no', \\\n",
      "#                  fl_vardq='yes')"
     ],
     "language": "python",
     "metadata": {},
     "outputs": [
      {
       "output_type": "stream",
       "stream": "stdout",
       "text": [
        "Processing raw twilight flats\n",
        "----------------------------------------------------------------------------"
       ]
      },
      {
       "output_type": "stream",
       "stream": "stdout",
       "text": [
        "\n",
        "GIREDUCE -- Sat Apr  9 14:29:08 HST 2016\n",
        "\n"
       ]
      },
      {
       "output_type": "stream",
       "stream": "stdout",
       "text": [
        "----------------------------------------------------------------------------\n",
        "GPREPARE -- Sat Apr  9 14:29:08 HST 2016\n",
        "\n",
        "Input list    = N20151204S0446\n",
        "Output list   = \n",
        "Output prefix = g\n",
        "Raw path      = /data/workspace/DRWorkshopAAO/NGC3310/raw/\n",
        "MDF dir       = gmos$data/\n",
        "Add MDF       = no\n",
        "\n"
       ]
      },
      {
       "output_type": "stream",
       "stream": "stdout",
       "text": [
        "Input  /data/workspace/DRWorkshopAAO/NGC3310/raw/N20151204S0446.fits   Output  gN20151204S0446.fits\n"
       ]
      },
      {
       "output_type": "stream",
       "stream": "stdout",
       "text": [
        "\n",
        "GPREPARE exit status: good.\n",
        "----------------------------------------------------------------------------\n"
       ]
      },
      {
       "output_type": "stream",
       "stream": "stdout",
       "text": [
        "----------------------------------------------------------------------------\n",
        "GPREPARE -- Sat Apr  9 14:29:09 HST 2016\n",
        "\n",
        "Input list    = N20151204S0447\n",
        "Output list   = \n",
        "Output prefix = g\n",
        "Raw path      = /data/workspace/DRWorkshopAAO/NGC3310/raw/\n",
        "MDF dir       = gmos$data/\n",
        "Add MDF       = no\n",
        "\n"
       ]
      },
      {
       "output_type": "stream",
       "stream": "stdout",
       "text": [
        "Input  /data/workspace/DRWorkshopAAO/NGC3310/raw/N20151204S0447.fits   Output  gN20151204S0447.fits\n"
       ]
      },
      {
       "output_type": "stream",
       "stream": "stdout",
       "text": [
        "\n",
        "GPREPARE exit status: good.\n",
        "----------------------------------------------------------------------------\n"
       ]
      },
      {
       "output_type": "stream",
       "stream": "stdout",
       "text": [
        "----------------------------------------------------------------------------\n",
        "GPREPARE -- Sat Apr  9 14:29:10 HST 2016\n",
        "\n",
        "Input list    = N20151204S0448\n",
        "Output list   = \n",
        "Output prefix = g\n",
        "Raw path      = /data/workspace/DRWorkshopAAO/NGC3310/raw/\n",
        "MDF dir       = gmos$data/\n",
        "Add MDF       = no\n",
        "\n"
       ]
      },
      {
       "output_type": "stream",
       "stream": "stdout",
       "text": [
        "Input  /data/workspace/DRWorkshopAAO/NGC3310/raw/N20151204S0448.fits   Output  gN20151204S0448.fits\n"
       ]
      },
      {
       "output_type": "stream",
       "stream": "stdout",
       "text": [
        "\n",
        "GPREPARE exit status: good.\n",
        "----------------------------------------------------------------------------\n"
       ]
      },
      {
       "output_type": "stream",
       "stream": "stdout",
       "text": [
        "----------------------------------------------------------------------------\n",
        "GPREPARE -- Sat Apr  9 14:29:12 HST 2016\n",
        "\n",
        "Input list    = N20151204S0449\n",
        "Output list   = \n",
        "Output prefix = g\n",
        "Raw path      = /data/workspace/DRWorkshopAAO/NGC3310/raw/\n",
        "MDF dir       = gmos$data/\n",
        "Add MDF       = no\n",
        "\n"
       ]
      },
      {
       "output_type": "stream",
       "stream": "stdout",
       "text": [
        "Input  /data/workspace/DRWorkshopAAO/NGC3310/raw/N20151204S0449.fits   Output  gN20151204S0449.fits\n"
       ]
      },
      {
       "output_type": "stream",
       "stream": "stdout",
       "text": [
        "\n",
        "GPREPARE exit status: good.\n",
        "----------------------------------------------------------------------------\n"
       ]
      },
      {
       "output_type": "stream",
       "stream": "stdout",
       "text": [
        "----------------------------------------------------------------------------\n",
        "GPREPARE -- Sat Apr  9 14:29:13 HST 2016\n",
        "\n",
        "Input list    = N20151204S0450\n",
        "Output list   = \n",
        "Output prefix = g\n",
        "Raw path      = /data/workspace/DRWorkshopAAO/NGC3310/raw/\n",
        "MDF dir       = gmos$data/\n",
        "Add MDF       = no\n",
        "\n"
       ]
      },
      {
       "output_type": "stream",
       "stream": "stdout",
       "text": [
        "Input  /data/workspace/DRWorkshopAAO/NGC3310/raw/N20151204S0450.fits   Output  gN20151204S0450.fits\n"
       ]
      },
      {
       "output_type": "stream",
       "stream": "stdout",
       "text": [
        "\n",
        "GPREPARE exit status: good.\n",
        "----------------------------------------------------------------------------\n"
       ]
      },
      {
       "output_type": "stream",
       "stream": "stdout",
       "text": [
        "----------------------------------------------------------------------------\n",
        "GPREPARE -- Sat Apr  9 14:29:14 HST 2016\n",
        "\n",
        "Input list    = N20151204S0451\n",
        "Output list   = \n",
        "Output prefix = g\n",
        "Raw path      = /data/workspace/DRWorkshopAAO/NGC3310/raw/\n",
        "MDF dir       = gmos$data/\n",
        "Add MDF       = no\n",
        "\n"
       ]
      },
      {
       "output_type": "stream",
       "stream": "stdout",
       "text": [
        "Input  /data/workspace/DRWorkshopAAO/NGC3310/raw/N20151204S0451.fits   Output  gN20151204S0451.fits\n"
       ]
      },
      {
       "output_type": "stream",
       "stream": "stdout",
       "text": [
        "\n",
        "GPREPARE exit status: good.\n",
        "----------------------------------------------------------------------------\n"
       ]
      },
      {
       "output_type": "stream",
       "stream": "stdout",
       "text": [
        "\n",
        "Input files:\n",
        "gN20151204S0446\n",
        "gN20151204S0447\n",
        "gN20151204S0448\n",
        "gN20151204S0449\n",
        "gN20151204S0450\n",
        "gN20151204S0451\n"
       ]
      },
      {
       "output_type": "stream",
       "stream": "stdout",
       "text": [
        "\n"
       ]
      },
      {
       "output_type": "stream",
       "stream": "stdout",
       "text": [
        "Output files:\n",
        "rgN20151204S0446\n",
        "rgN20151204S0447\n",
        "rgN20151204S0448\n",
        "rgN20151204S0449\n",
        "rgN20151204S0450\n",
        "rgN20151204S0451\n"
       ]
      },
      {
       "output_type": "stream",
       "stream": "stdout",
       "text": [
        "\n"
       ]
      },
      {
       "output_type": "stream",
       "stream": "stdout",
       "text": [
        "WARNING - GIREDUCE: Bad Pixel Mask filename is an empty string\n",
        "                    Only saturated pixels will be flagged\n",
        "GIREDUCE: Image rgN20151204S0446 overscan subtracted"
       ]
      },
      {
       "output_type": "stream",
       "stream": "stdout",
       "text": [
        "\n",
        "GIREDUCE: Image rgN20151204S0447 overscan subtracted"
       ]
      },
      {
       "output_type": "stream",
       "stream": "stdout",
       "text": [
        "\n",
        "GIREDUCE: Image rgN20151204S0448 overscan subtracted"
       ]
      },
      {
       "output_type": "stream",
       "stream": "stdout",
       "text": [
        "\n",
        "GIREDUCE: Image rgN20151204S0449 overscan subtracted"
       ]
      },
      {
       "output_type": "stream",
       "stream": "stdout",
       "text": [
        "\n",
        "GIREDUCE: Image rgN20151204S0450 overscan subtracted"
       ]
      },
      {
       "output_type": "stream",
       "stream": "stdout",
       "text": [
        "\n",
        "GIREDUCE: Image rgN20151204S0451 overscan subtracted"
       ]
      },
      {
       "output_type": "stream",
       "stream": "stdout",
       "text": [
        "\n"
       ]
      },
      {
       "output_type": "stream",
       "stream": "stdout",
       "text": [
        "GIREDUCE: Image rgN20151204S0446 trimmed\n"
       ]
      },
      {
       "output_type": "stream",
       "stream": "stdout",
       "text": [
        "GIREDUCE: Image rgN20151204S0447 trimmed\n"
       ]
      },
      {
       "output_type": "stream",
       "stream": "stdout",
       "text": [
        "GIREDUCE: Image rgN20151204S0448 trimmed\n"
       ]
      },
      {
       "output_type": "stream",
       "stream": "stdout",
       "text": [
        "GIREDUCE: Image rgN20151204S0449 trimmed\n"
       ]
      },
      {
       "output_type": "stream",
       "stream": "stdout",
       "text": [
        "GIREDUCE: Image rgN20151204S0450 trimmed\n"
       ]
      },
      {
       "output_type": "stream",
       "stream": "stdout",
       "text": [
        "GIREDUCE: Image rgN20151204S0451 trimmed\n",
        "\n",
        "Output image       Bias                 Flat               Dark       Scale "
       ]
      },
      {
       "output_type": "stream",
       "stream": "stdout",
       "text": [
        "\n",
        "rgN20151204S0446   /data/workspace/DRWorkshopAAO/NGC3310/calib/bias/N20151204S0501_bias INDEF              INDEF       0.00\n"
       ]
      },
      {
       "output_type": "stream",
       "stream": "stdout",
       "text": [
        "GIREDUCE: Subtracted bias /data/workspace/DRWorkshopAAO/NGC3310/calib/bias/N20151204S0501_bias from rgN20151204S0446\n"
       ]
      },
      {
       "output_type": "stream",
       "stream": "stdout",
       "text": [
        "GIREDUCE: multiplying image rgN20151204S0446 by gain\n"
       ]
      },
      {
       "output_type": "stream",
       "stream": "stdout",
       "text": [
        "GIREDUCE: output counts in electrons\n",
        "Output image       Bias                 Flat               Dark       Scale "
       ]
      },
      {
       "output_type": "stream",
       "stream": "stdout",
       "text": [
        "\n",
        "rgN20151204S0447   /data/workspace/DRWorkshopAAO/NGC3310/calib/bias/N20151204S0501_bias INDEF              INDEF       0.00\n"
       ]
      },
      {
       "output_type": "stream",
       "stream": "stdout",
       "text": [
        "GIREDUCE: Subtracted bias /data/workspace/DRWorkshopAAO/NGC3310/calib/bias/N20151204S0501_bias from rgN20151204S0447\n"
       ]
      },
      {
       "output_type": "stream",
       "stream": "stdout",
       "text": [
        "GIREDUCE: multiplying image rgN20151204S0447 by gain\n"
       ]
      },
      {
       "output_type": "stream",
       "stream": "stdout",
       "text": [
        "GIREDUCE: output counts in electrons\n",
        "Output image       Bias                 Flat               Dark       Scale "
       ]
      },
      {
       "output_type": "stream",
       "stream": "stdout",
       "text": [
        "\n",
        "rgN20151204S0448   /data/workspace/DRWorkshopAAO/NGC3310/calib/bias/N20151204S0501_bias INDEF              INDEF       0.00\n"
       ]
      },
      {
       "output_type": "stream",
       "stream": "stdout",
       "text": [
        "GIREDUCE: Subtracted bias /data/workspace/DRWorkshopAAO/NGC3310/calib/bias/N20151204S0501_bias from rgN20151204S0448\n"
       ]
      },
      {
       "output_type": "stream",
       "stream": "stdout",
       "text": [
        "GIREDUCE: multiplying image rgN20151204S0448 by gain\n"
       ]
      },
      {
       "output_type": "stream",
       "stream": "stdout",
       "text": [
        "GIREDUCE: output counts in electrons\n",
        "Output image       Bias                 Flat               Dark       Scale "
       ]
      },
      {
       "output_type": "stream",
       "stream": "stdout",
       "text": [
        "\n",
        "rgN20151204S0449   /data/workspace/DRWorkshopAAO/NGC3310/calib/bias/N20151204S0501_bias INDEF              INDEF       0.00\n"
       ]
      },
      {
       "output_type": "stream",
       "stream": "stdout",
       "text": [
        "GIREDUCE: Subtracted bias /data/workspace/DRWorkshopAAO/NGC3310/calib/bias/N20151204S0501_bias from rgN20151204S0449\n"
       ]
      },
      {
       "output_type": "stream",
       "stream": "stdout",
       "text": [
        "GIREDUCE: multiplying image rgN20151204S0449 by gain\n"
       ]
      },
      {
       "output_type": "stream",
       "stream": "stdout",
       "text": [
        "GIREDUCE: output counts in electrons\n",
        "Output image       Bias                 Flat               Dark       Scale "
       ]
      },
      {
       "output_type": "stream",
       "stream": "stdout",
       "text": [
        "\n",
        "rgN20151204S0450   /data/workspace/DRWorkshopAAO/NGC3310/calib/bias/N20151204S0501_bias INDEF              INDEF       0.00\n"
       ]
      },
      {
       "output_type": "stream",
       "stream": "stdout",
       "text": [
        "GIREDUCE: Subtracted bias /data/workspace/DRWorkshopAAO/NGC3310/calib/bias/N20151204S0501_bias from rgN20151204S0450\n"
       ]
      },
      {
       "output_type": "stream",
       "stream": "stdout",
       "text": [
        "GIREDUCE: multiplying image rgN20151204S0450 by gain\n"
       ]
      },
      {
       "output_type": "stream",
       "stream": "stdout",
       "text": [
        "GIREDUCE: output counts in electrons\n",
        "Output image       Bias                 Flat               Dark       Scale "
       ]
      },
      {
       "output_type": "stream",
       "stream": "stdout",
       "text": [
        "\n",
        "rgN20151204S0451   /data/workspace/DRWorkshopAAO/NGC3310/calib/bias/N20151204S0501_bias INDEF              INDEF       0.00\n"
       ]
      },
      {
       "output_type": "stream",
       "stream": "stdout",
       "text": [
        "GIREDUCE: Subtracted bias /data/workspace/DRWorkshopAAO/NGC3310/calib/bias/N20151204S0501_bias from rgN20151204S0451\n"
       ]
      },
      {
       "output_type": "stream",
       "stream": "stdout",
       "text": [
        "GIREDUCE: multiplying image rgN20151204S0451 by gain\n"
       ]
      },
      {
       "output_type": "stream",
       "stream": "stdout",
       "text": [
        "GIREDUCE: output counts in electrons\n"
       ]
      },
      {
       "output_type": "stream",
       "stream": "stdout",
       "text": [
        "\n",
        "GIREDUCE - Cleaning up -- Sat Apr  9 14:31:28 HST 2016\n"
       ]
      },
      {
       "output_type": "stream",
       "stream": "stdout",
       "text": [
        "\n",
        "GIREDUCE -- Sat Apr  9 14:31:28 HST 2016\n",
        "GIREDUCE exit status:  good.\n",
        "----------------------------------------------------------------------------\n",
        "Processing raw twilight flats"
       ]
      },
      {
       "output_type": "stream",
       "stream": "stdout",
       "text": [
        "\n",
        "----------------------------------------------------------------------------"
       ]
      },
      {
       "output_type": "stream",
       "stream": "stdout",
       "text": [
        "\n",
        "GIREDUCE -- Sat Apr  9 14:31:29 HST 2016\n",
        "\n"
       ]
      },
      {
       "output_type": "stream",
       "stream": "stdout",
       "text": [
        "----------------------------------------------------------------------------\n",
        "GPREPARE -- Sat Apr  9 14:31:29 HST 2016\n",
        "\n",
        "Input list    = N20151210S0359\n",
        "Output list   = \n",
        "Output prefix = g\n",
        "Raw path      = /data/workspace/DRWorkshopAAO/NGC3310/raw/\n",
        "MDF dir       = gmos$data/\n",
        "Add MDF       = no\n",
        "\n"
       ]
      },
      {
       "output_type": "stream",
       "stream": "stdout",
       "text": [
        "Input  /data/workspace/DRWorkshopAAO/NGC3310/raw/N20151210S0359.fits   Output  gN20151210S0359.fits\n"
       ]
      },
      {
       "output_type": "stream",
       "stream": "stdout",
       "text": [
        "\n",
        "GPREPARE exit status: good.\n",
        "----------------------------------------------------------------------------\n"
       ]
      },
      {
       "output_type": "stream",
       "stream": "stdout",
       "text": [
        "----------------------------------------------------------------------------\n",
        "GPREPARE -- Sat Apr  9 14:31:30 HST 2016\n",
        "\n",
        "Input list    = N20151210S0360\n",
        "Output list   = \n",
        "Output prefix = g\n",
        "Raw path      = /data/workspace/DRWorkshopAAO/NGC3310/raw/\n",
        "MDF dir       = gmos$data/\n",
        "Add MDF       = no\n",
        "\n"
       ]
      },
      {
       "output_type": "stream",
       "stream": "stdout",
       "text": [
        "Input  /data/workspace/DRWorkshopAAO/NGC3310/raw/N20151210S0360.fits   Output  gN20151210S0360.fits\n"
       ]
      },
      {
       "output_type": "stream",
       "stream": "stdout",
       "text": [
        "\n",
        "GPREPARE exit status: good.\n",
        "----------------------------------------------------------------------------\n"
       ]
      },
      {
       "output_type": "stream",
       "stream": "stdout",
       "text": [
        "----------------------------------------------------------------------------\n",
        "GPREPARE -- Sat Apr  9 14:31:31 HST 2016\n",
        "\n",
        "Input list    = N20151210S0361\n",
        "Output list   = \n",
        "Output prefix = g\n",
        "Raw path      = /data/workspace/DRWorkshopAAO/NGC3310/raw/\n",
        "MDF dir       = gmos$data/\n",
        "Add MDF       = no\n",
        "\n"
       ]
      },
      {
       "output_type": "stream",
       "stream": "stdout",
       "text": [
        "Input  /data/workspace/DRWorkshopAAO/NGC3310/raw/N20151210S0361.fits   Output  gN20151210S0361.fits\n"
       ]
      },
      {
       "output_type": "stream",
       "stream": "stdout",
       "text": [
        "\n",
        "GPREPARE exit status: good.\n",
        "----------------------------------------------------------------------------\n",
        "\n",
        "Input files:\n",
        "gN20151210S0359\n",
        "gN20151210S0360\n",
        "gN20151210S0361\n"
       ]
      },
      {
       "output_type": "stream",
       "stream": "stdout",
       "text": [
        "\n"
       ]
      },
      {
       "output_type": "stream",
       "stream": "stdout",
       "text": [
        "Output files:\n",
        "rgN20151210S0359\n",
        "rgN20151210S0360\n",
        "rgN20151210S0361\n"
       ]
      },
      {
       "output_type": "stream",
       "stream": "stdout",
       "text": [
        "\n"
       ]
      },
      {
       "output_type": "stream",
       "stream": "stdout",
       "text": [
        "WARNING - GIREDUCE: Bad Pixel Mask filename is an empty string\n",
        "                    Only saturated pixels will be flagged\n",
        "GIREDUCE: Image rgN20151210S0359 overscan subtracted"
       ]
      },
      {
       "output_type": "stream",
       "stream": "stdout",
       "text": [
        "\n",
        "GIREDUCE: Image rgN20151210S0360 overscan subtracted"
       ]
      },
      {
       "output_type": "stream",
       "stream": "stdout",
       "text": [
        "\n",
        "GIREDUCE: Image rgN20151210S0361 overscan subtracted"
       ]
      },
      {
       "output_type": "stream",
       "stream": "stdout",
       "text": [
        "\n"
       ]
      },
      {
       "output_type": "stream",
       "stream": "stdout",
       "text": [
        "GIREDUCE: Image rgN20151210S0359 trimmed\n"
       ]
      },
      {
       "output_type": "stream",
       "stream": "stdout",
       "text": [
        "GIREDUCE: Image rgN20151210S0360 trimmed\n"
       ]
      },
      {
       "output_type": "stream",
       "stream": "stdout",
       "text": [
        "GIREDUCE: Image rgN20151210S0361 trimmed\n",
        "\n",
        "Output image       Bias                 Flat               Dark       Scale "
       ]
      },
      {
       "output_type": "stream",
       "stream": "stdout",
       "text": [
        "\n",
        "rgN20151210S0359   /data/workspace/DRWorkshopAAO/NGC3310/calib/bias/N20151210S0430_bias INDEF              INDEF       0.00\n"
       ]
      },
      {
       "output_type": "stream",
       "stream": "stdout",
       "text": [
        "GIREDUCE: Subtracted bias /data/workspace/DRWorkshopAAO/NGC3310/calib/bias/N20151210S0430_bias from rgN20151210S0359\n"
       ]
      },
      {
       "output_type": "stream",
       "stream": "stdout",
       "text": [
        "GIREDUCE: multiplying image rgN20151210S0359 by gain\n"
       ]
      },
      {
       "output_type": "stream",
       "stream": "stdout",
       "text": [
        "GIREDUCE: output counts in electrons\n",
        "Output image       Bias                 Flat               Dark       Scale "
       ]
      },
      {
       "output_type": "stream",
       "stream": "stdout",
       "text": [
        "\n",
        "rgN20151210S0360   /data/workspace/DRWorkshopAAO/NGC3310/calib/bias/N20151210S0430_bias INDEF              INDEF       0.00\n"
       ]
      },
      {
       "output_type": "stream",
       "stream": "stdout",
       "text": [
        "GIREDUCE: Subtracted bias /data/workspace/DRWorkshopAAO/NGC3310/calib/bias/N20151210S0430_bias from rgN20151210S0360\n"
       ]
      },
      {
       "output_type": "stream",
       "stream": "stdout",
       "text": [
        "GIREDUCE: multiplying image rgN20151210S0360 by gain\n"
       ]
      },
      {
       "output_type": "stream",
       "stream": "stdout",
       "text": [
        "GIREDUCE: output counts in electrons\n",
        "Output image       Bias                 Flat               Dark       Scale "
       ]
      },
      {
       "output_type": "stream",
       "stream": "stdout",
       "text": [
        "\n",
        "rgN20151210S0361   /data/workspace/DRWorkshopAAO/NGC3310/calib/bias/N20151210S0430_bias INDEF              INDEF       0.00\n"
       ]
      },
      {
       "output_type": "stream",
       "stream": "stdout",
       "text": [
        "GIREDUCE: Subtracted bias /data/workspace/DRWorkshopAAO/NGC3310/calib/bias/N20151210S0430_bias from rgN20151210S0361\n"
       ]
      },
      {
       "output_type": "stream",
       "stream": "stdout",
       "text": [
        "GIREDUCE: multiplying image rgN20151210S0361 by gain\n"
       ]
      },
      {
       "output_type": "stream",
       "stream": "stdout",
       "text": [
        "GIREDUCE: output counts in electrons\n"
       ]
      },
      {
       "output_type": "stream",
       "stream": "stdout",
       "text": [
        "\n",
        "GIREDUCE - Cleaning up -- Sat Apr  9 14:32:38 HST 2016\n"
       ]
      },
      {
       "output_type": "stream",
       "stream": "stdout",
       "text": [
        "\n",
        "GIREDUCE -- Sat Apr  9 14:32:38 HST 2016\n",
        "GIREDUCE exit status:  good.\n",
        "----------------------------------------------------------------------------\n"
       ]
      }
     ],
     "prompt_number": 11
    },
    {
     "cell_type": "code",
     "collapsed": false,
     "input": [
      "os.chdir(redux_path)\n",
      "\n",
      "for flatkey in flats.keys():\n",
      "    iraf.imdelete(flats[flatkey]['procflat'], verify='no')\n",
      "    \n",
      "    flatlist = flatkey+'.lis'\n",
      "    procflat = flats[flatkey]['procflat']\n",
      "    \n",
      "    print 'Creating twilight flat ', procflat\n",
      "    \n",
      "    # Create the processed flat\n",
      "    iraf.giflat('rg//@'+flatlist, outflat=procflat, fl_vardq='yes')\n",
      "    \n",
      "    # Copy the processed flat to the calibration directory\n",
      "    shutil.copy(procflat, procflat_path)\n",
      "\n",
      "# The processed flats are:\n",
      "os.listdir(procflat_path)"
     ],
     "language": "python",
     "metadata": {},
     "outputs": [
      {
       "output_type": "stream",
       "stream": "stdout",
       "text": [
        "Creating twilight flat  N2015120402S0446_flat_i.fits\n",
        "----------------------------------------------------------------------------\n",
        "GIFLAT -- Sat Apr  9 14:36:55 HST 2016\n",
        " \n",
        "Flat field images = rg//@flat_20151204.lis\n",
        "Output flat field image = N2015120402S0446_flat_i.fits\n",
        " \n"
       ]
      },
      {
       "output_type": "stream",
       "stream": "stdout",
       "text": [
        "WARNING - GIFLAT: using previously gireduce'd image: rgN20151204S0446\n"
       ]
      },
      {
       "output_type": "stream",
       "stream": "stdout",
       "text": [
        "WARNING - GIFLAT: using previously gireduce'd image: rgN20151204S0447\n"
       ]
      },
      {
       "output_type": "stream",
       "stream": "stdout",
       "text": [
        "WARNING - GIFLAT: using previously gireduce'd image: rgN20151204S0448\n"
       ]
      },
      {
       "output_type": "stream",
       "stream": "stdout",
       "text": [
        "WARNING - GIFLAT: using previously gireduce'd image: rgN20151204S0449\n"
       ]
      },
      {
       "output_type": "stream",
       "stream": "stdout",
       "text": [
        "WARNING - GIFLAT: using previously gireduce'd image: rgN20151204S0450\n"
       ]
      },
      {
       "output_type": "stream",
       "stream": "stdout",
       "text": [
        "WARNING - GIFLAT: using previously gireduce'd image: rgN20151204S0451\n"
       ]
      },
      {
       "output_type": "stream",
       "stream": "stdout",
       "text": [
        "WARNING - GIFLAT: using previously gireduce'd image: rgN20151210S0359\n"
       ]
      },
      {
       "output_type": "stream",
       "stream": "stdout",
       "text": [
        "WARNING - GIFLAT: using previously gireduce'd image: rgN20151210S0360\n"
       ]
      },
      {
       "output_type": "stream",
       "stream": "stdout",
       "text": [
        "WARNING - GIFLAT: using previously gireduce'd image: rgN20151210S0361\n"
       ]
      },
      {
       "output_type": "stream",
       "stream": "stdout",
       "text": [
        "Using input files:\n",
        "rgN20151204S0446\n",
        "rgN20151204S0447\n",
        "rgN20151204S0448\n",
        "rgN20151204S0449\n",
        "rgN20151204S0450\n",
        "rgN20151204S0451\n",
        "rgN20151210S0359\n",
        "rgN20151210S0360\n",
        "rgN20151210S0361\n"
       ]
      },
      {
       "output_type": "stream",
       "stream": "stdout",
       "text": [
        "Using STATSEC: [50:900,50:2250] from CCD2\n",
        "Using NORMSEC: [50:900,50:2250] from CCD2\n"
       ]
      },
      {
       "output_type": "stream",
       "stream": "stdout",
       "text": [
        "GIFLAT: Normalization factor 110930.8\n"
       ]
      },
      {
       "output_type": "stream",
       "stream": "stdout",
       "text": [
        "\n",
        "GIFLAT exit status: good.\n",
        "----------------------------------------------------------------------------\n"
       ]
      },
      {
       "metadata": {},
       "output_type": "pyout",
       "prompt_number": 12,
       "text": [
        "['N2015120402S0446_flat_i.fits',\n",
        " 'N20151205S0018_flat_g.fits',\n",
        " 'N20151208S0225_flat_r.fits']"
       ]
      }
     ],
     "prompt_number": 12
    },
    {
     "cell_type": "heading",
     "level": 4,
     "metadata": {},
     "source": [
      "Visually inspect the processed twilight flats"
     ]
    },
    {
     "cell_type": "code",
     "collapsed": false,
     "input": [
      "for flatkey in flats.keys():\n",
      "    iraf.gdisplay(flats[flatkey]['procflat'], 1, fl_paste='yes')"
     ],
     "language": "python",
     "metadata": {},
     "outputs": [
      {
       "output_type": "stream",
       "stream": "stdout",
       "text": [
        "\n",
        "GDISPLAY - Started: 2016-04-09T14:37:38\n",
        "\n"
       ]
      },
      {
       "output_type": "stream",
       "stream": "stdout",
       "text": [
        "GDISPLAY: Temporary image name tmpout4365_1476N2015120402S0446_flat_i.fits\n",
        "\n",
        "GMULTIAMP - Started: 2016-04-09T14:37:39\n",
        "\n"
       ]
      },
      {
       "output_type": "stream",
       "stream": "stdout",
       "text": [
        "GMULTIAMP: Tiling image...\n"
       ]
      },
      {
       "output_type": "stream",
       "stream": "stdout",
       "text": [
        "               Image tiled.\n"
       ]
      },
      {
       "output_type": "stream",
       "stream": "stdout",
       "text": [
        "\n",
        "GMULTIAMP - Finished: 2016-04-09T14:37:41\n",
        "GMULTIAMP - Exit status: GOOD\n",
        "\n"
       ]
      },
      {
       "output_type": "stream",
       "stream": "stdout",
       "text": [
        "GDISPLAY: Displaying image...\n",
        "\n",
        "GDISPLAY: Starting imexamine - quit with q"
       ]
      },
      {
       "output_type": "stream",
       "stream": "stdout",
       "text": [
        "\n",
        "\n",
        "GDISPLAY - Finished: 2016-04-09T14:37:49\n"
       ]
      },
      {
       "output_type": "stream",
       "stream": "stdout",
       "text": [
        "\n"
       ]
      }
     ],
     "prompt_number": 13
    },
    {
     "cell_type": "heading",
     "level": 2,
     "metadata": {},
     "source": [
      "<strike>STEP 6: Process the fringe frame</strike>"
     ]
    },
    {
     "cell_type": "heading",
     "level": 2,
     "metadata": {},
     "source": [
      "STEP 7: Process the target"
     ]
    },
    {
     "cell_type": "markdown",
     "metadata": {},
     "source": [
      "In the redder bands, for some CCDs, the fringing can be important.  With the EEV CCDs, that is the case for the i-band and the z-band.  For this dataset, the CCDs are the newer e2V CCDs and fringing, even  in the i-band is minimal such that no correction is necessary."
     ]
    },
    {
     "cell_type": "heading",
     "level": 3,
     "metadata": {},
     "source": [
      "STEP 7.1: Bias and flat fielding of the target"
     ]
    },
    {
     "cell_type": "code",
     "collapsed": false,
     "input": [
      "os.chdir(redux_path)\n",
      "\n",
      "iraf.imdelete('g//@sci.lis', verify='no')\n",
      "iraf.imdelete('rg//@sci.lis', verify='no')\n",
      "\n",
      "iraf.gireduce('@sci.lis', rawpath=raw_path, fl_over='yes', fl_trim='yes', \\\n",
      "              fl_bias='yes', bias=science['scibias'], \\\n",
      "              fl_flat='yes', flat1=science['sciflat'], \\\n",
      "              fl_vardq='yes')"
     ],
     "language": "python",
     "metadata": {},
     "outputs": [
      {
       "output_type": "stream",
       "stream": "stdout",
       "text": [
        "----------------------------------------------------------------------------\n",
        "GIREDUCE -- Sat Apr  9 14:40:11 HST 2016\n",
        "\n"
       ]
      },
      {
       "output_type": "stream",
       "stream": "stdout",
       "text": [
        "----------------------------------------------------------------------------\n",
        "GPREPARE -- Sat Apr  9 14:40:11 HST 2016\n",
        "\n",
        "Input list    = N20151214S0239\n",
        "Output list   = \n",
        "Output prefix = g\n",
        "Raw path      = /data/workspace/DRWorkshopAAO/NGC3310/raw/\n",
        "MDF dir       = gmos$data/\n",
        "Add MDF       = no\n",
        "\n"
       ]
      },
      {
       "output_type": "stream",
       "stream": "stdout",
       "text": [
        "Input  /data/workspace/DRWorkshopAAO/NGC3310/raw/N20151214S0239.fits   Output  gN20151214S0239.fits\n"
       ]
      },
      {
       "output_type": "stream",
       "stream": "stdout",
       "text": [
        "\n",
        "GPREPARE exit status: good.\n",
        "----------------------------------------------------------------------------\n"
       ]
      },
      {
       "output_type": "stream",
       "stream": "stdout",
       "text": [
        "----------------------------------------------------------------------------\n",
        "GPREPARE -- Sat Apr  9 14:40:13 HST 2016\n",
        "\n",
        "Input list    = N20151214S0240\n",
        "Output list   = \n",
        "Output prefix = g\n",
        "Raw path      = /data/workspace/DRWorkshopAAO/NGC3310/raw/\n",
        "MDF dir       = gmos$data/\n",
        "Add MDF       = no\n",
        "\n"
       ]
      },
      {
       "output_type": "stream",
       "stream": "stdout",
       "text": [
        "Input  /data/workspace/DRWorkshopAAO/NGC3310/raw/N20151214S0240.fits   Output  gN20151214S0240.fits\n"
       ]
      },
      {
       "output_type": "stream",
       "stream": "stdout",
       "text": [
        "\n",
        "GPREPARE exit status: good.\n",
        "----------------------------------------------------------------------------\n"
       ]
      },
      {
       "output_type": "stream",
       "stream": "stdout",
       "text": [
        "----------------------------------------------------------------------------\n",
        "GPREPARE -- Sat Apr  9 14:40:14 HST 2016\n",
        "\n",
        "Input list    = N20151214S0241\n",
        "Output list   = \n",
        "Output prefix = g\n",
        "Raw path      = /data/workspace/DRWorkshopAAO/NGC3310/raw/\n",
        "MDF dir       = gmos$data/\n",
        "Add MDF       = no\n",
        "\n"
       ]
      },
      {
       "output_type": "stream",
       "stream": "stdout",
       "text": [
        "Input  /data/workspace/DRWorkshopAAO/NGC3310/raw/N20151214S0241.fits   Output  gN20151214S0241.fits\n"
       ]
      },
      {
       "output_type": "stream",
       "stream": "stdout",
       "text": [
        "\n",
        "GPREPARE exit status: good.\n",
        "----------------------------------------------------------------------------\n"
       ]
      },
      {
       "output_type": "stream",
       "stream": "stdout",
       "text": [
        "----------------------------------------------------------------------------\n",
        "GPREPARE -- Sat Apr  9 14:40:15 HST 2016\n",
        "\n",
        "Input list    = N20151214S0242\n",
        "Output list   = \n",
        "Output prefix = g\n",
        "Raw path      = /data/workspace/DRWorkshopAAO/NGC3310/raw/\n",
        "MDF dir       = gmos$data/\n",
        "Add MDF       = no\n",
        "\n"
       ]
      },
      {
       "output_type": "stream",
       "stream": "stdout",
       "text": [
        "Input  /data/workspace/DRWorkshopAAO/NGC3310/raw/N20151214S0242.fits   Output  gN20151214S0242.fits\n"
       ]
      },
      {
       "output_type": "stream",
       "stream": "stdout",
       "text": [
        "\n",
        "GPREPARE exit status: good.\n",
        "----------------------------------------------------------------------------\n",
        "\n",
        "Input files:\n",
        "gN20151214S0239\n",
        "gN20151214S0240\n",
        "gN20151214S0241\n",
        "gN20151214S0242\n"
       ]
      },
      {
       "output_type": "stream",
       "stream": "stdout",
       "text": [
        "\n"
       ]
      },
      {
       "output_type": "stream",
       "stream": "stdout",
       "text": [
        "Output files:\n",
        "rgN20151214S0239\n",
        "rgN20151214S0240\n",
        "rgN20151214S0241\n",
        "rgN20151214S0242\n"
       ]
      },
      {
       "output_type": "stream",
       "stream": "stdout",
       "text": [
        "\n"
       ]
      },
      {
       "output_type": "stream",
       "stream": "stdout",
       "text": [
        "WARNING - GIREDUCE: Bad Pixel Mask filename is an empty string\n",
        "                    Only saturated pixels will be flagged\n",
        "GIREDUCE: Image rgN20151214S0239 overscan subtracted"
       ]
      },
      {
       "output_type": "stream",
       "stream": "stdout",
       "text": [
        "\n",
        "GIREDUCE: Image rgN20151214S0240 overscan subtracted"
       ]
      },
      {
       "output_type": "stream",
       "stream": "stdout",
       "text": [
        "\n",
        "GIREDUCE: Image rgN20151214S0241 overscan subtracted"
       ]
      },
      {
       "output_type": "stream",
       "stream": "stdout",
       "text": [
        "\n",
        "GIREDUCE: Image rgN20151214S0242 overscan subtracted"
       ]
      },
      {
       "output_type": "stream",
       "stream": "stdout",
       "text": [
        "\n"
       ]
      },
      {
       "output_type": "stream",
       "stream": "stdout",
       "text": [
        "GIREDUCE: Image rgN20151214S0239 trimmed\n"
       ]
      },
      {
       "output_type": "stream",
       "stream": "stdout",
       "text": [
        "GIREDUCE: Image rgN20151214S0240 trimmed\n"
       ]
      },
      {
       "output_type": "stream",
       "stream": "stdout",
       "text": [
        "GIREDUCE: Image rgN20151214S0241 trimmed\n"
       ]
      },
      {
       "output_type": "stream",
       "stream": "stdout",
       "text": [
        "GIREDUCE: Image rgN20151214S0242 trimmed\n",
        "\n",
        "Output image       Bias                 Flat               Dark       Scale "
       ]
      },
      {
       "output_type": "stream",
       "stream": "stdout",
       "text": [
        "\n",
        "rgN20151214S0239   N20151214S0346_bias  N2015120402S0446_flat_i INDEF       0.00\n"
       ]
      },
      {
       "output_type": "stream",
       "stream": "stdout",
       "text": [
        "GIREDUCE: Subtracted bias N20151214S0346_bias from rgN20151214S0239\n",
        "GIREDUCE: Divided image rgN20151214S0239 by flatfield N2015120402S0446_flat_i\n"
       ]
      },
      {
       "output_type": "stream",
       "stream": "stdout",
       "text": [
        "GIREDUCE: multiplying image rgN20151214S0239 by gain\n"
       ]
      },
      {
       "output_type": "stream",
       "stream": "stdout",
       "text": [
        "GIREDUCE: output counts in electrons\n",
        "Output image       Bias                 Flat               Dark       Scale "
       ]
      },
      {
       "output_type": "stream",
       "stream": "stdout",
       "text": [
        "\n",
        "rgN20151214S0240   N20151214S0346_bias  N2015120402S0446_flat_i INDEF       0.00\n"
       ]
      },
      {
       "output_type": "stream",
       "stream": "stdout",
       "text": [
        "GIREDUCE: Subtracted bias N20151214S0346_bias from rgN20151214S0240\n",
        "GIREDUCE: Divided image rgN20151214S0240 by flatfield N2015120402S0446_flat_i\n"
       ]
      },
      {
       "output_type": "stream",
       "stream": "stdout",
       "text": [
        "GIREDUCE: multiplying image rgN20151214S0240 by gain\n"
       ]
      },
      {
       "output_type": "stream",
       "stream": "stdout",
       "text": [
        "GIREDUCE: output counts in electrons\n",
        "Output image       Bias                 Flat               Dark       Scale "
       ]
      },
      {
       "output_type": "stream",
       "stream": "stdout",
       "text": [
        "\n",
        "rgN20151214S0241   N20151214S0346_bias  N2015120402S0446_flat_i INDEF       0.00\n"
       ]
      },
      {
       "output_type": "stream",
       "stream": "stdout",
       "text": [
        "GIREDUCE: Subtracted bias N20151214S0346_bias from rgN20151214S0241\n",
        "GIREDUCE: Divided image rgN20151214S0241 by flatfield N2015120402S0446_flat_i\n"
       ]
      },
      {
       "output_type": "stream",
       "stream": "stdout",
       "text": [
        "GIREDUCE: multiplying image rgN20151214S0241 by gain\n"
       ]
      },
      {
       "output_type": "stream",
       "stream": "stdout",
       "text": [
        "GIREDUCE: output counts in electrons\n",
        "Output image       Bias                 Flat               Dark       Scale "
       ]
      },
      {
       "output_type": "stream",
       "stream": "stdout",
       "text": [
        "\n",
        "rgN20151214S0242   N20151214S0346_bias  N2015120402S0446_flat_i INDEF       0.00\n"
       ]
      },
      {
       "output_type": "stream",
       "stream": "stdout",
       "text": [
        "GIREDUCE: Subtracted bias N20151214S0346_bias from rgN20151214S0242\n",
        "GIREDUCE: Divided image rgN20151214S0242 by flatfield N2015120402S0446_flat_i\n"
       ]
      },
      {
       "output_type": "stream",
       "stream": "stdout",
       "text": [
        "GIREDUCE: multiplying image rgN20151214S0242 by gain\n"
       ]
      },
      {
       "output_type": "stream",
       "stream": "stdout",
       "text": [
        "GIREDUCE: output counts in electrons\n"
       ]
      },
      {
       "output_type": "stream",
       "stream": "stdout",
       "text": [
        "\n",
        "GIREDUCE - Cleaning up -- Sat Apr  9 14:41:52 HST 2016\n"
       ]
      },
      {
       "output_type": "stream",
       "stream": "stdout",
       "text": [
        "\n",
        "GIREDUCE -- Sat Apr  9 14:41:52 HST 2016\n",
        "GIREDUCE exit status:  good.\n",
        "----------------------------------------------------------------------------\n"
       ]
      }
     ],
     "prompt_number": 14
    },
    {
     "cell_type": "heading",
     "level": 4,
     "metadata": {},
     "source": [
      "Visually inspect the reduce science frames"
     ]
    },
    {
     "cell_type": "code",
     "collapsed": false,
     "input": [
      "sciframes = open('sci.lis', 'r')\n",
      "for line in sciframes:\n",
      "    frame = line.strip()\n",
      "    iraf.gdisplay('rg'+frame, 1, fl_paste='yes')\n",
      "sciframes.close()"
     ],
     "language": "python",
     "metadata": {},
     "outputs": [
      {
       "output_type": "stream",
       "stream": "stdout",
       "text": [
        "\n",
        "GDISPLAY - Started: 2016-04-09T14:42:00\n",
        "\n"
       ]
      },
      {
       "output_type": "stream",
       "stream": "stdout",
       "text": [
        "GDISPLAY: Temporary image name tmpout4365_1604rgN20151214S0239.fits\n",
        "\n",
        "GMULTIAMP - Started: 2016-04-09T14:42:00\n",
        "\n"
       ]
      },
      {
       "output_type": "stream",
       "stream": "stdout",
       "text": [
        "GMULTIAMP: Tiling image...\n"
       ]
      },
      {
       "output_type": "stream",
       "stream": "stdout",
       "text": [
        "               Image tiled.\n"
       ]
      },
      {
       "output_type": "stream",
       "stream": "stdout",
       "text": [
        "\n",
        "GMULTIAMP - Finished: 2016-04-09T14:42:02\n",
        "GMULTIAMP - Exit status: GOOD\n",
        "\n"
       ]
      },
      {
       "output_type": "stream",
       "stream": "stdout",
       "text": [
        "GDISPLAY: Displaying image...\n",
        "\n",
        "GDISPLAY: Starting imexamine - quit with q"
       ]
      },
      {
       "output_type": "stream",
       "stream": "stdout",
       "text": [
        "\n",
        "\n",
        "GDISPLAY - Finished: 2016-04-09T14:42:19\n"
       ]
      },
      {
       "output_type": "stream",
       "stream": "stdout",
       "text": [
        "\n",
        "\n",
        "GDISPLAY - Started: 2016-04-09T14:42:19\n",
        "\n"
       ]
      },
      {
       "output_type": "stream",
       "stream": "stdout",
       "text": [
        "GDISPLAY: Temporary image name tmpout4365_1638rgN20151214S0240.fits\n",
        "\n",
        "GMULTIAMP - Started: 2016-04-09T14:42:19\n",
        "\n"
       ]
      },
      {
       "output_type": "stream",
       "stream": "stdout",
       "text": [
        "GMULTIAMP: Tiling image...\n"
       ]
      },
      {
       "output_type": "stream",
       "stream": "stdout",
       "text": [
        "               Image tiled.\n"
       ]
      },
      {
       "output_type": "stream",
       "stream": "stdout",
       "text": [
        "\n",
        "GMULTIAMP - Finished: 2016-04-09T14:42:21\n",
        "GMULTIAMP - Exit status: GOOD\n",
        "\n"
       ]
      },
      {
       "output_type": "stream",
       "stream": "stdout",
       "text": [
        "GDISPLAY: Displaying image...\n",
        "\n",
        "GDISPLAY: Starting imexamine - quit with q"
       ]
      },
      {
       "output_type": "stream",
       "stream": "stdout",
       "text": [
        "\n",
        "\n",
        "GDISPLAY - Finished: 2016-04-09T14:42:23\n"
       ]
      },
      {
       "output_type": "stream",
       "stream": "stdout",
       "text": [
        "\n",
        "\n",
        "GDISPLAY - Started: 2016-04-09T14:42:23\n",
        "\n"
       ]
      },
      {
       "output_type": "stream",
       "stream": "stdout",
       "text": [
        "GDISPLAY: Temporary image name tmpout4365_1672rgN20151214S0241.fits\n",
        "\n",
        "GMULTIAMP - Started: 2016-04-09T14:42:23\n",
        "\n"
       ]
      },
      {
       "output_type": "stream",
       "stream": "stdout",
       "text": [
        "GMULTIAMP: Tiling image...\n"
       ]
      },
      {
       "output_type": "stream",
       "stream": "stdout",
       "text": [
        "               Image tiled.\n"
       ]
      },
      {
       "output_type": "stream",
       "stream": "stdout",
       "text": [
        "\n",
        "GMULTIAMP - Finished: 2016-04-09T14:42:25\n",
        "GMULTIAMP - Exit status: GOOD\n",
        "\n"
       ]
      },
      {
       "output_type": "stream",
       "stream": "stdout",
       "text": [
        "GDISPLAY: Displaying image...\n",
        "\n",
        "GDISPLAY: Starting imexamine - quit with q"
       ]
      },
      {
       "output_type": "stream",
       "stream": "stdout",
       "text": [
        "\n",
        "\n",
        "GDISPLAY - Finished: 2016-04-09T14:42:26\n"
       ]
      },
      {
       "output_type": "stream",
       "stream": "stdout",
       "text": [
        "\n",
        "\n",
        "GDISPLAY - Started: 2016-04-09T14:42:26\n",
        "\n"
       ]
      },
      {
       "output_type": "stream",
       "stream": "stdout",
       "text": [
        "GDISPLAY: Temporary image name tmpout4365_1706rgN20151214S0242.fits\n",
        "\n",
        "GMULTIAMP - Started: 2016-04-09T14:42:27\n",
        "\n"
       ]
      },
      {
       "output_type": "stream",
       "stream": "stdout",
       "text": [
        "GMULTIAMP: Tiling image...\n"
       ]
      },
      {
       "output_type": "stream",
       "stream": "stdout",
       "text": [
        "               Image tiled.\n"
       ]
      },
      {
       "output_type": "stream",
       "stream": "stdout",
       "text": [
        "\n",
        "GMULTIAMP - Finished: 2016-04-09T14:42:29\n",
        "GMULTIAMP - Exit status: GOOD\n",
        "\n"
       ]
      },
      {
       "output_type": "stream",
       "stream": "stdout",
       "text": [
        "GDISPLAY: Displaying image...\n",
        "\n",
        "GDISPLAY: Starting imexamine - quit with q"
       ]
      },
      {
       "output_type": "stream",
       "stream": "stdout",
       "text": [
        "\n",
        "\n",
        "GDISPLAY - Finished: 2016-04-09T14:42:30\n"
       ]
      },
      {
       "output_type": "stream",
       "stream": "stdout",
       "text": [
        "\n"
       ]
      }
     ],
     "prompt_number": 15
    },
    {
     "cell_type": "heading",
     "level": 3,
     "metadata": {},
     "source": [
      "<strike>STEP 7.2: Fringe removal</strike>"
     ]
    },
    {
     "cell_type": "heading",
     "level": 2,
     "metadata": {},
     "source": [
      "STEP 8: Mosaic the reduced target frames"
     ]
    },
    {
     "cell_type": "code",
     "collapsed": false,
     "input": [
      "iraf.imdelete('mrg//@sci.lis', verify='no')\n",
      "\n",
      "iraf.gmosaic('rg//@sci.lis', fl_vardq='yes')"
     ],
     "language": "python",
     "metadata": {},
     "outputs": [
      {
       "output_type": "stream",
       "stream": "stdout",
       "text": [
        "GMOSAIC \n",
        "GMOSAIC -------------------------------------------------------------------\n",
        "GMOSAIC Log opened at [Sat 14:42:37 09-Apr-2016]\n",
        "GMOSAIC \n",
        "GMOSAIC --------------------\n",
        "GMOSAIC Input Parameters:\n",
        "GMOSAIC      inimages       = rg//@sci.lis\n",
        "GMOSAIC      outimages      = \n",
        "GMOSAIC      outpref        = m\n",
        "GMOSAIC      fl_paste       = no\n",
        "GMOSAIC      fl_vardq       = yes\n",
        "GMOSAIC      fl_fixpix      = no\n",
        "GMOSAIC      fl_clean       = yes\n",
        "GMOSAIC      fl_fulldq      = no\n",
        "GMOSAIC      bitflags       = all\n",
        "GMOSAIC      dqthresh       = 0.1\n",
        "GMOSAIC      geointer       = linear\n",
        "GMOSAIC      gap            = default\n",
        "GMOSAIC      bpmfile        = gmos$data/chipgaps.dat\n",
        "GMOSAIC      statsec        = default\n",
        "GMOSAIC      obsmode        = IMAGE\n",
        "GMOSAIC      sci_ext        = SCI\n",
        "GMOSAIC      var_ext        = VAR\n",
        "GMOSAIC      dq_ext         = DQ\n",
        "GMOSAIC      key_detsec     = DETSEC\n",
        "GMOSAIC      key_ccdsec     = CCDSEC\n",
        "GMOSAIC      key_datsec     = DATASEC\n",
        "GMOSAIC      key_ccdsum     = CCDSUM\n",
        "GMOSAIC      key_obsmode    = OBSMODE\n",
        "GMOSAIC      logfile        = \n",
        "GMOSAIC      verbose        = yes\n",
        "GMOSAIC      fl_real        = no\n",
        "GMOSAIC --------------------\n"
       ]
      },
      {
       "output_type": "stream",
       "stream": "stdout",
       "text": [
        "GMOSAIC Input: rgN20151214S0239  Output: mrgN20151214S0239.fits\n"
       ]
      },
      {
       "output_type": "stream",
       "stream": "stdout",
       "text": [
        "GMOSAIC imcopy  rgN20151214S0239[SCI,2][1:512,1:2304]  tmptile4365_1755[1,append][1:512,1:2304]  INDEF  0.\n",
        "GMOSAIC imcopy  rgN20151214S0239[SCI,1][1:512,1:2304]  tmptile4365_1755[1,append][513:1024,1:2304]  INDEF  0.\n",
        "GMOSAIC imcopy  rgN20151214S0239[VAR,2][1:512,1:2304]  tmptile4365_1755[2,append][1:512,1:2304]  INDEF  0.\n",
        "GMOSAIC imcopy  rgN20151214S0239[VAR,1][1:512,1:2304]  tmptile4365_1755[2,append][513:1024,1:2304]  INDEF  0.\n",
        "GMOSAIC imcopy  rgN20151214S0239[DQ,2][1:512,1:2304]  tmptile4365_1755[3,append][1:512,1:2304]  INDEF  0.\n",
        "GMOSAIC imcopy  rgN20151214S0239[DQ,1][1:512,1:2304]  tmptile4365_1755[3,append][513:1024,1:2304]  INDEF  0.\n"
       ]
      },
      {
       "output_type": "stream",
       "stream": "stdout",
       "text": [
        "GMOSAIC imcopy  rgN20151214S0239[SCI,4][1:512,1:2304]  tmptile4365_1756[1,append][1:512,1:2304]  INDEF  0.\n",
        "GMOSAIC imcopy  rgN20151214S0239[SCI,3][1:512,1:2304]  tmptile4365_1756[1,append][513:1024,1:2304]  INDEF  0.\n",
        "GMOSAIC imcopy  rgN20151214S0239[VAR,4][1:512,1:2304]  tmptile4365_1756[2,append][1:512,1:2304]  INDEF  0.\n",
        "GMOSAIC imcopy  rgN20151214S0239[VAR,3][1:512,1:2304]  tmptile4365_1756[2,append][513:1024,1:2304]  INDEF  0.\n",
        "GMOSAIC imcopy  rgN20151214S0239[DQ,4][1:512,1:2304]  tmptile4365_1756[3,append][1:512,1:2304]  INDEF  0.\n",
        "GMOSAIC imcopy  rgN20151214S0239[DQ,3][1:512,1:2304]  tmptile4365_1756[3,append][513:1024,1:2304]  INDEF  0.\n"
       ]
      },
      {
       "output_type": "stream",
       "stream": "stdout",
       "text": [
        "GMOSAIC imcopy  rgN20151214S0239[SCI,5][1:512,1:2304]  tmptile4365_1757[1,append][1:512,1:2304]  INDEF  0.\n",
        "GMOSAIC imcopy  rgN20151214S0239[SCI,6][1:512,1:2304]  tmptile4365_1757[1,append][513:1024,1:2304]  INDEF  0.\n",
        "GMOSAIC imcopy  rgN20151214S0239[VAR,5][1:512,1:2304]  tmptile4365_1757[2,append][1:512,1:2304]  INDEF  0.\n",
        "GMOSAIC imcopy  rgN20151214S0239[VAR,6][1:512,1:2304]  tmptile4365_1757[2,append][513:1024,1:2304]  INDEF  0.\n",
        "GMOSAIC imcopy  rgN20151214S0239[DQ,5][1:512,1:2304]  tmptile4365_1757[3,append][1:512,1:2304]  INDEF  0.\n",
        "GMOSAIC imcopy  rgN20151214S0239[DQ,6][1:512,1:2304]  tmptile4365_1757[3,append][513:1024,1:2304]  INDEF  0.\n"
       ]
      },
      {
       "output_type": "stream",
       "stream": "stdout",
       "text": [
        "GMOSAIC Setting rotation Xrot[1]=-0.009000, Yrot[1]=-0.009000\n"
       ]
      },
      {
       "output_type": "stream",
       "stream": "stdout",
       "text": [
        "GMOSAIC Setting rotation Xrot[2]= 0.000000, Yrot[2]= 0.000000\n"
       ]
      },
      {
       "output_type": "stream",
       "stream": "stdout",
       "text": [
        "GMOSAIC Setting rotation Xrot[3]=-0.003000, Yrot[3]=-0.003000\n"
       ]
      },
      {
       "output_type": "stream",
       "stream": "stdout",
       "text": [
        "GMOSAIC \n",
        "GMOSAIC Transforming image tmpimg4365_1751[SCI,1][1:1024,1:2304] to image tmpchipsci4365_1758\n",
        "GMOSAIC     xshift: 2.03 yshift: 0.29 xmag: 1.00 ymag: 1.00 xrot: 359.99 yrot: 359.99\n",
        "GMOSAIC \n",
        "GMOSAIC Transforming image tmpimg4365_1751[VAR,1][1:1024,1:2304] to image tmpchipvar4365_1759\n",
        "GMOSAIC     xshift: 2.03 yshift: 0.29 xmag: 1.00 ymag: 1.00 xrot: 359.99 yrot: 359.99\n",
        "GMOSAIC \n",
        "GMOSAIC Transforming image tmpimg4365_1751[DQ,1][1:1024,1:2304] to image tmpdq_transimg4365_1747.fits\n",
        "GMOSAIC     xshift: 2.03 yshift: 0.29 xmag: 1.00 ymag: 1.00 xrot: 359.99 yrot: 359.99\n"
       ]
      },
      {
       "output_type": "stream",
       "stream": "stdout",
       "text": [
        "GMOSAIC \n",
        "GMOSAIC Transforming image tmpimg4365_1751[SCI,2][1:1024,1:2304] to image tmpchipsci4365_1761\n",
        "GMOSAIC     xshift: 0.00 yshift: 0.00 xmag: 1.00 ymag: 1.00 xrot: 0.00 yrot: 0.00\n",
        "GMOSAIC \n",
        "GMOSAIC Transforming image tmpimg4365_1751[VAR,2][1:1024,1:2304] to image tmpchipvar4365_1762\n",
        "GMOSAIC     xshift: 0.00 yshift: 0.00 xmag: 1.00 ymag: 1.00 xrot: 0.00 yrot: 0.00\n"
       ]
      },
      {
       "output_type": "stream",
       "stream": "stdout",
       "text": [
        "GMOSAIC \n",
        "GMOSAIC Transforming image tmpimg4365_1751[SCI,3][1:1024,1:2304] to image tmpchipsci4365_1764\n",
        "GMOSAIC     xshift: -1.84 yshift: -1.05 xmag: 1.00 ymag: 1.00 xrot: 360.00 yrot: 360.00\n",
        "GMOSAIC \n",
        "GMOSAIC Transforming image tmpimg4365_1751[VAR,3][1:1024,1:2304] to image tmpchipvar4365_1765\n",
        "GMOSAIC     xshift: -1.84 yshift: -1.05 xmag: 1.00 ymag: 1.00 xrot: 360.00 yrot: 360.00\n",
        "GMOSAIC \n",
        "GMOSAIC Transforming image tmpimg4365_1751[DQ,3][1:1024,1:2304] to image tmpdq_transimg4365_1747.fits\n",
        "GMOSAIC     xshift: -1.84 yshift: -1.05 xmag: 1.00 ymag: 1.00 xrot: 360.00 yrot: 360.00\n"
       ]
      },
      {
       "output_type": "stream",
       "stream": "stdout",
       "text": [
        "GMOSAIC imcopy  tmpchipsci4365_1758  mrgN20151214S0239.fits[1,append][1:1024,1:2304]  INDEF  0.\n",
        "GMOSAIC imcopy  tmpchipsci4365_1761  mrgN20151214S0239.fits[1,append][1043:2066,1:2304]  INDEF  0.\n",
        "GMOSAIC imcopy  tmpchipsci4365_1764  mrgN20151214S0239.fits[1,append][2085:3108,1:2304]  INDEF  0.\n",
        "GMOSAIC imcopy  tmpchipvar4365_1759  mrgN20151214S0239.fits[2,append][1:1024,1:2304]  INDEF  0.\n",
        "GMOSAIC imcopy  tmpchipvar4365_1762  mrgN20151214S0239.fits[2,append][1043:2066,1:2304]  INDEF  0.\n",
        "GMOSAIC imcopy  tmpchipvar4365_1765  mrgN20151214S0239.fits[2,append][2085:3108,1:2304]  INDEF  0.\n",
        "GMOSAIC imcopy  tmpchipdq4365_1760  mrgN20151214S0239.fits[3,append][1:1024,1:2304]  INDEF  0.\n",
        "GMOSAIC imcopy  tmpchipdq4365_1763  mrgN20151214S0239.fits[3,append][1043:2066,1:2304]  INDEF  0.\n",
        "GMOSAIC imcopy  tmpchipdq4365_1766  mrgN20151214S0239.fits[3,append][2085:3108,1:2304]  INDEF  0.\n"
       ]
      },
      {
       "output_type": "stream",
       "stream": "stdout",
       "text": [
        "gmos$data/gmos-n_bpm_e2v_22_6amp_v1_mosaic.pl\n",
        "GMOSAIC Cleaning areas outside imaging field, cleaning value = 3037.511\n"
       ]
      },
      {
       "output_type": "stream",
       "stream": "stdout",
       "text": [
        "GMOSAIC Input: rgN20151214S0240  Output: mrgN20151214S0240.fits\n"
       ]
      },
      {
       "output_type": "stream",
       "stream": "stdout",
       "text": [
        "GMOSAIC imcopy  rgN20151214S0240[SCI,2][1:512,1:2304]  tmptile4365_1771[1,append][1:512,1:2304]  INDEF  0.\n",
        "GMOSAIC imcopy  rgN20151214S0240[SCI,1][1:512,1:2304]  tmptile4365_1771[1,append][513:1024,1:2304]  INDEF  0.\n",
        "GMOSAIC imcopy  rgN20151214S0240[VAR,2][1:512,1:2304]  tmptile4365_1771[2,append][1:512,1:2304]  INDEF  0.\n",
        "GMOSAIC imcopy  rgN20151214S0240[VAR,1][1:512,1:2304]  tmptile4365_1771[2,append][513:1024,1:2304]  INDEF  0.\n",
        "GMOSAIC imcopy  rgN20151214S0240[DQ,2][1:512,1:2304]  tmptile4365_1771[3,append][1:512,1:2304]  INDEF  0.\n",
        "GMOSAIC imcopy  rgN20151214S0240[DQ,1][1:512,1:2304]  tmptile4365_1771[3,append][513:1024,1:2304]  INDEF  0.\n"
       ]
      },
      {
       "output_type": "stream",
       "stream": "stdout",
       "text": [
        "GMOSAIC imcopy  rgN20151214S0240[SCI,4][1:512,1:2304]  tmptile4365_1772[1,append][1:512,1:2304]  INDEF  0.\n",
        "GMOSAIC imcopy  rgN20151214S0240[SCI,3][1:512,1:2304]  tmptile4365_1772[1,append][513:1024,1:2304]  INDEF  0.\n",
        "GMOSAIC imcopy  rgN20151214S0240[VAR,4][1:512,1:2304]  tmptile4365_1772[2,append][1:512,1:2304]  INDEF  0.\n",
        "GMOSAIC imcopy  rgN20151214S0240[VAR,3][1:512,1:2304]  tmptile4365_1772[2,append][513:1024,1:2304]  INDEF  0.\n",
        "GMOSAIC imcopy  rgN20151214S0240[DQ,4][1:512,1:2304]  tmptile4365_1772[3,append][1:512,1:2304]  INDEF  0.\n",
        "GMOSAIC imcopy  rgN20151214S0240[DQ,3][1:512,1:2304]  tmptile4365_1772[3,append][513:1024,1:2304]  INDEF  0.\n"
       ]
      },
      {
       "output_type": "stream",
       "stream": "stdout",
       "text": [
        "GMOSAIC imcopy  rgN20151214S0240[SCI,5][1:512,1:2304]  tmptile4365_1773[1,append][1:512,1:2304]  INDEF  0.\n",
        "GMOSAIC imcopy  rgN20151214S0240[SCI,6][1:512,1:2304]  tmptile4365_1773[1,append][513:1024,1:2304]  INDEF  0.\n",
        "GMOSAIC imcopy  rgN20151214S0240[VAR,5][1:512,1:2304]  tmptile4365_1773[2,append][1:512,1:2304]  INDEF  0.\n",
        "GMOSAIC imcopy  rgN20151214S0240[VAR,6][1:512,1:2304]  tmptile4365_1773[2,append][513:1024,1:2304]  INDEF  0.\n",
        "GMOSAIC imcopy  rgN20151214S0240[DQ,5][1:512,1:2304]  tmptile4365_1773[3,append][1:512,1:2304]  INDEF  0.\n",
        "GMOSAIC imcopy  rgN20151214S0240[DQ,6][1:512,1:2304]  tmptile4365_1773[3,append][513:1024,1:2304]  INDEF  0.\n"
       ]
      },
      {
       "output_type": "stream",
       "stream": "stdout",
       "text": [
        "GMOSAIC Setting rotation Xrot[1]=-0.009000, Yrot[1]=-0.009000\n"
       ]
      },
      {
       "output_type": "stream",
       "stream": "stdout",
       "text": [
        "GMOSAIC Setting rotation Xrot[2]= 0.000000, Yrot[2]= 0.000000\n"
       ]
      },
      {
       "output_type": "stream",
       "stream": "stdout",
       "text": [
        "GMOSAIC Setting rotation Xrot[3]=-0.003000, Yrot[3]=-0.003000\n"
       ]
      },
      {
       "output_type": "stream",
       "stream": "stdout",
       "text": [
        "GMOSAIC \n",
        "GMOSAIC Transforming image tmpimg4365_1767[SCI,1][1:1024,1:2304] to image tmpchipsci4365_1774\n",
        "GMOSAIC     xshift: 2.03 yshift: 0.29 xmag: 1.00 ymag: 1.00 xrot: 359.99 yrot: 359.99\n",
        "GMOSAIC \n",
        "GMOSAIC Transforming image tmpimg4365_1767[VAR,1][1:1024,1:2304] to image tmpchipvar4365_1775\n",
        "GMOSAIC     xshift: 2.03 yshift: 0.29 xmag: 1.00 ymag: 1.00 xrot: 359.99 yrot: 359.99\n",
        "GMOSAIC \n",
        "GMOSAIC Transforming image tmpimg4365_1767[DQ,1][1:1024,1:2304] to image tmpdq_transimg4365_1747.fits\n",
        "GMOSAIC     xshift: 2.03 yshift: 0.29 xmag: 1.00 ymag: 1.00 xrot: 359.99 yrot: 359.99\n"
       ]
      },
      {
       "output_type": "stream",
       "stream": "stdout",
       "text": [
        "GMOSAIC \n",
        "GMOSAIC Transforming image tmpimg4365_1767[SCI,2][1:1024,1:2304] to image tmpchipsci4365_1777\n",
        "GMOSAIC     xshift: 0.00 yshift: 0.00 xmag: 1.00 ymag: 1.00 xrot: 0.00 yrot: 0.00\n",
        "GMOSAIC \n",
        "GMOSAIC Transforming image tmpimg4365_1767[VAR,2][1:1024,1:2304] to image tmpchipvar4365_1778\n",
        "GMOSAIC     xshift: 0.00 yshift: 0.00 xmag: 1.00 ymag: 1.00 xrot: 0.00 yrot: 0.00\n"
       ]
      },
      {
       "output_type": "stream",
       "stream": "stdout",
       "text": [
        "GMOSAIC \n",
        "GMOSAIC Transforming image tmpimg4365_1767[SCI,3][1:1024,1:2304] to image tmpchipsci4365_1780\n",
        "GMOSAIC     xshift: -1.84 yshift: -1.05 xmag: 1.00 ymag: 1.00 xrot: 360.00 yrot: 360.00\n",
        "GMOSAIC \n",
        "GMOSAIC Transforming image tmpimg4365_1767[VAR,3][1:1024,1:2304] to image tmpchipvar4365_1781\n",
        "GMOSAIC     xshift: -1.84 yshift: -1.05 xmag: 1.00 ymag: 1.00 xrot: 360.00 yrot: 360.00\n",
        "GMOSAIC \n",
        "GMOSAIC Transforming image tmpimg4365_1767[DQ,3][1:1024,1:2304] to image tmpdq_transimg4365_1747.fits\n",
        "GMOSAIC     xshift: -1.84 yshift: -1.05 xmag: 1.00 ymag: 1.00 xrot: 360.00 yrot: 360.00\n"
       ]
      },
      {
       "output_type": "stream",
       "stream": "stdout",
       "text": [
        "GMOSAIC imcopy  tmpchipsci4365_1774  mrgN20151214S0240.fits[1,append][1:1024,1:2304]  INDEF  0.\n",
        "GMOSAIC imcopy  tmpchipsci4365_1777  mrgN20151214S0240.fits[1,append][1043:2066,1:2304]  INDEF  0.\n",
        "GMOSAIC imcopy  tmpchipsci4365_1780  mrgN20151214S0240.fits[1,append][2085:3108,1:2304]  INDEF  0.\n",
        "GMOSAIC imcopy  tmpchipvar4365_1775  mrgN20151214S0240.fits[2,append][1:1024,1:2304]  INDEF  0.\n",
        "GMOSAIC imcopy  tmpchipvar4365_1778  mrgN20151214S0240.fits[2,append][1043:2066,1:2304]  INDEF  0.\n",
        "GMOSAIC imcopy  tmpchipvar4365_1781  mrgN20151214S0240.fits[2,append][2085:3108,1:2304]  INDEF  0.\n",
        "GMOSAIC imcopy  tmpchipdq4365_1776  mrgN20151214S0240.fits[3,append][1:1024,1:2304]  INDEF  0.\n",
        "GMOSAIC imcopy  tmpchipdq4365_1779  mrgN20151214S0240.fits[3,append][1043:2066,1:2304]  INDEF  0.\n",
        "GMOSAIC imcopy  tmpchipdq4365_1782  mrgN20151214S0240.fits[3,append][2085:3108,1:2304]  INDEF  0.\n"
       ]
      },
      {
       "output_type": "stream",
       "stream": "stdout",
       "text": [
        "gmos$data/gmos-n_bpm_e2v_22_6amp_v1_mosaic.pl\n",
        "GMOSAIC Cleaning areas outside imaging field, cleaning value = 3067.38\n"
       ]
      },
      {
       "output_type": "stream",
       "stream": "stdout",
       "text": [
        "GMOSAIC Input: rgN20151214S0241  Output: mrgN20151214S0241.fits\n"
       ]
      },
      {
       "output_type": "stream",
       "stream": "stdout",
       "text": [
        "GMOSAIC imcopy  rgN20151214S0241[SCI,2][1:512,1:2304]  tmptile4365_1787[1,append][1:512,1:2304]  INDEF  0.\n",
        "GMOSAIC imcopy  rgN20151214S0241[SCI,1][1:512,1:2304]  tmptile4365_1787[1,append][513:1024,1:2304]  INDEF  0.\n",
        "GMOSAIC imcopy  rgN20151214S0241[VAR,2][1:512,1:2304]  tmptile4365_1787[2,append][1:512,1:2304]  INDEF  0.\n",
        "GMOSAIC imcopy  rgN20151214S0241[VAR,1][1:512,1:2304]  tmptile4365_1787[2,append][513:1024,1:2304]  INDEF  0.\n",
        "GMOSAIC imcopy  rgN20151214S0241[DQ,2][1:512,1:2304]  tmptile4365_1787[3,append][1:512,1:2304]  INDEF  0.\n",
        "GMOSAIC imcopy  rgN20151214S0241[DQ,1][1:512,1:2304]  tmptile4365_1787[3,append][513:1024,1:2304]  INDEF  0.\n"
       ]
      },
      {
       "output_type": "stream",
       "stream": "stdout",
       "text": [
        "GMOSAIC imcopy  rgN20151214S0241[SCI,4][1:512,1:2304]  tmptile4365_1788[1,append][1:512,1:2304]  INDEF  0.\n",
        "GMOSAIC imcopy  rgN20151214S0241[SCI,3][1:512,1:2304]  tmptile4365_1788[1,append][513:1024,1:2304]  INDEF  0.\n",
        "GMOSAIC imcopy  rgN20151214S0241[VAR,4][1:512,1:2304]  tmptile4365_1788[2,append][1:512,1:2304]  INDEF  0.\n",
        "GMOSAIC imcopy  rgN20151214S0241[VAR,3][1:512,1:2304]  tmptile4365_1788[2,append][513:1024,1:2304]  INDEF  0.\n",
        "GMOSAIC imcopy  rgN20151214S0241[DQ,4][1:512,1:2304]  tmptile4365_1788[3,append][1:512,1:2304]  INDEF  0.\n",
        "GMOSAIC imcopy  rgN20151214S0241[DQ,3][1:512,1:2304]  tmptile4365_1788[3,append][513:1024,1:2304]  INDEF  0.\n"
       ]
      },
      {
       "output_type": "stream",
       "stream": "stdout",
       "text": [
        "GMOSAIC imcopy  rgN20151214S0241[SCI,5][1:512,1:2304]  tmptile4365_1789[1,append][1:512,1:2304]  INDEF  0.\n",
        "GMOSAIC imcopy  rgN20151214S0241[SCI,6][1:512,1:2304]  tmptile4365_1789[1,append][513:1024,1:2304]  INDEF  0.\n",
        "GMOSAIC imcopy  rgN20151214S0241[VAR,5][1:512,1:2304]  tmptile4365_1789[2,append][1:512,1:2304]  INDEF  0.\n",
        "GMOSAIC imcopy  rgN20151214S0241[VAR,6][1:512,1:2304]  tmptile4365_1789[2,append][513:1024,1:2304]  INDEF  0.\n",
        "GMOSAIC imcopy  rgN20151214S0241[DQ,5][1:512,1:2304]  tmptile4365_1789[3,append][1:512,1:2304]  INDEF  0.\n",
        "GMOSAIC imcopy  rgN20151214S0241[DQ,6][1:512,1:2304]  tmptile4365_1789[3,append][513:1024,1:2304]  INDEF  0.\n"
       ]
      },
      {
       "output_type": "stream",
       "stream": "stdout",
       "text": [
        "GMOSAIC Setting rotation Xrot[1]=-0.009000, Yrot[1]=-0.009000\n"
       ]
      },
      {
       "output_type": "stream",
       "stream": "stdout",
       "text": [
        "GMOSAIC Setting rotation Xrot[2]= 0.000000, Yrot[2]= 0.000000\n"
       ]
      },
      {
       "output_type": "stream",
       "stream": "stdout",
       "text": [
        "GMOSAIC Setting rotation Xrot[3]=-0.003000, Yrot[3]=-0.003000\n"
       ]
      },
      {
       "output_type": "stream",
       "stream": "stdout",
       "text": [
        "GMOSAIC \n",
        "GMOSAIC Transforming image tmpimg4365_1783[SCI,1][1:1024,1:2304] to image tmpchipsci4365_1790\n",
        "GMOSAIC     xshift: 2.03 yshift: 0.29 xmag: 1.00 ymag: 1.00 xrot: 359.99 yrot: 359.99\n",
        "GMOSAIC \n",
        "GMOSAIC Transforming image tmpimg4365_1783[VAR,1][1:1024,1:2304] to image tmpchipvar4365_1791\n",
        "GMOSAIC     xshift: 2.03 yshift: 0.29 xmag: 1.00 ymag: 1.00 xrot: 359.99 yrot: 359.99\n",
        "GMOSAIC \n",
        "GMOSAIC Transforming image tmpimg4365_1783[DQ,1][1:1024,1:2304] to image tmpdq_transimg4365_1747.fits\n",
        "GMOSAIC     xshift: 2.03 yshift: 0.29 xmag: 1.00 ymag: 1.00 xrot: 359.99 yrot: 359.99\n"
       ]
      },
      {
       "output_type": "stream",
       "stream": "stdout",
       "text": [
        "GMOSAIC \n",
        "GMOSAIC Transforming image tmpimg4365_1783[SCI,2][1:1024,1:2304] to image tmpchipsci4365_1793\n",
        "GMOSAIC     xshift: 0.00 yshift: 0.00 xmag: 1.00 ymag: 1.00 xrot: 0.00 yrot: 0.00\n",
        "GMOSAIC \n",
        "GMOSAIC Transforming image tmpimg4365_1783[VAR,2][1:1024,1:2304] to image tmpchipvar4365_1794\n",
        "GMOSAIC     xshift: 0.00 yshift: 0.00 xmag: 1.00 ymag: 1.00 xrot: 0.00 yrot: 0.00\n"
       ]
      },
      {
       "output_type": "stream",
       "stream": "stdout",
       "text": [
        "GMOSAIC \n",
        "GMOSAIC Transforming image tmpimg4365_1783[SCI,3][1:1024,1:2304] to image tmpchipsci4365_1796\n",
        "GMOSAIC     xshift: -1.84 yshift: -1.05 xmag: 1.00 ymag: 1.00 xrot: 360.00 yrot: 360.00\n",
        "GMOSAIC \n",
        "GMOSAIC Transforming image tmpimg4365_1783[VAR,3][1:1024,1:2304] to image tmpchipvar4365_1797\n",
        "GMOSAIC     xshift: -1.84 yshift: -1.05 xmag: 1.00 ymag: 1.00 xrot: 360.00 yrot: 360.00\n",
        "GMOSAIC \n",
        "GMOSAIC Transforming image tmpimg4365_1783[DQ,3][1:1024,1:2304] to image tmpdq_transimg4365_1747.fits\n",
        "GMOSAIC     xshift: -1.84 yshift: -1.05 xmag: 1.00 ymag: 1.00 xrot: 360.00 yrot: 360.00\n"
       ]
      },
      {
       "output_type": "stream",
       "stream": "stdout",
       "text": [
        "GMOSAIC imcopy  tmpchipsci4365_1790  mrgN20151214S0241.fits[1,append][1:1024,1:2304]  INDEF  0.\n",
        "GMOSAIC imcopy  tmpchipsci4365_1793  mrgN20151214S0241.fits[1,append][1043:2066,1:2304]  INDEF  0.\n",
        "GMOSAIC imcopy  tmpchipsci4365_1796  mrgN20151214S0241.fits[1,append][2085:3108,1:2304]  INDEF  0.\n",
        "GMOSAIC imcopy  tmpchipvar4365_1791  mrgN20151214S0241.fits[2,append][1:1024,1:2304]  INDEF  0.\n",
        "GMOSAIC imcopy  tmpchipvar4365_1794  mrgN20151214S0241.fits[2,append][1043:2066,1:2304]  INDEF  0.\n",
        "GMOSAIC imcopy  tmpchipvar4365_1797  mrgN20151214S0241.fits[2,append][2085:3108,1:2304]  INDEF  0.\n",
        "GMOSAIC imcopy  tmpchipdq4365_1792  mrgN20151214S0241.fits[3,append][1:1024,1:2304]  INDEF  0.\n",
        "GMOSAIC imcopy  tmpchipdq4365_1795  mrgN20151214S0241.fits[3,append][1043:2066,1:2304]  INDEF  0.\n",
        "GMOSAIC imcopy  tmpchipdq4365_1798  mrgN20151214S0241.fits[3,append][2085:3108,1:2304]  INDEF  0.\n"
       ]
      },
      {
       "output_type": "stream",
       "stream": "stdout",
       "text": [
        "gmos$data/gmos-n_bpm_e2v_22_6amp_v1_mosaic.pl\n",
        "GMOSAIC Cleaning areas outside imaging field, cleaning value = 3083.523\n"
       ]
      },
      {
       "output_type": "stream",
       "stream": "stdout",
       "text": [
        "GMOSAIC Input: rgN20151214S0242  Output: mrgN20151214S0242.fits\n"
       ]
      },
      {
       "output_type": "stream",
       "stream": "stdout",
       "text": [
        "GMOSAIC imcopy  rgN20151214S0242[SCI,2][1:512,1:2304]  tmptile4365_1803[1,append][1:512,1:2304]  INDEF  0.\n",
        "GMOSAIC imcopy  rgN20151214S0242[SCI,1][1:512,1:2304]  tmptile4365_1803[1,append][513:1024,1:2304]  INDEF  0.\n",
        "GMOSAIC imcopy  rgN20151214S0242[VAR,2][1:512,1:2304]  tmptile4365_1803[2,append][1:512,1:2304]  INDEF  0.\n",
        "GMOSAIC imcopy  rgN20151214S0242[VAR,1][1:512,1:2304]  tmptile4365_1803[2,append][513:1024,1:2304]  INDEF  0.\n",
        "GMOSAIC imcopy  rgN20151214S0242[DQ,2][1:512,1:2304]  tmptile4365_1803[3,append][1:512,1:2304]  INDEF  0.\n",
        "GMOSAIC imcopy  rgN20151214S0242[DQ,1][1:512,1:2304]  tmptile4365_1803[3,append][513:1024,1:2304]  INDEF  0.\n"
       ]
      },
      {
       "output_type": "stream",
       "stream": "stdout",
       "text": [
        "GMOSAIC imcopy  rgN20151214S0242[SCI,4][1:512,1:2304]  tmptile4365_1804[1,append][1:512,1:2304]  INDEF  0.\n",
        "GMOSAIC imcopy  rgN20151214S0242[SCI,3][1:512,1:2304]  tmptile4365_1804[1,append][513:1024,1:2304]  INDEF  0.\n",
        "GMOSAIC imcopy  rgN20151214S0242[VAR,4][1:512,1:2304]  tmptile4365_1804[2,append][1:512,1:2304]  INDEF  0.\n",
        "GMOSAIC imcopy  rgN20151214S0242[VAR,3][1:512,1:2304]  tmptile4365_1804[2,append][513:1024,1:2304]  INDEF  0.\n",
        "GMOSAIC imcopy  rgN20151214S0242[DQ,4][1:512,1:2304]  tmptile4365_1804[3,append][1:512,1:2304]  INDEF  0.\n",
        "GMOSAIC imcopy  rgN20151214S0242[DQ,3][1:512,1:2304]  tmptile4365_1804[3,append][513:1024,1:2304]  INDEF  0.\n"
       ]
      },
      {
       "output_type": "stream",
       "stream": "stdout",
       "text": [
        "GMOSAIC imcopy  rgN20151214S0242[SCI,5][1:512,1:2304]  tmptile4365_1805[1,append][1:512,1:2304]  INDEF  0.\n",
        "GMOSAIC imcopy  rgN20151214S0242[SCI,6][1:512,1:2304]  tmptile4365_1805[1,append][513:1024,1:2304]  INDEF  0.\n",
        "GMOSAIC imcopy  rgN20151214S0242[VAR,5][1:512,1:2304]  tmptile4365_1805[2,append][1:512,1:2304]  INDEF  0.\n",
        "GMOSAIC imcopy  rgN20151214S0242[VAR,6][1:512,1:2304]  tmptile4365_1805[2,append][513:1024,1:2304]  INDEF  0.\n",
        "GMOSAIC imcopy  rgN20151214S0242[DQ,5][1:512,1:2304]  tmptile4365_1805[3,append][1:512,1:2304]  INDEF  0.\n",
        "GMOSAIC imcopy  rgN20151214S0242[DQ,6][1:512,1:2304]  tmptile4365_1805[3,append][513:1024,1:2304]  INDEF  0.\n"
       ]
      },
      {
       "output_type": "stream",
       "stream": "stdout",
       "text": [
        "GMOSAIC Setting rotation Xrot[1]=-0.009000, Yrot[1]=-0.009000\n"
       ]
      },
      {
       "output_type": "stream",
       "stream": "stdout",
       "text": [
        "GMOSAIC Setting rotation Xrot[2]= 0.000000, Yrot[2]= 0.000000\n"
       ]
      },
      {
       "output_type": "stream",
       "stream": "stdout",
       "text": [
        "GMOSAIC Setting rotation Xrot[3]=-0.003000, Yrot[3]=-0.003000\n"
       ]
      },
      {
       "output_type": "stream",
       "stream": "stdout",
       "text": [
        "GMOSAIC \n",
        "GMOSAIC Transforming image tmpimg4365_1799[SCI,1][1:1024,1:2304] to image tmpchipsci4365_1806\n",
        "GMOSAIC     xshift: 2.03 yshift: 0.29 xmag: 1.00 ymag: 1.00 xrot: 359.99 yrot: 359.99\n",
        "GMOSAIC \n",
        "GMOSAIC Transforming image tmpimg4365_1799[VAR,1][1:1024,1:2304] to image tmpchipvar4365_1807\n",
        "GMOSAIC     xshift: 2.03 yshift: 0.29 xmag: 1.00 ymag: 1.00 xrot: 359.99 yrot: 359.99\n",
        "GMOSAIC \n",
        "GMOSAIC Transforming image tmpimg4365_1799[DQ,1][1:1024,1:2304] to image tmpdq_transimg4365_1747.fits\n",
        "GMOSAIC     xshift: 2.03 yshift: 0.29 xmag: 1.00 ymag: 1.00 xrot: 359.99 yrot: 359.99\n"
       ]
      },
      {
       "output_type": "stream",
       "stream": "stdout",
       "text": [
        "GMOSAIC \n",
        "GMOSAIC Transforming image tmpimg4365_1799[SCI,2][1:1024,1:2304] to image tmpchipsci4365_1809\n",
        "GMOSAIC     xshift: 0.00 yshift: 0.00 xmag: 1.00 ymag: 1.00 xrot: 0.00 yrot: 0.00\n",
        "GMOSAIC \n",
        "GMOSAIC Transforming image tmpimg4365_1799[VAR,2][1:1024,1:2304] to image tmpchipvar4365_1810\n",
        "GMOSAIC     xshift: 0.00 yshift: 0.00 xmag: 1.00 ymag: 1.00 xrot: 0.00 yrot: 0.00\n"
       ]
      },
      {
       "output_type": "stream",
       "stream": "stdout",
       "text": [
        "GMOSAIC \n",
        "GMOSAIC Transforming image tmpimg4365_1799[SCI,3][1:1024,1:2304] to image tmpchipsci4365_1812\n",
        "GMOSAIC     xshift: -1.84 yshift: -1.05 xmag: 1.00 ymag: 1.00 xrot: 360.00 yrot: 360.00\n",
        "GMOSAIC \n",
        "GMOSAIC Transforming image tmpimg4365_1799[VAR,3][1:1024,1:2304] to image tmpchipvar4365_1813\n",
        "GMOSAIC     xshift: -1.84 yshift: -1.05 xmag: 1.00 ymag: 1.00 xrot: 360.00 yrot: 360.00\n",
        "GMOSAIC \n",
        "GMOSAIC Transforming image tmpimg4365_1799[DQ,3][1:1024,1:2304] to image tmpdq_transimg4365_1747.fits\n",
        "GMOSAIC     xshift: -1.84 yshift: -1.05 xmag: 1.00 ymag: 1.00 xrot: 360.00 yrot: 360.00\n"
       ]
      },
      {
       "output_type": "stream",
       "stream": "stdout",
       "text": [
        "GMOSAIC imcopy  tmpchipsci4365_1806  mrgN20151214S0242.fits[1,append][1:1024,1:2304]  INDEF  0.\n",
        "GMOSAIC imcopy  tmpchipsci4365_1809  mrgN20151214S0242.fits[1,append][1043:2066,1:2304]  INDEF  0.\n",
        "GMOSAIC imcopy  tmpchipsci4365_1812  mrgN20151214S0242.fits[1,append][2085:3108,1:2304]  INDEF  0.\n",
        "GMOSAIC imcopy  tmpchipvar4365_1807  mrgN20151214S0242.fits[2,append][1:1024,1:2304]  INDEF  0.\n",
        "GMOSAIC imcopy  tmpchipvar4365_1810  mrgN20151214S0242.fits[2,append][1043:2066,1:2304]  INDEF  0.\n",
        "GMOSAIC imcopy  tmpchipvar4365_1813  mrgN20151214S0242.fits[2,append][2085:3108,1:2304]  INDEF  0.\n",
        "GMOSAIC imcopy  tmpchipdq4365_1808  mrgN20151214S0242.fits[3,append][1:1024,1:2304]  INDEF  0.\n",
        "GMOSAIC imcopy  tmpchipdq4365_1811  mrgN20151214S0242.fits[3,append][1043:2066,1:2304]  INDEF  0.\n",
        "GMOSAIC imcopy  tmpchipdq4365_1814  mrgN20151214S0242.fits[3,append][2085:3108,1:2304]  INDEF  0.\n"
       ]
      },
      {
       "output_type": "stream",
       "stream": "stdout",
       "text": [
        "gmos$data/gmos-n_bpm_e2v_22_6amp_v1_mosaic.pl\n",
        "GMOSAIC Cleaning areas outside imaging field, cleaning value = 3058.761\n"
       ]
      },
      {
       "output_type": "stream",
       "stream": "stdout",
       "text": [
        "GMOSAIC All 4 images successfully mosaiced.\n"
       ]
      },
      {
       "output_type": "stream",
       "stream": "stdout",
       "text": [
        "GMOSAIC --------------------\n",
        "GMOSAIC Exit status: SUCCESS\n",
        "GMOSAIC Log closed at [Sat 14:43:16 09-Apr-2016]\n",
        "GMOSAIC -------------------------------------------------------------------\n",
        "GMOSAIC \n"
       ]
      }
     ],
     "prompt_number": 16
    },
    {
     "cell_type": "heading",
     "level": 4,
     "metadata": {},
     "source": [
      "Visually inspect the mosaiced frames"
     ]
    },
    {
     "cell_type": "code",
     "collapsed": false,
     "input": [
      "sciframes = open('sci.lis', 'r')\n",
      "for line in sciframes:\n",
      "    frame = line.strip()\n",
      "    iraf.gdisplay('mrg'+frame, 1, z2=20000, fl_paste='yes')\n",
      "sciframes.close()"
     ],
     "language": "python",
     "metadata": {},
     "outputs": [
      {
       "output_type": "stream",
       "stream": "stdout",
       "text": [
        "\n",
        "GDISPLAY - Started: 2016-04-09T14:43:41\n",
        "\n"
       ]
      },
      {
       "output_type": "stream",
       "stream": "stdout",
       "text": [
        "WARNING - GDISPLAY: only one science extension found, turning paste off\n",
        "\n",
        "WARNING - GDISPLAY: Input image has been processed by GMOSAIC.\n",
        "                    Switching off the following flags:\n",
        "                          ret_roi=no\n",
        "\n",
        "GDISPLAY: Displaying image...\n",
        "\n",
        "GDISPLAY: Starting imexamine - quit with q"
       ]
      },
      {
       "output_type": "stream",
       "stream": "stdout",
       "text": [
        "\n",
        "\n",
        "GDISPLAY - Finished: 2016-04-09T14:43:50\n"
       ]
      },
      {
       "output_type": "stream",
       "stream": "stdout",
       "text": [
        "\n",
        "\n",
        "GDISPLAY - Started: 2016-04-09T14:43:51\n",
        "\n"
       ]
      },
      {
       "output_type": "stream",
       "stream": "stdout",
       "text": [
        "WARNING - GDISPLAY: only one science extension found, turning paste off\n",
        "\n",
        "WARNING - GDISPLAY: Input image has been processed by GMOSAIC.\n",
        "                    Switching off the following flags:\n",
        "                          ret_roi=no\n",
        "\n",
        "GDISPLAY: Displaying image...\n",
        "\n",
        "GDISPLAY: Starting imexamine - quit with q"
       ]
      },
      {
       "output_type": "stream",
       "stream": "stdout",
       "text": [
        "\n",
        "\n",
        "GDISPLAY - Finished: 2016-04-09T14:43:52\n"
       ]
      },
      {
       "output_type": "stream",
       "stream": "stdout",
       "text": [
        "\n",
        "\n",
        "GDISPLAY - Started: 2016-04-09T14:43:52\n",
        "\n"
       ]
      },
      {
       "output_type": "stream",
       "stream": "stdout",
       "text": [
        "WARNING - GDISPLAY: only one science extension found, turning paste off\n",
        "\n",
        "WARNING - GDISPLAY: Input image has been processed by GMOSAIC.\n",
        "                    Switching off the following flags:\n",
        "                          ret_roi=no\n",
        "\n",
        "GDISPLAY: Displaying image...\n",
        "\n",
        "GDISPLAY: Starting imexamine - quit with q"
       ]
      },
      {
       "output_type": "stream",
       "stream": "stdout",
       "text": [
        "\n",
        "\n",
        "GDISPLAY - Finished: 2016-04-09T14:43:54\n"
       ]
      },
      {
       "output_type": "stream",
       "stream": "stdout",
       "text": [
        "\n",
        "\n",
        "GDISPLAY - Started: 2016-04-09T14:43:54\n",
        "\n"
       ]
      },
      {
       "output_type": "stream",
       "stream": "stdout",
       "text": [
        "WARNING - GDISPLAY: only one science extension found, turning paste off\n",
        "\n",
        "WARNING - GDISPLAY: Input image has been processed by GMOSAIC.\n",
        "                    Switching off the following flags:\n",
        "                          ret_roi=no\n",
        "\n",
        "GDISPLAY: Displaying image...\n",
        "\n",
        "GDISPLAY: Starting imexamine - quit with q"
       ]
      },
      {
       "output_type": "stream",
       "stream": "stdout",
       "text": [
        "\n",
        "\n",
        "GDISPLAY - Finished: 2016-04-09T14:43:55\n"
       ]
      },
      {
       "output_type": "stream",
       "stream": "stdout",
       "text": [
        "\n"
       ]
      }
     ],
     "prompt_number": 17
    },
    {
     "cell_type": "heading",
     "level": 2,
     "metadata": {},
     "source": [
      "STEP 9: Align and stack the mosaic target frames"
     ]
    },
    {
     "cell_type": "code",
     "collapsed": false,
     "input": [
      "iraf.imdelete(science['procsci'], verify='no')\n",
      "\n",
      "iraf.imcoadd('mrg//@sci.lis', outimage=science['procsci'], logfile=logfile)"
     ],
     "language": "python",
     "metadata": {},
     "outputs": [
      {
       "output_type": "stream",
       "stream": "stdout",
       "text": [
        "-----------------------------------------------------------------------------\n",
        "IMCOADD -- Sat Apr  9 14:44:01 HST 2016\n",
        "\n",
        "Images (and masks) in list\n",
        "mrgN20151214S0239\n",
        "mrgN20151214S0240\n",
        "mrgN20151214S0241\n",
        "mrgN20151214S0242\n"
       ]
      },
      {
       "output_type": "stream",
       "stream": "stdout",
       "text": [
        "Alignment method: wcs\n"
       ]
      },
      {
       "output_type": "stream",
       "stream": "stdout",
       "text": [
        "Making individual masks from DQ\n",
        "Fixpix input images using DQ"
       ]
      },
      {
       "output_type": "stream",
       "stream": "stdout",
       "text": [
        "\n"
       ]
      },
      {
       "output_type": "stream",
       "stream": "stdout",
       "text": [
        "Instrument + camera      : GMOS-N  \n",
        "Telescope ISS port number: 5\n",
        "Bad pixel file gmos$data/gmos-n_bpm_e2v_22_6amp_v1_mosaic.pl\n",
        "Read noise:   3.20 e-   Gain:   1.00 e-/ADU\n"
       ]
      },
      {
       "output_type": "stream",
       "stream": "stdout",
       "text": [
        "Co-added cleaned output image: ngc3310_i\n",
        "Pixel scale: 0.1458\n",
        "Statistics section: [100:3008,100:2204]\n",
        "Finding objects in mrgN20151214S0239"
       ]
      },
      {
       "output_type": "stream",
       "stream": "stdout",
       "text": [
        "\n",
        "Sampling for geotran  : 20  20"
       ]
      },
      {
       "output_type": "stream",
       "stream": "stdout",
       "text": [
        "\n",
        "Block size for geotran: 2048  2048\n",
        "Centering objects in mrgN20151214S0239\n",
        "Number of objects successfully centered in reference image 310"
       ]
      },
      {
       "output_type": "stream",
       "stream": "stdout",
       "text": [
        "\n",
        "Alignment method: wcs\n",
        "\n"
       ]
      },
      {
       "output_type": "stream",
       "stream": "stdout",
       "text": [
        "Coordinate list: imxymatch.1  Transform: mrgN20151214S0240_trn\n"
       ]
      },
      {
       "output_type": "stream",
       "stream": "stdout",
       "text": [
        "    Results file: \n"
       ]
      },
      {
       "output_type": "stream",
       "stream": "stdout",
       "text": [
        "Coordinate mapping status\n"
       ]
      },
      {
       "output_type": "stream",
       "stream": "stdout",
       "text": [
        "    "
       ]
      },
      {
       "output_type": "stream",
       "stream": "stdout",
       "text": [
        "X fit ok.  Y fit ok.\n"
       ]
      },
      {
       "output_type": "stream",
       "stream": "stdout",
       "text": [
        "    Xin and Yin fit rms: 0.001294235  0.001326204\n"
       ]
      },
      {
       "output_type": "stream",
       "stream": "stdout",
       "text": [
        "Coordinate mapping parameters\n"
       ]
      },
      {
       "output_type": "stream",
       "stream": "stdout",
       "text": [
        "    Mean Xref and Yref: 1554.5  1152.5\n"
       ]
      },
      {
       "output_type": "stream",
       "stream": "stdout",
       "text": [
        "    Mean Xin and Yin: 1527.023  1111.346\n"
       ]
      },
      {
       "output_type": "stream",
       "stream": "stdout",
       "text": [
        "    X and Y shift: -27.48515  -41.1475  (xin  yin)\n"
       ]
      },
      {
       "output_type": "stream",
       "stream": "stdout",
       "text": [
        "    X and Y scale: 1.000001  1.000001  (xin / xref  yin / yref)\n"
       ]
      },
      {
       "output_type": "stream",
       "stream": "stdout",
       "text": [
        "    X and Y axis rotation: 0.00030  0.00030  (degrees  degrees)\n"
       ]
      },
      {
       "output_type": "stream",
       "stream": "stdout",
       "text": [
        "Centering objects in mrgN20151214S0240\n",
        "\n"
       ]
      },
      {
       "output_type": "stream",
       "stream": "stdout",
       "text": [
        "Xmax =  3108   Ymax = 2304\n",
        "Entering geomap\n",
        "Fitting geometry rscale\n",
        "Iterating a maximum of 5 times\n",
        "\n"
       ]
      },
      {
       "output_type": "stream",
       "stream": "stdout",
       "text": [
        "Coordinate list: mrgN20151214S0240_trn  Transform: mrgN20151214S0240_trn\n"
       ]
      },
      {
       "output_type": "stream",
       "stream": "stdout",
       "text": [
        "    Results file: tmpres4365_1836\n"
       ]
      },
      {
       "output_type": "stream",
       "stream": "stdout",
       "text": [
        "Coordinate mapping status\n"
       ]
      },
      {
       "output_type": "stream",
       "stream": "stdout",
       "text": [
        "    "
       ]
      },
      {
       "output_type": "stream",
       "stream": "stdout",
       "text": [
        "X fit ok.  Y fit ok.\n"
       ]
      },
      {
       "output_type": "stream",
       "stream": "stdout",
       "text": [
        "    Xin and Yin fit rms: 11.26623  10.84043\n"
       ]
      },
      {
       "output_type": "stream",
       "stream": "stdout",
       "text": [
        "Coordinate mapping parameters\n"
       ]
      },
      {
       "output_type": "stream",
       "stream": "stdout",
       "text": [
        "    Mean Xref and Yref: 1610.564  1190.636\n"
       ]
      },
      {
       "output_type": "stream",
       "stream": "stdout",
       "text": [
        "    Mean Xin and Yin: 1583.295  1150.927\n"
       ]
      },
      {
       "output_type": "stream",
       "stream": "stdout",
       "text": [
        "    X and Y shift: -23.43967  -36.84631  (xin  yin)\n"
       ]
      },
      {
       "output_type": "stream",
       "stream": "stdout",
       "text": [
        "    X and Y scale: 0.9978665  0.9978665  (xin / xref  yin / yref)\n"
       ]
      },
      {
       "output_type": "stream",
       "stream": "stdout",
       "text": [
        "    X and Y axis rotation: 359.99283  359.99283  (degrees  degrees)\n"
       ]
      },
      {
       "output_type": "stream",
       "stream": "stdout",
       "text": [
        "\n"
       ]
      },
      {
       "output_type": "stream",
       "stream": "stdout",
       "text": [
        "Coordinate list: mrgN20151214S0240_trn  Transform: mrgN20151214S0240_trn\n"
       ]
      },
      {
       "output_type": "stream",
       "stream": "stdout",
       "text": [
        "    Results file: tmpres4365_1836\n"
       ]
      },
      {
       "output_type": "stream",
       "stream": "stdout",
       "text": [
        "Coordinate mapping status\n"
       ]
      },
      {
       "output_type": "stream",
       "stream": "stdout",
       "text": [
        "    "
       ]
      },
      {
       "output_type": "stream",
       "stream": "stdout",
       "text": [
        "X fit ok.  Y fit ok.\n"
       ]
      },
      {
       "output_type": "stream",
       "stream": "stdout",
       "text": [
        "    Xin and Yin fit rms: 4.548396  3.923584\n"
       ]
      },
      {
       "output_type": "stream",
       "stream": "stdout",
       "text": [
        "Coordinate mapping parameters\n"
       ]
      },
      {
       "output_type": "stream",
       "stream": "stdout",
       "text": [
        "    Mean Xref and Yref: 1618.191  1208.344\n"
       ]
      },
      {
       "output_type": "stream",
       "stream": "stdout",
       "text": [
        "    Mean Xin and Yin: 1590.793  1168.508\n"
       ]
      },
      {
       "output_type": "stream",
       "stream": "stdout",
       "text": [
        "    X and Y shift: -26.24071  -39.37842  (xin  yin)\n"
       ]
      },
      {
       "output_type": "stream",
       "stream": "stdout",
       "text": [
        "    X and Y scale: 0.9993838  0.9993837  (xin / xref  yin / yref)\n"
       ]
      },
      {
       "output_type": "stream",
       "stream": "stdout",
       "text": [
        "    X and Y axis rotation: 359.98468  359.98468  (degrees  degrees)\n"
       ]
      },
      {
       "output_type": "stream",
       "stream": "stdout",
       "text": [
        "\n"
       ]
      },
      {
       "output_type": "stream",
       "stream": "stdout",
       "text": [
        "Coordinate list: mrgN20151214S0240_trn  Transform: mrgN20151214S0240_trn\n"
       ]
      },
      {
       "output_type": "stream",
       "stream": "stdout",
       "text": [
        "    Results file: tmpres4365_1836\n"
       ]
      },
      {
       "output_type": "stream",
       "stream": "stdout",
       "text": [
        "Coordinate mapping status\n"
       ]
      },
      {
       "output_type": "stream",
       "stream": "stdout",
       "text": [
        "    "
       ]
      },
      {
       "output_type": "stream",
       "stream": "stdout",
       "text": [
        "X fit ok.  Y fit ok.\n"
       ]
      },
      {
       "output_type": "stream",
       "stream": "stdout",
       "text": [
        "    Xin and Yin fit rms: 0.2454656  0.2507814\n"
       ]
      },
      {
       "output_type": "stream",
       "stream": "stdout",
       "text": [
        "Coordinate mapping parameters\n"
       ]
      },
      {
       "output_type": "stream",
       "stream": "stdout",
       "text": [
        "    Mean Xref and Yref: 1605.257  1241.333\n"
       ]
      },
      {
       "output_type": "stream",
       "stream": "stdout",
       "text": [
        "    Mean Xin and Yin: 1577.828  1200.966\n"
       ]
      },
      {
       "output_type": "stream",
       "stream": "stdout",
       "text": [
        "    X and Y shift: -27.32797  -40.26001  (xin  yin)\n"
       ]
      },
      {
       "output_type": "stream",
       "stream": "stdout",
       "text": [
        "    X and Y scale: 0.9999408  0.9999408  (xin / xref  yin / yref)\n"
       ]
      },
      {
       "output_type": "stream",
       "stream": "stdout",
       "text": [
        "    X and Y axis rotation: 359.99945  359.99945  (degrees  degrees)\n"
       ]
      },
      {
       "output_type": "stream",
       "stream": "stdout",
       "text": [
        "\n"
       ]
      },
      {
       "output_type": "stream",
       "stream": "stdout",
       "text": [
        "Coordinate list: mrgN20151214S0240_trn  Transform: mrgN20151214S0240_trn\n"
       ]
      },
      {
       "output_type": "stream",
       "stream": "stdout",
       "text": [
        "    Results file: tmpres4365_1836\n"
       ]
      },
      {
       "output_type": "stream",
       "stream": "stdout",
       "text": [
        "Coordinate mapping status\n"
       ]
      },
      {
       "output_type": "stream",
       "stream": "stdout",
       "text": [
        "    "
       ]
      },
      {
       "output_type": "stream",
       "stream": "stdout",
       "text": [
        "X fit ok.  Y fit ok.\n"
       ]
      },
      {
       "output_type": "stream",
       "stream": "stdout",
       "text": [
        "    Xin and Yin fit rms: 0.1781242  0.206538\n"
       ]
      },
      {
       "output_type": "stream",
       "stream": "stdout",
       "text": [
        "Coordinate mapping parameters\n"
       ]
      },
      {
       "output_type": "stream",
       "stream": "stdout",
       "text": [
        "    Mean Xref and Yref: 1639.448  1208.81\n"
       ]
      },
      {
       "output_type": "stream",
       "stream": "stdout",
       "text": [
        "    Mean Xin and Yin: 1612.014  1168.477\n"
       ]
      },
      {
       "output_type": "stream",
       "stream": "stdout",
       "text": [
        "    X and Y shift: -27.35039  -40.25781  (xin  yin)\n"
       ]
      },
      {
       "output_type": "stream",
       "stream": "stdout",
       "text": [
        "    X and Y scale: 0.9999438  0.9999438  (xin / xref  yin / yref)\n"
       ]
      },
      {
       "output_type": "stream",
       "stream": "stdout",
       "text": [
        "    X and Y axis rotation: 0.00035  0.00035  (degrees  degrees)\n"
       ]
      },
      {
       "output_type": "stream",
       "stream": "stdout",
       "text": [
        "\n"
       ]
      },
      {
       "output_type": "stream",
       "stream": "stdout",
       "text": [
        "Coordinate list: imxymatch.1  Transform: mrgN20151214S0241_trn\n"
       ]
      },
      {
       "output_type": "stream",
       "stream": "stdout",
       "text": [
        "    Results file: \n"
       ]
      },
      {
       "output_type": "stream",
       "stream": "stdout",
       "text": [
        "Coordinate mapping status\n"
       ]
      },
      {
       "output_type": "stream",
       "stream": "stdout",
       "text": [
        "    "
       ]
      },
      {
       "output_type": "stream",
       "stream": "stdout",
       "text": [
        "X fit ok.  Y fit ok.\n"
       ]
      },
      {
       "output_type": "stream",
       "stream": "stdout",
       "text": [
        "    Xin and Yin fit rms: 0.001205312  0.001383584\n"
       ]
      },
      {
       "output_type": "stream",
       "stream": "stdout",
       "text": [
        "Coordinate mapping parameters\n"
       ]
      },
      {
       "output_type": "stream",
       "stream": "stdout",
       "text": [
        "    Mean Xref and Yref: 1554.5  1152.5\n"
       ]
      },
      {
       "output_type": "stream",
       "stream": "stdout",
       "text": [
        "    Mean Xin and Yin: 1609.385  1152.457\n"
       ]
      },
      {
       "output_type": "stream",
       "stream": "stdout",
       "text": [
        "    X and Y shift: 54.89256  -0.05618692  (xin  yin)\n"
       ]
      },
      {
       "output_type": "stream",
       "stream": "stdout",
       "text": [
        "    X and Y scale: 1.000001  1.000001  (xin / xref  yin / yref)\n"
       ]
      },
      {
       "output_type": "stream",
       "stream": "stdout",
       "text": [
        "    X and Y axis rotation: 359.99954  359.99954  (degrees  degrees)\n"
       ]
      },
      {
       "output_type": "stream",
       "stream": "stdout",
       "text": [
        "Centering objects in mrgN20151214S0241\n",
        "\n"
       ]
      },
      {
       "output_type": "stream",
       "stream": "stdout",
       "text": [
        "Xmax =  3108   Ymax = 2304\n",
        "Entering geomap\n",
        "Fitting geometry rscale\n",
        "Iterating a maximum of 5 times\n",
        "\n"
       ]
      },
      {
       "output_type": "stream",
       "stream": "stdout",
       "text": [
        "Coordinate list: mrgN20151214S0241_trn  Transform: mrgN20151214S0241_trn\n"
       ]
      },
      {
       "output_type": "stream",
       "stream": "stdout",
       "text": [
        "    Results file: tmpres4365_1836\n"
       ]
      },
      {
       "output_type": "stream",
       "stream": "stdout",
       "text": [
        "Coordinate mapping status\n"
       ]
      },
      {
       "output_type": "stream",
       "stream": "stdout",
       "text": [
        "    "
       ]
      },
      {
       "output_type": "stream",
       "stream": "stdout",
       "text": [
        "X fit ok.  Y fit ok.\n"
       ]
      },
      {
       "output_type": "stream",
       "stream": "stdout",
       "text": [
        "    Xin and Yin fit rms: 10.76837  11.90341\n"
       ]
      },
      {
       "output_type": "stream",
       "stream": "stdout",
       "text": [
        "Coordinate mapping parameters\n"
       ]
      },
      {
       "output_type": "stream",
       "stream": "stdout",
       "text": [
        "    Mean Xref and Yref: 1617.805  1185.021\n"
       ]
      },
      {
       "output_type": "stream",
       "stream": "stdout",
       "text": [
        "    Mean Xin and Yin: 1643.918  1144.155\n"
       ]
      },
      {
       "output_type": "stream",
       "stream": "stdout",
       "text": [
        "    X and Y shift: 30.09101  -37.84436  (xin  yin)\n"
       ]
      },
      {
       "output_type": "stream",
       "stream": "stdout",
       "text": [
        "    X and Y scale: 0.9981529  0.9981529  (xin / xref  yin / yref)\n"
       ]
      },
      {
       "output_type": "stream",
       "stream": "stdout",
       "text": [
        "    X and Y axis rotation: 359.98904  359.98904  (degrees  degrees)\n"
       ]
      },
      {
       "output_type": "stream",
       "stream": "stdout",
       "text": [
        "\n"
       ]
      },
      {
       "output_type": "stream",
       "stream": "stdout",
       "text": [
        "Coordinate list: mrgN20151214S0241_trn  Transform: mrgN20151214S0241_trn\n"
       ]
      },
      {
       "output_type": "stream",
       "stream": "stdout",
       "text": [
        "    Results file: tmpres4365_1836\n"
       ]
      },
      {
       "output_type": "stream",
       "stream": "stdout",
       "text": [
        "Coordinate mapping status\n"
       ]
      },
      {
       "output_type": "stream",
       "stream": "stdout",
       "text": [
        "    "
       ]
      },
      {
       "output_type": "stream",
       "stream": "stdout",
       "text": [
        "X fit ok.  Y fit ok.\n"
       ]
      },
      {
       "output_type": "stream",
       "stream": "stdout",
       "text": [
        "    Xin and Yin fit rms: 5.118413  4.65624\n"
       ]
      },
      {
       "output_type": "stream",
       "stream": "stdout",
       "text": [
        "Coordinate mapping parameters\n"
       ]
      },
      {
       "output_type": "stream",
       "stream": "stdout",
       "text": [
        "    Mean Xref and Yref: 1625.856  1197.205\n"
       ]
      },
      {
       "output_type": "stream",
       "stream": "stdout",
       "text": [
        "    Mean Xin and Yin: 1653.336  1157.12\n"
       ]
      },
      {
       "output_type": "stream",
       "stream": "stdout",
       "text": [
        "    X and Y shift: 28.48309  -40.08447  (xin  yin)\n"
       ]
      },
      {
       "output_type": "stream",
       "stream": "stdout",
       "text": [
        "    X and Y scale: 0.999468  0.999468  (xin / xref  yin / yref)\n"
       ]
      },
      {
       "output_type": "stream",
       "stream": "stdout",
       "text": [
        "    X and Y axis rotation: 359.97498  359.97498  (degrees  degrees)\n"
       ]
      },
      {
       "output_type": "stream",
       "stream": "stdout",
       "text": [
        "\n"
       ]
      },
      {
       "output_type": "stream",
       "stream": "stdout",
       "text": [
        "Coordinate list: mrgN20151214S0241_trn  Transform: mrgN20151214S0241_trn\n"
       ]
      },
      {
       "output_type": "stream",
       "stream": "stdout",
       "text": [
        "    Results file: tmpres4365_1836\n"
       ]
      },
      {
       "output_type": "stream",
       "stream": "stdout",
       "text": [
        "Coordinate mapping status\n"
       ]
      },
      {
       "output_type": "stream",
       "stream": "stdout",
       "text": [
        "    "
       ]
      },
      {
       "output_type": "stream",
       "stream": "stdout",
       "text": [
        "X fit ok.  Y fit ok.\n"
       ]
      },
      {
       "output_type": "stream",
       "stream": "stdout",
       "text": [
        "    Xin and Yin fit rms: 0.2637238  0.3871498\n"
       ]
      },
      {
       "output_type": "stream",
       "stream": "stdout",
       "text": [
        "Coordinate mapping parameters\n"
       ]
      },
      {
       "output_type": "stream",
       "stream": "stdout",
       "text": [
        "    Mean Xref and Yref: 1609.351  1243.508\n"
       ]
      },
      {
       "output_type": "stream",
       "stream": "stdout",
       "text": [
        "    Mean Xin and Yin: 1636.551  1202.455\n"
       ]
      },
      {
       "output_type": "stream",
       "stream": "stdout",
       "text": [
        "    X and Y shift: 27.29078  -41.26697  (xin  yin)\n"
       ]
      },
      {
       "output_type": "stream",
       "stream": "stdout",
       "text": [
        "    X and Y scale: 0.999995  0.999995  (xin / xref  yin / yref)\n"
       ]
      },
      {
       "output_type": "stream",
       "stream": "stdout",
       "text": [
        "    X and Y axis rotation: 359.99725  359.99725  (degrees  degrees)\n"
       ]
      },
      {
       "output_type": "stream",
       "stream": "stdout",
       "text": [
        "\n"
       ]
      },
      {
       "output_type": "stream",
       "stream": "stdout",
       "text": [
        "Coordinate list: mrgN20151214S0241_trn  Transform: mrgN20151214S0241_trn\n"
       ]
      },
      {
       "output_type": "stream",
       "stream": "stdout",
       "text": [
        "    Results file: tmpres4365_1836\n"
       ]
      },
      {
       "output_type": "stream",
       "stream": "stdout",
       "text": [
        "Coordinate mapping status\n"
       ]
      },
      {
       "output_type": "stream",
       "stream": "stdout",
       "text": [
        "    "
       ]
      },
      {
       "output_type": "stream",
       "stream": "stdout",
       "text": [
        "X fit ok.  Y fit ok.\n"
       ]
      },
      {
       "output_type": "stream",
       "stream": "stdout",
       "text": [
        "    Xin and Yin fit rms: 0.1458438  0.1975279\n"
       ]
      },
      {
       "output_type": "stream",
       "stream": "stdout",
       "text": [
        "Coordinate mapping parameters\n"
       ]
      },
      {
       "output_type": "stream",
       "stream": "stdout",
       "text": [
        "    Mean Xref and Yref: 1613.313  1230.582\n"
       ]
      },
      {
       "output_type": "stream",
       "stream": "stdout",
       "text": [
        "    Mean Xin and Yin: 1640.554  1189.387\n"
       ]
      },
      {
       "output_type": "stream",
       "stream": "stdout",
       "text": [
        "    X and Y shift: 27.31236  -41.19324  (xin  yin)\n"
       ]
      },
      {
       "output_type": "stream",
       "stream": "stdout",
       "text": [
        "    X and Y scale: 0.9999828  0.9999828  (xin / xref  yin / yref)\n"
       ]
      },
      {
       "output_type": "stream",
       "stream": "stdout",
       "text": [
        "    X and Y axis rotation: 359.99832  359.99832  (degrees  degrees)\n"
       ]
      },
      {
       "output_type": "stream",
       "stream": "stdout",
       "text": [
        "\n"
       ]
      },
      {
       "output_type": "stream",
       "stream": "stdout",
       "text": [
        "Coordinate list: mrgN20151214S0241_trn  Transform: mrgN20151214S0241_trn\n"
       ]
      },
      {
       "output_type": "stream",
       "stream": "stdout",
       "text": [
        "    Results file: tmpres4365_1836\n"
       ]
      },
      {
       "output_type": "stream",
       "stream": "stdout",
       "text": [
        "Coordinate mapping status\n"
       ]
      },
      {
       "output_type": "stream",
       "stream": "stdout",
       "text": [
        "    "
       ]
      },
      {
       "output_type": "stream",
       "stream": "stdout",
       "text": [
        "X fit ok.  Y fit ok.\n"
       ]
      },
      {
       "output_type": "stream",
       "stream": "stdout",
       "text": [
        "    Xin and Yin fit rms: 0.142934  0.1598223\n"
       ]
      },
      {
       "output_type": "stream",
       "stream": "stdout",
       "text": [
        "Coordinate mapping parameters\n"
       ]
      },
      {
       "output_type": "stream",
       "stream": "stdout",
       "text": [
        "    Mean Xref and Yref: 1618.731  1257.578\n"
       ]
      },
      {
       "output_type": "stream",
       "stream": "stdout",
       "text": [
        "    Mean Xin and Yin: 1645.982  1216.422\n"
       ]
      },
      {
       "output_type": "stream",
       "stream": "stdout",
       "text": [
        "    X and Y shift: 27.34186  -41.18835  (xin  yin)\n"
       ]
      },
      {
       "output_type": "stream",
       "stream": "stdout",
       "text": [
        "    X and Y scale: 0.9999757  0.9999757  (xin / xref  yin / yref)\n"
       ]
      },
      {
       "output_type": "stream",
       "stream": "stdout",
       "text": [
        "    X and Y axis rotation: 359.99765  359.99765  (degrees  degrees)\n"
       ]
      },
      {
       "output_type": "stream",
       "stream": "stdout",
       "text": [
        "\n"
       ]
      },
      {
       "output_type": "stream",
       "stream": "stdout",
       "text": [
        "Coordinate list: imxymatch.1  Transform: mrgN20151214S0242_trn\n"
       ]
      },
      {
       "output_type": "stream",
       "stream": "stdout",
       "text": [
        "    Results file: \n"
       ]
      },
      {
       "output_type": "stream",
       "stream": "stdout",
       "text": [
        "Coordinate mapping status\n"
       ]
      },
      {
       "output_type": "stream",
       "stream": "stdout",
       "text": [
        "    "
       ]
      },
      {
       "output_type": "stream",
       "stream": "stdout",
       "text": [
        "X fit ok.  Y fit ok.\n"
       ]
      },
      {
       "output_type": "stream",
       "stream": "stdout",
       "text": [
        "    Xin and Yin fit rms: 0.001294721  0.00128864\n"
       ]
      },
      {
       "output_type": "stream",
       "stream": "stdout",
       "text": [
        "Coordinate mapping parameters\n"
       ]
      },
      {
       "output_type": "stream",
       "stream": "stdout",
       "text": [
        "    Mean Xref and Yref: 1554.5  1152.5\n"
       ]
      },
      {
       "output_type": "stream",
       "stream": "stdout",
       "text": [
        "    Mean Xin and Yin: 1581.979  1193.654\n"
       ]
      },
      {
       "output_type": "stream",
       "stream": "stdout",
       "text": [
        "    X and Y shift: 27.46739  41.16833  (xin  yin)\n"
       ]
      },
      {
       "output_type": "stream",
       "stream": "stdout",
       "text": [
        "    X and Y scale: 1.000001  1.000001  (xin / xref  yin / yref)\n"
       ]
      },
      {
       "output_type": "stream",
       "stream": "stdout",
       "text": [
        "    X and Y axis rotation: 0.00055  0.00055  (degrees  degrees)\n"
       ]
      },
      {
       "output_type": "stream",
       "stream": "stdout",
       "text": [
        "Centering objects in mrgN20151214S0242\n",
        "\n"
       ]
      },
      {
       "output_type": "stream",
       "stream": "stdout",
       "text": [
        "Xmax =  3108   Ymax = 2304\n",
        "Entering geomap\n",
        "Fitting geometry rscale\n",
        "Iterating a maximum of 5 times\n",
        "\n"
       ]
      },
      {
       "output_type": "stream",
       "stream": "stdout",
       "text": [
        "Coordinate list: mrgN20151214S0242_trn  Transform: mrgN20151214S0242_trn\n"
       ]
      },
      {
       "output_type": "stream",
       "stream": "stdout",
       "text": [
        "    Results file: tmpres4365_1836\n"
       ]
      },
      {
       "output_type": "stream",
       "stream": "stdout",
       "text": [
        "Coordinate mapping status\n"
       ]
      },
      {
       "output_type": "stream",
       "stream": "stdout",
       "text": [
        "    "
       ]
      },
      {
       "output_type": "stream",
       "stream": "stdout",
       "text": [
        "X fit ok.  Y fit ok.\n"
       ]
      },
      {
       "output_type": "stream",
       "stream": "stdout",
       "text": [
        "    Xin and Yin fit rms: 11.07054  10.96255\n"
       ]
      },
      {
       "output_type": "stream",
       "stream": "stdout",
       "text": [
        "Coordinate mapping parameters\n"
       ]
      },
      {
       "output_type": "stream",
       "stream": "stdout",
       "text": [
        "    Mean Xref and Yref: 1545.081  1123.439\n"
       ]
      },
      {
       "output_type": "stream",
       "stream": "stdout",
       "text": [
        "    Mean Xin and Yin: 1599.878  1125.428\n"
       ]
      },
      {
       "output_type": "stream",
       "stream": "stdout",
       "text": [
        "    X and Y shift: 60.35363  1.635742  (xin  yin)\n"
       ]
      },
      {
       "output_type": "stream",
       "stream": "stdout",
       "text": [
        "    X and Y scale: 0.9980758  0.9980758  (xin / xref  yin / yref)\n"
       ]
      },
      {
       "output_type": "stream",
       "stream": "stdout",
       "text": [
        "    X and Y axis rotation: 359.90884  359.90884  (degrees  degrees)\n"
       ]
      },
      {
       "output_type": "stream",
       "stream": "stdout",
       "text": [
        "\n"
       ]
      },
      {
       "output_type": "stream",
       "stream": "stdout",
       "text": [
        "Coordinate list: mrgN20151214S0242_trn  Transform: mrgN20151214S0242_trn\n"
       ]
      },
      {
       "output_type": "stream",
       "stream": "stdout",
       "text": [
        "    Results file: tmpres4365_1836\n"
       ]
      },
      {
       "output_type": "stream",
       "stream": "stdout",
       "text": [
        "Coordinate mapping status\n"
       ]
      },
      {
       "output_type": "stream",
       "stream": "stdout",
       "text": [
        "    "
       ]
      },
      {
       "output_type": "stream",
       "stream": "stdout",
       "text": [
        "X fit ok.  Y fit ok.\n"
       ]
      },
      {
       "output_type": "stream",
       "stream": "stdout",
       "text": [
        "    Xin and Yin fit rms: 5.209299  4.387035\n"
       ]
      },
      {
       "output_type": "stream",
       "stream": "stdout",
       "text": [
        "Coordinate mapping parameters\n"
       ]
      },
      {
       "output_type": "stream",
       "stream": "stdout",
       "text": [
        "    Mean Xref and Yref: 1563.415  1129.397\n"
       ]
      },
      {
       "output_type": "stream",
       "stream": "stdout",
       "text": [
        "    Mean Xin and Yin: 1619.12  1130.919\n"
       ]
      },
      {
       "output_type": "stream",
       "stream": "stdout",
       "text": [
        "    X and Y shift: 56.0129  0.9387207  (xin  yin)\n"
       ]
      },
      {
       "output_type": "stream",
       "stream": "stdout",
       "text": [
        "    X and Y scale: 0.9994962  0.9994963  (xin / xref  yin / yref)\n"
       ]
      },
      {
       "output_type": "stream",
       "stream": "stdout",
       "text": [
        "    X and Y axis rotation: 359.97021  359.97021  (degrees  degrees)\n"
       ]
      },
      {
       "output_type": "stream",
       "stream": "stdout",
       "text": [
        "\n"
       ]
      },
      {
       "output_type": "stream",
       "stream": "stdout",
       "text": [
        "Coordinate list: mrgN20151214S0242_trn  Transform: mrgN20151214S0242_trn\n"
       ]
      },
      {
       "output_type": "stream",
       "stream": "stdout",
       "text": [
        "    Results file: tmpres4365_1836\n"
       ]
      },
      {
       "output_type": "stream",
       "stream": "stdout",
       "text": [
        "Coordinate mapping status\n"
       ]
      },
      {
       "output_type": "stream",
       "stream": "stdout",
       "text": [
        "    "
       ]
      },
      {
       "output_type": "stream",
       "stream": "stdout",
       "text": [
        "X fit ok.  Y fit ok.\n"
       ]
      },
      {
       "output_type": "stream",
       "stream": "stdout",
       "text": [
        "    Xin and Yin fit rms: 0.7888601  0.3982207\n"
       ]
      },
      {
       "output_type": "stream",
       "stream": "stdout",
       "text": [
        "Coordinate mapping parameters\n"
       ]
      },
      {
       "output_type": "stream",
       "stream": "stdout",
       "text": [
        "    Mean Xref and Yref: 1535.687  1165.696\n"
       ]
      },
      {
       "output_type": "stream",
       "stream": "stdout",
       "text": [
        "    Mean Xin and Yin: 1590.559  1166.144\n"
       ]
      },
      {
       "output_type": "stream",
       "stream": "stdout",
       "text": [
        "    X and Y shift: 55.20993  0.4134521  (xin  yin)\n"
       ]
      },
      {
       "output_type": "stream",
       "stream": "stdout",
       "text": [
        "    X and Y scale: 0.9998962  0.9998962  (xin / xref  yin / yref)\n"
       ]
      },
      {
       "output_type": "stream",
       "stream": "stdout",
       "text": [
        "    X and Y axis rotation: 359.98981  359.98981  (degrees  degrees)\n"
       ]
      },
      {
       "output_type": "stream",
       "stream": "stdout",
       "text": [
        "\n"
       ]
      },
      {
       "output_type": "stream",
       "stream": "stdout",
       "text": [
        "Coordinate list: mrgN20151214S0242_trn  Transform: mrgN20151214S0242_trn\n"
       ]
      },
      {
       "output_type": "stream",
       "stream": "stdout",
       "text": [
        "    Results file: tmpres4365_1836\n"
       ]
      },
      {
       "output_type": "stream",
       "stream": "stdout",
       "text": [
        "Coordinate mapping status\n"
       ]
      },
      {
       "output_type": "stream",
       "stream": "stdout",
       "text": [
        "    "
       ]
      },
      {
       "output_type": "stream",
       "stream": "stdout",
       "text": [
        "X fit ok.  Y fit ok.\n"
       ]
      },
      {
       "output_type": "stream",
       "stream": "stdout",
       "text": [
        "    Xin and Yin fit rms: 0.208289  0.2289933\n"
       ]
      },
      {
       "output_type": "stream",
       "stream": "stdout",
       "text": [
        "Coordinate mapping parameters\n"
       ]
      },
      {
       "output_type": "stream",
       "stream": "stdout",
       "text": [
        "    Mean Xref and Yref: 1614.449  1206.717\n"
       ]
      },
      {
       "output_type": "stream",
       "stream": "stdout",
       "text": [
        "    Mean Xin and Yin: 1669.226  1207.285\n"
       ]
      },
      {
       "output_type": "stream",
       "stream": "stdout",
       "text": [
        "    X and Y shift: 54.9104  0.6104736  (xin  yin)\n"
       ]
      },
      {
       "output_type": "stream",
       "stream": "stdout",
       "text": [
        "    X and Y scale: 0.9999383  0.9999383  (xin / xref  yin / yref)\n"
       ]
      },
      {
       "output_type": "stream",
       "stream": "stdout",
       "text": [
        "    X and Y axis rotation: 359.99820  359.99820  (degrees  degrees)\n"
       ]
      },
      {
       "output_type": "stream",
       "stream": "stdout",
       "text": [
        "\n"
       ]
      },
      {
       "output_type": "stream",
       "stream": "stdout",
       "text": [
        "Coordinate list: mrgN20151214S0242_trn  Transform: mrgN20151214S0242_trn\n"
       ]
      },
      {
       "output_type": "stream",
       "stream": "stdout",
       "text": [
        "    Results file: tmpres4365_1836\n"
       ]
      },
      {
       "output_type": "stream",
       "stream": "stdout",
       "text": [
        "Coordinate mapping status\n"
       ]
      },
      {
       "output_type": "stream",
       "stream": "stdout",
       "text": [
        "    "
       ]
      },
      {
       "output_type": "stream",
       "stream": "stdout",
       "text": [
        "X fit ok.  Y fit ok.\n"
       ]
      },
      {
       "output_type": "stream",
       "stream": "stdout",
       "text": [
        "    Xin and Yin fit rms: 0.1786358  0.1967361\n"
       ]
      },
      {
       "output_type": "stream",
       "stream": "stdout",
       "text": [
        "Coordinate mapping parameters\n"
       ]
      },
      {
       "output_type": "stream",
       "stream": "stdout",
       "text": [
        "    Mean Xref and Yref: 1627.382  1217.822\n"
       ]
      },
      {
       "output_type": "stream",
       "stream": "stdout",
       "text": [
        "    Mean Xin and Yin: 1682.166  1218.414\n"
       ]
      },
      {
       "output_type": "stream",
       "stream": "stdout",
       "text": [
        "    X and Y shift: 54.91008  0.6824951  (xin  yin)\n"
       ]
      },
      {
       "output_type": "stream",
       "stream": "stdout",
       "text": [
        "    X and Y scale: 0.9999247  0.9999247  (xin / xref  yin / yref)\n"
       ]
      },
      {
       "output_type": "stream",
       "stream": "stdout",
       "text": [
        "    X and Y axis rotation: 359.99982  359.99982  (degrees  degrees)\n"
       ]
      },
      {
       "output_type": "stream",
       "stream": "stdout",
       "text": [
        "\n",
        "Median sky level for mrgN20151214S0239:   2949.7\n",
        "Transforming mrgN20151214S0240 to mrgN20151214S0240_trn"
       ]
      },
      {
       "output_type": "stream",
       "stream": "stdout",
       "text": [
        "\n",
        "\n",
        "Transforming image mrgN20151214S0240[SCI] to image mrgN20151214S0240_trn\n"
       ]
      },
      {
       "output_type": "stream",
       "stream": "stdout",
       "text": [
        "    Using transform mrgN20151214S0240_trn in database imcoadd.dat\n"
       ]
      },
      {
       "output_type": "stream",
       "stream": "stdout",
       "text": [
        "Median sky level for mrgN20151214S0240:   2990.4\n",
        "Transforming mrgN20151214S0241 to mrgN20151214S0241_trn"
       ]
      },
      {
       "output_type": "stream",
       "stream": "stdout",
       "text": [
        "\n",
        "\n",
        "Transforming image mrgN20151214S0241[SCI] to image mrgN20151214S0241_trn\n"
       ]
      },
      {
       "output_type": "stream",
       "stream": "stdout",
       "text": [
        "    Using transform mrgN20151214S0241_trn in database imcoadd.dat\n"
       ]
      },
      {
       "output_type": "stream",
       "stream": "stdout",
       "text": [
        "Median sky level for mrgN20151214S0241:   2989.4\n",
        "Transforming mrgN20151214S0242 to mrgN20151214S0242_trn"
       ]
      },
      {
       "output_type": "stream",
       "stream": "stdout",
       "text": [
        "\n",
        "\n",
        "Transforming image mrgN20151214S0242[SCI] to image mrgN20151214S0242_trn\n"
       ]
      },
      {
       "output_type": "stream",
       "stream": "stdout",
       "text": [
        "    Using transform mrgN20151214S0242_trn in database imcoadd.dat\n"
       ]
      },
      {
       "output_type": "stream",
       "stream": "stdout",
       "text": [
        "Median sky level for mrgN20151214S0242:   2961.5\n",
        "Median sky level for mrgN20151214S0239:   2949.7"
       ]
      },
      {
       "output_type": "stream",
       "stream": "stdout",
       "text": [
        "\n",
        "Median sky level for mrgN20151214S0240:   2990.4"
       ]
      },
      {
       "output_type": "stream",
       "stream": "stdout",
       "text": [
        "\n",
        "Transforming mrgN20151214S0239badpix +mask to mrgN20151214S0240badpix"
       ]
      },
      {
       "output_type": "stream",
       "stream": "stdout",
       "text": [
        "\n",
        "\n",
        "Transforming image tmpmsk4365_1830 to image mrgN20151214S0240badpix\n"
       ]
      },
      {
       "output_type": "stream",
       "stream": "stdout",
       "text": [
        "    Using transform mrgN20151214S0240_trn in database imcoadd.dat\n"
       ]
      },
      {
       "output_type": "stream",
       "stream": "stdout",
       "text": [
        "Median sky level for mrgN20151214S0241:   2989.4\n",
        "Transforming mrgN20151214S0239badpix +mask to mrgN20151214S0241badpix"
       ]
      },
      {
       "output_type": "stream",
       "stream": "stdout",
       "text": [
        "\n",
        "\n",
        "Transforming image tmpmsk4365_1867 to image mrgN20151214S0241badpix\n"
       ]
      },
      {
       "output_type": "stream",
       "stream": "stdout",
       "text": [
        "    Using transform mrgN20151214S0241_trn in database imcoadd.dat\n"
       ]
      },
      {
       "output_type": "stream",
       "stream": "stdout",
       "text": [
        "Median sky level for mrgN20151214S0242:   2961.5\n",
        "Transforming mrgN20151214S0239badpix +mask to mrgN20151214S0242badpix"
       ]
      },
      {
       "output_type": "stream",
       "stream": "stdout",
       "text": [
        "\n",
        "\n",
        "Transforming image tmpmsk4365_1871 to image mrgN20151214S0242badpix\n"
       ]
      },
      {
       "output_type": "stream",
       "stream": "stdout",
       "text": [
        "    Using transform mrgN20151214S0242_trn in database imcoadd.dat\n"
       ]
      },
      {
       "output_type": "stream",
       "stream": "stdout",
       "text": [
        "\n",
        "Mean intensity for   mrgN20151214S0239_trn:  (N,absolute,relative)=   72  1198598  1.000\n",
        "Mean intensity for   mrgN20151214S0240_trn:  (N,absolute,relative)=   72  1199217  1.001\n",
        "Mean intensity for   mrgN20151214S0241_trn:  (N,absolute,relative)=   72  1201022  1.002"
       ]
      },
      {
       "output_type": "stream",
       "stream": "stdout",
       "text": [
        "\n",
        "Mean intensity for   mrgN20151214S0242_trn:  (N,absolute,relative)=   72  1178268  0.983\n"
       ]
      },
      {
       "output_type": "stream",
       "stream": "stdout",
       "text": [
        "\n",
        "Masking cosmic ray events in mrgN20151214S0239_trn\n"
       ]
      },
      {
       "output_type": "stream",
       "stream": "stdout",
       "text": [
        "Applying growth radius 1\n",
        "Masking cosmic ray events in mrgN20151214S0240_trn"
       ]
      },
      {
       "output_type": "stream",
       "stream": "stdout",
       "text": [
        "\n"
       ]
      },
      {
       "output_type": "stream",
       "stream": "stdout",
       "text": [
        "Applying growth radius 1\n",
        "Masking cosmic ray events in mrgN20151214S0241_trn"
       ]
      },
      {
       "output_type": "stream",
       "stream": "stdout",
       "text": [
        "\n"
       ]
      },
      {
       "output_type": "stream",
       "stream": "stdout",
       "text": [
        "Applying growth radius 1\n",
        "Masking cosmic ray events in mrgN20151214S0242_trn"
       ]
      },
      {
       "output_type": "stream",
       "stream": "stdout",
       "text": [
        "\n"
       ]
      },
      {
       "output_type": "stream",
       "stream": "stdout",
       "text": [
        "Applying growth radius 1\n"
       ]
      },
      {
       "output_type": "stream",
       "stream": "stdout",
       "text": [
        "IMCOADD exit status: good\n",
        "-----------------------------------------------------------------------------\n"
       ]
      }
     ],
     "prompt_number": 18
    },
    {
     "cell_type": "heading",
     "level": 2,
     "metadata": {},
     "source": [
      "STEP 10: Inspect and save product"
     ]
    },
    {
     "cell_type": "code",
     "collapsed": false,
     "input": [
      "iraf.display(science['procsci']+'[sci,1]', 1, \\\n",
      "             zrange='no', zscale='no', z1=2000, z2=10000)\n",
      "\n",
      "shutil.copy(science['procsci'], products_path)\n",
      "\n",
      "# Final reduced image\n",
      "os.listdir(products_path)"
     ],
     "language": "python",
     "metadata": {},
     "outputs": [
      {
       "output_type": "stream",
       "stream": "stdout",
       "text": [
        "z1=2000. z2=10000.\n"
       ]
      },
      {
       "metadata": {},
       "output_type": "pyout",
       "prompt_number": 21,
       "text": [
        "['ngc3310_g.fits', 'ngc3310_i.fits', 'ngc3310_r.fits']"
       ]
      }
     ],
     "prompt_number": 21
    },
    {
     "cell_type": "code",
     "collapsed": false,
     "input": [],
     "language": "python",
     "metadata": {},
     "outputs": []
    }
   ],
   "metadata": {}
  }
 ]
}