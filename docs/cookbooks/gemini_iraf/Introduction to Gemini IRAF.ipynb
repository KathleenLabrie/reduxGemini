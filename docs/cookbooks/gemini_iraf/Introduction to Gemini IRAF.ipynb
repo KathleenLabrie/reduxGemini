{
 "metadata": {
  "name": "",
  "signature": "sha256:83fe9b051e085d7a96b4a2ba29115ee24290fa44400997386f4343c97e27968a"
 },
 "nbformat": 3,
 "nbformat_minor": 0,
 "worksheets": [
  {
   "cells": [
    {
     "cell_type": "code",
     "collapsed": false,
     "input": [],
     "language": "python",
     "metadata": {},
     "outputs": []
    }
   ],
   "metadata": {}
  }
 ]
}