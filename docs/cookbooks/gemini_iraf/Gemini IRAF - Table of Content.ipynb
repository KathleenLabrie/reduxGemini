{
 "metadata": {
  "name": "",
  "signature": "sha256:b88d9e9db8f5822d6bc7cdb3005e70f2fb593b72ec33fb7c4bdbc9fb9a746ca8"
 },
 "nbformat": 3,
 "nbformat_minor": 0,
 "worksheets": [
  {
   "cells": [
    {
     "cell_type": "heading",
     "level": 3,
     "metadata": {},
     "source": [
      "Available Tutorials for Working with Gemini IRAF"
     ]
    },
    {
     "cell_type": "markdown",
     "metadata": {},
     "source": [
      "1. [Introduction to IRAF and PyRAF](Introduction%20to%20IRAF%20and%20PyRAF.ipynb)\n",
      "2. [Introduction to Gemini IRAF](Introduction%20to%20Gemini%20IRAF.ipynb)"
     ]
    },
    {
     "cell_type": "code",
     "collapsed": false,
     "input": [],
     "language": "python",
     "metadata": {},
     "outputs": []
    }
   ],
   "metadata": {}
  }
 ]
}